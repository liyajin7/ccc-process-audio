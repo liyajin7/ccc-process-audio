{
 "cells": [
  {
   "cell_type": "code",
   "execution_count": null,
   "metadata": {
    "tags": []
   },
   "outputs": [],
   "source": [
    "import os, io\n",
    "import gzip\n",
    "import random\n",
    "import pickle\n",
    "import logging\n",
    "\n",
    "import numpy as np\n",
    "import pandas as pd\n",
    "\n",
    "import networkx as nx\n",
    "from networkx.algorithms.community import louvain_communities, modularity, partition_quality\n",
    "\n",
    "import matplotlib as mp\n",
    "%matplotlib inline\n",
    "import matplotlib.pyplot as plt\n",
    "\n",
    "from IPython.display import display\n",
    "from tqdm.notebook import tqdm, trange"
   ]
  },
  {
   "cell_type": "code",
   "execution_count": null,
   "metadata": {
    "tags": []
   },
   "outputs": [],
   "source": [
    "logger = logging.getLogger(__name__)\n",
    "\n",
    "fmt = '%(asctime)s : %(levelname)s : %(message)s'\n",
    "logging.basicConfig(format=fmt, level=logging.INFO)"
   ]
  },
  {
   "cell_type": "code",
   "execution_count": null,
   "metadata": {
    "tags": []
   },
   "outputs": [],
   "source": [
    "pd.set_option('display.float_format', lambda x: '%.3f' % x)"
   ]
  },
  {
   "cell_type": "code",
   "execution_count": null,
   "metadata": {
    "tags": []
   },
   "outputs": [],
   "source": [
    "os.chdir(os.path.expanduser('~/github/masthesis/'))"
   ]
  },
  {
   "cell_type": "code",
   "execution_count": null,
   "metadata": {
    "tags": []
   },
   "outputs": [],
   "source": [
    "seed = 2969591811\n",
    "\n",
    "random.seed(seed)\n",
    "np.random.seed(seed)"
   ]
  },
  {
   "cell_type": "markdown",
   "metadata": {
    "tags": []
   },
   "source": [
    "# Load data"
   ]
  },
  {
   "cell_type": "code",
   "execution_count": null,
   "metadata": {
    "tags": []
   },
   "outputs": [],
   "source": [
    "with gzip.open('data/paper-round-3/event-annotated/auto-sample.csv.gz', 'rt') as f:\n",
    "    dat = pd.read_csv(f, parse_dates=['timestamp'])\n",
    "\n",
    "assert dat['id'].nunique() == dat.shape[0]"
   ]
  },
  {
   "cell_type": "code",
   "execution_count": null,
   "metadata": {
    "tags": []
   },
   "outputs": [],
   "source": [
    "thresholds = pd.read_csv('data/paper-round-3/event-annotated/auto-sample-sim-thresholds.csv')\n",
    "thresholds.rename({'split': 'kind'}, axis=1, inplace=True)\n",
    "\n",
    "thresholds['old_threshold'] = thresholds['threshold']\n",
    "\n",
    "thresholds['threshold_num_sds'] = 5\n",
    "# thresholds.loc[(thresholds['kind'] == 'radio') & (thresholds['year'] == 2022), 'threshold_num_sds'] = 3\n",
    "thresholds['threshold'] = thresholds['mean'] + thresholds['threshold_num_sds'] * thresholds['sd']\n",
    "\n",
    "# assert (thresholds['threshold'] >= thresholds['old_threshold'] - thresholds['sd']).all()  # edges above this value are kept\n",
    "thresholds.drop('old_threshold', axis=1, inplace=True)"
   ]
  },
  {
   "cell_type": "code",
   "execution_count": null,
   "metadata": {},
   "outputs": [],
   "source": [
    "edges = []\n",
    "with tqdm() as pbar:\n",
    "    for root, dirs, files in os.walk('data/paper-round-3/event-annotated/auto-sample-sim-edges/'):\n",
    "        for name in sorted(files):\n",
    "            try:\n",
    "                if name.startswith('2022-'):\n",
    "                    continue\n",
    "                \n",
    "                with gzip.open(os.path.join(root, name), 'rt') as f:\n",
    "                    tmp = pd.read_csv(f, dtype={'kind': 'category'})\n",
    "\n",
    "                if tmp.shape[0] == 0:\n",
    "                    continue\n",
    "                \n",
    "                assert tmp['year'].notna().all()\n",
    "                assert tmp['kind'].notna().all()                    \n",
    "\n",
    "                tmp['year'] = tmp['year'].astype(int)\n",
    "\n",
    "                year, kind = tmp.iloc[0]['year'], tmp.iloc[0]['kind']\n",
    "                threshold = thresholds.loc[(thresholds['year'] == year) & (thresholds['kind'] == kind), 'threshold'].item()\n",
    "                tmp.drop(tmp.index[tmp['sim'] < threshold], axis=0, inplace=True)\n",
    "                tmp['threshold'] = threshold\n",
    "                \n",
    "                edges += [tmp]\n",
    "                    \n",
    "                pbar.update(1)\n",
    "            except Exception as exc:\n",
    "                print(root, name)\n",
    "                raise\n",
    "\n",
    "edges = pd.concat(edges, axis=0)\n",
    "\n",
    "assert edges['source'].isin(dat['id']).all()\n",
    "assert edges['target'].isin(dat['id']).all()"
   ]
  },
  {
   "cell_type": "markdown",
   "metadata": {},
   "source": [
    "## Examine"
   ]
  },
  {
   "cell_type": "code",
   "execution_count": null,
   "metadata": {
    "tags": []
   },
   "outputs": [],
   "source": [
    "thresholds"
   ]
  },
  {
   "cell_type": "code",
   "execution_count": null,
   "metadata": {
    "tags": []
   },
   "outputs": [],
   "source": [
    "dat.groupby(['year', 'kind']).size()"
   ]
  },
  {
   "cell_type": "code",
   "execution_count": null,
   "metadata": {
    "tags": []
   },
   "outputs": [],
   "source": [
    "edges.groupby(['kind']).size()"
   ]
  },
  {
   "cell_type": "code",
   "execution_count": null,
   "metadata": {
    "tags": []
   },
   "outputs": [],
   "source": [
    "edges.groupby(['kind', 'year']).size()"
   ]
  },
  {
   "cell_type": "code",
   "execution_count": null,
   "metadata": {
    "tags": []
   },
   "outputs": [],
   "source": [
    "edges.groupby(['kind'])['sim'].describe()"
   ]
  },
  {
   "cell_type": "code",
   "execution_count": null,
   "metadata": {
    "tags": []
   },
   "outputs": [],
   "source": [
    "edges.groupby(['kind', 'year'])['sim'].describe()"
   ]
  },
  {
   "cell_type": "code",
   "execution_count": null,
   "metadata": {
    "tags": []
   },
   "outputs": [],
   "source": [
    "edges.loc[edges['sim'] >= edges['threshold']].groupby(['kind']).size()"
   ]
  },
  {
   "cell_type": "code",
   "execution_count": null,
   "metadata": {
    "tags": []
   },
   "outputs": [],
   "source": [
    "edges.loc[edges['sim'] >= edges['threshold']].groupby(['kind', 'year']).size()"
   ]
  },
  {
   "cell_type": "code",
   "execution_count": null,
   "metadata": {
    "tags": []
   },
   "outputs": [],
   "source": [
    "tmp = edges.sample(10000)"
   ]
  },
  {
   "cell_type": "code",
   "execution_count": null,
   "metadata": {
    "tags": []
   },
   "outputs": [],
   "source": [
    "tmp['sim'].hist(by=[tmp['kind']], bins=50, figsize=(15, 5), layout=(1, 3))"
   ]
  },
  {
   "cell_type": "code",
   "execution_count": null,
   "metadata": {
    "tags": []
   },
   "outputs": [],
   "source": [
    "tmp['sim'].hist(by=[tmp['kind'], tmp['year']], bins=50, figsize=(15, 20), layout=(4, 3))"
   ]
  },
  {
   "cell_type": "markdown",
   "metadata": {},
   "source": [
    "# Find communities"
   ]
  },
  {
   "cell_type": "code",
   "execution_count": null,
   "metadata": {
    "tags": []
   },
   "outputs": [],
   "source": [
    "cache_dir = 'data/paper-round-3/event-annotated/auto-sample-communities/'\n",
    "os.makedirs(cache_dir, exist_ok=True)"
   ]
  },
  {
   "cell_type": "code",
   "execution_count": null,
   "metadata": {
    "tags": []
   },
   "outputs": [],
   "source": [
    "for kind in tqdm(edges.loc[edges['sim'] >= edges['threshold'], 'kind'].unique()):\n",
    "    for year in tqdm(edges.loc[(edges['sim'] >= edges['threshold']) & (edges['kind'] == kind), 'year'].unique()):\n",
    "        spec = (kind, year)\n",
    "\n",
    "        pth = os.path.join(cache_dir, '-'.join([str(s) for s in spec]) + '.pkl')\n",
    "        if os.path.exists(pth):\n",
    "            logger.warning(f'File {pth} exists; skipping')\n",
    "            continue\n",
    "        \n",
    "        try:\n",
    "            G = nx.from_pandas_edgelist(\n",
    "                edges.loc[(edges['sim'] >= edges['threshold']) & (edges['kind'] == kind) & (edges['year'] == year), :],\n",
    "                edge_attr='sim',\n",
    "                create_using=nx.Graph\n",
    "            )\n",
    "\n",
    "            tmp_G_stats = (G.order(), G.size())\n",
    "\n",
    "            tmp_comps = sorted(list(nx.connected_components(G)), key=len, reverse=True)\n",
    "\n",
    "            comp_lens = pd.Series(len(c) for c in tmp_comps)\n",
    "\n",
    "            min_comp_size = 300\n",
    "            max_comp = comp_lens[comp_lens >= min_comp_size].index.max()\n",
    "\n",
    "            tmp_comms, tmp_comm_stats = [], {}\n",
    "            for i, c in enumerate(tmp_comps[0:max_comp+1]):\n",
    "                comp_comms = louvain_communities(\n",
    "                    G.subgraph(c),\n",
    "                    weight='sim',\n",
    "                    resolution=1,\n",
    "                    seed=seed,\n",
    "                )\n",
    "\n",
    "                mod = modularity(G.subgraph(c), comp_comms)\n",
    "                modw = modularity(G.subgraph(c), comp_comms, weight='sim')\n",
    "                pq = partition_quality(G.subgraph(c), comp_comms)\n",
    "\n",
    "                tmp_comms += comp_comms\n",
    "                tmp_comm_stats[tuple(list(spec) + [i])] = {\n",
    "                    'modularity': mod,\n",
    "                    'modularity_weighted': modw,\n",
    "                    'coverage': pq[0],\n",
    "                    'performance': pq[1],\n",
    "                }\n",
    "        except Exception as exc:\n",
    "            logger.exception(f'failed on community finding for {spec}')\n",
    "            raise\n",
    "        else:\n",
    "            with open(pth, 'wb') as f:\n",
    "                pickle.dump(\n",
    "                    (tmp_G_stats, tmp_comm_stats, tmp_comps, tmp_comms),\n",
    "                    f\n",
    "                )"
   ]
  },
  {
   "cell_type": "code",
   "execution_count": null,
   "metadata": {
    "tags": []
   },
   "outputs": [],
   "source": [
    "G_stats, comm_stats, comps, comms = {}, {}, {}, {}\n",
    "for kind in tqdm(edges.loc[edges['sim'] >= edges['threshold'], 'kind'].unique()):\n",
    "    for year in tqdm(edges.loc[(edges['sim'] >= edges['threshold']) & (edges['kind'] == kind), 'year'].unique()):\n",
    "        spec = (kind, year)\n",
    "\n",
    "        pth = os.path.join(cache_dir, '-'.join([str(s) for s in spec]) + '.pkl')\n",
    "        if not os.path.exists(pth):\n",
    "            raise RuntimeError(f'File {pth} does not exist')\n",
    "        \n",
    "        with open(pth, 'rb') as f:\n",
    "            tmp_G_stats, tmp_comm_stats, tmp_comps, tmp_comms = pickle.load(f)\n",
    "            \n",
    "            G_stats[spec] = tmp_G_stats\n",
    "            comps[spec] = tmp_comps\n",
    "            comms[spec] = tmp_comms\n",
    "            comm_stats.update(tmp_comm_stats)"
   ]
  },
  {
   "cell_type": "markdown",
   "metadata": {},
   "source": [
    "# Inspect"
   ]
  },
  {
   "cell_type": "markdown",
   "metadata": {},
   "source": [
    "## Graph sizes"
   ]
  },
  {
   "cell_type": "code",
   "execution_count": null,
   "metadata": {
    "tags": []
   },
   "outputs": [],
   "source": [
    "G_stats = pd.DataFrame(G_stats).T.rename({0: 'order', 1: 'size'}, axis=1)"
   ]
  },
  {
   "cell_type": "code",
   "execution_count": null,
   "metadata": {
    "tags": []
   },
   "outputs": [],
   "source": [
    "G_stats"
   ]
  },
  {
   "cell_type": "markdown",
   "metadata": {},
   "source": [
    "## Components"
   ]
  },
  {
   "cell_type": "code",
   "execution_count": null,
   "metadata": {
    "tags": []
   },
   "outputs": [],
   "source": [
    "comp_lens = {\n",
    "    k : pd.Series(len(c) for c in v)\n",
    "    for k, v in comps.items()\n",
    "}"
   ]
  },
  {
   "cell_type": "code",
   "execution_count": null,
   "metadata": {
    "tags": []
   },
   "outputs": [],
   "source": [
    "pd.DataFrame({ k : v.describe() for k, v in comp_lens.items() }).T"
   ]
  },
  {
   "cell_type": "code",
   "execution_count": null,
   "metadata": {
    "tags": []
   },
   "outputs": [],
   "source": [
    "pd.DataFrame({ k : v.head(15) for k, v in comp_lens.items() }).T"
   ]
  },
  {
   "cell_type": "markdown",
   "metadata": {},
   "source": [
    "## Communities"
   ]
  },
  {
   "cell_type": "code",
   "execution_count": null,
   "metadata": {
    "tags": []
   },
   "outputs": [],
   "source": [
    "comm_lens = {\n",
    "    k : pd.Series(len(c) for c in v)\n",
    "    for k, v in comms.items()\n",
    "}"
   ]
  },
  {
   "cell_type": "code",
   "execution_count": null,
   "metadata": {
    "tags": []
   },
   "outputs": [],
   "source": [
    "pd.DataFrame({ k : v.describe() for k, v in comm_lens.items() }).T"
   ]
  },
  {
   "cell_type": "code",
   "execution_count": null,
   "metadata": {
    "tags": []
   },
   "outputs": [],
   "source": [
    "comm_stats = pd.DataFrame(comm_stats).T"
   ]
  },
  {
   "cell_type": "code",
   "execution_count": null,
   "metadata": {
    "tags": []
   },
   "outputs": [],
   "source": [
    "comm_stats"
   ]
  },
  {
   "cell_type": "markdown",
   "metadata": {},
   "source": [
    "# Assemble communities"
   ]
  },
  {
   "cell_type": "code",
   "execution_count": null,
   "metadata": {
    "tags": []
   },
   "outputs": [],
   "source": [
    "assignments = []\n",
    "\n",
    "for (k, y), obj in comms.items():\n",
    "    for i, c in enumerate(obj):\n",
    "        for idv in c:\n",
    "            assignments += [{\n",
    "                'kind': k,\n",
    "                'year': y,\n",
    "                'group': i,\n",
    "                'id': idv,\n",
    "            }]\n",
    "\n",
    "assignments = pd.DataFrame(assignments)\n",
    "assert assignments[['kind', 'year', 'id']].duplicated().sum() == 0"
   ]
  },
  {
   "cell_type": "code",
   "execution_count": null,
   "metadata": {},
   "outputs": [],
   "source": [
    "# tmp = dat.loc[dat['id'].isin(assignments['id'])]\n",
    "# tmp['reltime'].hist(by=tmp['year'])"
   ]
  },
  {
   "cell_type": "markdown",
   "metadata": {},
   "source": [
    "# Write them out"
   ]
  },
  {
   "cell_type": "code",
   "execution_count": null,
   "metadata": {
    "tags": []
   },
   "outputs": [],
   "source": [
    "with gzip.open('data/paper-round-3/event-annotated/auto-sample-communities.csv.gz', 'wt') as f:\n",
    "    assignments.to_csv(f, index=False)"
   ]
  },
  {
   "cell_type": "code",
   "execution_count": null,
   "metadata": {},
   "outputs": [],
   "source": []
  }
 ],
 "metadata": {
  "kernelspec": {
   "display_name": "DL",
   "language": "python",
   "name": "dl"
  },
  "language_info": {
   "codemirror_mode": {
    "name": "ipython",
    "version": 3
   },
   "file_extension": ".py",
   "mimetype": "text/x-python",
   "name": "python",
   "nbconvert_exporter": "python",
   "pygments_lexer": "ipython3",
   "version": "3.10.10"
  },
  "widgets": {
   "application/vnd.jupyter.widget-state+json": {
    "state": {
     "00c058942c6e409981691281e47e711f": {
      "model_module": "@jupyter-widgets/controls",
      "model_module_version": "2.0.0",
      "model_name": "HTMLModel",
      "state": {
       "layout": "IPY_MODEL_ec398b6eda1c4a53b580a16098819b9a",
       "style": "IPY_MODEL_fb3de1e5d8b543dd948638e1618beec7",
       "value": " 3/3 [00:01&lt;00:00,  2.52it/s]"
      }
     },
     "00f0a6303176451491bee40b7946f502": {
      "model_module": "@jupyter-widgets/controls",
      "model_module_version": "2.0.0",
      "model_name": "HTMLModel",
      "state": {
       "layout": "IPY_MODEL_0c2d8a992dc54add94c62b885a796356",
       "style": "IPY_MODEL_117ef1a13ba34fc08c756a28d7fce1e9",
       "value": " 0/1 [00:00&lt;?, ?it/s]"
      }
     },
     "012e7bf75b614760bff10f54bc0bdb2b": {
      "model_module": "@jupyter-widgets/controls",
      "model_module_version": "2.0.0",
      "model_name": "HTMLModel",
      "state": {
       "layout": "IPY_MODEL_61979084eba048fe8f847f43fa8278f9",
       "style": "IPY_MODEL_7228d48464564d4994e7b58569476a87",
       "value": " 0/1 [00:00&lt;?, ?it/s]"
      }
     },
     "0280be68a92f48da9b952d2caa77ef48": {
      "model_module": "@jupyter-widgets/base",
      "model_module_version": "2.0.0",
      "model_name": "LayoutModel",
      "state": {}
     },
     "0320f88b67924f3bb152b2d951bf86fd": {
      "model_module": "@jupyter-widgets/controls",
      "model_module_version": "2.0.0",
      "model_name": "ProgressStyleModel",
      "state": {
       "description_width": ""
      }
     },
     "09708da3b774466d9a5b929365462f16": {
      "model_module": "@jupyter-widgets/controls",
      "model_module_version": "2.0.0",
      "model_name": "ProgressStyleModel",
      "state": {
       "description_width": ""
      }
     },
     "0c2d8a992dc54add94c62b885a796356": {
      "model_module": "@jupyter-widgets/base",
      "model_module_version": "2.0.0",
      "model_name": "LayoutModel",
      "state": {}
     },
     "0c3302b092b94e20b903c9525ce00083": {
      "model_module": "@jupyter-widgets/controls",
      "model_module_version": "2.0.0",
      "model_name": "FloatProgressModel",
      "state": {
       "bar_style": "success",
       "layout": "IPY_MODEL_274a65f5b5104b74846bcdfd56543fba",
       "max": 1,
       "style": "IPY_MODEL_0320f88b67924f3bb152b2d951bf86fd",
       "value": 1
      }
     },
     "0da0bfe599694bb69f91b8774af7f187": {
      "model_module": "@jupyter-widgets/controls",
      "model_module_version": "2.0.0",
      "model_name": "HTMLStyleModel",
      "state": {
       "description_width": "",
       "font_size": null,
       "text_color": null
      }
     },
     "0eafadb74b544331b05797a88438fc54": {
      "model_module": "@jupyter-widgets/controls",
      "model_module_version": "2.0.0",
      "model_name": "HTMLModel",
      "state": {
       "layout": "IPY_MODEL_208d29f51e8e4e9bb781a885e7d6ece7",
       "style": "IPY_MODEL_cff8241a7e2e4e05a4fb50b2757e4f24",
       "value": " 3/3 [00:25&lt;00:00,  8.18s/it]"
      }
     },
     "0f750e9ebae246b7b7630de8d78919ef": {
      "model_module": "@jupyter-widgets/base",
      "model_module_version": "2.0.0",
      "model_name": "LayoutModel",
      "state": {}
     },
     "10955347b44f4410be87ce6e8ee3cdad": {
      "model_module": "@jupyter-widgets/controls",
      "model_module_version": "2.0.0",
      "model_name": "FloatProgressModel",
      "state": {
       "bar_style": "danger",
       "layout": "IPY_MODEL_8e74eb743bf541ba8a773c0378a15414",
       "max": 1,
       "style": "IPY_MODEL_8eb6c2c1e09f4dac9e2e0a547ffe576f"
      }
     },
     "11162c54a3614fe4a251310d11774006": {
      "model_module": "@jupyter-widgets/controls",
      "model_module_version": "2.0.0",
      "model_name": "HTMLStyleModel",
      "state": {
       "description_width": "",
       "font_size": null,
       "text_color": null
      }
     },
     "117ef1a13ba34fc08c756a28d7fce1e9": {
      "model_module": "@jupyter-widgets/controls",
      "model_module_version": "2.0.0",
      "model_name": "HTMLStyleModel",
      "state": {
       "description_width": "",
       "font_size": null,
       "text_color": null
      }
     },
     "11e7109538ca4ee99ea42670dcea162b": {
      "model_module": "@jupyter-widgets/controls",
      "model_module_version": "2.0.0",
      "model_name": "ProgressStyleModel",
      "state": {
       "description_width": ""
      }
     },
     "12100f6a6b0f4612a4429aa1b0aa9800": {
      "model_module": "@jupyter-widgets/controls",
      "model_module_version": "2.0.0",
      "model_name": "HBoxModel",
      "state": {
       "children": [
        "IPY_MODEL_d5bdf135337f46479e43ad85f720ec66",
        "IPY_MODEL_181b8a786df24e098f7f35cae2e6a75a",
        "IPY_MODEL_768fc13540c64ad1b8486b8f79b8e921"
       ],
       "layout": "IPY_MODEL_d79447f6f74f48b381bf4cc381d07c90"
      }
     },
     "12166c6d6b164a2191dff53e7d295f77": {
      "model_module": "@jupyter-widgets/controls",
      "model_module_version": "2.0.0",
      "model_name": "HTMLStyleModel",
      "state": {
       "description_width": "",
       "font_size": null,
       "text_color": null
      }
     },
     "125bb89ce0144d81a2c17a18f515d8d7": {
      "model_module": "@jupyter-widgets/controls",
      "model_module_version": "2.0.0",
      "model_name": "HBoxModel",
      "state": {
       "children": [
        "IPY_MODEL_73ea820a98c74376b2a2ac0c674caa90",
        "IPY_MODEL_3101c6aa96b34bcd9601ab80def3d0d2",
        "IPY_MODEL_b6c4e9fc458d4af799762fd66000dac0"
       ],
       "layout": "IPY_MODEL_9f26af0b95b14faeb4cecb93f1c48b7b"
      }
     },
     "1361d113cab04d5dbabad809057c4d2b": {
      "model_module": "@jupyter-widgets/base",
      "model_module_version": "2.0.0",
      "model_name": "LayoutModel",
      "state": {}
     },
     "153b817704db48eab71c0d986550733b": {
      "model_module": "@jupyter-widgets/base",
      "model_module_version": "2.0.0",
      "model_name": "LayoutModel",
      "state": {}
     },
     "15cf040faf1d4cc88aeff82610698b62": {
      "model_module": "@jupyter-widgets/controls",
      "model_module_version": "2.0.0",
      "model_name": "ProgressStyleModel",
      "state": {
       "description_width": ""
      }
     },
     "1766307cd12e4a42aee2d0c96b9e4faf": {
      "model_module": "@jupyter-widgets/base",
      "model_module_version": "2.0.0",
      "model_name": "LayoutModel",
      "state": {}
     },
     "181b8a786df24e098f7f35cae2e6a75a": {
      "model_module": "@jupyter-widgets/controls",
      "model_module_version": "2.0.0",
      "model_name": "FloatProgressModel",
      "state": {
       "bar_style": "success",
       "layout": "IPY_MODEL_470c3d421dec41d7a72a0259780da1ac",
       "max": 1,
       "style": "IPY_MODEL_5c493ce0d4554f59842fbb99e0ec964a",
       "value": 1
      }
     },
     "183dbdc79a9741b9a4f9e89d86e04b4e": {
      "model_module": "@jupyter-widgets/controls",
      "model_module_version": "2.0.0",
      "model_name": "HTMLModel",
      "state": {
       "layout": "IPY_MODEL_25ce4d1e74904fe4a543ef78ba7571c3",
       "style": "IPY_MODEL_b9c826d21baf4457b03eb43fbf7bb983",
       "value": " 3/3 [00:04&lt;00:00,  1.26s/it]"
      }
     },
     "18b7af88acf942adb1b7e5df5937a1f7": {
      "model_module": "@jupyter-widgets/controls",
      "model_module_version": "2.0.0",
      "model_name": "HTMLModel",
      "state": {
       "layout": "IPY_MODEL_5f05b33d1f3f4607876193807dc47444",
       "style": "IPY_MODEL_27608fa099c84e459fce676a6e208f47",
       "value": " 11703/? [42:30&lt;00:00, 79.45it/s]"
      }
     },
     "19f7cb9d9f36442bb13009ae82b9f8ab": {
      "model_module": "@jupyter-widgets/base",
      "model_module_version": "2.0.0",
      "model_name": "LayoutModel",
      "state": {}
     },
     "1a642ab6f61c4718be8b3c232663b912": {
      "model_module": "@jupyter-widgets/controls",
      "model_module_version": "2.0.0",
      "model_name": "HTMLModel",
      "state": {
       "layout": "IPY_MODEL_1361d113cab04d5dbabad809057c4d2b",
       "style": "IPY_MODEL_65c48d303ebf47f8be533229ff5ad6f8",
       "value": " 3/3 [08:01&lt;00:00, 148.44s/it]"
      }
     },
     "1c9caab97bf14255b98b25ab4695a5c7": {
      "model_module": "@jupyter-widgets/controls",
      "model_module_version": "2.0.0",
      "model_name": "FloatProgressModel",
      "state": {
       "bar_style": "success",
       "layout": "IPY_MODEL_23f7a4e6446b4382a56346b75cd67883",
       "max": 3,
       "style": "IPY_MODEL_864711f932a44c4c9460d31fdcbe5e84",
       "value": 3
      }
     },
     "1dc349af59c94ed6be413a51e89e8a4c": {
      "model_module": "@jupyter-widgets/controls",
      "model_module_version": "2.0.0",
      "model_name": "HBoxModel",
      "state": {
       "children": [
        "IPY_MODEL_a9f0fb243260452097872ae4ff8aab22",
        "IPY_MODEL_86b3e6d34eb2447a81b3225c69ac6ba5",
        "IPY_MODEL_183dbdc79a9741b9a4f9e89d86e04b4e"
       ],
       "layout": "IPY_MODEL_0f750e9ebae246b7b7630de8d78919ef"
      }
     },
     "1e8aff29a141437eb65f731e289de407": {
      "model_module": "@jupyter-widgets/controls",
      "model_module_version": "2.0.0",
      "model_name": "ProgressStyleModel",
      "state": {
       "description_width": ""
      }
     },
     "1fab455341974c7f86e98b8bcacff7cd": {
      "model_module": "@jupyter-widgets/base",
      "model_module_version": "2.0.0",
      "model_name": "LayoutModel",
      "state": {}
     },
     "2024cef0516c449b9616bf74e7f6f976": {
      "model_module": "@jupyter-widgets/controls",
      "model_module_version": "2.0.0",
      "model_name": "HBoxModel",
      "state": {
       "children": [
        "IPY_MODEL_f135b802bf584478a9a87f03ef432606",
        "IPY_MODEL_847e1397dbfb4b2abb3a286aa2a07687",
        "IPY_MODEL_012e7bf75b614760bff10f54bc0bdb2b"
       ],
       "layout": "IPY_MODEL_ac61f502ce1a4a7a937a32fe56d7602b"
      }
     },
     "208d29f51e8e4e9bb781a885e7d6ece7": {
      "model_module": "@jupyter-widgets/base",
      "model_module_version": "2.0.0",
      "model_name": "LayoutModel",
      "state": {}
     },
     "2202357c139f47e9bf7873545f44f0bf": {
      "model_module": "@jupyter-widgets/controls",
      "model_module_version": "2.0.0",
      "model_name": "HBoxModel",
      "state": {
       "children": [
        "IPY_MODEL_a8a17cbdef01427f9e05a170c13ddf06",
        "IPY_MODEL_9d039f6d262e49eea4d1417fbcdb6512",
        "IPY_MODEL_e43533444a464608b1106d279df0d269"
       ],
       "layout": "IPY_MODEL_e058272ab9fa4011b780e9c359acfbd6"
      }
     },
     "23d296437ec64c53a60ecb7b9961ca97": {
      "model_module": "@jupyter-widgets/controls",
      "model_module_version": "2.0.0",
      "model_name": "HTMLModel",
      "state": {
       "layout": "IPY_MODEL_95b3fc8d6605415ebb4142181b6ae7bc",
       "style": "IPY_MODEL_ac2866a1125c475f939e0d41b096dd0d",
       "value": " 0/1 [00:00&lt;?, ?it/s]"
      }
     },
     "23f7a4e6446b4382a56346b75cd67883": {
      "model_module": "@jupyter-widgets/base",
      "model_module_version": "2.0.0",
      "model_name": "LayoutModel",
      "state": {}
     },
     "25ce4d1e74904fe4a543ef78ba7571c3": {
      "model_module": "@jupyter-widgets/base",
      "model_module_version": "2.0.0",
      "model_name": "LayoutModel",
      "state": {}
     },
     "25e66fd5df71453e9e7e0993cf6de4fb": {
      "model_module": "@jupyter-widgets/controls",
      "model_module_version": "2.0.0",
      "model_name": "HTMLModel",
      "state": {
       "layout": "IPY_MODEL_4cdd6fb53a74466796b726e6f58c35c4",
       "style": "IPY_MODEL_51459099d698438487739363e9bac308",
       "value": "100%"
      }
     },
     "2718f65efd634029ab932afba157b683": {
      "model_module": "@jupyter-widgets/base",
      "model_module_version": "2.0.0",
      "model_name": "LayoutModel",
      "state": {}
     },
     "274a65f5b5104b74846bcdfd56543fba": {
      "model_module": "@jupyter-widgets/base",
      "model_module_version": "2.0.0",
      "model_name": "LayoutModel",
      "state": {
       "width": "20px"
      }
     },
     "27608fa099c84e459fce676a6e208f47": {
      "model_module": "@jupyter-widgets/controls",
      "model_module_version": "2.0.0",
      "model_name": "HTMLStyleModel",
      "state": {
       "description_width": "",
       "font_size": null,
       "text_color": null
      }
     },
     "27653c2d900e4d818a07f5f87d1a36b9": {
      "model_module": "@jupyter-widgets/controls",
      "model_module_version": "2.0.0",
      "model_name": "FloatProgressModel",
      "state": {
       "bar_style": "success",
       "layout": "IPY_MODEL_eb0b53fa9aa346e8876bbcb65f2eceb2",
       "max": 3,
       "style": "IPY_MODEL_09708da3b774466d9a5b929365462f16",
       "value": 3
      }
     },
     "2794d3a91d5f421c9cf2952d8a9a55c8": {
      "model_module": "@jupyter-widgets/controls",
      "model_module_version": "2.0.0",
      "model_name": "HTMLStyleModel",
      "state": {
       "description_width": "",
       "font_size": null,
       "text_color": null
      }
     },
     "28f866d8603942b7829908d7b3b9899c": {
      "model_module": "@jupyter-widgets/controls",
      "model_module_version": "2.0.0",
      "model_name": "FloatProgressModel",
      "state": {
       "bar_style": "success",
       "layout": "IPY_MODEL_9e36d4fa46ba4faa8cc21ed3b296b893",
       "max": 1,
       "style": "IPY_MODEL_49f3c5cc020c48a6934b6a0cd33c71c0",
       "value": 1
      }
     },
     "298c87e84b3f481c93192c0617e154bc": {
      "model_module": "@jupyter-widgets/base",
      "model_module_version": "2.0.0",
      "model_name": "LayoutModel",
      "state": {
       "width": "20px"
      }
     },
     "2997106d9b5a407aa3aaec02c54f97b4": {
      "model_module": "@jupyter-widgets/controls",
      "model_module_version": "2.0.0",
      "model_name": "HTMLModel",
      "state": {
       "layout": "IPY_MODEL_2718f65efd634029ab932afba157b683",
       "style": "IPY_MODEL_acea6216f7f24b10a08d7ed2e4150a18",
       "value": " 0/1 [00:00&lt;?, ?it/s]"
      }
     },
     "2d4525787eb944e5a81957536c45081c": {
      "model_module": "@jupyter-widgets/base",
      "model_module_version": "2.0.0",
      "model_name": "LayoutModel",
      "state": {}
     },
     "2de6b3b2353947ffb4514a3460e52759": {
      "model_module": "@jupyter-widgets/base",
      "model_module_version": "2.0.0",
      "model_name": "LayoutModel",
      "state": {}
     },
     "2ec68dc8762043d08ae415c624c63970": {
      "model_module": "@jupyter-widgets/controls",
      "model_module_version": "2.0.0",
      "model_name": "HTMLStyleModel",
      "state": {
       "description_width": "",
       "font_size": null,
       "text_color": null
      }
     },
     "2fedcb06c15c41a498f825a10bc319cd": {
      "model_module": "@jupyter-widgets/controls",
      "model_module_version": "2.0.0",
      "model_name": "HTMLModel",
      "state": {
       "layout": "IPY_MODEL_ffd94e5deba041e59a2469f08ac94854",
       "style": "IPY_MODEL_9ceb597a84644e38989a18c71fb23078",
       "value": " 316/? [00:10&lt;00:00, 87.65it/s]"
      }
     },
     "30f5806e37a24d53ba3868e04903a84a": {
      "model_module": "@jupyter-widgets/base",
      "model_module_version": "2.0.0",
      "model_name": "LayoutModel",
      "state": {}
     },
     "3101c6aa96b34bcd9601ab80def3d0d2": {
      "model_module": "@jupyter-widgets/controls",
      "model_module_version": "2.0.0",
      "model_name": "FloatProgressModel",
      "state": {
       "bar_style": "success",
       "layout": "IPY_MODEL_38fda8dcde85421a839a4d7fe21d7352",
       "max": 1,
       "style": "IPY_MODEL_11e7109538ca4ee99ea42670dcea162b",
       "value": 1
      }
     },
     "32b82624664c40be9c4b32ea8fadd601": {
      "model_module": "@jupyter-widgets/controls",
      "model_module_version": "2.0.0",
      "model_name": "HTMLModel",
      "state": {
       "layout": "IPY_MODEL_c52d974942d34520a97a0066409f251a",
       "style": "IPY_MODEL_e39561a7338a4b16a718987f294ef78e",
       "value": "100%"
      }
     },
     "33e55457427d401e891dbcb7b184ed45": {
      "model_module": "@jupyter-widgets/base",
      "model_module_version": "2.0.0",
      "model_name": "LayoutModel",
      "state": {}
     },
     "33fe76472259419fbd0a618192a62f76": {
      "model_module": "@jupyter-widgets/controls",
      "model_module_version": "2.0.0",
      "model_name": "ProgressStyleModel",
      "state": {
       "description_width": ""
      }
     },
     "359b5d41978941148f097f76a5b2565b": {
      "model_module": "@jupyter-widgets/base",
      "model_module_version": "2.0.0",
      "model_name": "LayoutModel",
      "state": {}
     },
     "35b236b42f8a4802b6f605e421545155": {
      "model_module": "@jupyter-widgets/controls",
      "model_module_version": "2.0.0",
      "model_name": "HTMLStyleModel",
      "state": {
       "description_width": "",
       "font_size": null,
       "text_color": null
      }
     },
     "36790e409fa0473887cad2aa771140fc": {
      "model_module": "@jupyter-widgets/base",
      "model_module_version": "2.0.0",
      "model_name": "LayoutModel",
      "state": {}
     },
     "36b956881afc4c57869b2f1061e02c51": {
      "model_module": "@jupyter-widgets/controls",
      "model_module_version": "2.0.0",
      "model_name": "HBoxModel",
      "state": {
       "children": [
        "IPY_MODEL_25e66fd5df71453e9e7e0993cf6de4fb",
        "IPY_MODEL_27653c2d900e4d818a07f5f87d1a36b9",
        "IPY_MODEL_1a642ab6f61c4718be8b3c232663b912"
       ],
       "layout": "IPY_MODEL_c562d269c3bb493592615fc24102411a"
      }
     },
     "385dfa360bfa4ddc8b400d5667306f23": {
      "model_module": "@jupyter-widgets/base",
      "model_module_version": "2.0.0",
      "model_name": "LayoutModel",
      "state": {}
     },
     "38fda8dcde85421a839a4d7fe21d7352": {
      "model_module": "@jupyter-widgets/base",
      "model_module_version": "2.0.0",
      "model_name": "LayoutModel",
      "state": {}
     },
     "390c54b49159465cb72e113f8c416c9f": {
      "model_module": "@jupyter-widgets/controls",
      "model_module_version": "2.0.0",
      "model_name": "FloatProgressModel",
      "state": {
       "bar_style": "success",
       "layout": "IPY_MODEL_cedeaa4e97b64f6d996fa6315175387d",
       "max": 3,
       "style": "IPY_MODEL_6aed95efdb1f4184accdd6e3578418a3",
       "value": 3
      }
     },
     "3c686f9b63fa4d5a952280770ab20330": {
      "model_module": "@jupyter-widgets/controls",
      "model_module_version": "2.0.0",
      "model_name": "HBoxModel",
      "state": {
       "children": [
        "IPY_MODEL_923bb1af25e84c7abde597ae54bd24ab",
        "IPY_MODEL_9df9378a6f804e04b8ca563ddbffdcf0",
        "IPY_MODEL_45d0f8c826404ec08b54677f1f2d1104"
       ],
       "layout": "IPY_MODEL_73e392f2810e43cc90442fc1b537b4ef"
      }
     },
     "3d28d7afa0ac47b48d4c1bc3c12ba2e2": {
      "model_module": "@jupyter-widgets/controls",
      "model_module_version": "2.0.0",
      "model_name": "HTMLModel",
      "state": {
       "layout": "IPY_MODEL_6dbc0b4eb4034c8c8dc8326b88164625",
       "style": "IPY_MODEL_aa0e3263173c41889f4bce01f6e84479",
       "value": "  0%"
      }
     },
     "3eee91d51b5b4feca3ccb821d6251448": {
      "model_module": "@jupyter-widgets/base",
      "model_module_version": "2.0.0",
      "model_name": "LayoutModel",
      "state": {}
     },
     "40df92af012b490e9fd928d3d7ee053c": {
      "model_module": "@jupyter-widgets/controls",
      "model_module_version": "2.0.0",
      "model_name": "HTMLStyleModel",
      "state": {
       "description_width": "",
       "font_size": null,
       "text_color": null
      }
     },
     "410229ff01054e7ea4b77e2f170269bd": {
      "model_module": "@jupyter-widgets/base",
      "model_module_version": "2.0.0",
      "model_name": "LayoutModel",
      "state": {}
     },
     "43de94dbaed843efa91ab1f6f9d642ae": {
      "model_module": "@jupyter-widgets/controls",
      "model_module_version": "2.0.0",
      "model_name": "HBoxModel",
      "state": {
       "children": [
        "IPY_MODEL_d79f29ce2890414aafbd45618d832307",
        "IPY_MODEL_b966c1b73d7941df8784df231fd08de2",
        "IPY_MODEL_23d296437ec64c53a60ecb7b9961ca97"
       ],
       "layout": "IPY_MODEL_6935023b1d974953a5da182161d34f01"
      }
     },
     "44f5ac28174446bab157fe965c52e91d": {
      "model_module": "@jupyter-widgets/controls",
      "model_module_version": "2.0.0",
      "model_name": "HBoxModel",
      "state": {
       "children": [
        "IPY_MODEL_3d28d7afa0ac47b48d4c1bc3c12ba2e2",
        "IPY_MODEL_10955347b44f4410be87ce6e8ee3cdad",
        "IPY_MODEL_00f0a6303176451491bee40b7946f502"
       ],
       "layout": "IPY_MODEL_153b817704db48eab71c0d986550733b"
      }
     },
     "45d0f8c826404ec08b54677f1f2d1104": {
      "model_module": "@jupyter-widgets/controls",
      "model_module_version": "2.0.0",
      "model_name": "HTMLModel",
      "state": {
       "layout": "IPY_MODEL_59458591a8604f0695b778470ee91d4b",
       "style": "IPY_MODEL_2ec68dc8762043d08ae415c624c63970",
       "value": " 3/3 [01:19&lt;00:00, 24.61s/it]"
      }
     },
     "470c3d421dec41d7a72a0259780da1ac": {
      "model_module": "@jupyter-widgets/base",
      "model_module_version": "2.0.0",
      "model_name": "LayoutModel",
      "state": {
       "width": "20px"
      }
     },
     "484bbd01f28e4755b5ebc0ded74d0256": {
      "model_module": "@jupyter-widgets/controls",
      "model_module_version": "2.0.0",
      "model_name": "FloatProgressModel",
      "state": {
       "bar_style": "success",
       "layout": "IPY_MODEL_36790e409fa0473887cad2aa771140fc",
       "max": 1,
       "style": "IPY_MODEL_ef7178ab3d0a42fabe3d667adddd7aa9",
       "value": 1
      }
     },
     "4890553e8b6b4acca1bb2a956e825754": {
      "model_module": "@jupyter-widgets/controls",
      "model_module_version": "2.0.0",
      "model_name": "FloatProgressModel",
      "state": {
       "bar_style": "success",
       "layout": "IPY_MODEL_d096e82feec7477ca671698cda948a78",
       "max": 3,
       "style": "IPY_MODEL_a605a9eaa192402bbb0e8a98da303838",
       "value": 3
      }
     },
     "49f3c5cc020c48a6934b6a0cd33c71c0": {
      "model_module": "@jupyter-widgets/controls",
      "model_module_version": "2.0.0",
      "model_name": "ProgressStyleModel",
      "state": {
       "description_width": ""
      }
     },
     "4cdd6fb53a74466796b726e6f58c35c4": {
      "model_module": "@jupyter-widgets/base",
      "model_module_version": "2.0.0",
      "model_name": "LayoutModel",
      "state": {}
     },
     "51459099d698438487739363e9bac308": {
      "model_module": "@jupyter-widgets/controls",
      "model_module_version": "2.0.0",
      "model_name": "HTMLStyleModel",
      "state": {
       "description_width": "",
       "font_size": null,
       "text_color": null
      }
     },
     "52a0e278172546629c97a21cb2570a2b": {
      "model_module": "@jupyter-widgets/controls",
      "model_module_version": "2.0.0",
      "model_name": "ProgressStyleModel",
      "state": {
       "description_width": ""
      }
     },
     "5330f883e3f84a1686fcfcd068c98ff5": {
      "model_module": "@jupyter-widgets/base",
      "model_module_version": "2.0.0",
      "model_name": "LayoutModel",
      "state": {}
     },
     "5398183a74d941339c906b9990a09876": {
      "model_module": "@jupyter-widgets/controls",
      "model_module_version": "2.0.0",
      "model_name": "HTMLStyleModel",
      "state": {
       "description_width": "",
       "font_size": null,
       "text_color": null
      }
     },
     "540ebbaa65cb41859a4bbc9b7d9ae42e": {
      "model_module": "@jupyter-widgets/controls",
      "model_module_version": "2.0.0",
      "model_name": "FloatProgressModel",
      "state": {
       "bar_style": "danger",
       "layout": "IPY_MODEL_c94eee69aa944cff86b150c9c67eb012",
       "max": 1,
       "style": "IPY_MODEL_52a0e278172546629c97a21cb2570a2b"
      }
     },
     "5771c1c3a3e54ce0bf8074d55bf955c3": {
      "model_module": "@jupyter-widgets/controls",
      "model_module_version": "2.0.0",
      "model_name": "FloatProgressModel",
      "state": {
       "bar_style": "success",
       "layout": "IPY_MODEL_1fab455341974c7f86e98b8bcacff7cd",
       "max": 3,
       "style": "IPY_MODEL_af4d5a6d9d3849e19d13d6052e411869",
       "value": 3
      }
     },
     "59458591a8604f0695b778470ee91d4b": {
      "model_module": "@jupyter-widgets/base",
      "model_module_version": "2.0.0",
      "model_name": "LayoutModel",
      "state": {}
     },
     "59a561f6431f4b4b842939728ac79126": {
      "model_module": "@jupyter-widgets/base",
      "model_module_version": "2.0.0",
      "model_name": "LayoutModel",
      "state": {}
     },
     "5c493ce0d4554f59842fbb99e0ec964a": {
      "model_module": "@jupyter-widgets/controls",
      "model_module_version": "2.0.0",
      "model_name": "ProgressStyleModel",
      "state": {
       "description_width": ""
      }
     },
     "5ce3d5741e44424389845c592b555bb7": {
      "model_module": "@jupyter-widgets/base",
      "model_module_version": "2.0.0",
      "model_name": "LayoutModel",
      "state": {}
     },
     "5da49670c9b9428ab4c5b94b35d49e37": {
      "model_module": "@jupyter-widgets/base",
      "model_module_version": "2.0.0",
      "model_name": "LayoutModel",
      "state": {}
     },
     "5f05b33d1f3f4607876193807dc47444": {
      "model_module": "@jupyter-widgets/base",
      "model_module_version": "2.0.0",
      "model_name": "LayoutModel",
      "state": {}
     },
     "61979084eba048fe8f847f43fa8278f9": {
      "model_module": "@jupyter-widgets/base",
      "model_module_version": "2.0.0",
      "model_name": "LayoutModel",
      "state": {}
     },
     "61c7399e47624761ae277821e87ec97f": {
      "model_module": "@jupyter-widgets/controls",
      "model_module_version": "2.0.0",
      "model_name": "HTMLModel",
      "state": {
       "layout": "IPY_MODEL_2de6b3b2353947ffb4514a3460e52759",
       "style": "IPY_MODEL_650ff79ff57c47d99c4229b580ad80eb",
       "value": " 3/3 [25:14&lt;00:00, 491.37s/it]"
      }
     },
     "6438b0fe0138467fa16f98dd93c7778a": {
      "model_module": "@jupyter-widgets/base",
      "model_module_version": "2.0.0",
      "model_name": "LayoutModel",
      "state": {}
     },
     "650ff79ff57c47d99c4229b580ad80eb": {
      "model_module": "@jupyter-widgets/controls",
      "model_module_version": "2.0.0",
      "model_name": "HTMLStyleModel",
      "state": {
       "description_width": "",
       "font_size": null,
       "text_color": null
      }
     },
     "65c48d303ebf47f8be533229ff5ad6f8": {
      "model_module": "@jupyter-widgets/controls",
      "model_module_version": "2.0.0",
      "model_name": "HTMLStyleModel",
      "state": {
       "description_width": "",
       "font_size": null,
       "text_color": null
      }
     },
     "6935023b1d974953a5da182161d34f01": {
      "model_module": "@jupyter-widgets/base",
      "model_module_version": "2.0.0",
      "model_name": "LayoutModel",
      "state": {}
     },
     "6aed95efdb1f4184accdd6e3578418a3": {
      "model_module": "@jupyter-widgets/controls",
      "model_module_version": "2.0.0",
      "model_name": "ProgressStyleModel",
      "state": {
       "description_width": ""
      }
     },
     "6dbc0b4eb4034c8c8dc8326b88164625": {
      "model_module": "@jupyter-widgets/base",
      "model_module_version": "2.0.0",
      "model_name": "LayoutModel",
      "state": {}
     },
     "70750a42bb5d4ab9bec0e886e88d6940": {
      "model_module": "@jupyter-widgets/base",
      "model_module_version": "2.0.0",
      "model_name": "LayoutModel",
      "state": {}
     },
     "7093650cf930470b81adb415e5d644fe": {
      "model_module": "@jupyter-widgets/controls",
      "model_module_version": "2.0.0",
      "model_name": "HTMLStyleModel",
      "state": {
       "description_width": "",
       "font_size": null,
       "text_color": null
      }
     },
     "7228d48464564d4994e7b58569476a87": {
      "model_module": "@jupyter-widgets/controls",
      "model_module_version": "2.0.0",
      "model_name": "HTMLStyleModel",
      "state": {
       "description_width": "",
       "font_size": null,
       "text_color": null
      }
     },
     "73e392f2810e43cc90442fc1b537b4ef": {
      "model_module": "@jupyter-widgets/base",
      "model_module_version": "2.0.0",
      "model_name": "LayoutModel",
      "state": {}
     },
     "73e3b70539cc4adfaf1236d64ec9d476": {
      "model_module": "@jupyter-widgets/controls",
      "model_module_version": "2.0.0",
      "model_name": "HTMLStyleModel",
      "state": {
       "description_width": "",
       "font_size": null,
       "text_color": null
      }
     },
     "73e5f29d704640de986a81997635d857": {
      "model_module": "@jupyter-widgets/controls",
      "model_module_version": "2.0.0",
      "model_name": "HTMLStyleModel",
      "state": {
       "description_width": "",
       "font_size": null,
       "text_color": null
      }
     },
     "73ea820a98c74376b2a2ac0c674caa90": {
      "model_module": "@jupyter-widgets/controls",
      "model_module_version": "2.0.0",
      "model_name": "HTMLModel",
      "state": {
       "layout": "IPY_MODEL_3eee91d51b5b4feca3ccb821d6251448",
       "style": "IPY_MODEL_ccf8cbbc0442469a90b982fc38a1f0a2",
       "value": "100%"
      }
     },
     "754f6f0cca6a4958ac24e73cd1cafd1b": {
      "model_module": "@jupyter-widgets/controls",
      "model_module_version": "2.0.0",
      "model_name": "HTMLModel",
      "state": {
       "layout": "IPY_MODEL_30f5806e37a24d53ba3868e04903a84a",
       "style": "IPY_MODEL_f170c9413246423cbd06c3b0ca4d07f0"
      }
     },
     "768fc13540c64ad1b8486b8f79b8e921": {
      "model_module": "@jupyter-widgets/controls",
      "model_module_version": "2.0.0",
      "model_name": "HTMLModel",
      "state": {
       "layout": "IPY_MODEL_1766307cd12e4a42aee2d0c96b9e4faf",
       "style": "IPY_MODEL_a3101f9522c84df0a06e79c638bdee52",
       "value": " 316/? [00:10&lt;00:00, 83.05it/s]"
      }
     },
     "78c7a1f6e5a5431e969a287fa6582fa8": {
      "model_module": "@jupyter-widgets/controls",
      "model_module_version": "2.0.0",
      "model_name": "HTMLStyleModel",
      "state": {
       "description_width": "",
       "font_size": null,
       "text_color": null
      }
     },
     "7c159d06ef6a4d12aa350b49cb584452": {
      "model_module": "@jupyter-widgets/base",
      "model_module_version": "2.0.0",
      "model_name": "LayoutModel",
      "state": {}
     },
     "7d5df890651e494ba1c1200a066a3ddc": {
      "model_module": "@jupyter-widgets/base",
      "model_module_version": "2.0.0",
      "model_name": "LayoutModel",
      "state": {}
     },
     "847e1397dbfb4b2abb3a286aa2a07687": {
      "model_module": "@jupyter-widgets/controls",
      "model_module_version": "2.0.0",
      "model_name": "FloatProgressModel",
      "state": {
       "bar_style": "danger",
       "layout": "IPY_MODEL_bbccd942ef1c41938113c7caa557123b",
       "max": 1,
       "style": "IPY_MODEL_acdff0d2420a4a44910027b9900c7793"
      }
     },
     "854d62e2cc0d4a4f863aec4bcce94d64": {
      "model_module": "@jupyter-widgets/base",
      "model_module_version": "2.0.0",
      "model_name": "LayoutModel",
      "state": {}
     },
     "864711f932a44c4c9460d31fdcbe5e84": {
      "model_module": "@jupyter-widgets/controls",
      "model_module_version": "2.0.0",
      "model_name": "ProgressStyleModel",
      "state": {
       "description_width": ""
      }
     },
     "86b3e6d34eb2447a81b3225c69ac6ba5": {
      "model_module": "@jupyter-widgets/controls",
      "model_module_version": "2.0.0",
      "model_name": "FloatProgressModel",
      "state": {
       "bar_style": "success",
       "layout": "IPY_MODEL_70750a42bb5d4ab9bec0e886e88d6940",
       "max": 3,
       "style": "IPY_MODEL_aef05e4e4c794f23af2753272ef620a3",
       "value": 3
      }
     },
     "87a5f78d164c4ba6a1832c495f1a3ca1": {
      "model_module": "@jupyter-widgets/base",
      "model_module_version": "2.0.0",
      "model_name": "LayoutModel",
      "state": {}
     },
     "8a22805521284e5a976789fb020fbf7e": {
      "model_module": "@jupyter-widgets/controls",
      "model_module_version": "2.0.0",
      "model_name": "HTMLStyleModel",
      "state": {
       "description_width": "",
       "font_size": null,
       "text_color": null
      }
     },
     "8ccaf53efce4406295b297a45ed33bb7": {
      "model_module": "@jupyter-widgets/controls",
      "model_module_version": "2.0.0",
      "model_name": "HBoxModel",
      "state": {
       "children": [
        "IPY_MODEL_9dc7510e23304b39b8832b88ef56572b",
        "IPY_MODEL_390c54b49159465cb72e113f8c416c9f",
        "IPY_MODEL_00c058942c6e409981691281e47e711f"
       ],
       "layout": "IPY_MODEL_cc3ee5e602aa463db97d5415bbb6901b"
      }
     },
     "8e74eb743bf541ba8a773c0378a15414": {
      "model_module": "@jupyter-widgets/base",
      "model_module_version": "2.0.0",
      "model_name": "LayoutModel",
      "state": {}
     },
     "8eb6c2c1e09f4dac9e2e0a547ffe576f": {
      "model_module": "@jupyter-widgets/controls",
      "model_module_version": "2.0.0",
      "model_name": "ProgressStyleModel",
      "state": {
       "description_width": ""
      }
     },
     "8fd99bb44b9d41fcbcf63f9885280a1a": {
      "model_module": "@jupyter-widgets/controls",
      "model_module_version": "2.0.0",
      "model_name": "HBoxModel",
      "state": {
       "children": [
        "IPY_MODEL_9b646ed33fb8483d9b781941d7956876",
        "IPY_MODEL_28f866d8603942b7829908d7b3b9899c",
        "IPY_MODEL_18b7af88acf942adb1b7e5df5937a1f7"
       ],
       "layout": "IPY_MODEL_0280be68a92f48da9b952d2caa77ef48"
      }
     },
     "8ff74da443fc405caddf74e3ba156bf2": {
      "model_module": "@jupyter-widgets/controls",
      "model_module_version": "2.0.0",
      "model_name": "HTMLStyleModel",
      "state": {
       "description_width": "",
       "font_size": null,
       "text_color": null
      }
     },
     "911e111349eb4f0aaea4a5bd13b50415": {
      "model_module": "@jupyter-widgets/base",
      "model_module_version": "2.0.0",
      "model_name": "LayoutModel",
      "state": {}
     },
     "923bb1af25e84c7abde597ae54bd24ab": {
      "model_module": "@jupyter-widgets/controls",
      "model_module_version": "2.0.0",
      "model_name": "HTMLModel",
      "state": {
       "layout": "IPY_MODEL_385dfa360bfa4ddc8b400d5667306f23",
       "style": "IPY_MODEL_12166c6d6b164a2191dff53e7d295f77",
       "value": "100%"
      }
     },
     "925d38358c0b48c3a9d139227d23e8ee": {
      "model_module": "@jupyter-widgets/controls",
      "model_module_version": "2.0.0",
      "model_name": "HBoxModel",
      "state": {
       "children": [
        "IPY_MODEL_ad2f063f65c84dde99d83a0ef9f4db6e",
        "IPY_MODEL_484bbd01f28e4755b5ebc0ded74d0256",
        "IPY_MODEL_fa22a1d3dace4e3096f89a5cdc4ead16"
       ],
       "layout": "IPY_MODEL_854d62e2cc0d4a4f863aec4bcce94d64"
      }
     },
     "94dfa277dd344f29bd8bb6f2c2c9db50": {
      "model_module": "@jupyter-widgets/base",
      "model_module_version": "2.0.0",
      "model_name": "LayoutModel",
      "state": {}
     },
     "95b3fc8d6605415ebb4142181b6ae7bc": {
      "model_module": "@jupyter-widgets/base",
      "model_module_version": "2.0.0",
      "model_name": "LayoutModel",
      "state": {}
     },
     "960cbd0bab4d42158efc10b39bd19f18": {
      "model_module": "@jupyter-widgets/controls",
      "model_module_version": "2.0.0",
      "model_name": "FloatProgressModel",
      "state": {
       "bar_style": "success",
       "layout": "IPY_MODEL_298c87e84b3f481c93192c0617e154bc",
       "max": 1,
       "style": "IPY_MODEL_bfa43fc36450490aa193aeead3924a38",
       "value": 1
      }
     },
     "97b8b2c0c3bb43808813d6d8c0da4176": {
      "model_module": "@jupyter-widgets/base",
      "model_module_version": "2.0.0",
      "model_name": "LayoutModel",
      "state": {}
     },
     "9b646ed33fb8483d9b781941d7956876": {
      "model_module": "@jupyter-widgets/controls",
      "model_module_version": "2.0.0",
      "model_name": "HTMLModel",
      "state": {
       "layout": "IPY_MODEL_5330f883e3f84a1686fcfcd068c98ff5",
       "style": "IPY_MODEL_40df92af012b490e9fd928d3d7ee053c"
      }
     },
     "9ceb597a84644e38989a18c71fb23078": {
      "model_module": "@jupyter-widgets/controls",
      "model_module_version": "2.0.0",
      "model_name": "HTMLStyleModel",
      "state": {
       "description_width": "",
       "font_size": null,
       "text_color": null
      }
     },
     "9d039f6d262e49eea4d1417fbcdb6512": {
      "model_module": "@jupyter-widgets/controls",
      "model_module_version": "2.0.0",
      "model_name": "FloatProgressModel",
      "state": {
       "bar_style": "success",
       "layout": "IPY_MODEL_410229ff01054e7ea4b77e2f170269bd",
       "max": 3,
       "style": "IPY_MODEL_1e8aff29a141437eb65f731e289de407",
       "value": 3
      }
     },
     "9dc7510e23304b39b8832b88ef56572b": {
      "model_module": "@jupyter-widgets/controls",
      "model_module_version": "2.0.0",
      "model_name": "HTMLModel",
      "state": {
       "layout": "IPY_MODEL_2d4525787eb944e5a81957536c45081c",
       "style": "IPY_MODEL_11162c54a3614fe4a251310d11774006",
       "value": "100%"
      }
     },
     "9df9378a6f804e04b8ca563ddbffdcf0": {
      "model_module": "@jupyter-widgets/controls",
      "model_module_version": "2.0.0",
      "model_name": "FloatProgressModel",
      "state": {
       "bar_style": "success",
       "layout": "IPY_MODEL_911e111349eb4f0aaea4a5bd13b50415",
       "max": 3,
       "style": "IPY_MODEL_33fe76472259419fbd0a618192a62f76",
       "value": 3
      }
     },
     "9e36d4fa46ba4faa8cc21ed3b296b893": {
      "model_module": "@jupyter-widgets/base",
      "model_module_version": "2.0.0",
      "model_name": "LayoutModel",
      "state": {
       "width": "20px"
      }
     },
     "9e54162751b94809b529199e2243d511": {
      "model_module": "@jupyter-widgets/controls",
      "model_module_version": "2.0.0",
      "model_name": "HBoxModel",
      "state": {
       "children": [
        "IPY_MODEL_e589fa1ea0fc495a85bed2336b778c42",
        "IPY_MODEL_4890553e8b6b4acca1bb2a956e825754",
        "IPY_MODEL_61c7399e47624761ae277821e87ec97f"
       ],
       "layout": "IPY_MODEL_33e55457427d401e891dbcb7b184ed45"
      }
     },
     "9f26af0b95b14faeb4cecb93f1c48b7b": {
      "model_module": "@jupyter-widgets/base",
      "model_module_version": "2.0.0",
      "model_name": "LayoutModel",
      "state": {}
     },
     "9f6690c86d554474a4f1ad2709e4f0f2": {
      "model_module": "@jupyter-widgets/controls",
      "model_module_version": "2.0.0",
      "model_name": "HTMLModel",
      "state": {
       "layout": "IPY_MODEL_f13ad003634342ec9463a099a923043d",
       "style": "IPY_MODEL_73e3b70539cc4adfaf1236d64ec9d476",
       "value": "  0%"
      }
     },
     "a3101f9522c84df0a06e79c638bdee52": {
      "model_module": "@jupyter-widgets/controls",
      "model_module_version": "2.0.0",
      "model_name": "HTMLStyleModel",
      "state": {
       "description_width": "",
       "font_size": null,
       "text_color": null
      }
     },
     "a5575a1fa7cd4b01a731d1cd6575a9c6": {
      "model_module": "@jupyter-widgets/base",
      "model_module_version": "2.0.0",
      "model_name": "LayoutModel",
      "state": {}
     },
     "a605a9eaa192402bbb0e8a98da303838": {
      "model_module": "@jupyter-widgets/controls",
      "model_module_version": "2.0.0",
      "model_name": "ProgressStyleModel",
      "state": {
       "description_width": ""
      }
     },
     "a7a80b128ce84e06b7fc379524ddb6b9": {
      "model_module": "@jupyter-widgets/controls",
      "model_module_version": "2.0.0",
      "model_name": "HBoxModel",
      "state": {
       "children": [
        "IPY_MODEL_e5a7bf55fd784c44bc18dd9702136598",
        "IPY_MODEL_5771c1c3a3e54ce0bf8074d55bf955c3",
        "IPY_MODEL_f065564ef01c48e8937f6996b6f77410"
       ],
       "layout": "IPY_MODEL_5ce3d5741e44424389845c592b555bb7"
      }
     },
     "a8a17cbdef01427f9e05a170c13ddf06": {
      "model_module": "@jupyter-widgets/controls",
      "model_module_version": "2.0.0",
      "model_name": "HTMLModel",
      "state": {
       "layout": "IPY_MODEL_5da49670c9b9428ab4c5b94b35d49e37",
       "style": "IPY_MODEL_8ff74da443fc405caddf74e3ba156bf2",
       "value": "100%"
      }
     },
     "a9f0fb243260452097872ae4ff8aab22": {
      "model_module": "@jupyter-widgets/controls",
      "model_module_version": "2.0.0",
      "model_name": "HTMLModel",
      "state": {
       "layout": "IPY_MODEL_97b8b2c0c3bb43808813d6d8c0da4176",
       "style": "IPY_MODEL_fd2e7fff7e9f4a9a9afd2c52af3f7c43",
       "value": "100%"
      }
     },
     "aa0e3263173c41889f4bce01f6e84479": {
      "model_module": "@jupyter-widgets/controls",
      "model_module_version": "2.0.0",
      "model_name": "HTMLStyleModel",
      "state": {
       "description_width": "",
       "font_size": null,
       "text_color": null
      }
     },
     "ac2866a1125c475f939e0d41b096dd0d": {
      "model_module": "@jupyter-widgets/controls",
      "model_module_version": "2.0.0",
      "model_name": "HTMLStyleModel",
      "state": {
       "description_width": "",
       "font_size": null,
       "text_color": null
      }
     },
     "ac61f502ce1a4a7a937a32fe56d7602b": {
      "model_module": "@jupyter-widgets/base",
      "model_module_version": "2.0.0",
      "model_name": "LayoutModel",
      "state": {}
     },
     "acdff0d2420a4a44910027b9900c7793": {
      "model_module": "@jupyter-widgets/controls",
      "model_module_version": "2.0.0",
      "model_name": "ProgressStyleModel",
      "state": {
       "description_width": ""
      }
     },
     "acea6216f7f24b10a08d7ed2e4150a18": {
      "model_module": "@jupyter-widgets/controls",
      "model_module_version": "2.0.0",
      "model_name": "HTMLStyleModel",
      "state": {
       "description_width": "",
       "font_size": null,
       "text_color": null
      }
     },
     "ad2f063f65c84dde99d83a0ef9f4db6e": {
      "model_module": "@jupyter-widgets/controls",
      "model_module_version": "2.0.0",
      "model_name": "HTMLModel",
      "state": {
       "layout": "IPY_MODEL_d422f7aa3c3444b48adb5d3750283606",
       "style": "IPY_MODEL_ecc01361ea284a20883ae2b0ed148689",
       "value": "100%"
      }
     },
     "aef05e4e4c794f23af2753272ef620a3": {
      "model_module": "@jupyter-widgets/controls",
      "model_module_version": "2.0.0",
      "model_name": "ProgressStyleModel",
      "state": {
       "description_width": ""
      }
     },
     "af4d5a6d9d3849e19d13d6052e411869": {
      "model_module": "@jupyter-widgets/controls",
      "model_module_version": "2.0.0",
      "model_name": "ProgressStyleModel",
      "state": {
       "description_width": ""
      }
     },
     "b577f54a236f477e9fd3bbd3862a057d": {
      "model_module": "@jupyter-widgets/controls",
      "model_module_version": "2.0.0",
      "model_name": "HBoxModel",
      "state": {
       "children": [
        "IPY_MODEL_754f6f0cca6a4958ac24e73cd1cafd1b",
        "IPY_MODEL_0c3302b092b94e20b903c9525ce00083",
        "IPY_MODEL_2fedcb06c15c41a498f825a10bc319cd"
       ],
       "layout": "IPY_MODEL_87a5f78d164c4ba6a1832c495f1a3ca1"
      }
     },
     "b6c4e9fc458d4af799762fd66000dac0": {
      "model_module": "@jupyter-widgets/controls",
      "model_module_version": "2.0.0",
      "model_name": "HTMLModel",
      "state": {
       "layout": "IPY_MODEL_7c159d06ef6a4d12aa350b49cb584452",
       "style": "IPY_MODEL_d20f4078da13402081feff175d607039",
       "value": " 1/1 [00:05&lt;00:00,  5.43s/it]"
      }
     },
     "b966c1b73d7941df8784df231fd08de2": {
      "model_module": "@jupyter-widgets/controls",
      "model_module_version": "2.0.0",
      "model_name": "FloatProgressModel",
      "state": {
       "bar_style": "danger",
       "layout": "IPY_MODEL_c0ba2feace6646ad86bd982880887c59",
       "max": 1,
       "style": "IPY_MODEL_15cf040faf1d4cc88aeff82610698b62"
      }
     },
     "b9c826d21baf4457b03eb43fbf7bb983": {
      "model_module": "@jupyter-widgets/controls",
      "model_module_version": "2.0.0",
      "model_name": "HTMLStyleModel",
      "state": {
       "description_width": "",
       "font_size": null,
       "text_color": null
      }
     },
     "bbccd942ef1c41938113c7caa557123b": {
      "model_module": "@jupyter-widgets/base",
      "model_module_version": "2.0.0",
      "model_name": "LayoutModel",
      "state": {}
     },
     "bfa43fc36450490aa193aeead3924a38": {
      "model_module": "@jupyter-widgets/controls",
      "model_module_version": "2.0.0",
      "model_name": "ProgressStyleModel",
      "state": {
       "description_width": ""
      }
     },
     "c0ba2feace6646ad86bd982880887c59": {
      "model_module": "@jupyter-widgets/base",
      "model_module_version": "2.0.0",
      "model_name": "LayoutModel",
      "state": {}
     },
     "c52d974942d34520a97a0066409f251a": {
      "model_module": "@jupyter-widgets/base",
      "model_module_version": "2.0.0",
      "model_name": "LayoutModel",
      "state": {}
     },
     "c562d269c3bb493592615fc24102411a": {
      "model_module": "@jupyter-widgets/base",
      "model_module_version": "2.0.0",
      "model_name": "LayoutModel",
      "state": {}
     },
     "c94eee69aa944cff86b150c9c67eb012": {
      "model_module": "@jupyter-widgets/base",
      "model_module_version": "2.0.0",
      "model_name": "LayoutModel",
      "state": {}
     },
     "c9a4bcbb1beb46f2b337c056e7aaad89": {
      "model_module": "@jupyter-widgets/base",
      "model_module_version": "2.0.0",
      "model_name": "LayoutModel",
      "state": {}
     },
     "cc3ee5e602aa463db97d5415bbb6901b": {
      "model_module": "@jupyter-widgets/base",
      "model_module_version": "2.0.0",
      "model_name": "LayoutModel",
      "state": {}
     },
     "ccf8cbbc0442469a90b982fc38a1f0a2": {
      "model_module": "@jupyter-widgets/controls",
      "model_module_version": "2.0.0",
      "model_name": "HTMLStyleModel",
      "state": {
       "description_width": "",
       "font_size": null,
       "text_color": null
      }
     },
     "cedeaa4e97b64f6d996fa6315175387d": {
      "model_module": "@jupyter-widgets/base",
      "model_module_version": "2.0.0",
      "model_name": "LayoutModel",
      "state": {}
     },
     "cf23a3f55e8a43288bfe7c0e1881da04": {
      "model_module": "@jupyter-widgets/controls",
      "model_module_version": "2.0.0",
      "model_name": "HTMLModel",
      "state": {
       "layout": "IPY_MODEL_e94d94e585c54c8f88fb9cba3d5a4c04",
       "style": "IPY_MODEL_e74b4a8807bc4d10bd167f572623727b"
      }
     },
     "cff8241a7e2e4e05a4fb50b2757e4f24": {
      "model_module": "@jupyter-widgets/controls",
      "model_module_version": "2.0.0",
      "model_name": "HTMLStyleModel",
      "state": {
       "description_width": "",
       "font_size": null,
       "text_color": null
      }
     },
     "d096e82feec7477ca671698cda948a78": {
      "model_module": "@jupyter-widgets/base",
      "model_module_version": "2.0.0",
      "model_name": "LayoutModel",
      "state": {}
     },
     "d139b94c324b4985b4789adffbf0a4a2": {
      "model_module": "@jupyter-widgets/controls",
      "model_module_version": "2.0.0",
      "model_name": "HTMLStyleModel",
      "state": {
       "description_width": "",
       "font_size": null,
       "text_color": null
      }
     },
     "d20f4078da13402081feff175d607039": {
      "model_module": "@jupyter-widgets/controls",
      "model_module_version": "2.0.0",
      "model_name": "HTMLStyleModel",
      "state": {
       "description_width": "",
       "font_size": null,
       "text_color": null
      }
     },
     "d422f7aa3c3444b48adb5d3750283606": {
      "model_module": "@jupyter-widgets/base",
      "model_module_version": "2.0.0",
      "model_name": "LayoutModel",
      "state": {}
     },
     "d5bdf135337f46479e43ad85f720ec66": {
      "model_module": "@jupyter-widgets/controls",
      "model_module_version": "2.0.0",
      "model_name": "HTMLModel",
      "state": {
       "layout": "IPY_MODEL_f29dae3334bb4816b635f971e286a0d2",
       "style": "IPY_MODEL_35b236b42f8a4802b6f605e421545155"
      }
     },
     "d79447f6f74f48b381bf4cc381d07c90": {
      "model_module": "@jupyter-widgets/base",
      "model_module_version": "2.0.0",
      "model_name": "LayoutModel",
      "state": {}
     },
     "d79f29ce2890414aafbd45618d832307": {
      "model_module": "@jupyter-widgets/controls",
      "model_module_version": "2.0.0",
      "model_name": "HTMLModel",
      "state": {
       "layout": "IPY_MODEL_6438b0fe0138467fa16f98dd93c7778a",
       "style": "IPY_MODEL_78c7a1f6e5a5431e969a287fa6582fa8",
       "value": "  0%"
      }
     },
     "dc0ad4523cfe4eae9019174c0ba79786": {
      "model_module": "@jupyter-widgets/controls",
      "model_module_version": "2.0.0",
      "model_name": "HBoxModel",
      "state": {
       "children": [
        "IPY_MODEL_32b82624664c40be9c4b32ea8fadd601",
        "IPY_MODEL_1c9caab97bf14255b98b25ab4695a5c7",
        "IPY_MODEL_0eafadb74b544331b05797a88438fc54"
       ],
       "layout": "IPY_MODEL_c9a4bcbb1beb46f2b337c056e7aaad89"
      }
     },
     "e058272ab9fa4011b780e9c359acfbd6": {
      "model_module": "@jupyter-widgets/base",
      "model_module_version": "2.0.0",
      "model_name": "LayoutModel",
      "state": {}
     },
     "e39561a7338a4b16a718987f294ef78e": {
      "model_module": "@jupyter-widgets/controls",
      "model_module_version": "2.0.0",
      "model_name": "HTMLStyleModel",
      "state": {
       "description_width": "",
       "font_size": null,
       "text_color": null
      }
     },
     "e43533444a464608b1106d279df0d269": {
      "model_module": "@jupyter-widgets/controls",
      "model_module_version": "2.0.0",
      "model_name": "HTMLModel",
      "state": {
       "layout": "IPY_MODEL_94dfa277dd344f29bd8bb6f2c2c9db50",
       "style": "IPY_MODEL_d139b94c324b4985b4789adffbf0a4a2",
       "value": " 3/3 [34:55&lt;00:00, 590.55s/it]"
      }
     },
     "e589fa1ea0fc495a85bed2336b778c42": {
      "model_module": "@jupyter-widgets/controls",
      "model_module_version": "2.0.0",
      "model_name": "HTMLModel",
      "state": {
       "layout": "IPY_MODEL_a5575a1fa7cd4b01a731d1cd6575a9c6",
       "style": "IPY_MODEL_7093650cf930470b81adb415e5d644fe",
       "value": "100%"
      }
     },
     "e5a7bf55fd784c44bc18dd9702136598": {
      "model_module": "@jupyter-widgets/controls",
      "model_module_version": "2.0.0",
      "model_name": "HTMLModel",
      "state": {
       "layout": "IPY_MODEL_19f7cb9d9f36442bb13009ae82b9f8ab",
       "style": "IPY_MODEL_5398183a74d941339c906b9990a09876",
       "value": "100%"
      }
     },
     "e5e20705b9e84ff0be73659b8e1b89b8": {
      "model_module": "@jupyter-widgets/controls",
      "model_module_version": "2.0.0",
      "model_name": "HBoxModel",
      "state": {
       "children": [
        "IPY_MODEL_cf23a3f55e8a43288bfe7c0e1881da04",
        "IPY_MODEL_960cbd0bab4d42158efc10b39bd19f18",
        "IPY_MODEL_ebfa803cd46e475886265a84c9f4d790"
       ],
       "layout": "IPY_MODEL_359b5d41978941148f097f76a5b2565b"
      }
     },
     "e74b4a8807bc4d10bd167f572623727b": {
      "model_module": "@jupyter-widgets/controls",
      "model_module_version": "2.0.0",
      "model_name": "HTMLStyleModel",
      "state": {
       "description_width": "",
       "font_size": null,
       "text_color": null
      }
     },
     "e7cae978da074d35b1d809481f4473e6": {
      "model_module": "@jupyter-widgets/base",
      "model_module_version": "2.0.0",
      "model_name": "LayoutModel",
      "state": {}
     },
     "e94d94e585c54c8f88fb9cba3d5a4c04": {
      "model_module": "@jupyter-widgets/base",
      "model_module_version": "2.0.0",
      "model_name": "LayoutModel",
      "state": {}
     },
     "eb0b53fa9aa346e8876bbcb65f2eceb2": {
      "model_module": "@jupyter-widgets/base",
      "model_module_version": "2.0.0",
      "model_name": "LayoutModel",
      "state": {}
     },
     "ebfa803cd46e475886265a84c9f4d790": {
      "model_module": "@jupyter-widgets/controls",
      "model_module_version": "2.0.0",
      "model_name": "HTMLModel",
      "state": {
       "layout": "IPY_MODEL_efdd84062539425c90a48ab29143b71f",
       "style": "IPY_MODEL_2794d3a91d5f421c9cf2952d8a9a55c8",
       "value": " 316/? [00:14&lt;00:00, 67.18it/s]"
      }
     },
     "ec398b6eda1c4a53b580a16098819b9a": {
      "model_module": "@jupyter-widgets/base",
      "model_module_version": "2.0.0",
      "model_name": "LayoutModel",
      "state": {}
     },
     "ecc01361ea284a20883ae2b0ed148689": {
      "model_module": "@jupyter-widgets/controls",
      "model_module_version": "2.0.0",
      "model_name": "HTMLStyleModel",
      "state": {
       "description_width": "",
       "font_size": null,
       "text_color": null
      }
     },
     "ef7178ab3d0a42fabe3d667adddd7aa9": {
      "model_module": "@jupyter-widgets/controls",
      "model_module_version": "2.0.0",
      "model_name": "ProgressStyleModel",
      "state": {
       "description_width": ""
      }
     },
     "efdd84062539425c90a48ab29143b71f": {
      "model_module": "@jupyter-widgets/base",
      "model_module_version": "2.0.0",
      "model_name": "LayoutModel",
      "state": {}
     },
     "f04667eaeb88499c8903f3ccba8b5e79": {
      "model_module": "@jupyter-widgets/controls",
      "model_module_version": "2.0.0",
      "model_name": "HBoxModel",
      "state": {
       "children": [
        "IPY_MODEL_9f6690c86d554474a4f1ad2709e4f0f2",
        "IPY_MODEL_540ebbaa65cb41859a4bbc9b7d9ae42e",
        "IPY_MODEL_2997106d9b5a407aa3aaec02c54f97b4"
       ],
       "layout": "IPY_MODEL_59a561f6431f4b4b842939728ac79126"
      }
     },
     "f065564ef01c48e8937f6996b6f77410": {
      "model_module": "@jupyter-widgets/controls",
      "model_module_version": "2.0.0",
      "model_name": "HTMLModel",
      "state": {
       "layout": "IPY_MODEL_7d5df890651e494ba1c1200a066a3ddc",
       "style": "IPY_MODEL_0da0bfe599694bb69f91b8774af7f187",
       "value": " 3/3 [00:01&lt;00:00,  1.81it/s]"
      }
     },
     "f0f9d7fd70ca43e6b39d62f8a308f3d5": {
      "model_module": "@jupyter-widgets/base",
      "model_module_version": "2.0.0",
      "model_name": "LayoutModel",
      "state": {}
     },
     "f135b802bf584478a9a87f03ef432606": {
      "model_module": "@jupyter-widgets/controls",
      "model_module_version": "2.0.0",
      "model_name": "HTMLModel",
      "state": {
       "layout": "IPY_MODEL_f0f9d7fd70ca43e6b39d62f8a308f3d5",
       "style": "IPY_MODEL_8a22805521284e5a976789fb020fbf7e",
       "value": "  0%"
      }
     },
     "f13ad003634342ec9463a099a923043d": {
      "model_module": "@jupyter-widgets/base",
      "model_module_version": "2.0.0",
      "model_name": "LayoutModel",
      "state": {}
     },
     "f170c9413246423cbd06c3b0ca4d07f0": {
      "model_module": "@jupyter-widgets/controls",
      "model_module_version": "2.0.0",
      "model_name": "HTMLStyleModel",
      "state": {
       "description_width": "",
       "font_size": null,
       "text_color": null
      }
     },
     "f29dae3334bb4816b635f971e286a0d2": {
      "model_module": "@jupyter-widgets/base",
      "model_module_version": "2.0.0",
      "model_name": "LayoutModel",
      "state": {}
     },
     "fa22a1d3dace4e3096f89a5cdc4ead16": {
      "model_module": "@jupyter-widgets/controls",
      "model_module_version": "2.0.0",
      "model_name": "HTMLModel",
      "state": {
       "layout": "IPY_MODEL_e7cae978da074d35b1d809481f4473e6",
       "style": "IPY_MODEL_73e5f29d704640de986a81997635d857",
       "value": " 1/1 [00:05&lt;00:00,  5.40s/it]"
      }
     },
     "fb3de1e5d8b543dd948638e1618beec7": {
      "model_module": "@jupyter-widgets/controls",
      "model_module_version": "2.0.0",
      "model_name": "HTMLStyleModel",
      "state": {
       "description_width": "",
       "font_size": null,
       "text_color": null
      }
     },
     "fd2e7fff7e9f4a9a9afd2c52af3f7c43": {
      "model_module": "@jupyter-widgets/controls",
      "model_module_version": "2.0.0",
      "model_name": "HTMLStyleModel",
      "state": {
       "description_width": "",
       "font_size": null,
       "text_color": null
      }
     },
     "ffd94e5deba041e59a2469f08ac94854": {
      "model_module": "@jupyter-widgets/base",
      "model_module_version": "2.0.0",
      "model_name": "LayoutModel",
      "state": {}
     }
    },
    "version_major": 2,
    "version_minor": 0
   }
  }
 },
 "nbformat": 4,
 "nbformat_minor": 4
}
