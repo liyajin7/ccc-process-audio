{
 "cells": [
  {
   "cell_type": "code",
   "execution_count": null,
   "metadata": {
    "execution": {
     "iopub.execute_input": "2023-07-29T00:03:14.059218Z",
     "iopub.status.busy": "2023-07-29T00:03:14.058220Z",
     "iopub.status.idle": "2023-07-29T00:03:29.241757Z",
     "shell.execute_reply": "2023-07-29T00:03:29.240257Z"
    }
   },
   "outputs": [],
   "source": [
    "import os\n",
    "import gzip\n",
    "import random\n",
    "import logging\n",
    "\n",
    "import numpy as np\n",
    "import pandas as pd\n",
    "\n",
    "import transformers as tf\n",
    "import torch\n",
    "\n",
    "from tqdm.notebook import tqdm"
   ]
  },
  {
   "cell_type": "code",
   "execution_count": null,
   "metadata": {
    "execution": {
     "iopub.execute_input": "2023-07-29T00:03:29.249039Z",
     "iopub.status.busy": "2023-07-29T00:03:29.248443Z",
     "iopub.status.idle": "2023-07-29T00:03:29.254097Z",
     "shell.execute_reply": "2023-07-29T00:03:29.253203Z"
    }
   },
   "outputs": [],
   "source": [
    "logger = logging.getLogger(__name__)\n",
    "\n",
    "fmt = '%(asctime)s : %(levelname)s : %(message)s'\n",
    "logging.basicConfig(format=fmt, level=logging.INFO)"
   ]
  },
  {
   "cell_type": "code",
   "execution_count": null,
   "metadata": {
    "execution": {
     "iopub.execute_input": "2023-07-29T00:03:29.258806Z",
     "iopub.status.busy": "2023-07-29T00:03:29.258533Z",
     "iopub.status.idle": "2023-07-29T00:03:29.281921Z",
     "shell.execute_reply": "2023-07-29T00:03:29.280560Z"
    }
   },
   "outputs": [],
   "source": [
    "os.chdir(os.path.expanduser('~/github/masthesis/'))"
   ]
  },
  {
   "cell_type": "code",
   "execution_count": null,
   "metadata": {
    "execution": {
     "iopub.execute_input": "2023-07-29T00:03:29.287570Z",
     "iopub.status.busy": "2023-07-29T00:03:29.287067Z",
     "iopub.status.idle": "2023-07-29T00:03:29.310325Z",
     "shell.execute_reply": "2023-07-29T00:03:29.308912Z"
    }
   },
   "outputs": [],
   "source": [
    "seed = 2969591811\n",
    "\n",
    "random.seed(seed)\n",
    "np.random.seed(seed)"
   ]
  },
  {
   "cell_type": "code",
   "execution_count": null,
   "metadata": {
    "execution": {
     "iopub.execute_input": "2023-07-29T00:03:29.315994Z",
     "iopub.status.busy": "2023-07-29T00:03:29.315527Z",
     "iopub.status.idle": "2023-07-29T00:03:29.338144Z",
     "shell.execute_reply": "2023-07-29T00:03:29.336649Z"
    }
   },
   "outputs": [],
   "source": [
    "pd.set_option('display.float_format', lambda x: '%.3f' % x)"
   ]
  },
  {
   "cell_type": "markdown",
   "metadata": {},
   "source": [
    "# Utilities"
   ]
  },
  {
   "cell_type": "code",
   "execution_count": null,
   "metadata": {
    "execution": {
     "iopub.execute_input": "2023-07-29T00:03:29.344040Z",
     "iopub.status.busy": "2023-07-29T00:03:29.343575Z",
     "iopub.status.idle": "2023-07-29T00:03:29.367023Z",
     "shell.execute_reply": "2023-07-29T00:03:29.365611Z"
    }
   },
   "outputs": [],
   "source": [
    "def grouper(it, n=None):\n",
    "    assert n is None or n > 0\n",
    "\n",
    "    if n is None:\n",
    "        yield [x for x in it]\n",
    "    else:\n",
    "        ret = []\n",
    "\n",
    "        for obj in it:\n",
    "            if len(ret) == n:\n",
    "                yield ret\n",
    "                ret = []\n",
    "\n",
    "            if len(ret) < n:\n",
    "                ret += [obj]\n",
    "\n",
    "        # at this point, we're out of\n",
    "        # objects but len(ret) < n\n",
    "        if len(ret) > 0:\n",
    "            yield ret"
   ]
  },
  {
   "cell_type": "markdown",
   "metadata": {},
   "source": [
    "# Load data"
   ]
  },
  {
   "cell_type": "markdown",
   "metadata": {},
   "source": [
    "## Item-level"
   ]
  },
  {
   "cell_type": "code",
   "execution_count": null,
   "metadata": {
    "execution": {
     "iopub.execute_input": "2023-07-29T00:03:29.373328Z",
     "iopub.status.busy": "2023-07-29T00:03:29.372442Z",
     "iopub.status.idle": "2023-07-29T00:03:32.800804Z",
     "shell.execute_reply": "2023-07-29T00:03:32.799692Z"
    }
   },
   "outputs": [],
   "source": [
    "with gzip.open('data/paper-round-3/event-annotated/auto-sample-communities-merged-pre-filter.csv.gz', 'rt') as f:\n",
    "    comms = pd.read_csv(f, index_col='id')\n",
    "\n",
    "assert comms.index.is_unique\n",
    "\n",
    "comms.shape"
   ]
  },
  {
   "cell_type": "code",
   "execution_count": null,
   "metadata": {
    "execution": {
     "iopub.execute_input": "2023-07-29T00:03:32.880374Z",
     "iopub.status.busy": "2023-07-29T00:03:32.880044Z",
     "iopub.status.idle": "2023-07-29T00:07:45.075667Z",
     "shell.execute_reply": "2023-07-29T00:07:45.074399Z"
    }
   },
   "outputs": [],
   "source": [
    "with gzip.open('data/paper-round-3/event-annotated/auto-sample.csv.gz', 'rt') as f:\n",
    "    dat = pd.read_csv(f, index_col='id', dtype={'year': int}, parse_dates=['timestamp'])\n",
    "\n",
    "assert dat.index.is_unique\n",
    "\n",
    "dat.shape"
   ]
  },
  {
   "cell_type": "code",
   "execution_count": null,
   "metadata": {
    "execution": {
     "iopub.execute_input": "2023-07-29T00:07:45.080584Z",
     "iopub.status.busy": "2023-07-29T00:07:45.080310Z",
     "iopub.status.idle": "2023-07-29T00:07:59.405515Z",
     "shell.execute_reply": "2023-07-29T00:07:59.404544Z"
    }
   },
   "outputs": [],
   "source": [
    "dat['group'] = comms['group']\n",
    "dat = dat.loc[dat['group'].notna()]  # only selected stories, keep this manageably small\n",
    "dat['group'] = dat['group'].astype(int)\n",
    "dat['story_id'] = dat['year'].astype(str) + '-' + dat['kind'] + '-' + dat['group'].astype(str)\n",
    "\n",
    "assert dat['story_id'].isna().sum() == 0\n",
    "\n",
    "del comms"
   ]
  },
  {
   "cell_type": "markdown",
   "metadata": {},
   "source": [
    "## Story-level"
   ]
  },
  {
   "cell_type": "code",
   "execution_count": null,
   "metadata": {
    "execution": {
     "iopub.execute_input": "2023-07-29T00:07:59.411175Z",
     "iopub.status.busy": "2023-07-29T00:07:59.410800Z",
     "iopub.status.idle": "2023-07-29T00:07:59.455835Z",
     "shell.execute_reply": "2023-07-29T00:07:59.454999Z"
    }
   },
   "outputs": [],
   "source": [
    "stats = pd.read_csv('data/paper-round-3/event-annotated/auto-story-stats.csv', index_col='story_id')\n",
    "assert stats.index.is_unique\n",
    "\n",
    "assert (stats.groupby(['year', 'kind']).size() == stats.groupby(['year', 'kind'])['group'].nunique()).all()"
   ]
  },
  {
   "cell_type": "code",
   "execution_count": null,
   "metadata": {
    "execution": {
     "iopub.execute_input": "2023-07-29T00:07:59.461090Z",
     "iopub.status.busy": "2023-07-29T00:07:59.460826Z",
     "iopub.status.idle": "2023-07-29T00:07:59.473877Z",
     "shell.execute_reply": "2023-07-29T00:07:59.472879Z"
    }
   },
   "outputs": [],
   "source": [
    "selected = pd.read_csv('data/paper-round-3/event-annotated/auto-sample-communities-filter-list.csv', index_col='story_id')\n",
    "assert selected.index.is_unique"
   ]
  },
  {
   "cell_type": "markdown",
   "metadata": {},
   "source": [
    "## Filter to only selected stories"
   ]
  },
  {
   "cell_type": "code",
   "execution_count": null,
   "metadata": {
    "execution": {
     "iopub.execute_input": "2023-07-29T00:07:59.479228Z",
     "iopub.status.busy": "2023-07-29T00:07:59.478960Z",
     "iopub.status.idle": "2023-07-29T00:07:59.494611Z",
     "shell.execute_reply": "2023-07-29T00:07:59.493651Z"
    }
   },
   "outputs": [],
   "source": [
    "length_mask = (stats['count'] >= 10)\n",
    "selected_mask = stats.index.isin(selected.index)\n",
    "\n",
    "mask = (\n",
    "    length_mask\n",
    "    & selected_mask\n",
    ")\n",
    "\n",
    "mask.sum(), stats.shape[0]"
   ]
  },
  {
   "cell_type": "code",
   "execution_count": null,
   "metadata": {
    "execution": {
     "iopub.execute_input": "2023-07-29T00:07:59.501041Z",
     "iopub.status.busy": "2023-07-29T00:07:59.500776Z",
     "iopub.status.idle": "2023-07-29T00:08:01.123109Z",
     "shell.execute_reply": "2023-07-29T00:08:01.122351Z"
    }
   },
   "outputs": [],
   "source": [
    "tmp_dat = dat.loc[dat['story_id'].isin(stats.loc[mask].index)]\n",
    "\n",
    "# sorting by length (in characters, as a proxy for length in tokens) makes\n",
    "# the batching much more efficient, wastes less compute, finishes faster\n",
    "tmp_dat = tmp_dat.loc[tmp_dat['content'].str.len().sort_values(ascending=False).index, :]\n",
    "\n",
    "tmp_dat = tmp_dat.reset_index()\n",
    "\n",
    "tmp_dat.shape"
   ]
  },
  {
   "cell_type": "markdown",
   "metadata": {
    "tags": []
   },
   "source": [
    "# Calculate various kinds of sentiment"
   ]
  },
  {
   "cell_type": "code",
   "execution_count": null,
   "metadata": {
    "execution": {
     "iopub.execute_input": "2023-07-29T00:08:01.128136Z",
     "iopub.status.busy": "2023-07-29T00:08:01.127778Z",
     "iopub.status.idle": "2023-07-29T00:08:01.131993Z",
     "shell.execute_reply": "2023-07-29T00:08:01.131260Z"
    }
   },
   "outputs": [],
   "source": [
    "device = 'cuda:1'\n",
    "modspec = 'facebook/bart-large-mnli'"
   ]
  },
  {
   "cell_type": "code",
   "execution_count": null,
   "metadata": {
    "execution": {
     "iopub.execute_input": "2023-07-29T00:08:01.136807Z",
     "iopub.status.busy": "2023-07-29T00:08:01.136477Z",
     "iopub.status.idle": "2023-07-29T00:08:55.245283Z",
     "shell.execute_reply": "2023-07-29T00:08:55.243888Z"
    }
   },
   "outputs": [],
   "source": [
    "model = tf.AutoModelForSequenceClassification.from_pretrained(modspec).to(device)\n",
    "tokenizer = tf.AutoTokenizer.from_pretrained(modspec)"
   ]
  },
  {
   "cell_type": "code",
   "execution_count": null,
   "metadata": {
    "execution": {
     "iopub.execute_input": "2023-07-29T00:08:55.254080Z",
     "iopub.status.busy": "2023-07-29T00:08:55.251337Z",
     "iopub.status.idle": "2023-07-29T00:08:55.260815Z",
     "shell.execute_reply": "2023-07-29T00:08:55.259570Z"
    }
   },
   "outputs": [],
   "source": [
    "hypothesis = 'This example is {label}.'\n",
    "\n",
    "labels = [\n",
    "    'negative',\n",
    "    'emotional',\n",
    "    'outraged',\n",
    "]"
   ]
  },
  {
   "cell_type": "code",
   "execution_count": null,
   "metadata": {
    "execution": {
     "iopub.execute_input": "2023-07-29T00:08:55.266672Z",
     "iopub.status.busy": "2023-07-29T00:08:55.266192Z",
     "iopub.status.idle": "2023-07-29T07:27:18.161066Z",
     "shell.execute_reply": "2023-07-29T07:27:18.159457Z"
    },
    "tags": []
   },
   "outputs": [],
   "source": [
    "batch_size = 64\n",
    "texts = tmp_dat['content'].tolist()\n",
    "idx = tmp_dat.index\n",
    "\n",
    "# # uncomment to run only a few batches\n",
    "# n_batches = 50\n",
    "# total = batch_size * n_batches\n",
    "# texts = texts[0:total]\n",
    "# idx = idx[0:total]\n",
    "\n",
    "scores = []\n",
    "for batch in tqdm(grouper(texts, batch_size), total=int(np.ceil(len(texts) / batch_size))):\n",
    "    out = []\n",
    "    for lab in labels:\n",
    "        hyp = [hypothesis.format(label=lab) for b in batch]\n",
    "        x = tokenizer(batch, hyp, return_tensors='pt', padding='longest', truncation=True)\n",
    "        input_ids, attention_mask = x['input_ids'].to(device), x['attention_mask'].to(device)\n",
    "        \n",
    "        with torch.no_grad():\n",
    "            logits = model(input_ids, attention_mask)[0]\n",
    "\n",
    "        # we throw away \"neutral\" (dim 1) and take the probability of\n",
    "        # \"entailment\" (2) as the probability of the label being true \n",
    "        probs = logits[:,[0,2]].softmax(dim=1)\n",
    "        probs = probs[:,1]\n",
    "        \n",
    "        out += [probs.cpu().numpy()]\n",
    "    out = np.stack(out, axis=1)\n",
    "    scores += [out]\n",
    "\n",
    "scores = np.concatenate(scores, axis=0)\n",
    "scores = pd.DataFrame(scores, columns=labels)\n",
    "scores.index = idx\n",
    "scores = pd.concat([\n",
    "    scores,\n",
    "    tmp_dat.loc[idx, ['id', 'kind', 'year', 'group', 'reltime', 'story_id']]\n",
    "], axis=1)"
   ]
  },
  {
   "cell_type": "markdown",
   "metadata": {},
   "source": [
    "# Write out"
   ]
  },
  {
   "cell_type": "code",
   "execution_count": null,
   "metadata": {
    "execution": {
     "iopub.execute_input": "2023-07-29T07:27:18.167715Z",
     "iopub.status.busy": "2023-07-29T07:27:18.166999Z",
     "iopub.status.idle": "2023-07-29T07:27:34.299821Z",
     "shell.execute_reply": "2023-07-29T07:27:34.298716Z"
    }
   },
   "outputs": [],
   "source": [
    "with gzip.open('data/paper-round-3/event-annotated/auto-qualitative-scores.csv.gz', 'wt') as f:\n",
    "    scores.to_csv(f, sep='\\t', index=False)"
   ]
  },
  {
   "cell_type": "code",
   "execution_count": null,
   "metadata": {},
   "outputs": [],
   "source": []
  }
 ],
 "metadata": {
  "kernelspec": {
   "display_name": "DL",
   "language": "python",
   "name": "dl"
  },
  "language_info": {
   "codemirror_mode": {
    "name": "ipython",
    "version": 3
   },
   "file_extension": ".py",
   "mimetype": "text/x-python",
   "name": "python",
   "nbconvert_exporter": "python",
   "pygments_lexer": "ipython3",
   "version": "3.10.10"
  },
  "widgets": {
   "application/vnd.jupyter.widget-state+json": {
    "state": {},
    "version_major": 2,
    "version_minor": 0
   }
  }
 },
 "nbformat": 4,
 "nbformat_minor": 4
}
