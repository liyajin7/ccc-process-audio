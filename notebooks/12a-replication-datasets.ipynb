{
 "cells": [
  {
   "cell_type": "code",
   "execution_count": null,
   "metadata": {},
   "outputs": [],
   "source": [
    "import os\n",
    "import gzip\n",
    "import random\n",
    "import logging\n",
    "\n",
    "import numpy as np\n",
    "import pandas as pd"
   ]
  },
  {
   "cell_type": "code",
   "execution_count": null,
   "metadata": {},
   "outputs": [],
   "source": [
    "logger = logging.getLogger(__name__)\n",
    "\n",
    "fmt = '%(asctime)s : %(levelname)s : %(message)s'\n",
    "logging.basicConfig(format=fmt, level=logging.INFO)"
   ]
  },
  {
   "cell_type": "code",
   "execution_count": null,
   "metadata": {},
   "outputs": [],
   "source": [
    "os.chdir(os.path.expanduser('~/github/masthesis/'))"
   ]
  },
  {
   "cell_type": "code",
   "execution_count": null,
   "metadata": {},
   "outputs": [],
   "source": [
    "seed = 2969591811\n",
    "\n",
    "random.seed(seed)\n",
    "np.random.seed(seed)"
   ]
  },
  {
   "cell_type": "code",
   "execution_count": null,
   "metadata": {},
   "outputs": [],
   "source": [
    "%%bash\n",
    "\n",
    "rm -rf data/paper-round-3/replication-datasets/\n",
    "mkdir -p data/paper-round-3/replication-datasets/"
   ]
  },
  {
   "cell_type": "markdown",
   "metadata": {},
   "source": [
    "# Manual data"
   ]
  },
  {
   "cell_type": "markdown",
   "metadata": {},
   "source": [
    "## Twitter"
   ]
  },
  {
   "cell_type": "code",
   "execution_count": null,
   "metadata": {},
   "outputs": [],
   "source": [
    "raw_elite = pd.read_csv('data/paper-round-3/event-annotated/raw-elite.csv')[['id']]\n",
    "assert raw_elite.nunique().item() == raw_elite.shape[0]\n",
    "with gzip.open('data/paper-round-3/replication-datasets/manual-elite-tweet-ids.csv.gz', 'wt') as f:\n",
    "    raw_elite.to_csv(f, index=False)\n",
    "\n",
    "print(raw_elite.shape[0])\n",
    "\n",
    "raw_decahose = pd.read_csv('data/paper-round-3/event-annotated/raw-decahose.csv')[['id']]\n",
    "assert raw_decahose.nunique().item() == raw_decahose.shape[0]\n",
    "with gzip.open('data/paper-round-3/replication-datasets/manual-firehose-tweet-ids.csv.gz', 'wt') as f:\n",
    "    raw_decahose.to_csv(f, index=False)\n",
    "\n",
    "print(raw_decahose.shape[0])"
   ]
  },
  {
   "cell_type": "markdown",
   "metadata": {},
   "source": [
    "## Radio"
   ]
  },
  {
   "cell_type": "markdown",
   "metadata": {},
   "source": [
    "### Ticks"
   ]
  },
  {
   "cell_type": "code",
   "execution_count": null,
   "metadata": {},
   "outputs": [],
   "source": [
    "ticks = pd.read_csv('data/paper-round-3/event-annotated/ticks-radio.csv')\n",
    "cols = [c for c in ticks.columns if c in ('timestamp', 'total', 'freq') or c.startswith('event_')]\n",
    "for c in set(list(ticks)) - set(cols):\n",
    "    ticks.drop(ticks.loc[ticks[c].notna()].index, axis=0, inplace=True)\n",
    "ticks = ticks.loc[ticks['freq'] == '15min', cols]\n",
    "\n",
    "ticks.to_csv('data/paper-round-3/replication-datasets/manual-radio-ticks.csv', index=False)"
   ]
  },
  {
   "cell_type": "markdown",
   "metadata": {
    "execution": {
     "iopub.execute_input": "2023-11-07T19:39:40.248492Z",
     "iopub.status.busy": "2023-11-07T19:39:40.246676Z",
     "iopub.status.idle": "2023-11-07T19:43:43.799705Z",
     "shell.execute_reply": "2023-11-07T19:43:43.798704Z"
    }
   },
   "source": [
    "### Item-level data"
   ]
  },
  {
   "cell_type": "code",
   "execution_count": null,
   "metadata": {},
   "outputs": [],
   "source": [
    "raw_radio = pd.read_csv('data/paper-round-3/event-annotated/raw-radio.csv')\n",
    "cols = [c for c in raw_radio.columns if c in ('snippet_id', 'timestamp') or c.startswith('event_')]\n",
    "raw_radio = raw_radio[cols]\n",
    "\n",
    "with gzip.open('data/paper-round-3/replication-datasets/manual-radio-raw.csv.gz', 'wt') as f:\n",
    "    raw_radio.to_csv(f, index=False)"
   ]
  },
  {
   "cell_type": "markdown",
   "metadata": {},
   "source": [
    "# Automated data"
   ]
  },
  {
   "cell_type": "markdown",
   "metadata": {},
   "source": [
    "## Load common data"
   ]
  },
  {
   "cell_type": "code",
   "execution_count": null,
   "metadata": {},
   "outputs": [],
   "source": [
    "with gzip.open('data/paper-round-3/event-annotated/auto-sample.csv.gz', 'rt') as f:\n",
    "    dat = pd.read_csv(f, parse_dates=['timestamp'], index_col='id')\n",
    "    assert dat.index.is_unique\n",
    "\n",
    "    dat.drop(['has_whisper', 'content'], axis=1, inplace=True)\n",
    "    dat.drop(dat.loc[dat['year'] > 2021].index, axis=0, inplace=True)\n",
    "    \n",
    "print(dat.shape[0])"
   ]
  },
  {
   "cell_type": "markdown",
   "metadata": {},
   "source": [
    "## Twitter"
   ]
  },
  {
   "cell_type": "code",
   "execution_count": null,
   "metadata": {},
   "outputs": [],
   "source": [
    "elite_tweet_ids = dat.loc[dat['kind'] == 'elite'].reset_index()[['id']].copy()\n",
    "elite_tweet_ids['id'] = elite_tweet_ids['id'].str.replace('E', '').astype(int)\n",
    "assert elite_tweet_ids['id'].nunique() == elite_tweet_ids.shape[0]\n",
    "with gzip.open('data/paper-round-3/replication-datasets/auto-elite-tweet-ids.csv.gz', 'wt') as f:\n",
    "    elite_tweet_ids.to_csv(f, index=False)\n",
    "\n",
    "print(elite_tweet_ids.shape[0])\n",
    "\n",
    "firehose_tweet_ids = dat.loc[dat['kind'] == 'decahose'].reset_index()[['id']].copy()\n",
    "firehose_tweet_ids['id'] = firehose_tweet_ids['id'].str.replace('D', '').astype(int)\n",
    "assert firehose_tweet_ids['id'].nunique() == firehose_tweet_ids.shape[0]\n",
    "with gzip.open('data/paper-round-3/replication-datasets/auto-firehose-tweet-ids.csv.gz', 'wt') as f:\n",
    "    firehose_tweet_ids.to_csv(f, index=False)\n",
    "\n",
    "print(firehose_tweet_ids.shape[0])"
   ]
  },
  {
   "cell_type": "markdown",
   "metadata": {},
   "source": [
    "## Radio"
   ]
  },
  {
   "cell_type": "markdown",
   "metadata": {},
   "source": [
    "### Item-level"
   ]
  },
  {
   "cell_type": "code",
   "execution_count": null,
   "metadata": {},
   "outputs": [],
   "source": [
    "dat.drop(dat.loc[dat['kind'] != 'radio'].index, axis=0, inplace=True)"
   ]
  },
  {
   "cell_type": "code",
   "execution_count": null,
   "metadata": {},
   "outputs": [],
   "source": [
    "with gzip.open('data/paper-round-3/event-annotated/auto-sample-communities-merged-pre-filter.csv.gz', 'rt') as f:\n",
    "    comms = pd.read_csv(f, index_col='id')\n",
    "    assert comms.index.is_unique\n",
    "    assert comms['year'].isna().sum() == 0\n",
    "dat['group'] = comms['group']\n",
    "del comms\n",
    "\n",
    "print(dat.shape[0])"
   ]
  },
  {
   "cell_type": "code",
   "execution_count": null,
   "metadata": {},
   "outputs": [],
   "source": [
    "affect_scores = pd.read_csv('data/paper-round-3/event-annotated/auto-qualitative-scores.csv',\n",
    "                            sep='\\t', index_col='id')\n",
    "assert affect_scores.index.is_unique\n",
    "dat = dat.merge(affect_scores[['negative', 'emotional', 'outraged']],\n",
    "                how='left', left_index=True, right_index=True).reset_index()\n",
    "assert dat['id'].nunique() == dat.shape[0]\n",
    "del affect_scores\n",
    "\n",
    "print(dat.shape[0])"
   ]
  },
  {
   "cell_type": "code",
   "execution_count": null,
   "metadata": {},
   "outputs": [],
   "source": [
    "def story_id(s):\n",
    "    if np.isnan(s['group']):\n",
    "        return np.nan\n",
    "    else:\n",
    "        return str(int(s['year'])) + '-' + s['kind'] + '-' + str(int(s['group']))\n",
    "        \n",
    "dat['story_id'] = dat.apply(story_id, axis=1)\n",
    "\n",
    "print(dat.shape[0])"
   ]
  },
  {
   "cell_type": "code",
   "execution_count": null,
   "metadata": {},
   "outputs": [],
   "source": [
    "dat['id'] = dat['id'].str.replace('R', '').astype(int)\n",
    "dat.rename({'id': 'snippet_id'}, axis=1, inplace=True)"
   ]
  },
  {
   "cell_type": "code",
   "execution_count": null,
   "metadata": {},
   "outputs": [],
   "source": [
    "assert dat['kind'].unique() == 'radio'\n",
    "assert dat['snippet_id'].nunique() == dat.shape[0]\n",
    "with gzip.open('data/paper-round-3/replication-datasets/auto-radio-sample.csv.gz', 'wt') as f:\n",
    "    dat.to_csv(f, index=False)\n",
    "\n",
    "print(dat.shape[0])"
   ]
  },
  {
   "cell_type": "markdown",
   "metadata": {},
   "source": [
    "### Story-level"
   ]
  },
  {
   "cell_type": "code",
   "execution_count": null,
   "metadata": {},
   "outputs": [],
   "source": [
    "selected = pd.read_csv('data/paper-round-3/event-annotated/auto-sample-communities-filter-list.csv')\n",
    "\n",
    "selected = selected.loc[selected['kind'] == 'radio'].copy()\n",
    "\n",
    "selected.to_csv('data/paper-round-3/replication-datasets/auto-radio-story-selected.csv', index=False)\n",
    "\n",
    "print(selected.shape[0])"
   ]
  },
  {
   "cell_type": "code",
   "execution_count": null,
   "metadata": {},
   "outputs": [],
   "source": [
    "stats = pd.read_csv('data/paper-round-3/event-annotated/auto-story-stats.csv')\n",
    "assert stats['story_id'].nunique() == stats.shape[0]\n",
    "\n",
    "stats.drop(['avg_abs', 'covid_frac'], axis=1, inplace=True)\n",
    "\n",
    "mask = (stats['kind'] == 'radio')\n",
    "stats = stats.loc[mask].copy()\n",
    "\n",
    "stats.to_csv('data/paper-round-3/replication-datasets/auto-radio-story-stats.csv', index=False)\n",
    "\n",
    "print(stats.shape[0])"
   ]
  },
  {
   "cell_type": "code",
   "execution_count": null,
   "metadata": {},
   "outputs": [],
   "source": [
    "with open('data/paper-round-3/event-annotated/auto-story-cdfs.npy', 'rb') as f:\n",
    "    cdfs = np.load(f)\n",
    "\n",
    "cdfs = cdfs[mask, ...]\n",
    "assert cdfs.shape[0] == stats.shape[0]\n",
    "\n",
    "with gzip.open('data/paper-round-3/replication-datasets/auto-radio-story-cdfs.npy.gz', 'wb') as f:\n",
    "    np.save(f, cdfs)\n",
    "\n",
    "print(cdfs.shape[0])"
   ]
  },
  {
   "cell_type": "code",
   "execution_count": null,
   "metadata": {},
   "outputs": [],
   "source": [
    "stats_lib = pd.read_csv('data/paper-round-3/event-annotated/auto-story-stats-lib.csv')\n",
    "stats_lib.drop(['covid_frac'], axis=1, inplace=True)\n",
    "mask_lib = (stats_lib['kind'] == 'radio')\n",
    "stats_lib = stats_lib.loc[mask_lib].copy()\n",
    "\n",
    "stats_lib.to_csv('data/paper-round-3/replication-datasets/auto-radio-story-stats-lib.csv', index=False)\n",
    "print(stats_lib.shape[0])\n",
    "\n",
    "stats_con = pd.read_csv('data/paper-round-3/event-annotated/auto-story-stats-con.csv')\n",
    "stats_con.drop(['covid_frac'], axis=1, inplace=True)\n",
    "mask_con = (stats_con['kind'] == 'radio')\n",
    "stats_con = stats_con.loc[mask_con].copy()\n",
    "\n",
    "stats_con.to_csv('data/paper-round-3/replication-datasets/auto-radio-story-stats-con.csv', index=False)\n",
    "print(stats_con.shape[0])"
   ]
  },
  {
   "cell_type": "code",
   "execution_count": null,
   "metadata": {},
   "outputs": [],
   "source": [
    "with open('data/paper-round-3/event-annotated/auto-story-cdfs-lib.npy', 'rb') as f:\n",
    "    cdfs_lib = np.load(f)\n",
    "cdfs_lib = cdfs_lib[mask_lib, ...]\n",
    "assert cdfs_lib.shape[0] == stats_lib.shape[0]\n",
    "with gzip.open('data/paper-round-3/replication-datasets/auto-radio-story-cdfs-lib.npy.gz', 'wb') as f:\n",
    "    np.save(f, cdfs_lib)\n",
    "\n",
    "print(cdfs_lib.shape[0])\n",
    "\n",
    "with open('data/paper-round-3/event-annotated/auto-story-cdfs-con.npy', 'rb') as f:\n",
    "    cdfs_con = np.load(f)\n",
    "cdfs_con = cdfs_con[mask_con, ...]\n",
    "assert cdfs_con.shape[0] == stats_con.shape[0]\n",
    "with gzip.open('data/paper-round-3/replication-datasets/auto-radio-story-cdfs-con.npy.gz', 'wb') as f:\n",
    "    np.save(f, cdfs_con)\n",
    "\n",
    "print(cdfs_con.shape[0])"
   ]
  },
  {
   "cell_type": "markdown",
   "metadata": {},
   "source": [
    "# Inspect the results"
   ]
  },
  {
   "cell_type": "code",
   "execution_count": null,
   "metadata": {},
   "outputs": [],
   "source": [
    "!ls -lh data/paper-round-3/replication-datasets/"
   ]
  },
  {
   "cell_type": "code",
   "execution_count": null,
   "metadata": {},
   "outputs": [],
   "source": []
  }
 ],
 "metadata": {
  "kernelspec": {
   "display_name": "DL",
   "language": "python",
   "name": "dl"
  },
  "language_info": {
   "codemirror_mode": {
    "name": "ipython",
    "version": 3
   },
   "file_extension": ".py",
   "mimetype": "text/x-python",
   "name": "python",
   "nbconvert_exporter": "python",
   "pygments_lexer": "ipython3",
   "version": "3.10.10"
  },
  "widgets": {
   "application/vnd.jupyter.widget-state+json": {
    "state": {},
    "version_major": 2,
    "version_minor": 0
   }
  }
 },
 "nbformat": 4,
 "nbformat_minor": 4
}
