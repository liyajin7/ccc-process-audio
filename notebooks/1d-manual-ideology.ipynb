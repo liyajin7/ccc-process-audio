{
 "cells": [
  {
   "cell_type": "code",
   "execution_count": null,
   "metadata": {
    "tags": []
   },
   "outputs": [],
   "source": [
    "import os\n",
    "import math\n",
    "import logging\n",
    "\n",
    "import numpy as np\n",
    "import pandas as pd\n",
    "\n",
    "from statsmodels.distributions.empirical_distribution import ECDF\n",
    "\n",
    "import seaborn as sns\n",
    "import matplotlib as mp\n",
    "%matplotlib inline\n",
    "import matplotlib.pyplot as plt\n",
    "\n",
    "from IPython.display import display"
   ]
  },
  {
   "cell_type": "code",
   "execution_count": null,
   "metadata": {
    "tags": []
   },
   "outputs": [],
   "source": [
    "logger = logging.getLogger(__name__)\n",
    "\n",
    "fmt = '%(asctime)s : %(levelname)s : %(message)s'\n",
    "logging.basicConfig(format=fmt, level=logging.INFO)\n",
    "\n",
    "logging.getLogger(\"gensim\").setLevel(logging.WARNING)"
   ]
  },
  {
   "cell_type": "code",
   "execution_count": null,
   "metadata": {
    "tags": []
   },
   "outputs": [],
   "source": [
    "os.chdir(os.path.expanduser('~/github/masthesis/'))"
   ]
  },
  {
   "cell_type": "code",
   "execution_count": null,
   "metadata": {},
   "outputs": [],
   "source": [
    "colors = sns.color_palette('bright', 10)\n",
    "\n",
    "elite_color = colors[3]\n",
    "radio_color = colors[0]\n",
    "decahose_color = colors[9]\n",
    "decahose2_color = colors[4]"
   ]
  },
  {
   "cell_type": "markdown",
   "metadata": {},
   "source": [
    "# Load data"
   ]
  },
  {
   "cell_type": "code",
   "execution_count": null,
   "metadata": {},
   "outputs": [],
   "source": [
    "events = pd.read_csv('data/paper-round-3/metadata/event-terms.csv', parse_dates=['timestamp'])\n",
    "events['date'] = events['timestamp'].dt.date\n",
    "\n",
    "radio_ticks = pd.read_csv('data/paper-round-3/event-annotated/ticks-radio.csv')\n",
    "radio_ticks['timestamp'] = pd.to_datetime(radio_ticks['timestamp'])\n",
    "\n",
    "elite_ticks = pd.read_csv('data/paper-round-3/event-annotated/ticks-elite.csv')\n",
    "elite_ticks['timestamp'] = pd.to_datetime(elite_ticks['timestamp'])\n",
    "\n",
    "radio_ticks_overall = radio_ticks.loc[\n",
    "    ~radio_ticks['is_public'].isna(),\n",
    ":] \\\n",
    "    .drop(['station_census_region', 'am_band', 'syndicated'], axis=1) \\\n",
    "\n",
    "elite_ticks_overall = elite_ticks.loc[\n",
    "    ~elite_ticks['conservative'].isna(),\n",
    ":] \\\n",
    "    .drop('is_retweet', axis=1) \\\n",
    "\n",
    "radio_ticks_overall['is_public'] = radio_ticks_overall['is_public'].apply(lambda s: 1 if s == 0 else 0)\n",
    "radio_ticks_overall = radio_ticks_overall.rename({'is_public': 'conservative'}, axis=1)\n",
    "\n",
    "radio_ticks_overall['conservative'] = radio_ticks_overall['conservative'].astype(int)\n",
    "elite_ticks_overall['conservative'] = elite_ticks_overall['conservative'].astype(int)\n",
    "\n",
    "assert radio_ticks_overall.isna().sum().sum() == 0\n",
    "assert elite_ticks_overall.isna().sum().sum() == 0"
   ]
  },
  {
   "cell_type": "code",
   "execution_count": null,
   "metadata": {},
   "outputs": [],
   "source": [
    "event_cols = list(\n",
    "    set(c for c in list(radio_ticks) if c.startswith('event_')) &\n",
    "    set(c for c in list(elite_ticks) if c.startswith('event_'))\n",
    ")"
   ]
  },
  {
   "cell_type": "code",
   "execution_count": null,
   "metadata": {},
   "outputs": [],
   "source": [
    "radio_ticks_overall = radio_ticks_overall.set_index(['freq', 'timestamp', 'conservative'])\n",
    "elite_ticks_overall = elite_ticks_overall.set_index(['freq', 'timestamp', 'conservative'])"
   ]
  },
  {
   "cell_type": "markdown",
   "metadata": {},
   "source": [
    "# Visualize raw counts"
   ]
  },
  {
   "cell_type": "markdown",
   "metadata": {},
   "source": [
    "## 15min"
   ]
  },
  {
   "cell_type": "code",
   "execution_count": null,
   "metadata": {
    "tags": []
   },
   "outputs": [],
   "source": [
    "for event in event_cols:\n",
    "    period = '15min'\n",
    "    \n",
    "    tmp = pd.concat([\n",
    "        radio_ticks_overall.loc[pd.IndexSlice[period, :], event].rename('radio'),\n",
    "        elite_ticks_overall.loc[pd.IndexSlice[period, :], event].rename('elite'),\n",
    "    ], axis=1)\n",
    "    \n",
    "    tmp = tmp.reset_index().pivot(\n",
    "        index=['freq', 'timestamp'],\n",
    "        columns='conservative',\n",
    "        values=['radio', 'elite']\n",
    "    )\n",
    "\n",
    "    assert tmp.index.get_level_values(0).unique().shape[0] == 1\n",
    "    tmp.index = tmp.index.droplevel(0)\n",
    "    tmp = tmp.reset_index()\n",
    "    \n",
    "    timestamp = events.loc[events['event'] == event.replace('event_', ''), 'timestamp'].item()\n",
    "    date = events.loc[events['event'] == event.replace('event_', ''), 'date'].item()\n",
    "    \n",
    "    tmp = tmp.loc[\n",
    "        (tmp['timestamp'] >= pd.Timestamp(timestamp) - pd.Timedelta('6h')) &\n",
    "        (tmp['timestamp'] <= pd.Timestamp(timestamp) + pd.Timedelta('3d')),\n",
    "    :]\n",
    "    \n",
    "    tmp = tmp.set_index('timestamp')\n",
    "    \n",
    "    fig, axes = plt.subplots(2, 2, figsize=(12, 10), sharex=True)\n",
    "    \n",
    "    fig.suptitle(event.replace('event_', '').replace('_', ' ').title().replace('Nba', 'NBA'))\n",
    "    \n",
    "    for ax in axes.flatten():\n",
    "        ax.axvline(timestamp, color='red')\n",
    "        \n",
    "    axes[0][0].set_title('Radio / Liberal')\n",
    "    axes[1][0].set_title('Elite / Liberal')\n",
    "    axes[0][1].set_title('Radio / Conservative')\n",
    "    axes[1][1].set_title('Elite / Conservative')\n",
    "    \n",
    "    tmp['radio'][0].plot(ax=axes[0][0], rot=45, label='radio', color=radio_color)    \n",
    "    tmp['elite'][0].plot(ax=axes[1][0], rot=45, label='elite', color=elite_color)\n",
    "    tmp['radio'][1].plot(ax=axes[0][1], rot=45, label='radio', color=radio_color)\n",
    "    tmp['elite'][1].plot(ax=axes[1][1], rot=45, label='elite', color=elite_color)\n",
    "    \n",
    "    fig.tight_layout()"
   ]
  },
  {
   "cell_type": "markdown",
   "metadata": {},
   "source": [
    "## 6 hours"
   ]
  },
  {
   "cell_type": "code",
   "execution_count": null,
   "metadata": {
    "tags": []
   },
   "outputs": [],
   "source": [
    "for event in event_cols:\n",
    "    period = '6H'\n",
    "    \n",
    "    tmp = pd.concat([\n",
    "        radio_ticks_overall.loc[pd.IndexSlice[period, :], event].rename('radio'),\n",
    "        elite_ticks_overall.loc[pd.IndexSlice[period, :], event].rename('elite'),\n",
    "    ], axis=1)\n",
    "    \n",
    "    tmp = tmp.reset_index().pivot(\n",
    "        index=['freq', 'timestamp'],\n",
    "        columns='conservative',\n",
    "        values=['radio', 'elite']\n",
    "    )\n",
    "    \n",
    "    assert tmp.index.get_level_values(0).unique().shape[0] == 1\n",
    "    tmp.index = tmp.index.droplevel(0)\n",
    "    tmp = tmp.reset_index()\n",
    "    \n",
    "    timestamp = events.loc[events['event'] == event.replace('event_', ''), 'timestamp'].item()\n",
    "    date = events.loc[events['event'] == event.replace('event_', ''), 'date'].item()\n",
    "    \n",
    "    tmp = tmp.loc[\n",
    "        (tmp['timestamp'] >= pd.Timestamp(timestamp) - pd.Timedelta('6h')) &\n",
    "        (tmp['timestamp'] <= pd.Timestamp(timestamp) + pd.Timedelta('3d')),\n",
    "    :]\n",
    "    \n",
    "    tmp = tmp.set_index('timestamp')\n",
    "    \n",
    "    fig, axes = plt.subplots(2, 2, figsize=(12, 10), sharex=True)\n",
    "    \n",
    "    fig.suptitle(event.replace('event_', '').replace('_', ' ').title().replace('Nba', 'NBA'))\n",
    "    \n",
    "    for ax in axes.flatten():\n",
    "        ax.axvline(timestamp, color='red')\n",
    "        \n",
    "    axes[0][0].set_title('Radio / Liberal')\n",
    "    axes[1][0].set_title('Elite / Liberal')\n",
    "    axes[0][1].set_title('Radio / Conservative')\n",
    "    axes[1][1].set_title('Elite / Conservative')\n",
    "    \n",
    "    tmp['radio'][0].plot(ax=axes[0][0], rot=45, label='radio', color=radio_color)    \n",
    "    tmp['elite'][0].plot(ax=axes[1][0], rot=45, label='elite', color=elite_color)\n",
    "    tmp['radio'][1].plot(ax=axes[0][1], rot=45, label='radio', color=radio_color)\n",
    "    tmp['elite'][1].plot(ax=axes[1][1], rot=45, label='elite', color=elite_color)\n",
    "    \n",
    "    fig.tight_layout()"
   ]
  },
  {
   "cell_type": "markdown",
   "metadata": {},
   "source": [
    "## 1 day"
   ]
  },
  {
   "cell_type": "code",
   "execution_count": null,
   "metadata": {
    "tags": []
   },
   "outputs": [],
   "source": [
    "for event in event_cols:\n",
    "    period = '1D'\n",
    "    \n",
    "    tmp = pd.concat([\n",
    "        radio_ticks_overall.loc[pd.IndexSlice[period, :], event].rename('radio'),\n",
    "        elite_ticks_overall.loc[pd.IndexSlice[period, :], event].rename('elite'),\n",
    "    ], axis=1)\n",
    "    \n",
    "    tmp = tmp.reset_index().pivot(\n",
    "        index=['freq', 'timestamp'],\n",
    "        columns='conservative',\n",
    "        values=['radio', 'elite']\n",
    "    )    \n",
    "\n",
    "    assert tmp.index.get_level_values(0).unique().shape[0] == 1\n",
    "    tmp.index = tmp.index.droplevel(0)\n",
    "    tmp = tmp.reset_index()\n",
    "    \n",
    "    timestamp = events.loc[events['event'] == event.replace('event_', ''), 'timestamp'].item()\n",
    "    date = events.loc[events['event'] == event.replace('event_', ''), 'date'].item()\n",
    "    \n",
    "    tmp = tmp.loc[\n",
    "        (tmp['timestamp'] >= pd.Timestamp(timestamp) - pd.Timedelta('6h')) &\n",
    "        (tmp['timestamp'] <= pd.Timestamp(timestamp) + pd.Timedelta('3d')),\n",
    "    :]\n",
    "    \n",
    "    tmp = tmp.set_index('timestamp')\n",
    "    \n",
    "    fig, axes = plt.subplots(2, 2, figsize=(12, 10), sharex=True)\n",
    "    \n",
    "    fig.suptitle(event.replace('event_', '').replace('_', ' ').title().replace('Nba', 'NBA'))\n",
    "    \n",
    "    for ax in axes.flatten():\n",
    "        ax.axvline(timestamp, color='red')\n",
    "        \n",
    "    axes[0][0].set_title('Radio / Liberal')\n",
    "    axes[1][0].set_title('Elite / Liberal')\n",
    "    axes[0][1].set_title('Radio / Conservative')\n",
    "    axes[1][1].set_title('Elite / Conservative')\n",
    "    \n",
    "    tmp['radio'][0].plot(ax=axes[0][0], rot=45, label='radio', color=radio_color)\n",
    "    tmp['elite'][0].plot(ax=axes[1][0], rot=45, label='elite', color=elite_color)\n",
    "    tmp['radio'][1].plot(ax=axes[0][1], rot=45, label='radio', color=radio_color)\n",
    "    tmp['elite'][1].plot(ax=axes[1][1], rot=45, label='elite', color=elite_color)\n",
    "    \n",
    "    fig.tight_layout()"
   ]
  },
  {
   "cell_type": "markdown",
   "metadata": {},
   "source": [
    "# Summary stats"
   ]
  },
  {
   "cell_type": "markdown",
   "metadata": {},
   "source": [
    "## Utils"
   ]
  },
  {
   "cell_type": "code",
   "execution_count": null,
   "metadata": {
    "tags": []
   },
   "outputs": [],
   "source": [
    "def repeat_reltime_row(row):\n",
    "    return [row['reltime'] for _ in range(row['cnt'])]\n",
    "\n",
    "def repeat_reltime(df):\n",
    "    vals = df.apply(repeat_reltime_row, axis=1).tolist()\n",
    "    vals = [x for row in vals for x in row]\n",
    "    vals = pd.Series(vals)\n",
    "    \n",
    "    return vals"
   ]
  },
  {
   "cell_type": "code",
   "execution_count": null,
   "metadata": {
    "tags": []
   },
   "outputs": [],
   "source": [
    "def iqr(df):\n",
    "    reltimes = repeat_reltime(df)\n",
    "    return np.percentile(reltimes, 75) - np.percentile(reltimes, 25)\n",
    "\n",
    "def avg(df):\n",
    "    reltimes = repeat_reltime(df)\n",
    "    return reltimes.mean()\n",
    "\n",
    "def std(df):\n",
    "    reltimes = repeat_reltime(df)    \n",
    "    return reltimes.std()"
   ]
  },
  {
   "cell_type": "markdown",
   "metadata": {},
   "source": [
    "## Compute stats"
   ]
  },
  {
   "cell_type": "code",
   "execution_count": null,
   "metadata": {
    "tags": []
   },
   "outputs": [],
   "source": [
    "out = []\n",
    "for event in event_cols:\n",
    "    period = '15min'\n",
    "    event = event.replace('event_', '')\n",
    "    \n",
    "    focal_dt = events.loc[events['event'] == event, 'timestamp'].item()\n",
    "    start_dt = focal_dt\n",
    "    end_dt = start_dt + pd.Timedelta('4d')\n",
    "\n",
    "    for conservative in (0, 1):\n",
    "        tmp = pd.concat([\n",
    "            radio_ticks_overall.loc[pd.IndexSlice[period, :, conservative], 'event_' + event].rename('radio'),\n",
    "            elite_ticks_overall.loc[pd.IndexSlice[period, :, conservative], 'event_' + event].rename('elite'),\n",
    "        ], axis=1)\n",
    "\n",
    "        radio_rt = tmp.loc[tmp['radio'] > 0, :].reset_index()[['radio', 'timestamp']].rename({'radio': 'cnt'}, axis=1)\n",
    "        radio_rt = radio_rt.loc[(radio_rt['timestamp'] >= start_dt) & (radio_rt['timestamp'] <= end_dt), :]\n",
    "        radio_rt['reltime'] = (radio_rt['timestamp'] - start_dt).dt.total_seconds()\n",
    "        assert radio_rt['cnt'].isna().sum() == 0\n",
    "        radio_rt['cnt'] = radio_rt['cnt'].astype(int)\n",
    "\n",
    "        elite_rt = tmp.loc[tmp['elite'] > 0, :].reset_index()[['elite', 'timestamp']].rename({'elite': 'cnt'}, axis=1)\n",
    "        elite_rt = elite_rt.loc[(elite_rt['timestamp'] >= start_dt) & (elite_rt['timestamp'] <= end_dt), :]\n",
    "        elite_rt['reltime'] = (elite_rt['timestamp'] - start_dt).dt.total_seconds()\n",
    "        assert elite_rt['cnt'].isna().sum() == 0\n",
    "        elite_rt['cnt'] = elite_rt['cnt'].astype(int)\n",
    "\n",
    "        out += [{'conservative': conservative, 'event': event, 'metric': 'count', 'elite': elite_rt['cnt'].sum(), 'radio': radio_rt['cnt'].sum()}]\n",
    "        out += [{'conservative': conservative, 'event': event, 'metric': 'avg', 'elite': avg(elite_rt), 'radio': avg(radio_rt)}]\n",
    "        out += [{'conservative': conservative, 'event': event, 'metric': 'std', 'elite': std(elite_rt), 'radio': std(radio_rt)}]\n",
    "\n",
    "out = pd.DataFrame(out)\n",
    "out['radio_minus_elite'] = out['radio'] - out['elite']\n",
    "\n",
    "out.sort_values(['metric', 'conservative'])"
   ]
  },
  {
   "cell_type": "markdown",
   "metadata": {},
   "source": [
    "## Mean reltime"
   ]
  },
  {
   "cell_type": "code",
   "execution_count": null,
   "metadata": {
    "tags": []
   },
   "outputs": [],
   "source": [
    "tmp = out.loc[out['metric'] == 'avg', :].drop('metric', axis=1).set_index(['event', 'conservative']).sort_index().round(0).astype(int)\n",
    "\n",
    "tmp.round(0).astype(int)"
   ]
  },
  {
   "cell_type": "code",
   "execution_count": null,
   "metadata": {},
   "outputs": [],
   "source": [
    "tmp['elite'].mean(), tmp['radio'].mean(), tmp['radio_minus_elite'].mean() / tmp['elite'].mean()"
   ]
  },
  {
   "cell_type": "code",
   "execution_count": null,
   "metadata": {},
   "outputs": [],
   "source": [
    "tmp.groupby('conservative').apply(lambda s: pd.Series((s['elite'].mean(), s['radio'].mean(), s['radio_minus_elite'].mean() / s['elite'].mean()), index=['elite', 'radio', 'radio_minus_elite']))"
   ]
  },
  {
   "cell_type": "markdown",
   "metadata": {},
   "source": [
    "## SD reltime"
   ]
  },
  {
   "cell_type": "code",
   "execution_count": null,
   "metadata": {
    "tags": []
   },
   "outputs": [],
   "source": [
    "tmp = out.loc[out['metric'] == 'std', :].drop('metric', axis=1).set_index(['event', 'conservative']).sort_index().round(0).astype(int)\n",
    "\n",
    "tmp.round(0).astype(int)"
   ]
  },
  {
   "cell_type": "code",
   "execution_count": null,
   "metadata": {},
   "outputs": [],
   "source": [
    "tmp['elite'].mean(), tmp['radio'].mean(), tmp['radio_minus_elite'].mean() / tmp['elite'].mean()"
   ]
  },
  {
   "cell_type": "code",
   "execution_count": null,
   "metadata": {},
   "outputs": [],
   "source": [
    "tmp.groupby('conservative').apply(lambda s: pd.Series((s['elite'].mean(), s['radio'].mean(), s['radio_minus_elite'].mean() / s['elite'].mean()), index=['elite', 'radio', 'radio_minus_elite']))"
   ]
  },
  {
   "cell_type": "markdown",
   "metadata": {},
   "source": [
    "# Plot the average empirical cdf/pdf"
   ]
  },
  {
   "cell_type": "code",
   "execution_count": null,
   "metadata": {},
   "outputs": [],
   "source": [
    "# in seconds\n",
    "# doesn't make sense to go lower than 15 mins because of tick frequency\n",
    "cdf_query_end = 48 * 3600\n",
    "cdf_query_inc = 15 * 60\n",
    "\n",
    "cdf_query_pts = np.arange(0, cdf_query_end, cdf_query_inc)\n",
    "\n",
    "tw_vals = {0: [], 1: []}\n",
    "rd_vals = {0: [], 1: []}\n",
    "for event in event_cols:\n",
    "    period = '15min'\n",
    "    event = event.replace('event_', '')\n",
    "    \n",
    "    focal_dt = events.loc[events['event'] == event, 'timestamp'].item()\n",
    "    start_dt = focal_dt\n",
    "    end_dt = start_dt + pd.Timedelta('2d')\n",
    "\n",
    "    for conservative in (0, 1):\n",
    "        tmp = pd.concat([\n",
    "            radio_ticks_overall.loc[pd.IndexSlice[period, :, conservative], 'event_' + event].rename('radio'),\n",
    "            elite_ticks_overall.loc[pd.IndexSlice[period, :, conservative], 'event_' + event].rename('elite'),\n",
    "        ], axis=1)\n",
    "\n",
    "        radio_rt = tmp.loc[tmp['radio'] > 0, :].reset_index()[['radio', 'timestamp']].rename({'radio': 'cnt'}, axis=1)\n",
    "        radio_rt = radio_rt.loc[(radio_rt['timestamp'] >= start_dt) & (radio_rt['timestamp'] <= end_dt), :]\n",
    "        radio_rt['reltime'] = (radio_rt['timestamp'] - start_dt).dt.total_seconds()\n",
    "        assert radio_rt['cnt'].isna().sum() == 0\n",
    "        radio_rt['cnt'] = radio_rt['cnt'].astype(int)\n",
    "\n",
    "        elite_rt = tmp.loc[tmp['elite'] > 0, :].reset_index()[['elite', 'timestamp']].rename({'elite': 'cnt'}, axis=1)\n",
    "        elite_rt = elite_rt.loc[(elite_rt['timestamp'] >= start_dt) & (elite_rt['timestamp'] <= end_dt), :]\n",
    "        elite_rt['reltime'] = (elite_rt['timestamp'] - start_dt).dt.total_seconds()\n",
    "        assert elite_rt['cnt'].isna().sum() == 0\n",
    "        elite_rt['cnt'] = elite_rt['cnt'].astype(int)\n",
    "\n",
    "        tw = repeat_reltime(elite_rt)\n",
    "        tw_vals[conservative] += [ECDF(tw)(cdf_query_pts)]\n",
    "\n",
    "        rd = repeat_reltime(radio_rt)\n",
    "        rd_vals[conservative] += [ECDF(rd)(cdf_query_pts)]\n",
    "\n",
    "tw_vals[0] = np.stack(tw_vals[0])\n",
    "tw_vals[1] = np.stack(tw_vals[1])\n",
    "rd_vals[0] = np.stack(rd_vals[0])\n",
    "rd_vals[1] = np.stack(rd_vals[1])\n",
    "\n",
    "assert tw_vals[0].shape == rd_vals[0].shape\n",
    "assert tw_vals[1].shape == rd_vals[1].shape"
   ]
  },
  {
   "cell_type": "code",
   "execution_count": null,
   "metadata": {
    "tags": []
   },
   "outputs": [],
   "source": [
    "# in units of cdf_query_inc\n",
    "plot_max = 96\n",
    "plot_interval = 1\n",
    "\n",
    "cdf_lib = pd.DataFrame([\n",
    "    tw_vals[0][:, 0:plot_max:plot_interval].mean(axis=0),\n",
    "    rd_vals[0][:, 0:plot_max:plot_interval].mean(axis=0),\n",
    "], index=['elite', 'radio']).T\n",
    "cdf_lib.index = (cdf_lib.index.to_series() * cdf_query_inc * plot_interval)\n",
    "\n",
    "pdf_lib = cdf_lib.copy()\n",
    "pdf_lib['elite'] = np.gradient(pdf_lib['elite'])\n",
    "pdf_lib['radio'] = np.gradient(pdf_lib['radio'])\n",
    "\n",
    "cdf_con = pd.DataFrame([\n",
    "    tw_vals[1][:, 0:plot_max:plot_interval].mean(axis=0),\n",
    "    rd_vals[1][:, 0:plot_max:plot_interval].mean(axis=0),\n",
    "], index=['elite', 'radio']).T\n",
    "cdf_con.index = (cdf_con.index.to_series() * cdf_query_inc * plot_interval)\n",
    "\n",
    "pdf_con = cdf_con.copy()\n",
    "pdf_con['elite'] = np.gradient(pdf_con['elite'])\n",
    "pdf_con['radio'] = np.gradient(pdf_con['radio'])\n",
    "\n",
    "fig, axes = plt.subplots(2, 2, figsize=(10, 10), sharex=True)\n",
    "\n",
    "cdf_lib.rename({'elite': 'Elite', 'radio': 'Radio'}, axis=1, inplace=True)\n",
    "pdf_lib.rename({'elite': 'Elite', 'radio': 'Radio'}, axis=1, inplace=True)\n",
    "cdf_con.rename({'elite': 'Elite', 'radio': 'Radio'}, axis=1, inplace=True)\n",
    "pdf_con.rename({'elite': 'Elite', 'radio': 'Radio'}, axis=1, inplace=True)\n",
    "\n",
    "cdf_lib['Elite'].plot(ax=axes[0][0], color=elite_color)\n",
    "pdf_lib['Elite'].plot(ax=axes[0][1], color=elite_color)\n",
    "cdf_con['Elite'].plot(ax=axes[1][0], color=elite_color)\n",
    "pdf_con['Elite'].plot(ax=axes[1][1], color=elite_color)\n",
    "\n",
    "cdf_lib['Radio'].plot(ax=axes[0][0], color=radio_color)\n",
    "pdf_lib['Radio'].plot(ax=axes[0][1], color=radio_color)\n",
    "cdf_con['Radio'].plot(ax=axes[1][0], color=radio_color)\n",
    "pdf_con['Radio'].plot(ax=axes[1][1], color=radio_color)\n",
    "\n",
    "axes[0][0].set_title('Liberal: Pooled Empirical CDF')\n",
    "axes[0][1].set_title('Liberal: Pooled Empirical PDF')\n",
    "axes[1][0].set_title('Conservative: Pooled Empirical CDF')\n",
    "axes[1][1].set_title('Conservative: Pooled Empirical PDF')\n",
    "\n",
    "axes[0][0].set_xlabel('Time')\n",
    "axes[0][1].set_xlabel('Time')\n",
    "axes[1][0].set_xlabel('Time')\n",
    "axes[1][1].set_xlabel('Time')\n",
    "\n",
    "axes[0][0].set_ylabel('Proportion')\n",
    "axes[0][1].set_ylabel('Density')\n",
    "axes[1][0].set_ylabel('Proportion')\n",
    "axes[1][1].set_ylabel('Density')\n",
    "\n",
    "axes[0][0].set_ylim(0, 1)\n",
    "axes[1][0].set_ylim(0, 1)\n",
    "\n",
    "fmt = mp.ticker.FuncFormatter(lambda x, pos: f'{x / 3600:.0f}h')\n",
    "for ax in axes.flatten():\n",
    "    ax.xaxis.set_major_formatter(fmt)\n",
    "\n",
    "fig.tight_layout()\n",
    "\n",
    "print(f'Based on {tw_vals[0].shape[0]} event(s)')"
   ]
  },
  {
   "cell_type": "code",
   "execution_count": null,
   "metadata": {},
   "outputs": [],
   "source": [
    "# in units of cdf_query_inc\n",
    "plot_max = 192\n",
    "plot_interval = 1\n",
    "\n",
    "cdf_lib = pd.DataFrame([\n",
    "    tw_vals[0][:, 0:plot_max:plot_interval].mean(axis=0),\n",
    "    rd_vals[0][:, 0:plot_max:plot_interval].mean(axis=0),\n",
    "], index=['elite', 'radio']).T\n",
    "cdf_lib.index = (cdf_lib.index.to_series() * cdf_query_inc * plot_interval)\n",
    "\n",
    "pdf_lib = cdf_lib.copy()\n",
    "pdf_lib['elite'] = np.gradient(pdf_lib['elite'])\n",
    "pdf_lib['radio'] = np.gradient(pdf_lib['radio'])\n",
    "\n",
    "cdf_con = pd.DataFrame([\n",
    "    tw_vals[1][:, 0:plot_max:plot_interval].mean(axis=0),\n",
    "    rd_vals[1][:, 0:plot_max:plot_interval].mean(axis=0),\n",
    "], index=['elite', 'radio']).T\n",
    "cdf_con.index = (cdf_con.index.to_series() * cdf_query_inc * plot_interval)\n",
    "\n",
    "pdf_con = cdf_con.copy()\n",
    "pdf_con['elite'] = np.gradient(pdf_con['elite'])\n",
    "pdf_con['radio'] = np.gradient(pdf_con['radio'])\n",
    "\n",
    "fig, axes = plt.subplots(2, 2, figsize=(10, 10), sharex=True)\n",
    "\n",
    "cdf_lib.rename({'elite': 'Elite', 'radio': 'Radio'}, axis=1, inplace=True)\n",
    "pdf_lib.rename({'elite': 'Elite', 'radio': 'Radio'}, axis=1, inplace=True)\n",
    "cdf_con.rename({'elite': 'Elite', 'radio': 'Radio'}, axis=1, inplace=True)\n",
    "pdf_con.rename({'elite': 'Elite', 'radio': 'Radio'}, axis=1, inplace=True)\n",
    "\n",
    "cdf_lib['Elite'].plot(ax=axes[0][0], color=elite_color)\n",
    "pdf_lib['Elite'].plot(ax=axes[0][1], color=elite_color)\n",
    "cdf_con['Elite'].plot(ax=axes[1][0], color=elite_color)\n",
    "pdf_con['Elite'].plot(ax=axes[1][1], color=elite_color)\n",
    "\n",
    "cdf_lib['Radio'].plot(ax=axes[0][0], color=radio_color)\n",
    "pdf_lib['Radio'].plot(ax=axes[0][1], color=radio_color)\n",
    "cdf_con['Radio'].plot(ax=axes[1][0], color=radio_color)\n",
    "pdf_con['Radio'].plot(ax=axes[1][1], color=radio_color)\n",
    "\n",
    "axes[0][0].set_title('Liberal: Pooled Empirical CDF')\n",
    "axes[0][1].set_title('Liberal: Pooled Empirical PDF')\n",
    "axes[1][0].set_title('Conservative: Pooled Empirical CDF')\n",
    "axes[1][1].set_title('Conservative: Pooled Empirical PDF')\n",
    "\n",
    "axes[0][0].set_xlabel('Time')\n",
    "axes[0][1].set_xlabel('Time')\n",
    "axes[1][0].set_xlabel('Time')\n",
    "axes[1][1].set_xlabel('Time')\n",
    "\n",
    "axes[0][0].set_ylabel('Proportion')\n",
    "axes[0][1].set_ylabel('Density')\n",
    "axes[1][0].set_ylabel('Proportion')\n",
    "axes[1][1].set_ylabel('Density')\n",
    "\n",
    "axes[0][0].set_ylim(0, 1)\n",
    "axes[1][0].set_ylim(0, 1)\n",
    "\n",
    "fmt = mp.ticker.FuncFormatter(lambda x, pos: f'{x / 3600:.0f}h')\n",
    "for ax in axes.flatten():\n",
    "    ax.xaxis.set_major_formatter(fmt)\n",
    "\n",
    "fig.tight_layout()\n",
    "\n",
    "print(f'Based on {tw_vals[0].shape[0]} event(s)')"
   ]
  },
  {
   "cell_type": "code",
   "execution_count": null,
   "metadata": {},
   "outputs": [],
   "source": []
  }
 ],
 "metadata": {
  "kernelspec": {
   "display_name": "DL",
   "language": "python",
   "name": "dl"
  },
  "language_info": {
   "codemirror_mode": {
    "name": "ipython",
    "version": 3
   },
   "file_extension": ".py",
   "mimetype": "text/x-python",
   "name": "python",
   "nbconvert_exporter": "python",
   "pygments_lexer": "ipython3",
   "version": "3.10.10"
  },
  "widgets": {
   "application/vnd.jupyter.widget-state+json": {
    "state": {},
    "version_major": 2,
    "version_minor": 0
   }
  }
 },
 "nbformat": 4,
 "nbformat_minor": 4
}
