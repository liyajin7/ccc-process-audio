{
 "cells": [
  {
   "cell_type": "code",
   "execution_count": null,
   "metadata": {
    "tags": []
   },
   "outputs": [],
   "source": [
    "import os\n",
    "import gzip\n",
    "import random\n",
    "import pickle\n",
    "import logging\n",
    "\n",
    "import numpy as np\n",
    "import pandas as pd\n",
    "\n",
    "import matplotlib as mp\n",
    "%matplotlib inline\n",
    "import matplotlib.pyplot as plt\n",
    "\n",
    "import sentence_transformers as st\n",
    "\n",
    "from statsmodels.distributions.empirical_distribution import ECDF\n",
    "\n",
    "from IPython.display import display\n",
    "from tqdm.notebook import tqdm, trange"
   ]
  },
  {
   "cell_type": "code",
   "execution_count": null,
   "metadata": {
    "tags": []
   },
   "outputs": [],
   "source": [
    "logger = logging.getLogger(__name__)\n",
    "\n",
    "fmt = '%(asctime)s : %(levelname)s : %(message)s'\n",
    "logging.basicConfig(format=fmt, level=logging.INFO)"
   ]
  },
  {
   "cell_type": "code",
   "execution_count": null,
   "metadata": {
    "tags": []
   },
   "outputs": [],
   "source": [
    "os.chdir(os.path.expanduser('~/github/masthesis/'))"
   ]
  },
  {
   "cell_type": "code",
   "execution_count": null,
   "metadata": {
    "tags": []
   },
   "outputs": [],
   "source": [
    "seed = 2969591811\n",
    "\n",
    "random.seed(seed)\n",
    "np.random.seed(seed)"
   ]
  },
  {
   "cell_type": "markdown",
   "metadata": {},
   "source": [
    "# Load data"
   ]
  },
  {
   "cell_type": "code",
   "execution_count": null,
   "metadata": {
    "tags": []
   },
   "outputs": [],
   "source": [
    "with gzip.open('data/paper-round-3/event-annotated/auto-sample.csv.gz', 'rt') as f:\n",
    "    dat = pd.read_csv(f, parse_dates=['timestamp'], index_col='id')\n",
    "\n",
    "assert dat.index.is_unique\n",
    "\n",
    "dat.shape"
   ]
  },
  {
   "cell_type": "code",
   "execution_count": null,
   "metadata": {
    "tags": []
   },
   "outputs": [],
   "source": [
    "with gzip.open('data/paper-round-3/event-annotated/auto-sample-communities-merged-pre-filter.csv.gz', 'rt') as f:\n",
    "    comms = pd.read_csv(f, index_col='id')\n",
    "\n",
    "assert comms.index.is_unique\n",
    "assert comms['year'].isna().sum() == 0\n",
    "\n",
    "comms.shape"
   ]
  },
  {
   "cell_type": "code",
   "execution_count": null,
   "metadata": {
    "tags": []
   },
   "outputs": [],
   "source": [
    "dat['group'] = comms['group']\n",
    "has_group_mask = dat['group'].notna()\n",
    "dat = dat.loc[has_group_mask, :]\n",
    "\n",
    "dat['group'] = dat['group'].astype(int)\n",
    "dat['year'] = dat['year'].astype(int)"
   ]
  },
  {
   "cell_type": "markdown",
   "metadata": {},
   "source": [
    "# Average embeddings by community"
   ]
  },
  {
   "cell_type": "code",
   "execution_count": null,
   "metadata": {
    "tags": []
   },
   "outputs": [],
   "source": [
    "with open('data/paper-round-3/event-annotated/auto-sample-embeds.npy', 'rb') as f:\n",
    "    embs = np.load(f)\n",
    "embs = embs[has_group_mask, :]\n",
    "\n",
    "all_uniques, all_mean_embs = [], []\n",
    "for year in tqdm(dat['year'].unique()):\n",
    "    for kind in tqdm(dat.loc[dat['year'] == year, 'kind'].unique()):\n",
    "        for group in tqdm(dat.loc[(dat['year'] == year) & (dat['kind'] == kind), 'group'].unique()):\n",
    "            mask = (dat['year'] == year) & (dat['kind'] == kind) & (dat['group'] == group)\n",
    "            count = mask.sum()\n",
    "            assert count > 0\n",
    "            \n",
    "            all_mean_embs += [embs[mask, :].mean(axis=0)]\n",
    "            \n",
    "            all_uniques += [{\n",
    "                'story_id': str(int(year)) + '-' + kind + '-' + str(c),\n",
    "                'year': int(year),\n",
    "                'kind': kind,\n",
    "                'group': group,\n",
    "                'count': count,\n",
    "                'start': dat.loc[mask, 'timestamp'].min(),\n",
    "                'end': dat.loc[mask, 'timestamp'].max(),\n",
    "                'dur': (dat.loc[mask, 'timestamp'].max() - dat.loc[mask, 'timestamp'].min()).total_seconds(),\n",
    "            }]\n",
    "\n",
    "all_uniques = pd.DataFrame(all_uniques)\n",
    "all_mean_embs = np.stack(all_mean_embs, axis=0)\n",
    "\n",
    "model = st.SentenceTransformer('all-mpnet-base-v2')\n",
    "probe = 'Pandemic of coronavirus disease 2019'\n",
    "all_norm_mean_embs = (all_mean_embs / np.linalg.norm(all_mean_embs, axis=1).reshape(-1, 1))\n",
    "probe_emb = model.encode(probe)\n",
    "probe_sims = all_norm_mean_embs @ probe_emb[None, ...].T\n",
    "all_uniques['covid'] = probe_sims\n",
    "del model\n",
    "\n",
    "with open('data/paper-round-3/event-annotated/auto-sample-mean-embs-uniques.pkl', 'wb') as f:\n",
    "    pickle.dump((all_uniques, all_mean_embs), f)"
   ]
  },
  {
   "cell_type": "code",
   "execution_count": null,
   "metadata": {
    "tags": []
   },
   "outputs": [],
   "source": [
    "with open('data/paper-round-3/event-annotated/auto-sample-mean-embs-uniques.pkl', 'rb') as f:\n",
    "    all_uniques, all_mean_embs = pickle.load(f)"
   ]
  },
  {
   "cell_type": "markdown",
   "metadata": {},
   "source": [
    "# Mask out comparisons we don't want\n",
    "\n",
    "We want stories that overlap in time (incl being in the same year) and are from different media."
   ]
  },
  {
   "cell_type": "code",
   "execution_count": null,
   "metadata": {
    "tags": []
   },
   "outputs": [],
   "source": [
    "start = all_uniques['start'].astype(np.int64) // 10**9\n",
    "start = np.expand_dims(start.to_numpy(), axis=-1)\n",
    "\n",
    "end = all_uniques['end'].astype(np.int64) // 10**9\n",
    "end = np.expand_dims(end.to_numpy(), axis=-1)\n",
    "\n",
    "time_mask = (start.T < end) & (end.T > start)"
   ]
  },
  {
   "cell_type": "code",
   "execution_count": null,
   "metadata": {
    "tags": []
   },
   "outputs": [],
   "source": [
    "years = all_uniques['year'].astype(int).to_numpy()\n",
    "year_mask = (years == years[:, None])"
   ]
  },
  {
   "cell_type": "code",
   "execution_count": null,
   "metadata": {
    "tags": []
   },
   "outputs": [],
   "source": [
    "kinds = all_uniques['kind'].to_numpy()\n",
    "kind_mask = (kinds != kinds[:, None])"
   ]
  },
  {
   "cell_type": "markdown",
   "metadata": {},
   "source": [
    "# Compute intercommunity similarity\n",
    "\n",
    "We want communities that a) overlap in reltime, b) are from the same year, c) are of different kinds"
   ]
  },
  {
   "cell_type": "code",
   "execution_count": null,
   "metadata": {
    "tags": []
   },
   "outputs": [],
   "source": [
    "all_norm_mean_embs = (all_mean_embs / np.linalg.norm(all_mean_embs, axis=1).reshape(-1, 1))\n",
    "all_sims = all_norm_mean_embs @ all_norm_mean_embs.T\n",
    "row_inds, col_inds = (time_mask & year_mask & kind_mask).nonzero()\n",
    "\n",
    "te = all_uniques.iloc[row_inds, :]\n",
    "te = te \\\n",
    "    [['year', 'kind', 'group', 'count', 'covid']] \\\n",
    "   .rename({'year': 'year1', 'kind': 'kind1', 'group': 'group1', 'count': 'count1', 'covid': 'covid1'}, axis=1) \\\n",
    "   .reset_index(drop=True)\n",
    "\n",
    "tc = all_uniques.iloc[col_inds, :]\n",
    "tc = tc \\\n",
    "    [['year', 'kind', 'group', 'count', 'covid']] \\\n",
    "   .rename({'year': 'year2', 'kind': 'kind2', 'group': 'group2', 'count': 'count2', 'covid': 'covid2'}, axis=1) \\\n",
    "   .reset_index(drop=True)\n",
    "\n",
    "matched = pd.concat([te, tc], axis=1)\n",
    "matched['sim'] = pd.Series(all_sims[row_inds, col_inds], index=matched.index)\n",
    "\n",
    "matched = matched.loc[\n",
    "    (matched['kind1'] == 'elite') &\n",
    "    (matched['kind2'].isin(['decahose', 'radio'])),\n",
    ":].drop('kind1', axis=1)\n",
    "\n",
    "matched = matched.rename({\n",
    "    'year1': 'elite_year',\n",
    "    'group1': 'elite_group',\n",
    "    'count1': 'elite_count',\n",
    "    'covid1': 'elite_covid',\n",
    "    'year2': 'other_year',\n",
    "    'kind2': 'other_kind',\n",
    "    'group2': 'other_group',\n",
    "    'count2': 'other_count',\n",
    "    'covid2': 'other_covid',\n",
    "}, axis=1)\n",
    "\n",
    "assert (matched['other_kind'].isin(['decahose', 'radio'])).all()\n",
    "assert matched['elite_year'].isna().sum() == 0\n",
    "assert matched['other_year'].isna().sum() == 0\n",
    "assert (matched['elite_year'] == matched['other_year']).all()\n",
    "matched['elite_year'] = matched['elite_year'].astype(int)\n",
    "matched['other_year'] = matched['other_year'].astype(int)"
   ]
  },
  {
   "cell_type": "markdown",
   "metadata": {},
   "source": [
    "# Filter stories"
   ]
  },
  {
   "cell_type": "markdown",
   "metadata": {},
   "source": [
    "## Examine similarities"
   ]
  },
  {
   "cell_type": "markdown",
   "metadata": {},
   "source": [
    "### How many total stories?"
   ]
  },
  {
   "cell_type": "code",
   "execution_count": null,
   "metadata": {
    "tags": []
   },
   "outputs": [],
   "source": [
    "matched[['other_year', 'other_kind', 'other_group']].drop_duplicates().shape"
   ]
  },
  {
   "cell_type": "markdown",
   "metadata": {},
   "source": [
    "### Distribution of sims"
   ]
  },
  {
   "cell_type": "code",
   "execution_count": null,
   "metadata": {
    "tags": []
   },
   "outputs": [],
   "source": [
    "matched['sim'].describe()"
   ]
  },
  {
   "cell_type": "code",
   "execution_count": null,
   "metadata": {
    "tags": []
   },
   "outputs": [],
   "source": [
    "matched['sim'].hist(bins=50)"
   ]
  },
  {
   "cell_type": "code",
   "execution_count": null,
   "metadata": {
    "tags": []
   },
   "outputs": [],
   "source": [
    "matched['sim'].hist(by=matched['other_kind'], bins=50)"
   ]
  },
  {
   "cell_type": "code",
   "execution_count": null,
   "metadata": {
    "tags": []
   },
   "outputs": [],
   "source": [
    "matched['sim'].hist(by=[matched['other_kind'], matched['other_year']], bins=50, figsize=(10, 10))"
   ]
  },
  {
   "cell_type": "code",
   "execution_count": null,
   "metadata": {
    "tags": []
   },
   "outputs": [],
   "source": [
    "matched.shape"
   ]
  },
  {
   "cell_type": "code",
   "execution_count": null,
   "metadata": {
    "tags": []
   },
   "outputs": [],
   "source": [
    "matched.groupby([\n",
    "    matched['other_kind'],\n",
    "    (matched['other_count'] >= 100)\n",
    "]).apply(lambda s: s[['other_year', 'other_group']].drop_duplicates().shape[0])"
   ]
  },
  {
   "cell_type": "code",
   "execution_count": null,
   "metadata": {
    "tags": []
   },
   "outputs": [],
   "source": [
    "matched[['other_year', 'other_kind', 'other_group']].drop_duplicates().shape"
   ]
  },
  {
   "cell_type": "markdown",
   "metadata": {},
   "source": [
    "### Covid scores"
   ]
  },
  {
   "cell_type": "code",
   "execution_count": null,
   "metadata": {},
   "outputs": [],
   "source": [
    "matched[['elite_covid', 'other_covid']].describe()"
   ]
  },
  {
   "cell_type": "code",
   "execution_count": null,
   "metadata": {},
   "outputs": [],
   "source": [
    "matched[['elite_covid', 'other_covid']].hist()"
   ]
  },
  {
   "cell_type": "code",
   "execution_count": null,
   "metadata": {},
   "outputs": [],
   "source": [
    "(matched['elite_covid'] - matched['other_covid']).describe()"
   ]
  },
  {
   "cell_type": "code",
   "execution_count": null,
   "metadata": {},
   "outputs": [],
   "source": [
    "(matched['elite_covid'] - matched['other_covid']).hist()"
   ]
  },
  {
   "cell_type": "code",
   "execution_count": null,
   "metadata": {},
   "outputs": [],
   "source": [
    "matched['elite_covid'].hist(by=matched['elite_year'])"
   ]
  },
  {
   "cell_type": "code",
   "execution_count": null,
   "metadata": {},
   "outputs": [],
   "source": [
    "matched['other_covid'].hist(by=matched['other_year'])"
   ]
  },
  {
   "cell_type": "code",
   "execution_count": null,
   "metadata": {},
   "outputs": [],
   "source": [
    "((matched['elite_covid'] + matched['other_covid']) / 2).hist(by=matched['elite_year'])"
   ]
  },
  {
   "cell_type": "markdown",
   "metadata": {},
   "source": [
    "### Grouped"
   ]
  },
  {
   "cell_type": "code",
   "execution_count": null,
   "metadata": {},
   "outputs": [],
   "source": [
    "tmp = matched.groupby(['other_year', 'other_kind', 'other_group'])[['sim', 'elite_covid', 'other_covid']].mean().reset_index()"
   ]
  },
  {
   "cell_type": "code",
   "execution_count": null,
   "metadata": {},
   "outputs": [],
   "source": [
    "tmp['sim'].describe()"
   ]
  },
  {
   "cell_type": "code",
   "execution_count": null,
   "metadata": {},
   "outputs": [],
   "source": [
    "tmp['sim'].hist(by=tmp['other_kind'])"
   ]
  },
  {
   "cell_type": "code",
   "execution_count": null,
   "metadata": {},
   "outputs": [],
   "source": [
    "tmp['sim'].hist(by=tmp['other_year'])"
   ]
  },
  {
   "cell_type": "code",
   "execution_count": null,
   "metadata": {},
   "outputs": [],
   "source": [
    "tmp['sim'].hist(by=[tmp['other_kind'], tmp['other_year']], figsize=(10, 10))"
   ]
  },
  {
   "cell_type": "code",
   "execution_count": null,
   "metadata": {},
   "outputs": [],
   "source": [
    "tmp['elite_covid'].hist(by=[tmp['other_kind'], tmp['other_year']], figsize=(10, 10))"
   ]
  },
  {
   "cell_type": "code",
   "execution_count": null,
   "metadata": {},
   "outputs": [],
   "source": [
    "tmp['other_covid'].hist(by=[tmp['other_kind'], tmp['other_year']], figsize=(10, 10))"
   ]
  },
  {
   "cell_type": "markdown",
   "metadata": {},
   "source": [
    "## Select stories to keep"
   ]
  },
  {
   "cell_type": "code",
   "execution_count": null,
   "metadata": {
    "tags": []
   },
   "outputs": [],
   "source": [
    "decahose_threshold = 0.6\n",
    "radio_threshold = 0.6"
   ]
  },
  {
   "cell_type": "code",
   "execution_count": null,
   "metadata": {
    "tags": []
   },
   "outputs": [],
   "source": [
    "# selected = matched.groupby(['other_year', 'other_kind', 'other_group'])[['sim', 'elite_covid', 'other_covid']].mean().reset_index()  # based on average\n",
    "selected = matched  # based on max\n",
    "\n",
    "selected = pd.concat([\n",
    "    selected.loc[\n",
    "        (selected['other_kind'] == 'decahose') &\n",
    "        (selected['sim'] >= decahose_threshold)\n",
    "    ],\n",
    "    \n",
    "    selected.loc[\n",
    "        (selected['other_kind'] == 'radio') &\n",
    "        (selected['sim'] >= radio_threshold)\n",
    "    ],\n",
    "], axis=0)\n",
    "\n",
    "selected = selected \\\n",
    "    [['other_year', 'other_kind', 'other_group', 'other_covid']] \\\n",
    "    .drop_duplicates() \\\n",
    "    .sample(frac=1) \\\n",
    "    .rename({'other_year': 'year', 'other_kind': 'kind', 'other_group': 'group', 'other_covid': 'covid'}, axis=1)\n",
    "\n",
    "selected.shape"
   ]
  },
  {
   "cell_type": "code",
   "execution_count": null,
   "metadata": {
    "tags": []
   },
   "outputs": [],
   "source": [
    "selected.groupby(['year', 'kind']).size()"
   ]
  },
  {
   "cell_type": "markdown",
   "metadata": {},
   "source": [
    "## Hand-audit some selected stories\n",
    "\n",
    "They should be about news and they are. Note we randomly sorted the selected stories; the first few are a random sample of all of them."
   ]
  },
  {
   "cell_type": "code",
   "execution_count": null,
   "metadata": {
    "tags": []
   },
   "outputs": [],
   "source": [
    "# cdf_query_end and cdf_query_inc are as also defined in the 5a notebook which calculates the cdfs\n",
    "def show_example(year, kind, group_ids, cdf_query_end=2*24*3600, cdf_query_inc=60):\n",
    "    if isinstance(group_ids, int):\n",
    "        group_ids = [group_ids]\n",
    "    \n",
    "    tmp = dat.loc[(dat['year'] == year) & (dat['kind'] == kind) & dat['group'].isin(group_ids), :].copy()\n",
    "    tmp['reltime'] -= tmp['reltime'].min()\n",
    "\n",
    "    cdf_query_pts = np.arange(0, cdf_query_end, cdf_query_inc)\n",
    "    cdf = ECDF(tmp['reltime'])(cdf_query_pts)\n",
    "    pdf = np.gradient(cdf)\n",
    "\n",
    "    with pd.option_context('display.max_colwidth', 0):\n",
    "        print(f'year: {year}, kind: {kind}, group id(s): ' + ','.join(str(c) for c in group_ids))\n",
    "        print('number of items: ' + str(tmp.shape[0]))\n",
    "        display(tmp.sample(min(tmp.shape[0], 10)))\n",
    "        display(tmp.head(min(tmp.shape[0], 10)))\n",
    "\n",
    "    fig, axes = plt.subplots(1, 3, figsize=(15, 5))    \n",
    "    tmp.loc[tmp['reltime'] <= tmp['reltime'].min() + cdf_query_end, :].hist('timestamp', ax=axes[0], xrot=45)\n",
    "\n",
    "    axes[1].plot(cdf_query_pts, cdf)\n",
    "    axes[2].plot(cdf_query_pts, pdf)\n",
    "\n",
    "    axes[0].set_title('Item times')\n",
    "    axes[1].set_title('ECDF')\n",
    "    axes[2].set_title('EPDF')\n",
    "\n",
    "    fmt = mp.ticker.FuncFormatter(lambda x, pos: f'{x / 3600:.0f}h')\n",
    "    axes[1].xaxis.set_major_formatter(fmt)\n",
    "    axes[2].xaxis.set_major_formatter(fmt)"
   ]
  },
  {
   "cell_type": "code",
   "execution_count": null,
   "metadata": {
    "tags": []
   },
   "outputs": [],
   "source": [
    "i = 0\n",
    "show_example(\n",
    "    int(selected.iloc[i, :]['year']),\n",
    "    selected.iloc[i, :]['kind'],\n",
    "    int(selected.iloc[i, :]['group']),\n",
    ")"
   ]
  },
  {
   "cell_type": "code",
   "execution_count": null,
   "metadata": {
    "tags": []
   },
   "outputs": [],
   "source": [
    "i = 1\n",
    "show_example(\n",
    "    int(selected.iloc[i, :]['year']),\n",
    "    selected.iloc[i, :]['kind'],\n",
    "    int(selected.iloc[i, :]['group']),\n",
    ")"
   ]
  },
  {
   "cell_type": "code",
   "execution_count": null,
   "metadata": {
    "tags": []
   },
   "outputs": [],
   "source": [
    "i = 2\n",
    "show_example(\n",
    "    int(selected.iloc[i, :]['year']),\n",
    "    selected.iloc[i, :]['kind'],\n",
    "    int(selected.iloc[i, :]['group']),\n",
    ")"
   ]
  },
  {
   "cell_type": "code",
   "execution_count": null,
   "metadata": {
    "tags": []
   },
   "outputs": [],
   "source": [
    "i = 3\n",
    "show_example(\n",
    "    int(selected.iloc[i, :]['year']),\n",
    "    selected.iloc[i, :]['kind'],\n",
    "    int(selected.iloc[i, :]['group']),\n",
    ")"
   ]
  },
  {
   "cell_type": "code",
   "execution_count": null,
   "metadata": {
    "tags": []
   },
   "outputs": [],
   "source": [
    "i = 4\n",
    "show_example(\n",
    "    int(selected.iloc[i, :]['year']),\n",
    "    selected.iloc[i, :]['kind'],\n",
    "    int(selected.iloc[i, :]['group']),\n",
    ")"
   ]
  },
  {
   "cell_type": "markdown",
   "metadata": {},
   "source": [
    "# Write out the selected stories"
   ]
  },
  {
   "cell_type": "code",
   "execution_count": null,
   "metadata": {
    "tags": []
   },
   "outputs": [],
   "source": [
    "out = pd.concat([\n",
    "    selected,\n",
    "    all_uniques.loc[all_uniques['kind'] == 'elite', ['year', 'kind', 'group', 'covid']],\n",
    "], axis=0)\n",
    "\n",
    "out['year'] = out['year'].astype(int)\n",
    "out['story_id'] = out['year'].astype(str) + '-' + out['kind'] + '-' + out['group'].astype(str)\n",
    "\n",
    "out.to_csv('data/paper-round-3/event-annotated/auto-sample-communities-filter-list.csv', index=False)"
   ]
  },
  {
   "cell_type": "code",
   "execution_count": null,
   "metadata": {},
   "outputs": [],
   "source": []
  }
 ],
 "metadata": {
  "kernelspec": {
   "display_name": "DL",
   "language": "python",
   "name": "dl"
  },
  "language_info": {
   "codemirror_mode": {
    "name": "ipython",
    "version": 3
   },
   "file_extension": ".py",
   "mimetype": "text/x-python",
   "name": "python",
   "nbconvert_exporter": "python",
   "pygments_lexer": "ipython3",
   "version": "3.10.10"
  },
  "widgets": {
   "application/vnd.jupyter.widget-state+json": {
    "state": {
     "001194a1ad354179b66ac063d8d97c16": {
      "model_module": "@jupyter-widgets/controls",
      "model_module_version": "2.0.0",
      "model_name": "HTMLModel",
      "state": {
       "layout": "IPY_MODEL_624c072cb17b4537a152bea33a0df048",
       "style": "IPY_MODEL_ca6f98dd36c94d0594bae7aae5225498",
       "value": " 302/302 [00:38&lt;00:00,  7.87it/s]"
      }
     },
     "00e48f19becb4913a00dfb0bdecdc8ab": {
      "model_module": "@jupyter-widgets/base",
      "model_module_version": "2.0.0",
      "model_name": "LayoutModel",
      "state": {}
     },
     "0147597d46cf4c32bde657bf08353640": {
      "model_module": "@jupyter-widgets/base",
      "model_module_version": "2.0.0",
      "model_name": "LayoutModel",
      "state": {}
     },
     "01842b13bb1444b7b1e7c36047ed11d2": {
      "model_module": "@jupyter-widgets/controls",
      "model_module_version": "2.0.0",
      "model_name": "HTMLStyleModel",
      "state": {
       "description_width": "",
       "font_size": null,
       "text_color": null
      }
     },
     "019d303bf7834634958028af305c5772": {
      "model_module": "@jupyter-widgets/controls",
      "model_module_version": "2.0.0",
      "model_name": "FloatProgressModel",
      "state": {
       "bar_style": "success",
       "layout": "IPY_MODEL_c21e2fcd996346a0a3c37a01cd205408",
       "max": 3,
       "style": "IPY_MODEL_fd1e558a5fc6487b8be3276f70f5ac39",
       "value": 3
      }
     },
     "030e21473e5b4d4ca9851924fcd12805": {
      "model_module": "@jupyter-widgets/controls",
      "model_module_version": "2.0.0",
      "model_name": "HTMLModel",
      "state": {
       "layout": "IPY_MODEL_6c76d3cc1c634aafb492d25248f95722",
       "style": "IPY_MODEL_88f63cfe5e4d4949b0292a765ee45525",
       "value": " 553/553 [01:10&lt;00:00,  7.90it/s]"
      }
     },
     "044fecc7d7b5404ea3c4a6653a5f5c6b": {
      "model_module": "@jupyter-widgets/controls",
      "model_module_version": "2.0.0",
      "model_name": "HTMLModel",
      "state": {
       "layout": "IPY_MODEL_e98a656525d3469aa9351258cb210de1",
       "style": "IPY_MODEL_d7d4fb16c1d54f0f97b6e80334e761ac",
       "value": "Batches: 100%"
      }
     },
     "06ba96e35ea34c1584d3610145a3279f": {
      "model_module": "@jupyter-widgets/controls",
      "model_module_version": "2.0.0",
      "model_name": "ProgressStyleModel",
      "state": {
       "description_width": ""
      }
     },
     "06f17a54521b4498937573755fd907a2": {
      "model_module": "@jupyter-widgets/controls",
      "model_module_version": "2.0.0",
      "model_name": "HTMLModel",
      "state": {
       "layout": "IPY_MODEL_6eddbac0630c4800bf77fe916697ec15",
       "style": "IPY_MODEL_fbcc8a1854f947f89e7f15e3bc88f002",
       "value": "100%"
      }
     },
     "0bc5625cb82d46a68b90102945d91f6d": {
      "model_module": "@jupyter-widgets/controls",
      "model_module_version": "2.0.0",
      "model_name": "HBoxModel",
      "state": {
       "children": [
        "IPY_MODEL_c6c56c685aea487c8d0c79ff127c4f7d",
        "IPY_MODEL_b61eea0a35a042aeb4b81c3989a48d49",
        "IPY_MODEL_258bb04863694ecb97de1f4a83253794"
       ],
       "layout": "IPY_MODEL_451ff5f1b98b47308292c5b4b5132141"
      }
     },
     "0ea62a54c28f4c90b6b42861045d1e11": {
      "model_module": "@jupyter-widgets/controls",
      "model_module_version": "2.0.0",
      "model_name": "HTMLModel",
      "state": {
       "layout": "IPY_MODEL_f424631df0634722a0e08b5d9c8e8b45",
       "style": "IPY_MODEL_8075bf1b4f7e41a79f7884e27d3ebbb7",
       "value": " 975/975 [02:02&lt;00:00,  7.92it/s]"
      }
     },
     "0f128544e3314d569a5251c3f7395e90": {
      "model_module": "@jupyter-widgets/base",
      "model_module_version": "2.0.0",
      "model_name": "LayoutModel",
      "state": {}
     },
     "1136debbd5474253bd88530ca0f143d9": {
      "model_module": "@jupyter-widgets/controls",
      "model_module_version": "2.0.0",
      "model_name": "FloatProgressModel",
      "state": {
       "bar_style": "success",
       "layout": "IPY_MODEL_d03b5b39cf0d4551bdee800040ab56e9",
       "max": 3,
       "style": "IPY_MODEL_3fe00698107d4823a13d11ab64951827",
       "value": 3
      }
     },
     "124644b4ec3b45448545120d9ffcd888": {
      "model_module": "@jupyter-widgets/base",
      "model_module_version": "2.0.0",
      "model_name": "LayoutModel",
      "state": {}
     },
     "1341d76b048843968525d005b587124c": {
      "model_module": "@jupyter-widgets/base",
      "model_module_version": "2.0.0",
      "model_name": "LayoutModel",
      "state": {}
     },
     "1445868dbcf94077810128d840b917ab": {
      "model_module": "@jupyter-widgets/controls",
      "model_module_version": "2.0.0",
      "model_name": "HTMLModel",
      "state": {
       "layout": "IPY_MODEL_cb1de74f2c0f4532a7c2cf685f29f1a5",
       "style": "IPY_MODEL_edde0f6251ae40b28dc1a8e2be178cfd",
       "value": " 1379/1379 [02:58&lt;00:00,  7.73it/s]"
      }
     },
     "150410de331044b4825cb7b96c5a93e2": {
      "model_module": "@jupyter-widgets/controls",
      "model_module_version": "2.0.0",
      "model_name": "HTMLStyleModel",
      "state": {
       "description_width": "",
       "font_size": null,
       "text_color": null
      }
     },
     "1757b0b223dc432c8c7ebf59e02b61a8": {
      "model_module": "@jupyter-widgets/controls",
      "model_module_version": "2.0.0",
      "model_name": "HBoxModel",
      "state": {
       "children": [
        "IPY_MODEL_d3636567c4db44f9a6c718b835b720d3",
        "IPY_MODEL_b0661d5ebd134a0b80fea63aa017e6ae",
        "IPY_MODEL_b504d9643fed48b09ecd39fa24f20d80"
       ],
       "layout": "IPY_MODEL_ca0432ed3aa4428bb3cf76f1b2e2dcff"
      }
     },
     "18d7e0f3bee64838aeefc5b79726896a": {
      "model_module": "@jupyter-widgets/base",
      "model_module_version": "2.0.0",
      "model_name": "LayoutModel",
      "state": {}
     },
     "1c47e5d7d8bc44b381815ce016e98a04": {
      "model_module": "@jupyter-widgets/controls",
      "model_module_version": "2.0.0",
      "model_name": "HTMLStyleModel",
      "state": {
       "description_width": "",
       "font_size": null,
       "text_color": null
      }
     },
     "21579460b30a4fbc933f84dfcbb5ca5e": {
      "model_module": "@jupyter-widgets/controls",
      "model_module_version": "2.0.0",
      "model_name": "HTMLModel",
      "state": {
       "layout": "IPY_MODEL_719176a0bab44261a5321e47e0f8f4ad",
       "style": "IPY_MODEL_01842b13bb1444b7b1e7c36047ed11d2",
       "value": " 3/3 [07:08&lt;00:00, 147.41s/it]"
      }
     },
     "2366b2ec04384e76b5a6bbf764bebc6f": {
      "model_module": "@jupyter-widgets/base",
      "model_module_version": "2.0.0",
      "model_name": "LayoutModel",
      "state": {}
     },
     "24c377b4eb41461e9b9c87dd0fd8cd24": {
      "model_module": "@jupyter-widgets/base",
      "model_module_version": "2.0.0",
      "model_name": "LayoutModel",
      "state": {}
     },
     "258bb04863694ecb97de1f4a83253794": {
      "model_module": "@jupyter-widgets/controls",
      "model_module_version": "2.0.0",
      "model_name": "HTMLModel",
      "state": {
       "layout": "IPY_MODEL_bc4124ad078041f68e6f2255566b38dd",
       "style": "IPY_MODEL_b2ee1bc9cf1b48fb9106be23f23f3f0a",
       "value": " 3/3 [04:56&lt;00:00, 100.57s/it]"
      }
     },
     "29062f4fb8b64eaaba6badc76dc9e6ad": {
      "model_module": "@jupyter-widgets/controls",
      "model_module_version": "2.0.0",
      "model_name": "FloatProgressModel",
      "state": {
       "bar_style": "success",
       "layout": "IPY_MODEL_00e48f19becb4913a00dfb0bdecdc8ab",
       "max": 1,
       "style": "IPY_MODEL_d595e20fd60743e9abc85888b95f99a3",
       "value": 1
      }
     },
     "297e052e7fd04bb9aade4beee8cbaa91": {
      "model_module": "@jupyter-widgets/base",
      "model_module_version": "2.0.0",
      "model_name": "LayoutModel",
      "state": {}
     },
     "29be41aee0e949e0bb0c361ea21883c3": {
      "model_module": "@jupyter-widgets/controls",
      "model_module_version": "2.0.0",
      "model_name": "HTMLStyleModel",
      "state": {
       "description_width": "",
       "font_size": null,
       "text_color": null
      }
     },
     "2d6d088c30de43fd8633e767d1541edd": {
      "model_module": "@jupyter-widgets/controls",
      "model_module_version": "2.0.0",
      "model_name": "FloatProgressModel",
      "state": {
       "bar_style": "success",
       "layout": "IPY_MODEL_2366b2ec04384e76b5a6bbf764bebc6f",
       "max": 1379,
       "style": "IPY_MODEL_d61ecc1c48cd4c33b6066377d8ad9f09",
       "value": 1379
      }
     },
     "2eec1cecee694e97bbe3c8d5b88942dc": {
      "model_module": "@jupyter-widgets/base",
      "model_module_version": "2.0.0",
      "model_name": "LayoutModel",
      "state": {}
     },
     "3003a5b316ad4ba2b4572cf52072d359": {
      "model_module": "@jupyter-widgets/controls",
      "model_module_version": "2.0.0",
      "model_name": "HBoxModel",
      "state": {
       "children": [
        "IPY_MODEL_3a28f317179b4e1284ad590acd2af648",
        "IPY_MODEL_be8a941f6e0741bc99f6176103a27132",
        "IPY_MODEL_21579460b30a4fbc933f84dfcbb5ca5e"
       ],
       "layout": "IPY_MODEL_5dc1ed6d7e614d92ae5aac783eca4d50"
      }
     },
     "306ba6ed383d492fb27ee4b05cdd678f": {
      "model_module": "@jupyter-widgets/base",
      "model_module_version": "2.0.0",
      "model_name": "LayoutModel",
      "state": {}
     },
     "30c523db7c0345c797dd9c2518fe67da": {
      "model_module": "@jupyter-widgets/controls",
      "model_module_version": "2.0.0",
      "model_name": "ProgressStyleModel",
      "state": {
       "description_width": ""
      }
     },
     "359a351e4477426391b779df156d63a8": {
      "model_module": "@jupyter-widgets/controls",
      "model_module_version": "2.0.0",
      "model_name": "HTMLStyleModel",
      "state": {
       "description_width": "",
       "font_size": null,
       "text_color": null
      }
     },
     "36fa31ac876b46e78b8bec4bb1202058": {
      "model_module": "@jupyter-widgets/controls",
      "model_module_version": "2.0.0",
      "model_name": "HTMLStyleModel",
      "state": {
       "description_width": "",
       "font_size": null,
       "text_color": null
      }
     },
     "3a28f317179b4e1284ad590acd2af648": {
      "model_module": "@jupyter-widgets/controls",
      "model_module_version": "2.0.0",
      "model_name": "HTMLModel",
      "state": {
       "layout": "IPY_MODEL_47c3c5e76179408da0723da911e9afd9",
       "style": "IPY_MODEL_a684914e244547d1b6f198fc5ffeba83",
       "value": "100%"
      }
     },
     "3d30ce5a19984360bc5522b903bf4672": {
      "model_module": "@jupyter-widgets/controls",
      "model_module_version": "2.0.0",
      "model_name": "FloatProgressModel",
      "state": {
       "bar_style": "success",
       "layout": "IPY_MODEL_6e3cff82b7494f36ab37244f9a1b159f",
       "max": 1,
       "style": "IPY_MODEL_abb38cda7c5b48e38436a9e36c7288a4",
       "value": 1
      }
     },
     "3e68c8ac2a0a437c8e5b6f55d0646824": {
      "model_module": "@jupyter-widgets/controls",
      "model_module_version": "2.0.0",
      "model_name": "HTMLStyleModel",
      "state": {
       "description_width": "",
       "font_size": null,
       "text_color": null
      }
     },
     "3e806595d7a043fe9544c4aecd74e1ff": {
      "model_module": "@jupyter-widgets/controls",
      "model_module_version": "2.0.0",
      "model_name": "HBoxModel",
      "state": {
       "children": [
        "IPY_MODEL_879b2dc124d041f4b0e0e45932be4670",
        "IPY_MODEL_1136debbd5474253bd88530ca0f143d9",
        "IPY_MODEL_4f62a0f2ec7a4ee89c791a787de4fa0e"
       ],
       "layout": "IPY_MODEL_5273e504e77441e08faf4e51d44f470c"
      }
     },
     "3fe00698107d4823a13d11ab64951827": {
      "model_module": "@jupyter-widgets/controls",
      "model_module_version": "2.0.0",
      "model_name": "ProgressStyleModel",
      "state": {
       "description_width": ""
      }
     },
     "4051b3b77e354e379d0e17c5fa776b2c": {
      "model_module": "@jupyter-widgets/controls",
      "model_module_version": "2.0.0",
      "model_name": "HTMLStyleModel",
      "state": {
       "description_width": "",
       "font_size": null,
       "text_color": null
      }
     },
     "4132075259454a1fb08beaa0d7a30608": {
      "model_module": "@jupyter-widgets/controls",
      "model_module_version": "2.0.0",
      "model_name": "HTMLModel",
      "state": {
       "layout": "IPY_MODEL_848928f0f10141f5a27db7bdfe1ff4f5",
       "style": "IPY_MODEL_6710439383c742c0bf80d82191432edd",
       "value": "100%"
      }
     },
     "42a068e7c76a4a20989955bce0f2ef5c": {
      "model_module": "@jupyter-widgets/base",
      "model_module_version": "2.0.0",
      "model_name": "LayoutModel",
      "state": {}
     },
     "451ff5f1b98b47308292c5b4b5132141": {
      "model_module": "@jupyter-widgets/base",
      "model_module_version": "2.0.0",
      "model_name": "LayoutModel",
      "state": {}
     },
     "46d63b894561405cb4300be6de78d860": {
      "model_module": "@jupyter-widgets/controls",
      "model_module_version": "2.0.0",
      "model_name": "ProgressStyleModel",
      "state": {
       "description_width": ""
      }
     },
     "47c3c5e76179408da0723da911e9afd9": {
      "model_module": "@jupyter-widgets/base",
      "model_module_version": "2.0.0",
      "model_name": "LayoutModel",
      "state": {}
     },
     "48bdee052d944989923f22f031114acb": {
      "model_module": "@jupyter-widgets/controls",
      "model_module_version": "2.0.0",
      "model_name": "HTMLStyleModel",
      "state": {
       "description_width": "",
       "font_size": null,
       "text_color": null
      }
     },
     "48ce0e1d16e14906bf8299440531e148": {
      "model_module": "@jupyter-widgets/base",
      "model_module_version": "2.0.0",
      "model_name": "LayoutModel",
      "state": {}
     },
     "4979bc4e10534d2aa972fc09ec991719": {
      "model_module": "@jupyter-widgets/controls",
      "model_module_version": "2.0.0",
      "model_name": "HBoxModel",
      "state": {
       "children": [
        "IPY_MODEL_6c5bbee3fce049458935e5abfb01b755",
        "IPY_MODEL_9845c6a023e74166b986a4ebeefce039",
        "IPY_MODEL_a2e3ee498e854dd28d0a479f9a8c688a"
       ],
       "layout": "IPY_MODEL_5001f89fdecb4190aa551634e028b506"
      }
     },
     "49d64cd2244e4ecf8d8326d017782097": {
      "model_module": "@jupyter-widgets/controls",
      "model_module_version": "2.0.0",
      "model_name": "HTMLModel",
      "state": {
       "layout": "IPY_MODEL_d951e37918f14a3187ffd01ba4758877",
       "style": "IPY_MODEL_c2962478b5c443348b11426f8b358d6e",
       "value": " 1528/1528 [03:20&lt;00:00,  7.73it/s]"
      }
     },
     "4a4de075634849e0b83f759769f5b657": {
      "model_module": "@jupyter-widgets/base",
      "model_module_version": "2.0.0",
      "model_name": "LayoutModel",
      "state": {}
     },
     "4ba9e6dcd9eb4dbfaec47ce2160d5149": {
      "model_module": "@jupyter-widgets/base",
      "model_module_version": "2.0.0",
      "model_name": "LayoutModel",
      "state": {}
     },
     "4f62a0f2ec7a4ee89c791a787de4fa0e": {
      "model_module": "@jupyter-widgets/controls",
      "model_module_version": "2.0.0",
      "model_name": "HTMLModel",
      "state": {
       "layout": "IPY_MODEL_86884efc9bc6432684459c96dea41dcc",
       "style": "IPY_MODEL_9dd21cb324244a879c984a1f72a68e08",
       "value": " 3/3 [17:25&lt;00:00, 349.40s/it]"
      }
     },
     "5001f89fdecb4190aa551634e028b506": {
      "model_module": "@jupyter-widgets/base",
      "model_module_version": "2.0.0",
      "model_name": "LayoutModel",
      "state": {}
     },
     "50591292aa484deaa94f90f0ef9e1b9e": {
      "model_module": "@jupyter-widgets/base",
      "model_module_version": "2.0.0",
      "model_name": "LayoutModel",
      "state": {}
     },
     "5273e504e77441e08faf4e51d44f470c": {
      "model_module": "@jupyter-widgets/base",
      "model_module_version": "2.0.0",
      "model_name": "LayoutModel",
      "state": {}
     },
     "53fcd36d0cb141b08a7651a95f857502": {
      "model_module": "@jupyter-widgets/controls",
      "model_module_version": "2.0.0",
      "model_name": "HTMLStyleModel",
      "state": {
       "description_width": "",
       "font_size": null,
       "text_color": null
      }
     },
     "55d535ecfb984e11ae18245a0c2bb857": {
      "model_module": "@jupyter-widgets/base",
      "model_module_version": "2.0.0",
      "model_name": "LayoutModel",
      "state": {}
     },
     "5697bc002fe94d10a7744f851713a5ed": {
      "model_module": "@jupyter-widgets/controls",
      "model_module_version": "2.0.0",
      "model_name": "HTMLStyleModel",
      "state": {
       "description_width": "",
       "font_size": null,
       "text_color": null
      }
     },
     "572ed75d1ba5424686091fe84ec77e83": {
      "model_module": "@jupyter-widgets/base",
      "model_module_version": "2.0.0",
      "model_name": "LayoutModel",
      "state": {}
     },
     "58a9afe0fb3140829857d1336e8328c5": {
      "model_module": "@jupyter-widgets/controls",
      "model_module_version": "2.0.0",
      "model_name": "FloatProgressModel",
      "state": {
       "bar_style": "success",
       "layout": "IPY_MODEL_297e052e7fd04bb9aade4beee8cbaa91",
       "max": 553,
       "style": "IPY_MODEL_c6795eaa2ab0498581d955eb6e18767d",
       "value": 553
      }
     },
     "5aea1f4e142b4800a3be23f3501f8927": {
      "model_module": "@jupyter-widgets/controls",
      "model_module_version": "2.0.0",
      "model_name": "HTMLStyleModel",
      "state": {
       "description_width": "",
       "font_size": null,
       "text_color": null
      }
     },
     "5b98557ed13e49e7934bd550582fb3d7": {
      "model_module": "@jupyter-widgets/controls",
      "model_module_version": "2.0.0",
      "model_name": "FloatProgressModel",
      "state": {
       "bar_style": "success",
       "layout": "IPY_MODEL_124644b4ec3b45448545120d9ffcd888",
       "max": 1528,
       "style": "IPY_MODEL_b83b7fda04a54ababc177439db2a154f",
       "value": 1528
      }
     },
     "5baf561858194c63a2dadffe7b38c0b9": {
      "model_module": "@jupyter-widgets/controls",
      "model_module_version": "2.0.0",
      "model_name": "ProgressStyleModel",
      "state": {
       "description_width": ""
      }
     },
     "5c76c400903e48f3afc6f9b04385b650": {
      "model_module": "@jupyter-widgets/controls",
      "model_module_version": "2.0.0",
      "model_name": "HTMLStyleModel",
      "state": {
       "description_width": "",
       "font_size": null,
       "text_color": null
      }
     },
     "5dc1ed6d7e614d92ae5aac783eca4d50": {
      "model_module": "@jupyter-widgets/base",
      "model_module_version": "2.0.0",
      "model_name": "LayoutModel",
      "state": {}
     },
     "5ea393dfc13148be9ca813c36cb64fac": {
      "model_module": "@jupyter-widgets/controls",
      "model_module_version": "2.0.0",
      "model_name": "ProgressStyleModel",
      "state": {
       "description_width": ""
      }
     },
     "624c072cb17b4537a152bea33a0df048": {
      "model_module": "@jupyter-widgets/base",
      "model_module_version": "2.0.0",
      "model_name": "LayoutModel",
      "state": {}
     },
     "6273b02aac98495ea4c5e56008aafb27": {
      "model_module": "@jupyter-widgets/controls",
      "model_module_version": "2.0.0",
      "model_name": "ProgressStyleModel",
      "state": {
       "description_width": ""
      }
     },
     "6710439383c742c0bf80d82191432edd": {
      "model_module": "@jupyter-widgets/controls",
      "model_module_version": "2.0.0",
      "model_name": "HTMLStyleModel",
      "state": {
       "description_width": "",
       "font_size": null,
       "text_color": null
      }
     },
     "6b43fa6a7f354ddcacb407db3f5fa3fe": {
      "model_module": "@jupyter-widgets/controls",
      "model_module_version": "2.0.0",
      "model_name": "FloatProgressModel",
      "state": {
       "bar_style": "success",
       "layout": "IPY_MODEL_7ea913811e8a46c49b42aab29384dac2",
       "max": 975,
       "style": "IPY_MODEL_46d63b894561405cb4300be6de78d860",
       "value": 975
      }
     },
     "6c5bbee3fce049458935e5abfb01b755": {
      "model_module": "@jupyter-widgets/controls",
      "model_module_version": "2.0.0",
      "model_name": "HTMLModel",
      "state": {
       "layout": "IPY_MODEL_1341d76b048843968525d005b587124c",
       "style": "IPY_MODEL_48bdee052d944989923f22f031114acb",
       "value": "100%"
      }
     },
     "6c76d3cc1c634aafb492d25248f95722": {
      "model_module": "@jupyter-widgets/base",
      "model_module_version": "2.0.0",
      "model_name": "LayoutModel",
      "state": {}
     },
     "6e3cff82b7494f36ab37244f9a1b159f": {
      "model_module": "@jupyter-widgets/base",
      "model_module_version": "2.0.0",
      "model_name": "LayoutModel",
      "state": {}
     },
     "6eddbac0630c4800bf77fe916697ec15": {
      "model_module": "@jupyter-widgets/base",
      "model_module_version": "2.0.0",
      "model_name": "LayoutModel",
      "state": {}
     },
     "70524966a78e4ca381c7cdf7be8fd79e": {
      "model_module": "@jupyter-widgets/base",
      "model_module_version": "2.0.0",
      "model_name": "LayoutModel",
      "state": {}
     },
     "714cb47909144c39a92894bed79721cd": {
      "model_module": "@jupyter-widgets/controls",
      "model_module_version": "2.0.0",
      "model_name": "FloatProgressModel",
      "state": {
       "bar_style": "success",
       "layout": "IPY_MODEL_4a4de075634849e0b83f759769f5b657",
       "max": 1097,
       "style": "IPY_MODEL_d02ad75f9fc44358a830feaf5e1b7c6b",
       "value": 1097
      }
     },
     "719176a0bab44261a5321e47e0f8f4ad": {
      "model_module": "@jupyter-widgets/base",
      "model_module_version": "2.0.0",
      "model_name": "LayoutModel",
      "state": {}
     },
     "7264a88acc194343bac2a7f28844d2f1": {
      "model_module": "@jupyter-widgets/controls",
      "model_module_version": "2.0.0",
      "model_name": "FloatProgressModel",
      "state": {
       "bar_style": "success",
       "layout": "IPY_MODEL_f5967291942543ac83124aa6a16b0e3f",
       "max": 302,
       "style": "IPY_MODEL_5baf561858194c63a2dadffe7b38c0b9",
       "value": 302
      }
     },
     "729b717d7f624300a2b4e2b5b0d5ebea": {
      "model_module": "@jupyter-widgets/controls",
      "model_module_version": "2.0.0",
      "model_name": "HTMLStyleModel",
      "state": {
       "description_width": "",
       "font_size": null,
       "text_color": null
      }
     },
     "750ee0217227415d89d107199ab211d7": {
      "model_module": "@jupyter-widgets/base",
      "model_module_version": "2.0.0",
      "model_name": "LayoutModel",
      "state": {}
     },
     "754a646eba704c129ed98bf40e8c8eb7": {
      "model_module": "@jupyter-widgets/base",
      "model_module_version": "2.0.0",
      "model_name": "LayoutModel",
      "state": {}
     },
     "755a084cdc064b62a4114d14f10c46ac": {
      "model_module": "@jupyter-widgets/controls",
      "model_module_version": "2.0.0",
      "model_name": "HTMLStyleModel",
      "state": {
       "description_width": "",
       "font_size": null,
       "text_color": null
      }
     },
     "76435d09827d45e182eb926a72911f4c": {
      "model_module": "@jupyter-widgets/controls",
      "model_module_version": "2.0.0",
      "model_name": "FloatProgressModel",
      "state": {
       "bar_style": "success",
       "layout": "IPY_MODEL_70524966a78e4ca381c7cdf7be8fd79e",
       "max": 707,
       "style": "IPY_MODEL_30c523db7c0345c797dd9c2518fe67da",
       "value": 707
      }
     },
     "7853927040d742928c336fd53e76fb58": {
      "model_module": "@jupyter-widgets/controls",
      "model_module_version": "2.0.0",
      "model_name": "HTMLModel",
      "state": {
       "layout": "IPY_MODEL_0f128544e3314d569a5251c3f7395e90",
       "style": "IPY_MODEL_f12d3957107044bf98f0e74189548a4e",
       "value": " 1425/1425 [03:06&lt;00:00,  7.66it/s]"
      }
     },
     "7ea913811e8a46c49b42aab29384dac2": {
      "model_module": "@jupyter-widgets/base",
      "model_module_version": "2.0.0",
      "model_name": "LayoutModel",
      "state": {}
     },
     "8075bf1b4f7e41a79f7884e27d3ebbb7": {
      "model_module": "@jupyter-widgets/controls",
      "model_module_version": "2.0.0",
      "model_name": "HTMLStyleModel",
      "state": {
       "description_width": "",
       "font_size": null,
       "text_color": null
      }
     },
     "81a010293fda46deb6d305b4206a8774": {
      "model_module": "@jupyter-widgets/controls",
      "model_module_version": "2.0.0",
      "model_name": "HTMLModel",
      "state": {
       "layout": "IPY_MODEL_572ed75d1ba5424686091fe84ec77e83",
       "style": "IPY_MODEL_150410de331044b4825cb7b96c5a93e2",
       "value": "100%"
      }
     },
     "8324e274c5c1448c8cd50c8095b76e6c": {
      "model_module": "@jupyter-widgets/controls",
      "model_module_version": "2.0.0",
      "model_name": "HTMLModel",
      "state": {
       "layout": "IPY_MODEL_b8c38247b5f5497598c138f1cfb585ef",
       "style": "IPY_MODEL_729b717d7f624300a2b4e2b5b0d5ebea",
       "value": " 1097/1097 [02:18&lt;00:00,  7.98it/s]"
      }
     },
     "848928f0f10141f5a27db7bdfe1ff4f5": {
      "model_module": "@jupyter-widgets/base",
      "model_module_version": "2.0.0",
      "model_name": "LayoutModel",
      "state": {}
     },
     "84dea2498570475dba880c30c42376c6": {
      "model_module": "@jupyter-widgets/base",
      "model_module_version": "2.0.0",
      "model_name": "LayoutModel",
      "state": {}
     },
     "867dfb9d8e244586939ea63ee7094d93": {
      "model_module": "@jupyter-widgets/base",
      "model_module_version": "2.0.0",
      "model_name": "LayoutModel",
      "state": {}
     },
     "86884efc9bc6432684459c96dea41dcc": {
      "model_module": "@jupyter-widgets/base",
      "model_module_version": "2.0.0",
      "model_name": "LayoutModel",
      "state": {}
     },
     "879b2dc124d041f4b0e0e45932be4670": {
      "model_module": "@jupyter-widgets/controls",
      "model_module_version": "2.0.0",
      "model_name": "HTMLModel",
      "state": {
       "layout": "IPY_MODEL_754a646eba704c129ed98bf40e8c8eb7",
       "style": "IPY_MODEL_359a351e4477426391b779df156d63a8",
       "value": "100%"
      }
     },
     "885081d8d5d949c4b206c48169cbade9": {
      "model_module": "@jupyter-widgets/base",
      "model_module_version": "2.0.0",
      "model_name": "LayoutModel",
      "state": {}
     },
     "88b1f710bced416ab8b47ed368434691": {
      "model_module": "@jupyter-widgets/base",
      "model_module_version": "2.0.0",
      "model_name": "LayoutModel",
      "state": {}
     },
     "88f63cfe5e4d4949b0292a765ee45525": {
      "model_module": "@jupyter-widgets/controls",
      "model_module_version": "2.0.0",
      "model_name": "HTMLStyleModel",
      "state": {
       "description_width": "",
       "font_size": null,
       "text_color": null
      }
     },
     "8a100146e40046f09b0faef13dd71f67": {
      "model_module": "@jupyter-widgets/base",
      "model_module_version": "2.0.0",
      "model_name": "LayoutModel",
      "state": {}
     },
     "8e80e7645df649e6a5760045e9825d15": {
      "model_module": "@jupyter-widgets/base",
      "model_module_version": "2.0.0",
      "model_name": "LayoutModel",
      "state": {}
     },
     "8ec5cdd3b6f547869d81424a332fcf2e": {
      "model_module": "@jupyter-widgets/controls",
      "model_module_version": "2.0.0",
      "model_name": "HBoxModel",
      "state": {
       "children": [
        "IPY_MODEL_e3e756574d924987a29681a9d64bdf78",
        "IPY_MODEL_7264a88acc194343bac2a7f28844d2f1",
        "IPY_MODEL_001194a1ad354179b66ac063d8d97c16"
       ],
       "layout": "IPY_MODEL_e849e4c52075406c9c564587918e9148"
      }
     },
     "90d9ef7ba3574424b72b7b7b3d5fa0cd": {
      "model_module": "@jupyter-widgets/controls",
      "model_module_version": "2.0.0",
      "model_name": "HBoxModel",
      "state": {
       "children": [
        "IPY_MODEL_cfbc3c3896cf4e84ac55216b1c850941",
        "IPY_MODEL_6b43fa6a7f354ddcacb407db3f5fa3fe",
        "IPY_MODEL_0ea62a54c28f4c90b6b42861045d1e11"
       ],
       "layout": "IPY_MODEL_f956faa80056413591c96b45e26dfdeb"
      }
     },
     "96e8ef01232c4cdca6e2d814c49a2467": {
      "model_module": "@jupyter-widgets/base",
      "model_module_version": "2.0.0",
      "model_name": "LayoutModel",
      "state": {}
     },
     "975f6bcbe0434357952877ffc2caff91": {
      "model_module": "@jupyter-widgets/controls",
      "model_module_version": "2.0.0",
      "model_name": "HTMLStyleModel",
      "state": {
       "description_width": "",
       "font_size": null,
       "text_color": null
      }
     },
     "97605c62b355462e9d20b26bb0a622f3": {
      "model_module": "@jupyter-widgets/base",
      "model_module_version": "2.0.0",
      "model_name": "LayoutModel",
      "state": {}
     },
     "9845c6a023e74166b986a4ebeefce039": {
      "model_module": "@jupyter-widgets/controls",
      "model_module_version": "2.0.0",
      "model_name": "FloatProgressModel",
      "state": {
       "bar_style": "success",
       "layout": "IPY_MODEL_885081d8d5d949c4b206c48169cbade9",
       "max": 139,
       "style": "IPY_MODEL_06ba96e35ea34c1584d3610145a3279f",
       "value": 139
      }
     },
     "9be5b982a3c546c39a954075cf1dcc6e": {
      "model_module": "@jupyter-widgets/controls",
      "model_module_version": "2.0.0",
      "model_name": "HBoxModel",
      "state": {
       "children": [
        "IPY_MODEL_044fecc7d7b5404ea3c4a6653a5f5c6b",
        "IPY_MODEL_3d30ce5a19984360bc5522b903bf4672",
        "IPY_MODEL_c9c223e463ba497081e57640e490cfa1"
       ],
       "layout": "IPY_MODEL_8e80e7645df649e6a5760045e9825d15"
      }
     },
     "9d71ebabf741416fbb79f378d1b20503": {
      "model_module": "@jupyter-widgets/controls",
      "model_module_version": "2.0.0",
      "model_name": "HBoxModel",
      "state": {
       "children": [
        "IPY_MODEL_bf234139ebdc48e68722dc707de8bca3",
        "IPY_MODEL_2d6d088c30de43fd8633e767d1541edd",
        "IPY_MODEL_1445868dbcf94077810128d840b917ab"
       ],
       "layout": "IPY_MODEL_4ba9e6dcd9eb4dbfaec47ce2160d5149"
      }
     },
     "9dd21cb324244a879c984a1f72a68e08": {
      "model_module": "@jupyter-widgets/controls",
      "model_module_version": "2.0.0",
      "model_name": "HTMLStyleModel",
      "state": {
       "description_width": "",
       "font_size": null,
       "text_color": null
      }
     },
     "9f336c7e24cf44c1b0951017d2aefbd7": {
      "model_module": "@jupyter-widgets/controls",
      "model_module_version": "2.0.0",
      "model_name": "HTMLStyleModel",
      "state": {
       "description_width": "",
       "font_size": null,
       "text_color": null
      }
     },
     "a2e3ee498e854dd28d0a479f9a8c688a": {
      "model_module": "@jupyter-widgets/controls",
      "model_module_version": "2.0.0",
      "model_name": "HTMLModel",
      "state": {
       "layout": "IPY_MODEL_50591292aa484deaa94f90f0ef9e1b9e",
       "style": "IPY_MODEL_29be41aee0e949e0bb0c361ea21883c3",
       "value": " 139/139 [00:17&lt;00:00,  7.95it/s]"
      }
     },
     "a3511148982c46a9a470a51d9763bbe0": {
      "model_module": "@jupyter-widgets/base",
      "model_module_version": "2.0.0",
      "model_name": "LayoutModel",
      "state": {}
     },
     "a4e9a97101214953bec4e9dd78c714f3": {
      "model_module": "@jupyter-widgets/controls",
      "model_module_version": "2.0.0",
      "model_name": "HTMLModel",
      "state": {
       "layout": "IPY_MODEL_e1932a4147654a1480610e5f2be2b19b",
       "style": "IPY_MODEL_36fa31ac876b46e78b8bec4bb1202058",
       "value": "100%"
      }
     },
     "a684914e244547d1b6f198fc5ffeba83": {
      "model_module": "@jupyter-widgets/controls",
      "model_module_version": "2.0.0",
      "model_name": "HTMLStyleModel",
      "state": {
       "description_width": "",
       "font_size": null,
       "text_color": null
      }
     },
     "a9c72f46832f4cfb814d0bcda6124c33": {
      "model_module": "@jupyter-widgets/controls",
      "model_module_version": "2.0.0",
      "model_name": "HBoxModel",
      "state": {
       "children": [
        "IPY_MODEL_06f17a54521b4498937573755fd907a2",
        "IPY_MODEL_fc67d2a0fbcd473d9d2e0dd1db6ada7c",
        "IPY_MODEL_7853927040d742928c336fd53e76fb58"
       ],
       "layout": "IPY_MODEL_84dea2498570475dba880c30c42376c6"
      }
     },
     "abb38cda7c5b48e38436a9e36c7288a4": {
      "model_module": "@jupyter-widgets/controls",
      "model_module_version": "2.0.0",
      "model_name": "ProgressStyleModel",
      "state": {
       "description_width": ""
      }
     },
     "ae18b0b92eaa4f808c42eea1dcd0d7f1": {
      "model_module": "@jupyter-widgets/base",
      "model_module_version": "2.0.0",
      "model_name": "LayoutModel",
      "state": {}
     },
     "af1846e40ebb499987d89c5b26eb243d": {
      "model_module": "@jupyter-widgets/controls",
      "model_module_version": "2.0.0",
      "model_name": "HBoxModel",
      "state": {
       "children": [
        "IPY_MODEL_4132075259454a1fb08beaa0d7a30608",
        "IPY_MODEL_58a9afe0fb3140829857d1336e8328c5",
        "IPY_MODEL_030e21473e5b4d4ca9851924fcd12805"
       ],
       "layout": "IPY_MODEL_affc982d9d0b47e59d6c23cb39417f7d"
      }
     },
     "affc982d9d0b47e59d6c23cb39417f7d": {
      "model_module": "@jupyter-widgets/base",
      "model_module_version": "2.0.0",
      "model_name": "LayoutModel",
      "state": {}
     },
     "b0661d5ebd134a0b80fea63aa017e6ae": {
      "model_module": "@jupyter-widgets/controls",
      "model_module_version": "2.0.0",
      "model_name": "FloatProgressModel",
      "state": {
       "bar_style": "success",
       "layout": "IPY_MODEL_b23a09dfb08141878e0456d57daacfbe",
       "max": 1,
       "style": "IPY_MODEL_f05a49a95b6d406fb69cf67f106baeaf",
       "value": 1
      }
     },
     "b0b5945b7c334b59ad61519841a8063f": {
      "model_module": "@jupyter-widgets/base",
      "model_module_version": "2.0.0",
      "model_name": "LayoutModel",
      "state": {}
     },
     "b10b4a938b30413595feebbb01866f4e": {
      "model_module": "@jupyter-widgets/controls",
      "model_module_version": "2.0.0",
      "model_name": "HBoxModel",
      "state": {
       "children": [
        "IPY_MODEL_81a010293fda46deb6d305b4206a8774",
        "IPY_MODEL_5b98557ed13e49e7934bd550582fb3d7",
        "IPY_MODEL_49d64cd2244e4ecf8d8326d017782097"
       ],
       "layout": "IPY_MODEL_b0b5945b7c334b59ad61519841a8063f"
      }
     },
     "b23a09dfb08141878e0456d57daacfbe": {
      "model_module": "@jupyter-widgets/base",
      "model_module_version": "2.0.0",
      "model_name": "LayoutModel",
      "state": {}
     },
     "b2ee1bc9cf1b48fb9106be23f23f3f0a": {
      "model_module": "@jupyter-widgets/controls",
      "model_module_version": "2.0.0",
      "model_name": "HTMLStyleModel",
      "state": {
       "description_width": "",
       "font_size": null,
       "text_color": null
      }
     },
     "b3ab171e9e09426f9a20bb69aaadd08f": {
      "model_module": "@jupyter-widgets/controls",
      "model_module_version": "2.0.0",
      "model_name": "HTMLModel",
      "state": {
       "layout": "IPY_MODEL_24c377b4eb41461e9b9c87dd0fd8cd24",
       "style": "IPY_MODEL_fdcb3fe5cc6048bcb2e5f576821de885",
       "value": " 707/707 [01:29&lt;00:00,  7.92it/s]"
      }
     },
     "b504d9643fed48b09ecd39fa24f20d80": {
      "model_module": "@jupyter-widgets/controls",
      "model_module_version": "2.0.0",
      "model_name": "HTMLModel",
      "state": {
       "layout": "IPY_MODEL_a3511148982c46a9a470a51d9763bbe0",
       "style": "IPY_MODEL_1c47e5d7d8bc44b381815ce016e98a04",
       "value": " 1/1 [00:00&lt;00:00, 34.50it/s]"
      }
     },
     "b61eea0a35a042aeb4b81c3989a48d49": {
      "model_module": "@jupyter-widgets/controls",
      "model_module_version": "2.0.0",
      "model_name": "FloatProgressModel",
      "state": {
       "bar_style": "success",
       "layout": "IPY_MODEL_42a068e7c76a4a20989955bce0f2ef5c",
       "max": 3,
       "style": "IPY_MODEL_6273b02aac98495ea4c5e56008aafb27",
       "value": 3
      }
     },
     "b83b7fda04a54ababc177439db2a154f": {
      "model_module": "@jupyter-widgets/controls",
      "model_module_version": "2.0.0",
      "model_name": "ProgressStyleModel",
      "state": {
       "description_width": ""
      }
     },
     "b8c38247b5f5497598c138f1cfb585ef": {
      "model_module": "@jupyter-widgets/base",
      "model_module_version": "2.0.0",
      "model_name": "LayoutModel",
      "state": {}
     },
     "bc4124ad078041f68e6f2255566b38dd": {
      "model_module": "@jupyter-widgets/base",
      "model_module_version": "2.0.0",
      "model_name": "LayoutModel",
      "state": {}
     },
     "bd43a3cceac54a858ad1cb180b0535e0": {
      "model_module": "@jupyter-widgets/controls",
      "model_module_version": "2.0.0",
      "model_name": "HTMLModel",
      "state": {
       "layout": "IPY_MODEL_88b1f710bced416ab8b47ed368434691",
       "style": "IPY_MODEL_5697bc002fe94d10a7744f851713a5ed",
       "value": "Batches: 100%"
      }
     },
     "be8a941f6e0741bc99f6176103a27132": {
      "model_module": "@jupyter-widgets/controls",
      "model_module_version": "2.0.0",
      "model_name": "FloatProgressModel",
      "state": {
       "bar_style": "success",
       "layout": "IPY_MODEL_fb566f77be10401480387201c71b224f",
       "max": 3,
       "style": "IPY_MODEL_cb5491f00a8e47318ed10568e7afb24b",
       "value": 3
      }
     },
     "beb0fa2e040d4b5bb39caa371c4192b7": {
      "model_module": "@jupyter-widgets/controls",
      "model_module_version": "2.0.0",
      "model_name": "HBoxModel",
      "state": {
       "children": [
        "IPY_MODEL_fdcb1342adc34af78ada0da8061db611",
        "IPY_MODEL_76435d09827d45e182eb926a72911f4c",
        "IPY_MODEL_b3ab171e9e09426f9a20bb69aaadd08f"
       ],
       "layout": "IPY_MODEL_750ee0217227415d89d107199ab211d7"
      }
     },
     "bf234139ebdc48e68722dc707de8bca3": {
      "model_module": "@jupyter-widgets/controls",
      "model_module_version": "2.0.0",
      "model_name": "HTMLModel",
      "state": {
       "layout": "IPY_MODEL_ae18b0b92eaa4f808c42eea1dcd0d7f1",
       "style": "IPY_MODEL_53fcd36d0cb141b08a7651a95f857502",
       "value": "100%"
      }
     },
     "c1934836973c49fe833bb217fa174d72": {
      "model_module": "@jupyter-widgets/controls",
      "model_module_version": "2.0.0",
      "model_name": "HTMLStyleModel",
      "state": {
       "description_width": "",
       "font_size": null,
       "text_color": null
      }
     },
     "c21e2fcd996346a0a3c37a01cd205408": {
      "model_module": "@jupyter-widgets/base",
      "model_module_version": "2.0.0",
      "model_name": "LayoutModel",
      "state": {}
     },
     "c2962478b5c443348b11426f8b358d6e": {
      "model_module": "@jupyter-widgets/controls",
      "model_module_version": "2.0.0",
      "model_name": "HTMLStyleModel",
      "state": {
       "description_width": "",
       "font_size": null,
       "text_color": null
      }
     },
     "c6795eaa2ab0498581d955eb6e18767d": {
      "model_module": "@jupyter-widgets/controls",
      "model_module_version": "2.0.0",
      "model_name": "ProgressStyleModel",
      "state": {
       "description_width": ""
      }
     },
     "c6c56c685aea487c8d0c79ff127c4f7d": {
      "model_module": "@jupyter-widgets/controls",
      "model_module_version": "2.0.0",
      "model_name": "HTMLModel",
      "state": {
       "layout": "IPY_MODEL_ce19e38ac66d4f18a740fccdc528e18c",
       "style": "IPY_MODEL_3e68c8ac2a0a437c8e5b6f55d0646824",
       "value": "100%"
      }
     },
     "c9c223e463ba497081e57640e490cfa1": {
      "model_module": "@jupyter-widgets/controls",
      "model_module_version": "2.0.0",
      "model_name": "HTMLModel",
      "state": {
       "layout": "IPY_MODEL_f580ec999bbc42de8e6c9580b29001c4",
       "style": "IPY_MODEL_4051b3b77e354e379d0e17c5fa776b2c",
       "value": " 1/1 [00:00&lt;00:00,  2.59it/s]"
      }
     },
     "ca0432ed3aa4428bb3cf76f1b2e2dcff": {
      "model_module": "@jupyter-widgets/base",
      "model_module_version": "2.0.0",
      "model_name": "LayoutModel",
      "state": {}
     },
     "ca6f98dd36c94d0594bae7aae5225498": {
      "model_module": "@jupyter-widgets/controls",
      "model_module_version": "2.0.0",
      "model_name": "HTMLStyleModel",
      "state": {
       "description_width": "",
       "font_size": null,
       "text_color": null
      }
     },
     "cb1de74f2c0f4532a7c2cf685f29f1a5": {
      "model_module": "@jupyter-widgets/base",
      "model_module_version": "2.0.0",
      "model_name": "LayoutModel",
      "state": {}
     },
     "cb5491f00a8e47318ed10568e7afb24b": {
      "model_module": "@jupyter-widgets/controls",
      "model_module_version": "2.0.0",
      "model_name": "ProgressStyleModel",
      "state": {
       "description_width": ""
      }
     },
     "cc0b8954a8eb42189c56c5ce5cd574e6": {
      "model_module": "@jupyter-widgets/controls",
      "model_module_version": "2.0.0",
      "model_name": "HBoxModel",
      "state": {
       "children": [
        "IPY_MODEL_bd43a3cceac54a858ad1cb180b0535e0",
        "IPY_MODEL_29062f4fb8b64eaaba6badc76dc9e6ad",
        "IPY_MODEL_fc174f5cd6fc42f6aa89fe0a0a7aaa7e"
       ],
       "layout": "IPY_MODEL_18d7e0f3bee64838aeefc5b79726896a"
      }
     },
     "ccb9c97533a04474a1928001155724c0": {
      "model_module": "@jupyter-widgets/controls",
      "model_module_version": "2.0.0",
      "model_name": "HTMLModel",
      "state": {
       "layout": "IPY_MODEL_8a100146e40046f09b0faef13dd71f67",
       "style": "IPY_MODEL_c1934836973c49fe833bb217fa174d72",
       "value": " 3/3 [05:19&lt;00:00, 87.41s/it]"
      }
     },
     "ce19e38ac66d4f18a740fccdc528e18c": {
      "model_module": "@jupyter-widgets/base",
      "model_module_version": "2.0.0",
      "model_name": "LayoutModel",
      "state": {}
     },
     "cfbc3c3896cf4e84ac55216b1c850941": {
      "model_module": "@jupyter-widgets/controls",
      "model_module_version": "2.0.0",
      "model_name": "HTMLModel",
      "state": {
       "layout": "IPY_MODEL_55d535ecfb984e11ae18245a0c2bb857",
       "style": "IPY_MODEL_5c76c400903e48f3afc6f9b04385b650",
       "value": "100%"
      }
     },
     "d02ad75f9fc44358a830feaf5e1b7c6b": {
      "model_module": "@jupyter-widgets/controls",
      "model_module_version": "2.0.0",
      "model_name": "ProgressStyleModel",
      "state": {
       "description_width": ""
      }
     },
     "d03b5b39cf0d4551bdee800040ab56e9": {
      "model_module": "@jupyter-widgets/base",
      "model_module_version": "2.0.0",
      "model_name": "LayoutModel",
      "state": {}
     },
     "d3636567c4db44f9a6c718b835b720d3": {
      "model_module": "@jupyter-widgets/controls",
      "model_module_version": "2.0.0",
      "model_name": "HTMLModel",
      "state": {
       "layout": "IPY_MODEL_867dfb9d8e244586939ea63ee7094d93",
       "style": "IPY_MODEL_975f6bcbe0434357952877ffc2caff91",
       "value": "Batches: 100%"
      }
     },
     "d4c864a841264000ab0f187bc6edbd13": {
      "model_module": "@jupyter-widgets/controls",
      "model_module_version": "2.0.0",
      "model_name": "HBoxModel",
      "state": {
       "children": [
        "IPY_MODEL_a4e9a97101214953bec4e9dd78c714f3",
        "IPY_MODEL_714cb47909144c39a92894bed79721cd",
        "IPY_MODEL_8324e274c5c1448c8cd50c8095b76e6c"
       ],
       "layout": "IPY_MODEL_48ce0e1d16e14906bf8299440531e148"
      }
     },
     "d595e20fd60743e9abc85888b95f99a3": {
      "model_module": "@jupyter-widgets/controls",
      "model_module_version": "2.0.0",
      "model_name": "ProgressStyleModel",
      "state": {
       "description_width": ""
      }
     },
     "d61ecc1c48cd4c33b6066377d8ad9f09": {
      "model_module": "@jupyter-widgets/controls",
      "model_module_version": "2.0.0",
      "model_name": "ProgressStyleModel",
      "state": {
       "description_width": ""
      }
     },
     "d7d4fb16c1d54f0f97b6e80334e761ac": {
      "model_module": "@jupyter-widgets/controls",
      "model_module_version": "2.0.0",
      "model_name": "HTMLStyleModel",
      "state": {
       "description_width": "",
       "font_size": null,
       "text_color": null
      }
     },
     "d951e37918f14a3187ffd01ba4758877": {
      "model_module": "@jupyter-widgets/base",
      "model_module_version": "2.0.0",
      "model_name": "LayoutModel",
      "state": {}
     },
     "e1932a4147654a1480610e5f2be2b19b": {
      "model_module": "@jupyter-widgets/base",
      "model_module_version": "2.0.0",
      "model_name": "LayoutModel",
      "state": {}
     },
     "e3e756574d924987a29681a9d64bdf78": {
      "model_module": "@jupyter-widgets/controls",
      "model_module_version": "2.0.0",
      "model_name": "HTMLModel",
      "state": {
       "layout": "IPY_MODEL_96e8ef01232c4cdca6e2d814c49a2467",
       "style": "IPY_MODEL_9f336c7e24cf44c1b0951017d2aefbd7",
       "value": "100%"
      }
     },
     "e718950e3fb04370aa035b9842243828": {
      "model_module": "@jupyter-widgets/controls",
      "model_module_version": "2.0.0",
      "model_name": "HTMLStyleModel",
      "state": {
       "description_width": "",
       "font_size": null,
       "text_color": null
      }
     },
     "e7d99a1c947d4604a6af4aaf93f5f66a": {
      "model_module": "@jupyter-widgets/controls",
      "model_module_version": "2.0.0",
      "model_name": "HTMLModel",
      "state": {
       "layout": "IPY_MODEL_2eec1cecee694e97bbe3c8d5b88942dc",
       "style": "IPY_MODEL_755a084cdc064b62a4114d14f10c46ac",
       "value": "100%"
      }
     },
     "e849e4c52075406c9c564587918e9148": {
      "model_module": "@jupyter-widgets/base",
      "model_module_version": "2.0.0",
      "model_name": "LayoutModel",
      "state": {}
     },
     "e98a656525d3469aa9351258cb210de1": {
      "model_module": "@jupyter-widgets/base",
      "model_module_version": "2.0.0",
      "model_name": "LayoutModel",
      "state": {}
     },
     "edde0f6251ae40b28dc1a8e2be178cfd": {
      "model_module": "@jupyter-widgets/controls",
      "model_module_version": "2.0.0",
      "model_name": "HTMLStyleModel",
      "state": {
       "description_width": "",
       "font_size": null,
       "text_color": null
      }
     },
     "f05a49a95b6d406fb69cf67f106baeaf": {
      "model_module": "@jupyter-widgets/controls",
      "model_module_version": "2.0.0",
      "model_name": "ProgressStyleModel",
      "state": {
       "description_width": ""
      }
     },
     "f12d3957107044bf98f0e74189548a4e": {
      "model_module": "@jupyter-widgets/controls",
      "model_module_version": "2.0.0",
      "model_name": "HTMLStyleModel",
      "state": {
       "description_width": "",
       "font_size": null,
       "text_color": null
      }
     },
     "f424631df0634722a0e08b5d9c8e8b45": {
      "model_module": "@jupyter-widgets/base",
      "model_module_version": "2.0.0",
      "model_name": "LayoutModel",
      "state": {}
     },
     "f5238457296b47bc82ccd25bd8a9d70c": {
      "model_module": "@jupyter-widgets/controls",
      "model_module_version": "2.0.0",
      "model_name": "HBoxModel",
      "state": {
       "children": [
        "IPY_MODEL_e7d99a1c947d4604a6af4aaf93f5f66a",
        "IPY_MODEL_019d303bf7834634958028af305c5772",
        "IPY_MODEL_ccb9c97533a04474a1928001155724c0"
       ],
       "layout": "IPY_MODEL_f536c611902c460e85fa7ef160d98f90"
      }
     },
     "f536c611902c460e85fa7ef160d98f90": {
      "model_module": "@jupyter-widgets/base",
      "model_module_version": "2.0.0",
      "model_name": "LayoutModel",
      "state": {}
     },
     "f580ec999bbc42de8e6c9580b29001c4": {
      "model_module": "@jupyter-widgets/base",
      "model_module_version": "2.0.0",
      "model_name": "LayoutModel",
      "state": {}
     },
     "f5967291942543ac83124aa6a16b0e3f": {
      "model_module": "@jupyter-widgets/base",
      "model_module_version": "2.0.0",
      "model_name": "LayoutModel",
      "state": {}
     },
     "f956faa80056413591c96b45e26dfdeb": {
      "model_module": "@jupyter-widgets/base",
      "model_module_version": "2.0.0",
      "model_name": "LayoutModel",
      "state": {}
     },
     "fb566f77be10401480387201c71b224f": {
      "model_module": "@jupyter-widgets/base",
      "model_module_version": "2.0.0",
      "model_name": "LayoutModel",
      "state": {}
     },
     "fbcc8a1854f947f89e7f15e3bc88f002": {
      "model_module": "@jupyter-widgets/controls",
      "model_module_version": "2.0.0",
      "model_name": "HTMLStyleModel",
      "state": {
       "description_width": "",
       "font_size": null,
       "text_color": null
      }
     },
     "fc174f5cd6fc42f6aa89fe0a0a7aaa7e": {
      "model_module": "@jupyter-widgets/controls",
      "model_module_version": "2.0.0",
      "model_name": "HTMLModel",
      "state": {
       "layout": "IPY_MODEL_306ba6ed383d492fb27ee4b05cdd678f",
       "style": "IPY_MODEL_5aea1f4e142b4800a3be23f3501f8927",
       "value": " 1/1 [00:00&lt;00:00, 32.62it/s]"
      }
     },
     "fc67d2a0fbcd473d9d2e0dd1db6ada7c": {
      "model_module": "@jupyter-widgets/controls",
      "model_module_version": "2.0.0",
      "model_name": "FloatProgressModel",
      "state": {
       "bar_style": "success",
       "layout": "IPY_MODEL_97605c62b355462e9d20b26bb0a622f3",
       "max": 1425,
       "style": "IPY_MODEL_5ea393dfc13148be9ca813c36cb64fac",
       "value": 1425
      }
     },
     "fd1e558a5fc6487b8be3276f70f5ac39": {
      "model_module": "@jupyter-widgets/controls",
      "model_module_version": "2.0.0",
      "model_name": "ProgressStyleModel",
      "state": {
       "description_width": ""
      }
     },
     "fdcb1342adc34af78ada0da8061db611": {
      "model_module": "@jupyter-widgets/controls",
      "model_module_version": "2.0.0",
      "model_name": "HTMLModel",
      "state": {
       "layout": "IPY_MODEL_0147597d46cf4c32bde657bf08353640",
       "style": "IPY_MODEL_e718950e3fb04370aa035b9842243828",
       "value": "100%"
      }
     },
     "fdcb3fe5cc6048bcb2e5f576821de885": {
      "model_module": "@jupyter-widgets/controls",
      "model_module_version": "2.0.0",
      "model_name": "HTMLStyleModel",
      "state": {
       "description_width": "",
       "font_size": null,
       "text_color": null
      }
     }
    },
    "version_major": 2,
    "version_minor": 0
   }
  }
 },
 "nbformat": 4,
 "nbformat_minor": 4
}
