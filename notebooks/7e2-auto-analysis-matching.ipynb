{
 "cells": [
  {
   "cell_type": "code",
   "execution_count": null,
   "metadata": {},
   "outputs": [],
   "source": [
    "import os\n",
    "import gzip\n",
    "import random\n",
    "import logging\n",
    "\n",
    "import numpy as np\n",
    "import pandas as pd\n",
    "import seaborn as sns\n",
    "import scipy.stats as ss\n",
    "import statsmodels.formula.api as smf\n",
    "\n",
    "import matplotlib as mp\n",
    "%matplotlib inline\n",
    "import matplotlib.pyplot as plt\n",
    "\n",
    "from tqdm.notebook import tqdm, trange\n",
    "\n",
    "from IPython.display import display"
   ]
  },
  {
   "cell_type": "code",
   "execution_count": null,
   "metadata": {},
   "outputs": [],
   "source": [
    "logger = logging.getLogger(__name__)\n",
    "\n",
    "fmt = '%(asctime)s : %(levelname)s : %(message)s'\n",
    "logging.basicConfig(format=fmt, level=logging.INFO)"
   ]
  },
  {
   "cell_type": "code",
   "execution_count": null,
   "metadata": {},
   "outputs": [],
   "source": [
    "os.chdir(os.path.expanduser('~/github/masthesis/'))"
   ]
  },
  {
   "cell_type": "code",
   "execution_count": null,
   "metadata": {},
   "outputs": [],
   "source": [
    "seed = 2969591811\n",
    "\n",
    "random.seed(seed)\n",
    "np.random.seed(seed)"
   ]
  },
  {
   "cell_type": "code",
   "execution_count": null,
   "metadata": {},
   "outputs": [],
   "source": [
    "colors = sns.color_palette('bright', 10)\n",
    "\n",
    "elite_color = colors[3]\n",
    "radio_color = colors[0]\n",
    "decahose_color = colors[9]\n",
    "decahose2_color = colors[4]"
   ]
  },
  {
   "cell_type": "markdown",
   "metadata": {},
   "source": [
    "# Load data"
   ]
  },
  {
   "cell_type": "code",
   "execution_count": null,
   "metadata": {},
   "outputs": [],
   "source": [
    "with open('data/paper-round-3/event-annotated/auto-story-cdfs.npy', 'rb') as f:\n",
    "    cdf_vals = np.load(f)"
   ]
  },
  {
   "cell_type": "code",
   "execution_count": null,
   "metadata": {},
   "outputs": [],
   "source": [
    "stats = pd.read_csv('data/paper-round-3/event-annotated/auto-story-stats.csv', index_col='story_id')\n",
    "\n",
    "assert stats.index.is_unique\n",
    "assert (stats.groupby(['year', 'kind']).size() == stats.groupby(['year', 'kind'])['group'].nunique()).all()"
   ]
  },
  {
   "cell_type": "code",
   "execution_count": null,
   "metadata": {},
   "outputs": [],
   "source": [
    "selected = pd.read_csv('data/paper-round-3/event-annotated/auto-sample-communities-filter-list.csv', index_col='story_id')\n",
    "assert selected.index.is_unique\n",
    "\n",
    "covid_threshold = 0.1\n",
    "selected['decahose_covid_2020'] = (selected['year'] == 2020) & (selected['kind'] == 'decahose') & (selected['covid'] >= covid_threshold)\n",
    "stats['decahose_covid_2020'] = selected['decahose_covid_2020']\n",
    "stats['decahose_covid_2020'] = stats['decahose_covid_2020'].fillna(False)"
   ]
  },
  {
   "cell_type": "code",
   "execution_count": null,
   "metadata": {},
   "outputs": [],
   "source": [
    "matching = pd.read_csv('data/paper-round-3/event-annotated/auto-sample-communities-matching.csv')\n",
    "\n",
    "matching.shape"
   ]
  },
  {
   "cell_type": "markdown",
   "metadata": {},
   "source": [
    "## Quality filter"
   ]
  },
  {
   "cell_type": "code",
   "execution_count": null,
   "metadata": {},
   "outputs": [],
   "source": [
    "length_mask = (stats['count'] >= 10)\n",
    "\n",
    "matching_mask = stats.index.isin(\n",
    "    matching['story_id_elite'].tolist() +\n",
    "    matching['story_id_radio'].tolist() +\n",
    "    matching.loc[matching['story_id_decahose'].notna(), 'story_id_decahose'].tolist()\n",
    ")\n",
    "\n",
    "mask = (\n",
    "    length_mask\n",
    "    & matching_mask\n",
    ")\n",
    "\n",
    "mask.sum(), stats.shape[0]"
   ]
  },
  {
   "cell_type": "markdown",
   "metadata": {},
   "source": [
    "# Descriptive stats"
   ]
  },
  {
   "cell_type": "code",
   "execution_count": null,
   "metadata": {},
   "outputs": [],
   "source": [
    "stats.groupby([mask, 'year', 'kind']).size()"
   ]
  },
  {
   "cell_type": "code",
   "execution_count": null,
   "metadata": {},
   "outputs": [],
   "source": [
    "stats.groupby([mask, 'year']).size()"
   ]
  },
  {
   "cell_type": "code",
   "execution_count": null,
   "metadata": {},
   "outputs": [],
   "source": [
    "stats.groupby([mask, 'kind']).size()"
   ]
  },
  {
   "cell_type": "code",
   "execution_count": null,
   "metadata": {},
   "outputs": [],
   "source": [
    "stats.groupby([mask, 'kind'])['count'].sum()"
   ]
  },
  {
   "cell_type": "code",
   "execution_count": null,
   "metadata": {},
   "outputs": [],
   "source": [
    "stats.groupby([mask, 'year', 'kind'])['count'].sum()"
   ]
  },
  {
   "cell_type": "code",
   "execution_count": null,
   "metadata": {},
   "outputs": [],
   "source": [
    "with pd.option_context('display.float_format', lambda x: '%.3f' % x):\n",
    "    display(stats.loc[mask].describe())"
   ]
  },
  {
   "cell_type": "code",
   "execution_count": null,
   "metadata": {
    "tags": []
   },
   "outputs": [],
   "source": [
    "with pd.option_context('display.float_format', lambda x: '%.3f' % x, 'display.max_rows', None):\n",
    "    display(stats.loc[mask].groupby('kind').describe().T)"
   ]
  },
  {
   "cell_type": "code",
   "execution_count": null,
   "metadata": {
    "tags": []
   },
   "outputs": [],
   "source": [
    "with pd.option_context('display.float_format', lambda x: '%.3f' % x, 'display.max_rows', None):\n",
    "    display(stats.loc[mask].groupby(['year', 'kind']).describe().T)"
   ]
  },
  {
   "cell_type": "code",
   "execution_count": null,
   "metadata": {},
   "outputs": [],
   "source": [
    "with pd.option_context('display.float_format', lambda x: '%.3f' % x, 'display.max_rows', None):\n",
    "    display(stats.loc[mask].groupby('kind').describe()[['avg', 'std']].T)"
   ]
  },
  {
   "cell_type": "code",
   "execution_count": null,
   "metadata": {},
   "outputs": [],
   "source": [
    "with pd.option_context('display.float_format', lambda x: '%.3f' % x, 'display.max_rows', None):\n",
    "    display(stats.loc[mask].groupby(['kind', 'year']).describe()[['avg', 'std']].T)"
   ]
  },
  {
   "cell_type": "code",
   "execution_count": null,
   "metadata": {},
   "outputs": [],
   "source": [
    "stats.loc[mask].groupby(['year', 'kind'])[['start', 'end', 'dur']].describe().T"
   ]
  },
  {
   "cell_type": "code",
   "execution_count": null,
   "metadata": {},
   "outputs": [],
   "source": [
    "stats.loc[mask, 'dur'].hist(bins=50)"
   ]
  },
  {
   "cell_type": "markdown",
   "metadata": {},
   "source": [
    "# Summary metrics based on relative time"
   ]
  },
  {
   "cell_type": "code",
   "execution_count": null,
   "metadata": {},
   "outputs": [],
   "source": [
    "tests = []\n",
    "for metric in ['avg', 'std']:\n",
    "    el = stats.reindex(matching['story_id_elite'])\n",
    "    rd = stats.reindex(matching['story_id_radio'])\n",
    "    dh = stats.reindex(matching['story_id_decahose'])\n",
    "\n",
    "    dhnc = dh.copy()\n",
    "    dhnc.loc[dhnc['decahose_covid_2020'].notna() & dhnc['decahose_covid_2020'], metric] = np.nan\n",
    "\n",
    "    el = el[metric].to_numpy()\n",
    "    rd = rd[metric].to_numpy()\n",
    "    dh = dh[metric].to_numpy()\n",
    "    dhnc = dhnc[metric].to_numpy()\n",
    "\n",
    "    # Elite vs radio\n",
    "    inc = ~np.isnan(el) & ~np.isnan(rd)\n",
    "    stat = ss.ttest_rel(el[inc], rd[inc])\n",
    "    tests += [{\n",
    "        'metric': metric,\n",
    "        'kind1': 'elite',\n",
    "        'kind2': 'radio',\n",
    "        'statistic': stat.statistic,\n",
    "        'pvalue': stat.pvalue,\n",
    "        'df': stat.df,\n",
    "    }]\n",
    "\n",
    "    # Elite vs decahose\n",
    "    inc = ~np.isnan(el) & ~np.isnan(dh)\n",
    "    stat = ss.ttest_rel(el[inc], dh[inc])\n",
    "    tests += [{\n",
    "        'metric': metric,\n",
    "        'kind1': 'elite',\n",
    "        'kind2': 'decahose',\n",
    "        'statistic': stat.statistic,\n",
    "        'pvalue': stat.pvalue,\n",
    "        'df': stat.df,\n",
    "    }]\n",
    "\n",
    "    # Decahose vs radio\n",
    "    inc = ~np.isnan(dh) & ~np.isnan(rd)\n",
    "    stat = ss.ttest_rel(dh[inc], rd[inc])\n",
    "    tests += [{\n",
    "        'metric': metric,\n",
    "        'kind1': 'decahose',\n",
    "        'kind2': 'radio',\n",
    "        'statistic': stat.statistic,\n",
    "        'pvalue': stat.pvalue,\n",
    "        'df': stat.df,\n",
    "    }]\n",
    "\n",
    "    # Elite vs decahose, excluding 2020 Covid stories\n",
    "    inc = ~np.isnan(el) & ~np.isnan(dhnc)\n",
    "    stat = ss.ttest_rel(el[inc], dhnc[inc])\n",
    "    tests += [{\n",
    "        'metric': metric,\n",
    "        'kind1': 'elite',\n",
    "        'kind2': 'decahose-no-2020-covid',\n",
    "        'statistic': stat.statistic,\n",
    "        'pvalue': stat.pvalue,\n",
    "        'df': stat.df,\n",
    "    }]\n",
    "\n",
    "    # Decahose vs radio, excluding 2020 Covid stories\n",
    "    inc = ~np.isnan(dhnc) & ~np.isnan(rd)\n",
    "    stat = ss.ttest_rel(dhnc[inc], rd[inc])\n",
    "    tests += [{\n",
    "        'metric': metric,\n",
    "        'kind1': 'decahose-no-2020-covid',\n",
    "        'kind2': 'radio',\n",
    "        'statistic': stat.statistic,\n",
    "        'pvalue': stat.pvalue,\n",
    "        'df': stat.df,\n",
    "    }]\n",
    "\n",
    "tests = pd.DataFrame(tests) \\\n",
    "    .sort_values(['kind1', 'kind2'], ascending=False) \\\n",
    "    [['kind1', 'kind2', 'metric', 'statistic', 'pvalue', 'df']] \\\n",
    "    .reset_index(drop=True)\n",
    "\n",
    "tests['id'] = tests['kind1'] + '-' + tests['kind2'] + '-' + tests['metric']\n",
    "tests.set_index('id', inplace=True)\n",
    "\n",
    "tests"
   ]
  },
  {
   "cell_type": "markdown",
   "metadata": {},
   "source": [
    "# Visualize reltime mean/SD"
   ]
  },
  {
   "cell_type": "markdown",
   "metadata": {},
   "source": [
    "## Elite vs radio"
   ]
  },
  {
   "cell_type": "code",
   "execution_count": null,
   "metadata": {},
   "outputs": [],
   "source": [
    "nbins = 7\n",
    "\n",
    "fig, axes = plt.subplots(1, 2, figsize=(10, 5), sharey=True)\n",
    "twins = [ax.twinx() for ax in axes]\n",
    "\n",
    "for twin in twins[1:]:\n",
    "    twins[0].get_shared_y_axes().join(twins[0], twin)\n",
    "twins[0].autoscale()\n",
    "for twin in twins[:-1]:\n",
    "    twin.yaxis.set_tick_params(labelright=False)\n",
    "\n",
    "sns.histplot(stats.loc[mask & (stats['kind'] == 'elite'), 'avg'], ax=axes[0], color=elite_color, alpha=0.3, label='Elite', kde=True, bins=nbins)\n",
    "sns.histplot(stats.loc[mask & (stats['kind'] == 'radio'), 'avg'], ax=twins[0], color=radio_color, alpha=0.3, label='Radio', kde=True, bins=nbins)\n",
    "\n",
    "sns.histplot(stats.loc[mask & (stats['kind'] == 'elite'), 'std'], ax=axes[1], color=elite_color, alpha=0.3, label='Elite', kde=True, bins=nbins)\n",
    "sns.histplot(stats.loc[mask & (stats['kind'] == 'radio'), 'std'], ax=twins[1], color=radio_color, alpha=0.3, label='Radio', kde=True, bins=nbins)\n",
    "\n",
    "def seconds_to_hours(x, pos):\n",
    "    return f'{x / 3600:.0f}h'\n",
    "fmt = mp.ticker.FuncFormatter(seconds_to_hours)\n",
    "\n",
    "axes[0].set_ylabel(None)\n",
    "twins[0].set_ylabel(None)\n",
    "axes[0].set_xlabel('Duration')\n",
    "axes[0].xaxis.set_tick_params(rotation=45)\n",
    "axes[0].xaxis.set_major_formatter(fmt)\n",
    "\n",
    "h1, l1 = axes[0].get_legend_handles_labels()\n",
    "h2, l2 = twins[0].get_legend_handles_labels()\n",
    "axes[0].legend(h1 + h2, l1 + l2, loc=0)\n",
    "\n",
    "axes[1].set_ylabel(None)\n",
    "twins[1].set_ylabel(None)\n",
    "axes[1].set_xlabel('Duration')\n",
    "axes[1].xaxis.set_tick_params(rotation=45)\n",
    "axes[1].xaxis.set_major_formatter(fmt)\n",
    "\n",
    "axes[0].set_ylabel('Count (Elite)', fontsize=11)\n",
    "twins[1].set_ylabel('Count (Radio)', fontsize=11, rotation=270, labelpad=15)\n",
    "\n",
    "h1, l1 = axes[1].get_legend_handles_labels()\n",
    "h2, l2 = twins[1].get_legend_handles_labels()\n",
    "axes[1].legend(h1 + h2, l1 + l2, loc=0)\n",
    "\n",
    "props = dict(boxstyle='round', facecolor='wheat', alpha=0.5)\n",
    "\n",
    "textstr = '\\n'.join((\n",
    "    r'$H_0: \\rm{\\bar{E}} = \\rm{\\bar{R}}$',\n",
    "    r'$t=%.2f$' % (tests.loc['elite-radio-avg', 'statistic'], ),\n",
    "    r'$p \\sim %.3f$' % (tests.loc['elite-radio-avg', 'pvalue'], ),\n",
    "))\n",
    "axes[0].text(0.77, 0.7, textstr, transform=axes[0].transAxes, fontsize=12,\n",
    "             verticalalignment='top', bbox=props)\n",
    "\n",
    "textstr = '\\n'.join((\n",
    "    r'$H_0: \\rm{\\bar{E}} = \\rm{\\bar{R}}$',\n",
    "    r'$t=%.2f$' % (tests.loc['elite-radio-std', 'statistic'], ),\n",
    "    r'$p \\sim %.3f$' % (tests.loc['elite-radio-std', 'pvalue'], ),\n",
    "))\n",
    "axes[1].text(0.77, 0.7, textstr, transform=axes[1].transAxes, fontsize=12,\n",
    "             verticalalignment='top', bbox=props)\n",
    "\n",
    "axes[0].set_title('Mean Story-Level Relative Time')\n",
    "axes[1].set_title('SD Story-Level Relative Time')\n",
    "\n",
    "fig.tight_layout()"
   ]
  },
  {
   "cell_type": "markdown",
   "metadata": {},
   "source": [
    "## Decahose vs radio"
   ]
  },
  {
   "cell_type": "code",
   "execution_count": null,
   "metadata": {},
   "outputs": [],
   "source": [
    "nbins = 7\n",
    "\n",
    "fig, axes = plt.subplots(1, 2, figsize=(10, 5))\n",
    "twins = [ax.twinx() for ax in axes]\n",
    "\n",
    "sns.histplot(stats.loc[mask & (stats['kind'] == 'decahose'), 'avg'], ax=axes[0], color=decahose_color, alpha=0.3, label='Decahose', kde=True, bins=nbins)\n",
    "sns.histplot(stats.loc[mask & (stats['kind'] == 'radio'), 'avg'], ax=twins[0], color=radio_color, alpha=0.3, label='Radio', kde=True, bins=nbins)\n",
    "\n",
    "sns.histplot(stats.loc[mask & (stats['kind'] == 'decahose'), 'std'], ax=axes[1], color=decahose_color, alpha=0.3, label='Decahose', kde=True, bins=nbins)\n",
    "sns.histplot(stats.loc[mask & (stats['kind'] == 'radio'), 'std'], ax=twins[1], color=radio_color, alpha=0.3, label='Radio', kde=True, bins=nbins)\n",
    "\n",
    "def seconds_to_hours(x, pos):\n",
    "    return f'{x / 3600:.0f}h'\n",
    "fmt = mp.ticker.FuncFormatter(seconds_to_hours)\n",
    "\n",
    "twins[0].set_ylabel(None)\n",
    "axes[0].set_xlabel('Mean Within-Story Time')\n",
    "axes[0].xaxis.set_tick_params(rotation=45)\n",
    "axes[0].xaxis.set_major_formatter(fmt)\n",
    "\n",
    "h1, l1 = axes[0].get_legend_handles_labels()\n",
    "h2, l2 = twins[0].get_legend_handles_labels()\n",
    "axes[0].legend(h1 + h2, l1 + l2, loc=0)\n",
    "\n",
    "twins[1].set_ylabel(None)\n",
    "axes[1].set_xlabel('SD of Within-Story Time')\n",
    "axes[1].xaxis.set_tick_params(rotation=45)\n",
    "axes[1].xaxis.set_major_formatter(fmt)\n",
    "\n",
    "h1, l1 = axes[1].get_legend_handles_labels()\n",
    "h2, l2 = twins[1].get_legend_handles_labels()\n",
    "axes[1].legend(h1 + h2, l1 + l2, loc=0)\n",
    "\n",
    "props = dict(boxstyle='round', facecolor='wheat', alpha=0.5)\n",
    "\n",
    "textstr = '\\n'.join((\n",
    "    r'$H_0: \\rm{\\bar{D}} = \\rm{\\bar{R}}$',\n",
    "    r'$t=%.2f$' % (tests.loc['decahose-radio-avg', 'statistic'], ),\n",
    "    r'$p \\sim %.3f$' % (tests.loc['decahose-radio-avg', 'pvalue'], ),\n",
    "))\n",
    "axes[0].text(0.65, 0.65, textstr, transform=axes[0].transAxes, fontsize=12,\n",
    "             verticalalignment='top', bbox=props)\n",
    "\n",
    "textstr = '\\n'.join((\n",
    "    r'$H_0: \\rm{\\bar{D}} = \\rm{\\bar{R}}$',\n",
    "    r'$t=%.2f$' % (tests.loc['decahose-radio-std', 'statistic'], ),\n",
    "    r'$p \\sim %.3f$' % (tests.loc['decahose-radio-std', 'pvalue'], ),\n",
    "))\n",
    "axes[1].text(0.65, 0.65, textstr, transform=axes[1].transAxes, fontsize=12,\n",
    "             verticalalignment='top', bbox=props)\n",
    "\n",
    "fig.tight_layout()"
   ]
  },
  {
   "cell_type": "markdown",
   "metadata": {},
   "source": [
    "## Decahose vs radio, excluding Covid 2020"
   ]
  },
  {
   "cell_type": "code",
   "execution_count": null,
   "metadata": {},
   "outputs": [],
   "source": [
    "nbins = 6\n",
    "\n",
    "fig, axes = plt.subplots(1, 2, figsize=(10, 5), sharey=True)\n",
    "twins = [ax.twinx() for ax in axes]\n",
    "\n",
    "for twin in twins[1:]:\n",
    "    twins[0].get_shared_y_axes().join(twins[0], twin)\n",
    "twins[0].autoscale()\n",
    "for twin in twins[:-1]:\n",
    "    twin.yaxis.set_tick_params(labelright=False)\n",
    "\n",
    "sns.histplot(stats.loc[mask & (stats['kind'] == 'decahose') & ~stats['decahose_covid_2020'], 'avg'], ax=axes[0], color=decahose2_color, alpha=0.3, label='Firehose', kde=True, bins=nbins)\n",
    "sns.histplot(stats.loc[mask & (stats['kind'] == 'radio'), 'avg'], ax=twins[0], color=radio_color, alpha=0.3, label='Radio', kde=True, bins=nbins)\n",
    "\n",
    "sns.histplot(stats.loc[mask & (stats['kind'] == 'decahose') & ~stats['decahose_covid_2020'], 'std'], ax=axes[1], color=decahose2_color, alpha=0.3, label='Firehose', kde=True, bins=nbins)\n",
    "sns.histplot(stats.loc[mask & (stats['kind'] == 'radio'), 'std'], ax=twins[1], color=radio_color, alpha=0.3, label='Radio', kde=True, bins=nbins)\n",
    "\n",
    "def seconds_to_hours(x, pos):\n",
    "    return f'{x / 3600:.0f}h'\n",
    "fmt = mp.ticker.FuncFormatter(seconds_to_hours)\n",
    "\n",
    "axes[0].set_ylabel(None)\n",
    "twins[0].set_ylabel(None)\n",
    "axes[0].set_xlabel('Duration')\n",
    "axes[0].xaxis.set_tick_params(rotation=45)\n",
    "axes[0].xaxis.set_major_formatter(fmt)\n",
    "\n",
    "h1, l1 = axes[0].get_legend_handles_labels()\n",
    "h2, l2 = twins[0].get_legend_handles_labels()\n",
    "axes[0].legend(h1 + h2, l1 + l2, loc=0)\n",
    "\n",
    "axes[1].set_ylabel(None)\n",
    "twins[1].set_ylabel(None)\n",
    "axes[1].set_xlabel('Duration')\n",
    "axes[1].xaxis.set_tick_params(rotation=45)\n",
    "axes[1].xaxis.set_major_formatter(fmt)\n",
    "\n",
    "axes[0].set_ylabel('Count (Firehose)', fontsize=11)\n",
    "twins[1].set_ylabel('Count (Radio)', fontsize=11, rotation=270, labelpad=15)\n",
    "\n",
    "h1, l1 = axes[1].get_legend_handles_labels()\n",
    "h2, l2 = twins[1].get_legend_handles_labels()\n",
    "axes[1].legend(h1 + h2, l1 + l2, loc=0)\n",
    "\n",
    "props = dict(boxstyle='round', facecolor='wheat', alpha=0.5)\n",
    "\n",
    "textstr = '\\n'.join((\n",
    "    r'$H_0: \\rm{\\bar{D}} = \\rm{\\bar{R}}$',\n",
    "    r'$t=%.2f$' % (tests.loc['decahose-no-2020-covid-radio-avg', 'statistic'], ),\n",
    "    r'$p \\sim %.3f$' % (tests.loc['decahose-no-2020-covid-radio-avg', 'pvalue'], ),\n",
    "))\n",
    "axes[0].text(0.77, 0.7, textstr, transform=axes[0].transAxes, fontsize=12,\n",
    "             verticalalignment='top', bbox=props)\n",
    "\n",
    "textstr = '\\n'.join((\n",
    "    r'$H_0: \\rm{\\bar{D}} = \\rm{\\bar{R}}$',\n",
    "    r'$t=%.2f$' % (tests.loc['decahose-no-2020-covid-radio-std', 'statistic'], ),\n",
    "    r'$p \\sim %.3f$' % (tests.loc['decahose-no-2020-covid-radio-std', 'pvalue'], ),\n",
    "))\n",
    "axes[1].text(0.77, 0.7, textstr, transform=axes[1].transAxes, fontsize=12,\n",
    "             verticalalignment='top', bbox=props)\n",
    "\n",
    "axes[0].set_title('Mean Story-Level Relative Time')\n",
    "axes[1].set_title('SD Story-Level Relative Time')\n",
    "\n",
    "fig.tight_layout()"
   ]
  },
  {
   "cell_type": "markdown",
   "metadata": {},
   "source": [
    "# Vincentized ecdf / epdf\n",
    "\n",
    "We get the epdf from the cdf via differentials (`np.gradient`)."
   ]
  },
  {
   "cell_type": "code",
   "execution_count": null,
   "metadata": {},
   "outputs": [],
   "source": [
    "# as in the 5a notebook that calculated these\n",
    "cdf_query_end = 7 * 24 * 3600\n",
    "cdf_query_inc = 60  # one minute; afterward we can sample to a higher frequency if desired\n",
    "\n",
    "cdf_ovrl = pd.DataFrame([\n",
    "    cdf_vals[mask & (stats['kind'] == 'elite'), ...].mean(axis=0),\n",
    "    cdf_vals[mask & (stats['kind'] == 'decahose'), ...].mean(axis=0),\n",
    "    cdf_vals[mask & (stats['kind'] == 'decahose') & ~stats['decahose_covid_2020'], ...].mean(axis=0),\n",
    "    cdf_vals[mask & (stats['kind'] == 'radio'), ...].mean(axis=0),\n",
    "], index=['elite', 'decahose', 'decahose-no-covid-2020', 'radio']).T\n",
    "cdf_ovrl.index = (cdf_ovrl.index.to_series() * cdf_query_inc)\n",
    "pdf_ovrl = cdf_ovrl.copy()\n",
    "pdf_ovrl['elite'] = np.gradient(pdf_ovrl['elite'])\n",
    "pdf_ovrl['decahose'] = np.gradient(pdf_ovrl['decahose'])\n",
    "pdf_ovrl['decahose-no-covid-2020'] = np.gradient(pdf_ovrl['decahose-no-covid-2020'])\n",
    "pdf_ovrl['radio'] = np.gradient(pdf_ovrl['radio'])\n",
    "\n",
    "cdf_ovrl.rename({'elite': 'Elite', 'radio': 'Radio', 'decahose': 'Firehose', 'decahose-no-covid-2020': 'Firehose ex. Covid'}, axis=1, inplace=True)\n",
    "pdf_ovrl.rename({'elite': 'Elite', 'radio': 'Radio', 'decahose': 'Firehose', 'decahose-no-covid-2020': 'Firehose ex. Covid'}, axis=1, inplace=True)"
   ]
  },
  {
   "cell_type": "markdown",
   "metadata": {},
   "source": [
    "## 48 hours"
   ]
  },
  {
   "cell_type": "code",
   "execution_count": null,
   "metadata": {},
   "outputs": [],
   "source": [
    "fig, axes = plt.subplots(1, 2, figsize=(10, 5), sharex=True)\n",
    "\n",
    "# in units of cdf_query_inc\n",
    "plot_max = 48 * 60\n",
    "plot_interval = 15\n",
    "\n",
    "cdf_ovrl.iloc[0:plot_max:plot_interval]['Elite'].plot(ax=axes[0], color=elite_color)\n",
    "pdf_ovrl.iloc[0:plot_max:plot_interval]['Elite'].plot(ax=axes[1], color=elite_color)\n",
    "\n",
    "cdf_ovrl.iloc[0:plot_max:plot_interval]['Radio'].plot(ax=axes[0], color=radio_color)\n",
    "pdf_ovrl.iloc[0:plot_max:plot_interval]['Radio'].plot(ax=axes[1], color=radio_color)\n",
    "\n",
    "cdf_ovrl.iloc[0:plot_max:plot_interval]['Firehose'].plot(ax=axes[0], color=decahose_color)\n",
    "pdf_ovrl.iloc[0:plot_max:plot_interval]['Firehose'].plot(ax=axes[1], color=decahose_color)\n",
    "\n",
    "cdf_ovrl.iloc[0:plot_max:plot_interval]['Firehose ex. Covid'].plot(ax=axes[0], color=decahose2_color)\n",
    "pdf_ovrl.iloc[0:plot_max:plot_interval]['Firehose ex. Covid'].plot(ax=axes[1], color=decahose2_color)\n",
    "\n",
    "axes[0].set_title('Pooled Empirical CDF')\n",
    "axes[1].set_title('Pooled Empirical PDF')\n",
    "\n",
    "axes[0].set_xlabel('Time')\n",
    "axes[1].set_xlabel('Time')\n",
    "\n",
    "axes[0].set_ylabel('Proportion')\n",
    "axes[1].set_ylabel('Density')\n",
    "\n",
    "axes[0].set_ylim(0, 1)\n",
    "\n",
    "def seconds_to_hours(x, pos):\n",
    "    return f'{x / 3600:.0f}h'\n",
    "fmt = mp.ticker.FuncFormatter(seconds_to_hours)\n",
    "axes[0].xaxis.set_major_formatter(fmt)\n",
    "\n",
    "fig.tight_layout()\n",
    "\n",
    "print(f'Based on {mask.sum()} event(s)')"
   ]
  },
  {
   "cell_type": "code",
   "execution_count": null,
   "metadata": {},
   "outputs": [],
   "source": [
    "names = {'elite': 'Elite', 'radio': 'Radio', 'decahose': 'Firehose', 'decahose-no-covid-2020': 'Firehose ex. Covid'}\n",
    "names = {v: k for k, v in names.items()}\n",
    "\n",
    "cdf_ovrl.rename(names, axis=1, inplace=True)\n",
    "pdf_ovrl.rename(names, axis=1, inplace=True)"
   ]
  },
  {
   "cell_type": "markdown",
   "metadata": {},
   "source": [
    "## Bootstrap test"
   ]
  },
  {
   "cell_type": "code",
   "execution_count": null,
   "metadata": {},
   "outputs": [],
   "source": [
    "n_sims = 10000\n",
    "\n",
    "test_max = 2880\n",
    "test_interval = 15"
   ]
  },
  {
   "cell_type": "code",
   "execution_count": null,
   "metadata": {},
   "outputs": [],
   "source": [
    "rng = np.random.default_rng(seed=seed)"
   ]
  },
  {
   "cell_type": "markdown",
   "metadata": {},
   "source": [
    "### Resampling"
   ]
  },
  {
   "cell_type": "code",
   "execution_count": null,
   "metadata": {},
   "outputs": [],
   "source": [
    "samples, actuals = {}, {}\n",
    "samp_masks = {}\n",
    "\n",
    "for kind in stats['kind'].unique():\n",
    "    samp_masks[kind] = mask & (stats['kind'] == kind)\n",
    "samp_masks['decahose-no-covid-2020'] = mask & (stats['kind'] == 'decahose') & ~stats['decahose_covid_2020']\n",
    "\n",
    "for kind in tqdm(samp_masks.keys()):\n",
    "    samp_mask = samp_masks[kind]\n",
    "    samp_cdf_vals = cdf_vals[samp_mask, :][:, :test_max:test_interval]\n",
    "    actuals[kind] = cdf_vals[samp_mask, ...][:, :test_max:test_interval].mean(axis=0)\n",
    "\n",
    "    tmp_samples = []\n",
    "    for i in trange(n_sims):\n",
    "        perm = rng.choice(samp_cdf_vals.shape[0], samp_cdf_vals.shape[0], replace=True)\n",
    "        tmp_samples += [pd.Series(samp_cdf_vals[perm, ...].mean(axis=0)).rename('s' + str(i))]\n",
    "\n",
    "    tmp_samples = pd.DataFrame(tmp_samples)\n",
    "    tmp_samples.index = ['s' + str(i) for i in range(n_sims)]\n",
    "    tmp_samples.columns = (tmp_samples.columns.to_series() * cdf_query_inc * test_interval)\n",
    "    tmp_samples = tmp_samples.T\n",
    "    \n",
    "    samples[kind] = tmp_samples"
   ]
  },
  {
   "cell_type": "code",
   "execution_count": null,
   "metadata": {},
   "outputs": [],
   "source": [
    "# sanity check - should all be tightly clustered around 0\n",
    "with pd.option_context('display.float_format', lambda x: '%.7f' % x, 'display.max_rows', None):\n",
    "    display(pd.concat([\n",
    "        (samples[kind].mean(axis=1) - actuals[kind]).describe().rename(kind)\n",
    "        for kind in samples.keys()\n",
    "    ], axis=1))"
   ]
  },
  {
   "cell_type": "markdown",
   "metadata": {},
   "source": [
    "### Test results"
   ]
  },
  {
   "cell_type": "code",
   "execution_count": null,
   "metadata": {},
   "outputs": [],
   "source": [
    "(actuals['elite'] >= actuals['radio'])"
   ]
  },
  {
   "cell_type": "code",
   "execution_count": null,
   "metadata": {},
   "outputs": [],
   "source": [
    "(actuals['elite'] >= actuals['decahose-no-covid-2020'])"
   ]
  },
  {
   "cell_type": "code",
   "execution_count": null,
   "metadata": {},
   "outputs": [],
   "source": [
    "(actuals['decahose-no-covid-2020'] >= actuals['radio'])"
   ]
  },
  {
   "cell_type": "code",
   "execution_count": null,
   "metadata": {},
   "outputs": [],
   "source": [
    "comp = (samples['elite'] > actuals['radio'][:, None]).mean(axis=1)\n",
    "pvals = comp.apply(lambda pval: 2 * min(pval, 1 - pval))\n",
    "\n",
    "pvals.describe()"
   ]
  },
  {
   "cell_type": "code",
   "execution_count": null,
   "metadata": {},
   "outputs": [],
   "source": [
    "pvals.plot()"
   ]
  },
  {
   "cell_type": "code",
   "execution_count": null,
   "metadata": {},
   "outputs": [],
   "source": [
    "comp = (samples['elite'] > actuals['decahose'][:, None]).mean(axis=1)\n",
    "pvals = comp.apply(lambda pval: 2 * min(pval, 1 - pval))\n",
    "\n",
    "pvals.describe()"
   ]
  },
  {
   "cell_type": "code",
   "execution_count": null,
   "metadata": {},
   "outputs": [],
   "source": [
    "pvals.plot()"
   ]
  },
  {
   "cell_type": "code",
   "execution_count": null,
   "metadata": {},
   "outputs": [],
   "source": [
    "comp = (samples['elite'] > actuals['decahose-no-covid-2020'][:, None]).mean(axis=1)\n",
    "pvals = comp.apply(lambda pval: 2 * min(pval, 1 - pval))\n",
    "\n",
    "pvals.describe()"
   ]
  },
  {
   "cell_type": "code",
   "execution_count": null,
   "metadata": {},
   "outputs": [],
   "source": [
    "pvals.plot()"
   ]
  },
  {
   "cell_type": "code",
   "execution_count": null,
   "metadata": {},
   "outputs": [],
   "source": [
    "comp = (samples['decahose'] > actuals['radio'][:, None]).mean(axis=1)\n",
    "pvals = comp.apply(lambda pval: 2 * min(pval, 1 - pval))\n",
    "\n",
    "pvals.describe()"
   ]
  },
  {
   "cell_type": "code",
   "execution_count": null,
   "metadata": {},
   "outputs": [],
   "source": [
    "pvals.plot()"
   ]
  },
  {
   "cell_type": "code",
   "execution_count": null,
   "metadata": {},
   "outputs": [],
   "source": [
    "comp = (samples['decahose-no-covid-2020'] > actuals['radio'][:, None]).mean(axis=1)\n",
    "pvals = comp.apply(lambda pval: 2 * min(pval, 1 - pval))\n",
    "\n",
    "pvals.describe()"
   ]
  },
  {
   "cell_type": "code",
   "execution_count": null,
   "metadata": {},
   "outputs": [],
   "source": [
    "pvals.plot()"
   ]
  },
  {
   "cell_type": "code",
   "execution_count": null,
   "metadata": {},
   "outputs": [],
   "source": []
  }
 ],
 "metadata": {
  "kernelspec": {
   "display_name": "DL",
   "language": "python",
   "name": "dl"
  },
  "language_info": {
   "codemirror_mode": {
    "name": "ipython",
    "version": 3
   },
   "file_extension": ".py",
   "mimetype": "text/x-python",
   "name": "python",
   "nbconvert_exporter": "python",
   "pygments_lexer": "ipython3",
   "version": "3.10.10"
  },
  "widgets": {
   "application/vnd.jupyter.widget-state+json": {
    "state": {
     "0353e7b56c534f5982a0074169f36cdc": {
      "model_module": "@jupyter-widgets/controls",
      "model_module_version": "2.0.0",
      "model_name": "HTMLModel",
      "state": {
       "layout": "IPY_MODEL_6723b80225d54565940237aac47977e3",
       "style": "IPY_MODEL_b3b58057962c43a88ee9a7644278bbe4",
       "value": " 10000/10000 [00:02&lt;00:00, 4654.21it/s]"
      }
     },
     "0966d17e8d9a45fba0d5fbf9cff01da9": {
      "model_module": "@jupyter-widgets/controls",
      "model_module_version": "2.0.0",
      "model_name": "HBoxModel",
      "state": {
       "children": [
        "IPY_MODEL_3ee29748b79442f3a534a41f47110ad9",
        "IPY_MODEL_40af918412ba4336926a9ffc3586490f",
        "IPY_MODEL_11b23f8edfa04bf38f8152a4c901007f"
       ],
       "layout": "IPY_MODEL_b3310c2126814dcdab8c54033ac52ee3"
      }
     },
     "0ce3ccadaf2a475b9c6c10cbb4dfb108": {
      "model_module": "@jupyter-widgets/base",
      "model_module_version": "2.0.0",
      "model_name": "LayoutModel",
      "state": {}
     },
     "0d573debeba445fb82f04b892c7fde05": {
      "model_module": "@jupyter-widgets/controls",
      "model_module_version": "2.0.0",
      "model_name": "HBoxModel",
      "state": {
       "children": [
        "IPY_MODEL_43a3cfcf105c4c4a9db688c0dc725ed4",
        "IPY_MODEL_9e8c1ec3aec74245a08fa104233fd6b4",
        "IPY_MODEL_51c1fe62904d495d86a7ed8213dc3f25"
       ],
       "layout": "IPY_MODEL_0ce3ccadaf2a475b9c6c10cbb4dfb108"
      }
     },
     "11b23f8edfa04bf38f8152a4c901007f": {
      "model_module": "@jupyter-widgets/controls",
      "model_module_version": "2.0.0",
      "model_name": "HTMLModel",
      "state": {
       "layout": "IPY_MODEL_a32b6212617e4e09abf69de222e7e327",
       "style": "IPY_MODEL_30e9e6759f90420ab526a678ebfca680",
       "value": " 10000/10000 [00:02&lt;00:00, 5027.95it/s]"
      }
     },
     "145e975578ce4e37872804822c7f5ddc": {
      "model_module": "@jupyter-widgets/controls",
      "model_module_version": "2.0.0",
      "model_name": "HTMLModel",
      "state": {
       "layout": "IPY_MODEL_46e92b06ec4040438ee8191546d834da",
       "style": "IPY_MODEL_f999a16291e14d0e9bbcaf332a82b4be",
       "value": "100%"
      }
     },
     "15d70a949db249feae99c31241192874": {
      "model_module": "@jupyter-widgets/base",
      "model_module_version": "2.0.0",
      "model_name": "LayoutModel",
      "state": {}
     },
     "193c17c547754c58aa53bfbc8a9dcfdd": {
      "model_module": "@jupyter-widgets/base",
      "model_module_version": "2.0.0",
      "model_name": "LayoutModel",
      "state": {}
     },
     "1fe0133810534fdd94c2d0aaad7554c0": {
      "model_module": "@jupyter-widgets/controls",
      "model_module_version": "2.0.0",
      "model_name": "HBoxModel",
      "state": {
       "children": [
        "IPY_MODEL_145e975578ce4e37872804822c7f5ddc",
        "IPY_MODEL_ec82c4d380b14890b2c30caecd591a2e",
        "IPY_MODEL_7760dc90b79d4bc987e3a5444c23adc9"
       ],
       "layout": "IPY_MODEL_9efd831ee1364a849ded5d933df95cd1"
      }
     },
     "210fe6391c63400cad919f6fe28ceebc": {
      "model_module": "@jupyter-widgets/base",
      "model_module_version": "2.0.0",
      "model_name": "LayoutModel",
      "state": {}
     },
     "2c91248937314f37a6f26f2f46e54f77": {
      "model_module": "@jupyter-widgets/controls",
      "model_module_version": "2.0.0",
      "model_name": "HTMLStyleModel",
      "state": {
       "description_width": "",
       "font_size": null,
       "text_color": null
      }
     },
     "30e9e6759f90420ab526a678ebfca680": {
      "model_module": "@jupyter-widgets/controls",
      "model_module_version": "2.0.0",
      "model_name": "HTMLStyleModel",
      "state": {
       "description_width": "",
       "font_size": null,
       "text_color": null
      }
     },
     "31de3cb3dad946778a634510bd96f2e6": {
      "model_module": "@jupyter-widgets/controls",
      "model_module_version": "2.0.0",
      "model_name": "HTMLStyleModel",
      "state": {
       "description_width": "",
       "font_size": null,
       "text_color": null
      }
     },
     "343369a7d93f420c838fd67119e497a9": {
      "model_module": "@jupyter-widgets/base",
      "model_module_version": "2.0.0",
      "model_name": "LayoutModel",
      "state": {}
     },
     "379a1af3c1b24a5dba0f6972af53475d": {
      "model_module": "@jupyter-widgets/base",
      "model_module_version": "2.0.0",
      "model_name": "LayoutModel",
      "state": {}
     },
     "39a99ee9a9554e4eac6b31e1fb735d44": {
      "model_module": "@jupyter-widgets/controls",
      "model_module_version": "2.0.0",
      "model_name": "FloatProgressModel",
      "state": {
       "bar_style": "success",
       "layout": "IPY_MODEL_559da52ecde04de6891df719495b7c65",
       "max": 4,
       "style": "IPY_MODEL_6b377a171bf94d0f88b878f2fad629a0",
       "value": 4
      }
     },
     "3d9ed7cf84e345118d69156d63577ae5": {
      "model_module": "@jupyter-widgets/controls",
      "model_module_version": "2.0.0",
      "model_name": "HTMLStyleModel",
      "state": {
       "description_width": "",
       "font_size": null,
       "text_color": null
      }
     },
     "3ee29748b79442f3a534a41f47110ad9": {
      "model_module": "@jupyter-widgets/controls",
      "model_module_version": "2.0.0",
      "model_name": "HTMLModel",
      "state": {
       "layout": "IPY_MODEL_ad993f3b916047edbb8cde867c7a354d",
       "style": "IPY_MODEL_dc50644a36d64a6e8b1a7371121dd030",
       "value": "100%"
      }
     },
     "40af918412ba4336926a9ffc3586490f": {
      "model_module": "@jupyter-widgets/controls",
      "model_module_version": "2.0.0",
      "model_name": "FloatProgressModel",
      "state": {
       "bar_style": "success",
       "layout": "IPY_MODEL_69fec1d9487844ea8330d2d2874c852d",
       "max": 10000,
       "style": "IPY_MODEL_8b695855bded4319a5ea27e5d2b6f55b",
       "value": 10000
      }
     },
     "42146bce3adc4999bcbd23def225307e": {
      "model_module": "@jupyter-widgets/base",
      "model_module_version": "2.0.0",
      "model_name": "LayoutModel",
      "state": {}
     },
     "43a3cfcf105c4c4a9db688c0dc725ed4": {
      "model_module": "@jupyter-widgets/controls",
      "model_module_version": "2.0.0",
      "model_name": "HTMLModel",
      "state": {
       "layout": "IPY_MODEL_47c20d1fdb35481599625b6d73462891",
       "style": "IPY_MODEL_2c91248937314f37a6f26f2f46e54f77",
       "value": "100%"
      }
     },
     "442a138ce49f49b48683c5936f1c51b3": {
      "model_module": "@jupyter-widgets/controls",
      "model_module_version": "2.0.0",
      "model_name": "HTMLModel",
      "state": {
       "layout": "IPY_MODEL_210fe6391c63400cad919f6fe28ceebc",
       "style": "IPY_MODEL_3d9ed7cf84e345118d69156d63577ae5",
       "value": " 4/4 [00:11&lt;00:00,  2.79s/it]"
      }
     },
     "46e92b06ec4040438ee8191546d834da": {
      "model_module": "@jupyter-widgets/base",
      "model_module_version": "2.0.0",
      "model_name": "LayoutModel",
      "state": {}
     },
     "47c20d1fdb35481599625b6d73462891": {
      "model_module": "@jupyter-widgets/base",
      "model_module_version": "2.0.0",
      "model_name": "LayoutModel",
      "state": {}
     },
     "5115d55ee63e4ad5ad4a0f686afb3191": {
      "model_module": "@jupyter-widgets/controls",
      "model_module_version": "2.0.0",
      "model_name": "FloatProgressModel",
      "state": {
       "bar_style": "success",
       "layout": "IPY_MODEL_379a1af3c1b24a5dba0f6972af53475d",
       "max": 10000,
       "style": "IPY_MODEL_ed054afbd29741dba62f9aa34169a0c8",
       "value": 10000
      }
     },
     "51c1fe62904d495d86a7ed8213dc3f25": {
      "model_module": "@jupyter-widgets/controls",
      "model_module_version": "2.0.0",
      "model_name": "HTMLModel",
      "state": {
       "layout": "IPY_MODEL_ba9df2d2c63e42ca99c7ec7c4c6c2e17",
       "style": "IPY_MODEL_850d2a076f8141939e0c5ee58b6fb47c",
       "value": " 10000/10000 [00:02&lt;00:00, 4007.33it/s]"
      }
     },
     "558ace295fa94c9a923c91ac1030d347": {
      "model_module": "@jupyter-widgets/controls",
      "model_module_version": "2.0.0",
      "model_name": "HBoxModel",
      "state": {
       "children": [
        "IPY_MODEL_d85ffef7abd048339d45b2ec0b8d7af7",
        "IPY_MODEL_39a99ee9a9554e4eac6b31e1fb735d44",
        "IPY_MODEL_442a138ce49f49b48683c5936f1c51b3"
       ],
       "layout": "IPY_MODEL_193c17c547754c58aa53bfbc8a9dcfdd"
      }
     },
     "559da52ecde04de6891df719495b7c65": {
      "model_module": "@jupyter-widgets/base",
      "model_module_version": "2.0.0",
      "model_name": "LayoutModel",
      "state": {}
     },
     "6723b80225d54565940237aac47977e3": {
      "model_module": "@jupyter-widgets/base",
      "model_module_version": "2.0.0",
      "model_name": "LayoutModel",
      "state": {}
     },
     "69fec1d9487844ea8330d2d2874c852d": {
      "model_module": "@jupyter-widgets/base",
      "model_module_version": "2.0.0",
      "model_name": "LayoutModel",
      "state": {}
     },
     "6b377a171bf94d0f88b878f2fad629a0": {
      "model_module": "@jupyter-widgets/controls",
      "model_module_version": "2.0.0",
      "model_name": "ProgressStyleModel",
      "state": {
       "description_width": ""
      }
     },
     "7760dc90b79d4bc987e3a5444c23adc9": {
      "model_module": "@jupyter-widgets/controls",
      "model_module_version": "2.0.0",
      "model_name": "HTMLModel",
      "state": {
       "layout": "IPY_MODEL_da7aff3639d841959b2d0527632a8356",
       "style": "IPY_MODEL_ca37a28877fe48bf905fbfec48b3fa63",
       "value": " 10000/10000 [00:02&lt;00:00, 4961.42it/s]"
      }
     },
     "7c26f82944bd49c3b0005e5845edc566": {
      "model_module": "@jupyter-widgets/controls",
      "model_module_version": "2.0.0",
      "model_name": "HTMLModel",
      "state": {
       "layout": "IPY_MODEL_97fad4b023744bd3bfea70d5cacb1e3e",
       "style": "IPY_MODEL_ac317047132e4c82971ae09b00aa80da",
       "value": "100%"
      }
     },
     "850d2a076f8141939e0c5ee58b6fb47c": {
      "model_module": "@jupyter-widgets/controls",
      "model_module_version": "2.0.0",
      "model_name": "HTMLStyleModel",
      "state": {
       "description_width": "",
       "font_size": null,
       "text_color": null
      }
     },
     "8b695855bded4319a5ea27e5d2b6f55b": {
      "model_module": "@jupyter-widgets/controls",
      "model_module_version": "2.0.0",
      "model_name": "ProgressStyleModel",
      "state": {
       "description_width": ""
      }
     },
     "97fad4b023744bd3bfea70d5cacb1e3e": {
      "model_module": "@jupyter-widgets/base",
      "model_module_version": "2.0.0",
      "model_name": "LayoutModel",
      "state": {}
     },
     "98fa32a6755a4220805045fce15f3b76": {
      "model_module": "@jupyter-widgets/controls",
      "model_module_version": "2.0.0",
      "model_name": "ProgressStyleModel",
      "state": {
       "description_width": ""
      }
     },
     "9e8c1ec3aec74245a08fa104233fd6b4": {
      "model_module": "@jupyter-widgets/controls",
      "model_module_version": "2.0.0",
      "model_name": "FloatProgressModel",
      "state": {
       "bar_style": "success",
       "layout": "IPY_MODEL_d6d211d552234d8f86bc264acb835b12",
       "max": 10000,
       "style": "IPY_MODEL_98fa32a6755a4220805045fce15f3b76",
       "value": 10000
      }
     },
     "9efd831ee1364a849ded5d933df95cd1": {
      "model_module": "@jupyter-widgets/base",
      "model_module_version": "2.0.0",
      "model_name": "LayoutModel",
      "state": {}
     },
     "a32b6212617e4e09abf69de222e7e327": {
      "model_module": "@jupyter-widgets/base",
      "model_module_version": "2.0.0",
      "model_name": "LayoutModel",
      "state": {}
     },
     "ac317047132e4c82971ae09b00aa80da": {
      "model_module": "@jupyter-widgets/controls",
      "model_module_version": "2.0.0",
      "model_name": "HTMLStyleModel",
      "state": {
       "description_width": "",
       "font_size": null,
       "text_color": null
      }
     },
     "ad993f3b916047edbb8cde867c7a354d": {
      "model_module": "@jupyter-widgets/base",
      "model_module_version": "2.0.0",
      "model_name": "LayoutModel",
      "state": {}
     },
     "b3310c2126814dcdab8c54033ac52ee3": {
      "model_module": "@jupyter-widgets/base",
      "model_module_version": "2.0.0",
      "model_name": "LayoutModel",
      "state": {}
     },
     "b3b58057962c43a88ee9a7644278bbe4": {
      "model_module": "@jupyter-widgets/controls",
      "model_module_version": "2.0.0",
      "model_name": "HTMLStyleModel",
      "state": {
       "description_width": "",
       "font_size": null,
       "text_color": null
      }
     },
     "b3ee0ea573854a7c8c687c008ae970ac": {
      "model_module": "@jupyter-widgets/controls",
      "model_module_version": "2.0.0",
      "model_name": "ProgressStyleModel",
      "state": {
       "description_width": ""
      }
     },
     "ba9df2d2c63e42ca99c7ec7c4c6c2e17": {
      "model_module": "@jupyter-widgets/base",
      "model_module_version": "2.0.0",
      "model_name": "LayoutModel",
      "state": {}
     },
     "bd0e13b1e34c495b9ab00bd5a676c2a3": {
      "model_module": "@jupyter-widgets/controls",
      "model_module_version": "2.0.0",
      "model_name": "HBoxModel",
      "state": {
       "children": [
        "IPY_MODEL_7c26f82944bd49c3b0005e5845edc566",
        "IPY_MODEL_5115d55ee63e4ad5ad4a0f686afb3191",
        "IPY_MODEL_0353e7b56c534f5982a0074169f36cdc"
       ],
       "layout": "IPY_MODEL_15d70a949db249feae99c31241192874"
      }
     },
     "ca37a28877fe48bf905fbfec48b3fa63": {
      "model_module": "@jupyter-widgets/controls",
      "model_module_version": "2.0.0",
      "model_name": "HTMLStyleModel",
      "state": {
       "description_width": "",
       "font_size": null,
       "text_color": null
      }
     },
     "d6d211d552234d8f86bc264acb835b12": {
      "model_module": "@jupyter-widgets/base",
      "model_module_version": "2.0.0",
      "model_name": "LayoutModel",
      "state": {}
     },
     "d85ffef7abd048339d45b2ec0b8d7af7": {
      "model_module": "@jupyter-widgets/controls",
      "model_module_version": "2.0.0",
      "model_name": "HTMLModel",
      "state": {
       "layout": "IPY_MODEL_42146bce3adc4999bcbd23def225307e",
       "style": "IPY_MODEL_31de3cb3dad946778a634510bd96f2e6",
       "value": "100%"
      }
     },
     "da7aff3639d841959b2d0527632a8356": {
      "model_module": "@jupyter-widgets/base",
      "model_module_version": "2.0.0",
      "model_name": "LayoutModel",
      "state": {}
     },
     "dc50644a36d64a6e8b1a7371121dd030": {
      "model_module": "@jupyter-widgets/controls",
      "model_module_version": "2.0.0",
      "model_name": "HTMLStyleModel",
      "state": {
       "description_width": "",
       "font_size": null,
       "text_color": null
      }
     },
     "ec82c4d380b14890b2c30caecd591a2e": {
      "model_module": "@jupyter-widgets/controls",
      "model_module_version": "2.0.0",
      "model_name": "FloatProgressModel",
      "state": {
       "bar_style": "success",
       "layout": "IPY_MODEL_343369a7d93f420c838fd67119e497a9",
       "max": 10000,
       "style": "IPY_MODEL_b3ee0ea573854a7c8c687c008ae970ac",
       "value": 10000
      }
     },
     "ed054afbd29741dba62f9aa34169a0c8": {
      "model_module": "@jupyter-widgets/controls",
      "model_module_version": "2.0.0",
      "model_name": "ProgressStyleModel",
      "state": {
       "description_width": ""
      }
     },
     "f999a16291e14d0e9bbcaf332a82b4be": {
      "model_module": "@jupyter-widgets/controls",
      "model_module_version": "2.0.0",
      "model_name": "HTMLStyleModel",
      "state": {
       "description_width": "",
       "font_size": null,
       "text_color": null
      }
     }
    },
    "version_major": 2,
    "version_minor": 0
   }
  }
 },
 "nbformat": 4,
 "nbformat_minor": 4
}
