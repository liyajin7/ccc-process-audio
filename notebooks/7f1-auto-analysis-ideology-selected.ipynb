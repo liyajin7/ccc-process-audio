{
 "cells": [
  {
   "cell_type": "code",
   "execution_count": null,
   "metadata": {},
   "outputs": [],
   "source": [
    "import os\n",
    "import gzip\n",
    "import random\n",
    "import logging\n",
    "\n",
    "import numpy as np\n",
    "import pandas as pd\n",
    "import seaborn as sns\n",
    "import scipy.stats as ss\n",
    "import statsmodels.formula.api as smf\n",
    "\n",
    "import matplotlib as mp\n",
    "%matplotlib inline\n",
    "import matplotlib.pyplot as plt\n",
    "\n",
    "from tqdm.notebook import tqdm, trange\n",
    "\n",
    "from IPython.display import display"
   ]
  },
  {
   "cell_type": "code",
   "execution_count": null,
   "metadata": {},
   "outputs": [],
   "source": [
    "logger = logging.getLogger(__name__)\n",
    "\n",
    "fmt = '%(asctime)s : %(levelname)s : %(message)s'\n",
    "logging.basicConfig(format=fmt, level=logging.INFO)"
   ]
  },
  {
   "cell_type": "code",
   "execution_count": null,
   "metadata": {},
   "outputs": [],
   "source": [
    "os.chdir(os.path.expanduser('~/github/masthesis/'))"
   ]
  },
  {
   "cell_type": "code",
   "execution_count": null,
   "metadata": {},
   "outputs": [],
   "source": [
    "seed = 2969591811\n",
    "\n",
    "random.seed(seed)\n",
    "np.random.seed(seed)"
   ]
  },
  {
   "cell_type": "code",
   "execution_count": null,
   "metadata": {},
   "outputs": [],
   "source": [
    "colors = sns.color_palette('bright', 10)\n",
    "\n",
    "elite_color = colors[3]\n",
    "radio_color = colors[0]\n",
    "decahose_color = colors[9]\n",
    "decahose2_color = colors[4]"
   ]
  },
  {
   "cell_type": "markdown",
   "metadata": {},
   "source": [
    "## Load data"
   ]
  },
  {
   "cell_type": "code",
   "execution_count": null,
   "metadata": {},
   "outputs": [],
   "source": [
    "selected = pd.read_csv('data/paper-round-3/event-annotated/auto-sample-communities-filter-list.csv', index_col='story_id')\n",
    "assert selected.index.is_unique"
   ]
  },
  {
   "cell_type": "code",
   "execution_count": null,
   "metadata": {},
   "outputs": [],
   "source": [
    "stats_overall = pd.read_csv('data/paper-round-3/event-annotated/auto-story-stats.csv', index_col='story_id')\n",
    "assert stats_overall.index.is_unique\n",
    "\n",
    "stats_lib = pd.read_csv('data/paper-round-3/event-annotated/auto-story-stats-lib.csv', index_col='story_id')\n",
    "assert stats_lib.index.is_unique\n",
    "\n",
    "stats_con = pd.read_csv('data/paper-round-3/event-annotated/auto-story-stats-con.csv', index_col='story_id')\n",
    "assert stats_con.index.is_unique\n",
    "\n",
    "stats = pd.concat([stats_lib, stats_con], axis=0)"
   ]
  },
  {
   "cell_type": "code",
   "execution_count": null,
   "metadata": {},
   "outputs": [],
   "source": [
    "with open('data/paper-round-3/event-annotated/auto-story-cdfs-lib.npy', 'rb') as f:\n",
    "    cdf_vals_lib = np.load(f)\n",
    "\n",
    "with open('data/paper-round-3/event-annotated/auto-story-cdfs-con.npy', 'rb') as f:\n",
    "    cdf_vals_con = np.load(f)"
   ]
  },
  {
   "cell_type": "markdown",
   "metadata": {},
   "source": [
    "## Quality filter"
   ]
  },
  {
   "cell_type": "code",
   "execution_count": null,
   "metadata": {},
   "outputs": [],
   "source": [
    "length_mask_overall = (stats_overall['count'] >= 20)\n",
    "selected_mask_overall = stats_overall.index.isin(selected.index)\n",
    "kind_mask_overall = (stats_overall['kind'] != 'decahose')\n",
    "\n",
    "mask_overall = (\n",
    "    length_mask_overall\n",
    "    & kind_mask_overall\n",
    "    & selected_mask_overall\n",
    ")\n",
    "\n",
    "mask_lib = mask_overall & (stats_lib['count'] >= 10)  # must be >= 2 to avoid nans in SDs\n",
    "mask_con = mask_overall & (stats_con['count'] >= 10)\n",
    "\n",
    "mask = pd.concat([mask_lib, mask_con], axis=0)\n",
    "\n",
    "mask_overall_10 = (\n",
    "    (stats_overall['count'] >= 10)\n",
    "    & kind_mask_overall\n",
    "    & selected_mask_overall\n",
    ")\n",
    "\n",
    "mask.sum(), stats.shape[0]"
   ]
  },
  {
   "cell_type": "markdown",
   "metadata": {},
   "source": [
    "# Descriptive stats"
   ]
  },
  {
   "cell_type": "code",
   "execution_count": null,
   "metadata": {},
   "outputs": [],
   "source": [
    "stats.loc[mask].index.nunique()"
   ]
  },
  {
   "cell_type": "code",
   "execution_count": null,
   "metadata": {},
   "outputs": [],
   "source": [
    "stats_lib.loc[mask_lib].index.nunique()"
   ]
  },
  {
   "cell_type": "code",
   "execution_count": null,
   "metadata": {},
   "outputs": [],
   "source": [
    "stats_con.loc[mask_con].index.nunique()"
   ]
  },
  {
   "cell_type": "code",
   "execution_count": null,
   "metadata": {},
   "outputs": [],
   "source": [
    "stats.groupby(['conservative', 'kind'])['count'].sum()"
   ]
  },
  {
   "cell_type": "code",
   "execution_count": null,
   "metadata": {},
   "outputs": [],
   "source": [
    "stats.groupby(['conservative', 'year', 'kind'])['count'].sum()"
   ]
  },
  {
   "cell_type": "code",
   "execution_count": null,
   "metadata": {},
   "outputs": [],
   "source": [
    "stats.groupby(['conservative', 'year', 'kind'])['group'].nunique()"
   ]
  },
  {
   "cell_type": "code",
   "execution_count": null,
   "metadata": {},
   "outputs": [],
   "source": [
    "stats.loc[mask, :].groupby(['conservative', 'year', 'kind'])['group'].nunique()"
   ]
  },
  {
   "cell_type": "code",
   "execution_count": null,
   "metadata": {},
   "outputs": [],
   "source": [
    "stats['dur'].hist(by=stats['conservative'], bins=50, log=True)"
   ]
  },
  {
   "cell_type": "code",
   "execution_count": null,
   "metadata": {},
   "outputs": [],
   "source": [
    "stats.groupby([stats['conservative'], stats['dur'] < 86400 * 2]).size()"
   ]
  },
  {
   "cell_type": "code",
   "execution_count": null,
   "metadata": {},
   "outputs": [],
   "source": [
    "stats.loc[stats['count'] > 0, :].groupby(['conservative', 'year', 'kind'])['group'].nunique()"
   ]
  },
  {
   "cell_type": "code",
   "execution_count": null,
   "metadata": {},
   "outputs": [],
   "source": [
    "with pd.option_context('display.float_format', lambda x: '%.3f' % x):\n",
    "    display(stats.loc[mask, :].describe())"
   ]
  },
  {
   "cell_type": "code",
   "execution_count": null,
   "metadata": {
    "tags": []
   },
   "outputs": [],
   "source": [
    "with pd.option_context('display.float_format', lambda x: '%.3f' % x, 'display.max_rows', None):\n",
    "    display(stats.loc[mask, :].groupby(['kind', 'conservative']).describe().T)"
   ]
  },
  {
   "cell_type": "code",
   "execution_count": null,
   "metadata": {},
   "outputs": [],
   "source": [
    "with pd.option_context('display.float_format', lambda x: '%.3f' % x, 'display.max_rows', None):\n",
    "    display(stats.loc[mask, :].groupby(['kind', 'conservative']).describe().T.loc['avg_abs', :].T.swaplevel().sort_index())"
   ]
  },
  {
   "cell_type": "code",
   "execution_count": null,
   "metadata": {
    "tags": []
   },
   "outputs": [],
   "source": [
    "with pd.option_context('display.float_format', lambda x: '%.3f' % x, 'display.max_rows', None):\n",
    "    display(stats.loc[mask, :].groupby(['year', 'conservative', 'kind']).describe().T.loc['avg_abs', :].T)"
   ]
  },
  {
   "cell_type": "markdown",
   "metadata": {},
   "source": [
    "# Summary metrics based on relative time"
   ]
  },
  {
   "cell_type": "markdown",
   "metadata": {},
   "source": [
    "## Tests: Overall"
   ]
  },
  {
   "cell_type": "code",
   "execution_count": null,
   "metadata": {},
   "outputs": [],
   "source": [
    "for c in stats.loc[mask, 'conservative'].unique():\n",
    "    print(c, ss.ttest_ind(\n",
    "        stats.loc[mask & (stats['conservative'] == c) & (stats['kind'] == 'elite'), 'avg'],\n",
    "        stats.loc[mask & (stats['conservative'] == c) & (stats['kind'] == 'radio'), 'avg']\n",
    "    ))"
   ]
  },
  {
   "cell_type": "code",
   "execution_count": null,
   "metadata": {},
   "outputs": [],
   "source": [
    "for c in stats.loc[mask, 'conservative'].unique():\n",
    "    print(c, ss.ttest_ind(\n",
    "        stats.loc[mask & (stats['conservative'] == c) & (stats['kind'] == 'elite'), 'std'],\n",
    "        stats.loc[mask & (stats['conservative'] == c) & (stats['kind'] == 'radio'), 'std']\n",
    "    ))"
   ]
  },
  {
   "cell_type": "markdown",
   "metadata": {},
   "source": [
    "## Tests: By year"
   ]
  },
  {
   "cell_type": "code",
   "execution_count": null,
   "metadata": {},
   "outputs": [],
   "source": [
    "for year in stats.loc[mask, 'year'].unique():\n",
    "    for c in stats['conservative'].unique():\n",
    "        print(c, year, ss.ttest_ind(\n",
    "            stats.loc[mask & (stats['year'] == year) & (stats['conservative'] == c) & (stats['kind'] == 'elite'), 'avg_abs'],\n",
    "            stats.loc[mask & (stats['year'] == year) & (stats['conservative'] == c) & (stats['kind'] == 'radio'), 'avg_abs']\n",
    "        ))"
   ]
  },
  {
   "cell_type": "code",
   "execution_count": null,
   "metadata": {},
   "outputs": [],
   "source": [
    "for year in stats.loc[mask, 'year'].unique():\n",
    "    for c in stats.loc[mask, 'conservative'].unique():\n",
    "        print(c, year, ss.ttest_ind(\n",
    "            stats.loc[mask & (stats['year'] == year) & (stats['conservative'] == c) & (stats['kind'] == 'elite'), 'std'],\n",
    "            stats.loc[mask & (stats['year'] == year) & (stats['conservative'] == c) & (stats['kind'] == 'radio'), 'std']\n",
    "        ))"
   ]
  },
  {
   "cell_type": "markdown",
   "metadata": {},
   "source": [
    "## Tests: Conservatives vs liberals"
   ]
  },
  {
   "cell_type": "code",
   "execution_count": null,
   "metadata": {},
   "outputs": [],
   "source": [
    "for kind in stats.loc[mask, 'kind'].unique():\n",
    "    print(kind, ss.ttest_rel(\n",
    "        stats_lib.loc[mask_lib & mask_con & (stats_lib['kind'] == kind), 'avg_abs'],\n",
    "        stats_con.loc[mask_con & mask_lib & (stats_con['kind'] == kind), 'avg_abs']\n",
    "    ))"
   ]
  },
  {
   "cell_type": "code",
   "execution_count": null,
   "metadata": {},
   "outputs": [],
   "source": [
    "for kind in stats.loc[mask, 'kind'].unique():\n",
    "    print(kind, ss.ttest_rel(\n",
    "        stats_lib.loc[mask_lib & mask_con & (stats_lib['kind'] == kind), 'std'],\n",
    "        stats_con.loc[mask_con & mask_lib & (stats_con['kind'] == kind), 'std']\n",
    "    ))"
   ]
  },
  {
   "cell_type": "code",
   "execution_count": null,
   "metadata": {},
   "outputs": [],
   "source": [
    "for year in stats.loc[mask, 'year'].unique():\n",
    "    for kind in stats.loc[mask, 'kind'].unique():\n",
    "        print(year, kind, ss.ttest_rel(\n",
    "            stats_lib.loc[mask_lib & mask_con & (stats_lib['year'] == year) & (stats_lib['kind'] == kind), 'avg_abs'],\n",
    "            stats_con.loc[mask_con & mask_lib & (stats_lib['year'] == year) & (stats_con['kind'] == kind), 'avg_abs']\n",
    "        ))"
   ]
  },
  {
   "cell_type": "code",
   "execution_count": null,
   "metadata": {},
   "outputs": [],
   "source": [
    "for year in stats.loc[mask, 'year'].unique():\n",
    "    for kind in stats.loc[mask, 'kind'].unique():\n",
    "        print(year, kind, ss.ttest_rel(\n",
    "            stats_lib.loc[mask_lib & mask_con & (stats_lib['year'] == year) & (stats_lib['kind'] == kind), 'std'],\n",
    "            stats_con.loc[mask_con & mask_lib & (stats_lib['year'] == year) & (stats_con['kind'] == kind), 'std']\n",
    "        ))"
   ]
  },
  {
   "cell_type": "markdown",
   "metadata": {},
   "source": [
    "# Visualize"
   ]
  },
  {
   "cell_type": "code",
   "execution_count": null,
   "metadata": {},
   "outputs": [],
   "source": [
    "nbins = 20\n",
    "\n",
    "fig, axes = plt.subplots(2, 3, figsize=(15, 10), sharey=True)\n",
    "twins = np.asarray([\n",
    "    [axes[0][0].twinx(), axes[0][1].twinx(), axes[0][2].twinx()],\n",
    "    [axes[1][0].twinx(), axes[1][1].twinx(), axes[1][2].twinx()],\n",
    "])\n",
    "\n",
    "for i in range(twins.shape[0]):\n",
    "    for twin in twins[i, 1:]:\n",
    "        twins[i, 0].get_shared_y_axes().join(twins[i, 0], twin)\n",
    "    twins[i, 0].autoscale()\n",
    "    for twin in twins[i, :-1]:\n",
    "        twin.yaxis.set_tick_params(labelright=False)\n",
    "\n",
    "\n",
    "sns.histplot(\n",
    "    stats_overall.loc[\n",
    "        mask_overall_10\n",
    "        & (stats_overall['kind'] == 'elite'),\n",
    "    'avg'],\n",
    "    ax=axes[0][0], color=elite_color, alpha=0.3, hatch='//', label='Elite', kde=True, bins=nbins\n",
    ")\n",
    "sns.histplot(\n",
    "    stats_overall.loc[\n",
    "        mask_overall_10\n",
    "        & (stats_overall['kind'] == 'radio'),\n",
    "    'avg'],\n",
    "    ax=twins[0][0], color=radio_color, alpha=0.3, hatch='\\\\\\\\', label='Radio', kde=True, bins=nbins\n",
    ")\n",
    "sns.histplot(\n",
    "    stats.loc[\n",
    "        mask\n",
    "        & (stats['conservative'] == 0)\n",
    "        & (stats['kind'] == 'elite'),\n",
    "    'avg_abs'],\n",
    "    ax=axes[0][1], color=elite_color, alpha=0.3, hatch='//', label='Elite', kde=True, bins=nbins\n",
    ")\n",
    "sns.histplot(\n",
    "    stats.loc[\n",
    "        mask\n",
    "        & (stats['conservative'] == 0)\n",
    "        & (stats['kind'] == 'radio'),\n",
    "    'avg_abs'],\n",
    "    ax=twins[0][1], color=radio_color, alpha=0.3, hatch='\\\\\\\\', label='Radio', kde=True, bins=nbins\n",
    ")\n",
    "sns.histplot(\n",
    "    stats.loc[\n",
    "        mask\n",
    "        & (stats['conservative'] == 1)\n",
    "        & (stats['kind'] == 'elite'),\n",
    "    'avg_abs'],\n",
    "    ax=axes[0][2], color=elite_color, alpha=0.3, hatch='//', label='Elite', kde=True, bins=nbins\n",
    ")\n",
    "sns.histplot(\n",
    "    stats.loc[\n",
    "        mask\n",
    "        & (stats['conservative'] == 1)\n",
    "        & (stats['kind'] == 'radio'),\n",
    "    'avg_abs'],\n",
    "    ax=twins[0][2], color=radio_color, alpha=0.3, hatch='\\\\\\\\', label='Radio', kde=True, bins=nbins\n",
    ")\n",
    "\n",
    "sns.histplot(\n",
    "    stats_overall.loc[\n",
    "        mask_overall_10\n",
    "        & (stats_overall['kind'] == 'elite'),\n",
    "    'std'],\n",
    "    ax=axes[1][0], color=elite_color, alpha=0.3, hatch='//', label='Elite', kde=True, bins=nbins\n",
    ")\n",
    "sns.histplot(\n",
    "    stats_overall.loc[\n",
    "        mask_overall_10\n",
    "        & (stats_overall['kind'] == 'radio'),\n",
    "    'std'],\n",
    "    ax=twins[1][0], color=radio_color, alpha=0.3, hatch='\\\\\\\\', label='Radio', kde=True, bins=nbins\n",
    ")\n",
    "sns.histplot(\n",
    "    stats.loc[\n",
    "        mask\n",
    "        & (stats['conservative'] == 0)\n",
    "        & (stats['kind'] == 'elite'),\n",
    "    'std'],\n",
    "    ax=axes[1][1], color=elite_color, alpha=0.3, hatch='//', label='Elite', kde=True, bins=nbins\n",
    ")\n",
    "sns.histplot(\n",
    "    stats.loc[\n",
    "        mask\n",
    "        & (stats['conservative'] == 0)\n",
    "        & (stats['kind'] == 'radio'),\n",
    "    'std'],\n",
    "    ax=twins[1][1], color=radio_color, alpha=0.3, hatch='\\\\\\\\', label='Radio', kde=True, bins=nbins\n",
    ")\n",
    "sns.histplot(\n",
    "    stats.loc[\n",
    "        mask\n",
    "        & (stats['conservative'] == 1)\n",
    "        & (stats['kind'] == 'elite'),\n",
    "    'std'],\n",
    "    ax=axes[1][2], color=elite_color, alpha=0.3, hatch='//', label='Elite', kde=True, bins=nbins\n",
    ")\n",
    "sns.histplot(\n",
    "    stats.loc[\n",
    "        mask\n",
    "        & (stats['conservative'] == 1)\n",
    "        & (stats['kind'] == 'radio'),\n",
    "    'std'],\n",
    "    ax=twins[1][2], color=radio_color, alpha=0.3, hatch='\\\\\\\\', label='Radio', kde=True, bins=nbins\n",
    ")\n",
    "\n",
    "axes[0][0].set_title('Mean Overall', fontsize=16)\n",
    "axes[0][1].set_title('Mean Liberal', fontsize=16)\n",
    "axes[0][2].set_title('Mean Conservative', fontsize=16)\n",
    "\n",
    "axes[1][0].set_title('SD Overall', fontsize=16)\n",
    "axes[1][1].set_title('SD Liberal', fontsize=16)\n",
    "axes[1][2].set_title('SD Conservative', fontsize=16)\n",
    "\n",
    "for ax, twin in zip(axes.flatten(), twins.flatten()):\n",
    "    ax.set_xlabel('Time', fontsize=14)\n",
    "    ax.set_ylabel(None)\n",
    "    twin.set_ylabel(None)\n",
    "\n",
    "    # ax.yaxis.set_major_locator(mp.ticker.MultipleLocator(5))\n",
    "    # twin.yaxis.set_major_locator(mp.ticker.MultipleLocator(5))\n",
    "    \n",
    "    fmt = mp.ticker.FuncFormatter(lambda x, pos: f'{x / 3600:.0f}h')\n",
    "    ax.xaxis.set_major_formatter(fmt)\n",
    "\n",
    "    ax.tick_params(axis='both', which='major', labelsize=11)\n",
    "    twin.tick_params(axis='both', which='major', labelsize=11)\n",
    "    \n",
    "    h1, l1 = ax.get_legend_handles_labels()\n",
    "    h2, l2 = twin.get_legend_handles_labels()\n",
    "    ax.legend(h1 + h2, l1 + l2, loc=0, fontsize=14)\n",
    "\n",
    "for i in range(axes.shape[0]):\n",
    "    axes[i, 0].set_ylabel('Count (Elite)', fontsize=14)\n",
    "    twins[i, -1].set_ylabel('Count (Radio)', fontsize=14, rotation=270, labelpad=15)\n",
    "    \n",
    "#\n",
    "# t-tests\n",
    "#\n",
    "\n",
    "ovrl_test_mean = ss.ttest_ind(\n",
    "    stats_overall.loc[mask_overall_10 & (stats_overall['kind'] == 'elite'), 'avg'],\n",
    "    stats_overall.loc[mask_overall_10 & (stats_overall['kind'] == 'radio'), 'avg']\n",
    ")\n",
    "\n",
    "lib_test_mean = ss.ttest_ind(\n",
    "    stats.loc[mask & (stats['conservative'] == 0) & (stats['kind'] == 'elite'), 'avg_abs'],\n",
    "    stats.loc[mask & (stats['conservative'] == 0) & (stats['kind'] == 'radio'), 'avg_abs']\n",
    ")\n",
    "\n",
    "con_test_mean = ss.ttest_ind(\n",
    "    stats.loc[mask & (stats['conservative'] == 1) & (stats['kind'] == 'elite'), 'avg_abs'],\n",
    "    stats.loc[mask & (stats['conservative'] == 1) & (stats['kind'] == 'radio'), 'avg_abs']\n",
    ")\n",
    "\n",
    "ovrl_test_sd = ss.ttest_ind(\n",
    "    stats_overall.loc[mask_overall_10 & (stats_overall['kind'] == 'elite'), 'std'],\n",
    "    stats_overall.loc[mask_overall_10 & (stats_overall['kind'] == 'radio'), 'std']\n",
    ")\n",
    "\n",
    "lib_test_sd = ss.ttest_ind(\n",
    "    stats.loc[mask & (stats['conservative'] == 0) & (stats['kind'] == 'elite'), 'std'],\n",
    "    stats.loc[mask & (stats['conservative'] == 0) & (stats['kind'] == 'radio'), 'std']\n",
    ")\n",
    "\n",
    "con_test_sd = ss.ttest_ind(\n",
    "    stats.loc[mask & (stats['conservative'] == 1) & (stats['kind'] == 'elite'), 'std'],\n",
    "    stats.loc[mask & (stats['conservative'] == 1) & (stats['kind'] == 'radio'), 'std']\n",
    ")\n",
    "\n",
    "props = dict(boxstyle='round', facecolor='wheat', alpha=0.5)\n",
    "\n",
    "textstr = '\\n'.join((\n",
    "    r'$H_0: \\rm{\\bar{E}} = \\rm{\\bar{R}}$',\n",
    "    r'$t=%.2f$' % (ovrl_test_mean.statistic, ),\n",
    "    r'$p = \\rm{%.1e}$' % (ovrl_test_mean.pvalue, ),\n",
    "))\n",
    "axes[0][0].text(0.6, 0.65, textstr, transform=axes[0][0].transAxes, fontsize=14,\n",
    "             verticalalignment='top', bbox=props)    \n",
    "\n",
    "textstr = '\\n'.join((\n",
    "    r'$H_0: \\rm{\\bar{E}} = \\rm{\\bar{R}}$',\n",
    "    r'$t=%.2f$' % (lib_test_mean.statistic, ),\n",
    "    r'$p = \\rm{%.1e}$' % (lib_test_mean.pvalue, ),\n",
    "))\n",
    "axes[0][1].text(0.6, 0.65, textstr, transform=axes[0][1].transAxes, fontsize=14,\n",
    "             verticalalignment='top', bbox=props)    \n",
    "\n",
    "textstr = '\\n'.join((\n",
    "    r'$H_0: \\rm{\\bar{E}} = \\rm{\\bar{R}}$',\n",
    "    r'$t=%.2f$' % (con_test_mean.statistic, ),\n",
    "    r'$p = \\rm{%.1e}$' % (con_test_mean.pvalue, ),\n",
    "))\n",
    "axes[0][2].text(0.6, 0.65, textstr, transform=axes[0][2].transAxes, fontsize=14,\n",
    "             verticalalignment='top', bbox=props)    \n",
    "\n",
    "textstr = '\\n'.join((\n",
    "    r'$H_0: \\rm{\\bar{E}} = \\rm{\\bar{R}}$',\n",
    "    r'$t=%.2f$' % (ovrl_test_sd.statistic, ),\n",
    "    r'$p = \\rm{%.1e}$' % (ovrl_test_sd.pvalue, ),\n",
    "))\n",
    "axes[1][0].text(0.6, 0.65, textstr, transform=axes[1][0].transAxes, fontsize=14,\n",
    "             verticalalignment='top', bbox=props)    \n",
    "\n",
    "textstr = '\\n'.join((\n",
    "    r'$H_0: \\rm{\\bar{E}} = \\rm{\\bar{R}}$',\n",
    "    r'$t=%.2f$' % (lib_test_sd.statistic, ),\n",
    "    r'$p = \\rm{%.1e}$' % (lib_test_sd.pvalue, ),\n",
    "))\n",
    "axes[1][1].text(0.6, 0.65, textstr, transform=axes[1][1].transAxes, fontsize=14,\n",
    "             verticalalignment='top', bbox=props)    \n",
    "\n",
    "textstr = '\\n'.join((\n",
    "    r'$H_0: \\rm{\\bar{E}} = \\rm{\\bar{R}}$',\n",
    "    r'$t=%.2f$' % (con_test_sd.statistic, ),\n",
    "    r'$p = \\rm{%.1e}$' % (con_test_sd.pvalue, )\n",
    "))\n",
    "axes[1][2].text(0.63, 0.65, textstr, transform=axes[1][2].transAxes, fontsize=14,\n",
    "             verticalalignment='top', bbox=props)    \n",
    "\n",
    "fig.tight_layout()"
   ]
  },
  {
   "cell_type": "code",
   "execution_count": null,
   "metadata": {},
   "outputs": [],
   "source": [
    "nbins = 20\n",
    "\n",
    "fig, axes = plt.subplots(2, 2, figsize=(10, 10))\n",
    "twins = np.asarray([\n",
    "    [axes[0][0].twinx(), axes[0][1].twinx()],\n",
    "    [axes[1][0].twinx(), axes[1][1].twinx()],\n",
    "])\n",
    "\n",
    "sns.histplot(stats.loc[mask & (stats['conservative'] == 0) & (stats['kind'] == 'elite'), 'avg_abs'], ax=axes[0][0], color=elite_color, alpha=0.3, label='Elite', kde=True, bins=nbins)\n",
    "sns.histplot(stats.loc[mask & (stats['conservative'] == 0) & (stats['kind'] == 'radio'), 'avg_abs'], ax=twins[0][0], color=radio_color, alpha=0.3, label='Radio', kde=True, bins=nbins)\n",
    "sns.histplot(stats.loc[mask & (stats['conservative'] == 0) & (stats['kind'] == 'elite'), 'std'], ax=axes[0][1], color=elite_color, alpha=0.3, label='Elite', kde=True, bins=nbins)\n",
    "sns.histplot(stats.loc[mask & (stats['conservative'] == 0) & (stats['kind'] == 'radio'), 'std'], ax=twins[0][1], color=radio_color, alpha=0.3, label='Radio', kde=True, bins=nbins)\n",
    "\n",
    "sns.histplot(stats.loc[mask & (stats['conservative'] == 1) & (stats['kind'] == 'elite'), 'avg_abs'], ax=axes[1][0], color=elite_color, alpha=0.3, label='Elite', kde=True, bins=nbins)\n",
    "sns.histplot(stats.loc[mask & (stats['conservative'] == 1) & (stats['kind'] == 'radio'), 'avg_abs'], ax=twins[1][0], color=radio_color, alpha=0.3, label='Radio', kde=True, bins=nbins)\n",
    "sns.histplot(stats.loc[mask & (stats['conservative'] == 1) & (stats['kind'] == 'elite'), 'std'], ax=axes[1][1], color=elite_color, alpha=0.3, label='Elite', kde=True, bins=nbins)\n",
    "sns.histplot(stats.loc[mask & (stats['conservative'] == 1) & (stats['kind'] == 'radio'), 'std'], ax=twins[1][1], color=radio_color, alpha=0.3, label='Radio', kde=True, bins=nbins)\n",
    "\n",
    "axes[0][0].set_title('Liberal: Mean Within-Story Time')\n",
    "axes[0][1].set_title('Liberal: SD of Within-Story Time')\n",
    "axes[1][0].set_title('Conservative: Mean Within-Story Time')\n",
    "axes[1][1].set_title('Conservative: SD of Within-Story Time')\n",
    "\n",
    "for ax, twin in zip(axes.flatten(), twins.flatten()):\n",
    "    ax.set_xlabel('Time')\n",
    "    ax.set_ylabel('Count')\n",
    "\n",
    "    twin.set_ylabel(None)\n",
    "    \n",
    "    ax.xaxis.set_tick_params(rotation=45)\n",
    "\n",
    "    fmt = mp.ticker.FuncFormatter(lambda x, pos: f'{x / 3600:.0f}h')\n",
    "    ax.xaxis.set_major_formatter(fmt)\n",
    "\n",
    "    h1, l1 = ax.get_legend_handles_labels()\n",
    "    h2, l2 = twin.get_legend_handles_labels()\n",
    "    ax.legend(h1 + h2, l1 + l2, loc=0)\n",
    "\n",
    "fig.tight_layout()"
   ]
  },
  {
   "cell_type": "code",
   "execution_count": null,
   "metadata": {},
   "outputs": [],
   "source": [
    "nbins = 20\n",
    "\n",
    "for year in stats.loc[mask, 'year'].unique():\n",
    "    fig, axes = plt.subplots(2, 2, figsize=(10, 10), sharey=True)\n",
    "    twins = np.asarray([\n",
    "        [axes[0][0].twinx(), axes[0][1].twinx()],\n",
    "        [axes[1][0].twinx(), axes[1][1].twinx()],\n",
    "    ])\n",
    "\n",
    "    sns.histplot(\n",
    "        stats.loc[\n",
    "            mask\n",
    "            & (stats['year'] == year)\n",
    "            & (stats['conservative'] == 0)\n",
    "            & (stats['kind'] == 'elite'),\n",
    "        'avg_abs'],\n",
    "        ax=axes[0][0], color=elite_color, alpha=0.3, label='Elite', kde=True, bins=nbins\n",
    "    )\n",
    "    sns.histplot(\n",
    "        stats.loc[\n",
    "            mask\n",
    "            & (stats['year'] == year)\n",
    "            & (stats['conservative'] == 0)\n",
    "            & (stats['kind'] == 'radio'),\n",
    "        'avg_abs'],\n",
    "        ax=twins[0][0], color=radio_color, alpha=0.3, label='Radio', kde=True, bins=nbins\n",
    "    )\n",
    "    sns.histplot(\n",
    "        stats.loc[\n",
    "            mask\n",
    "            & (stats['year'] == year)\n",
    "            & (stats['conservative'] == 0)\n",
    "            & (stats['kind'] == 'elite'),\n",
    "        'std'],\n",
    "        ax=axes[0][1], color=elite_color, alpha=0.3, label='Elite', kde=True, bins=nbins\n",
    "    )\n",
    "    sns.histplot(\n",
    "        stats.loc[\n",
    "            mask\n",
    "            & (stats['year'] == year)\n",
    "            & (stats['conservative'] == 0)\n",
    "            & (stats['kind'] == 'radio'),\n",
    "        'std'],\n",
    "        ax=twins[0][1], color=radio_color, alpha=0.3, label='Radio', kde=True, bins=nbins\n",
    "    )\n",
    "\n",
    "    sns.histplot(\n",
    "        stats.loc[\n",
    "            mask\n",
    "            & (stats['year'] == year)\n",
    "            & (stats['conservative'] == 1)\n",
    "            & (stats['kind'] == 'elite'),\n",
    "        'avg_abs'],\n",
    "        ax=axes[1][0], color=elite_color, alpha=0.3, label='Elite', kde=True, bins=nbins\n",
    "    )\n",
    "    sns.histplot(\n",
    "        stats.loc[\n",
    "            mask\n",
    "            & (stats['year'] == year)\n",
    "            & (stats['conservative'] == 1)\n",
    "            & (stats['kind'] == 'radio'),\n",
    "        'avg_abs'],\n",
    "        ax=twins[1][0], color=radio_color, alpha=0.3, label='Radio', kde=True, bins=nbins\n",
    "    )\n",
    "    sns.histplot(\n",
    "        stats.loc[\n",
    "            mask\n",
    "            & (stats['year'] == year)\n",
    "            & (stats['conservative'] == 1)\n",
    "            & (stats['kind'] == 'elite'),\n",
    "        'std'],\n",
    "        ax=axes[1][1], color=elite_color, alpha=0.3, label='Elite', kde=True, bins=nbins\n",
    "    )\n",
    "    sns.histplot(\n",
    "        stats.loc[\n",
    "            mask\n",
    "            & (stats['year'] == year)\n",
    "            & (stats['conservative'] == 1)\n",
    "            & (stats['kind'] == 'radio'),\n",
    "        'std'],\n",
    "        ax=twins[1][1], color=radio_color, alpha=0.3, label='Radio', kde=True, bins=nbins\n",
    "    )\n",
    "\n",
    "    fig.suptitle(str(year))\n",
    "\n",
    "    axes[0][0].set_title('Liberal: Mean Within-Story Time')\n",
    "    axes[0][1].set_title('Liberal: SD of Within-Story Time')\n",
    "    axes[1][0].set_title('Conservative: Mean Within-Story Time')\n",
    "    axes[1][1].set_title('Conservative: SD of Within-Story Time')\n",
    "\n",
    "    for ax, twin in zip(axes.flatten(), twins.flatten()):\n",
    "        ax.set_xlabel('Time')\n",
    "        ax.set_ylabel('Count')\n",
    "\n",
    "        twin.set_ylabel(None)\n",
    "\n",
    "        ax.xaxis.set_tick_params(rotation=45)\n",
    "\n",
    "        fmt = mp.ticker.FuncFormatter(lambda x, pos: f'{x / 3600:.0f}h')\n",
    "        ax.xaxis.set_major_formatter(fmt)\n",
    "\n",
    "        h1, l1 = ax.get_legend_handles_labels()\n",
    "        h2, l2 = twin.get_legend_handles_labels()\n",
    "        ax.legend(h1 + h2, l1 + l2, loc=0)\n",
    "\n",
    "    fig.tight_layout()"
   ]
  },
  {
   "cell_type": "markdown",
   "metadata": {},
   "source": [
    "## Vincentized ecdf\n",
    "\n",
    "And the epdf, which we get from the cdf via differentials (`np.gradient`)."
   ]
  },
  {
   "cell_type": "code",
   "execution_count": null,
   "metadata": {},
   "outputs": [],
   "source": [
    "# as in the 5a notebook that calculated these\n",
    "cdf_query_end = 7 * 24 * 3600\n",
    "cdf_query_inc = 60  # one minute; afterward we can sample to a higher frequency if desired"
   ]
  },
  {
   "cell_type": "code",
   "execution_count": null,
   "metadata": {},
   "outputs": [],
   "source": [
    "cdf_ovrl = pd.DataFrame([\n",
    "    cdf_vals_lib[mask_lib & (stats_lib['kind'] == 'elite'), ...].mean(axis=0),\n",
    "    cdf_vals_lib[mask_lib & (stats_lib['kind'] == 'radio'), ...].mean(axis=0),\n",
    "    cdf_vals_con[mask_con & (stats_con['kind'] == 'elite'), ...].mean(axis=0),\n",
    "    cdf_vals_con[mask_con & (stats_con['kind'] == 'radio'), ...].mean(axis=0),\n",
    "], index=['lib-elite', 'lib-radio', 'con-elite', 'con-radio']).T\n",
    "cdf_ovrl.index = (cdf_ovrl.index.to_series() * cdf_query_inc)\n",
    "pdf_ovrl = cdf_ovrl.copy()\n",
    "for c in list(pdf_ovrl):\n",
    "    pdf_ovrl[c] = np.gradient(pdf_ovrl[c])\n",
    "\n",
    "year_cdfs, year_pdfs = {}, {}\n",
    "for year in stats['year'].unique():\n",
    "    tmp_cdf = pd.DataFrame([\n",
    "        cdf_vals_lib[mask_lib & (stats_lib['year'] == year) & (stats_lib['kind'] == 'elite'), ...].mean(axis=0),\n",
    "        cdf_vals_lib[mask_lib & (stats_lib['year'] == year) & (stats_lib['kind'] == 'radio'), ...].mean(axis=0),\n",
    "        cdf_vals_con[mask_con & (stats_con['year'] == year) & (stats_con['kind'] == 'elite'), ...].mean(axis=0),\n",
    "        cdf_vals_con[mask_con & (stats_con['year'] == year) & (stats_con['kind'] == 'radio'), ...].mean(axis=0),\n",
    "    ], index=['lib-elite', 'lib-radio', 'con-elite', 'con-radio']).T\n",
    "    tmp_cdf.index = (tmp_cdf.index.to_series() * cdf_query_inc)\n",
    "    year_cdfs[year] = tmp_cdf\n",
    "    \n",
    "    tmp_pdf = tmp_cdf.copy()\n",
    "    for c in list(tmp_pdf):\n",
    "        tmp_pdf[c] = np.gradient(tmp_pdf[c])\n",
    "    year_pdfs[year] = tmp_pdf"
   ]
  },
  {
   "cell_type": "markdown",
   "metadata": {},
   "source": [
    "### Plot"
   ]
  },
  {
   "cell_type": "code",
   "execution_count": null,
   "metadata": {},
   "outputs": [],
   "source": [
    "fig, axes = plt.subplots(2, 2, figsize=(20, 10), sharex=True)\n",
    "\n",
    "# in units of cdf_query_inc\n",
    "plot_max = 3 * 24 * 60\n",
    "plot_interval = 15\n",
    "\n",
    "cdf_ovrl[['lib-elite', 'lib-radio']] \\\n",
    "    .rename({'lib-elite': 'Elite', 'lib-radio': 'Radio'}, axis=1) \\\n",
    "    .iloc[0:plot_max:plot_interval]['Elite'] \\\n",
    "    .plot(ax=axes[0][0], color=elite_color)\n",
    "pdf_ovrl[['lib-elite', 'lib-radio']] \\\n",
    "    .rename({'lib-elite': 'Elite', 'lib-radio': 'Radio'}, axis=1) \\\n",
    "    .iloc[0:plot_max:plot_interval]['Elite'] \\\n",
    "    .plot(ax=axes[0][1], color=elite_color)\n",
    "cdf_ovrl[['con-elite', 'con-radio']] \\\n",
    "    .rename({'con-elite': 'Elite', 'con-radio': 'Radio'}, axis=1) \\\n",
    "    .iloc[0:plot_max:plot_interval]['Elite'] \\\n",
    "    .plot(ax=axes[1][0], color=elite_color)\n",
    "pdf_ovrl[['con-elite', 'con-radio']] \\\n",
    "    .rename({'con-elite': 'Elite', 'con-radio': 'Radio'}, axis=1) \\\n",
    "    .iloc[0:plot_max:plot_interval]['Elite'] \\\n",
    "    .plot(ax=axes[1][1], color=elite_color)\n",
    "\n",
    "cdf_ovrl[['lib-elite', 'lib-radio']] \\\n",
    "    .rename({'lib-elite': 'Elite', 'lib-radio': 'Radio'}, axis=1) \\\n",
    "    .iloc[0:plot_max:plot_interval]['Radio'] \\\n",
    "    .plot(ax=axes[0][0], color=radio_color)\n",
    "pdf_ovrl[['lib-elite', 'lib-radio']] \\\n",
    "    .rename({'lib-elite': 'Elite', 'lib-radio': 'Radio'}, axis=1) \\\n",
    "    .iloc[0:plot_max:plot_interval]['Radio'] \\\n",
    "    .plot(ax=axes[0][1], color=radio_color)\n",
    "cdf_ovrl[['con-elite', 'con-radio']] \\\n",
    "    .rename({'con-elite': 'Elite', 'con-radio': 'Radio'}, axis=1) \\\n",
    "    .iloc[0:plot_max:plot_interval]['Radio'] \\\n",
    "    .plot(ax=axes[1][0], color=radio_color)\n",
    "pdf_ovrl[['con-elite', 'con-radio']] \\\n",
    "    .rename({'con-elite': 'Elite', 'con-radio': 'Radio'}, axis=1) \\\n",
    "    .iloc[0:plot_max:plot_interval]['Radio'] \\\n",
    "    .plot(ax=axes[1][1], color=radio_color)\n",
    "\n",
    "axes[0][0].set_title('Overall Liberal Pooled Empirical CDF')\n",
    "axes[0][1].set_title('Overall Liberal Pooled Empirical PDF')\n",
    "axes[1][0].set_title('Overall Conservative Pooled Empirical CDF')\n",
    "axes[1][1].set_title('Overall Conservative Pooled Empirical PDF')\n",
    "\n",
    "for i in range(axes.shape[0]):\n",
    "    axes[i][0].set_xlabel('Time')\n",
    "    axes[i][1].set_xlabel('Time')\n",
    "    axes[i][0].set_ylabel('Proportion')\n",
    "    axes[i][1].set_ylabel('Density')\n",
    "    axes[i][0].set_ylim(0, 1)\n",
    "\n",
    "    fmt = mp.ticker.FuncFormatter(lambda x, pos: f'{x / 3600:.0f}h')\n",
    "    axes[i][0].xaxis.set_major_formatter(fmt)\n",
    "    axes[i][1].xaxis.set_major_formatter(fmt)\n",
    "\n",
    "fig.tight_layout()\n",
    "\n",
    "print(f'Based on {mask.sum()} event(s)')"
   ]
  },
  {
   "cell_type": "code",
   "execution_count": null,
   "metadata": {},
   "outputs": [],
   "source": [
    "for year in year_cdfs.keys():\n",
    "    fig, axes = plt.subplots(2, 2, figsize=(20, 10), sharex=True)\n",
    "\n",
    "    # in units of cdf_query_inc\n",
    "    plot_max = 3 * 24 * 60\n",
    "    plot_interval = 15\n",
    "\n",
    "    year_cdfs[year][['lib-elite', 'lib-radio']] \\\n",
    "        .rename({'lib-elite': 'Elite', 'lib-radio': 'Radio'}, axis=1) \\\n",
    "        .iloc[0:plot_max:plot_interval]['Elite'] \\\n",
    "        .plot(ax=axes[0][0], color=elite_color)\n",
    "    year_pdfs[year][['lib-elite', 'lib-radio']] \\\n",
    "        .rename({'lib-elite': 'Elite', 'lib-radio': 'Radio'}, axis=1) \\\n",
    "        .iloc[0:plot_max:plot_interval]['Elite'] \\\n",
    "        .plot(ax=axes[0][1], color=elite_color)\n",
    "    year_cdfs[year][['con-elite', 'con-radio']] \\\n",
    "        .rename({'con-elite': 'Elite', 'con-radio': 'Radio'}, axis=1) \\\n",
    "        .iloc[0:plot_max:plot_interval]['Elite'] \\\n",
    "        .plot(ax=axes[1][0], color=elite_color)\n",
    "    year_pdfs[year][['con-elite', 'con-radio']] \\\n",
    "        .rename({'con-elite': 'Elite', 'con-radio': 'Radio'}, axis=1) \\\n",
    "        .iloc[0:plot_max:plot_interval]['Elite'] \\\n",
    "        .plot(ax=axes[1][1], color=elite_color)\n",
    "\n",
    "    year_cdfs[year][['lib-elite', 'lib-radio']] \\\n",
    "        .rename({'lib-elite': 'Elite', 'lib-radio': 'Radio'}, axis=1) \\\n",
    "        .iloc[0:plot_max:plot_interval]['Radio'] \\\n",
    "        .plot(ax=axes[0][0], color=radio_color)\n",
    "    year_pdfs[year][['lib-elite', 'lib-radio']] \\\n",
    "        .rename({'lib-elite': 'Elite', 'lib-radio': 'Radio'}, axis=1) \\\n",
    "        .iloc[0:plot_max:plot_interval]['Radio'] \\\n",
    "        .plot(ax=axes[0][1], color=radio_color)\n",
    "    year_cdfs[year][['con-elite', 'con-radio']] \\\n",
    "        .rename({'con-elite': 'Elite', 'con-radio': 'Radio'}, axis=1) \\\n",
    "        .iloc[0:plot_max:plot_interval]['Radio'] \\\n",
    "        .plot(ax=axes[1][0], color=radio_color)\n",
    "    year_pdfs[year][['con-elite', 'con-radio']] \\\n",
    "        .rename({'con-elite': 'Elite', 'con-radio': 'Radio'}, axis=1) \\\n",
    "        .iloc[0:plot_max:plot_interval]['Radio'] \\\n",
    "        .plot(ax=axes[1][1], color=radio_color)\n",
    "\n",
    "    axes[0][0].set_title(f'{year} Liberal Pooled Empirical CDF')\n",
    "    axes[0][1].set_title(f'{year} Liberal Pooled Empirical PDF')\n",
    "    axes[1][0].set_title(f'{year} Conservative Pooled Empirical CDF')\n",
    "    axes[1][1].set_title(f'{year} Conservative Pooled Empirical PDF')\n",
    "\n",
    "    for i in range(axes.shape[0]):\n",
    "        axes[i][0].set_xlabel('Time')\n",
    "        axes[i][1].set_xlabel('Time')\n",
    "        axes[i][0].set_ylabel('Proportion')\n",
    "        axes[i][1].set_ylabel('Density')\n",
    "        axes[i][0].set_ylim(0, 1)\n",
    "\n",
    "        fmt = mp.ticker.FuncFormatter(lambda x, pos: f'{x / 3600:.0f}h')\n",
    "        axes[i][0].xaxis.set_major_formatter(fmt)\n",
    "        axes[i][1].xaxis.set_major_formatter(fmt)\n",
    "\n",
    "    fig.tight_layout()\n",
    "\n",
    "    print(f'Based on {mask.sum()} event(s)')"
   ]
  },
  {
   "cell_type": "markdown",
   "metadata": {},
   "source": [
    "### Bootstrap tests"
   ]
  },
  {
   "cell_type": "code",
   "execution_count": null,
   "metadata": {},
   "outputs": [],
   "source": [
    "n_sims = 10000\n",
    "\n",
    "test_max = 2880\n",
    "test_interval = 15"
   ]
  },
  {
   "cell_type": "code",
   "execution_count": null,
   "metadata": {},
   "outputs": [],
   "source": [
    "rng = np.random.default_rng(seed=seed)"
   ]
  },
  {
   "cell_type": "markdown",
   "metadata": {},
   "source": [
    "#### Liberal overall"
   ]
  },
  {
   "cell_type": "code",
   "execution_count": null,
   "metadata": {},
   "outputs": [],
   "source": [
    "tw_mask = mask_lib & (stats_lib['kind'] == 'elite')\n",
    "tw_cdf_vals = cdf_vals_lib[tw_mask, :][:, :test_max:test_interval]\n",
    "tw_actual = cdf_vals_lib[tw_mask, ...][:, :test_max:test_interval].mean(axis=0)\n",
    "\n",
    "tw_samples = []\n",
    "for i in trange(n_sims):\n",
    "    perm = rng.choice(tw_cdf_vals.shape[0], tw_cdf_vals.shape[0], replace=True)\n",
    "    tw_samples += [pd.Series(tw_cdf_vals[perm, ...].mean(axis=0)).rename('s' + str(i))]\n",
    "\n",
    "tw_samples = pd.DataFrame(tw_samples)\n",
    "tw_samples.index = ['s' + str(i) for i in range(n_sims)]\n",
    "tw_samples.columns = (tw_samples.columns.to_series() * cdf_query_inc)\n",
    "tw_samples = tw_samples.T"
   ]
  },
  {
   "cell_type": "code",
   "execution_count": null,
   "metadata": {},
   "outputs": [],
   "source": [
    "rd_mask = mask_lib & (stats_lib['kind'] == 'radio')\n",
    "rd_cdf_vals = cdf_vals_lib[rd_mask, :][:, :test_max:test_interval]\n",
    "rd_actual = cdf_vals_lib[rd_mask, ...][:, :test_max:test_interval].mean(axis=0)\n",
    "\n",
    "rd_samples = []\n",
    "for i in trange(n_sims):\n",
    "    perm = rng.choice(rd_cdf_vals.shape[0], rd_cdf_vals.shape[0], replace=True)\n",
    "    rd_samples += [pd.Series(rd_cdf_vals[perm, ...].mean(axis=0))]\n",
    "\n",
    "rd_samples = pd.DataFrame(rd_samples)\n",
    "rd_samples.index = ['s' + str(i) for i in range(n_sims)]\n",
    "rd_samples.columns = (rd_samples.columns.to_series() * cdf_query_inc)\n",
    "rd_samples = rd_samples.T"
   ]
  },
  {
   "cell_type": "code",
   "execution_count": null,
   "metadata": {},
   "outputs": [],
   "source": [
    "# sanity check\n",
    "with pd.option_context('display.float_format', lambda x: '%.7f' % x, 'display.max_rows', None):\n",
    "    display(pd.concat([\n",
    "        (tw_samples.mean(axis=1) - tw_actual).describe().rename('elite'),\n",
    "        (rd_samples.mean(axis=1) - rd_actual).describe().rename('radio'),\n",
    "    ], axis=1))"
   ]
  },
  {
   "cell_type": "code",
   "execution_count": null,
   "metadata": {},
   "outputs": [],
   "source": [
    "comp = (tw_samples > rd_samples).mean(axis=1)\n",
    "pvals = comp.apply(lambda pval: 2 * min(pval, 1 - pval))"
   ]
  },
  {
   "cell_type": "code",
   "execution_count": null,
   "metadata": {},
   "outputs": [],
   "source": [
    "pvals.describe()"
   ]
  },
  {
   "cell_type": "code",
   "execution_count": null,
   "metadata": {},
   "outputs": [],
   "source": [
    "pvals.value_counts().sort_index()"
   ]
  },
  {
   "cell_type": "code",
   "execution_count": null,
   "metadata": {},
   "outputs": [],
   "source": [
    "(pvals < 0.05).sum(), (pvals < 0.01).sum(), (pvals < 0.001).sum(), (pvals < 0.0001).sum()"
   ]
  },
  {
   "cell_type": "code",
   "execution_count": null,
   "metadata": {},
   "outputs": [],
   "source": [
    "pvals.plot()"
   ]
  },
  {
   "cell_type": "markdown",
   "metadata": {},
   "source": [
    "#### Conservative overall"
   ]
  },
  {
   "cell_type": "code",
   "execution_count": null,
   "metadata": {},
   "outputs": [],
   "source": [
    "tw_mask = mask_con & (stats_con['kind'] == 'elite')\n",
    "tw_cdf_vals = cdf_vals_con[tw_mask, :][:, :test_max:test_interval]\n",
    "tw_actual = cdf_vals_con[tw_mask, ...][:, :test_max:test_interval].mean(axis=0)\n",
    "\n",
    "tw_samples = []\n",
    "for i in trange(n_sims):\n",
    "    perm = rng.choice(tw_cdf_vals.shape[0], tw_cdf_vals.shape[0], replace=True)\n",
    "    tw_samples += [pd.Series(tw_cdf_vals[perm, ...].mean(axis=0)).rename('s' + str(i))]\n",
    "\n",
    "tw_samples = pd.DataFrame(tw_samples)\n",
    "tw_samples.index = ['s' + str(i) for i in range(n_sims)]\n",
    "tw_samples.columns = (tw_samples.columns.to_series() * cdf_query_inc)\n",
    "tw_samples = tw_samples.T"
   ]
  },
  {
   "cell_type": "code",
   "execution_count": null,
   "metadata": {},
   "outputs": [],
   "source": [
    "rd_mask = mask_con & (stats_con['kind'] == 'radio')\n",
    "rd_cdf_vals = cdf_vals_con[rd_mask, :][:, :test_max:test_interval]\n",
    "rd_actual = cdf_vals_con[rd_mask, ...][:, :test_max:test_interval].mean(axis=0)\n",
    "\n",
    "rd_samples = []\n",
    "for i in trange(n_sims):\n",
    "    perm = rng.choice(rd_cdf_vals.shape[0], rd_cdf_vals.shape[0], replace=True)\n",
    "    rd_samples += [pd.Series(rd_cdf_vals[perm, ...].mean(axis=0))]\n",
    "\n",
    "rd_samples = pd.DataFrame(rd_samples)\n",
    "rd_samples.index = ['s' + str(i) for i in range(n_sims)]\n",
    "rd_samples.columns = (rd_samples.columns.to_series() * cdf_query_inc)\n",
    "rd_samples = rd_samples.T"
   ]
  },
  {
   "cell_type": "code",
   "execution_count": null,
   "metadata": {},
   "outputs": [],
   "source": [
    "# sanity check\n",
    "with pd.option_context('display.float_format', lambda x: '%.7f' % x, 'display.max_rows', None):\n",
    "    display(pd.concat([\n",
    "        (tw_samples.mean(axis=1) - tw_actual).describe().rename('elite'),\n",
    "        (rd_samples.mean(axis=1) - rd_actual).describe().rename('radio'),\n",
    "    ], axis=1))"
   ]
  },
  {
   "cell_type": "code",
   "execution_count": null,
   "metadata": {},
   "outputs": [],
   "source": [
    "comp = (tw_samples > rd_samples).mean(axis=1)\n",
    "pvals = comp.apply(lambda pval: 2 * min(pval, 1 - pval))"
   ]
  },
  {
   "cell_type": "code",
   "execution_count": null,
   "metadata": {},
   "outputs": [],
   "source": [
    "pvals.describe()"
   ]
  },
  {
   "cell_type": "code",
   "execution_count": null,
   "metadata": {},
   "outputs": [],
   "source": [
    "pvals.value_counts().sort_index()"
   ]
  },
  {
   "cell_type": "code",
   "execution_count": null,
   "metadata": {},
   "outputs": [],
   "source": [
    "(pvals < 0.05).sum(), (pvals < 0.01).sum(), (pvals < 0.001).sum(), (pvals < 0.0001).sum()"
   ]
  },
  {
   "cell_type": "code",
   "execution_count": null,
   "metadata": {},
   "outputs": [],
   "source": [
    "pvals.plot()"
   ]
  },
  {
   "cell_type": "code",
   "execution_count": null,
   "metadata": {},
   "outputs": [],
   "source": []
  }
 ],
 "metadata": {
  "kernelspec": {
   "display_name": "DL",
   "language": "python",
   "name": "dl"
  },
  "language_info": {
   "codemirror_mode": {
    "name": "ipython",
    "version": 3
   },
   "file_extension": ".py",
   "mimetype": "text/x-python",
   "name": "python",
   "nbconvert_exporter": "python",
   "pygments_lexer": "ipython3",
   "version": "3.10.10"
  },
  "widgets": {
   "application/vnd.jupyter.widget-state+json": {
    "state": {
     "06b98301debd49ff97d8d6d92da354e1": {
      "model_module": "@jupyter-widgets/base",
      "model_module_version": "2.0.0",
      "model_name": "LayoutModel",
      "state": {}
     },
     "13b164e515434fdcac53f3967923817e": {
      "model_module": "@jupyter-widgets/controls",
      "model_module_version": "2.0.0",
      "model_name": "HBoxModel",
      "state": {
       "children": [
        "IPY_MODEL_a8e2da45882549b2b0f01035cc1e7098",
        "IPY_MODEL_60525833d4ce4890983562298d186b49",
        "IPY_MODEL_f285f1fd16b4412495d9ef03c9783098"
       ],
       "layout": "IPY_MODEL_653f68f9f4f549679b8bf899c5f40507"
      }
     },
     "1dfe409f3ac7430b8e955fe255dcabba": {
      "model_module": "@jupyter-widgets/controls",
      "model_module_version": "2.0.0",
      "model_name": "HTMLStyleModel",
      "state": {
       "description_width": "",
       "font_size": null,
       "text_color": null
      }
     },
     "23b1d454ae0043379a3914beac60d35c": {
      "model_module": "@jupyter-widgets/base",
      "model_module_version": "2.0.0",
      "model_name": "LayoutModel",
      "state": {}
     },
     "2945edc7064d4c87b5aa1d1097569f80": {
      "model_module": "@jupyter-widgets/base",
      "model_module_version": "2.0.0",
      "model_name": "LayoutModel",
      "state": {}
     },
     "358f0c29441d4dbf9f73b4e6cbca5034": {
      "model_module": "@jupyter-widgets/controls",
      "model_module_version": "2.0.0",
      "model_name": "HTMLModel",
      "state": {
       "layout": "IPY_MODEL_fc511657dc6c46909f0c900e59f95018",
       "style": "IPY_MODEL_c3b4b8d255a84bbb8380ddd264c5e978",
       "value": " 10000/10000 [00:02&lt;00:00, 5113.33it/s]"
      }
     },
     "374752bf44b141f6a9a4f677d19379b8": {
      "model_module": "@jupyter-widgets/controls",
      "model_module_version": "2.0.0",
      "model_name": "HTMLStyleModel",
      "state": {
       "description_width": "",
       "font_size": null,
       "text_color": null
      }
     },
     "38e4d3c75d7d4bc88aaa420d187fd060": {
      "model_module": "@jupyter-widgets/controls",
      "model_module_version": "2.0.0",
      "model_name": "HTMLStyleModel",
      "state": {
       "description_width": "",
       "font_size": null,
       "text_color": null
      }
     },
     "4151d4a2a2bf48ad9bc882f44fbe72dd": {
      "model_module": "@jupyter-widgets/controls",
      "model_module_version": "2.0.0",
      "model_name": "FloatProgressModel",
      "state": {
       "bar_style": "success",
       "layout": "IPY_MODEL_44477daa63664222bcb6df9186e20ee7",
       "max": 10000,
       "style": "IPY_MODEL_7bda2b66c8774a66be8c45ab452b5b26",
       "value": 10000
      }
     },
     "44477daa63664222bcb6df9186e20ee7": {
      "model_module": "@jupyter-widgets/base",
      "model_module_version": "2.0.0",
      "model_name": "LayoutModel",
      "state": {}
     },
     "4ebf0eba52fa4628be618cd6a7b571b9": {
      "model_module": "@jupyter-widgets/base",
      "model_module_version": "2.0.0",
      "model_name": "LayoutModel",
      "state": {}
     },
     "5309a785839245378ea3974220f7bbc7": {
      "model_module": "@jupyter-widgets/controls",
      "model_module_version": "2.0.0",
      "model_name": "HBoxModel",
      "state": {
       "children": [
        "IPY_MODEL_86a54d5db62f42c1b97ae80740af978d",
        "IPY_MODEL_4151d4a2a2bf48ad9bc882f44fbe72dd",
        "IPY_MODEL_6c0c4c8a367a4855bd55859e9ec8dbac"
       ],
       "layout": "IPY_MODEL_6e65e7d04fcd4f48a9e181fbe59c9f5f"
      }
     },
     "56f079713c0c44fc9e0e558e1efba329": {
      "model_module": "@jupyter-widgets/base",
      "model_module_version": "2.0.0",
      "model_name": "LayoutModel",
      "state": {}
     },
     "5849437c6ee74f99985c950ff0cfd38e": {
      "model_module": "@jupyter-widgets/controls",
      "model_module_version": "2.0.0",
      "model_name": "HTMLStyleModel",
      "state": {
       "description_width": "",
       "font_size": null,
       "text_color": null
      }
     },
     "5e9239f22efb4c31bd046da2a82bffa7": {
      "model_module": "@jupyter-widgets/base",
      "model_module_version": "2.0.0",
      "model_name": "LayoutModel",
      "state": {}
     },
     "604135d918bf427199019ca45bc05bf9": {
      "model_module": "@jupyter-widgets/base",
      "model_module_version": "2.0.0",
      "model_name": "LayoutModel",
      "state": {}
     },
     "60421aea48f74844986b534011b13344": {
      "model_module": "@jupyter-widgets/controls",
      "model_module_version": "2.0.0",
      "model_name": "ProgressStyleModel",
      "state": {
       "description_width": ""
      }
     },
     "60525833d4ce4890983562298d186b49": {
      "model_module": "@jupyter-widgets/controls",
      "model_module_version": "2.0.0",
      "model_name": "FloatProgressModel",
      "state": {
       "bar_style": "success",
       "layout": "IPY_MODEL_2945edc7064d4c87b5aa1d1097569f80",
       "max": 10000,
       "style": "IPY_MODEL_816ad3b55a7742199730606ae288b62a",
       "value": 10000
      }
     },
     "653f68f9f4f549679b8bf899c5f40507": {
      "model_module": "@jupyter-widgets/base",
      "model_module_version": "2.0.0",
      "model_name": "LayoutModel",
      "state": {}
     },
     "6be5eb23bd7c4110b9df6b5437ba37ec": {
      "model_module": "@jupyter-widgets/controls",
      "model_module_version": "2.0.0",
      "model_name": "FloatProgressModel",
      "state": {
       "bar_style": "success",
       "layout": "IPY_MODEL_dcd0dca4adad45d3a7c821308e97d032",
       "max": 10000,
       "style": "IPY_MODEL_6db87e6f63eb4afbb2c6fbbc12cbc617",
       "value": 10000
      }
     },
     "6c0c4c8a367a4855bd55859e9ec8dbac": {
      "model_module": "@jupyter-widgets/controls",
      "model_module_version": "2.0.0",
      "model_name": "HTMLModel",
      "state": {
       "layout": "IPY_MODEL_56f079713c0c44fc9e0e558e1efba329",
       "style": "IPY_MODEL_5849437c6ee74f99985c950ff0cfd38e",
       "value": " 10000/10000 [00:02&lt;00:00, 4431.34it/s]"
      }
     },
     "6db87e6f63eb4afbb2c6fbbc12cbc617": {
      "model_module": "@jupyter-widgets/controls",
      "model_module_version": "2.0.0",
      "model_name": "ProgressStyleModel",
      "state": {
       "description_width": ""
      }
     },
     "6e65e7d04fcd4f48a9e181fbe59c9f5f": {
      "model_module": "@jupyter-widgets/base",
      "model_module_version": "2.0.0",
      "model_name": "LayoutModel",
      "state": {}
     },
     "74720937e5fd49e28fb03db5968d54c6": {
      "model_module": "@jupyter-widgets/controls",
      "model_module_version": "2.0.0",
      "model_name": "HTMLStyleModel",
      "state": {
       "description_width": "",
       "font_size": null,
       "text_color": null
      }
     },
     "790bf0e5b5f744259b63a642173e83d5": {
      "model_module": "@jupyter-widgets/controls",
      "model_module_version": "2.0.0",
      "model_name": "HTMLModel",
      "state": {
       "layout": "IPY_MODEL_23b1d454ae0043379a3914beac60d35c",
       "style": "IPY_MODEL_7dacdd962f394a20987492b067091c2a",
       "value": "100%"
      }
     },
     "7bda2b66c8774a66be8c45ab452b5b26": {
      "model_module": "@jupyter-widgets/controls",
      "model_module_version": "2.0.0",
      "model_name": "ProgressStyleModel",
      "state": {
       "description_width": ""
      }
     },
     "7dacdd962f394a20987492b067091c2a": {
      "model_module": "@jupyter-widgets/controls",
      "model_module_version": "2.0.0",
      "model_name": "HTMLStyleModel",
      "state": {
       "description_width": "",
       "font_size": null,
       "text_color": null
      }
     },
     "816ad3b55a7742199730606ae288b62a": {
      "model_module": "@jupyter-widgets/controls",
      "model_module_version": "2.0.0",
      "model_name": "ProgressStyleModel",
      "state": {
       "description_width": ""
      }
     },
     "86a54d5db62f42c1b97ae80740af978d": {
      "model_module": "@jupyter-widgets/controls",
      "model_module_version": "2.0.0",
      "model_name": "HTMLModel",
      "state": {
       "layout": "IPY_MODEL_604135d918bf427199019ca45bc05bf9",
       "style": "IPY_MODEL_b38f431d1edf487ba55d2fdbb8775b68",
       "value": "100%"
      }
     },
     "a8e2da45882549b2b0f01035cc1e7098": {
      "model_module": "@jupyter-widgets/controls",
      "model_module_version": "2.0.0",
      "model_name": "HTMLModel",
      "state": {
       "layout": "IPY_MODEL_5e9239f22efb4c31bd046da2a82bffa7",
       "style": "IPY_MODEL_74720937e5fd49e28fb03db5968d54c6",
       "value": "100%"
      }
     },
     "ab3a23b37afa4945bacc96e07f9bbca6": {
      "model_module": "@jupyter-widgets/base",
      "model_module_version": "2.0.0",
      "model_name": "LayoutModel",
      "state": {}
     },
     "b38f431d1edf487ba55d2fdbb8775b68": {
      "model_module": "@jupyter-widgets/controls",
      "model_module_version": "2.0.0",
      "model_name": "HTMLStyleModel",
      "state": {
       "description_width": "",
       "font_size": null,
       "text_color": null
      }
     },
     "b6048182e6094526bbd932eaa3a12c23": {
      "model_module": "@jupyter-widgets/base",
      "model_module_version": "2.0.0",
      "model_name": "LayoutModel",
      "state": {}
     },
     "b82685db06bf418a934aa37d64344ca9": {
      "model_module": "@jupyter-widgets/controls",
      "model_module_version": "2.0.0",
      "model_name": "HBoxModel",
      "state": {
       "children": [
        "IPY_MODEL_790bf0e5b5f744259b63a642173e83d5",
        "IPY_MODEL_6be5eb23bd7c4110b9df6b5437ba37ec",
        "IPY_MODEL_358f0c29441d4dbf9f73b4e6cbca5034"
       ],
       "layout": "IPY_MODEL_b94499476f0340049c05bb44e966f526"
      }
     },
     "b94499476f0340049c05bb44e966f526": {
      "model_module": "@jupyter-widgets/base",
      "model_module_version": "2.0.0",
      "model_name": "LayoutModel",
      "state": {}
     },
     "c3b4b8d255a84bbb8380ddd264c5e978": {
      "model_module": "@jupyter-widgets/controls",
      "model_module_version": "2.0.0",
      "model_name": "HTMLStyleModel",
      "state": {
       "description_width": "",
       "font_size": null,
       "text_color": null
      }
     },
     "dcd0dca4adad45d3a7c821308e97d032": {
      "model_module": "@jupyter-widgets/base",
      "model_module_version": "2.0.0",
      "model_name": "LayoutModel",
      "state": {}
     },
     "e1332c98680345e18d2bda360084b9fa": {
      "model_module": "@jupyter-widgets/controls",
      "model_module_version": "2.0.0",
      "model_name": "HBoxModel",
      "state": {
       "children": [
        "IPY_MODEL_fb121fe8f4924b57a6bf8009acf7ecb0",
        "IPY_MODEL_e7cc778528f049ed95fc0d483133c5b8",
        "IPY_MODEL_e7ad5d3873a74f3d9c5c5ae3a789d8bb"
       ],
       "layout": "IPY_MODEL_ab3a23b37afa4945bacc96e07f9bbca6"
      }
     },
     "e7ad5d3873a74f3d9c5c5ae3a789d8bb": {
      "model_module": "@jupyter-widgets/controls",
      "model_module_version": "2.0.0",
      "model_name": "HTMLModel",
      "state": {
       "layout": "IPY_MODEL_eeff7264d67d4af6bc3a56609fe75fd9",
       "style": "IPY_MODEL_38e4d3c75d7d4bc88aaa420d187fd060",
       "value": " 10000/10000 [00:06&lt;00:00, 1504.51it/s]"
      }
     },
     "e7cc778528f049ed95fc0d483133c5b8": {
      "model_module": "@jupyter-widgets/controls",
      "model_module_version": "2.0.0",
      "model_name": "FloatProgressModel",
      "state": {
       "bar_style": "success",
       "layout": "IPY_MODEL_b6048182e6094526bbd932eaa3a12c23",
       "max": 10000,
       "style": "IPY_MODEL_60421aea48f74844986b534011b13344",
       "value": 10000
      }
     },
     "eeff7264d67d4af6bc3a56609fe75fd9": {
      "model_module": "@jupyter-widgets/base",
      "model_module_version": "2.0.0",
      "model_name": "LayoutModel",
      "state": {}
     },
     "f285f1fd16b4412495d9ef03c9783098": {
      "model_module": "@jupyter-widgets/controls",
      "model_module_version": "2.0.0",
      "model_name": "HTMLModel",
      "state": {
       "layout": "IPY_MODEL_06b98301debd49ff97d8d6d92da354e1",
       "style": "IPY_MODEL_374752bf44b141f6a9a4f677d19379b8",
       "value": " 10000/10000 [00:05&lt;00:00, 2046.90it/s]"
      }
     },
     "fb121fe8f4924b57a6bf8009acf7ecb0": {
      "model_module": "@jupyter-widgets/controls",
      "model_module_version": "2.0.0",
      "model_name": "HTMLModel",
      "state": {
       "layout": "IPY_MODEL_4ebf0eba52fa4628be618cd6a7b571b9",
       "style": "IPY_MODEL_1dfe409f3ac7430b8e955fe255dcabba",
       "value": "100%"
      }
     },
     "fc511657dc6c46909f0c900e59f95018": {
      "model_module": "@jupyter-widgets/base",
      "model_module_version": "2.0.0",
      "model_name": "LayoutModel",
      "state": {}
     }
    },
    "version_major": 2,
    "version_minor": 0
   }
  }
 },
 "nbformat": 4,
 "nbformat_minor": 4
}
