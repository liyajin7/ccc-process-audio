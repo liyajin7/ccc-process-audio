{
 "cells": [
  {
   "cell_type": "code",
   "execution_count": null,
   "metadata": {
    "tags": []
   },
   "outputs": [],
   "source": [
    "import os\n",
    "import gzip\n",
    "import random\n",
    "import logging\n",
    "\n",
    "import numpy as np\n",
    "import pandas as pd\n",
    "\n",
    "from IPython.display import display\n",
    "from tqdm.notebook import tqdm"
   ]
  },
  {
   "cell_type": "code",
   "execution_count": null,
   "metadata": {
    "tags": []
   },
   "outputs": [],
   "source": [
    "logger = logging.getLogger(__name__)\n",
    "\n",
    "fmt = '%(asctime)s : %(levelname)s : %(message)s'\n",
    "logging.basicConfig(format=fmt, level=logging.INFO)"
   ]
  },
  {
   "cell_type": "code",
   "execution_count": null,
   "metadata": {
    "tags": []
   },
   "outputs": [],
   "source": [
    "os.chdir(os.path.expanduser('~/github/masthesis/'))"
   ]
  },
  {
   "cell_type": "markdown",
   "metadata": {},
   "source": [
    "# Params"
   ]
  },
  {
   "cell_type": "code",
   "execution_count": null,
   "metadata": {
    "tags": []
   },
   "outputs": [],
   "source": [
    "n_blocks = 4\n",
    "block_len = 4000  # in seconds\n",
    "thresh_sds = 5"
   ]
  },
  {
   "cell_type": "code",
   "execution_count": null,
   "metadata": {
    "tags": []
   },
   "outputs": [],
   "source": [
    "# just to be safe\n",
    "seed = 2969591811\n",
    "\n",
    "random.seed(seed)\n",
    "np.random.seed(seed)\n",
    "\n",
    "rng = np.random.default_rng(seed=seed)"
   ]
  },
  {
   "cell_type": "markdown",
   "metadata": {},
   "source": [
    "# Load data"
   ]
  },
  {
   "cell_type": "code",
   "execution_count": null,
   "metadata": {
    "tags": []
   },
   "outputs": [],
   "source": [
    "with gzip.open('data/paper-round-3/event-annotated/auto-sample.csv.gz', 'rt') as f:\n",
    "    dat = pd.read_csv(f, parse_dates=['timestamp'])\n",
    "\n",
    "assert dat['id'].nunique() == dat.shape[0]"
   ]
  },
  {
   "cell_type": "code",
   "execution_count": null,
   "metadata": {},
   "outputs": [],
   "source": [
    "with open('data/paper-round-3/event-annotated/auto-sample-embeds.npy', 'rb') as f:\n",
    "    embs = np.load(f)"
   ]
  },
  {
   "cell_type": "markdown",
   "metadata": {},
   "source": [
    "# Estimate mean and SD of sims"
   ]
  },
  {
   "cell_type": "code",
   "execution_count": null,
   "metadata": {},
   "outputs": [],
   "source": [
    "sims = []\n",
    "for year in tqdm(dat['year'].unique()):\n",
    "    year_mask = dat['timestamp'].dt.year == year\n",
    "    \n",
    "    year_kinds = dat.loc[year_mask, 'kind']\n",
    "    year_reltimes = dat.loc[year_mask, 'reltime']\n",
    "    year_reltimes -= year_reltimes.min()\n",
    "    year_embs = embs[year_mask, :]\n",
    "    \n",
    "    total = int(np.ceil((year_reltimes.max() - year_reltimes.min()) / block_len))\n",
    "    starts = pd.Series(np.arange(total)).sample(frac=1, random_state=seed)\n",
    "    ends = starts.apply(lambda p: min(p + n_blocks, total))\n",
    "    \n",
    "    year_sims = {}\n",
    "    for kind in tqdm(dat['kind'].unique()):\n",
    "        kind_sims = []\n",
    "        kind_mask = (year_kinds == kind)\n",
    "        \n",
    "        for start, end in tqdm(zip(starts, ends), total=len(starts)):\n",
    "            time_mask = (year_reltimes >= start * block_len) & (year_reltimes <= end * block_len)\n",
    "            mask = kind_mask & time_mask\n",
    "            if mask.sum() == 0:\n",
    "                continue\n",
    "\n",
    "            if start == starts.max() and mask.sum() < 10000:  # last batch can be small\n",
    "                continue\n",
    "\n",
    "            p0 = rng.permutation(np.asarray(range(mask.sum())))[0:100]\n",
    "            p1 = rng.permutation(np.asarray(range(mask.sum())))[0:100]\n",
    "\n",
    "            tmp = year_embs[mask, :][p0, :] @ year_embs[mask, :][p1, :].T\n",
    "            tmp = pd.Series(tmp.flatten())\n",
    "\n",
    "            kind_sims += [tmp]\n",
    "        kind_sims = pd.concat(kind_sims, axis=0)\n",
    "\n",
    "        year_sims[kind] = kind_sims.rename(kind)\n",
    "\n",
    "    year_sims = pd.concat([\n",
    "        v.describe()\n",
    "        for k, v in year_sims.items()\n",
    "    ], axis=1).loc[['mean', 'std'], :]\n",
    "    year_sims = year_sims.T.assign(year=year).reset_index().rename({'index': 'kind'}, axis=1)\n",
    "\n",
    "    sims += [year_sims]\n",
    "    \n",
    "sims = pd.concat(sims, axis=0).rename({'std': 'sd'}, axis=1)\n",
    "sims['year'] = sims['year'].astype(int)\n",
    "\n",
    "sims['threshold_num_sds'] = thresh_sds\n",
    "sims.loc[(sims['kind'] == 'decahose'), 'threshold_num_sds'] = 4\n",
    "sims.loc[(sims['kind'] == 'radio') & (sims['year'] == 2022), 'threshold_num_sds'] = 3\n",
    "sims['threshold'] = sims['mean'] + sims['threshold_num_sds'] * sims['sd']"
   ]
  },
  {
   "cell_type": "markdown",
   "metadata": {},
   "source": [
    "## Threshold figures"
   ]
  },
  {
   "cell_type": "code",
   "execution_count": null,
   "metadata": {},
   "outputs": [],
   "source": [
    "with pd.option_context('display.float_format', lambda x: '%.5f' % x):\n",
    "    display(sims)"
   ]
  },
  {
   "cell_type": "markdown",
   "metadata": {},
   "source": [
    "# Save thresholds"
   ]
  },
  {
   "cell_type": "code",
   "execution_count": null,
   "metadata": {},
   "outputs": [],
   "source": [
    "sims.to_csv('data/paper-round-3/event-annotated/auto-sample-sim-thresholds.csv', index=False)"
   ]
  },
  {
   "cell_type": "code",
   "execution_count": null,
   "metadata": {},
   "outputs": [],
   "source": []
  }
 ],
 "metadata": {
  "kernelspec": {
   "display_name": "DL",
   "language": "python",
   "name": "dl"
  },
  "language_info": {
   "codemirror_mode": {
    "name": "ipython",
    "version": 3
   },
   "file_extension": ".py",
   "mimetype": "text/x-python",
   "name": "python",
   "nbconvert_exporter": "python",
   "pygments_lexer": "ipython3",
   "version": "3.10.10"
  },
  "widgets": {
   "application/vnd.jupyter.widget-state+json": {
    "state": {
     "008622dcd6754a379fa4e5bc823ae699": {
      "model_module": "@jupyter-widgets/controls",
      "model_module_version": "2.0.0",
      "model_name": "HTMLModel",
      "state": {
       "layout": "IPY_MODEL_23ff34bc422e4e6e819a8a7aeb119e35",
       "style": "IPY_MODEL_23321fcfcc384647aedafa1fb05e6dcd",
       "value": "100%"
      }
     },
     "0242836a1afe4ab7973ea3acb853bb3b": {
      "model_module": "@jupyter-widgets/controls",
      "model_module_version": "2.0.0",
      "model_name": "FloatProgressModel",
      "state": {
       "bar_style": "success",
       "layout": "IPY_MODEL_ef5266085ab2424ab8c57cbc842265cc",
       "max": 1318,
       "style": "IPY_MODEL_eb062e39a6a14518885fe704165ceb8e",
       "value": 1318
      }
     },
     "0275eb51fb064e779c1216593fb184c7": {
      "model_module": "@jupyter-widgets/controls",
      "model_module_version": "2.0.0",
      "model_name": "ProgressStyleModel",
      "state": {
       "description_width": ""
      }
     },
     "0456ac04aedf4ff2a22d68f9e1c7dd6a": {
      "model_module": "@jupyter-widgets/base",
      "model_module_version": "2.0.0",
      "model_name": "LayoutModel",
      "state": {}
     },
     "04a9cbe2e55b44b2a502055ea526ebbd": {
      "model_module": "@jupyter-widgets/base",
      "model_module_version": "2.0.0",
      "model_name": "LayoutModel",
      "state": {}
     },
     "068692f78e98468cb84aabe6825cd040": {
      "model_module": "@jupyter-widgets/base",
      "model_module_version": "2.0.0",
      "model_name": "LayoutModel",
      "state": {}
     },
     "06e5246ce25e4a68b85c437dc695d99b": {
      "model_module": "@jupyter-widgets/controls",
      "model_module_version": "2.0.0",
      "model_name": "HTMLStyleModel",
      "state": {
       "description_width": "",
       "font_size": null,
       "text_color": null
      }
     },
     "08458429c7bd468da603332fae442c53": {
      "model_module": "@jupyter-widgets/controls",
      "model_module_version": "2.0.0",
      "model_name": "HBoxModel",
      "state": {
       "children": [
        "IPY_MODEL_1b2596f0e9724433bed63bdb499dbcc6",
        "IPY_MODEL_26322fc75d8043f09f2fa0a2cd1e943b",
        "IPY_MODEL_2ffe34f374a9424c963e5969781a63bd"
       ],
       "layout": "IPY_MODEL_11a144ab13644811a996aad2ddc7bdb7"
      }
     },
     "09e2f1e7a1ff40058a34db0fe53ce687": {
      "model_module": "@jupyter-widgets/base",
      "model_module_version": "2.0.0",
      "model_name": "LayoutModel",
      "state": {}
     },
     "0ca6ab2b0eda4a1eb88d7128e9fe681e": {
      "model_module": "@jupyter-widgets/controls",
      "model_module_version": "2.0.0",
      "model_name": "HTMLStyleModel",
      "state": {
       "description_width": "",
       "font_size": null,
       "text_color": null
      }
     },
     "0cb51b80e991438c88fb6a56f557a141": {
      "model_module": "@jupyter-widgets/base",
      "model_module_version": "2.0.0",
      "model_name": "LayoutModel",
      "state": {}
     },
     "0e549f653043474ba875de187b2edcd7": {
      "model_module": "@jupyter-widgets/controls",
      "model_module_version": "2.0.0",
      "model_name": "ProgressStyleModel",
      "state": {
       "description_width": ""
      }
     },
     "0fc0ced85c38415a833183dca702208b": {
      "model_module": "@jupyter-widgets/controls",
      "model_module_version": "2.0.0",
      "model_name": "FloatProgressModel",
      "state": {
       "bar_style": "success",
       "layout": "IPY_MODEL_daf2a5ac9ef24f1f9d6f1d5059c44c97",
       "max": 4,
       "style": "IPY_MODEL_ef8f78554a0a4d319dd0edb7d44c6a96",
       "value": 4
      }
     },
     "11a144ab13644811a996aad2ddc7bdb7": {
      "model_module": "@jupyter-widgets/base",
      "model_module_version": "2.0.0",
      "model_name": "LayoutModel",
      "state": {}
     },
     "1463d916a0c34d13adf779cdbec48082": {
      "model_module": "@jupyter-widgets/base",
      "model_module_version": "2.0.0",
      "model_name": "LayoutModel",
      "state": {}
     },
     "151e71b82460493e97f8a3ee884bd0c2": {
      "model_module": "@jupyter-widgets/controls",
      "model_module_version": "2.0.0",
      "model_name": "ProgressStyleModel",
      "state": {
       "description_width": ""
      }
     },
     "16453538f8af48398dae641c18399c6a": {
      "model_module": "@jupyter-widgets/controls",
      "model_module_version": "2.0.0",
      "model_name": "HTMLModel",
      "state": {
       "layout": "IPY_MODEL_9816b94ef36244238772377418804548",
       "style": "IPY_MODEL_56889cfeda0c4c799016fd583e79ddb7",
       "value": " 3/3 [11:32&lt;00:00, 212.83s/it]"
      }
     },
     "1980e119d5654f4d80e1d37d27421bc6": {
      "model_module": "@jupyter-widgets/controls",
      "model_module_version": "2.0.0",
      "model_name": "HBoxModel",
      "state": {
       "children": [
        "IPY_MODEL_a706d9f179c94ecaa428a914571bf091",
        "IPY_MODEL_7d1af956404a4ab1beed949e9ccb7963",
        "IPY_MODEL_2c1815bc1a254360911729fc4cca0e7d"
       ],
       "layout": "IPY_MODEL_84b951debbc740fd99445e8efc71c728"
      }
     },
     "1ac0427d84e74d13a0eadb65bbd0e6ad": {
      "model_module": "@jupyter-widgets/controls",
      "model_module_version": "2.0.0",
      "model_name": "HTMLStyleModel",
      "state": {
       "description_width": "",
       "font_size": null,
       "text_color": null
      }
     },
     "1b2596f0e9724433bed63bdb499dbcc6": {
      "model_module": "@jupyter-widgets/controls",
      "model_module_version": "2.0.0",
      "model_name": "HTMLModel",
      "state": {
       "layout": "IPY_MODEL_3ecd8202ec334be08e1dd99920a04750",
       "style": "IPY_MODEL_0ca6ab2b0eda4a1eb88d7128e9fe681e",
       "value": "100%"
      }
     },
     "1b613c5347c54424b4b74fc10d5e5734": {
      "model_module": "@jupyter-widgets/controls",
      "model_module_version": "2.0.0",
      "model_name": "HTMLStyleModel",
      "state": {
       "description_width": "",
       "font_size": null,
       "text_color": null
      }
     },
     "1b61a7497995474d952805a9c737e989": {
      "model_module": "@jupyter-widgets/controls",
      "model_module_version": "2.0.0",
      "model_name": "HTMLModel",
      "state": {
       "layout": "IPY_MODEL_cc060fe231564902848e20cadfa72942",
       "style": "IPY_MODEL_ffab745e2bd04ca5a7438495a4a9542d",
       "value": " 1340/1340 [02:51&lt;00:00,  8.16it/s]"
      }
     },
     "1be03f8b210b4191a675cbe7c7fc6b27": {
      "model_module": "@jupyter-widgets/controls",
      "model_module_version": "2.0.0",
      "model_name": "ProgressStyleModel",
      "state": {
       "description_width": ""
      }
     },
     "1d435862b3884ff28d077799eda68b87": {
      "model_module": "@jupyter-widgets/base",
      "model_module_version": "2.0.0",
      "model_name": "LayoutModel",
      "state": {}
     },
     "1d7b47bbeed84b3a9cce310eb5c66406": {
      "model_module": "@jupyter-widgets/controls",
      "model_module_version": "2.0.0",
      "model_name": "FloatProgressModel",
      "state": {
       "bar_style": "success",
       "layout": "IPY_MODEL_92e9b57657244aaca4bf48bf72b7f243",
       "max": 1275,
       "style": "IPY_MODEL_0275eb51fb064e779c1216593fb184c7",
       "value": 1275
      }
     },
     "1eb30b80114c407ebb010945f1c9d034": {
      "model_module": "@jupyter-widgets/base",
      "model_module_version": "2.0.0",
      "model_name": "LayoutModel",
      "state": {}
     },
     "1f5b37e143a64347b118278cb150c49d": {
      "model_module": "@jupyter-widgets/controls",
      "model_module_version": "2.0.0",
      "model_name": "FloatProgressModel",
      "state": {
       "bar_style": "success",
       "layout": "IPY_MODEL_86eb1cea5dd540469886a7aa4b2e2e14",
       "max": 3,
       "style": "IPY_MODEL_68ffb426444f482488044e1a1af5522c",
       "value": 3
      }
     },
     "1f8d6fc2387a4677b681bf309bdb0f86": {
      "model_module": "@jupyter-widgets/controls",
      "model_module_version": "2.0.0",
      "model_name": "FloatProgressModel",
      "state": {
       "bar_style": "success",
       "layout": "IPY_MODEL_344b849bb48541888041d0d0f9fc1711",
       "max": 1340,
       "style": "IPY_MODEL_0e549f653043474ba875de187b2edcd7",
       "value": 1340
      }
     },
     "215456ba70434dec97e9ecf355578218": {
      "model_module": "@jupyter-widgets/controls",
      "model_module_version": "2.0.0",
      "model_name": "HTMLStyleModel",
      "state": {
       "description_width": "",
       "font_size": null,
       "text_color": null
      }
     },
     "2229ec63b7684475901849f1dd22af85": {
      "model_module": "@jupyter-widgets/controls",
      "model_module_version": "2.0.0",
      "model_name": "HTMLStyleModel",
      "state": {
       "description_width": "",
       "font_size": null,
       "text_color": null
      }
     },
     "23321fcfcc384647aedafa1fb05e6dcd": {
      "model_module": "@jupyter-widgets/controls",
      "model_module_version": "2.0.0",
      "model_name": "HTMLStyleModel",
      "state": {
       "description_width": "",
       "font_size": null,
       "text_color": null
      }
     },
     "2387304dcda6405f9e49949ae4ad5d6e": {
      "model_module": "@jupyter-widgets/base",
      "model_module_version": "2.0.0",
      "model_name": "LayoutModel",
      "state": {}
     },
     "23ff34bc422e4e6e819a8a7aeb119e35": {
      "model_module": "@jupyter-widgets/base",
      "model_module_version": "2.0.0",
      "model_name": "LayoutModel",
      "state": {}
     },
     "244a887351be43a795b0357ef7d71d39": {
      "model_module": "@jupyter-widgets/controls",
      "model_module_version": "2.0.0",
      "model_name": "ProgressStyleModel",
      "state": {
       "description_width": ""
      }
     },
     "24864a8a49a549f88c3cc172bb4d631d": {
      "model_module": "@jupyter-widgets/controls",
      "model_module_version": "2.0.0",
      "model_name": "HTMLStyleModel",
      "state": {
       "description_width": "",
       "font_size": null,
       "text_color": null
      }
     },
     "25ecdbaffa3a4159ae75d1b8a1f65901": {
      "model_module": "@jupyter-widgets/base",
      "model_module_version": "2.0.0",
      "model_name": "LayoutModel",
      "state": {}
     },
     "26322fc75d8043f09f2fa0a2cd1e943b": {
      "model_module": "@jupyter-widgets/controls",
      "model_module_version": "2.0.0",
      "model_name": "FloatProgressModel",
      "state": {
       "bar_style": "success",
       "layout": "IPY_MODEL_6dbfa25266e24482bee5284e68a4bebb",
       "max": 1275,
       "style": "IPY_MODEL_244a887351be43a795b0357ef7d71d39",
       "value": 1275
      }
     },
     "27c9ba009d844d3b996822c833ad1c82": {
      "model_module": "@jupyter-widgets/controls",
      "model_module_version": "2.0.0",
      "model_name": "HTMLStyleModel",
      "state": {
       "description_width": "",
       "font_size": null,
       "text_color": null
      }
     },
     "27ce30fec01243e28a6b44a9fd3c72e1": {
      "model_module": "@jupyter-widgets/controls",
      "model_module_version": "2.0.0",
      "model_name": "HTMLStyleModel",
      "state": {
       "description_width": "",
       "font_size": null,
       "text_color": null
      }
     },
     "27efd39ed1dd4898b0dac086664fb453": {
      "model_module": "@jupyter-widgets/controls",
      "model_module_version": "2.0.0",
      "model_name": "ProgressStyleModel",
      "state": {
       "description_width": ""
      }
     },
     "2c1815bc1a254360911729fc4cca0e7d": {
      "model_module": "@jupyter-widgets/controls",
      "model_module_version": "2.0.0",
      "model_name": "HTMLModel",
      "state": {
       "layout": "IPY_MODEL_b72de504e1154c528e78129527698db3",
       "style": "IPY_MODEL_7e14b5ab9165458db336ed9647ee2148",
       "value": " 1318/1318 [01:34&lt;00:00, 14.54it/s]"
      }
     },
     "2c8500a4f93b4a7ca146e7cd4c8e1a12": {
      "model_module": "@jupyter-widgets/base",
      "model_module_version": "2.0.0",
      "model_name": "LayoutModel",
      "state": {}
     },
     "2d1e153e380e45b0bbf01cd677958e01": {
      "model_module": "@jupyter-widgets/base",
      "model_module_version": "2.0.0",
      "model_name": "LayoutModel",
      "state": {}
     },
     "2defe8ce45234b29848c370f59a25199": {
      "model_module": "@jupyter-widgets/controls",
      "model_module_version": "2.0.0",
      "model_name": "HTMLStyleModel",
      "state": {
       "description_width": "",
       "font_size": null,
       "text_color": null
      }
     },
     "2f84a6ba48704970a2c9b55b1d7973d3": {
      "model_module": "@jupyter-widgets/base",
      "model_module_version": "2.0.0",
      "model_name": "LayoutModel",
      "state": {}
     },
     "2ffe34f374a9424c963e5969781a63bd": {
      "model_module": "@jupyter-widgets/controls",
      "model_module_version": "2.0.0",
      "model_name": "HTMLModel",
      "state": {
       "layout": "IPY_MODEL_4228b941cdae4808ad81b0709628b852",
       "style": "IPY_MODEL_24864a8a49a549f88c3cc172bb4d631d",
       "value": " 1275/1275 [01:14&lt;00:00, 17.53it/s]"
      }
     },
     "3084705924f94f6db0dfb6fdfb12ec34": {
      "model_module": "@jupyter-widgets/controls",
      "model_module_version": "2.0.0",
      "model_name": "HTMLModel",
      "state": {
       "layout": "IPY_MODEL_a326acfb9e9e45f19bdf732d679391d0",
       "style": "IPY_MODEL_4ca9571767be415398d09ac283a23686",
       "value": "100%"
      }
     },
     "32c8622c494246d2b7b2ea61db7c9b4a": {
      "model_module": "@jupyter-widgets/base",
      "model_module_version": "2.0.0",
      "model_name": "LayoutModel",
      "state": {}
     },
     "32c8ecd69f7a4f52903e0e7389c9cbc5": {
      "model_module": "@jupyter-widgets/controls",
      "model_module_version": "2.0.0",
      "model_name": "HTMLStyleModel",
      "state": {
       "description_width": "",
       "font_size": null,
       "text_color": null
      }
     },
     "32d4b56d24294b9596ff888020919e30": {
      "model_module": "@jupyter-widgets/base",
      "model_module_version": "2.0.0",
      "model_name": "LayoutModel",
      "state": {}
     },
     "3387348885a54822826a50d00809581b": {
      "model_module": "@jupyter-widgets/base",
      "model_module_version": "2.0.0",
      "model_name": "LayoutModel",
      "state": {}
     },
     "33eb7f61cf1b46eb92ea3c7a9d7672b9": {
      "model_module": "@jupyter-widgets/controls",
      "model_module_version": "2.0.0",
      "model_name": "HTMLModel",
      "state": {
       "layout": "IPY_MODEL_1d435862b3884ff28d077799eda68b87",
       "style": "IPY_MODEL_8e8d1925963844c8b6319e1d331189ae",
       "value": "100%"
      }
     },
     "344b849bb48541888041d0d0f9fc1711": {
      "model_module": "@jupyter-widgets/base",
      "model_module_version": "2.0.0",
      "model_name": "LayoutModel",
      "state": {}
     },
     "36e744db99364512ab7900d26b461436": {
      "model_module": "@jupyter-widgets/base",
      "model_module_version": "2.0.0",
      "model_name": "LayoutModel",
      "state": {}
     },
     "3b0f59a1fb7f417494b812d74b33c1ce": {
      "model_module": "@jupyter-widgets/controls",
      "model_module_version": "2.0.0",
      "model_name": "FloatProgressModel",
      "state": {
       "bar_style": "success",
       "layout": "IPY_MODEL_b2f811c2848c438696f773992176e20e",
       "max": 3,
       "style": "IPY_MODEL_1be03f8b210b4191a675cbe7c7fc6b27",
       "value": 3
      }
     },
     "3e667a796652479b9b1dfc24e1188e57": {
      "model_module": "@jupyter-widgets/controls",
      "model_module_version": "2.0.0",
      "model_name": "HTMLStyleModel",
      "state": {
       "description_width": "",
       "font_size": null,
       "text_color": null
      }
     },
     "3ecd8202ec334be08e1dd99920a04750": {
      "model_module": "@jupyter-widgets/base",
      "model_module_version": "2.0.0",
      "model_name": "LayoutModel",
      "state": {}
     },
     "406ea1b2de5b418082602a70511820b8": {
      "model_module": "@jupyter-widgets/controls",
      "model_module_version": "2.0.0",
      "model_name": "HTMLModel",
      "state": {
       "layout": "IPY_MODEL_dbc97c2ed15745a8b6e353f5224b82a4",
       "style": "IPY_MODEL_ec83c66dca004ef7ae4ce69c8358c2eb",
       "value": " 4/4 [26:27&lt;00:00, 346.55s/it]"
      }
     },
     "4228b941cdae4808ad81b0709628b852": {
      "model_module": "@jupyter-widgets/base",
      "model_module_version": "2.0.0",
      "model_name": "LayoutModel",
      "state": {}
     },
     "43341962178b474db5bd4416361e5b4f": {
      "model_module": "@jupyter-widgets/controls",
      "model_module_version": "2.0.0",
      "model_name": "HBoxModel",
      "state": {
       "children": [
        "IPY_MODEL_b1708665ddcf447594561077a51f53c1",
        "IPY_MODEL_3b0f59a1fb7f417494b812d74b33c1ce",
        "IPY_MODEL_16453538f8af48398dae641c18399c6a"
       ],
       "layout": "IPY_MODEL_a870d67eba4c4b86bd6eb8595c8bf38f"
      }
     },
     "449b2f93c09e46f3bb879fe20d971ce9": {
      "model_module": "@jupyter-widgets/controls",
      "model_module_version": "2.0.0",
      "model_name": "ProgressStyleModel",
      "state": {
       "description_width": ""
      }
     },
     "472169046c384f0dbcc7755122eb47e3": {
      "model_module": "@jupyter-widgets/controls",
      "model_module_version": "2.0.0",
      "model_name": "HTMLModel",
      "state": {
       "layout": "IPY_MODEL_2c8500a4f93b4a7ca146e7cd4c8e1a12",
       "style": "IPY_MODEL_ec194258fa96418e817f87ae914acb50",
       "value": "100%"
      }
     },
     "47b6989796b14c45a8a86857b7e2f1e4": {
      "model_module": "@jupyter-widgets/base",
      "model_module_version": "2.0.0",
      "model_name": "LayoutModel",
      "state": {}
     },
     "482ebba3178840eaa052d16d97caaab9": {
      "model_module": "@jupyter-widgets/base",
      "model_module_version": "2.0.0",
      "model_name": "LayoutModel",
      "state": {}
     },
     "496391b9ec17469c952e154a52a3f8b5": {
      "model_module": "@jupyter-widgets/base",
      "model_module_version": "2.0.0",
      "model_name": "LayoutModel",
      "state": {}
     },
     "4bc6ca2ca1b74c92bdf42a996fa50e8a": {
      "model_module": "@jupyter-widgets/controls",
      "model_module_version": "2.0.0",
      "model_name": "HTMLStyleModel",
      "state": {
       "description_width": "",
       "font_size": null,
       "text_color": null
      }
     },
     "4ca9571767be415398d09ac283a23686": {
      "model_module": "@jupyter-widgets/controls",
      "model_module_version": "2.0.0",
      "model_name": "HTMLStyleModel",
      "state": {
       "description_width": "",
       "font_size": null,
       "text_color": null
      }
     },
     "4d2986344e8d4d38b5607c00474ef89d": {
      "model_module": "@jupyter-widgets/base",
      "model_module_version": "2.0.0",
      "model_name": "LayoutModel",
      "state": {}
     },
     "4e2f252656f54a3ba2e52a6ff48900a4": {
      "model_module": "@jupyter-widgets/base",
      "model_module_version": "2.0.0",
      "model_name": "LayoutModel",
      "state": {}
     },
     "4eb3e02ef2c14ce0ac573da62367010e": {
      "model_module": "@jupyter-widgets/controls",
      "model_module_version": "2.0.0",
      "model_name": "HBoxModel",
      "state": {
       "children": [
        "IPY_MODEL_6d4ac8b1f77c488e84a45db25f0863a7",
        "IPY_MODEL_1d7b47bbeed84b3a9cce310eb5c66406",
        "IPY_MODEL_e9ada0a99cdd4ed0b3303095e7f7a42b"
       ],
       "layout": "IPY_MODEL_36e744db99364512ab7900d26b461436"
      }
     },
     "53f6df7ace61412a957701c3bd9fbc9e": {
      "model_module": "@jupyter-widgets/base",
      "model_module_version": "2.0.0",
      "model_name": "LayoutModel",
      "state": {}
     },
     "540a8ca9b39e42b5a90306bae8ec9fc7": {
      "model_module": "@jupyter-widgets/controls",
      "model_module_version": "2.0.0",
      "model_name": "ProgressStyleModel",
      "state": {
       "description_width": ""
      }
     },
     "54f691dd542f4768ac2c6b05d4105a33": {
      "model_module": "@jupyter-widgets/controls",
      "model_module_version": "2.0.0",
      "model_name": "HTMLModel",
      "state": {
       "layout": "IPY_MODEL_9813177f2d874de991be96e65a5a8f38",
       "style": "IPY_MODEL_ca2c2c0cb58849ecac04d05d413157fa",
       "value": "100%"
      }
     },
     "568568937bac4f20943d79e6bdaa6ea2": {
      "model_module": "@jupyter-widgets/controls",
      "model_module_version": "2.0.0",
      "model_name": "ProgressStyleModel",
      "state": {
       "description_width": ""
      }
     },
     "56889cfeda0c4c799016fd583e79ddb7": {
      "model_module": "@jupyter-widgets/controls",
      "model_module_version": "2.0.0",
      "model_name": "HTMLStyleModel",
      "state": {
       "description_width": "",
       "font_size": null,
       "text_color": null
      }
     },
     "572fc0d94c7c4c079276239f856d938c": {
      "model_module": "@jupyter-widgets/controls",
      "model_module_version": "2.0.0",
      "model_name": "HTMLModel",
      "state": {
       "layout": "IPY_MODEL_4e2f252656f54a3ba2e52a6ff48900a4",
       "style": "IPY_MODEL_32c8ecd69f7a4f52903e0e7389c9cbc5",
       "value": " 1340/1340 [01:47&lt;00:00, 12.36it/s]"
      }
     },
     "5784139e64b44e2ebb97eac51da16e03": {
      "model_module": "@jupyter-widgets/base",
      "model_module_version": "2.0.0",
      "model_name": "LayoutModel",
      "state": {}
     },
     "5a7a6ccb36e547de9f01db9c84070a7d": {
      "model_module": "@jupyter-widgets/base",
      "model_module_version": "2.0.0",
      "model_name": "LayoutModel",
      "state": {}
     },
     "5cf535069fc740009115cc197ffd919f": {
      "model_module": "@jupyter-widgets/controls",
      "model_module_version": "2.0.0",
      "model_name": "HTMLModel",
      "state": {
       "layout": "IPY_MODEL_32c8622c494246d2b7b2ea61db7c9b4a",
       "style": "IPY_MODEL_27ce30fec01243e28a6b44a9fd3c72e1",
       "value": " 1340/1340 [02:56&lt;00:00,  7.52it/s]"
      }
     },
     "5e896f7f852c4762bf975149abf10e6b": {
      "model_module": "@jupyter-widgets/base",
      "model_module_version": "2.0.0",
      "model_name": "LayoutModel",
      "state": {}
     },
     "5fc766d49ad2470cab9d9400c10d3390": {
      "model_module": "@jupyter-widgets/base",
      "model_module_version": "2.0.0",
      "model_name": "LayoutModel",
      "state": {}
     },
     "63fad30c99204918ba43952916c098ee": {
      "model_module": "@jupyter-widgets/controls",
      "model_module_version": "2.0.0",
      "model_name": "HTMLModel",
      "state": {
       "layout": "IPY_MODEL_09e2f1e7a1ff40058a34db0fe53ce687",
       "style": "IPY_MODEL_06e5246ce25e4a68b85c437dc695d99b",
       "value": " 1318/1318 [01:04&lt;00:00, 20.96it/s]"
      }
     },
     "6622fbca743149d6863cc6018d2d775b": {
      "model_module": "@jupyter-widgets/base",
      "model_module_version": "2.0.0",
      "model_name": "LayoutModel",
      "state": {}
     },
     "68f1464dc234457fafa85fc730116983": {
      "model_module": "@jupyter-widgets/base",
      "model_module_version": "2.0.0",
      "model_name": "LayoutModel",
      "state": {}
     },
     "68ffb426444f482488044e1a1af5522c": {
      "model_module": "@jupyter-widgets/controls",
      "model_module_version": "2.0.0",
      "model_name": "ProgressStyleModel",
      "state": {
       "description_width": ""
      }
     },
     "69bc3308e47b478cb04c18ef5396b3b6": {
      "model_module": "@jupyter-widgets/controls",
      "model_module_version": "2.0.0",
      "model_name": "HTMLModel",
      "state": {
       "layout": "IPY_MODEL_a4ccb5e080354c4e952280b57bb7f23a",
       "style": "IPY_MODEL_9059e942a4794a30b453d6734cfde2aa",
       "value": "100%"
      }
     },
     "6b694b685a464181964f12c7170e8cca": {
      "model_module": "@jupyter-widgets/base",
      "model_module_version": "2.0.0",
      "model_name": "LayoutModel",
      "state": {}
     },
     "6bcacfb228fc4247b1dd622f24bc6469": {
      "model_module": "@jupyter-widgets/controls",
      "model_module_version": "2.0.0",
      "model_name": "FloatProgressModel",
      "state": {
       "bar_style": "success",
       "layout": "IPY_MODEL_496391b9ec17469c952e154a52a3f8b5",
       "max": 1275,
       "style": "IPY_MODEL_c63f29c0773a46aea66134994e56414e",
       "value": 1275
      }
     },
     "6d3764f9d59b438b883ad14cc368e322": {
      "model_module": "@jupyter-widgets/base",
      "model_module_version": "2.0.0",
      "model_name": "LayoutModel",
      "state": {}
     },
     "6d4ac8b1f77c488e84a45db25f0863a7": {
      "model_module": "@jupyter-widgets/controls",
      "model_module_version": "2.0.0",
      "model_name": "HTMLModel",
      "state": {
       "layout": "IPY_MODEL_2f84a6ba48704970a2c9b55b1d7973d3",
       "style": "IPY_MODEL_c746aef2e87840d39d658e6263b2bd50",
       "value": "100%"
      }
     },
     "6dbfa25266e24482bee5284e68a4bebb": {
      "model_module": "@jupyter-widgets/base",
      "model_module_version": "2.0.0",
      "model_name": "LayoutModel",
      "state": {}
     },
     "6de9136faea542dd92dd88f1373229d7": {
      "model_module": "@jupyter-widgets/controls",
      "model_module_version": "2.0.0",
      "model_name": "HTMLModel",
      "state": {
       "layout": "IPY_MODEL_d8af94bb66124c09b94be9650eac6dc1",
       "style": "IPY_MODEL_c8f55bcf8156426ba562c6fb5b14b883",
       "value": "100%"
      }
     },
     "71c677124a7d45f39b2e52877ac6a26a": {
      "model_module": "@jupyter-widgets/base",
      "model_module_version": "2.0.0",
      "model_name": "LayoutModel",
      "state": {}
     },
     "7775fa30018e43388c8c557589cf0ffa": {
      "model_module": "@jupyter-widgets/controls",
      "model_module_version": "2.0.0",
      "model_name": "HTMLModel",
      "state": {
       "layout": "IPY_MODEL_1eb30b80114c407ebb010945f1c9d034",
       "style": "IPY_MODEL_27c9ba009d844d3b996822c833ad1c82",
       "value": " 3/3 [03:16&lt;00:00, 62.61s/it]"
      }
     },
     "780b3e0d7d854b35a155661b895516ae": {
      "model_module": "@jupyter-widgets/controls",
      "model_module_version": "2.0.0",
      "model_name": "ProgressStyleModel",
      "state": {
       "description_width": ""
      }
     },
     "79466a445ac144509aef470685bb01fa": {
      "model_module": "@jupyter-widgets/controls",
      "model_module_version": "2.0.0",
      "model_name": "HBoxModel",
      "state": {
       "children": [
        "IPY_MODEL_33eb7f61cf1b46eb92ea3c7a9d7672b9",
        "IPY_MODEL_a03b22f656bf442b9e83b48893f833b8",
        "IPY_MODEL_572fc0d94c7c4c079276239f856d938c"
       ],
       "layout": "IPY_MODEL_68f1464dc234457fafa85fc730116983"
      }
     },
     "7d1af956404a4ab1beed949e9ccb7963": {
      "model_module": "@jupyter-widgets/controls",
      "model_module_version": "2.0.0",
      "model_name": "FloatProgressModel",
      "state": {
       "bar_style": "success",
       "layout": "IPY_MODEL_47b6989796b14c45a8a86857b7e2f1e4",
       "max": 1318,
       "style": "IPY_MODEL_cfd40306286d4c04bab849100ca62f3b",
       "value": 1318
      }
     },
     "7d55d593fda3477c9a9020a337771915": {
      "model_module": "@jupyter-widgets/base",
      "model_module_version": "2.0.0",
      "model_name": "LayoutModel",
      "state": {}
     },
     "7dfeb9372e1d455db0b99898fd3ca374": {
      "model_module": "@jupyter-widgets/controls",
      "model_module_version": "2.0.0",
      "model_name": "HTMLModel",
      "state": {
       "layout": "IPY_MODEL_6b694b685a464181964f12c7170e8cca",
       "style": "IPY_MODEL_1ac0427d84e74d13a0eadb65bbd0e6ad",
       "value": " 1275/1275 [01:14&lt;00:00, 17.51it/s]"
      }
     },
     "7e14b5ab9165458db336ed9647ee2148": {
      "model_module": "@jupyter-widgets/controls",
      "model_module_version": "2.0.0",
      "model_name": "HTMLStyleModel",
      "state": {
       "description_width": "",
       "font_size": null,
       "text_color": null
      }
     },
     "7ef2aeb61fe74289b38eb3c3666e51d8": {
      "model_module": "@jupyter-widgets/controls",
      "model_module_version": "2.0.0",
      "model_name": "HTMLModel",
      "state": {
       "layout": "IPY_MODEL_71c677124a7d45f39b2e52877ac6a26a",
       "style": "IPY_MODEL_ba7648a1ecc54156a092371f7650cc30",
       "value": "100%"
      }
     },
     "83edb08e2ab8452d89d569818a43ef81": {
      "model_module": "@jupyter-widgets/controls",
      "model_module_version": "2.0.0",
      "model_name": "HTMLModel",
      "state": {
       "layout": "IPY_MODEL_1463d916a0c34d13adf779cdbec48082",
       "style": "IPY_MODEL_1b613c5347c54424b4b74fc10d5e5734",
       "value": " 1340/1340 [02:36&lt;00:00,  8.96it/s]"
      }
     },
     "84b951debbc740fd99445e8efc71c728": {
      "model_module": "@jupyter-widgets/base",
      "model_module_version": "2.0.0",
      "model_name": "LayoutModel",
      "state": {}
     },
     "86eb1cea5dd540469886a7aa4b2e2e14": {
      "model_module": "@jupyter-widgets/base",
      "model_module_version": "2.0.0",
      "model_name": "LayoutModel",
      "state": {}
     },
     "8873803c5ef14167aee8d0b0d4a941dd": {
      "model_module": "@jupyter-widgets/base",
      "model_module_version": "2.0.0",
      "model_name": "LayoutModel",
      "state": {}
     },
     "8ae7caf42fe7463f9cc083a205243f6b": {
      "model_module": "@jupyter-widgets/controls",
      "model_module_version": "2.0.0",
      "model_name": "HTMLModel",
      "state": {
       "layout": "IPY_MODEL_6622fbca743149d6863cc6018d2d775b",
       "style": "IPY_MODEL_3e667a796652479b9b1dfc24e1188e57",
       "value": "100%"
      }
     },
     "8b35c158d0d745889349e92fe524f237": {
      "model_module": "@jupyter-widgets/controls",
      "model_module_version": "2.0.0",
      "model_name": "HTMLModel",
      "state": {
       "layout": "IPY_MODEL_9f324f83c9414b258251c3bfe530d6d6",
       "style": "IPY_MODEL_4bc6ca2ca1b74c92bdf42a996fa50e8a",
       "value": " 3/3 [06:13&lt;00:00, 119.05s/it]"
      }
     },
     "8b8182445d5f4f6c887ab8fd1a52b5ab": {
      "model_module": "@jupyter-widgets/controls",
      "model_module_version": "2.0.0",
      "model_name": "HBoxModel",
      "state": {
       "children": [
        "IPY_MODEL_69bc3308e47b478cb04c18ef5396b3b6",
        "IPY_MODEL_f0aeb83a4fd64d3182fdcad1c4956023",
        "IPY_MODEL_1b61a7497995474d952805a9c737e989"
       ],
       "layout": "IPY_MODEL_2387304dcda6405f9e49949ae4ad5d6e"
      }
     },
     "8ca760b54fd8457698417409bcac1010": {
      "model_module": "@jupyter-widgets/controls",
      "model_module_version": "2.0.0",
      "model_name": "HBoxModel",
      "state": {
       "children": [
        "IPY_MODEL_7ef2aeb61fe74289b38eb3c3666e51d8",
        "IPY_MODEL_a8b5e521e4814beeb277333314c81a90",
        "IPY_MODEL_9a4ab3f7f36a4ca395a5b8bb8aa1395e"
       ],
       "layout": "IPY_MODEL_942b86eedcba4bfab0652283c4b5f5be"
      }
     },
     "8cca1865cdcf4f34a149048e7b056185": {
      "model_module": "@jupyter-widgets/base",
      "model_module_version": "2.0.0",
      "model_name": "LayoutModel",
      "state": {}
     },
     "8e8d1925963844c8b6319e1d331189ae": {
      "model_module": "@jupyter-widgets/controls",
      "model_module_version": "2.0.0",
      "model_name": "HTMLStyleModel",
      "state": {
       "description_width": "",
       "font_size": null,
       "text_color": null
      }
     },
     "8ec8177852534bb380142586b148f6f7": {
      "model_module": "@jupyter-widgets/controls",
      "model_module_version": "2.0.0",
      "model_name": "FloatProgressModel",
      "state": {
       "bar_style": "success",
       "layout": "IPY_MODEL_cf2965c76fd640d8b92222dc4eda74ee",
       "max": 1340,
       "style": "IPY_MODEL_8fc1e968ed0d4b7da652d0d0cffb3150",
       "value": 1340
      }
     },
     "8fc1e968ed0d4b7da652d0d0cffb3150": {
      "model_module": "@jupyter-widgets/controls",
      "model_module_version": "2.0.0",
      "model_name": "ProgressStyleModel",
      "state": {
       "description_width": ""
      }
     },
     "9059e942a4794a30b453d6734cfde2aa": {
      "model_module": "@jupyter-widgets/controls",
      "model_module_version": "2.0.0",
      "model_name": "HTMLStyleModel",
      "state": {
       "description_width": "",
       "font_size": null,
       "text_color": null
      }
     },
     "9060cdc7bb2c4725ba938e5e96648081": {
      "model_module": "@jupyter-widgets/controls",
      "model_module_version": "2.0.0",
      "model_name": "HBoxModel",
      "state": {
       "children": [
        "IPY_MODEL_8ae7caf42fe7463f9cc083a205243f6b",
        "IPY_MODEL_a8ea8c525e75483c9f691e56dc149def",
        "IPY_MODEL_5cf535069fc740009115cc197ffd919f"
       ],
       "layout": "IPY_MODEL_5fc766d49ad2470cab9d9400c10d3390"
      }
     },
     "926c3424772b4728be9b0130602e2ca4": {
      "model_module": "@jupyter-widgets/controls",
      "model_module_version": "2.0.0",
      "model_name": "FloatProgressModel",
      "state": {
       "bar_style": "success",
       "layout": "IPY_MODEL_5784139e64b44e2ebb97eac51da16e03",
       "max": 3,
       "style": "IPY_MODEL_540a8ca9b39e42b5a90306bae8ec9fc7",
       "value": 3
      }
     },
     "92e9b57657244aaca4bf48bf72b7f243": {
      "model_module": "@jupyter-widgets/base",
      "model_module_version": "2.0.0",
      "model_name": "LayoutModel",
      "state": {}
     },
     "942b86eedcba4bfab0652283c4b5f5be": {
      "model_module": "@jupyter-widgets/base",
      "model_module_version": "2.0.0",
      "model_name": "LayoutModel",
      "state": {}
     },
     "9813177f2d874de991be96e65a5a8f38": {
      "model_module": "@jupyter-widgets/base",
      "model_module_version": "2.0.0",
      "model_name": "LayoutModel",
      "state": {}
     },
     "9816b94ef36244238772377418804548": {
      "model_module": "@jupyter-widgets/base",
      "model_module_version": "2.0.0",
      "model_name": "LayoutModel",
      "state": {}
     },
     "998900b3d56e40baa96e6c61b4f53aff": {
      "model_module": "@jupyter-widgets/base",
      "model_module_version": "2.0.0",
      "model_name": "LayoutModel",
      "state": {}
     },
     "9a4ab3f7f36a4ca395a5b8bb8aa1395e": {
      "model_module": "@jupyter-widgets/controls",
      "model_module_version": "2.0.0",
      "model_name": "HTMLModel",
      "state": {
       "layout": "IPY_MODEL_482ebba3178840eaa052d16d97caaab9",
       "style": "IPY_MODEL_eed623c124914c5a8217ecab683113ae",
       "value": " 1340/1340 [05:41&lt;00:00,  5.10it/s]"
      }
     },
     "9aabd15d5f274c068f23346d4fab7208": {
      "model_module": "@jupyter-widgets/controls",
      "model_module_version": "2.0.0",
      "model_name": "HTMLStyleModel",
      "state": {
       "description_width": "",
       "font_size": null,
       "text_color": null
      }
     },
     "9f324f83c9414b258251c3bfe530d6d6": {
      "model_module": "@jupyter-widgets/base",
      "model_module_version": "2.0.0",
      "model_name": "LayoutModel",
      "state": {}
     },
     "a03b22f656bf442b9e83b48893f833b8": {
      "model_module": "@jupyter-widgets/controls",
      "model_module_version": "2.0.0",
      "model_name": "FloatProgressModel",
      "state": {
       "bar_style": "success",
       "layout": "IPY_MODEL_998900b3d56e40baa96e6c61b4f53aff",
       "max": 1340,
       "style": "IPY_MODEL_ad76f171431246249409ca9404facc09",
       "value": 1340
      }
     },
     "a1403503980b4705ae4d25f7c7040fd5": {
      "model_module": "@jupyter-widgets/controls",
      "model_module_version": "2.0.0",
      "model_name": "HTMLModel",
      "state": {
       "layout": "IPY_MODEL_f78d9632f16547babc380390e8598d2b",
       "style": "IPY_MODEL_9aabd15d5f274c068f23346d4fab7208",
       "value": " 1318/1318 [00:35&lt;00:00, 39.30it/s]"
      }
     },
     "a326acfb9e9e45f19bdf732d679391d0": {
      "model_module": "@jupyter-widgets/base",
      "model_module_version": "2.0.0",
      "model_name": "LayoutModel",
      "state": {}
     },
     "a4ccb5e080354c4e952280b57bb7f23a": {
      "model_module": "@jupyter-widgets/base",
      "model_module_version": "2.0.0",
      "model_name": "LayoutModel",
      "state": {}
     },
     "a706d9f179c94ecaa428a914571bf091": {
      "model_module": "@jupyter-widgets/controls",
      "model_module_version": "2.0.0",
      "model_name": "HTMLModel",
      "state": {
       "layout": "IPY_MODEL_04a9cbe2e55b44b2a502055ea526ebbd",
       "style": "IPY_MODEL_fc05759b122f49a59806b7925f1836f0",
       "value": "100%"
      }
     },
     "a78b7e956e7a4be5a1daa5c19d5d1dd3": {
      "model_module": "@jupyter-widgets/controls",
      "model_module_version": "2.0.0",
      "model_name": "HTMLStyleModel",
      "state": {
       "description_width": "",
       "font_size": null,
       "text_color": null
      }
     },
     "a870d67eba4c4b86bd6eb8595c8bf38f": {
      "model_module": "@jupyter-widgets/base",
      "model_module_version": "2.0.0",
      "model_name": "LayoutModel",
      "state": {}
     },
     "a8b5e521e4814beeb277333314c81a90": {
      "model_module": "@jupyter-widgets/controls",
      "model_module_version": "2.0.0",
      "model_name": "FloatProgressModel",
      "state": {
       "bar_style": "success",
       "layout": "IPY_MODEL_0456ac04aedf4ff2a22d68f9e1c7dd6a",
       "max": 1340,
       "style": "IPY_MODEL_780b3e0d7d854b35a155661b895516ae",
       "value": 1340
      }
     },
     "a8ea8c525e75483c9f691e56dc149def": {
      "model_module": "@jupyter-widgets/controls",
      "model_module_version": "2.0.0",
      "model_name": "FloatProgressModel",
      "state": {
       "bar_style": "success",
       "layout": "IPY_MODEL_ee78483000f3451a810f14ad281490e1",
       "max": 1340,
       "style": "IPY_MODEL_568568937bac4f20943d79e6bdaa6ea2",
       "value": 1340
      }
     },
     "a9af002133d24e3cb6c6821f94cf6bfc": {
      "model_module": "@jupyter-widgets/base",
      "model_module_version": "2.0.0",
      "model_name": "LayoutModel",
      "state": {}
     },
     "aa6428c26d3c42b7a4a8a9f3bab584e5": {
      "model_module": "@jupyter-widgets/controls",
      "model_module_version": "2.0.0",
      "model_name": "HTMLModel",
      "state": {
       "layout": "IPY_MODEL_acc4ac6e6a4649eabfe46073f3170807",
       "style": "IPY_MODEL_2229ec63b7684475901849f1dd22af85",
       "value": "100%"
      }
     },
     "acc4ac6e6a4649eabfe46073f3170807": {
      "model_module": "@jupyter-widgets/base",
      "model_module_version": "2.0.0",
      "model_name": "LayoutModel",
      "state": {}
     },
     "ad76f171431246249409ca9404facc09": {
      "model_module": "@jupyter-widgets/controls",
      "model_module_version": "2.0.0",
      "model_name": "ProgressStyleModel",
      "state": {
       "description_width": ""
      }
     },
     "b0a359091600445ca5bc67c561c07369": {
      "model_module": "@jupyter-widgets/base",
      "model_module_version": "2.0.0",
      "model_name": "LayoutModel",
      "state": {}
     },
     "b1708665ddcf447594561077a51f53c1": {
      "model_module": "@jupyter-widgets/controls",
      "model_module_version": "2.0.0",
      "model_name": "HTMLModel",
      "state": {
       "layout": "IPY_MODEL_3387348885a54822826a50d00809581b",
       "style": "IPY_MODEL_f0520a1887264540a628d8aed0343303",
       "value": "100%"
      }
     },
     "b2f811c2848c438696f773992176e20e": {
      "model_module": "@jupyter-widgets/base",
      "model_module_version": "2.0.0",
      "model_name": "LayoutModel",
      "state": {}
     },
     "b72de504e1154c528e78129527698db3": {
      "model_module": "@jupyter-widgets/base",
      "model_module_version": "2.0.0",
      "model_name": "LayoutModel",
      "state": {}
     },
     "ba6baadeac6149159b356ab000315f8f": {
      "model_module": "@jupyter-widgets/controls",
      "model_module_version": "2.0.0",
      "model_name": "HBoxModel",
      "state": {
       "children": [
        "IPY_MODEL_aa6428c26d3c42b7a4a8a9f3bab584e5",
        "IPY_MODEL_d280e574f18e4e63ac32d3e3574544e1",
        "IPY_MODEL_a1403503980b4705ae4d25f7c7040fd5"
       ],
       "layout": "IPY_MODEL_8873803c5ef14167aee8d0b0d4a941dd"
      }
     },
     "ba7648a1ecc54156a092371f7650cc30": {
      "model_module": "@jupyter-widgets/controls",
      "model_module_version": "2.0.0",
      "model_name": "HTMLStyleModel",
      "state": {
       "description_width": "",
       "font_size": null,
       "text_color": null
      }
     },
     "bbee4c6f2d734927a1e59b4aadbc1d39": {
      "model_module": "@jupyter-widgets/controls",
      "model_module_version": "2.0.0",
      "model_name": "HBoxModel",
      "state": {
       "children": [
        "IPY_MODEL_ef0f23348c7240b1a0586c8635d93244",
        "IPY_MODEL_1f8d6fc2387a4677b681bf309bdb0f86",
        "IPY_MODEL_83edb08e2ab8452d89d569818a43ef81"
       ],
       "layout": "IPY_MODEL_53f6df7ace61412a957701c3bd9fbc9e"
      }
     },
     "bd923a777b8844b9a0e41555571a8bf2": {
      "model_module": "@jupyter-widgets/base",
      "model_module_version": "2.0.0",
      "model_name": "LayoutModel",
      "state": {}
     },
     "c2e8c0862535467c96cf98b70fbfdcb2": {
      "model_module": "@jupyter-widgets/controls",
      "model_module_version": "2.0.0",
      "model_name": "HTMLModel",
      "state": {
       "layout": "IPY_MODEL_7d55d593fda3477c9a9020a337771915",
       "style": "IPY_MODEL_d1dac363248e4f2186b45031bf1b5e6e",
       "value": "100%"
      }
     },
     "c63f29c0773a46aea66134994e56414e": {
      "model_module": "@jupyter-widgets/controls",
      "model_module_version": "2.0.0",
      "model_name": "ProgressStyleModel",
      "state": {
       "description_width": ""
      }
     },
     "c746aef2e87840d39d658e6263b2bd50": {
      "model_module": "@jupyter-widgets/controls",
      "model_module_version": "2.0.0",
      "model_name": "HTMLStyleModel",
      "state": {
       "description_width": "",
       "font_size": null,
       "text_color": null
      }
     },
     "c80494593f544f09894eb0fe8f1a4f1a": {
      "model_module": "@jupyter-widgets/controls",
      "model_module_version": "2.0.0",
      "model_name": "HBoxModel",
      "state": {
       "children": [
        "IPY_MODEL_3084705924f94f6db0dfb6fdfb12ec34",
        "IPY_MODEL_0242836a1afe4ab7973ea3acb853bb3b",
        "IPY_MODEL_63fad30c99204918ba43952916c098ee"
       ],
       "layout": "IPY_MODEL_8cca1865cdcf4f34a149048e7b056185"
      }
     },
     "c8f55bcf8156426ba562c6fb5b14b883": {
      "model_module": "@jupyter-widgets/controls",
      "model_module_version": "2.0.0",
      "model_name": "HTMLStyleModel",
      "state": {
       "description_width": "",
       "font_size": null,
       "text_color": null
      }
     },
     "c98ea1636893409db9119ef167c8bfbe": {
      "model_module": "@jupyter-widgets/controls",
      "model_module_version": "2.0.0",
      "model_name": "HBoxModel",
      "state": {
       "children": [
        "IPY_MODEL_fa95178e1da3436b9ce161ccabc89de2",
        "IPY_MODEL_1f5b37e143a64347b118278cb150c49d",
        "IPY_MODEL_ee9d223c29a24dbdb75e9dfa441b49c0"
       ],
       "layout": "IPY_MODEL_4d2986344e8d4d38b5607c00474ef89d"
      }
     },
     "ca2c2c0cb58849ecac04d05d413157fa": {
      "model_module": "@jupyter-widgets/controls",
      "model_module_version": "2.0.0",
      "model_name": "HTMLStyleModel",
      "state": {
       "description_width": "",
       "font_size": null,
       "text_color": null
      }
     },
     "cb03c615f04c4d29a1b0a99bde99115d": {
      "model_module": "@jupyter-widgets/controls",
      "model_module_version": "2.0.0",
      "model_name": "HTMLStyleModel",
      "state": {
       "description_width": "",
       "font_size": null,
       "text_color": null
      }
     },
     "cc060fe231564902848e20cadfa72942": {
      "model_module": "@jupyter-widgets/base",
      "model_module_version": "2.0.0",
      "model_name": "LayoutModel",
      "state": {}
     },
     "cedd0af12c73401ba0787f0a3f10214f": {
      "model_module": "@jupyter-widgets/controls",
      "model_module_version": "2.0.0",
      "model_name": "HBoxModel",
      "state": {
       "children": [
        "IPY_MODEL_c2e8c0862535467c96cf98b70fbfdcb2",
        "IPY_MODEL_f8e244cf30114065b9bfcf40864c1bd3",
        "IPY_MODEL_7775fa30018e43388c8c557589cf0ffa"
       ],
       "layout": "IPY_MODEL_5a7a6ccb36e547de9f01db9c84070a7d"
      }
     },
     "cf2965c76fd640d8b92222dc4eda74ee": {
      "model_module": "@jupyter-widgets/base",
      "model_module_version": "2.0.0",
      "model_name": "LayoutModel",
      "state": {}
     },
     "cfd40306286d4c04bab849100ca62f3b": {
      "model_module": "@jupyter-widgets/controls",
      "model_module_version": "2.0.0",
      "model_name": "ProgressStyleModel",
      "state": {
       "description_width": ""
      }
     },
     "d1dac363248e4f2186b45031bf1b5e6e": {
      "model_module": "@jupyter-widgets/controls",
      "model_module_version": "2.0.0",
      "model_name": "HTMLStyleModel",
      "state": {
       "description_width": "",
       "font_size": null,
       "text_color": null
      }
     },
     "d280e574f18e4e63ac32d3e3574544e1": {
      "model_module": "@jupyter-widgets/controls",
      "model_module_version": "2.0.0",
      "model_name": "FloatProgressModel",
      "state": {
       "bar_style": "success",
       "layout": "IPY_MODEL_32d4b56d24294b9596ff888020919e30",
       "max": 1318,
       "style": "IPY_MODEL_27efd39ed1dd4898b0dac086664fb453",
       "value": 1318
      }
     },
     "d6e893471ab44a35aa0500eeab381982": {
      "model_module": "@jupyter-widgets/base",
      "model_module_version": "2.0.0",
      "model_name": "LayoutModel",
      "state": {}
     },
     "d8466e64b9cb4c39952d13966c18ef51": {
      "model_module": "@jupyter-widgets/controls",
      "model_module_version": "2.0.0",
      "model_name": "HBoxModel",
      "state": {
       "children": [
        "IPY_MODEL_54f691dd542f4768ac2c6b05d4105a33",
        "IPY_MODEL_6bcacfb228fc4247b1dd622f24bc6469",
        "IPY_MODEL_7dfeb9372e1d455db0b99898fd3ca374"
       ],
       "layout": "IPY_MODEL_d6e893471ab44a35aa0500eeab381982"
      }
     },
     "d8af94bb66124c09b94be9650eac6dc1": {
      "model_module": "@jupyter-widgets/base",
      "model_module_version": "2.0.0",
      "model_name": "LayoutModel",
      "state": {}
     },
     "daf2a5ac9ef24f1f9d6f1d5059c44c97": {
      "model_module": "@jupyter-widgets/base",
      "model_module_version": "2.0.0",
      "model_name": "LayoutModel",
      "state": {}
     },
     "dbc97c2ed15745a8b6e353f5224b82a4": {
      "model_module": "@jupyter-widgets/base",
      "model_module_version": "2.0.0",
      "model_name": "LayoutModel",
      "state": {}
     },
     "deef49498b4f4c608eb1e26e1bb72430": {
      "model_module": "@jupyter-widgets/controls",
      "model_module_version": "2.0.0",
      "model_name": "HTMLStyleModel",
      "state": {
       "description_width": "",
       "font_size": null,
       "text_color": null
      }
     },
     "dfc5eda9e54f4b3a810414d57a3a4443": {
      "model_module": "@jupyter-widgets/controls",
      "model_module_version": "2.0.0",
      "model_name": "HBoxModel",
      "state": {
       "children": [
        "IPY_MODEL_472169046c384f0dbcc7755122eb47e3",
        "IPY_MODEL_8ec8177852534bb380142586b148f6f7",
        "IPY_MODEL_fa61be5f8f5f453b8716c28130670bfb"
       ],
       "layout": "IPY_MODEL_bd923a777b8844b9a0e41555571a8bf2"
      }
     },
     "e1c59adca03f4cbd8043a9fbd337df80": {
      "model_module": "@jupyter-widgets/base",
      "model_module_version": "2.0.0",
      "model_name": "LayoutModel",
      "state": {}
     },
     "e9ada0a99cdd4ed0b3303095e7f7a42b": {
      "model_module": "@jupyter-widgets/controls",
      "model_module_version": "2.0.0",
      "model_name": "HTMLModel",
      "state": {
       "layout": "IPY_MODEL_e1c59adca03f4cbd8043a9fbd337df80",
       "style": "IPY_MODEL_deef49498b4f4c608eb1e26e1bb72430",
       "value": " 1275/1275 [01:33&lt;00:00, 14.36it/s]"
      }
     },
     "eb062e39a6a14518885fe704165ceb8e": {
      "model_module": "@jupyter-widgets/controls",
      "model_module_version": "2.0.0",
      "model_name": "ProgressStyleModel",
      "state": {
       "description_width": ""
      }
     },
     "ec194258fa96418e817f87ae914acb50": {
      "model_module": "@jupyter-widgets/controls",
      "model_module_version": "2.0.0",
      "model_name": "HTMLStyleModel",
      "state": {
       "description_width": "",
       "font_size": null,
       "text_color": null
      }
     },
     "ec83c66dca004ef7ae4ce69c8358c2eb": {
      "model_module": "@jupyter-widgets/controls",
      "model_module_version": "2.0.0",
      "model_name": "HTMLStyleModel",
      "state": {
       "description_width": "",
       "font_size": null,
       "text_color": null
      }
     },
     "ee78483000f3451a810f14ad281490e1": {
      "model_module": "@jupyter-widgets/base",
      "model_module_version": "2.0.0",
      "model_name": "LayoutModel",
      "state": {}
     },
     "ee9d223c29a24dbdb75e9dfa441b49c0": {
      "model_module": "@jupyter-widgets/controls",
      "model_module_version": "2.0.0",
      "model_name": "HTMLModel",
      "state": {
       "layout": "IPY_MODEL_b0a359091600445ca5bc67c561c07369",
       "style": "IPY_MODEL_cb03c615f04c4d29a1b0a99bde99115d",
       "value": " 3/3 [04:02&lt;00:00, 78.75s/it]"
      }
     },
     "eed623c124914c5a8217ecab683113ae": {
      "model_module": "@jupyter-widgets/controls",
      "model_module_version": "2.0.0",
      "model_name": "HTMLStyleModel",
      "state": {
       "description_width": "",
       "font_size": null,
       "text_color": null
      }
     },
     "ef0f23348c7240b1a0586c8635d93244": {
      "model_module": "@jupyter-widgets/controls",
      "model_module_version": "2.0.0",
      "model_name": "HTMLModel",
      "state": {
       "layout": "IPY_MODEL_068692f78e98468cb84aabe6825cd040",
       "style": "IPY_MODEL_a78b7e956e7a4be5a1daa5c19d5d1dd3",
       "value": "100%"
      }
     },
     "ef5266085ab2424ab8c57cbc842265cc": {
      "model_module": "@jupyter-widgets/base",
      "model_module_version": "2.0.0",
      "model_name": "LayoutModel",
      "state": {}
     },
     "ef8f78554a0a4d319dd0edb7d44c6a96": {
      "model_module": "@jupyter-widgets/controls",
      "model_module_version": "2.0.0",
      "model_name": "ProgressStyleModel",
      "state": {
       "description_width": ""
      }
     },
     "f0520a1887264540a628d8aed0343303": {
      "model_module": "@jupyter-widgets/controls",
      "model_module_version": "2.0.0",
      "model_name": "HTMLStyleModel",
      "state": {
       "description_width": "",
       "font_size": null,
       "text_color": null
      }
     },
     "f0aeb83a4fd64d3182fdcad1c4956023": {
      "model_module": "@jupyter-widgets/controls",
      "model_module_version": "2.0.0",
      "model_name": "FloatProgressModel",
      "state": {
       "bar_style": "success",
       "layout": "IPY_MODEL_2d1e153e380e45b0bbf01cd677958e01",
       "max": 1340,
       "style": "IPY_MODEL_151e71b82460493e97f8a3ee884bd0c2",
       "value": 1340
      }
     },
     "f4b9387720cd44d3a0feec5d5a866a96": {
      "model_module": "@jupyter-widgets/controls",
      "model_module_version": "2.0.0",
      "model_name": "HBoxModel",
      "state": {
       "children": [
        "IPY_MODEL_6de9136faea542dd92dd88f1373229d7",
        "IPY_MODEL_926c3424772b4728be9b0130602e2ca4",
        "IPY_MODEL_8b35c158d0d745889349e92fe524f237"
       ],
       "layout": "IPY_MODEL_a9af002133d24e3cb6c6821f94cf6bfc"
      }
     },
     "f78d9632f16547babc380390e8598d2b": {
      "model_module": "@jupyter-widgets/base",
      "model_module_version": "2.0.0",
      "model_name": "LayoutModel",
      "state": {}
     },
     "f7e8b861515f46e2b12759486f5b0707": {
      "model_module": "@jupyter-widgets/controls",
      "model_module_version": "2.0.0",
      "model_name": "HBoxModel",
      "state": {
       "children": [
        "IPY_MODEL_008622dcd6754a379fa4e5bc823ae699",
        "IPY_MODEL_0fc0ced85c38415a833183dca702208b",
        "IPY_MODEL_406ea1b2de5b418082602a70511820b8"
       ],
       "layout": "IPY_MODEL_5e896f7f852c4762bf975149abf10e6b"
      }
     },
     "f8e244cf30114065b9bfcf40864c1bd3": {
      "model_module": "@jupyter-widgets/controls",
      "model_module_version": "2.0.0",
      "model_name": "FloatProgressModel",
      "state": {
       "bar_style": "success",
       "layout": "IPY_MODEL_6d3764f9d59b438b883ad14cc368e322",
       "max": 3,
       "style": "IPY_MODEL_449b2f93c09e46f3bb879fe20d971ce9",
       "value": 3
      }
     },
     "fa61be5f8f5f453b8716c28130670bfb": {
      "model_module": "@jupyter-widgets/controls",
      "model_module_version": "2.0.0",
      "model_name": "HTMLModel",
      "state": {
       "layout": "IPY_MODEL_25ecdbaffa3a4159ae75d1b8a1f65901",
       "style": "IPY_MODEL_215456ba70434dec97e9ecf355578218",
       "value": " 1340/1340 [01:47&lt;00:00, 12.68it/s]"
      }
     },
     "fa95178e1da3436b9ce161ccabc89de2": {
      "model_module": "@jupyter-widgets/controls",
      "model_module_version": "2.0.0",
      "model_name": "HTMLModel",
      "state": {
       "layout": "IPY_MODEL_0cb51b80e991438c88fb6a56f557a141",
       "style": "IPY_MODEL_2defe8ce45234b29848c370f59a25199",
       "value": "100%"
      }
     },
     "fc05759b122f49a59806b7925f1836f0": {
      "model_module": "@jupyter-widgets/controls",
      "model_module_version": "2.0.0",
      "model_name": "HTMLStyleModel",
      "state": {
       "description_width": "",
       "font_size": null,
       "text_color": null
      }
     },
     "ffab745e2bd04ca5a7438495a4a9542d": {
      "model_module": "@jupyter-widgets/controls",
      "model_module_version": "2.0.0",
      "model_name": "HTMLStyleModel",
      "state": {
       "description_width": "",
       "font_size": null,
       "text_color": null
      }
     }
    },
    "version_major": 2,
    "version_minor": 0
   }
  }
 },
 "nbformat": 4,
 "nbformat_minor": 4
}
