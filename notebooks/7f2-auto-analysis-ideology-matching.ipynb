{
 "cells": [
  {
   "cell_type": "code",
   "execution_count": null,
   "metadata": {},
   "outputs": [],
   "source": [
    "import os\n",
    "import gzip\n",
    "import random\n",
    "import logging\n",
    "\n",
    "import numpy as np\n",
    "import pandas as pd\n",
    "import seaborn as sns\n",
    "import scipy.stats as ss\n",
    "import statsmodels.formula.api as smf\n",
    "\n",
    "import matplotlib as mp\n",
    "%matplotlib inline\n",
    "import matplotlib.pyplot as plt\n",
    "\n",
    "from tqdm.notebook import tqdm, trange\n",
    "\n",
    "from IPython.display import display"
   ]
  },
  {
   "cell_type": "code",
   "execution_count": null,
   "metadata": {},
   "outputs": [],
   "source": [
    "logger = logging.getLogger(__name__)\n",
    "\n",
    "fmt = '%(asctime)s : %(levelname)s : %(message)s'\n",
    "logging.basicConfig(format=fmt, level=logging.INFO)"
   ]
  },
  {
   "cell_type": "code",
   "execution_count": null,
   "metadata": {},
   "outputs": [],
   "source": [
    "os.chdir(os.path.expanduser('~/github/masthesis/'))"
   ]
  },
  {
   "cell_type": "code",
   "execution_count": null,
   "metadata": {},
   "outputs": [],
   "source": [
    "seed = 2969591811\n",
    "\n",
    "random.seed(seed)\n",
    "np.random.seed(seed)"
   ]
  },
  {
   "cell_type": "code",
   "execution_count": null,
   "metadata": {},
   "outputs": [],
   "source": [
    "colors = sns.color_palette('bright', 10)\n",
    "\n",
    "elite_color = colors[3]\n",
    "radio_color = colors[0]\n",
    "decahose_color = colors[9]\n",
    "decahose2_color = colors[4]"
   ]
  },
  {
   "cell_type": "markdown",
   "metadata": {},
   "source": [
    "## Load data"
   ]
  },
  {
   "cell_type": "code",
   "execution_count": null,
   "metadata": {},
   "outputs": [],
   "source": [
    "matching = pd.read_csv('data/paper-round-3/event-annotated/auto-sample-communities-matching.csv')"
   ]
  },
  {
   "cell_type": "code",
   "execution_count": null,
   "metadata": {},
   "outputs": [],
   "source": [
    "stats_overall = pd.read_csv('data/paper-round-3/event-annotated/auto-story-stats.csv', index_col='story_id')\n",
    "assert stats_overall.index.is_unique\n",
    "\n",
    "stats_lib = pd.read_csv('data/paper-round-3/event-annotated/auto-story-stats-lib.csv', index_col='story_id')\n",
    "assert stats_lib.index.is_unique\n",
    "\n",
    "stats_con = pd.read_csv('data/paper-round-3/event-annotated/auto-story-stats-con.csv', index_col='story_id')\n",
    "assert stats_con.index.is_unique\n",
    "\n",
    "stats = pd.concat([stats_lib, stats_con], axis=0)"
   ]
  },
  {
   "cell_type": "code",
   "execution_count": null,
   "metadata": {},
   "outputs": [],
   "source": [
    "with open('data/paper-round-3/event-annotated/auto-story-cdfs-lib.npy', 'rb') as f:\n",
    "    cdf_vals_lib = np.load(f)\n",
    "\n",
    "with open('data/paper-round-3/event-annotated/auto-story-cdfs-con.npy', 'rb') as f:\n",
    "    cdf_vals_con = np.load(f)"
   ]
  },
  {
   "cell_type": "markdown",
   "metadata": {},
   "source": [
    "## Quality filter"
   ]
  },
  {
   "cell_type": "code",
   "execution_count": null,
   "metadata": {},
   "outputs": [],
   "source": [
    "length_mask_overall = (stats_overall['count'] >= 20)\n",
    "kind_mask_overall = (stats_overall['kind'] != 'decahose')\n",
    "\n",
    "matching_mask_overall = stats_overall.index.isin(\n",
    "    matching['story_id_elite'].tolist() +\n",
    "    matching['story_id_radio'].tolist() +\n",
    "    matching.loc[matching['story_id_decahose'].notna(), 'story_id_decahose'].tolist()\n",
    ")\n",
    "\n",
    "mask_overall = (\n",
    "    length_mask_overall\n",
    "    & kind_mask_overall\n",
    "    & matching_mask_overall\n",
    ")\n",
    "\n",
    "mask_lib = mask_overall & (stats_lib['count'] >= 10)  # must be >= 2 to avoid nans in SDs\n",
    "mask_con = mask_overall & (stats_con['count'] >= 10)\n",
    "\n",
    "mask = pd.concat([mask_lib, mask_con], axis=0)\n",
    "\n",
    "mask.sum(), stats.shape[0]"
   ]
  },
  {
   "cell_type": "markdown",
   "metadata": {},
   "source": [
    "# Descriptive stats"
   ]
  },
  {
   "cell_type": "code",
   "execution_count": null,
   "metadata": {},
   "outputs": [],
   "source": [
    "stats.groupby(['conservative', 'kind'])['count'].sum()"
   ]
  },
  {
   "cell_type": "code",
   "execution_count": null,
   "metadata": {},
   "outputs": [],
   "source": [
    "stats.groupby(['conservative', 'year', 'kind'])['count'].sum()"
   ]
  },
  {
   "cell_type": "code",
   "execution_count": null,
   "metadata": {},
   "outputs": [],
   "source": [
    "stats.groupby(['conservative', 'year', 'kind'])['group'].nunique()"
   ]
  },
  {
   "cell_type": "code",
   "execution_count": null,
   "metadata": {},
   "outputs": [],
   "source": [
    "stats.loc[mask, :].groupby(['conservative', 'year', 'kind'])['group'].nunique()"
   ]
  },
  {
   "cell_type": "code",
   "execution_count": null,
   "metadata": {},
   "outputs": [],
   "source": [
    "stats['dur'].hist(by=stats['conservative'], bins=50, log=True)"
   ]
  },
  {
   "cell_type": "code",
   "execution_count": null,
   "metadata": {},
   "outputs": [],
   "source": [
    "stats.groupby([stats['conservative'], stats['dur'] < 86400 * 2]).size()"
   ]
  },
  {
   "cell_type": "code",
   "execution_count": null,
   "metadata": {},
   "outputs": [],
   "source": [
    "stats.loc[stats['count'] > 0, :].groupby(['conservative', 'year', 'kind'])['group'].nunique()"
   ]
  },
  {
   "cell_type": "code",
   "execution_count": null,
   "metadata": {},
   "outputs": [],
   "source": [
    "with pd.option_context('display.float_format', lambda x: '%.3f' % x):\n",
    "    display(stats.loc[mask, :].describe())"
   ]
  },
  {
   "cell_type": "code",
   "execution_count": null,
   "metadata": {
    "tags": []
   },
   "outputs": [],
   "source": [
    "with pd.option_context('display.float_format', lambda x: '%.3f' % x, 'display.max_rows', None):\n",
    "    display(stats.loc[mask, :].groupby(['kind', 'conservative']).describe().T)"
   ]
  },
  {
   "cell_type": "code",
   "execution_count": null,
   "metadata": {},
   "outputs": [],
   "source": [
    "with pd.option_context('display.float_format', lambda x: '%.3f' % x, 'display.max_rows', None):\n",
    "    display(stats.loc[mask, :].groupby(['kind', 'conservative']).describe().T.loc['avg_abs', :].T.swaplevel().sort_index())"
   ]
  },
  {
   "cell_type": "code",
   "execution_count": null,
   "metadata": {
    "tags": []
   },
   "outputs": [],
   "source": [
    "with pd.option_context('display.float_format', lambda x: '%.3f' % x, 'display.max_rows', None):\n",
    "    display(stats.loc[mask, :].groupby(['year', 'conservative', 'kind']).describe().T.loc['avg_abs', :].T)"
   ]
  },
  {
   "cell_type": "markdown",
   "metadata": {},
   "source": [
    "# Summary metrics based on relative time"
   ]
  },
  {
   "cell_type": "markdown",
   "metadata": {},
   "source": [
    "## Tests: Overall"
   ]
  },
  {
   "cell_type": "code",
   "execution_count": null,
   "metadata": {},
   "outputs": [],
   "source": [
    "tests = []\n",
    "for c in stats.loc[mask, 'conservative'].unique():\n",
    "    for metric in ['avg_abs', 'std']:\n",
    "        el = stats.loc[stats['conservative'] == c]\n",
    "        el = el.reindex(matching['story_id_elite'])\n",
    "        \n",
    "        rd = stats.loc[stats['conservative'] == c]\n",
    "        rd = rd.reindex(matching['story_id_radio'])\n",
    "\n",
    "        el = el[metric].to_numpy()\n",
    "        rd = rd[metric].to_numpy()\n",
    "\n",
    "        inc = ~np.isnan(el) & ~np.isnan(rd)\n",
    "        stat = ss.ttest_rel(el[inc], rd[inc])\n",
    "        tests += [{\n",
    "            'metric': metric,\n",
    "            'kind1': 'elite',\n",
    "            'kind2': 'radio',\n",
    "            'conservative': c,\n",
    "            'statistic': stat.statistic,\n",
    "            'pvalue': stat.pvalue,\n",
    "        }]\n",
    "\n",
    "tests = pd.DataFrame(tests) \\\n",
    "    .sort_values(['conservative', 'kind1', 'kind2'], ascending=False) \\\n",
    "    [['conservative', 'kind1', 'kind2', 'metric', 'statistic', 'pvalue']] \\\n",
    "    .reset_index(drop=True)\n",
    "\n",
    "tests"
   ]
  },
  {
   "cell_type": "markdown",
   "metadata": {},
   "source": [
    "## Tests: By year"
   ]
  },
  {
   "cell_type": "code",
   "execution_count": null,
   "metadata": {},
   "outputs": [],
   "source": [
    "tests = []\n",
    "\n",
    "for year in stats.loc[mask, 'year'].unique():\n",
    "    for c in stats.loc[mask, 'conservative'].unique():\n",
    "        for metric in ['avg_abs', 'std']:\n",
    "            el = stats.loc[(stats['year'] == year) & (stats['conservative'] == c)]\n",
    "            el = el.reindex(matching['story_id_elite'])\n",
    "\n",
    "            rd = stats.loc[(stats['year'] == year) & (stats['conservative'] == c)]\n",
    "            rd = rd.reindex(matching['story_id_radio'])\n",
    "\n",
    "            el = el[metric].to_numpy()\n",
    "            rd = rd[metric].to_numpy()\n",
    "\n",
    "            inc = ~np.isnan(el) & ~np.isnan(rd)\n",
    "            stat = ss.ttest_rel(el[inc], rd[inc])\n",
    "            tests += [{\n",
    "                'year': year,\n",
    "                'metric': metric,\n",
    "                'kind1': 'elite',\n",
    "                'kind2': 'radio',\n",
    "                'conservative': c,\n",
    "                'statistic': stat.statistic,\n",
    "                'pvalue': stat.pvalue,\n",
    "            }]\n",
    "\n",
    "tests = pd.DataFrame(tests) \\\n",
    "    .sort_values(['year', 'conservative', 'kind1', 'kind2'], ascending=False) \\\n",
    "    [['year', 'conservative', 'kind1', 'kind2', 'metric', 'statistic', 'pvalue']] \\\n",
    "    .reset_index(drop=True)\n",
    "\n",
    "tests"
   ]
  },
  {
   "cell_type": "markdown",
   "metadata": {},
   "source": [
    "## Tests: Conservatives vs liberals"
   ]
  },
  {
   "cell_type": "code",
   "execution_count": null,
   "metadata": {},
   "outputs": [],
   "source": [
    "for kind in stats.loc[mask, 'kind'].unique():\n",
    "    print(kind, ss.ttest_rel(\n",
    "        stats_lib.loc[mask_lib & mask_con & (stats_lib['kind'] == kind), 'avg_abs'],\n",
    "        stats_con.loc[mask_con & mask_lib & (stats_con['kind'] == kind), 'avg_abs']\n",
    "    ))"
   ]
  },
  {
   "cell_type": "code",
   "execution_count": null,
   "metadata": {},
   "outputs": [],
   "source": [
    "for kind in stats.loc[mask, 'kind'].unique():\n",
    "    print(kind, ss.ttest_rel(\n",
    "        stats_lib.loc[mask_lib & mask_con & (stats_lib['kind'] == kind), 'std'],\n",
    "        stats_con.loc[mask_con & mask_lib & (stats_con['kind'] == kind), 'std']\n",
    "    ))"
   ]
  },
  {
   "cell_type": "code",
   "execution_count": null,
   "metadata": {},
   "outputs": [],
   "source": [
    "for year in stats.loc[mask, 'year'].unique():\n",
    "    for kind in stats.loc[mask, 'kind'].unique():\n",
    "        print(year, kind, ss.ttest_rel(\n",
    "            stats_lib.loc[mask_lib & mask_con & (stats_lib['year'] == year) & (stats_lib['kind'] == kind), 'avg_abs'],\n",
    "            stats_con.loc[mask_con & mask_lib & (stats_lib['year'] == year) & (stats_con['kind'] == kind), 'avg_abs']\n",
    "        ))"
   ]
  },
  {
   "cell_type": "code",
   "execution_count": null,
   "metadata": {},
   "outputs": [],
   "source": [
    "for year in stats.loc[mask, 'year'].unique():\n",
    "    for kind in stats.loc[mask, 'kind'].unique():\n",
    "        print(year, kind, ss.ttest_rel(\n",
    "            stats_lib.loc[mask_lib & mask_con & (stats_lib['year'] == year) & (stats_lib['kind'] == kind), 'std'],\n",
    "            stats_con.loc[mask_con & mask_lib & (stats_lib['year'] == year) & (stats_con['kind'] == kind), 'std']\n",
    "        ))"
   ]
  },
  {
   "cell_type": "markdown",
   "metadata": {},
   "source": [
    "# Visualize"
   ]
  },
  {
   "cell_type": "code",
   "execution_count": null,
   "metadata": {},
   "outputs": [],
   "source": [
    "nbins = 20\n",
    "\n",
    "fig, axes = plt.subplots(2, 3, figsize=(15, 10), sharey=True)\n",
    "twins = np.asarray([\n",
    "    [axes[0][0].twinx(), axes[0][1].twinx(), axes[0][2].twinx()],\n",
    "    [axes[1][0].twinx(), axes[1][1].twinx(), axes[1][2].twinx()],\n",
    "])\n",
    "\n",
    "sns.histplot(\n",
    "    stats_overall.loc[\n",
    "        mask_overall\n",
    "        & (stats_overall['kind'] == 'elite'),\n",
    "    'avg'],\n",
    "    ax=axes[0][0], color=elite_color, alpha=0.3, label='Elite', kde=True, bins=nbins\n",
    ")\n",
    "sns.histplot(\n",
    "    stats_overall.loc[\n",
    "        mask_overall\n",
    "        & (stats_overall['kind'] == 'radio'),\n",
    "    'avg'],\n",
    "    ax=twins[0][0], color=radio_color, alpha=0.3, label='Radio', kde=True, bins=nbins\n",
    ")\n",
    "sns.histplot(\n",
    "    stats.loc[\n",
    "        mask\n",
    "        & (stats['conservative'] == 0)\n",
    "        & (stats['kind'] == 'elite'),\n",
    "    'avg_abs'],\n",
    "    ax=axes[0][1], color=elite_color, alpha=0.3, label='Elite', kde=True, bins=nbins\n",
    ")\n",
    "sns.histplot(\n",
    "    stats.loc[\n",
    "        mask\n",
    "        & (stats['conservative'] == 0)\n",
    "        & (stats['kind'] == 'radio'),\n",
    "    'avg_abs'],\n",
    "    ax=twins[0][1], color=radio_color, alpha=0.3, label='Radio', kde=True, bins=nbins\n",
    ")\n",
    "sns.histplot(\n",
    "    stats.loc[\n",
    "        mask\n",
    "        & (stats['conservative'] == 1)\n",
    "        & (stats['kind'] == 'elite'),\n",
    "    'avg_abs'],\n",
    "    ax=axes[0][2], color=elite_color, alpha=0.3, label='Elite', kde=True, bins=nbins\n",
    ")\n",
    "sns.histplot(\n",
    "    stats.loc[\n",
    "        mask\n",
    "        & (stats['conservative'] == 1)\n",
    "        & (stats['kind'] == 'radio'),\n",
    "    'avg_abs'],\n",
    "    ax=twins[0][2], color=radio_color, alpha=0.3, label='Radio', kde=True, bins=nbins\n",
    ")\n",
    "\n",
    "sns.histplot(\n",
    "    stats_overall.loc[\n",
    "        mask_overall\n",
    "        & (stats_overall['kind'] == 'elite'),\n",
    "    'std'],\n",
    "    ax=axes[1][0], color=elite_color, alpha=0.3, label='Elite', kde=True, bins=nbins\n",
    ")\n",
    "sns.histplot(\n",
    "    stats_overall.loc[\n",
    "        mask_overall\n",
    "        & (stats_overall['kind'] == 'radio'),\n",
    "    'std'],\n",
    "    ax=twins[1][0], color=radio_color, alpha=0.3, label='Radio', kde=True, bins=nbins\n",
    ")\n",
    "sns.histplot(\n",
    "    stats.loc[\n",
    "        mask\n",
    "        & (stats['conservative'] == 0)\n",
    "        & (stats['kind'] == 'elite'),\n",
    "    'std'],\n",
    "    ax=axes[1][1], color=elite_color, alpha=0.3, label='Elite', kde=True, bins=nbins\n",
    ")\n",
    "sns.histplot(\n",
    "    stats.loc[\n",
    "        mask\n",
    "        & (stats['conservative'] == 0)\n",
    "        & (stats['kind'] == 'radio'),\n",
    "    'std'],\n",
    "    ax=twins[1][1], color=radio_color, alpha=0.3, label='Radio', kde=True, bins=nbins\n",
    ")\n",
    "sns.histplot(\n",
    "    stats.loc[\n",
    "        mask\n",
    "        & (stats['conservative'] == 1)\n",
    "        & (stats['kind'] == 'elite'),\n",
    "    'std'],\n",
    "    ax=axes[1][2], color=elite_color, alpha=0.3, label='Elite', kde=True, bins=nbins\n",
    ")\n",
    "sns.histplot(\n",
    "    stats.loc[\n",
    "        mask\n",
    "        & (stats['conservative'] == 1)\n",
    "        & (stats['kind'] == 'radio'),\n",
    "    'std'],\n",
    "    ax=twins[1][2], color=radio_color, alpha=0.3, label='Radio', kde=True, bins=nbins\n",
    ")\n",
    "\n",
    "axes[0][0].set_title('Mean Overall', fontsize=16)\n",
    "axes[0][1].set_title('Mean Liberal', fontsize=16)\n",
    "axes[0][2].set_title('Mean Conservative', fontsize=16)\n",
    "\n",
    "axes[1][0].set_title('SD Overall', fontsize=16)\n",
    "axes[1][1].set_title('SD Liberal', fontsize=16)\n",
    "axes[1][2].set_title('SD Conservative', fontsize=16)\n",
    "\n",
    "for ax, twin in zip(axes.flatten(), twins.flatten()):\n",
    "    ax.set_xlabel('Time', fontsize=14)\n",
    "    ax.set_ylabel('Count', fontsize=14)\n",
    "    twin.set_ylabel(None)\n",
    "    \n",
    "    fmt = mp.ticker.FuncFormatter(lambda x, pos: f'{x / 3600:.0f}h')\n",
    "    ax.xaxis.set_major_formatter(fmt)\n",
    "\n",
    "    ax.tick_params(axis='both', which='major', labelsize=13)\n",
    "    \n",
    "    h1, l1 = ax.get_legend_handles_labels()\n",
    "    h2, l2 = twin.get_legend_handles_labels()\n",
    "    ax.legend(h1 + h2, l1 + l2, loc=0, fontsize=14)\n",
    "\n",
    "#\n",
    "# t-tests\n",
    "#\n",
    "\n",
    "ovrl_test_mean = ss.ttest_ind(\n",
    "    stats_overall.loc[mask_overall & (stats_overall['kind'] == 'elite'), 'avg'],\n",
    "    stats_overall.loc[mask_overall & (stats_overall['kind'] == 'radio'), 'avg']\n",
    ")\n",
    "\n",
    "lib_test_mean = ss.ttest_ind(\n",
    "    stats.loc[mask & (stats['conservative'] == 0) & (stats['kind'] == 'elite'), 'avg_abs'],\n",
    "    stats.loc[mask & (stats['conservative'] == 0) & (stats['kind'] == 'radio'), 'avg_abs']\n",
    ")\n",
    "\n",
    "con_test_mean = ss.ttest_ind(\n",
    "    stats.loc[mask & (stats['conservative'] == 1) & (stats['kind'] == 'elite'), 'avg_abs'],\n",
    "    stats.loc[mask & (stats['conservative'] == 1) & (stats['kind'] == 'radio'), 'avg_abs']\n",
    ")\n",
    "\n",
    "ovrl_test_sd = ss.ttest_ind(\n",
    "    stats_overall.loc[mask_overall & (stats_overall['kind'] == 'elite'), 'std'],\n",
    "    stats_overall.loc[mask_overall & (stats_overall['kind'] == 'radio'), 'std']\n",
    ")\n",
    "\n",
    "lib_test_sd = ss.ttest_ind(\n",
    "    stats.loc[mask & (stats['conservative'] == 0) & (stats['kind'] == 'elite'), 'std'],\n",
    "    stats.loc[mask & (stats['conservative'] == 0) & (stats['kind'] == 'radio'), 'std']\n",
    ")\n",
    "\n",
    "con_test_sd = ss.ttest_ind(\n",
    "    stats.loc[mask & (stats['conservative'] == 1) & (stats['kind'] == 'elite'), 'std'],\n",
    "    stats.loc[mask & (stats['conservative'] == 1) & (stats['kind'] == 'radio'), 'std']\n",
    ")\n",
    "\n",
    "props = dict(boxstyle='round', facecolor='wheat', alpha=0.5)\n",
    "\n",
    "textstr = '\\n'.join((\n",
    "    r'$H_0: \\rm{\\bar{T}} = \\rm{\\bar{R}}$',\n",
    "    r'$t=%.2f$' % (ovrl_test_mean.statistic, ),\n",
    "    r'$p = \\rm{%.1e}$' % (ovrl_test_mean.pvalue, ),\n",
    "))\n",
    "axes[0][0].text(0.65, 0.65, textstr, transform=axes[0][0].transAxes, fontsize=14,\n",
    "             verticalalignment='top', bbox=props)    \n",
    "\n",
    "textstr = '\\n'.join((\n",
    "    r'$H_0: \\rm{\\bar{T}} = \\rm{\\bar{R}}$',\n",
    "    r'$t=%.2f$' % (lib_test_mean.statistic, ),\n",
    "    r'$p = \\rm{%.1e}$' % (lib_test_mean.pvalue, ),\n",
    "))\n",
    "axes[0][1].text(0.65, 0.65, textstr, transform=axes[0][1].transAxes, fontsize=14,\n",
    "             verticalalignment='top', bbox=props)    \n",
    "\n",
    "textstr = '\\n'.join((\n",
    "    r'$H_0: \\rm{\\bar{T}} = \\rm{\\bar{R}}$',\n",
    "    r'$t=%.2f$' % (con_test_mean.statistic, ),\n",
    "    r'$p = \\rm{%.1e}$' % (con_test_mean.pvalue, ),\n",
    "))\n",
    "axes[0][2].text(0.65, 0.65, textstr, transform=axes[0][2].transAxes, fontsize=14,\n",
    "             verticalalignment='top', bbox=props)    \n",
    "\n",
    "textstr = '\\n'.join((\n",
    "    r'$H_0: \\rm{\\bar{T}} = \\rm{\\bar{R}}$',\n",
    "    r'$t=%.2f$' % (ovrl_test_sd.statistic, ),\n",
    "    r'$p = \\rm{%.1e}$' % (ovrl_test_sd.pvalue, ),\n",
    "))\n",
    "axes[1][0].text(0.65, 0.65, textstr, transform=axes[1][0].transAxes, fontsize=14,\n",
    "             verticalalignment='top', bbox=props)    \n",
    "\n",
    "textstr = '\\n'.join((\n",
    "    r'$H_0: \\rm{\\bar{T}} = \\rm{\\bar{R}}$',\n",
    "    r'$t=%.2f$' % (lib_test_sd.statistic, ),\n",
    "    r'$p = \\rm{%.1e}$' % (lib_test_sd.pvalue, ),\n",
    "))\n",
    "axes[1][1].text(0.65, 0.65, textstr, transform=axes[1][1].transAxes, fontsize=14,\n",
    "             verticalalignment='top', bbox=props)    \n",
    "\n",
    "textstr = '\\n'.join((\n",
    "    r'$H_0: \\rm{\\bar{T}} = \\rm{\\bar{R}}$',\n",
    "    r'$t=%.2f$' % (con_test_sd.statistic, ),\n",
    "    r'$p = \\rm{%.1e}$' % (con_test_sd.pvalue, )\n",
    "))\n",
    "axes[1][2].text(0.65, 0.65, textstr, transform=axes[1][2].transAxes, fontsize=14,\n",
    "             verticalalignment='top', bbox=props)    \n",
    "\n",
    "fig.tight_layout()"
   ]
  },
  {
   "cell_type": "code",
   "execution_count": null,
   "metadata": {},
   "outputs": [],
   "source": [
    "nbins = 20\n",
    "\n",
    "fig, axes = plt.subplots(2, 2, figsize=(10, 10))\n",
    "twins = np.asarray([\n",
    "    [axes[0][0].twinx(), axes[0][1].twinx()],\n",
    "    [axes[1][0].twinx(), axes[1][1].twinx()],\n",
    "])\n",
    "\n",
    "sns.histplot(stats.loc[mask & (stats['conservative'] == 0) & (stats['kind'] == 'elite'), 'avg_abs'], ax=axes[0][0], color=elite_color, alpha=0.3, label='Elite', kde=True, bins=nbins)\n",
    "sns.histplot(stats.loc[mask & (stats['conservative'] == 0) & (stats['kind'] == 'radio'), 'avg_abs'], ax=twins[0][0], color=radio_color, alpha=0.3, label='Radio', kde=True, bins=nbins)\n",
    "sns.histplot(stats.loc[mask & (stats['conservative'] == 0) & (stats['kind'] == 'elite'), 'std'], ax=axes[0][1], color=elite_color, alpha=0.3, label='Elite', kde=True, bins=nbins)\n",
    "sns.histplot(stats.loc[mask & (stats['conservative'] == 0) & (stats['kind'] == 'radio'), 'std'], ax=twins[0][1], color=radio_color, alpha=0.3, label='Radio', kde=True, bins=nbins)\n",
    "\n",
    "sns.histplot(stats.loc[mask & (stats['conservative'] == 1) & (stats['kind'] == 'elite'), 'avg_abs'], ax=axes[1][0], color=elite_color, alpha=0.3, label='Elite', kde=True, bins=nbins)\n",
    "sns.histplot(stats.loc[mask & (stats['conservative'] == 1) & (stats['kind'] == 'radio'), 'avg_abs'], ax=twins[1][0], color=radio_color, alpha=0.3, label='Radio', kde=True, bins=nbins)\n",
    "sns.histplot(stats.loc[mask & (stats['conservative'] == 1) & (stats['kind'] == 'elite'), 'std'], ax=axes[1][1], color=elite_color, alpha=0.3, label='Elite', kde=True, bins=nbins)\n",
    "sns.histplot(stats.loc[mask & (stats['conservative'] == 1) & (stats['kind'] == 'radio'), 'std'], ax=twins[1][1], color=radio_color, alpha=0.3, label='Radio', kde=True, bins=nbins)\n",
    "\n",
    "axes[0][0].set_title('Liberal: Mean Within-Story Time')\n",
    "axes[0][1].set_title('Liberal: SD of Within-Story Time')\n",
    "axes[1][0].set_title('Conservative: Mean Within-Story Time')\n",
    "axes[1][1].set_title('Conservative: SD of Within-Story Time')\n",
    "\n",
    "for ax, twin in zip(axes.flatten(), twins.flatten()):\n",
    "    ax.set_xlabel('Time')\n",
    "    ax.set_ylabel('Count')\n",
    "\n",
    "    twin.set_ylabel(None)\n",
    "    \n",
    "    ax.xaxis.set_tick_params(rotation=45)\n",
    "\n",
    "    fmt = mp.ticker.FuncFormatter(lambda x, pos: f'{x / 3600:.0f}h')\n",
    "    ax.xaxis.set_major_formatter(fmt)\n",
    "\n",
    "    h1, l1 = ax.get_legend_handles_labels()\n",
    "    h2, l2 = twin.get_legend_handles_labels()\n",
    "    ax.legend(h1 + h2, l1 + l2, loc=0)\n",
    "\n",
    "fig.tight_layout()"
   ]
  },
  {
   "cell_type": "code",
   "execution_count": null,
   "metadata": {},
   "outputs": [],
   "source": [
    "nbins = 20\n",
    "\n",
    "for year in stats.loc[mask, 'year'].unique():\n",
    "    fig, axes = plt.subplots(2, 2, figsize=(10, 10), sharey=True)\n",
    "    twins = np.asarray([\n",
    "        [axes[0][0].twinx(), axes[0][1].twinx()],\n",
    "        [axes[1][0].twinx(), axes[1][1].twinx()],\n",
    "    ])\n",
    "\n",
    "    sns.histplot(\n",
    "        stats.loc[\n",
    "            mask\n",
    "            & (stats['year'] == year)\n",
    "            & (stats['conservative'] == 0)\n",
    "            & (stats['kind'] == 'elite'),\n",
    "        'avg_abs'],\n",
    "        ax=axes[0][0], color=elite_color, alpha=0.3, label='Elite', kde=True, bins=nbins\n",
    "    )\n",
    "    sns.histplot(\n",
    "        stats.loc[\n",
    "            mask\n",
    "            & (stats['year'] == year)\n",
    "            & (stats['conservative'] == 0)\n",
    "            & (stats['kind'] == 'radio'),\n",
    "        'avg_abs'],\n",
    "        ax=twins[0][0], color=radio_color, alpha=0.3, label='Radio', kde=True, bins=nbins\n",
    "    )\n",
    "    sns.histplot(\n",
    "        stats.loc[\n",
    "            mask\n",
    "            & (stats['year'] == year)\n",
    "            & (stats['conservative'] == 0)\n",
    "            & (stats['kind'] == 'elite'),\n",
    "        'std'],\n",
    "        ax=axes[0][1], color=elite_color, alpha=0.3, label='Elite', kde=True, bins=nbins\n",
    "    )\n",
    "    sns.histplot(\n",
    "        stats.loc[\n",
    "            mask\n",
    "            & (stats['year'] == year)\n",
    "            & (stats['conservative'] == 0)\n",
    "            & (stats['kind'] == 'radio'),\n",
    "        'std'],\n",
    "        ax=twins[0][1], color=radio_color, alpha=0.3, label='Radio', kde=True, bins=nbins\n",
    "    )\n",
    "\n",
    "    sns.histplot(\n",
    "        stats.loc[\n",
    "            mask\n",
    "            & (stats['year'] == year)\n",
    "            & (stats['conservative'] == 1)\n",
    "            & (stats['kind'] == 'elite'),\n",
    "        'avg_abs'],\n",
    "        ax=axes[1][0], color=elite_color, alpha=0.3, label='Elite', kde=True, bins=nbins\n",
    "    )\n",
    "    sns.histplot(\n",
    "        stats.loc[\n",
    "            mask\n",
    "            & (stats['year'] == year)\n",
    "            & (stats['conservative'] == 1)\n",
    "            & (stats['kind'] == 'radio'),\n",
    "        'avg_abs'],\n",
    "        ax=twins[1][0], color=radio_color, alpha=0.3, label='Radio', kde=True, bins=nbins\n",
    "    )\n",
    "    sns.histplot(\n",
    "        stats.loc[\n",
    "            mask\n",
    "            & (stats['year'] == year)\n",
    "            & (stats['conservative'] == 1)\n",
    "            & (stats['kind'] == 'elite'),\n",
    "        'std'],\n",
    "        ax=axes[1][1], color=elite_color, alpha=0.3, label='Elite', kde=True, bins=nbins\n",
    "    )\n",
    "    sns.histplot(\n",
    "        stats.loc[\n",
    "            mask\n",
    "            & (stats['year'] == year)\n",
    "            & (stats['conservative'] == 1)\n",
    "            & (stats['kind'] == 'radio'),\n",
    "        'std'],\n",
    "        ax=twins[1][1], color=radio_color, alpha=0.3, label='Radio', kde=True, bins=nbins\n",
    "    )\n",
    "\n",
    "    fig.suptitle(str(year))\n",
    "\n",
    "    axes[0][0].set_title('Liberal: Mean Within-Story Time')\n",
    "    axes[0][1].set_title('Liberal: SD of Within-Story Time')\n",
    "    axes[1][0].set_title('Conservative: Mean Within-Story Time')\n",
    "    axes[1][1].set_title('Conservative: SD of Within-Story Time')\n",
    "\n",
    "    for ax, twin in zip(axes.flatten(), twins.flatten()):\n",
    "        ax.set_xlabel('Time')\n",
    "        ax.set_ylabel('Count')\n",
    "\n",
    "        twin.set_ylabel(None)\n",
    "\n",
    "        ax.xaxis.set_tick_params(rotation=45)\n",
    "\n",
    "        fmt = mp.ticker.FuncFormatter(lambda x, pos: f'{x / 3600:.0f}h')\n",
    "        ax.xaxis.set_major_formatter(fmt)\n",
    "\n",
    "        h1, l1 = ax.get_legend_handles_labels()\n",
    "        h2, l2 = twin.get_legend_handles_labels()\n",
    "        ax.legend(h1 + h2, l1 + l2, loc=0)\n",
    "\n",
    "    fig.tight_layout()"
   ]
  },
  {
   "cell_type": "markdown",
   "metadata": {},
   "source": [
    "## Vincentized ecdf\n",
    "\n",
    "And the epdf, which we get from the cdf via differentials (`np.gradient`)."
   ]
  },
  {
   "cell_type": "code",
   "execution_count": null,
   "metadata": {},
   "outputs": [],
   "source": [
    "# as in the 5a notebook that calculated these\n",
    "cdf_query_end = 7 * 24 * 3600\n",
    "cdf_query_inc = 60  # one minute; afterward we can sample to a higher frequency if desired"
   ]
  },
  {
   "cell_type": "code",
   "execution_count": null,
   "metadata": {},
   "outputs": [],
   "source": [
    "cdf_ovrl = pd.DataFrame([\n",
    "    cdf_vals_lib[mask_lib & (stats_lib['kind'] == 'elite'), ...].mean(axis=0),\n",
    "    cdf_vals_lib[mask_lib & (stats_lib['kind'] == 'radio'), ...].mean(axis=0),\n",
    "    cdf_vals_con[mask_con & (stats_con['kind'] == 'elite'), ...].mean(axis=0),\n",
    "    cdf_vals_con[mask_con & (stats_con['kind'] == 'radio'), ...].mean(axis=0),\n",
    "], index=['lib-elite', 'lib-radio', 'con-elite', 'con-radio']).T\n",
    "cdf_ovrl.index = (cdf_ovrl.index.to_series() * cdf_query_inc)\n",
    "pdf_ovrl = cdf_ovrl.copy()\n",
    "for c in list(pdf_ovrl):\n",
    "    pdf_ovrl[c] = np.gradient(pdf_ovrl[c])\n",
    "\n",
    "year_cdfs, year_pdfs = {}, {}\n",
    "for year in stats['year'].unique():\n",
    "    tmp_cdf = pd.DataFrame([\n",
    "        cdf_vals_lib[mask_lib & (stats_lib['year'] == year) & (stats_lib['kind'] == 'elite'), ...].mean(axis=0),\n",
    "        cdf_vals_lib[mask_lib & (stats_lib['year'] == year) & (stats_lib['kind'] == 'radio'), ...].mean(axis=0),\n",
    "        cdf_vals_con[mask_con & (stats_con['year'] == year) & (stats_con['kind'] == 'elite'), ...].mean(axis=0),\n",
    "        cdf_vals_con[mask_con & (stats_con['year'] == year) & (stats_con['kind'] == 'radio'), ...].mean(axis=0),\n",
    "    ], index=['lib-elite', 'lib-radio', 'con-elite', 'con-radio']).T\n",
    "    tmp_cdf.index = (tmp_cdf.index.to_series() * cdf_query_inc)\n",
    "    year_cdfs[year] = tmp_cdf\n",
    "    \n",
    "    tmp_pdf = tmp_cdf.copy()\n",
    "    for c in list(tmp_pdf):\n",
    "        tmp_pdf[c] = np.gradient(tmp_pdf[c])\n",
    "    year_pdfs[year] = tmp_pdf\n",
    "    \n",
    "cdf_ovrl.rename({'elite': 'Elite', 'radio': 'Radio', 'decahose': 'Firehose', 'decahose-no-covid-2020': 'Firehose ex. Covid'}, axis=1, inplace=True)\n",
    "pdf_ovrl.rename({'elite': 'Elite', 'radio': 'Radio', 'decahose': 'Firehose', 'decahose-no-covid-2020': 'Firehose ex. Covid'}, axis=1, inplace=True)"
   ]
  },
  {
   "cell_type": "markdown",
   "metadata": {},
   "source": [
    "### Plot"
   ]
  },
  {
   "cell_type": "code",
   "execution_count": null,
   "metadata": {},
   "outputs": [],
   "source": [
    "fig, axes = plt.subplots(2, 2, figsize=(20, 10), sharex=True)\n",
    "\n",
    "# in units of cdf_query_inc\n",
    "plot_max = 3 * 24 * 60\n",
    "plot_interval = 15\n",
    "\n",
    "cdf_ovrl[['lib-elite', 'lib-radio']] \\\n",
    "    .rename({'lib-elite': 'Elite', 'lib-radio': 'Radio'}, axis=1) \\\n",
    "    .iloc[0:plot_max:plot_interval]['Elite'] \\\n",
    "    .plot(ax=axes[0][0], color=elite_color)\n",
    "pdf_ovrl[['lib-elite', 'lib-radio']] \\\n",
    "    .rename({'lib-elite': 'Elite', 'lib-radio': 'Radio'}, axis=1) \\\n",
    "    .iloc[0:plot_max:plot_interval]['Elite'] \\\n",
    "    .plot(ax=axes[0][1], color=elite_color)\n",
    "cdf_ovrl[['con-elite', 'con-radio']] \\\n",
    "    .rename({'con-elite': 'Elite', 'con-radio': 'Radio'}, axis=1) \\\n",
    "    .iloc[0:plot_max:plot_interval]['Elite'] \\\n",
    "    .plot(ax=axes[1][0], color=elite_color)\n",
    "pdf_ovrl[['con-elite', 'con-radio']] \\\n",
    "    .rename({'con-elite': 'Elite', 'con-radio': 'Radio'}, axis=1) \\\n",
    "    .iloc[0:plot_max:plot_interval]['Elite'] \\\n",
    "    .plot(ax=axes[1][1], color=elite_color)\n",
    "\n",
    "cdf_ovrl[['lib-elite', 'lib-radio']] \\\n",
    "    .rename({'lib-elite': 'Elite', 'lib-radio': 'Radio'}, axis=1) \\\n",
    "    .iloc[0:plot_max:plot_interval]['Radio'] \\\n",
    "    .plot(ax=axes[0][0], color=radio_color)\n",
    "pdf_ovrl[['lib-elite', 'lib-radio']] \\\n",
    "    .rename({'lib-elite': 'Elite', 'lib-radio': 'Radio'}, axis=1) \\\n",
    "    .iloc[0:plot_max:plot_interval]['Radio'] \\\n",
    "    .plot(ax=axes[0][1], color=radio_color)\n",
    "cdf_ovrl[['con-elite', 'con-radio']] \\\n",
    "    .rename({'con-elite': 'Elite', 'con-radio': 'Radio'}, axis=1) \\\n",
    "    .iloc[0:plot_max:plot_interval]['Radio'] \\\n",
    "    .plot(ax=axes[1][0], color=radio_color)\n",
    "pdf_ovrl[['con-elite', 'con-radio']] \\\n",
    "    .rename({'con-elite': 'Elite', 'con-radio': 'Radio'}, axis=1) \\\n",
    "    .iloc[0:plot_max:plot_interval]['Radio'] \\\n",
    "    .plot(ax=axes[1][1], color=radio_color)\n",
    "\n",
    "axes[0][0].set_title('Overall Liberal Pooled Empirical CDF')\n",
    "axes[0][1].set_title('Overall Liberal Pooled Empirical PDF')\n",
    "axes[1][0].set_title('Overall Conservative Pooled Empirical CDF')\n",
    "axes[1][1].set_title('Overall Conservative Pooled Empirical PDF')\n",
    "\n",
    "for i in range(axes.shape[0]):\n",
    "    axes[i][0].set_xlabel('Time')\n",
    "    axes[i][1].set_xlabel('Time')\n",
    "    axes[i][0].set_ylabel('Proportion')\n",
    "    axes[i][1].set_ylabel('Density')\n",
    "    axes[i][0].set_ylim(0, 1)\n",
    "\n",
    "    fmt = mp.ticker.FuncFormatter(lambda x, pos: f'{x / 3600:.0f}h')\n",
    "    axes[i][0].xaxis.set_major_formatter(fmt)\n",
    "    axes[i][1].xaxis.set_major_formatter(fmt)\n",
    "\n",
    "fig.tight_layout()\n",
    "\n",
    "print(f'Based on {mask.sum()} event(s)')"
   ]
  },
  {
   "cell_type": "code",
   "execution_count": null,
   "metadata": {},
   "outputs": [],
   "source": [
    "for year in year_cdfs.keys():\n",
    "    fig, axes = plt.subplots(2, 2, figsize=(20, 10), sharex=True)\n",
    "\n",
    "    # in units of cdf_query_inc\n",
    "    plot_max = 3 * 24 * 60\n",
    "    plot_interval = 15\n",
    "\n",
    "    year_cdfs[year][['lib-elite', 'lib-radio']] \\\n",
    "        .rename({'lib-elite': 'Elite', 'lib-radio': 'Radio'}, axis=1) \\\n",
    "        .iloc[0:plot_max:plot_interval]['Elite'] \\\n",
    "        .plot(ax=axes[0][0], color=elite_color)\n",
    "    year_pdfs[year][['lib-elite', 'lib-radio']] \\\n",
    "        .rename({'lib-elite': 'Elite', 'lib-radio': 'Radio'}, axis=1) \\\n",
    "        .iloc[0:plot_max:plot_interval]['Elite'] \\\n",
    "        .plot(ax=axes[0][1], color=elite_color)\n",
    "    year_cdfs[year][['con-elite', 'con-radio']] \\\n",
    "        .rename({'con-elite': 'Elite', 'con-radio': 'Radio'}, axis=1) \\\n",
    "        .iloc[0:plot_max:plot_interval]['Elite'] \\\n",
    "        .plot(ax=axes[1][0], color=elite_color)\n",
    "    year_pdfs[year][['con-elite', 'con-radio']] \\\n",
    "        .rename({'con-elite': 'Elite', 'con-radio': 'Radio'}, axis=1) \\\n",
    "        .iloc[0:plot_max:plot_interval]['Elite'] \\\n",
    "        .plot(ax=axes[1][1], color=elite_color)\n",
    "\n",
    "    year_cdfs[year][['lib-elite', 'lib-radio']] \\\n",
    "        .rename({'lib-elite': 'Elite', 'lib-radio': 'Radio'}, axis=1) \\\n",
    "        .iloc[0:plot_max:plot_interval]['Radio'] \\\n",
    "        .plot(ax=axes[0][0], color=radio_color)\n",
    "    year_pdfs[year][['lib-elite', 'lib-radio']] \\\n",
    "        .rename({'lib-elite': 'Elite', 'lib-radio': 'Radio'}, axis=1) \\\n",
    "        .iloc[0:plot_max:plot_interval]['Radio'] \\\n",
    "        .plot(ax=axes[0][1], color=radio_color)\n",
    "    year_cdfs[year][['con-elite', 'con-radio']] \\\n",
    "        .rename({'con-elite': 'Elite', 'con-radio': 'Radio'}, axis=1) \\\n",
    "        .iloc[0:plot_max:plot_interval]['Radio'] \\\n",
    "        .plot(ax=axes[1][0], color=radio_color)\n",
    "    year_pdfs[year][['con-elite', 'con-radio']] \\\n",
    "        .rename({'con-elite': 'Elite', 'con-radio': 'Radio'}, axis=1) \\\n",
    "        .iloc[0:plot_max:plot_interval]['Radio'] \\\n",
    "        .plot(ax=axes[1][1], color=radio_color)\n",
    "\n",
    "    axes[0][0].set_title(f'{year} Liberal Pooled Empirical CDF')\n",
    "    axes[0][1].set_title(f'{year} Liberal Pooled Empirical PDF')\n",
    "    axes[1][0].set_title(f'{year} Conservative Pooled Empirical CDF')\n",
    "    axes[1][1].set_title(f'{year} Conservative Pooled Empirical PDF')\n",
    "\n",
    "    for i in range(axes.shape[0]):\n",
    "        axes[i][0].set_xlabel('Time')\n",
    "        axes[i][1].set_xlabel('Time')\n",
    "        axes[i][0].set_ylabel('Proportion')\n",
    "        axes[i][1].set_ylabel('Density')\n",
    "        axes[i][0].set_ylim(0, 1)\n",
    "\n",
    "        fmt = mp.ticker.FuncFormatter(lambda x, pos: f'{x / 3600:.0f}h')\n",
    "        axes[i][0].xaxis.set_major_formatter(fmt)\n",
    "        axes[i][1].xaxis.set_major_formatter(fmt)\n",
    "\n",
    "    fig.tight_layout()\n",
    "\n",
    "    print(f'Based on {mask.sum()} event(s)')"
   ]
  },
  {
   "cell_type": "code",
   "execution_count": null,
   "metadata": {},
   "outputs": [],
   "source": [
    "names = {'elite': 'Elite', 'radio': 'Radio', 'decahose': 'Firehose', 'decahose-no-covid-2020': 'Firehose ex. Covid'}\n",
    "names = {v: k for k, v in names.items()}\n",
    "\n",
    "cdf_ovrl.rename(names, axis=1, inplace=True)\n",
    "pdf_ovrl.rename(names, axis=1, inplace=True)"
   ]
  },
  {
   "cell_type": "markdown",
   "metadata": {},
   "source": [
    "### Bootstrap tests"
   ]
  },
  {
   "cell_type": "code",
   "execution_count": null,
   "metadata": {},
   "outputs": [],
   "source": [
    "n_sims = 10000\n",
    "\n",
    "test_max = 2880\n",
    "test_interval = 15"
   ]
  },
  {
   "cell_type": "code",
   "execution_count": null,
   "metadata": {},
   "outputs": [],
   "source": [
    "rng = np.random.default_rng(seed=seed)"
   ]
  },
  {
   "cell_type": "markdown",
   "metadata": {},
   "source": [
    "#### Liberal overall"
   ]
  },
  {
   "cell_type": "code",
   "execution_count": null,
   "metadata": {},
   "outputs": [],
   "source": [
    "tw_mask = mask_lib & (stats_lib['kind'] == 'elite')\n",
    "tw_cdf_vals = cdf_vals_lib[tw_mask, :][:, :test_max:test_interval]\n",
    "tw_actual = cdf_vals_lib[tw_mask, ...][:, :test_max:test_interval].mean(axis=0)\n",
    "\n",
    "tw_samples = []\n",
    "for i in trange(n_sims):\n",
    "    perm = rng.choice(tw_cdf_vals.shape[0], tw_cdf_vals.shape[0], replace=True)\n",
    "    tw_samples += [pd.Series(tw_cdf_vals[perm, ...].mean(axis=0)).rename('s' + str(i))]\n",
    "\n",
    "tw_samples = pd.DataFrame(tw_samples)\n",
    "tw_samples.index = ['s' + str(i) for i in range(n_sims)]\n",
    "tw_samples.columns = (tw_samples.columns.to_series() * cdf_query_inc)\n",
    "tw_samples = tw_samples.T"
   ]
  },
  {
   "cell_type": "code",
   "execution_count": null,
   "metadata": {},
   "outputs": [],
   "source": [
    "rd_mask = mask_lib & (stats_lib['kind'] == 'radio')\n",
    "rd_cdf_vals = cdf_vals_lib[rd_mask, :][:, :test_max:test_interval]\n",
    "rd_actual = cdf_vals_lib[rd_mask, ...][:, :test_max:test_interval].mean(axis=0)\n",
    "\n",
    "rd_samples = []\n",
    "for i in trange(n_sims):\n",
    "    perm = rng.choice(rd_cdf_vals.shape[0], rd_cdf_vals.shape[0], replace=True)\n",
    "    rd_samples += [pd.Series(rd_cdf_vals[perm, ...].mean(axis=0))]\n",
    "\n",
    "rd_samples = pd.DataFrame(rd_samples)\n",
    "rd_samples.index = ['s' + str(i) for i in range(n_sims)]\n",
    "rd_samples.columns = (rd_samples.columns.to_series() * cdf_query_inc)\n",
    "rd_samples = rd_samples.T"
   ]
  },
  {
   "cell_type": "code",
   "execution_count": null,
   "metadata": {},
   "outputs": [],
   "source": [
    "# sanity check\n",
    "with pd.option_context('display.float_format', lambda x: '%.7f' % x, 'display.max_rows', None):\n",
    "    display(pd.concat([\n",
    "        (tw_samples.mean(axis=1) - tw_actual).describe().rename('elite'),\n",
    "        (rd_samples.mean(axis=1) - rd_actual).describe().rename('radio'),\n",
    "    ], axis=1))"
   ]
  },
  {
   "cell_type": "code",
   "execution_count": null,
   "metadata": {},
   "outputs": [],
   "source": [
    "comp = (tw_samples > rd_samples).mean(axis=1)\n",
    "pvals = comp.apply(lambda pval: 2 * min(pval, 1 - pval))"
   ]
  },
  {
   "cell_type": "code",
   "execution_count": null,
   "metadata": {},
   "outputs": [],
   "source": [
    "pvals.describe()"
   ]
  },
  {
   "cell_type": "code",
   "execution_count": null,
   "metadata": {},
   "outputs": [],
   "source": [
    "pvals.value_counts().sort_index()"
   ]
  },
  {
   "cell_type": "code",
   "execution_count": null,
   "metadata": {},
   "outputs": [],
   "source": [
    "(pvals < 0.05).sum(), (pvals < 0.01).sum(), (pvals < 0.001).sum(), (pvals < 0.0001).sum()"
   ]
  },
  {
   "cell_type": "code",
   "execution_count": null,
   "metadata": {},
   "outputs": [],
   "source": [
    "pvals.plot()"
   ]
  },
  {
   "cell_type": "markdown",
   "metadata": {},
   "source": [
    "#### Conservative overall"
   ]
  },
  {
   "cell_type": "code",
   "execution_count": null,
   "metadata": {},
   "outputs": [],
   "source": [
    "tw_mask = mask_con & (stats_con['kind'] == 'elite')\n",
    "tw_cdf_vals = cdf_vals_con[tw_mask, :][:, :test_max:test_interval]\n",
    "tw_actual = cdf_vals_con[tw_mask, ...][:, :test_max:test_interval].mean(axis=0)\n",
    "\n",
    "tw_samples = []\n",
    "for i in trange(n_sims):\n",
    "    perm = rng.choice(tw_cdf_vals.shape[0], tw_cdf_vals.shape[0], replace=True)\n",
    "    tw_samples += [pd.Series(tw_cdf_vals[perm, ...].mean(axis=0)).rename('s' + str(i))]\n",
    "\n",
    "tw_samples = pd.DataFrame(tw_samples)\n",
    "tw_samples.index = ['s' + str(i) for i in range(n_sims)]\n",
    "tw_samples.columns = (tw_samples.columns.to_series() * cdf_query_inc)\n",
    "tw_samples = tw_samples.T"
   ]
  },
  {
   "cell_type": "code",
   "execution_count": null,
   "metadata": {},
   "outputs": [],
   "source": [
    "rd_mask = mask_con & (stats_con['kind'] == 'radio')\n",
    "rd_cdf_vals = cdf_vals_con[rd_mask, :][:, :test_max:test_interval]\n",
    "rd_actual = cdf_vals_con[rd_mask, ...][:, :test_max:test_interval].mean(axis=0)\n",
    "\n",
    "rd_samples = []\n",
    "for i in trange(n_sims):\n",
    "    perm = rng.choice(rd_cdf_vals.shape[0], rd_cdf_vals.shape[0], replace=True)\n",
    "    rd_samples += [pd.Series(rd_cdf_vals[perm, ...].mean(axis=0))]\n",
    "\n",
    "rd_samples = pd.DataFrame(rd_samples)\n",
    "rd_samples.index = ['s' + str(i) for i in range(n_sims)]\n",
    "rd_samples.columns = (rd_samples.columns.to_series() * cdf_query_inc)\n",
    "rd_samples = rd_samples.T"
   ]
  },
  {
   "cell_type": "code",
   "execution_count": null,
   "metadata": {},
   "outputs": [],
   "source": [
    "# sanity check\n",
    "with pd.option_context('display.float_format', lambda x: '%.7f' % x, 'display.max_rows', None):\n",
    "    display(pd.concat([\n",
    "        (tw_samples.mean(axis=1) - tw_actual).describe().rename('elite'),\n",
    "        (rd_samples.mean(axis=1) - rd_actual).describe().rename('radio'),\n",
    "    ], axis=1))"
   ]
  },
  {
   "cell_type": "code",
   "execution_count": null,
   "metadata": {},
   "outputs": [],
   "source": [
    "comp = (tw_samples > rd_samples).mean(axis=1)\n",
    "pvals = comp.apply(lambda pval: 2 * min(pval, 1 - pval))"
   ]
  },
  {
   "cell_type": "code",
   "execution_count": null,
   "metadata": {},
   "outputs": [],
   "source": [
    "pvals.describe()"
   ]
  },
  {
   "cell_type": "code",
   "execution_count": null,
   "metadata": {},
   "outputs": [],
   "source": [
    "pvals.value_counts().sort_index()"
   ]
  },
  {
   "cell_type": "code",
   "execution_count": null,
   "metadata": {},
   "outputs": [],
   "source": [
    "(pvals < 0.05).sum(), (pvals < 0.01).sum(), (pvals < 0.001).sum(), (pvals < 0.0001).sum()"
   ]
  },
  {
   "cell_type": "code",
   "execution_count": null,
   "metadata": {},
   "outputs": [],
   "source": [
    "pvals.plot()"
   ]
  },
  {
   "cell_type": "code",
   "execution_count": null,
   "metadata": {},
   "outputs": [],
   "source": []
  }
 ],
 "metadata": {
  "kernelspec": {
   "display_name": "DL",
   "language": "python",
   "name": "dl"
  },
  "language_info": {
   "codemirror_mode": {
    "name": "ipython",
    "version": 3
   },
   "file_extension": ".py",
   "mimetype": "text/x-python",
   "name": "python",
   "nbconvert_exporter": "python",
   "pygments_lexer": "ipython3",
   "version": "3.10.10"
  },
  "widgets": {
   "application/vnd.jupyter.widget-state+json": {
    "state": {
     "0522440e3323461db07470eec54118ef": {
      "model_module": "@jupyter-widgets/base",
      "model_module_version": "2.0.0",
      "model_name": "LayoutModel",
      "state": {}
     },
     "09f0b6dbe5d2442e9dd19ee925fe3421": {
      "model_module": "@jupyter-widgets/controls",
      "model_module_version": "2.0.0",
      "model_name": "HBoxModel",
      "state": {
       "children": [
        "IPY_MODEL_bcfc89a00b634ce7986998f9378fe444",
        "IPY_MODEL_32d7ff2beef347729fd271604b7b986d",
        "IPY_MODEL_247b2b410955457e9d29a05f456ccee8"
       ],
       "layout": "IPY_MODEL_7952470cfcc549f29734d88169f8d507"
      }
     },
     "0a53c1655fac409db7cbe580cae308ce": {
      "model_module": "@jupyter-widgets/base",
      "model_module_version": "2.0.0",
      "model_name": "LayoutModel",
      "state": {}
     },
     "0a9b5466914a4f3baa63c9818c97b3a1": {
      "model_module": "@jupyter-widgets/base",
      "model_module_version": "2.0.0",
      "model_name": "LayoutModel",
      "state": {}
     },
     "16f8669d0b514659a6355b42808e0e28": {
      "model_module": "@jupyter-widgets/controls",
      "model_module_version": "2.0.0",
      "model_name": "HBoxModel",
      "state": {
       "children": [
        "IPY_MODEL_ad389fee5942469c8eb61ef6a7baf980",
        "IPY_MODEL_3f5f2ed91a79446183dd1643b03f0456",
        "IPY_MODEL_d1cfb64c61f4402494f8ca252daeae3d"
       ],
       "layout": "IPY_MODEL_0a53c1655fac409db7cbe580cae308ce"
      }
     },
     "1db5164b57204603950a2e7f8af6f2b7": {
      "model_module": "@jupyter-widgets/controls",
      "model_module_version": "2.0.0",
      "model_name": "HBoxModel",
      "state": {
       "children": [
        "IPY_MODEL_5ad7f16e0b90475e82d34861fda0dfa9",
        "IPY_MODEL_f5a0971562614ec799ca1cae82068de4",
        "IPY_MODEL_2000fd1cd2bf4a59888bf131fc51ab8e"
       ],
       "layout": "IPY_MODEL_e3cc0ee888fc49c59955da4a9898c02f"
      }
     },
     "2000fd1cd2bf4a59888bf131fc51ab8e": {
      "model_module": "@jupyter-widgets/controls",
      "model_module_version": "2.0.0",
      "model_name": "HTMLModel",
      "state": {
       "layout": "IPY_MODEL_881f4be14fd34948beffd4217357c146",
       "style": "IPY_MODEL_36c138d79ba34728ba5de0c5ce91c70a",
       "value": " 10000/10000 [00:01&lt;00:00, 5481.59it/s]"
      }
     },
     "247b2b410955457e9d29a05f456ccee8": {
      "model_module": "@jupyter-widgets/controls",
      "model_module_version": "2.0.0",
      "model_name": "HTMLModel",
      "state": {
       "layout": "IPY_MODEL_dda6fa8435494e61838eb0b9443e554b",
       "style": "IPY_MODEL_ff3b2e99ef664f47ba0f26df8584587c",
       "value": " 10000/10000 [00:02&lt;00:00, 5187.76it/s]"
      }
     },
     "258f469aabf04fe2a29f14c236f7c0ab": {
      "model_module": "@jupyter-widgets/controls",
      "model_module_version": "2.0.0",
      "model_name": "HBoxModel",
      "state": {
       "children": [
        "IPY_MODEL_b82a04b3d65f4152ac9f9e49c461cff3",
        "IPY_MODEL_57b86694030f46c7a45bd7dbd65c6d93",
        "IPY_MODEL_d1d4a5085f0b41ffb292e224790239cb"
       ],
       "layout": "IPY_MODEL_5b3e15278ede4318af9b949060109bd2"
      }
     },
     "2a13008e2d2f4105b4f15aa06e2677ad": {
      "model_module": "@jupyter-widgets/controls",
      "model_module_version": "2.0.0",
      "model_name": "HTMLStyleModel",
      "state": {
       "description_width": "",
       "font_size": null,
       "text_color": null
      }
     },
     "2e073f8ac03d49ea8e893dd6772d2d39": {
      "model_module": "@jupyter-widgets/base",
      "model_module_version": "2.0.0",
      "model_name": "LayoutModel",
      "state": {}
     },
     "32d7ff2beef347729fd271604b7b986d": {
      "model_module": "@jupyter-widgets/controls",
      "model_module_version": "2.0.0",
      "model_name": "FloatProgressModel",
      "state": {
       "bar_style": "success",
       "layout": "IPY_MODEL_2e073f8ac03d49ea8e893dd6772d2d39",
       "max": 10000,
       "style": "IPY_MODEL_65f6d20207a44b498953385270b91c9f",
       "value": 10000
      }
     },
     "36c138d79ba34728ba5de0c5ce91c70a": {
      "model_module": "@jupyter-widgets/controls",
      "model_module_version": "2.0.0",
      "model_name": "HTMLStyleModel",
      "state": {
       "description_width": "",
       "font_size": null,
       "text_color": null
      }
     },
     "39f5f84bddcf4dc18fc83f52d2379ce1": {
      "model_module": "@jupyter-widgets/base",
      "model_module_version": "2.0.0",
      "model_name": "LayoutModel",
      "state": {}
     },
     "3f5f2ed91a79446183dd1643b03f0456": {
      "model_module": "@jupyter-widgets/controls",
      "model_module_version": "2.0.0",
      "model_name": "FloatProgressModel",
      "state": {
       "bar_style": "success",
       "layout": "IPY_MODEL_0a9b5466914a4f3baa63c9818c97b3a1",
       "max": 10000,
       "style": "IPY_MODEL_646fea7e50c444e78257d0aa7d8e0492",
       "value": 10000
      }
     },
     "5051529a07604a51b55a55c711434fd1": {
      "model_module": "@jupyter-widgets/controls",
      "model_module_version": "2.0.0",
      "model_name": "HTMLStyleModel",
      "state": {
       "description_width": "",
       "font_size": null,
       "text_color": null
      }
     },
     "56c82633f24f474a915fe1a02e5c01f8": {
      "model_module": "@jupyter-widgets/controls",
      "model_module_version": "2.0.0",
      "model_name": "HTMLStyleModel",
      "state": {
       "description_width": "",
       "font_size": null,
       "text_color": null
      }
     },
     "57b86694030f46c7a45bd7dbd65c6d93": {
      "model_module": "@jupyter-widgets/controls",
      "model_module_version": "2.0.0",
      "model_name": "FloatProgressModel",
      "state": {
       "bar_style": "success",
       "layout": "IPY_MODEL_9c0ea822092040ffb6820ed6c8923923",
       "max": 10000,
       "style": "IPY_MODEL_bc23be06bb1e4ee3902902943b8ca31f",
       "value": 10000
      }
     },
     "5ad7f16e0b90475e82d34861fda0dfa9": {
      "model_module": "@jupyter-widgets/controls",
      "model_module_version": "2.0.0",
      "model_name": "HTMLModel",
      "state": {
       "layout": "IPY_MODEL_95fb1ead1b5a414a9506dbddca737d71",
       "style": "IPY_MODEL_beef241fdaee494aab0a8516a1660a8d",
       "value": "100%"
      }
     },
     "5b3e15278ede4318af9b949060109bd2": {
      "model_module": "@jupyter-widgets/base",
      "model_module_version": "2.0.0",
      "model_name": "LayoutModel",
      "state": {}
     },
     "5ba022f249da46b8a46fd3ef342d5c9e": {
      "model_module": "@jupyter-widgets/controls",
      "model_module_version": "2.0.0",
      "model_name": "HTMLStyleModel",
      "state": {
       "description_width": "",
       "font_size": null,
       "text_color": null
      }
     },
     "646fea7e50c444e78257d0aa7d8e0492": {
      "model_module": "@jupyter-widgets/controls",
      "model_module_version": "2.0.0",
      "model_name": "ProgressStyleModel",
      "state": {
       "description_width": ""
      }
     },
     "65f6d20207a44b498953385270b91c9f": {
      "model_module": "@jupyter-widgets/controls",
      "model_module_version": "2.0.0",
      "model_name": "ProgressStyleModel",
      "state": {
       "description_width": ""
      }
     },
     "70eb82ede61747abb171265125ddd529": {
      "model_module": "@jupyter-widgets/base",
      "model_module_version": "2.0.0",
      "model_name": "LayoutModel",
      "state": {}
     },
     "7952470cfcc549f29734d88169f8d507": {
      "model_module": "@jupyter-widgets/base",
      "model_module_version": "2.0.0",
      "model_name": "LayoutModel",
      "state": {}
     },
     "7e2676d4778a4c06850613d55c743175": {
      "model_module": "@jupyter-widgets/base",
      "model_module_version": "2.0.0",
      "model_name": "LayoutModel",
      "state": {}
     },
     "881f4be14fd34948beffd4217357c146": {
      "model_module": "@jupyter-widgets/base",
      "model_module_version": "2.0.0",
      "model_name": "LayoutModel",
      "state": {}
     },
     "95fb1ead1b5a414a9506dbddca737d71": {
      "model_module": "@jupyter-widgets/base",
      "model_module_version": "2.0.0",
      "model_name": "LayoutModel",
      "state": {}
     },
     "9c0ea822092040ffb6820ed6c8923923": {
      "model_module": "@jupyter-widgets/base",
      "model_module_version": "2.0.0",
      "model_name": "LayoutModel",
      "state": {}
     },
     "a793fdbd86834e8a85a8bfaaf6a406c9": {
      "model_module": "@jupyter-widgets/base",
      "model_module_version": "2.0.0",
      "model_name": "LayoutModel",
      "state": {}
     },
     "a940d12b17554daf80a601263379085a": {
      "model_module": "@jupyter-widgets/base",
      "model_module_version": "2.0.0",
      "model_name": "LayoutModel",
      "state": {}
     },
     "ad389fee5942469c8eb61ef6a7baf980": {
      "model_module": "@jupyter-widgets/controls",
      "model_module_version": "2.0.0",
      "model_name": "HTMLModel",
      "state": {
       "layout": "IPY_MODEL_a940d12b17554daf80a601263379085a",
       "style": "IPY_MODEL_c487a3435aea4a78bbf4e435ade3b44e",
       "value": "100%"
      }
     },
     "b82a04b3d65f4152ac9f9e49c461cff3": {
      "model_module": "@jupyter-widgets/controls",
      "model_module_version": "2.0.0",
      "model_name": "HTMLModel",
      "state": {
       "layout": "IPY_MODEL_0522440e3323461db07470eec54118ef",
       "style": "IPY_MODEL_56c82633f24f474a915fe1a02e5c01f8",
       "value": "100%"
      }
     },
     "bc23be06bb1e4ee3902902943b8ca31f": {
      "model_module": "@jupyter-widgets/controls",
      "model_module_version": "2.0.0",
      "model_name": "ProgressStyleModel",
      "state": {
       "description_width": ""
      }
     },
     "bcfc89a00b634ce7986998f9378fe444": {
      "model_module": "@jupyter-widgets/controls",
      "model_module_version": "2.0.0",
      "model_name": "HTMLModel",
      "state": {
       "layout": "IPY_MODEL_a793fdbd86834e8a85a8bfaaf6a406c9",
       "style": "IPY_MODEL_5051529a07604a51b55a55c711434fd1",
       "value": "100%"
      }
     },
     "beef241fdaee494aab0a8516a1660a8d": {
      "model_module": "@jupyter-widgets/controls",
      "model_module_version": "2.0.0",
      "model_name": "HTMLStyleModel",
      "state": {
       "description_width": "",
       "font_size": null,
       "text_color": null
      }
     },
     "c487a3435aea4a78bbf4e435ade3b44e": {
      "model_module": "@jupyter-widgets/controls",
      "model_module_version": "2.0.0",
      "model_name": "HTMLStyleModel",
      "state": {
       "description_width": "",
       "font_size": null,
       "text_color": null
      }
     },
     "d1cfb64c61f4402494f8ca252daeae3d": {
      "model_module": "@jupyter-widgets/controls",
      "model_module_version": "2.0.0",
      "model_name": "HTMLModel",
      "state": {
       "layout": "IPY_MODEL_7e2676d4778a4c06850613d55c743175",
       "style": "IPY_MODEL_2a13008e2d2f4105b4f15aa06e2677ad",
       "value": " 10000/10000 [00:01&lt;00:00, 7585.38it/s]"
      }
     },
     "d1d4a5085f0b41ffb292e224790239cb": {
      "model_module": "@jupyter-widgets/controls",
      "model_module_version": "2.0.0",
      "model_name": "HTMLModel",
      "state": {
       "layout": "IPY_MODEL_70eb82ede61747abb171265125ddd529",
       "style": "IPY_MODEL_5ba022f249da46b8a46fd3ef342d5c9e",
       "value": " 10000/10000 [00:01&lt;00:00, 5404.93it/s]"
      }
     },
     "dcd6bc8046c04542a26cc0bcd056fd00": {
      "model_module": "@jupyter-widgets/controls",
      "model_module_version": "2.0.0",
      "model_name": "ProgressStyleModel",
      "state": {
       "description_width": ""
      }
     },
     "dda6fa8435494e61838eb0b9443e554b": {
      "model_module": "@jupyter-widgets/base",
      "model_module_version": "2.0.0",
      "model_name": "LayoutModel",
      "state": {}
     },
     "e3cc0ee888fc49c59955da4a9898c02f": {
      "model_module": "@jupyter-widgets/base",
      "model_module_version": "2.0.0",
      "model_name": "LayoutModel",
      "state": {}
     },
     "f5a0971562614ec799ca1cae82068de4": {
      "model_module": "@jupyter-widgets/controls",
      "model_module_version": "2.0.0",
      "model_name": "FloatProgressModel",
      "state": {
       "bar_style": "success",
       "layout": "IPY_MODEL_39f5f84bddcf4dc18fc83f52d2379ce1",
       "max": 10000,
       "style": "IPY_MODEL_dcd6bc8046c04542a26cc0bcd056fd00",
       "value": 10000
      }
     },
     "ff3b2e99ef664f47ba0f26df8584587c": {
      "model_module": "@jupyter-widgets/controls",
      "model_module_version": "2.0.0",
      "model_name": "HTMLStyleModel",
      "state": {
       "description_width": "",
       "font_size": null,
       "text_color": null
      }
     }
    },
    "version_major": 2,
    "version_minor": 0
   }
  }
 },
 "nbformat": 4,
 "nbformat_minor": 4
}
