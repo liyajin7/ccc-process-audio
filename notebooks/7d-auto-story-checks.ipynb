{
 "cells": [
  {
   "cell_type": "code",
   "execution_count": null,
   "metadata": {},
   "outputs": [],
   "source": [
    "import os\n",
    "import re\n",
    "import gzip\n",
    "import random\n",
    "import pickle\n",
    "import logging\n",
    "\n",
    "import numpy as np\n",
    "import pandas as pd\n",
    "import seaborn as sns\n",
    "\n",
    "import matplotlib as mp\n",
    "%matplotlib inline\n",
    "import matplotlib.pyplot as plt\n",
    "\n",
    "from statsmodels.distributions.empirical_distribution import ECDF\n",
    "\n",
    "from IPython.display import display\n",
    "from tqdm.notebook import tqdm"
   ]
  },
  {
   "cell_type": "code",
   "execution_count": null,
   "metadata": {},
   "outputs": [],
   "source": [
    "logger = logging.getLogger(__name__)\n",
    "\n",
    "fmt = '%(asctime)s : %(levelname)s : %(message)s'\n",
    "logging.basicConfig(format=fmt, level=logging.INFO)"
   ]
  },
  {
   "cell_type": "code",
   "execution_count": null,
   "metadata": {},
   "outputs": [],
   "source": [
    "os.chdir(os.path.expanduser('~/github/masthesis/'))"
   ]
  },
  {
   "cell_type": "code",
   "execution_count": null,
   "metadata": {},
   "outputs": [],
   "source": [
    "seed = 2969591811\n",
    "\n",
    "random.seed(seed)\n",
    "np.random.seed(seed)"
   ]
  },
  {
   "cell_type": "markdown",
   "metadata": {},
   "source": [
    "# Load data"
   ]
  },
  {
   "cell_type": "code",
   "execution_count": null,
   "metadata": {},
   "outputs": [],
   "source": [
    "with gzip.open('data/paper-round-3/radio/new-data-processed.csv.gz', 'rt') as f:\n",
    "    radio_data = pd.read_csv(f, index_col='snippet_id', parse_dates=['timestamp'])\n",
    "radio_data = radio_data.loc[radio_data['year'] == 2022]"
   ]
  },
  {
   "cell_type": "code",
   "execution_count": null,
   "metadata": {},
   "outputs": [],
   "source": [
    "assert radio_data['timestamp'].dtype == np.dtype('<M8[ns]')"
   ]
  },
  {
   "cell_type": "code",
   "execution_count": null,
   "metadata": {},
   "outputs": [],
   "source": [
    "with gzip.open('data/paper-round-3/event-annotated/auto-sample.csv.gz', 'rt') as f:\n",
    "    dat = pd.read_csv(f, parse_dates=['timestamp'], index_col='id')\n",
    "\n",
    "assert dat.index.is_unique\n",
    "\n",
    "dat.shape"
   ]
  },
  {
   "cell_type": "code",
   "execution_count": null,
   "metadata": {},
   "outputs": [],
   "source": [
    "with gzip.open('data/paper-round-3/event-annotated/auto-sample-communities-merged-pre-filter.csv.gz', 'rt') as f:\n",
    "    comms = pd.read_csv(f, index_col='id')\n",
    "\n",
    "assert comms.index.is_unique\n",
    "\n",
    "comms.shape"
   ]
  },
  {
   "cell_type": "code",
   "execution_count": null,
   "metadata": {},
   "outputs": [],
   "source": [
    "dat['group'] = comms['group']\n",
    "dat = dat.loc[dat['group'].notna(), :]\n",
    "\n",
    "dat['group'] = dat['group'].astype(int)\n",
    "dat['year'] = dat['year'].astype(int)"
   ]
  },
  {
   "cell_type": "code",
   "execution_count": null,
   "metadata": {},
   "outputs": [],
   "source": [
    "with open('data/paper-round-3/event-annotated/auto-story-cdfs.npy', 'rb') as f:\n",
    "    cdf_vals = np.load(f)"
   ]
  },
  {
   "cell_type": "code",
   "execution_count": null,
   "metadata": {},
   "outputs": [],
   "source": [
    "with open('data/paper-round-3/event-annotated/auto-sample-mean-embs-uniques.pkl', 'rb') as f:\n",
    "    all_uniques, all_mean_embs = pickle.load(f)\n",
    "all_uniques['story_id'] = all_uniques['year'].astype(str) + '-' + all_uniques['kind'] + '-' + all_uniques['group'].astype(str)"
   ]
  },
  {
   "cell_type": "code",
   "execution_count": null,
   "metadata": {},
   "outputs": [],
   "source": [
    "stats = pd.read_csv('data/paper-round-3/event-annotated/auto-story-stats.csv', index_col='story_id')\n",
    "\n",
    "assert stats.index.is_unique\n",
    "assert (stats.groupby(['year', 'kind']).size() == stats.groupby(['year', 'kind'])['group'].nunique()).all()"
   ]
  },
  {
   "cell_type": "code",
   "execution_count": null,
   "metadata": {},
   "outputs": [],
   "source": [
    "selected = pd.read_csv('data/paper-round-3/event-annotated/auto-sample-communities-filter-list.csv', index_col='story_id')\n",
    "assert selected.index.is_unique\n",
    "\n",
    "covid_threshold = 0.1\n",
    "selected['decahose_covid_2020'] = (selected['year'] == 2020) & (selected['kind'] == 'decahose') & (selected['covid'] >= covid_threshold)\n",
    "stats['decahose_covid_2020'] = selected['decahose_covid_2020']\n",
    "stats['decahose_covid_2020'] = stats['decahose_covid_2020'].fillna(False)"
   ]
  },
  {
   "cell_type": "code",
   "execution_count": null,
   "metadata": {},
   "outputs": [],
   "source": [
    "matching = pd.read_csv('data/paper-round-3/event-annotated/auto-sample-communities-matching.csv')"
   ]
  },
  {
   "cell_type": "code",
   "execution_count": null,
   "metadata": {},
   "outputs": [],
   "source": [
    "length_mask = (stats['count'] >= 10)\n",
    "\n",
    "selected_mask = stats.index.isin(selected.index)\n",
    "\n",
    "matching_mask = stats.index.isin(\n",
    "    matching['story_id_elite'].tolist() +\n",
    "    matching['story_id_radio'].tolist() +\n",
    "    matching.loc[matching['story_id_decahose'].notna(), 'story_id_decahose'].tolist()\n",
    ")\n",
    "\n",
    "mask = (\n",
    "    length_mask\n",
    "    & (selected_mask | matching_mask)\n",
    ")\n",
    "\n",
    "mask.sum(), stats.shape[0]"
   ]
  },
  {
   "cell_type": "code",
   "execution_count": null,
   "metadata": {},
   "outputs": [],
   "source": [
    "stats.groupby('year').size()"
   ]
  },
  {
   "cell_type": "code",
   "execution_count": null,
   "metadata": {},
   "outputs": [],
   "source": [
    "stats.groupby('kind').size()"
   ]
  },
  {
   "cell_type": "code",
   "execution_count": null,
   "metadata": {},
   "outputs": [],
   "source": [
    "stats.groupby(['year', 'kind']).size()"
   ]
  },
  {
   "cell_type": "code",
   "execution_count": null,
   "metadata": {},
   "outputs": [],
   "source": [
    "stats.loc[mask].groupby('year').size()"
   ]
  },
  {
   "cell_type": "code",
   "execution_count": null,
   "metadata": {},
   "outputs": [],
   "source": [
    "stats.loc[mask].groupby('kind').size()"
   ]
  },
  {
   "cell_type": "code",
   "execution_count": null,
   "metadata": {},
   "outputs": [],
   "source": [
    "stats.loc[mask].groupby(['year', 'kind']).size()"
   ]
  },
  {
   "cell_type": "code",
   "execution_count": null,
   "metadata": {},
   "outputs": [],
   "source": [
    "stats.loc[mask].groupby(['year', 'kind'])['dur'].mean()"
   ]
  },
  {
   "cell_type": "code",
   "execution_count": null,
   "metadata": {},
   "outputs": [],
   "source": [
    "stats.loc[mask, 'start'].hist(by=stats.loc[mask, 'year'])"
   ]
  },
  {
   "cell_type": "markdown",
   "metadata": {},
   "source": [
    "# Utilities"
   ]
  },
  {
   "cell_type": "code",
   "execution_count": null,
   "metadata": {},
   "outputs": [],
   "source": [
    "# cdf_query_end and cdf_query_inc are as also defined in the 5a notebook which calculates the cdfs\n",
    "def show_example(year, kind, group_ids, cdf_query_end=2*24*3600, cdf_query_inc=60):\n",
    "    if isinstance(group_ids, int):\n",
    "        group_ids = [group_ids]\n",
    "    \n",
    "    tmp = dat.loc[(dat['year'] == year) & (dat['kind'] == kind) & dat['group'].isin(group_ids), :].copy()\n",
    "    tmp['reltime'] -= tmp['reltime'].min()\n",
    "\n",
    "    cdf_query_pts = np.arange(0, cdf_query_end, cdf_query_inc)\n",
    "    cdf = ECDF(tmp['reltime'])(cdf_query_pts)\n",
    "\n",
    "    with pd.option_context('display.max_colwidth', 0):\n",
    "        print('group id(s): ' + ','.join(str(c) for c in group_ids))\n",
    "        print('number of items: ' + str(tmp.shape[0]))\n",
    "        display(tmp.sample(min(tmp.shape[0], 10)))\n",
    "        display(tmp.head(min(tmp.shape[0], 10)))\n",
    "\n",
    "    fig, axes = plt.subplots(1, 2, figsize=(10, 5))\n",
    "    tmp.loc[tmp['reltime'] <= tmp['reltime'].min() + cdf_query_end, :].hist('timestamp', ax=axes[0], xrot=45)\n",
    "\n",
    "    axes[1].plot(cdf_query_pts, cdf)\n",
    "\n",
    "    axes[0].set_title('Item times')\n",
    "    axes[1].set_title('ECDF')\n",
    "    axes[1].set_ylim(0, 1)\n",
    "\n",
    "    fmt = mp.ticker.FuncFormatter(lambda x, pos: f'{x / 3600:.0f}h')\n",
    "    axes[1].xaxis.set_major_formatter(fmt)"
   ]
  },
  {
   "cell_type": "markdown",
   "metadata": {},
   "source": [
    "# 2019"
   ]
  },
  {
   "cell_type": "markdown",
   "metadata": {},
   "source": [
    "## Decahose"
   ]
  },
  {
   "cell_type": "markdown",
   "metadata": {},
   "source": [
    "### Example 1"
   ]
  },
  {
   "cell_type": "code",
   "execution_count": null,
   "metadata": {
    "tags": []
   },
   "outputs": [],
   "source": [
    "year = 2019\n",
    "kind = 'decahose'\n",
    "\n",
    "group_id = 536\n",
    "# group_id = stats.loc[mask & (stats['kind'] == kind) & (stats['year'] == year), 'group'].sample(1).item()\n",
    "\n",
    "show_example(year, kind, group_id)"
   ]
  },
  {
   "cell_type": "markdown",
   "metadata": {},
   "source": [
    "### Example 2"
   ]
  },
  {
   "cell_type": "code",
   "execution_count": null,
   "metadata": {
    "tags": []
   },
   "outputs": [],
   "source": [
    "year = 2019\n",
    "kind = 'decahose'\n",
    "\n",
    "group_id = 1003\n",
    "# group_id = stats.loc[mask & (stats['kind'] == kind) & (stats['year'] == year), 'group'].sample(1).item()\n",
    "\n",
    "show_example(year, kind, group_id)"
   ]
  },
  {
   "cell_type": "markdown",
   "metadata": {},
   "source": [
    "### Example 3"
   ]
  },
  {
   "cell_type": "code",
   "execution_count": null,
   "metadata": {
    "tags": []
   },
   "outputs": [],
   "source": [
    "year = 2019\n",
    "kind = 'decahose'\n",
    "\n",
    "group_id = 872\n",
    "# group_id = stats.loc[mask & (stats['kind'] == kind) & (stats['year'] == year), 'group'].sample(1).item()\n",
    "\n",
    "show_example(year, kind, group_id)"
   ]
  },
  {
   "cell_type": "markdown",
   "metadata": {},
   "source": [
    "## Elite"
   ]
  },
  {
   "cell_type": "markdown",
   "metadata": {},
   "source": [
    "### Example 1"
   ]
  },
  {
   "cell_type": "code",
   "execution_count": null,
   "metadata": {
    "tags": []
   },
   "outputs": [],
   "source": [
    "year = 2019\n",
    "kind = 'elite'\n",
    "\n",
    "group_id = 511\n",
    "# group_id = stats.loc[mask & (stats['kind'] == kind) & (stats['year'] == year), 'group'].sample(1).item()\n",
    "\n",
    "show_example(year, kind, group_id)"
   ]
  },
  {
   "cell_type": "markdown",
   "metadata": {},
   "source": [
    "### Example 2"
   ]
  },
  {
   "cell_type": "code",
   "execution_count": null,
   "metadata": {
    "tags": []
   },
   "outputs": [],
   "source": [
    "year = 2019\n",
    "kind = 'elite'\n",
    "\n",
    "group_id = 128\n",
    "# group_id = stats.loc[mask & (stats['kind'] == kind) & (stats['year'] == year), 'group'].sample(1).item()\n",
    "\n",
    "show_example(year, kind, group_id)"
   ]
  },
  {
   "cell_type": "markdown",
   "metadata": {},
   "source": [
    "### Example 3"
   ]
  },
  {
   "cell_type": "code",
   "execution_count": null,
   "metadata": {
    "tags": []
   },
   "outputs": [],
   "source": [
    "year = 2019\n",
    "kind = 'elite'\n",
    "\n",
    "group_id = 15\n",
    "# group_id = stats.loc[mask & (stats['kind'] == kind) & (stats['year'] == year), 'group'].sample(1).item()\n",
    "\n",
    "show_example(year, kind, group_id)"
   ]
  },
  {
   "cell_type": "markdown",
   "metadata": {
    "tags": []
   },
   "source": [
    "## Radio"
   ]
  },
  {
   "cell_type": "markdown",
   "metadata": {},
   "source": [
    "### Example 1"
   ]
  },
  {
   "cell_type": "code",
   "execution_count": null,
   "metadata": {
    "tags": []
   },
   "outputs": [],
   "source": [
    "year = 2019\n",
    "kind = 'radio'\n",
    "\n",
    "group_id = 100\n",
    "# group_id = stats.loc[mask & (stats['kind'] == kind) & (stats['year'] == year), 'group'].sample(1).item()\n",
    "\n",
    "show_example(year, kind, group_id)"
   ]
  },
  {
   "cell_type": "markdown",
   "metadata": {},
   "source": [
    "### Example 2"
   ]
  },
  {
   "cell_type": "code",
   "execution_count": null,
   "metadata": {
    "tags": []
   },
   "outputs": [],
   "source": [
    "year = 2019\n",
    "kind = 'radio'\n",
    "\n",
    "group_id = 194\n",
    "# group_id = stats.loc[mask & (stats['kind'] == kind) & (stats['year'] == year), 'group'].sample(1).item()\n",
    "\n",
    "show_example(year, kind, group_id)"
   ]
  },
  {
   "cell_type": "markdown",
   "metadata": {},
   "source": [
    "### Example 3"
   ]
  },
  {
   "cell_type": "code",
   "execution_count": null,
   "metadata": {
    "tags": []
   },
   "outputs": [],
   "source": [
    "year = 2019\n",
    "kind = 'radio'\n",
    "\n",
    "group_id = 33\n",
    "# group_id = stats.loc[mask & (stats['kind'] == kind) & (stats['year'] == year), 'group'].sample(1).item()\n",
    "\n",
    "show_example(year, kind, group_id)"
   ]
  },
  {
   "cell_type": "markdown",
   "metadata": {},
   "source": [
    "# 2020"
   ]
  },
  {
   "cell_type": "markdown",
   "metadata": {},
   "source": [
    "## Decahose"
   ]
  },
  {
   "cell_type": "markdown",
   "metadata": {},
   "source": [
    "### Example 1"
   ]
  },
  {
   "cell_type": "code",
   "execution_count": null,
   "metadata": {
    "tags": []
   },
   "outputs": [],
   "source": [
    "year = 2020\n",
    "kind = 'decahose'\n",
    "\n",
    "group_id = 419\n",
    "# group_id = stats.loc[mask & (stats['kind'] == kind) & (stats['year'] == year), 'group'].sample(1).item()\n",
    "\n",
    "show_example(year, kind, group_id)"
   ]
  },
  {
   "cell_type": "markdown",
   "metadata": {},
   "source": [
    "### Example 2"
   ]
  },
  {
   "cell_type": "code",
   "execution_count": null,
   "metadata": {
    "tags": []
   },
   "outputs": [],
   "source": [
    "year = 2020\n",
    "kind = 'decahose'\n",
    "\n",
    "group_id = 873\n",
    "# group_id = stats.loc[mask & (stats['kind'] == kind) & (stats['year'] == year), 'group'].sample(1).item()\n",
    "\n",
    "show_example(year, kind, group_id)"
   ]
  },
  {
   "cell_type": "markdown",
   "metadata": {},
   "source": [
    "### Example 3"
   ]
  },
  {
   "cell_type": "code",
   "execution_count": null,
   "metadata": {
    "tags": []
   },
   "outputs": [],
   "source": [
    "year = 2020\n",
    "kind = 'decahose'\n",
    "\n",
    "group_id = 129\n",
    "# group_id = stats.loc[mask & (stats['kind'] == kind) & (stats['year'] == year), 'group'].sample(1).item()\n",
    "\n",
    "show_example(year, kind, group_id)"
   ]
  },
  {
   "cell_type": "markdown",
   "metadata": {},
   "source": [
    "## Elite"
   ]
  },
  {
   "cell_type": "markdown",
   "metadata": {},
   "source": [
    "### Example 1"
   ]
  },
  {
   "cell_type": "code",
   "execution_count": null,
   "metadata": {
    "tags": []
   },
   "outputs": [],
   "source": [
    "year = 2020\n",
    "kind = 'elite'\n",
    "\n",
    "group_id = 347\n",
    "# group_id = stats.loc[mask & (stats['kind'] == kind) & (stats['year'] == year), 'group'].sample(1).item()\n",
    "\n",
    "show_example(year, kind, group_id)"
   ]
  },
  {
   "cell_type": "markdown",
   "metadata": {},
   "source": [
    "### Example 2"
   ]
  },
  {
   "cell_type": "code",
   "execution_count": null,
   "metadata": {
    "tags": []
   },
   "outputs": [],
   "source": [
    "year = 2020\n",
    "kind = 'elite'\n",
    "\n",
    "group_id = 314\n",
    "# group_id = stats.loc[mask & (stats['kind'] == kind) & (stats['year'] == year), 'group'].sample(1).item()\n",
    "\n",
    "show_example(year, kind, group_id)"
   ]
  },
  {
   "cell_type": "markdown",
   "metadata": {},
   "source": [
    "### Example 3"
   ]
  },
  {
   "cell_type": "code",
   "execution_count": null,
   "metadata": {
    "tags": []
   },
   "outputs": [],
   "source": [
    "year = 2020\n",
    "kind = 'elite'\n",
    "\n",
    "group_id = 616\n",
    "# group_id = stats.loc[mask & (stats['kind'] == kind) & (stats['year'] == year), 'group'].sample(1).item()\n",
    "\n",
    "show_example(year, kind, group_id)"
   ]
  },
  {
   "cell_type": "markdown",
   "metadata": {},
   "source": [
    "## Radio"
   ]
  },
  {
   "cell_type": "markdown",
   "metadata": {},
   "source": [
    "### Example 1"
   ]
  },
  {
   "cell_type": "code",
   "execution_count": null,
   "metadata": {
    "tags": []
   },
   "outputs": [],
   "source": [
    "year = 2020\n",
    "kind = 'radio'\n",
    "\n",
    "group_id = 606\n",
    "# group_id = stats.loc[mask & (stats['kind'] == kind) & (stats['year'] == year), 'group'].sample(1).item()\n",
    "\n",
    "show_example(year, kind, group_id)"
   ]
  },
  {
   "cell_type": "markdown",
   "metadata": {},
   "source": [
    "### Example 2"
   ]
  },
  {
   "cell_type": "code",
   "execution_count": null,
   "metadata": {
    "tags": []
   },
   "outputs": [],
   "source": [
    "year = 2020\n",
    "kind = 'radio'\n",
    "\n",
    "group_id = 894\n",
    "# group_id = stats.loc[mask & (stats['kind'] == kind) & (stats['year'] == year), 'group'].sample(1).item()\n",
    "\n",
    "show_example(year, kind, group_id)"
   ]
  },
  {
   "cell_type": "markdown",
   "metadata": {},
   "source": [
    "### Example 3"
   ]
  },
  {
   "cell_type": "code",
   "execution_count": null,
   "metadata": {
    "tags": []
   },
   "outputs": [],
   "source": [
    "year = 2020\n",
    "kind = 'radio'\n",
    "\n",
    "group_id = 551\n",
    "# group_id = stats.loc[mask & (stats['kind'] == kind) & (stats['year'] == year), 'group'].sample(1).item()\n",
    "\n",
    "show_example(year, kind, group_id)"
   ]
  },
  {
   "cell_type": "markdown",
   "metadata": {},
   "source": [
    "# 2021"
   ]
  },
  {
   "cell_type": "markdown",
   "metadata": {},
   "source": [
    "## Decahose"
   ]
  },
  {
   "cell_type": "markdown",
   "metadata": {},
   "source": [
    "### Example 1"
   ]
  },
  {
   "cell_type": "code",
   "execution_count": null,
   "metadata": {
    "tags": []
   },
   "outputs": [],
   "source": [
    "year = 2021\n",
    "kind = 'decahose'\n",
    "\n",
    "group_id = 1033\n",
    "# group_id = stats.loc[mask & (stats['kind'] == kind) & (stats['year'] == year), 'group'].sample(1).item()\n",
    "\n",
    "show_example(year, kind, group_id)"
   ]
  },
  {
   "cell_type": "markdown",
   "metadata": {},
   "source": [
    "### Example 2"
   ]
  },
  {
   "cell_type": "code",
   "execution_count": null,
   "metadata": {
    "tags": []
   },
   "outputs": [],
   "source": [
    "year = 2021\n",
    "kind = 'decahose'\n",
    "\n",
    "group_id = 0  # the J6 riot story, fun\n",
    "# group_id = stats.loc[mask & (stats['kind'] == kind) & (stats['year'] == year), 'group'].sample(1).item()\n",
    "\n",
    "show_example(year, kind, group_id)"
   ]
  },
  {
   "cell_type": "markdown",
   "metadata": {},
   "source": [
    "### Example 3"
   ]
  },
  {
   "cell_type": "code",
   "execution_count": null,
   "metadata": {
    "tags": []
   },
   "outputs": [],
   "source": [
    "year = 2021\n",
    "kind = 'decahose'\n",
    "\n",
    "group_id = 1363\n",
    "# group_id = stats.loc[mask & (stats['kind'] == kind) & (stats['year'] == year), 'group'].sample(1).item()\n",
    "\n",
    "show_example(year, kind, group_id)"
   ]
  },
  {
   "cell_type": "markdown",
   "metadata": {},
   "source": [
    "## Elite"
   ]
  },
  {
   "cell_type": "markdown",
   "metadata": {},
   "source": [
    "### Example 1"
   ]
  },
  {
   "cell_type": "code",
   "execution_count": null,
   "metadata": {
    "tags": []
   },
   "outputs": [],
   "source": [
    "year = 2021\n",
    "kind = 'elite'\n",
    "\n",
    "group_id = 86\n",
    "# group_id = stats.loc[mask & (stats['kind'] == kind) & (stats['year'] == year), 'group'].sample(1).item()\n",
    "\n",
    "show_example(year, kind, group_id)"
   ]
  },
  {
   "cell_type": "markdown",
   "metadata": {},
   "source": [
    "### Example 2"
   ]
  },
  {
   "cell_type": "code",
   "execution_count": null,
   "metadata": {
    "tags": []
   },
   "outputs": [],
   "source": [
    "year = 2021\n",
    "kind = 'elite'\n",
    "\n",
    "group_id = 7\n",
    "# group_id = stats.loc[mask & (stats['kind'] == kind) & (stats['year'] == year), 'group'].sample(1).item()\n",
    "\n",
    "show_example(year, kind, group_id)"
   ]
  },
  {
   "cell_type": "markdown",
   "metadata": {},
   "source": [
    "### Example 3"
   ]
  },
  {
   "cell_type": "code",
   "execution_count": null,
   "metadata": {
    "tags": []
   },
   "outputs": [],
   "source": [
    "year = 2021\n",
    "kind = 'elite'\n",
    "\n",
    "group_id = 53\n",
    "# group_id = stats.loc[mask & (stats['kind'] == kind) & (stats['year'] == year), 'group'].sample(1).item()\n",
    "\n",
    "show_example(year, kind, group_id)"
   ]
  },
  {
   "cell_type": "markdown",
   "metadata": {},
   "source": [
    "## Radio"
   ]
  },
  {
   "cell_type": "markdown",
   "metadata": {},
   "source": [
    "### Example 1"
   ]
  },
  {
   "cell_type": "code",
   "execution_count": null,
   "metadata": {
    "tags": []
   },
   "outputs": [],
   "source": [
    "year = 2021\n",
    "kind = 'radio'\n",
    "\n",
    "group_id = 99\n",
    "# group_id = stats.loc[mask & (stats['kind'] == kind) & (stats['year'] == year), 'group'].sample(1).item()\n",
    "\n",
    "show_example(year, kind, group_id)"
   ]
  },
  {
   "cell_type": "markdown",
   "metadata": {},
   "source": [
    "### Example 2"
   ]
  },
  {
   "cell_type": "code",
   "execution_count": null,
   "metadata": {
    "tags": []
   },
   "outputs": [],
   "source": [
    "year = 2021\n",
    "kind = 'radio'\n",
    "\n",
    "group_id = 179\n",
    "# group_id = stats.loc[mask & (stats['kind'] == kind) & (stats['year'] == year), 'group'].sample(1).item()\n",
    "\n",
    "show_example(year, kind, group_id)"
   ]
  },
  {
   "cell_type": "markdown",
   "metadata": {},
   "source": [
    "### Example 3"
   ]
  },
  {
   "cell_type": "code",
   "execution_count": null,
   "metadata": {
    "tags": []
   },
   "outputs": [],
   "source": [
    "year = 2021\n",
    "kind = 'radio'\n",
    "\n",
    "group_id = 124\n",
    "# group_id = stats.loc[mask & (stats['kind'] == kind) & (stats['year'] == year), 'group'].sample(1).item()\n",
    "\n",
    "show_example(year, kind, group_id)"
   ]
  },
  {
   "cell_type": "markdown",
   "metadata": {},
   "source": [
    "# Inspect matches"
   ]
  },
  {
   "cell_type": "markdown",
   "metadata": {},
   "source": [
    "## Example 1"
   ]
  },
  {
   "cell_type": "code",
   "execution_count": null,
   "metadata": {
    "tags": []
   },
   "outputs": [],
   "source": [
    "i = 4\n",
    "# i = np.random.randint(0, matching.shape[0])\n",
    "\n",
    "year = int(matching.iloc[i, :]['year'])\n",
    "group_elite = int(matching.iloc[i, :]['group_elite'])\n",
    "group_radio = int(matching.iloc[i, :]['group_radio'])\n",
    "group_decahose = int(matching.iloc[i, :]['group_decahose'])\n",
    "\n",
    "print(i, year, group_elite, group_radio, group_decahose)\n",
    "print(matching.iloc[i, :]['sim_elite_radio'])"
   ]
  },
  {
   "cell_type": "code",
   "execution_count": null,
   "metadata": {
    "tags": []
   },
   "outputs": [],
   "source": [
    "show_example(year, 'elite', group_elite)"
   ]
  },
  {
   "cell_type": "code",
   "execution_count": null,
   "metadata": {
    "tags": []
   },
   "outputs": [],
   "source": [
    "show_example(year, 'radio', group_radio)"
   ]
  },
  {
   "cell_type": "code",
   "execution_count": null,
   "metadata": {},
   "outputs": [],
   "source": [
    "if group_decahose is not None and not np.isnan(group_decahose):\n",
    "    show_example(year, 'decahose', group_decahose)"
   ]
  },
  {
   "cell_type": "markdown",
   "metadata": {},
   "source": [
    "## Example 2"
   ]
  },
  {
   "cell_type": "code",
   "execution_count": null,
   "metadata": {
    "tags": []
   },
   "outputs": [],
   "source": [
    "i = 32\n",
    "# i = np.random.randint(0, matching.shape[0])\n",
    "\n",
    "year = int(matching.iloc[i, :]['year'])\n",
    "group_elite = int(matching.iloc[i, :]['group_elite'])\n",
    "group_radio = int(matching.iloc[i, :]['group_radio'])\n",
    "group_decahose = int(matching.iloc[i, :]['group_decahose'])\n",
    "\n",
    "print(i, year, group_elite, group_radio, group_decahose)\n",
    "print(matching.iloc[i, :]['sim_elite_radio'])"
   ]
  },
  {
   "cell_type": "code",
   "execution_count": null,
   "metadata": {
    "tags": []
   },
   "outputs": [],
   "source": [
    "show_example(year, 'elite', group_elite)"
   ]
  },
  {
   "cell_type": "code",
   "execution_count": null,
   "metadata": {
    "tags": []
   },
   "outputs": [],
   "source": [
    "show_example(year, 'radio', group_radio)"
   ]
  },
  {
   "cell_type": "code",
   "execution_count": null,
   "metadata": {},
   "outputs": [],
   "source": [
    "if group_decahose is not None and not np.isnan(group_decahose):\n",
    "    show_example(year, 'decahose', group_decahose)"
   ]
  },
  {
   "cell_type": "markdown",
   "metadata": {},
   "source": [
    "## Example 3"
   ]
  },
  {
   "cell_type": "code",
   "execution_count": null,
   "metadata": {
    "tags": []
   },
   "outputs": [],
   "source": [
    "i = 13\n",
    "# i = np.random.randint(0, matching.shape[0])\n",
    "\n",
    "year = int(matching.iloc[i, :]['year'])\n",
    "group_elite = int(matching.iloc[i, :]['group_elite'])\n",
    "group_radio = int(matching.iloc[i, :]['group_radio'])\n",
    "group_decahose = int(matching.iloc[i, :]['group_decahose'])\n",
    "\n",
    "print(i, year, group_elite, group_radio, group_decahose)\n",
    "print(matching.iloc[i, :]['sim_elite_radio'])"
   ]
  },
  {
   "cell_type": "code",
   "execution_count": null,
   "metadata": {
    "tags": []
   },
   "outputs": [],
   "source": [
    "show_example(year, 'elite', group_elite)"
   ]
  },
  {
   "cell_type": "code",
   "execution_count": null,
   "metadata": {
    "tags": []
   },
   "outputs": [],
   "source": [
    "show_example(year, 'radio', group_radio)"
   ]
  },
  {
   "cell_type": "code",
   "execution_count": null,
   "metadata": {},
   "outputs": [],
   "source": [
    "if group_decahose is not None and not np.isnan(group_decahose):\n",
    "    show_example(year, 'decahose', group_decahose)"
   ]
  },
  {
   "cell_type": "markdown",
   "metadata": {},
   "source": [
    "# Identify some of the manual events"
   ]
  },
  {
   "cell_type": "code",
   "execution_count": null,
   "metadata": {},
   "outputs": [],
   "source": [
    "events = [\n",
    "    ('bolton', 'John Bolton fired', '2019-09-10T16:00:00+04:00', 'bolton'),\n",
    "    ('purdue', 'Purdue bankruptcy', '2019-09-16T03:15:00+04:00', 'purdue'),\n",
    "    ('brady', 'Tom Brady free agent', '2020-03-17T12:45:00+04:00', 'brady'),\n",
    "    ('gillis', 'Shane Gillis fired', '2019-09-16T20:00:00+04:00', 'gillis'),\n",
    "    ('manning', 'Manning released', '2020-03-12T21:15:00+04:00', 'manning'),\n",
    "    ('huffman', 'Huffman sentencing', '2019-09-13T18:00:00+04:00', 'huffman'),\n",
    "    ('bernie', 'Bernie drops out', '2020-04-08T15:15:00+04:00', 'bernie'),\n",
    "    ('nba', 'NBA season cancelled', '2020-03-12T01:30:00+04:00', 'nba|(n\\.\\b\\.a)'),\n",
    "    ('warren', 'Warren drops out', '2020-03-05T15:30:00+04:00', 'warren'),\n",
    "    ('impeach', 'Trump impeachment', '2019-09-24T18:30:00+04:00', 'impeach'),\n",
    "]\n",
    "\n",
    "events = pd.DataFrame(events, columns=['event', 'description', 'timestamp', 'regex']).set_index('event')\n",
    "events['timestamp'] = pd.to_datetime(events['timestamp'])\n",
    "\n",
    "events"
   ]
  },
  {
   "cell_type": "markdown",
   "metadata": {},
   "source": [
    "## Utils"
   ]
  },
  {
   "cell_type": "code",
   "execution_count": null,
   "metadata": {},
   "outputs": [],
   "source": [
    "def query_event(event, kind, mask=None, flags=re.I):\n",
    "    year = events.loc[event, 'timestamp'].year\n",
    "    term = events.loc[event, 'regex']\n",
    "    \n",
    "    if mask is None:\n",
    "        mask = np.repeat(True, stats.shape[0])\n",
    "    \n",
    "    groups = stats.loc[mask & (stats['year'] == year) & (stats['kind'] == kind), 'group'].unique()\n",
    "    \n",
    "    ret = {}\n",
    "    for g in tqdm(groups):\n",
    "        tmp = dat.loc[(dat['year'] == year) & (dat['kind'] == kind) & (dat['group'] == g)]\n",
    "        \n",
    "        size = tmp['content'].shape[0]\n",
    "        rate = tmp['content'].str.contains(term, flags=flags, regex=True).sum() / size\n",
    "        \n",
    "        ret[g] = {\n",
    "            'group': g,\n",
    "            'rate': rate,\n",
    "            'size': size,\n",
    "            'start': tmp['timestamp'].min(),\n",
    "            'end': tmp['timestamp'].max(),\n",
    "        }\n",
    "    \n",
    "    return pd.DataFrame(ret).T\n",
    "\n",
    "def query(targets, window=3*24*60*60):\n",
    "    if isinstance(targets, str):\n",
    "        targets = [targets]\n",
    "    \n",
    "    inc = pd.Timedelta(window, unit='s')\n",
    "\n",
    "    rates = {}\n",
    "    for event in tqdm(target_events):\n",
    "        if event not in rates.keys():\n",
    "            rates[event] = {}\n",
    "        \n",
    "        start_date = events.loc[event, 'timestamp'] - inc\n",
    "        end_date = events.loc[event, 'timestamp'] + inc\n",
    "\n",
    "        for kind in ['radio', 'elite']:\n",
    "            rr = query_event(event, kind, mask)\n",
    "            rr = rr.loc[rr['rate'] > 0, :]\n",
    "            rr = rr.sort_values('rate', ascending=False)\n",
    "            rr = rr.loc[(rr['start'] > start_date) & (rr['start'] < end_date)]\n",
    "            \n",
    "            rates[event][kind] = rr\n",
    "        \n",
    "    return rates"
   ]
  },
  {
   "cell_type": "markdown",
   "metadata": {},
   "source": [
    "## Compute term occurrence rates"
   ]
  },
  {
   "cell_type": "code",
   "execution_count": null,
   "metadata": {},
   "outputs": [],
   "source": [
    "target_events = [\n",
    "    'bolton',\n",
    "    'impeach',\n",
    "    'warren'\n",
    "]\n",
    "\n",
    "rates = query(target_events)"
   ]
  },
  {
   "cell_type": "markdown",
   "metadata": {},
   "source": [
    "## John Bolton gets fired"
   ]
  },
  {
   "cell_type": "code",
   "execution_count": null,
   "metadata": {
    "tags": []
   },
   "outputs": [],
   "source": [
    "with pd.option_context('display.max_rows', None):\n",
    "    display(rates['bolton']['radio'])"
   ]
  },
  {
   "cell_type": "code",
   "execution_count": null,
   "metadata": {
    "tags": []
   },
   "outputs": [],
   "source": [
    "with pd.option_context('display.max_rows', None):\n",
    "    display(rates['bolton']['elite'])"
   ]
  },
  {
   "cell_type": "markdown",
   "metadata": {},
   "source": [
    "### Radio"
   ]
  },
  {
   "cell_type": "code",
   "execution_count": null,
   "metadata": {
    "tags": []
   },
   "outputs": [],
   "source": [
    "show_example(2019, 'radio', [299, 13])"
   ]
  },
  {
   "cell_type": "markdown",
   "metadata": {},
   "source": [
    "### Twitter"
   ]
  },
  {
   "cell_type": "code",
   "execution_count": null,
   "metadata": {
    "tags": []
   },
   "outputs": [],
   "source": [
    "show_example(2019, 'elite', [313, 318, 315, 306, 310, 317, 307, 308, 316, 314, 312])"
   ]
  },
  {
   "cell_type": "markdown",
   "metadata": {},
   "source": [
    "## Trump impeachment announcement\n",
    "\n",
    "In the afternoon of 2019-09-24, with days of lead-up and fall-off"
   ]
  },
  {
   "cell_type": "code",
   "execution_count": null,
   "metadata": {
    "tags": []
   },
   "outputs": [],
   "source": [
    "with pd.option_context('display.max_rows', None):\n",
    "    display(rates['impeach']['radio'])"
   ]
  },
  {
   "cell_type": "code",
   "execution_count": null,
   "metadata": {
    "tags": []
   },
   "outputs": [],
   "source": [
    "with pd.option_context('display.max_rows', None):\n",
    "    display(rates['impeach']['elite'])"
   ]
  },
  {
   "cell_type": "markdown",
   "metadata": {},
   "source": [
    "### Radio"
   ]
  },
  {
   "cell_type": "code",
   "execution_count": null,
   "metadata": {
    "tags": []
   },
   "outputs": [],
   "source": [
    "show_example(2019, 'radio', [176, 298])"
   ]
  },
  {
   "cell_type": "markdown",
   "metadata": {},
   "source": [
    "### Twitter"
   ]
  },
  {
   "cell_type": "code",
   "execution_count": null,
   "metadata": {
    "tags": []
   },
   "outputs": [],
   "source": [
    "show_example(2019, 'elite',\n",
    "             rates['impeach']['elite'].loc[(rates['impeach']['elite']['rate'] > 0.5)].index.tolist())"
   ]
  },
  {
   "cell_type": "markdown",
   "metadata": {},
   "source": [
    "## Warren dropping out, Super Tuesday"
   ]
  },
  {
   "cell_type": "code",
   "execution_count": null,
   "metadata": {
    "tags": []
   },
   "outputs": [],
   "source": [
    "with pd.option_context('display.max_rows', None):\n",
    "    display(rates['warren']['radio'])"
   ]
  },
  {
   "cell_type": "code",
   "execution_count": null,
   "metadata": {
    "tags": []
   },
   "outputs": [],
   "source": [
    "with pd.option_context('display.max_rows', None):\n",
    "    display(rates['warren']['elite'])"
   ]
  },
  {
   "cell_type": "markdown",
   "metadata": {},
   "source": [
    "### Radio"
   ]
  },
  {
   "cell_type": "code",
   "execution_count": null,
   "metadata": {
    "tags": []
   },
   "outputs": [],
   "source": [
    "show_example(2020, 'radio', 648)"
   ]
  },
  {
   "cell_type": "markdown",
   "metadata": {},
   "source": [
    "### Twitter"
   ]
  },
  {
   "cell_type": "code",
   "execution_count": null,
   "metadata": {
    "tags": []
   },
   "outputs": [],
   "source": [
    "show_example(2020, 'elite', [158, 171, 152, 172])"
   ]
  },
  {
   "cell_type": "code",
   "execution_count": null,
   "metadata": {},
   "outputs": [],
   "source": []
  }
 ],
 "metadata": {
  "kernelspec": {
   "display_name": "DL",
   "language": "python",
   "name": "dl"
  },
  "language_info": {
   "codemirror_mode": {
    "name": "ipython",
    "version": 3
   },
   "file_extension": ".py",
   "mimetype": "text/x-python",
   "name": "python",
   "nbconvert_exporter": "python",
   "pygments_lexer": "ipython3",
   "version": "3.10.10"
  },
  "widgets": {
   "application/vnd.jupyter.widget-state+json": {
    "state": {
     "047556e258aa456d86964a9eb96524b4": {
      "model_module": "@jupyter-widgets/controls",
      "model_module_version": "2.0.0",
      "model_name": "HBoxModel",
      "state": {
       "children": [
        "IPY_MODEL_9507fa3cd81b45f789cf182e8342638b",
        "IPY_MODEL_40ebc79e1564429595f90e9ebe4ffe5d",
        "IPY_MODEL_dbe069a7f9334b0f89852bb5d8da6e68"
       ],
       "layout": "IPY_MODEL_a5e01bd2f9f545e5be153d8a60b6f941"
      }
     },
     "0489eceee2a446c4a8afd239964d4c53": {
      "model_module": "@jupyter-widgets/base",
      "model_module_version": "2.0.0",
      "model_name": "LayoutModel",
      "state": {}
     },
     "0c74043f2ce8486e83be475e537e5cdf": {
      "model_module": "@jupyter-widgets/base",
      "model_module_version": "2.0.0",
      "model_name": "LayoutModel",
      "state": {}
     },
     "11d2514ed7c74beda8acb12f27276db6": {
      "model_module": "@jupyter-widgets/controls",
      "model_module_version": "2.0.0",
      "model_name": "HTMLStyleModel",
      "state": {
       "description_width": "",
       "font_size": null,
       "text_color": null
      }
     },
     "16e23b714d8042b0be246e45d93ec7d4": {
      "model_module": "@jupyter-widgets/controls",
      "model_module_version": "2.0.0",
      "model_name": "HTMLModel",
      "state": {
       "layout": "IPY_MODEL_691ec75e29ae4fa1956ae109d902a6a9",
       "style": "IPY_MODEL_2956f623764548728464b00ae35701cf",
       "value": " 3/3 [03:07&lt;00:00, 65.61s/it]"
      }
     },
     "17dc4fd3efa14da0ae128f80411c0a25": {
      "model_module": "@jupyter-widgets/controls",
      "model_module_version": "2.0.0",
      "model_name": "HTMLModel",
      "state": {
       "layout": "IPY_MODEL_8e590e17a4df4e0aaaf87b15a63994c8",
       "style": "IPY_MODEL_9e63d82bfb084fa8b54d0eca25a4835a",
       "value": "100%"
      }
     },
     "18f4985124bb4a5e98c2c5adcb53897f": {
      "model_module": "@jupyter-widgets/base",
      "model_module_version": "2.0.0",
      "model_name": "LayoutModel",
      "state": {}
     },
     "19f76867c0174f06bdb41e4b4328bd91": {
      "model_module": "@jupyter-widgets/controls",
      "model_module_version": "2.0.0",
      "model_name": "FloatProgressModel",
      "state": {
       "bar_style": "success",
       "layout": "IPY_MODEL_4ed9ce191a284b02822341ba15c040ef",
       "max": 59,
       "style": "IPY_MODEL_2dc8381d526b43ae8053f4b314db1c8c",
       "value": 59
      }
     },
     "1bce0e991db74a569e7e404a36f4b31b": {
      "model_module": "@jupyter-widgets/controls",
      "model_module_version": "2.0.0",
      "model_name": "HTMLStyleModel",
      "state": {
       "description_width": "",
       "font_size": null,
       "text_color": null
      }
     },
     "1e71fee5f92a4183ba54b6cfbc343ed9": {
      "model_module": "@jupyter-widgets/controls",
      "model_module_version": "2.0.0",
      "model_name": "ProgressStyleModel",
      "state": {
       "description_width": ""
      }
     },
     "1faa9e5dcf4445ea8c460a01b3a9e340": {
      "model_module": "@jupyter-widgets/controls",
      "model_module_version": "2.0.0",
      "model_name": "ProgressStyleModel",
      "state": {
       "description_width": ""
      }
     },
     "1fd81a781ec6494eabbd598ee9ed1510": {
      "model_module": "@jupyter-widgets/controls",
      "model_module_version": "2.0.0",
      "model_name": "HTMLModel",
      "state": {
       "layout": "IPY_MODEL_309870a112314baab24a8fcaa1f111a2",
       "style": "IPY_MODEL_d66bda48ec1a4217881b2f9c77401123",
       "value": " 59/59 [00:07&lt;00:00,  7.53it/s]"
      }
     },
     "23ab31f9346945f9af8d05a91aa2053e": {
      "model_module": "@jupyter-widgets/controls",
      "model_module_version": "2.0.0",
      "model_name": "HTMLStyleModel",
      "state": {
       "description_width": "",
       "font_size": null,
       "text_color": null
      }
     },
     "2956f623764548728464b00ae35701cf": {
      "model_module": "@jupyter-widgets/controls",
      "model_module_version": "2.0.0",
      "model_name": "HTMLStyleModel",
      "state": {
       "description_width": "",
       "font_size": null,
       "text_color": null
      }
     },
     "2a0ba86b03d943bcaf35640dc38eab55": {
      "model_module": "@jupyter-widgets/base",
      "model_module_version": "2.0.0",
      "model_name": "LayoutModel",
      "state": {}
     },
     "2bbe59ec842d4f59a84c371100dd6be3": {
      "model_module": "@jupyter-widgets/controls",
      "model_module_version": "2.0.0",
      "model_name": "HTMLModel",
      "state": {
       "layout": "IPY_MODEL_55a2a33221674f6fbb333dad2d2850a8",
       "style": "IPY_MODEL_b735e68a8bce41688f3cf9e000d8cb38",
       "value": "100%"
      }
     },
     "2dc8381d526b43ae8053f4b314db1c8c": {
      "model_module": "@jupyter-widgets/controls",
      "model_module_version": "2.0.0",
      "model_name": "ProgressStyleModel",
      "state": {
       "description_width": ""
      }
     },
     "309870a112314baab24a8fcaa1f111a2": {
      "model_module": "@jupyter-widgets/base",
      "model_module_version": "2.0.0",
      "model_name": "LayoutModel",
      "state": {}
     },
     "30ecb8a728544e7ea6473475255ee475": {
      "model_module": "@jupyter-widgets/controls",
      "model_module_version": "2.0.0",
      "model_name": "HBoxModel",
      "state": {
       "children": [
        "IPY_MODEL_df30c341a3cd44dfb949f7688c840f85",
        "IPY_MODEL_6c04fa44286b400ba53f98d317fd01a2",
        "IPY_MODEL_c390e0316dfc45a88d4f69122e4753c5"
       ],
       "layout": "IPY_MODEL_83d7b9c781e24bf2a8e9df7752fc4a91"
      }
     },
     "353cdef62f914590b11a92ef8d6a6fbf": {
      "model_module": "@jupyter-widgets/base",
      "model_module_version": "2.0.0",
      "model_name": "LayoutModel",
      "state": {}
     },
     "3b7ee6ecb914443fb3c9181305eca5b8": {
      "model_module": "@jupyter-widgets/base",
      "model_module_version": "2.0.0",
      "model_name": "LayoutModel",
      "state": {}
     },
     "3c1a6e82076f4a7fab755401705e2790": {
      "model_module": "@jupyter-widgets/base",
      "model_module_version": "2.0.0",
      "model_name": "LayoutModel",
      "state": {}
     },
     "3e4fdca234a14ad1b92fb5764dd2642d": {
      "model_module": "@jupyter-widgets/controls",
      "model_module_version": "2.0.0",
      "model_name": "HBoxModel",
      "state": {
       "children": [
        "IPY_MODEL_2bbe59ec842d4f59a84c371100dd6be3",
        "IPY_MODEL_fd0c91df8975422b9257fe8ef497fa92",
        "IPY_MODEL_8409e6d72b334bbebe83db439e98f7e1"
       ],
       "layout": "IPY_MODEL_2a0ba86b03d943bcaf35640dc38eab55"
      }
     },
     "40ebc79e1564429595f90e9ebe4ffe5d": {
      "model_module": "@jupyter-widgets/controls",
      "model_module_version": "2.0.0",
      "model_name": "FloatProgressModel",
      "state": {
       "bar_style": "success",
       "layout": "IPY_MODEL_c47d6e094491445aa360d12267396880",
       "max": 393,
       "style": "IPY_MODEL_e8f29bc4e22448bb90cfd63fee9b7978",
       "value": 393
      }
     },
     "46836c4be08848798c588e302d0bfd63": {
      "model_module": "@jupyter-widgets/controls",
      "model_module_version": "2.0.0",
      "model_name": "HBoxModel",
      "state": {
       "children": [
        "IPY_MODEL_726874ec667743288a8d3b460464f822",
        "IPY_MODEL_760caa396dc9437bbb6d8ad744414221",
        "IPY_MODEL_16e23b714d8042b0be246e45d93ec7d4"
       ],
       "layout": "IPY_MODEL_d80096f4d4d3431aa3808a6c1f8d9b50"
      }
     },
     "487411e3047a43edbfba31b50d86bb8c": {
      "model_module": "@jupyter-widgets/base",
      "model_module_version": "2.0.0",
      "model_name": "LayoutModel",
      "state": {}
     },
     "48a5c360b2df4a1e97268bf3b13f5876": {
      "model_module": "@jupyter-widgets/controls",
      "model_module_version": "2.0.0",
      "model_name": "HTMLStyleModel",
      "state": {
       "description_width": "",
       "font_size": null,
       "text_color": null
      }
     },
     "4d4eef497d064406b8efcccbc82c8718": {
      "model_module": "@jupyter-widgets/controls",
      "model_module_version": "2.0.0",
      "model_name": "ProgressStyleModel",
      "state": {
       "description_width": ""
      }
     },
     "4ed9ce191a284b02822341ba15c040ef": {
      "model_module": "@jupyter-widgets/base",
      "model_module_version": "2.0.0",
      "model_name": "LayoutModel",
      "state": {}
     },
     "55a2a33221674f6fbb333dad2d2850a8": {
      "model_module": "@jupyter-widgets/base",
      "model_module_version": "2.0.0",
      "model_name": "LayoutModel",
      "state": {}
     },
     "568baed7fe1f4d0da9f444e20b1d29da": {
      "model_module": "@jupyter-widgets/controls",
      "model_module_version": "2.0.0",
      "model_name": "HTMLModel",
      "state": {
       "layout": "IPY_MODEL_8d12945a490f464b90b537d3f2cfbfdc",
       "style": "IPY_MODEL_23ab31f9346945f9af8d05a91aa2053e",
       "value": "100%"
      }
     },
     "5897c69c31e64580ba6f29534ac499a1": {
      "model_module": "@jupyter-widgets/controls",
      "model_module_version": "2.0.0",
      "model_name": "HTMLStyleModel",
      "state": {
       "description_width": "",
       "font_size": null,
       "text_color": null
      }
     },
     "691ec75e29ae4fa1956ae109d902a6a9": {
      "model_module": "@jupyter-widgets/base",
      "model_module_version": "2.0.0",
      "model_name": "LayoutModel",
      "state": {}
     },
     "6af8d01cbf4d4e429a5fc064f9078ad9": {
      "model_module": "@jupyter-widgets/controls",
      "model_module_version": "2.0.0",
      "model_name": "HTMLStyleModel",
      "state": {
       "description_width": "",
       "font_size": null,
       "text_color": null
      }
     },
     "6bceeef012cf41018d37bc3b9e0eadf2": {
      "model_module": "@jupyter-widgets/base",
      "model_module_version": "2.0.0",
      "model_name": "LayoutModel",
      "state": {}
     },
     "6c04fa44286b400ba53f98d317fd01a2": {
      "model_module": "@jupyter-widgets/controls",
      "model_module_version": "2.0.0",
      "model_name": "FloatProgressModel",
      "state": {
       "bar_style": "success",
       "layout": "IPY_MODEL_894fc5ce3b224fad9995c70174c4b487",
       "max": 41,
       "style": "IPY_MODEL_8a0f92eb50214f9d8b26175056286453",
       "value": 41
      }
     },
     "6c2dada4a68b43988fb0278138a92a34": {
      "model_module": "@jupyter-widgets/base",
      "model_module_version": "2.0.0",
      "model_name": "LayoutModel",
      "state": {}
     },
     "6de5137642b749e391c497d57bd9da82": {
      "model_module": "@jupyter-widgets/base",
      "model_module_version": "2.0.0",
      "model_name": "LayoutModel",
      "state": {}
     },
     "726874ec667743288a8d3b460464f822": {
      "model_module": "@jupyter-widgets/controls",
      "model_module_version": "2.0.0",
      "model_name": "HTMLModel",
      "state": {
       "layout": "IPY_MODEL_353cdef62f914590b11a92ef8d6a6fbf",
       "style": "IPY_MODEL_755f38a5770349e4bd73cccbb8e6f0f4",
       "value": "100%"
      }
     },
     "75591b879b4d44448688393b8f515d59": {
      "model_module": "@jupyter-widgets/controls",
      "model_module_version": "2.0.0",
      "model_name": "FloatProgressModel",
      "state": {
       "bar_style": "success",
       "layout": "IPY_MODEL_3c1a6e82076f4a7fab755401705e2790",
       "max": 393,
       "style": "IPY_MODEL_a4ebf07b8b2d4d06bf5943e6549c0ef8",
       "value": 393
      }
     },
     "755f38a5770349e4bd73cccbb8e6f0f4": {
      "model_module": "@jupyter-widgets/controls",
      "model_module_version": "2.0.0",
      "model_name": "HTMLStyleModel",
      "state": {
       "description_width": "",
       "font_size": null,
       "text_color": null
      }
     },
     "760caa396dc9437bbb6d8ad744414221": {
      "model_module": "@jupyter-widgets/controls",
      "model_module_version": "2.0.0",
      "model_name": "FloatProgressModel",
      "state": {
       "bar_style": "success",
       "layout": "IPY_MODEL_6de5137642b749e391c497d57bd9da82",
       "max": 3,
       "style": "IPY_MODEL_1e71fee5f92a4183ba54b6cfbc343ed9",
       "value": 3
      }
     },
     "83d7b9c781e24bf2a8e9df7752fc4a91": {
      "model_module": "@jupyter-widgets/base",
      "model_module_version": "2.0.0",
      "model_name": "LayoutModel",
      "state": {}
     },
     "8409e6d72b334bbebe83db439e98f7e1": {
      "model_module": "@jupyter-widgets/controls",
      "model_module_version": "2.0.0",
      "model_name": "HTMLModel",
      "state": {
       "layout": "IPY_MODEL_3b7ee6ecb914443fb3c9181305eca5b8",
       "style": "IPY_MODEL_8ce218a780f24885b653e7468814539b",
       "value": " 566/566 [01:10&lt;00:00,  8.03it/s]"
      }
     },
     "894fc5ce3b224fad9995c70174c4b487": {
      "model_module": "@jupyter-widgets/base",
      "model_module_version": "2.0.0",
      "model_name": "LayoutModel",
      "state": {}
     },
     "8a0f92eb50214f9d8b26175056286453": {
      "model_module": "@jupyter-widgets/controls",
      "model_module_version": "2.0.0",
      "model_name": "ProgressStyleModel",
      "state": {
       "description_width": ""
      }
     },
     "8ce218a780f24885b653e7468814539b": {
      "model_module": "@jupyter-widgets/controls",
      "model_module_version": "2.0.0",
      "model_name": "HTMLStyleModel",
      "state": {
       "description_width": "",
       "font_size": null,
       "text_color": null
      }
     },
     "8d12945a490f464b90b537d3f2cfbfdc": {
      "model_module": "@jupyter-widgets/base",
      "model_module_version": "2.0.0",
      "model_name": "LayoutModel",
      "state": {}
     },
     "8e590e17a4df4e0aaaf87b15a63994c8": {
      "model_module": "@jupyter-widgets/base",
      "model_module_version": "2.0.0",
      "model_name": "LayoutModel",
      "state": {}
     },
     "9507fa3cd81b45f789cf182e8342638b": {
      "model_module": "@jupyter-widgets/controls",
      "model_module_version": "2.0.0",
      "model_name": "HTMLModel",
      "state": {
       "layout": "IPY_MODEL_d9964af75de04a3b80ba07e1c1ee8bec",
       "style": "IPY_MODEL_5897c69c31e64580ba6f29534ac499a1",
       "value": "100%"
      }
     },
     "9cebc3715a234f608d31190a161470e4": {
      "model_module": "@jupyter-widgets/controls",
      "model_module_version": "2.0.0",
      "model_name": "HTMLStyleModel",
      "state": {
       "description_width": "",
       "font_size": null,
       "text_color": null
      }
     },
     "9e63d82bfb084fa8b54d0eca25a4835a": {
      "model_module": "@jupyter-widgets/controls",
      "model_module_version": "2.0.0",
      "model_name": "HTMLStyleModel",
      "state": {
       "description_width": "",
       "font_size": null,
       "text_color": null
      }
     },
     "9ed474f4b2a24b85b9769457cac880a5": {
      "model_module": "@jupyter-widgets/base",
      "model_module_version": "2.0.0",
      "model_name": "LayoutModel",
      "state": {}
     },
     "a095c2431938481bae3105a8033ca7cc": {
      "model_module": "@jupyter-widgets/controls",
      "model_module_version": "2.0.0",
      "model_name": "HTMLModel",
      "state": {
       "layout": "IPY_MODEL_0489eceee2a446c4a8afd239964d4c53",
       "style": "IPY_MODEL_6af8d01cbf4d4e429a5fc064f9078ad9",
       "value": " 393/393 [00:49&lt;00:00,  8.02it/s]"
      }
     },
     "a0e7137766bc4a079e7f333bfc9937ed": {
      "model_module": "@jupyter-widgets/controls",
      "model_module_version": "2.0.0",
      "model_name": "FloatProgressModel",
      "state": {
       "bar_style": "success",
       "layout": "IPY_MODEL_0c74043f2ce8486e83be475e537e5cdf",
       "max": 41,
       "style": "IPY_MODEL_1faa9e5dcf4445ea8c460a01b3a9e340",
       "value": 41
      }
     },
     "a4ebf07b8b2d4d06bf5943e6549c0ef8": {
      "model_module": "@jupyter-widgets/controls",
      "model_module_version": "2.0.0",
      "model_name": "ProgressStyleModel",
      "state": {
       "description_width": ""
      }
     },
     "a5e01bd2f9f545e5be153d8a60b6f941": {
      "model_module": "@jupyter-widgets/base",
      "model_module_version": "2.0.0",
      "model_name": "LayoutModel",
      "state": {}
     },
     "ae168833d4b743c1b1d096480fc9b8bc": {
      "model_module": "@jupyter-widgets/controls",
      "model_module_version": "2.0.0",
      "model_name": "HTMLStyleModel",
      "state": {
       "description_width": "",
       "font_size": null,
       "text_color": null
      }
     },
     "b6f96f6d22ff40f091fac3cb6018656c": {
      "model_module": "@jupyter-widgets/controls",
      "model_module_version": "2.0.0",
      "model_name": "HTMLModel",
      "state": {
       "layout": "IPY_MODEL_f6829136b13e422d9c7fcd55970a748e",
       "style": "IPY_MODEL_48a5c360b2df4a1e97268bf3b13f5876",
       "value": " 41/41 [00:05&lt;00:00,  7.81it/s]"
      }
     },
     "b735e68a8bce41688f3cf9e000d8cb38": {
      "model_module": "@jupyter-widgets/controls",
      "model_module_version": "2.0.0",
      "model_name": "HTMLStyleModel",
      "state": {
       "description_width": "",
       "font_size": null,
       "text_color": null
      }
     },
     "bf6afc0149ee4fb78fc1865753762a6e": {
      "model_module": "@jupyter-widgets/base",
      "model_module_version": "2.0.0",
      "model_name": "LayoutModel",
      "state": {}
     },
     "c2241f2cac6a485eb46294b3fd59faf7": {
      "model_module": "@jupyter-widgets/controls",
      "model_module_version": "2.0.0",
      "model_name": "HBoxModel",
      "state": {
       "children": [
        "IPY_MODEL_17dc4fd3efa14da0ae128f80411c0a25",
        "IPY_MODEL_75591b879b4d44448688393b8f515d59",
        "IPY_MODEL_a095c2431938481bae3105a8033ca7cc"
       ],
       "layout": "IPY_MODEL_e00af21e721c4bffa96dd3648015c173"
      }
     },
     "c390e0316dfc45a88d4f69122e4753c5": {
      "model_module": "@jupyter-widgets/controls",
      "model_module_version": "2.0.0",
      "model_name": "HTMLModel",
      "state": {
       "layout": "IPY_MODEL_9ed474f4b2a24b85b9769457cac880a5",
       "style": "IPY_MODEL_11d2514ed7c74beda8acb12f27276db6",
       "value": " 41/41 [00:05&lt;00:00,  7.85it/s]"
      }
     },
     "c47d6e094491445aa360d12267396880": {
      "model_module": "@jupyter-widgets/base",
      "model_module_version": "2.0.0",
      "model_name": "LayoutModel",
      "state": {}
     },
     "d66bda48ec1a4217881b2f9c77401123": {
      "model_module": "@jupyter-widgets/controls",
      "model_module_version": "2.0.0",
      "model_name": "HTMLStyleModel",
      "state": {
       "description_width": "",
       "font_size": null,
       "text_color": null
      }
     },
     "d80096f4d4d3431aa3808a6c1f8d9b50": {
      "model_module": "@jupyter-widgets/base",
      "model_module_version": "2.0.0",
      "model_name": "LayoutModel",
      "state": {}
     },
     "d9964af75de04a3b80ba07e1c1ee8bec": {
      "model_module": "@jupyter-widgets/base",
      "model_module_version": "2.0.0",
      "model_name": "LayoutModel",
      "state": {}
     },
     "dbe069a7f9334b0f89852bb5d8da6e68": {
      "model_module": "@jupyter-widgets/controls",
      "model_module_version": "2.0.0",
      "model_name": "HTMLModel",
      "state": {
       "layout": "IPY_MODEL_18f4985124bb4a5e98c2c5adcb53897f",
       "style": "IPY_MODEL_9cebc3715a234f608d31190a161470e4",
       "value": " 393/393 [00:49&lt;00:00,  8.04it/s]"
      }
     },
     "df30c341a3cd44dfb949f7688c840f85": {
      "model_module": "@jupyter-widgets/controls",
      "model_module_version": "2.0.0",
      "model_name": "HTMLModel",
      "state": {
       "layout": "IPY_MODEL_6c2dada4a68b43988fb0278138a92a34",
       "style": "IPY_MODEL_1bce0e991db74a569e7e404a36f4b31b",
       "value": "100%"
      }
     },
     "df62798c31064abba50080c91c27c12e": {
      "model_module": "@jupyter-widgets/controls",
      "model_module_version": "2.0.0",
      "model_name": "HTMLModel",
      "state": {
       "layout": "IPY_MODEL_6bceeef012cf41018d37bc3b9e0eadf2",
       "style": "IPY_MODEL_ae168833d4b743c1b1d096480fc9b8bc",
       "value": "100%"
      }
     },
     "e00af21e721c4bffa96dd3648015c173": {
      "model_module": "@jupyter-widgets/base",
      "model_module_version": "2.0.0",
      "model_name": "LayoutModel",
      "state": {}
     },
     "e2d0d853fd7f4b7994e449ca91dc8eca": {
      "model_module": "@jupyter-widgets/base",
      "model_module_version": "2.0.0",
      "model_name": "LayoutModel",
      "state": {}
     },
     "e8f29bc4e22448bb90cfd63fee9b7978": {
      "model_module": "@jupyter-widgets/controls",
      "model_module_version": "2.0.0",
      "model_name": "ProgressStyleModel",
      "state": {
       "description_width": ""
      }
     },
     "f5e2cee64a8845ebbde068d474800f32": {
      "model_module": "@jupyter-widgets/controls",
      "model_module_version": "2.0.0",
      "model_name": "HBoxModel",
      "state": {
       "children": [
        "IPY_MODEL_568baed7fe1f4d0da9f444e20b1d29da",
        "IPY_MODEL_19f76867c0174f06bdb41e4b4328bd91",
        "IPY_MODEL_1fd81a781ec6494eabbd598ee9ed1510"
       ],
       "layout": "IPY_MODEL_bf6afc0149ee4fb78fc1865753762a6e"
      }
     },
     "f6829136b13e422d9c7fcd55970a748e": {
      "model_module": "@jupyter-widgets/base",
      "model_module_version": "2.0.0",
      "model_name": "LayoutModel",
      "state": {}
     },
     "fb7745bdffee45c7bc53d6ed5e4d1a7e": {
      "model_module": "@jupyter-widgets/controls",
      "model_module_version": "2.0.0",
      "model_name": "HBoxModel",
      "state": {
       "children": [
        "IPY_MODEL_df62798c31064abba50080c91c27c12e",
        "IPY_MODEL_a0e7137766bc4a079e7f333bfc9937ed",
        "IPY_MODEL_b6f96f6d22ff40f091fac3cb6018656c"
       ],
       "layout": "IPY_MODEL_487411e3047a43edbfba31b50d86bb8c"
      }
     },
     "fd0c91df8975422b9257fe8ef497fa92": {
      "model_module": "@jupyter-widgets/controls",
      "model_module_version": "2.0.0",
      "model_name": "FloatProgressModel",
      "state": {
       "bar_style": "success",
       "layout": "IPY_MODEL_e2d0d853fd7f4b7994e449ca91dc8eca",
       "max": 566,
       "style": "IPY_MODEL_4d4eef497d064406b8efcccbc82c8718",
       "value": 566
      }
     }
    },
    "version_major": 2,
    "version_minor": 0
   }
  }
 },
 "nbformat": 4,
 "nbformat_minor": 4
}
