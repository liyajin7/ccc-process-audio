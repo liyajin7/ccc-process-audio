{
 "cells": [
  {
   "cell_type": "code",
   "execution_count": null,
   "metadata": {
    "execution": {
     "iopub.execute_input": "2023-07-31T03:50:02.029832Z",
     "iopub.status.busy": "2023-07-31T03:50:02.028800Z",
     "iopub.status.idle": "2023-07-31T03:50:18.651354Z",
     "shell.execute_reply": "2023-07-31T03:50:18.649756Z"
    }
   },
   "outputs": [],
   "source": [
    "import os\n",
    "import math\n",
    "import logging\n",
    "\n",
    "import numpy as np\n",
    "import pandas as pd\n",
    "import scipy.stats as ss\n",
    "\n",
    "import matplotlib as mp\n",
    "%matplotlib inline\n",
    "import matplotlib.pyplot as plt\n",
    "\n",
    "from statsmodels.tsa.api import VAR\n",
    "from statsmodels.graphics.tsaplots import plot_acf, plot_pacf, seasonal_plot\n",
    "from statsmodels.tsa.stattools import grangercausalitytests, adfuller\n",
    "\n",
    "from IPython.display import display\n",
    "from tqdm.notebook import tqdm\n",
    "\n",
    "import utils as ut"
   ]
  },
  {
   "cell_type": "code",
   "execution_count": null,
   "metadata": {
    "execution": {
     "iopub.execute_input": "2023-07-31T03:50:18.658253Z",
     "iopub.status.busy": "2023-07-31T03:50:18.657563Z",
     "iopub.status.idle": "2023-07-31T03:50:18.665521Z",
     "shell.execute_reply": "2023-07-31T03:50:18.664331Z"
    }
   },
   "outputs": [],
   "source": [
    "logger = logging.getLogger(__name__)\n",
    "\n",
    "fmt = '%(asctime)s : %(levelname)s : %(message)s'\n",
    "logging.basicConfig(format=fmt, level=logging.INFO)\n",
    "\n",
    "logging.getLogger(\"gensim\").setLevel(logging.WARNING)"
   ]
  },
  {
   "cell_type": "code",
   "execution_count": null,
   "metadata": {
    "execution": {
     "iopub.execute_input": "2023-07-31T03:50:18.671377Z",
     "iopub.status.busy": "2023-07-31T03:50:18.670836Z",
     "iopub.status.idle": "2023-07-31T03:50:18.700655Z",
     "shell.execute_reply": "2023-07-31T03:50:18.699293Z"
    }
   },
   "outputs": [],
   "source": [
    "os.chdir(os.path.expanduser('~/github/masthesis/'))"
   ]
  },
  {
   "cell_type": "markdown",
   "metadata": {},
   "source": [
    "# Load data"
   ]
  },
  {
   "cell_type": "code",
   "execution_count": null,
   "metadata": {
    "execution": {
     "iopub.execute_input": "2023-07-31T03:50:18.706626Z",
     "iopub.status.busy": "2023-07-31T03:50:18.706128Z",
     "iopub.status.idle": "2023-07-31T03:50:19.196006Z",
     "shell.execute_reply": "2023-07-31T03:50:19.195058Z"
    }
   },
   "outputs": [],
   "source": [
    "events = pd.read_csv('data/paper-round-3/metadata/event-terms.csv', parse_dates=['timestamp'])\n",
    "events['date'] = events['timestamp'].dt.date\n",
    "\n",
    "event_dates = events.groupby('event')['date'].max()\n",
    "\n",
    "radio_ticks = pd.read_csv('data/paper-round-3/event-annotated/ticks-radio.csv')\n",
    "radio_ticks['timestamp'] = pd.to_datetime(radio_ticks['timestamp'])\n",
    "\n",
    "elite_ticks = pd.read_csv('data/paper-round-3/event-annotated/ticks-elite.csv')\n",
    "elite_ticks['timestamp'] = pd.to_datetime(elite_ticks['timestamp'])\n",
    "\n",
    "radio_ticks_overall = radio_ticks.loc[\n",
    "    radio_ticks['is_public'].isna() &\n",
    "    radio_ticks['station_census_region'].isna() &\n",
    "    radio_ticks['am_band'].isna() &\n",
    "    radio_ticks['syndicated'].isna(),\n",
    ":] \\\n",
    "    .drop(['is_public', 'station_census_region', 'am_band', 'syndicated'], axis=1) \\\n",
    "\n",
    "elite_ticks_overall = elite_ticks.loc[\n",
    "    elite_ticks['is_retweet'].isna() &\n",
    "    elite_ticks['conservative'].isna(),\n",
    ":] \\\n",
    "    .drop(['is_retweet', 'conservative'], axis=1) \\\n",
    "\n",
    "assert radio_ticks_overall.isna().sum().sum() == 0\n",
    "assert elite_ticks_overall.isna().sum().sum() == 0"
   ]
  },
  {
   "cell_type": "code",
   "execution_count": null,
   "metadata": {
    "execution": {
     "iopub.execute_input": "2023-07-31T03:50:19.201057Z",
     "iopub.status.busy": "2023-07-31T03:50:19.200777Z",
     "iopub.status.idle": "2023-07-31T03:50:19.206171Z",
     "shell.execute_reply": "2023-07-31T03:50:19.205164Z"
    }
   },
   "outputs": [],
   "source": [
    "event_cols = list(\n",
    "    set(c for c in list(radio_ticks) if c.startswith('event_')) &\n",
    "    set(c for c in list(elite_ticks) if c.startswith('event_'))\n",
    ")"
   ]
  },
  {
   "cell_type": "code",
   "execution_count": null,
   "metadata": {
    "execution": {
     "iopub.execute_input": "2023-07-31T03:50:19.210818Z",
     "iopub.status.busy": "2023-07-31T03:50:19.210444Z",
     "iopub.status.idle": "2023-07-31T03:50:19.274612Z",
     "shell.execute_reply": "2023-07-31T03:50:19.273442Z"
    }
   },
   "outputs": [],
   "source": [
    "for c in event_cols:\n",
    "    focal_dt = events.loc[events['event'] == c.replace('event_', ''), 'timestamp'].item()\n",
    "    start_dt = focal_dt - pd.Timedelta(hours=6)\n",
    "    end_dt = focal_dt + pd.Timedelta(days=4)\n",
    "    \n",
    "    radio_ticks_overall['in_window_' + c] = \\\n",
    "        (radio_ticks_overall['timestamp'] >= start_dt) & \\\n",
    "        (radio_ticks_overall['timestamp'] <= end_dt)\n",
    "\n",
    "    elite_ticks_overall['in_window_' + c] = \\\n",
    "        (elite_ticks_overall['timestamp'] >= start_dt) & \\\n",
    "        (elite_ticks_overall['timestamp'] <= end_dt)\n",
    "\n",
    "    radio_ticks_overall['in_window_' + c] = radio_ticks_overall['in_window_' + c].astype(int)\n",
    "    elite_ticks_overall['in_window_' + c] = elite_ticks_overall['in_window_' + c].astype(int)"
   ]
  },
  {
   "cell_type": "code",
   "execution_count": null,
   "metadata": {
    "execution": {
     "iopub.execute_input": "2023-07-31T03:50:19.279143Z",
     "iopub.status.busy": "2023-07-31T03:50:19.278868Z",
     "iopub.status.idle": "2023-07-31T03:50:19.297668Z",
     "shell.execute_reply": "2023-07-31T03:50:19.296517Z"
    }
   },
   "outputs": [],
   "source": [
    "radio_ticks_overall = radio_ticks_overall.set_index(['freq', 'timestamp'])\n",
    "elite_ticks_overall = elite_ticks_overall.set_index(['freq', 'timestamp'])"
   ]
  },
  {
   "cell_type": "markdown",
   "metadata": {},
   "source": [
    "# Test some econometric assumptions"
   ]
  },
  {
   "cell_type": "markdown",
   "metadata": {
    "tags": []
   },
   "source": [
    "## Stationarity\n",
    "\n",
    "The null hypothesis in the augmented Dickey-Fuller test is that there *is* a unit root; if p-value low enough we can reject the existence of a unit root."
   ]
  },
  {
   "cell_type": "code",
   "execution_count": null,
   "metadata": {
    "execution": {
     "iopub.execute_input": "2023-07-31T03:50:19.302792Z",
     "iopub.status.busy": "2023-07-31T03:50:19.302414Z",
     "iopub.status.idle": "2023-07-31T03:50:19.316156Z",
     "shell.execute_reply": "2023-07-31T03:50:19.315005Z"
    }
   },
   "outputs": [],
   "source": [
    "def adf_test(s):\n",
    "    res = adfuller(s)\n",
    "    \n",
    "    stat = {\n",
    "        'adf_stat': res[0],\n",
    "        'pval': res[1],\n",
    "    }\n",
    "    \n",
    "    for k, v in res[4].items():\n",
    "        stat['crit_val_' + str(k)] = v\n",
    "    \n",
    "    return stat"
   ]
  },
  {
   "cell_type": "code",
   "execution_count": null,
   "metadata": {
    "execution": {
     "iopub.execute_input": "2023-07-31T03:50:19.320891Z",
     "iopub.status.busy": "2023-07-31T03:50:19.320596Z",
     "iopub.status.idle": "2023-07-31T03:50:19.891316Z",
     "shell.execute_reply": "2023-07-31T03:50:19.890444Z"
    },
    "tags": []
   },
   "outputs": [],
   "source": [
    "stats = []\n",
    "for v in event_cols:\n",
    "    stats += [dict(\n",
    "        mode='radio',\n",
    "        event=v,\n",
    "        **adf_test(radio_ticks_overall.loc[radio_ticks_overall['in_window_' + v] == 1, v]))\n",
    "    ]\n",
    "    stats += [dict(\n",
    "        mode='elite',\n",
    "        event=v,\n",
    "        **adf_test(elite_ticks_overall.loc[elite_ticks_overall['in_window_' + v] == 1, v]))\n",
    "    ]\n",
    "stats = pd.DataFrame(stats)\n",
    "\n",
    "stats"
   ]
  },
  {
   "cell_type": "markdown",
   "metadata": {},
   "source": [
    "## Autocorrelation"
   ]
  },
  {
   "cell_type": "markdown",
   "metadata": {},
   "source": [
    "### Elite"
   ]
  },
  {
   "cell_type": "code",
   "execution_count": null,
   "metadata": {
    "execution": {
     "iopub.execute_input": "2023-07-31T03:50:19.967501Z",
     "iopub.status.busy": "2023-07-31T03:50:19.966869Z",
     "iopub.status.idle": "2023-07-31T03:50:27.896851Z",
     "shell.execute_reply": "2023-07-31T03:50:27.896057Z"
    }
   },
   "outputs": [],
   "source": [
    "nx = 3\n",
    "ny = int(math.ceil(len(event_cols) / nx))\n",
    "\n",
    "subplot_size = 5\n",
    "figsize = (subplot_size * nx, subplot_size * ny)\n",
    "\n",
    "fig, axes = plt.subplots(ny, nx, figsize=figsize)\n",
    "axes = axes.flatten()\n",
    "\n",
    "for i, ax in enumerate(axes):\n",
    "    if i >= len(event_cols):\n",
    "        fig.delaxes(ax)\n",
    "        continue\n",
    "\n",
    "for dv, ax in zip(event_cols, axes):\n",
    "    plot_acf(elite_ticks[dv], lags=96, ax=ax)\n",
    "\n",
    "    ax.set_title(dv)\n",
    "\n",
    "fig.suptitle('Autocorrelation of mention counts')\n",
    "fig.tight_layout(rect=[0, 0.03, 1, 0.95])\n",
    "\n",
    "plt.show()"
   ]
  },
  {
   "cell_type": "markdown",
   "metadata": {},
   "source": [
    "### Radio"
   ]
  },
  {
   "cell_type": "code",
   "execution_count": null,
   "metadata": {
    "execution": {
     "iopub.execute_input": "2023-07-31T03:50:27.906227Z",
     "iopub.status.busy": "2023-07-31T03:50:27.905665Z",
     "iopub.status.idle": "2023-07-31T03:50:45.467164Z",
     "shell.execute_reply": "2023-07-31T03:50:45.466169Z"
    }
   },
   "outputs": [],
   "source": [
    "nx = 3\n",
    "ny = int(math.ceil(len(event_cols) / nx))\n",
    "\n",
    "subplot_size = 5\n",
    "figsize = (subplot_size * nx, subplot_size * ny)\n",
    "\n",
    "fig, axes = plt.subplots(ny, nx, figsize=figsize)\n",
    "axes = axes.flatten()\n",
    "\n",
    "for i, ax in enumerate(axes):\n",
    "    if i >= len(event_cols):\n",
    "        fig.delaxes(ax)\n",
    "        continue\n",
    "\n",
    "for dv, ax in zip(event_cols, axes):\n",
    "    plot_acf(radio_ticks[dv], lags=96, ax=ax)\n",
    "\n",
    "    ax.set_title(dv)\n",
    "\n",
    "fig.suptitle('Autocorrelation of mention counts')\n",
    "fig.tight_layout(rect=[0, 0.03, 1, 0.95])\n",
    "\n",
    "plt.show()"
   ]
  },
  {
   "cell_type": "markdown",
   "metadata": {},
   "source": [
    "## Partial autocorrelation"
   ]
  },
  {
   "cell_type": "markdown",
   "metadata": {},
   "source": [
    "### Elite"
   ]
  },
  {
   "cell_type": "code",
   "execution_count": null,
   "metadata": {
    "execution": {
     "iopub.execute_input": "2023-07-31T03:50:45.475524Z",
     "iopub.status.busy": "2023-07-31T03:50:45.475250Z",
     "iopub.status.idle": "2023-07-31T03:50:51.298995Z",
     "shell.execute_reply": "2023-07-31T03:50:51.297788Z"
    }
   },
   "outputs": [],
   "source": [
    "nx = 3\n",
    "ny = int(math.ceil(len(event_cols) / nx))\n",
    "\n",
    "subplot_size = 5\n",
    "figsize = (subplot_size * nx, subplot_size * ny)\n",
    "\n",
    "fig, axes = plt.subplots(ny, nx, figsize=figsize)\n",
    "axes = axes.flatten()\n",
    "\n",
    "for i, ax in enumerate(axes):\n",
    "    if i >= len(event_cols):\n",
    "        fig.delaxes(ax)\n",
    "        continue\n",
    "\n",
    "for dv, ax in zip(event_cols, axes):\n",
    "    plot_pacf(elite_ticks[dv], method='ywm', lags=96, ax=ax)\n",
    "\n",
    "    ax.set_title(dv)\n",
    "\n",
    "fig.suptitle('Autocorrelation of mention counts')\n",
    "fig.tight_layout(rect=[0, 0.03, 1, 0.95])\n",
    "\n",
    "plt.show()"
   ]
  },
  {
   "cell_type": "markdown",
   "metadata": {},
   "source": [
    "### Radio"
   ]
  },
  {
   "cell_type": "code",
   "execution_count": null,
   "metadata": {
    "execution": {
     "iopub.execute_input": "2023-07-31T03:50:51.306889Z",
     "iopub.status.busy": "2023-07-31T03:50:51.306501Z",
     "iopub.status.idle": "2023-07-31T03:51:00.915618Z",
     "shell.execute_reply": "2023-07-31T03:51:00.914427Z"
    }
   },
   "outputs": [],
   "source": [
    "nx = 3\n",
    "ny = int(math.ceil(len(event_cols) / nx))\n",
    "\n",
    "subplot_size = 5\n",
    "figsize = (subplot_size * nx, subplot_size * ny)\n",
    "\n",
    "fig, axes = plt.subplots(ny, nx, figsize=figsize)\n",
    "axes = axes.flatten()\n",
    "\n",
    "for i, ax in enumerate(axes):\n",
    "    if i >= len(event_cols):\n",
    "        fig.delaxes(ax)\n",
    "        continue\n",
    "\n",
    "for dv, ax in zip(event_cols, axes):\n",
    "    plot_pacf(radio_ticks[dv], method='ywm', lags=96, ax=ax)\n",
    "\n",
    "    ax.set_title(dv)\n",
    "\n",
    "fig.suptitle('Autocorrelation of mention counts')\n",
    "fig.tight_layout(rect=[0, 0.03, 1, 0.95])\n",
    "\n",
    "plt.show()"
   ]
  },
  {
   "cell_type": "markdown",
   "metadata": {},
   "source": [
    "# Compute VAR models of joint variation"
   ]
  },
  {
   "cell_type": "code",
   "execution_count": null,
   "metadata": {
    "execution": {
     "iopub.execute_input": "2023-07-31T03:51:00.923689Z",
     "iopub.status.busy": "2023-07-31T03:51:00.923376Z",
     "iopub.status.idle": "2023-07-31T03:51:00.928226Z",
     "shell.execute_reply": "2023-07-31T03:51:00.927387Z"
    }
   },
   "outputs": [],
   "source": [
    "ic = 'aic'\n",
    "maxlags = 96 # 15 mins / period * 96 periods = 24 hours"
   ]
  },
  {
   "cell_type": "code",
   "execution_count": null,
   "metadata": {
    "execution": {
     "iopub.execute_input": "2023-07-31T03:51:00.932743Z",
     "iopub.status.busy": "2023-07-31T03:51:00.932467Z",
     "iopub.status.idle": "2023-07-31T03:51:05.328365Z",
     "shell.execute_reply": "2023-07-31T03:51:05.327555Z"
    }
   },
   "outputs": [],
   "source": [
    "models, results, irfs = [], [], []\n",
    "for v in event_cols:\n",
    "    date = event_dates.to_dict()[v.replace('event_', '')]\n",
    "    period = '15min'\n",
    "    \n",
    "    tmp = pd.concat([\n",
    "        radio_ticks_overall[v].rename('radio'),\n",
    "        elite_ticks_overall[v].rename('elite'),\n",
    "    ], axis=1)\n",
    "  \n",
    "    tmp = tmp.loc[pd.IndexSlice[period, :], :] \\\n",
    "        .reset_index() \\\n",
    "        .drop('freq', axis=1)\n",
    "\n",
    "    tmp = tmp.loc[\n",
    "        (tmp['timestamp'] >= pd.Timestamp(date, tz='utc') - pd.Timedelta('6h')) &\n",
    "        (tmp['timestamp'] <= pd.Timestamp(date, tz='utc') + pd.Timedelta('4d')),\n",
    "    :]\n",
    "    \n",
    "    tmp['timestamp'] = tmp['timestamp'].dt.tz_localize(None)\n",
    "    tmp = tmp.set_index('timestamp').to_period(period)\n",
    "    \n",
    "    mod = VAR(tmp)\n",
    "    res = mod.fit(maxlags=maxlags, ic=ic)\n",
    "    irf = res.irf(periods=96)\n",
    "    \n",
    "    models += [mod]\n",
    "    results += [res]\n",
    "    irfs += [irf]"
   ]
  },
  {
   "cell_type": "markdown",
   "metadata": {},
   "source": [
    "# Test assumptions more"
   ]
  },
  {
   "cell_type": "markdown",
   "metadata": {},
   "source": [
    "## Selected orders"
   ]
  },
  {
   "cell_type": "code",
   "execution_count": null,
   "metadata": {
    "execution": {
     "iopub.execute_input": "2023-07-31T03:51:05.332775Z",
     "iopub.status.busy": "2023-07-31T03:51:05.332442Z",
     "iopub.status.idle": "2023-07-31T03:51:05.587051Z",
     "shell.execute_reply": "2023-07-31T03:51:05.586321Z"
    }
   },
   "outputs": [],
   "source": [
    "for v, mod, res, irf in zip(event_cols, models, results, irfs):\n",
    "    orders = mod.select_order().selected_orders\n",
    "    \n",
    "    print(v)\n",
    "    print('Selected orders: ', orders)\n",
    "    print()"
   ]
  },
  {
   "cell_type": "markdown",
   "metadata": {},
   "source": [
    "## Residual correlations"
   ]
  },
  {
   "cell_type": "code",
   "execution_count": null,
   "metadata": {
    "execution": {
     "iopub.execute_input": "2023-07-31T03:51:05.590672Z",
     "iopub.status.busy": "2023-07-31T03:51:05.590367Z",
     "iopub.status.idle": "2023-07-31T03:51:05.612651Z",
     "shell.execute_reply": "2023-07-31T03:51:05.611827Z"
    }
   },
   "outputs": [],
   "source": [
    "for v, mod, res, irf in zip(event_cols, models, results, irfs):\n",
    "    print(v)\n",
    "    print(res.resid.corr())\n",
    "    print()"
   ]
  },
  {
   "cell_type": "markdown",
   "metadata": {},
   "source": [
    "## Residual autocorrelation: tests"
   ]
  },
  {
   "cell_type": "code",
   "execution_count": null,
   "metadata": {
    "execution": {
     "iopub.execute_input": "2023-07-31T03:51:05.616298Z",
     "iopub.status.busy": "2023-07-31T03:51:05.615997Z",
     "iopub.status.idle": "2023-07-31T03:51:05.678010Z",
     "shell.execute_reply": "2023-07-31T03:51:05.677282Z"
    }
   },
   "outputs": [],
   "source": [
    "for v, mod, res, irf in zip(event_cols, models, results, irfs):\n",
    "    print(v)\n",
    "    print(res.test_whiteness(nlags=192).summary())\n",
    "    print()"
   ]
  },
  {
   "cell_type": "markdown",
   "metadata": {},
   "source": [
    "## Residual autocorrelation: plots"
   ]
  },
  {
   "cell_type": "code",
   "execution_count": null,
   "metadata": {
    "execution": {
     "iopub.execute_input": "2023-07-31T03:51:05.681653Z",
     "iopub.status.busy": "2023-07-31T03:51:05.681358Z",
     "iopub.status.idle": "2023-07-31T03:51:10.264288Z",
     "shell.execute_reply": "2023-07-31T03:51:10.263438Z"
    }
   },
   "outputs": [],
   "source": [
    "for v, mod, res, irf in zip(event_cols, models, results, irfs):\n",
    "    fig, axes = plt.subplots(1, 2, figsize=(6, 3), sharex=True)\n",
    "    axes = axes.flatten()\n",
    "\n",
    "    for mode, ax in zip(list(res.resid), axes):\n",
    "        plot_acf(res.resid[mode], ax=ax, lags=np.arange(1, max(5, orders[ic])))\n",
    "\n",
    "        ax.set_title(mode)\n",
    "\n",
    "        ax.set_ylim(-0.05, 0.05)\n",
    "\n",
    "    fig.suptitle('Residual autocorrelation: ' + v)\n",
    "    fig.tight_layout(rect=[0, 0.03, 1, 0.95])"
   ]
  },
  {
   "cell_type": "markdown",
   "metadata": {},
   "source": [
    "## Residual normality: tests"
   ]
  },
  {
   "cell_type": "code",
   "execution_count": null,
   "metadata": {
    "execution": {
     "iopub.execute_input": "2023-07-31T03:51:10.267846Z",
     "iopub.status.busy": "2023-07-31T03:51:10.267467Z",
     "iopub.status.idle": "2023-07-31T03:51:10.291100Z",
     "shell.execute_reply": "2023-07-31T03:51:10.290128Z"
    }
   },
   "outputs": [],
   "source": [
    "for v, mod, res, irf in zip(event_cols, models, results, irfs):\n",
    "    print(v)\n",
    "    print(res.test_normality().summary())\n",
    "    print()"
   ]
  },
  {
   "cell_type": "markdown",
   "metadata": {},
   "source": [
    "## Residual normality: plots"
   ]
  },
  {
   "cell_type": "code",
   "execution_count": null,
   "metadata": {
    "execution": {
     "iopub.execute_input": "2023-07-31T03:51:10.295885Z",
     "iopub.status.busy": "2023-07-31T03:51:10.295571Z",
     "iopub.status.idle": "2023-07-31T03:51:22.089527Z",
     "shell.execute_reply": "2023-07-31T03:51:22.088654Z"
    }
   },
   "outputs": [],
   "source": [
    "for v, mod, res, irf in zip(event_cols, models, results, irfs):\n",
    "    fig, axes = plt.subplots(1, 2, figsize=(6, 3), sharex=True)\n",
    "    axes = axes.flatten()\n",
    "\n",
    "    for mode, ax in zip(list(res.resid), axes):\n",
    "        res.resid[mode].hist(bins=50, ax=ax, log=True)\n",
    "\n",
    "        ax.set_title(mode)\n",
    "\n",
    "    fig.suptitle('Residual autocorrelation: ' + v)\n",
    "    fig.tight_layout(rect=[0, 0.03, 1, 0.95])"
   ]
  },
  {
   "cell_type": "markdown",
   "metadata": {},
   "source": [
    "# Granger causality tests"
   ]
  },
  {
   "cell_type": "code",
   "execution_count": null,
   "metadata": {
    "execution": {
     "iopub.execute_input": "2023-07-31T03:51:22.094468Z",
     "iopub.status.busy": "2023-07-31T03:51:22.094218Z",
     "iopub.status.idle": "2023-07-31T03:51:22.576804Z",
     "shell.execute_reply": "2023-07-31T03:51:22.575668Z"
    }
   },
   "outputs": [],
   "source": [
    "dat = []\n",
    "for v, mod, res, irf in zip(event_cols, models, results, irfs):    \n",
    "    pvals = pd.DataFrame([\n",
    "        [v, causing, caused, res.test_causality(caused, causing, kind='wald').pvalue]\n",
    "        for caused in list(res.resid)\n",
    "        for causing in list(res.resid)\n",
    "    ], columns=['event', 'causing', 'caused', 'pval'])\n",
    "    \n",
    "    irf_means = pd.DataFrame(irf.irfs.mean(axis=0).T, columns=irf.model.names, index=irf.model.names)\n",
    "    irf_means = pd.melt(irf_means.reset_index().rename({'index': 'causing'}, axis=1),\n",
    "                        id_vars='causing', var_name='caused').rename({'value': 'mean'}, axis=1)\n",
    "\n",
    "    irf_sds = pd.DataFrame(irf.irfs.std(axis=0).T, columns=irf.model.names, index=irf.model.names)\n",
    "    irf_sds = pd.melt(irf_sds.reset_index().rename({'index': 'causing'}, axis=1),\n",
    "                      id_vars='causing', var_name='caused').rename({'value': 'std'}, axis=1)\n",
    "\n",
    "    irf_sems = pd.DataFrame(ss.sem(irf.irfs, axis=0).T, columns=irf.model.names, index=irf.model.names)\n",
    "    irf_sems = pd.melt(irf_sems.reset_index().rename({'index': 'causing'}, axis=1),\n",
    "                       id_vars='causing', var_name='caused').rename({'value': 'sem'}, axis=1)\n",
    "\n",
    "    irf_dat = pvals.merge(irf_means, how='left', on=['causing', 'caused'])\n",
    "    irf_dat = irf_dat.merge(irf_sds, how='left', on=['causing', 'caused'])\n",
    "    irf_dat = irf_dat.merge(irf_sems, how='left', on=['causing', 'caused'])\n",
    "\n",
    "    dat += [irf_dat]\n",
    "    \n",
    "dat = pd.concat(dat, axis=0)\n",
    "dat = dat.loc[dat['causing'] != dat['caused'], :]\n",
    "dat = dat.sort_values(['event', 'causing', 'caused'])"
   ]
  },
  {
   "cell_type": "code",
   "execution_count": null,
   "metadata": {
    "execution": {
     "iopub.execute_input": "2023-07-31T03:51:22.581063Z",
     "iopub.status.busy": "2023-07-31T03:51:22.580715Z",
     "iopub.status.idle": "2023-07-31T03:51:22.598217Z",
     "shell.execute_reply": "2023-07-31T03:51:22.597391Z"
    }
   },
   "outputs": [],
   "source": [
    "with pd.option_context('display.float_format', lambda x: '%.3f' % x, 'display.max_rows', None):\n",
    "    display(dat)"
   ]
  },
  {
   "cell_type": "code",
   "execution_count": null,
   "metadata": {
    "execution": {
     "iopub.execute_input": "2023-07-31T03:51:22.602437Z",
     "iopub.status.busy": "2023-07-31T03:51:22.601679Z",
     "iopub.status.idle": "2023-07-31T03:51:22.645374Z",
     "shell.execute_reply": "2023-07-31T03:51:22.644549Z"
    }
   },
   "outputs": [],
   "source": [
    "dat.groupby(['event', 'causing']).apply(lambda s: s['pval'] < 0.05).reset_index().drop('level_2', axis=1)"
   ]
  },
  {
   "cell_type": "code",
   "execution_count": null,
   "metadata": {
    "execution": {
     "iopub.execute_input": "2023-07-31T03:51:22.649309Z",
     "iopub.status.busy": "2023-07-31T03:51:22.648968Z",
     "iopub.status.idle": "2023-07-31T03:51:22.685982Z",
     "shell.execute_reply": "2023-07-31T03:51:22.685184Z"
    }
   },
   "outputs": [],
   "source": [
    "def effect_type(s, alpha=0.05):\n",
    "    if s['elite'] >= alpha and s['radio'] >= alpha:\n",
    "        return 'Neither'\n",
    "    elif s['elite'] < alpha and s['radio'] < alpha:\n",
    "        return 'T <-> R'\n",
    "    elif s['elite'] < alpha:\n",
    "        return 'T -> R'\n",
    "    else:  # s['radio'] < alpha:\n",
    "        return 'R -> T'\n",
    "    \n",
    "tmp = dat[['event', 'causing', 'pval']].pivot('event', 'causing', 'pval')\n",
    "tmp.index = tmp.index.to_series().apply(lambda s: s.replace('event_', '').replace('_', ' ').title().replace('Nba', 'NBA'))\n",
    "tmp['effect'] = tmp.apply(effect_type, axis=1)\n",
    "\n",
    "tmp = tmp.sort_values('effect')\n",
    "\n",
    "tmp.columns.name = ''\n",
    "tmp.index.name = 'Event'\n",
    "tmp.columns = [s.title() for s in tmp.columns]\n",
    "\n",
    "with pd.option_context('display.float_format', lambda x: '%.3f' % x, 'display.max_rows', None):\n",
    "    display(tmp)"
   ]
  },
  {
   "cell_type": "code",
   "execution_count": null,
   "metadata": {
    "execution": {
     "iopub.execute_input": "2023-07-31T03:51:22.691575Z",
     "iopub.status.busy": "2023-07-31T03:51:22.691299Z",
     "iopub.status.idle": "2023-07-31T03:51:23.032307Z",
     "shell.execute_reply": "2023-07-31T03:51:23.031480Z"
    }
   },
   "outputs": [],
   "source": [
    "print(tmp.style \\\n",
    "    .format(precision=3) \\\n",
    "    .to_latex(\n",
    "        hrules = True,\n",
    "        column_format = 'l|rrl',\n",
    "        position = 'ht',\n",
    "        label = 'tab:granger-causality',\n",
    "        position_float = 'centering',\n",
    "        environment = 'table',\n",
    "        convert_css = True,\n",
    "    )\n",
    ")"
   ]
  },
  {
   "cell_type": "markdown",
   "metadata": {},
   "source": [
    "# Impulse responses"
   ]
  },
  {
   "cell_type": "code",
   "execution_count": null,
   "metadata": {
    "execution": {
     "iopub.execute_input": "2023-07-31T03:51:23.037259Z",
     "iopub.status.busy": "2023-07-31T03:51:23.036839Z",
     "iopub.status.idle": "2023-07-31T03:51:32.747290Z",
     "shell.execute_reply": "2023-07-31T03:51:32.746322Z"
    }
   },
   "outputs": [],
   "source": [
    "for v, mod, res, irf in zip(event_cols, models, results, irfs):\n",
    "    _ = irf.plot(impulse='elite', response='radio', orth=True)\n",
    "\n",
    "    fig = plt.gcf()\n",
    "    fig.suptitle('Orthogonalized Impulse Responses')\n",
    "\n",
    "    fig.set_size_inches(5, 5)\n",
    "    fig.tight_layout(rect=[0, 0.03, 1, 0.95])\n",
    "\n",
    "    for ax in fig.axes:\n",
    "        fig.suptitle(v)\n",
    "        ax.yaxis.set_major_formatter(mp.ticker.PercentFormatter(xmax=1))\n",
    "        ax.set_ylabel('Estimated Response')\n",
    "        ax.set_xlabel('Timestep (15-Min Increments)')"
   ]
  },
  {
   "cell_type": "code",
   "execution_count": null,
   "metadata": {},
   "outputs": [],
   "source": []
  }
 ],
 "metadata": {
  "kernelspec": {
   "display_name": "DL",
   "language": "python",
   "name": "dl"
  },
  "language_info": {
   "codemirror_mode": {
    "name": "ipython",
    "version": 3
   },
   "file_extension": ".py",
   "mimetype": "text/x-python",
   "name": "python",
   "nbconvert_exporter": "python",
   "pygments_lexer": "ipython3",
   "version": "3.10.10"
  },
  "widgets": {
   "application/vnd.jupyter.widget-state+json": {
    "state": {},
    "version_major": 2,
    "version_minor": 0
   }
  }
 },
 "nbformat": 4,
 "nbformat_minor": 4
}
