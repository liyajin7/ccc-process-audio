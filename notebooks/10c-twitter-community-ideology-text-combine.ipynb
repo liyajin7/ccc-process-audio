{
 "cells": [
  {
   "cell_type": "code",
   "execution_count": null,
   "metadata": {},
   "outputs": [],
   "source": [
    "import os\n",
    "import pickle\n",
    "import logging\n",
    "import itertools as it\n",
    "\n",
    "import numpy as np\n",
    "import pandas as pd\n",
    "import networkx as nx\n",
    "import scipy.stats as ss\n",
    "\n",
    "import matplotlib as mp\n",
    "%matplotlib inline\n",
    "import matplotlib.pyplot as plt\n",
    "\n",
    "import sklearn as sk\n",
    "import sklearn.multiclass as mc\n",
    "import sklearn.metrics as mt\n",
    "import sklearn.pipeline as pp\n",
    "import sklearn.linear_model as lm\n",
    "import sklearn.preprocessing as pr\n",
    "import sklearn.model_selection as ms\n",
    "import sklearn.feature_extraction.text as te\n",
    "\n",
    "from nltk.util import ngrams\n",
    "\n",
    "from IPython.display import display\n",
    "from tqdm.notebook import tqdm\n",
    "\n",
    "import utils as ut\n",
    "\n",
    "from pandasql import sqldf\n",
    "pysqldf = lambda q: sqldf(q, globals())"
   ]
  },
  {
   "cell_type": "code",
   "execution_count": null,
   "metadata": {},
   "outputs": [],
   "source": [
    "pd.set_option('display.float_format', lambda x: '%.3f' % x)\n",
    "pd.set_option('display.max_colwidth', None)"
   ]
  },
  {
   "cell_type": "code",
   "execution_count": null,
   "metadata": {},
   "outputs": [],
   "source": [
    "logger = logging.getLogger(__name__)\n",
    "\n",
    "fmt = '%(asctime)s : %(levelname)s : %(message)s'\n",
    "logging.basicConfig(format=fmt, level=logging.INFO)\n",
    "\n",
    "logging.getLogger(\"gensim\").setLevel(logging.WARNING)"
   ]
  },
  {
   "cell_type": "code",
   "execution_count": null,
   "metadata": {},
   "outputs": [],
   "source": [
    "os.chdir(os.path.expanduser('~/github/masthesis/'))"
   ]
  },
  {
   "cell_type": "code",
   "execution_count": null,
   "metadata": {},
   "outputs": [],
   "source": [
    "os.makedirs('data/twitter/', exist_ok=True)\n",
    "os.makedirs('data/radio/', exist_ok=True)"
   ]
  },
  {
   "cell_type": "markdown",
   "metadata": {},
   "source": [
    "# Load common Twitter data"
   ]
  },
  {
   "cell_type": "code",
   "execution_count": null,
   "metadata": {},
   "outputs": [],
   "source": [
    "user_show = pd.read_csv('data/samples/twitter/user-show.csv')\n",
    "\n",
    "display(user_show.shape)"
   ]
  },
  {
   "cell_type": "code",
   "execution_count": null,
   "metadata": {},
   "outputs": [],
   "source": [
    "universe = pd.read_csv('data/samples/twitter/user-data.csv', index_col='user_id')\n",
    "display(universe.shape)"
   ]
  },
  {
   "cell_type": "code",
   "execution_count": null,
   "metadata": {},
   "outputs": [],
   "source": [
    "show_names = user_show[['show_id', 'show_name']].drop_duplicates().set_index('show_id')"
   ]
  },
  {
   "cell_type": "markdown",
   "metadata": {},
   "source": [
    "## User-level graphs"
   ]
  },
  {
   "cell_type": "code",
   "execution_count": null,
   "metadata": {},
   "outputs": [],
   "source": [
    "fg_user_data = pd.read_csv('data/twitter/community/quotient-follow-graph.csv',\n",
    "                           names=['source', 'target', 'edge_attr'])\n",
    "fg_user_data = fg_user_data.drop('edge_attr', axis=1)\n",
    "\n",
    "fg_user = nx.from_pandas_edgelist(fg_user_data, source='source',\n",
    "                                  target='target', edge_attr=None,\n",
    "                                  create_using=nx.DiGraph())"
   ]
  },
  {
   "cell_type": "code",
   "execution_count": null,
   "metadata": {},
   "outputs": [],
   "source": [
    "mg_user_data = pd.read_csv('data/twitter/community/quotient-mention-graph.csv',\n",
    "                           names=['source', 'target', 'edge_attr'])\n",
    "mg_user_data = mg_user_data.drop('edge_attr', axis=1)\n",
    "\n",
    "mg_user = nx.from_pandas_edgelist(mg_user_data, source='source',\n",
    "                                  target='target', edge_attr=None,\n",
    "                                  create_using=nx.DiGraph())"
   ]
  },
  {
   "cell_type": "code",
   "execution_count": null,
   "metadata": {},
   "outputs": [],
   "source": [
    "rg_user_data = pd.read_csv('data/twitter/community/quotient-retweet-graph.csv',\n",
    "                           names=['source', 'target', 'edge_attr'])\n",
    "rg_user_data = rg_user_data.drop('edge_attr', axis=1)\n",
    "\n",
    "rg_user = nx.from_pandas_edgelist(rg_user_data, source='source',\n",
    "                                  target='target', edge_attr=None,\n",
    "                                  create_using=nx.DiGraph())"
   ]
  },
  {
   "cell_type": "markdown",
   "metadata": {},
   "source": [
    "# Twitter graphs on show level"
   ]
  },
  {
   "cell_type": "code",
   "execution_count": null,
   "metadata": {},
   "outputs": [],
   "source": [
    "fg_show_data = fg_user_data.merge(\n",
    "    user_show[['user_id', 'show_id']],\n",
    "    how='inner', left_on='source', right_on='user_id'\n",
    ").drop(['source', 'user_id'], axis=1).rename({'show_id': 'source'}, axis=1)\n",
    "\n",
    "fg_show_data = fg_show_data.merge(\n",
    "    user_show[['user_id', 'show_id']],\n",
    "    how='inner', left_on='target', right_on='user_id'\n",
    ").drop(['target', 'user_id'], axis=1).rename({'show_id': 'target'}, axis=1)\n",
    "\n",
    "fg_show = nx.from_pandas_edgelist(fg_show_data, source='source',\n",
    "                                  target='target', edge_attr=None,\n",
    "                                  create_using=nx.DiGraph())"
   ]
  },
  {
   "cell_type": "code",
   "execution_count": null,
   "metadata": {},
   "outputs": [],
   "source": [
    "mg_show_data = mg_user_data.merge(\n",
    "    user_show[['user_id', 'show_id']],\n",
    "    how='inner', left_on='source', right_on='user_id'\n",
    ").drop(['source', 'user_id'], axis=1).rename({'show_id': 'source'}, axis=1)\n",
    "\n",
    "mg_show_data = mg_show_data.merge(\n",
    "    user_show[['user_id', 'show_id']],\n",
    "    how='inner', left_on='target', right_on='user_id'\n",
    ").drop(['target', 'user_id'], axis=1).rename({'show_id': 'target'}, axis=1)\n",
    "\n",
    "mg_show = nx.from_pandas_edgelist(mg_show_data, source='source',\n",
    "                                  target='target', edge_attr=None,\n",
    "                                  create_using=nx.DiGraph())"
   ]
  },
  {
   "cell_type": "code",
   "execution_count": null,
   "metadata": {},
   "outputs": [],
   "source": [
    "rg_show_data = rg_user_data.merge(\n",
    "    user_show[['user_id', 'show_id']],\n",
    "    how='inner', left_on='source', right_on='user_id'\n",
    ").drop(['source', 'user_id'], axis=1).rename({'show_id': 'source'}, axis=1)\n",
    "\n",
    "rg_show_data = rg_show_data.merge(\n",
    "    user_show[['user_id', 'show_id']],\n",
    "    how='inner', left_on='target', right_on='user_id'\n",
    ").drop(['target', 'user_id'], axis=1).rename({'show_id': 'target'}, axis=1)\n",
    "\n",
    "rg_show = nx.from_pandas_edgelist(rg_show_data, source='source',\n",
    "                                  target='target', edge_attr=None,\n",
    "                                  create_using=nx.DiGraph())"
   ]
  },
  {
   "cell_type": "code",
   "execution_count": null,
   "metadata": {},
   "outputs": [],
   "source": [
    "nx.write_edgelist(fg_show, path='data/twitter/community/quotient-follow-graph-by-show.csv', delimiter=',')"
   ]
  },
  {
   "cell_type": "code",
   "execution_count": null,
   "metadata": {},
   "outputs": [],
   "source": [
    "nx.write_edgelist(mg_show, path='data/twitter/community/quotient-mention-graph-by-show.csv', delimiter=',')"
   ]
  },
  {
   "cell_type": "code",
   "execution_count": null,
   "metadata": {},
   "outputs": [],
   "source": [
    "nx.write_edgelist(rg_show, path='data/twitter/community/quotient-retweet-graph-by-show.csv', delimiter=',')"
   ]
  },
  {
   "cell_type": "markdown",
   "metadata": {},
   "source": [
    "# Twitter metrics by show"
   ]
  },
  {
   "cell_type": "markdown",
   "metadata": {},
   "source": [
    "## Ideology estimates"
   ]
  },
  {
   "cell_type": "code",
   "execution_count": null,
   "metadata": {},
   "outputs": [],
   "source": [
    "show_ideology_all = pd.read_csv('data/twitter/ideology-mds/show.csv')\n",
    "show_ideology_all = show_ideology_all[['show_id', 'dim0', 'dim1']] \\\n",
    "                                     .rename({'dim0': 'dim0_all', 'dim1': 'dim1_all'}, axis=1) \\\n",
    "                                     .set_index('show_id')\n",
    "\n",
    "show_ideology_hosts = pd.read_csv('data/twitter/ideology-mds/show-hosts.csv')\n",
    "show_ideology_hosts = show_ideology_hosts[['show_id', 'dim0', 'dim1']] \\\n",
    "                                         .rename({'dim0': 'dim0_hosts', 'dim1': 'dim1_hosts'}, axis=1) \\\n",
    "                                         .set_index('show_id')"
   ]
  },
  {
   "cell_type": "markdown",
   "metadata": {},
   "source": [
    "## Graph community"
   ]
  },
  {
   "cell_type": "code",
   "execution_count": null,
   "metadata": {},
   "outputs": [],
   "source": [
    "show_follow_comm = pd.read_csv('data/twitter/community/quotient-follow-community-by-show.csv')\n",
    "show_follow_comm = show_follow_comm.rename({'community': 'follow_community'}, axis=1)\n",
    "show_follow_comm = show_follow_comm.set_index('show_id')\n",
    "\n",
    "show_mention_comm = pd.read_csv('data/twitter/community/quotient-mention-community-by-show.csv')\n",
    "show_mention_comm = show_mention_comm.rename({'community': 'mention_community'}, axis=1)\n",
    "show_mention_comm = show_mention_comm.set_index('show_id')\n",
    "\n",
    "show_retweet_comm = pd.read_csv('data/twitter/community/quotient-retweet-community-by-show.csv')\n",
    "show_retweet_comm = show_retweet_comm.rename({'community': 'retweet_community'}, axis=1)\n",
    "show_retweet_comm = show_retweet_comm.set_index('show_id')"
   ]
  },
  {
   "cell_type": "markdown",
   "metadata": {},
   "source": [
    "## Graph centrality"
   ]
  },
  {
   "cell_type": "code",
   "execution_count": null,
   "metadata": {},
   "outputs": [],
   "source": [
    "show_follow_cent = pd.read_csv('data/twitter/community/quotient-follow-centrality-by-show.csv')\n",
    "show_follow_cent = show_follow_cent.rename({'centrality': 'follow_centrality'}, axis=1)\n",
    "show_follow_cent = show_follow_cent.set_index('show_id')\n",
    "\n",
    "show_mention_cent = pd.read_csv('data/twitter/community/quotient-mention-centrality-by-show.csv')\n",
    "show_mention_cent = show_mention_cent.rename({'centrality': 'mention_centrality'}, axis=1)\n",
    "show_mention_cent = show_mention_cent.set_index('show_id')\n",
    "\n",
    "show_retweet_cent = pd.read_csv('data/twitter/community/quotient-retweet-centrality-by-show.csv')\n",
    "show_retweet_cent = show_retweet_cent.rename({'centrality': 'retweet_centrality'}, axis=1)\n",
    "show_retweet_cent = show_retweet_cent.set_index('show_id')"
   ]
  },
  {
   "cell_type": "markdown",
   "metadata": {},
   "source": [
    "## Combine"
   ]
  },
  {
   "cell_type": "code",
   "execution_count": null,
   "metadata": {},
   "outputs": [],
   "source": [
    "show_data = pd.concat([show_follow_comm, show_follow_cent, show_mention_comm,\n",
    "                       show_mention_cent, show_retweet_comm, show_retweet_cent,\n",
    "                       show_ideology_all, show_ideology_hosts,\n",
    "                       show_names], axis=1)\n",
    "\n",
    "display(show_data.shape)"
   ]
  },
  {
   "cell_type": "code",
   "execution_count": null,
   "metadata": {},
   "outputs": [],
   "source": [
    "show_data.head().T"
   ]
  },
  {
   "cell_type": "code",
   "execution_count": null,
   "metadata": {},
   "outputs": [],
   "source": [
    "show_data.isna().sum()"
   ]
  },
  {
   "cell_type": "code",
   "execution_count": null,
   "metadata": {},
   "outputs": [],
   "source": [
    "with pd.option_context('display.max_rows', None):\n",
    "    display(show_data.loc[show_data.follow_community.isna(), :])"
   ]
  },
  {
   "cell_type": "code",
   "execution_count": null,
   "metadata": {},
   "outputs": [],
   "source": [
    "show_data.to_csv('data/twitter/community-ideology-by-show.csv', index=True)"
   ]
  },
  {
   "cell_type": "markdown",
   "metadata": {},
   "source": [
    "## Combine with radio data"
   ]
  },
  {
   "cell_type": "markdown",
   "metadata": {},
   "source": [
    "### Show pairs content"
   ]
  },
  {
   "cell_type": "code",
   "execution_count": null,
   "metadata": {},
   "outputs": [],
   "source": [
    "radio = pd.read_csv('data/samples/radio/show-pairs-content.csv')\n",
    "radio = radio.merge(show_data, how='inner', on='show_id')\n",
    "\n",
    "display(radio.shape)"
   ]
  },
  {
   "cell_type": "code",
   "execution_count": null,
   "metadata": {},
   "outputs": [],
   "source": [
    "radio.to_csv('data/radio/show-pairs-content-with-twitter-metrics.csv', index=False)"
   ]
  },
  {
   "cell_type": "markdown",
   "metadata": {},
   "source": [
    "### All local content"
   ]
  },
  {
   "cell_type": "code",
   "execution_count": null,
   "metadata": {},
   "outputs": [],
   "source": [
    "radio_local = pd.read_csv('data/samples/radio/all-local-content.csv')\n",
    "radio_local = radio_local.merge(show_data, how='inner', on='show_id')\n",
    "\n",
    "display(radio_local.shape)"
   ]
  },
  {
   "cell_type": "code",
   "execution_count": null,
   "metadata": {},
   "outputs": [],
   "source": [
    "radio_local.to_csv('data/radio/all-local-content-with-twitter-metrics.csv', index=False)"
   ]
  },
  {
   "cell_type": "markdown",
   "metadata": {},
   "source": [
    "### All syndicated content"
   ]
  },
  {
   "cell_type": "code",
   "execution_count": null,
   "metadata": {},
   "outputs": [],
   "source": [
    "radio_synd = pd.read_csv('data/samples/radio/all-syndicated-content.csv')\n",
    "radio_synd = radio_synd.merge(show_data, how='inner', on='show_id')\n",
    "\n",
    "display(radio_synd.shape)"
   ]
  },
  {
   "cell_type": "code",
   "execution_count": null,
   "metadata": {},
   "outputs": [],
   "source": [
    "radio_synd.to_csv('data/radio/all-syndicated-content-with-twitter-metrics.csv', index=False)"
   ]
  },
  {
   "cell_type": "markdown",
   "metadata": {},
   "source": [
    "# Twitter metrics by user_id"
   ]
  },
  {
   "cell_type": "markdown",
   "metadata": {},
   "source": [
    "## Ideology estimates"
   ]
  },
  {
   "cell_type": "code",
   "execution_count": null,
   "metadata": {},
   "outputs": [],
   "source": [
    "user_ideology = pd.read_csv('data/twitter/ideology-mds/user.csv', index_col='user_id')"
   ]
  },
  {
   "cell_type": "markdown",
   "metadata": {},
   "source": [
    "## Graph community"
   ]
  },
  {
   "cell_type": "code",
   "execution_count": null,
   "metadata": {},
   "outputs": [],
   "source": [
    "user_follow_comm = pd.read_csv('data/twitter/community/quotient-follow-community-all.csv')\n",
    "user_follow_comm = user_follow_comm.rename({'community': 'follow_community'}, axis=1)\n",
    "user_follow_comm = user_follow_comm.set_index('user_id')\n",
    "\n",
    "user_mention_comm = pd.read_csv('data/twitter/community/quotient-mention-community-all.csv')\n",
    "user_mention_comm = user_mention_comm.rename({'community': 'mention_community'}, axis=1)\n",
    "user_mention_comm = user_mention_comm.set_index('user_id')\n",
    "\n",
    "user_retweet_comm = pd.read_csv('data/twitter/community/quotient-retweet-community-all.csv')\n",
    "user_retweet_comm = user_retweet_comm.rename({'community': 'retweet_community'}, axis=1)\n",
    "user_retweet_comm = user_retweet_comm.set_index('user_id')"
   ]
  },
  {
   "cell_type": "markdown",
   "metadata": {},
   "source": [
    "## Graph centrality"
   ]
  },
  {
   "cell_type": "code",
   "execution_count": null,
   "metadata": {},
   "outputs": [],
   "source": [
    "user_follow_cent = pd.read_csv('data/twitter/community/quotient-follow-centrality.csv')\n",
    "user_follow_cent = user_follow_cent.rename({'centrality': 'follow_centrality'}, axis=1)\n",
    "user_follow_cent = user_follow_cent.set_index('user_id')\n",
    "\n",
    "user_mention_cent = pd.read_csv('data/twitter/community/quotient-mention-centrality.csv')\n",
    "user_mention_cent = user_mention_cent.rename({'centrality': 'mention_centrality'}, axis=1)\n",
    "user_mention_cent = user_mention_cent.set_index('user_id')\n",
    "\n",
    "user_retweet_cent = pd.read_csv('data/twitter/community/quotient-retweet-centrality.csv')\n",
    "user_retweet_cent = user_retweet_cent.rename({'centrality': 'retweet_centrality'}, axis=1)\n",
    "user_retweet_cent = user_retweet_cent.set_index('user_id')"
   ]
  },
  {
   "cell_type": "markdown",
   "metadata": {},
   "source": [
    "## Combine"
   ]
  },
  {
   "cell_type": "code",
   "execution_count": null,
   "metadata": {},
   "outputs": [],
   "source": [
    "user_data = pd.concat([user_follow_comm, user_follow_cent, user_mention_comm,\n",
    "                  user_mention_cent, user_retweet_comm, user_retweet_cent,\n",
    "                  user_ideology], axis=1)\n",
    "\n",
    "display(user_data.shape)"
   ]
  },
  {
   "cell_type": "code",
   "execution_count": null,
   "metadata": {},
   "outputs": [],
   "source": [
    "user_data.head().T"
   ]
  },
  {
   "cell_type": "code",
   "execution_count": null,
   "metadata": {},
   "outputs": [],
   "source": [
    "user_data = user_data.reset_index()\n",
    "\n",
    "user_data = pysqldf(\"\"\"\n",
    "select\n",
    "    uv.user_id,\n",
    "    \n",
    "    -- these are computed on a quotient graph and we need to interpolate,\n",
    "    -- for people who are not selected representatives of each show, the\n",
    "    -- community the chosen rep was assigned to\n",
    "    coalesce(ud.follow_community, sd.follow_community) as follow_community,\n",
    "    coalesce(ud.follow_centrality, sd.follow_centrality) as follow_centrality,\n",
    "    coalesce(ud.mention_community, sd.mention_community) as mention_community,\n",
    "    coalesce(ud.mention_centrality, sd.mention_centrality) as mention_centrality,\n",
    "    coalesce(ud.retweet_community, sd.retweet_community) as retweet_community,\n",
    "    coalesce(ud.retweet_centrality, sd.retweet_centrality) as retweet_centrality,\n",
    "    \n",
    "    -- these not computed on a quotient graph, we can keep just each user's\n",
    "    -- computed ideology value\n",
    "    ud.dim0,\n",
    "    ud.dim1\n",
    "from universe uv\n",
    "    left join user_data ud on ud.user_id = uv.user_id\n",
    "    left join user_show us on us.user_id = uv.user_id\n",
    "    left join show_data sd on sd.show_id = us.show_id;\n",
    "\"\"\").set_index('user_id')\n",
    "\n",
    "display(user_data.shape)"
   ]
  },
  {
   "cell_type": "code",
   "execution_count": null,
   "metadata": {},
   "outputs": [],
   "source": [
    "user_data.head().T"
   ]
  },
  {
   "cell_type": "code",
   "execution_count": null,
   "metadata": {},
   "outputs": [],
   "source": [
    "user_data.isna().sum()"
   ]
  },
  {
   "cell_type": "code",
   "execution_count": null,
   "metadata": {},
   "outputs": [],
   "source": [
    "with pd.option_context('display.max_rows', None):\n",
    "    display(user_data.loc[user_data.follow_community.isna(), :])"
   ]
  },
  {
   "cell_type": "code",
   "execution_count": null,
   "metadata": {},
   "outputs": [],
   "source": [
    "user_data.to_csv('data/twitter/community-ideology.csv', index=True)"
   ]
  },
  {
   "cell_type": "code",
   "execution_count": null,
   "metadata": {},
   "outputs": [],
   "source": []
  }
 ],
 "metadata": {
  "kernelspec": {
   "display_name": "DL",
   "language": "python",
   "name": "dl"
  },
  "language_info": {
   "codemirror_mode": {
    "name": "ipython",
    "version": 3
   },
   "file_extension": ".py",
   "mimetype": "text/x-python",
   "name": "python",
   "nbconvert_exporter": "python",
   "pygments_lexer": "ipython3",
   "version": "3.10.10"
  },
  "widgets": {
   "application/vnd.jupyter.widget-state+json": {
    "state": {},
    "version_major": 2,
    "version_minor": 0
   }
  }
 },
 "nbformat": 4,
 "nbformat_minor": 4
}
