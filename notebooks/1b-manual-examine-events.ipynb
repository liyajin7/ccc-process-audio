{
 "cells": [
  {
   "cell_type": "code",
   "execution_count": null,
   "metadata": {},
   "outputs": [],
   "source": [
    "import os\n",
    "import math\n",
    "import logging\n",
    "\n",
    "import numpy as np\n",
    "import pandas as pd\n",
    "\n",
    "from statsmodels.distributions.empirical_distribution import ECDF\n",
    "\n",
    "import seaborn as sns\n",
    "\n",
    "import matplotlib as mp\n",
    "%matplotlib inline\n",
    "import matplotlib.pyplot as plt\n",
    "\n",
    "from IPython.display import display"
   ]
  },
  {
   "cell_type": "code",
   "execution_count": null,
   "metadata": {},
   "outputs": [],
   "source": [
    "logger = logging.getLogger(__name__)\n",
    "\n",
    "fmt = '%(asctime)s : %(levelname)s : %(message)s'\n",
    "logging.basicConfig(format=fmt, level=logging.INFO)\n",
    "\n",
    "logging.getLogger(\"gensim\").setLevel(logging.WARNING)"
   ]
  },
  {
   "cell_type": "code",
   "execution_count": null,
   "metadata": {},
   "outputs": [],
   "source": [
    "os.chdir(os.path.expanduser('~/github/masthesis/'))"
   ]
  },
  {
   "cell_type": "code",
   "execution_count": null,
   "metadata": {},
   "outputs": [],
   "source": [
    "colors = sns.color_palette('colorblind', 10)\n",
    "\n",
    "elite_color = colors[3]\n",
    "radio_color = colors[0]\n",
    "decahose_color = colors[1]\n",
    "decahose2_color = colors[2]"
   ]
  },
  {
   "cell_type": "markdown",
   "metadata": {},
   "source": [
    "# Load data"
   ]
  },
  {
   "cell_type": "code",
   "execution_count": null,
   "metadata": {},
   "outputs": [],
   "source": [
    "events = pd.read_csv('data/paper-round-3/metadata/event-terms.csv', parse_dates=['timestamp'])\n",
    "events['date'] = events['timestamp'].dt.date\n",
    "\n",
    "event_dates = events.groupby('event')['date'].max()\n",
    "\n",
    "radio_ticks = pd.read_csv('data/paper-round-3/event-annotated/ticks-radio.csv')\n",
    "radio_ticks['timestamp'] = pd.to_datetime(radio_ticks['timestamp'])\n",
    "\n",
    "elite_ticks = pd.read_csv('data/paper-round-3/event-annotated/ticks-elite.csv')\n",
    "elite_ticks['timestamp'] = pd.to_datetime(elite_ticks['timestamp'])\n",
    "\n",
    "decahose_ticks = pd.read_csv('data/paper-round-3/event-annotated/ticks-decahose.csv')\n",
    "decahose_ticks['timestamp'] = pd.to_datetime(decahose_ticks['timestamp'])\n",
    "\n",
    "radio_ticks_overall = radio_ticks.loc[\n",
    "    radio_ticks['is_public'].isna() &\n",
    "    radio_ticks['station_census_region'].isna() &\n",
    "    radio_ticks['am_band'].isna() &\n",
    "    radio_ticks['syndicated'].isna(),\n",
    ":] \\\n",
    "    .drop(['is_public', 'station_census_region', 'am_band', 'syndicated'], axis=1) \\\n",
    "\n",
    "elite_ticks_overall = elite_ticks.loc[\n",
    "    elite_ticks['is_retweet'].isna() &\n",
    "    elite_ticks['conservative'].isna(),\n",
    ":] \\\n",
    "    .drop(['is_retweet', 'conservative'], axis=1) \\\n",
    "\n",
    "decahose_ticks_overall = decahose_ticks.loc[\n",
    "    decahose_ticks['is_retweet'].isna(),\n",
    ":] \\\n",
    "    .drop(['is_retweet'], axis=1) \\\n",
    "\n",
    "assert radio_ticks_overall.isna().sum().sum() == 0\n",
    "assert elite_ticks_overall.isna().sum().sum() == 0\n",
    "assert decahose_ticks_overall.isna().sum().sum() == 0"
   ]
  },
  {
   "cell_type": "code",
   "execution_count": null,
   "metadata": {},
   "outputs": [],
   "source": [
    "event_cols = list(\n",
    "    set(c for c in list(radio_ticks) if c.startswith('event_')) &\n",
    "    set(c for c in list(elite_ticks) if c.startswith('event_')) &\n",
    "    set(c for c in list(decahose_ticks) if c.startswith('event_'))\n",
    ")"
   ]
  },
  {
   "cell_type": "code",
   "execution_count": null,
   "metadata": {},
   "outputs": [],
   "source": [
    "radio_ticks_overall = radio_ticks_overall.set_index(['freq', 'timestamp'])\n",
    "elite_ticks_overall = elite_ticks_overall.set_index(['freq', 'timestamp'])\n",
    "decahose_ticks_overall = decahose_ticks_overall.set_index(['freq', 'timestamp'])"
   ]
  },
  {
   "cell_type": "markdown",
   "metadata": {},
   "source": [
    "# Summarize events"
   ]
  },
  {
   "cell_type": "code",
   "execution_count": null,
   "metadata": {},
   "outputs": [],
   "source": [
    "tmp = events.copy().set_index('event')\n",
    "tmp['timestamp'] = tmp['timestamp'].dt.tz_localize(None)\n",
    "tmp['time'] = tmp['timestamp'].dt.time\n",
    "tmp = tmp.drop('timestamp', axis=1)\n",
    "tmp.index = tmp.index.to_series().apply(lambda s: s.replace('event_', '').replace('_', ' ').title().replace('Nba', 'NBA'))\n",
    "\n",
    "tmp.index.name = 'Event'\n",
    "tmp.columns = [s.title() for s in tmp.columns]\n",
    "\n",
    "with pd.option_context('display.float_format', lambda x: '%.3f' % x, 'display.max_rows', None):\n",
    "    display(tmp)"
   ]
  },
  {
   "cell_type": "code",
   "execution_count": null,
   "metadata": {},
   "outputs": [],
   "source": [
    "print(tmp.style \\\n",
    "    .to_latex(\n",
    "        hrules = True,\n",
    "        column_format = 'l|r|r',\n",
    "        position = 'ht',\n",
    "        label = 'tab:manual_events',\n",
    "        position_float = 'centering',\n",
    "        environment = 'table',\n",
    "        convert_css = True,\n",
    "    )\n",
    ")"
   ]
  },
  {
   "cell_type": "markdown",
   "metadata": {},
   "source": [
    "# Visualize raw counts"
   ]
  },
  {
   "cell_type": "markdown",
   "metadata": {},
   "source": [
    "## 15min"
   ]
  },
  {
   "cell_type": "code",
   "execution_count": null,
   "metadata": {
    "tags": []
   },
   "outputs": [],
   "source": [
    "for event in event_cols:\n",
    "    period = '15min'\n",
    "    \n",
    "    tmp = pd.concat([\n",
    "        radio_ticks_overall.loc[pd.IndexSlice[period, :], event].rename('radio'),\n",
    "        elite_ticks_overall.loc[pd.IndexSlice[period, :], event].rename('elite'),\n",
    "        decahose_ticks_overall.loc[pd.IndexSlice[period, :], event].rename('decahose'),\n",
    "    ], axis=1)\n",
    "    \n",
    "    tmp = tmp.reset_index().drop('freq', axis=1)\n",
    "    \n",
    "    timestamp = events.loc[events['event'] == event.replace('event_', ''), 'timestamp'].item()\n",
    "    date = events.loc[events['event'] == event.replace('event_', ''), 'date'].item()\n",
    "    \n",
    "    tmp = tmp.loc[\n",
    "        (tmp['timestamp'] >= pd.Timestamp(timestamp) - pd.Timedelta('6h')) &\n",
    "        (tmp['timestamp'] <= pd.Timestamp(timestamp) + pd.Timedelta('3d')),\n",
    "    :]\n",
    "    \n",
    "    tmp = tmp.set_index('timestamp')\n",
    "    \n",
    "    fig, axes = plt.subplots(1, 3, figsize=(15, 5), sharex=True)\n",
    "    axes = axes.flatten()\n",
    "    \n",
    "    axes[0].set_title('Radio')\n",
    "    axes[1].set_title('Elite')\n",
    "    axes[2].set_title('Decahose')\n",
    "    \n",
    "    tmp['radio'].plot(ax=axes[0], rot=45, label='radio', color=radio_color)    \n",
    "    tmp['elite'].plot(ax=axes[1], rot=45, label='elite', color=elite_color)\n",
    "    tmp['decahose'].plot(ax=axes[2], rot=45, label='decahose', color=decahose_color)\n",
    "    \n",
    "    axes[0].axvline(timestamp, color='red')\n",
    "    axes[1].axvline(timestamp, color='red')\n",
    "    axes[2].axvline(timestamp, color='red')\n",
    "    \n",
    "    fig.suptitle(event.replace('event_', '').replace('_', ' ').title().replace('Nba', 'NBA'))\n",
    "    \n",
    "    fig.tight_layout()"
   ]
  },
  {
   "cell_type": "markdown",
   "metadata": {},
   "source": [
    "## 6 hours"
   ]
  },
  {
   "cell_type": "code",
   "execution_count": null,
   "metadata": {
    "tags": []
   },
   "outputs": [],
   "source": [
    "for event in event_cols:\n",
    "    period = '6H'\n",
    "    \n",
    "    tmp = pd.concat([\n",
    "        radio_ticks_overall.loc[pd.IndexSlice[period, :], event].rename('radio'),\n",
    "        elite_ticks_overall.loc[pd.IndexSlice[period, :], event].rename('elite'),\n",
    "        decahose_ticks_overall.loc[pd.IndexSlice[period, :], event].rename('decahose'),\n",
    "    ], axis=1)\n",
    "    \n",
    "    tmp = tmp.reset_index().drop('freq', axis=1)\n",
    "    \n",
    "    timestamp = events.loc[events['event'] == event.replace('event_', ''), 'timestamp'].item()\n",
    "    date = events.loc[events['event'] == event.replace('event_', ''), 'date'].item()\n",
    "    \n",
    "    tmp = tmp.loc[\n",
    "        (tmp['timestamp'] >= pd.Timestamp(timestamp) - pd.Timedelta('6h')) &\n",
    "        (tmp['timestamp'] <= pd.Timestamp(timestamp) + pd.Timedelta('3d')),\n",
    "    :]\n",
    "    \n",
    "    tmp = tmp.set_index('timestamp')\n",
    "    \n",
    "    fig, axes = plt.subplots(1, 3, figsize=(15, 5), sharex=True)\n",
    "    axes = axes.flatten()\n",
    "    \n",
    "    axes[0].set_title('Radio')\n",
    "    axes[1].set_title('Elite')\n",
    "    axes[2].set_title('Decahose')\n",
    "    \n",
    "    tmp['radio'].plot(ax=axes[0], rot=45, label='radio', color=radio_color)    \n",
    "    tmp['elite'].plot(ax=axes[1], rot=45, label='elite', color=elite_color)\n",
    "    tmp['decahose'].plot(ax=axes[2], rot=45, label='decahose', color=decahose_color)\n",
    "    \n",
    "    axes[0].axvline(timestamp, color='red')\n",
    "    axes[1].axvline(timestamp, color='red')\n",
    "    axes[2].axvline(timestamp, color='red')\n",
    "    \n",
    "    fig.suptitle(event.replace('event_', '').replace('_', ' ').title().replace('Nba', 'NBA'))\n",
    "    \n",
    "    fig.tight_layout()"
   ]
  },
  {
   "cell_type": "markdown",
   "metadata": {},
   "source": [
    "## 1 day"
   ]
  },
  {
   "cell_type": "code",
   "execution_count": null,
   "metadata": {
    "tags": []
   },
   "outputs": [],
   "source": [
    "for event in event_cols:\n",
    "    period = '1D'\n",
    "    \n",
    "    tmp = pd.concat([\n",
    "        radio_ticks_overall.loc[pd.IndexSlice[period, :], event].rename('radio'),\n",
    "        elite_ticks_overall.loc[pd.IndexSlice[period, :], event].rename('elite'),\n",
    "        decahose_ticks_overall.loc[pd.IndexSlice[period, :], event].rename('decahose'),\n",
    "    ], axis=1)\n",
    "    \n",
    "    tmp = tmp.reset_index().drop('freq', axis=1)\n",
    "    \n",
    "    timestamp = events.loc[events['event'] == event.replace('event_', ''), 'timestamp'].item()\n",
    "    date = events.loc[events['event'] == event.replace('event_', ''), 'date'].item()\n",
    "    \n",
    "    tmp = tmp.loc[\n",
    "        (tmp['timestamp'] >= pd.Timestamp(timestamp) - pd.Timedelta('6h')) &\n",
    "        (tmp['timestamp'] <= pd.Timestamp(timestamp) + pd.Timedelta('3d')),\n",
    "    :]\n",
    "    \n",
    "    tmp = tmp.set_index('timestamp')\n",
    "    \n",
    "    fig, axes = plt.subplots(1, 3, figsize=(15, 5), sharex=True)\n",
    "    axes = axes.flatten()\n",
    "    \n",
    "    axes[0].set_title('Radio')\n",
    "    axes[1].set_title('Elite')\n",
    "    axes[2].set_title('Decahose')\n",
    "    \n",
    "    tmp['radio'].plot(ax=axes[0], rot=45, label='radio', color=radio_color)\n",
    "    tmp['elite'].plot(ax=axes[1], rot=45, label='elite', color=elite_color)\n",
    "    tmp['decahose'].plot(ax=axes[2], rot=45, label='decahose', color=decahose_color)\n",
    "    \n",
    "    axes[0].axvline(timestamp, color='red')\n",
    "    axes[1].axvline(timestamp, color='red')\n",
    "    axes[2].axvline(timestamp, color='red')\n",
    "    \n",
    "    fig.suptitle(event.replace('event_', '').replace('_', ' ').title().replace('Nba', 'NBA'))\n",
    "    \n",
    "    fig.tight_layout()"
   ]
  },
  {
   "cell_type": "markdown",
   "metadata": {},
   "source": [
    "## For paper"
   ]
  },
  {
   "cell_type": "code",
   "execution_count": null,
   "metadata": {},
   "outputs": [],
   "source": [
    "event = 'event_bernie_drops_out'\n",
    "period = '15min'\n",
    "\n",
    "tmp = pd.concat([\n",
    "    radio_ticks_overall.loc[pd.IndexSlice[period, :], event].rename('radio'),\n",
    "    elite_ticks_overall.loc[pd.IndexSlice[period, :], event].rename('elite'),\n",
    "    decahose_ticks_overall.loc[pd.IndexSlice[period, :], event].rename('decahose'),\n",
    "], axis=1)\n",
    "\n",
    "tmp = tmp.reset_index().drop('freq', axis=1)\n",
    "\n",
    "timestamp = events.loc[events['event'] == event.replace('event_', ''), 'timestamp'].item()\n",
    "date = events.loc[events['event'] == event.replace('event_', ''), 'date'].item()\n",
    "\n",
    "tmp = tmp.loc[\n",
    "    (tmp['timestamp'] >= pd.Timestamp(timestamp) - pd.Timedelta('3h')) &\n",
    "    (tmp['timestamp'] <= pd.Timestamp(timestamp) + pd.Timedelta('2d')),\n",
    ":]\n",
    "\n",
    "tmp = tmp.set_index('timestamp')\n",
    "\n",
    "fig, axes = plt.subplots(1, 3, figsize=(15, 5), sharex=True)\n",
    "axes = axes.flatten()\n",
    "\n",
    "axes[0].set_title('Elite', fontsize=14)\n",
    "axes[1].set_title('Firehose', fontsize=14)\n",
    "axes[2].set_title('Radio', fontsize=14)\n",
    "\n",
    "tmp['elite'].plot(ax=axes[0], rot=45, label='elite', color=elite_color)\n",
    "tmp['decahose'].plot(ax=axes[1], rot=45, label='firehose', color=decahose2_color)\n",
    "tmp['radio'].plot(ax=axes[2], rot=45, label='radio', color=radio_color)\n",
    "\n",
    "axes[0].axvline(timestamp, 0, 1, color='red', linewidth=1, linestyle='--')\n",
    "axes[1].axvline(timestamp, 0, 1, color='red', linewidth=1, linestyle='--')\n",
    "axes[2].axvline(timestamp, 0, 1, color='red', linewidth=1, linestyle='--')\n",
    "\n",
    "axes[0].set_xlabel('Time', fontsize=12)\n",
    "axes[1].set_xlabel('Time', fontsize=12)\n",
    "axes[2].set_xlabel('Time', fontsize=12)\n",
    "\n",
    "axes[0].set_ylabel('Count', fontsize=12)\n",
    "axes[1].set_ylabel('Count', fontsize=12)\n",
    "axes[2].set_ylabel('Count', fontsize=12)\n",
    "\n",
    "axes[0].set_ylim(-0.05 * tmp['elite'].max(), 1.25 * tmp['elite'].max())\n",
    "axes[1].set_ylim(-0.05 * tmp['decahose'].max(), 1.25 * tmp['decahose'].max())\n",
    "axes[2].set_ylim(-0.05 * tmp['radio'].max(), 1.25 * tmp['radio'].max())\n",
    "\n",
    "fig.tight_layout()"
   ]
  },
  {
   "cell_type": "markdown",
   "metadata": {},
   "source": [
    "# Summary stats"
   ]
  },
  {
   "cell_type": "markdown",
   "metadata": {},
   "source": [
    "## Utils"
   ]
  },
  {
   "cell_type": "code",
   "execution_count": null,
   "metadata": {
    "tags": []
   },
   "outputs": [],
   "source": [
    "def repeat_reltime_row(row):\n",
    "    return [row['reltime'] for _ in range(row['cnt'])]\n",
    "\n",
    "def repeat_reltime(df):\n",
    "    vals = df.apply(repeat_reltime_row, axis=1).tolist()\n",
    "    vals = [x for row in vals for x in row]\n",
    "    vals = pd.Series(vals)\n",
    "    \n",
    "    return vals"
   ]
  },
  {
   "cell_type": "code",
   "execution_count": null,
   "metadata": {
    "tags": []
   },
   "outputs": [],
   "source": [
    "def avg(df):\n",
    "    reltimes = repeat_reltime(df)\n",
    "    return reltimes.mean()\n",
    "\n",
    "def std(df):\n",
    "    reltimes = repeat_reltime(df)    \n",
    "    return reltimes.std()"
   ]
  },
  {
   "cell_type": "markdown",
   "metadata": {},
   "source": [
    "## Compute stats"
   ]
  },
  {
   "cell_type": "code",
   "execution_count": null,
   "metadata": {
    "tags": []
   },
   "outputs": [],
   "source": [
    "out = []\n",
    "for event in event_cols:\n",
    "    event = event.replace('event_', '')\n",
    "    \n",
    "    focal_dt = events.loc[events['event'] == event, 'timestamp'].item()\n",
    "    start_dt = focal_dt\n",
    "    end_dt = start_dt + pd.Timedelta('4d')\n",
    "    \n",
    "    period = '15min'\n",
    "    \n",
    "    tmp = pd.concat([\n",
    "        radio_ticks_overall.loc[pd.IndexSlice[period, :], 'event_' + event].rename('radio'),\n",
    "        elite_ticks_overall.loc[pd.IndexSlice[period, :], 'event_' + event].rename('elite'),\n",
    "        decahose_ticks_overall.loc[pd.IndexSlice[period, :], 'event_' + event].rename('decahose'),\n",
    "    ], axis=1)\n",
    "    \n",
    "    radio_rt = tmp.loc[tmp['radio'].notna() & (tmp['radio'] > 0), :].reset_index()[['radio', 'timestamp']].rename({'radio': 'cnt'}, axis=1)\n",
    "    radio_rt = radio_rt.loc[(radio_rt['timestamp'] >= start_dt) & (radio_rt['timestamp'] <= end_dt), :]\n",
    "    radio_rt['reltime'] = (radio_rt['timestamp'] - start_dt).dt.total_seconds()\n",
    "    radio_rt['cnt'] = radio_rt['cnt'].astype(int)\n",
    "    \n",
    "    elite_rt = tmp.loc[tmp['elite'].notna() & (tmp['elite'] > 0), :].reset_index()[['elite', 'timestamp']].rename({'elite': 'cnt'}, axis=1)\n",
    "    elite_rt = elite_rt.loc[(elite_rt['timestamp'] >= start_dt) & (elite_rt['timestamp'] <= end_dt), :]\n",
    "    elite_rt['reltime'] = (elite_rt['timestamp'] - start_dt).dt.total_seconds()\n",
    "    elite_rt['cnt'] = elite_rt['cnt'].astype(int)\n",
    "    \n",
    "    decahose_rt = tmp.loc[tmp['decahose'].notna() & (tmp['decahose'] > 0), :].reset_index()[['decahose', 'timestamp']].rename({'decahose': 'cnt'}, axis=1)\n",
    "    decahose_rt = decahose_rt.loc[(decahose_rt['timestamp'] >= start_dt) & (decahose_rt['timestamp'] <= end_dt), :]\n",
    "    decahose_rt['reltime'] = (decahose_rt['timestamp'] - start_dt).dt.total_seconds()\n",
    "    decahose_rt['cnt'] = decahose_rt['cnt'].astype(int)\n",
    "    \n",
    "    out += [{\n",
    "        'event': event,\n",
    "        'metric': 'count',\n",
    "        'elite': elite_rt['cnt'].sum(),\n",
    "        'radio': radio_rt['cnt'].sum(),\n",
    "        'decahose': decahose_rt['cnt'].sum(),\n",
    "    }]\n",
    "    \n",
    "    out += [{\n",
    "        'event': event,\n",
    "        'metric': 'avg',\n",
    "        'elite': avg(elite_rt),\n",
    "        'radio': avg(radio_rt),\n",
    "        'decahose': avg(decahose_rt),\n",
    "    }]\n",
    "    \n",
    "    out += [{\n",
    "        'event': event,\n",
    "        'metric': 'std',\n",
    "        'elite': std(elite_rt),\n",
    "        'radio': std(radio_rt),\n",
    "        'decahose': std(decahose_rt),\n",
    "    }]\n",
    "\n",
    "out = pd.DataFrame(out)\n",
    "out['radio_minus_elite'] = out['radio'] - out['elite']\n",
    "out['radio_minus_decahose'] = out['radio'] - out['decahose']\n",
    "\n",
    "out.sort_values('metric')"
   ]
  },
  {
   "cell_type": "markdown",
   "metadata": {},
   "source": [
    "## Mean reltime"
   ]
  },
  {
   "cell_type": "code",
   "execution_count": null,
   "metadata": {},
   "outputs": [],
   "source": [
    "tmp = out.loc[out['metric'] == 'avg', :].drop('metric', axis=1).set_index('event')\n",
    "\n",
    "tmp.round(0).astype(int)"
   ]
  },
  {
   "cell_type": "code",
   "execution_count": null,
   "metadata": {},
   "outputs": [],
   "source": [
    "tmp['elite'].mean(), tmp['radio'].mean(), tmp['radio_minus_elite'].mean() / tmp['elite'].mean()"
   ]
  },
  {
   "cell_type": "code",
   "execution_count": null,
   "metadata": {},
   "outputs": [],
   "source": [
    "tmp['decahose'].mean(), tmp['radio'].mean(), tmp['radio_minus_decahose'].mean() / tmp['decahose'].mean()"
   ]
  },
  {
   "cell_type": "markdown",
   "metadata": {},
   "source": [
    "## SD reltime"
   ]
  },
  {
   "cell_type": "code",
   "execution_count": null,
   "metadata": {},
   "outputs": [],
   "source": [
    "tmp = out.loc[out['metric'] == 'std', :].drop('metric', axis=1).set_index('event')\n",
    "\n",
    "tmp.round(0).astype(int)"
   ]
  },
  {
   "cell_type": "code",
   "execution_count": null,
   "metadata": {},
   "outputs": [],
   "source": [
    "tmp['elite'].mean(), tmp['radio'].mean(), tmp['radio_minus_elite'].mean() / tmp['elite'].mean()"
   ]
  },
  {
   "cell_type": "code",
   "execution_count": null,
   "metadata": {},
   "outputs": [],
   "source": [
    "tmp['decahose'].mean(), tmp['radio'].mean(), tmp['radio_minus_decahose'].mean() / tmp['decahose'].mean()"
   ]
  },
  {
   "cell_type": "markdown",
   "metadata": {},
   "source": [
    "# Plot the average empirical cdf/pdf"
   ]
  },
  {
   "cell_type": "code",
   "execution_count": null,
   "metadata": {},
   "outputs": [],
   "source": [
    "# in seconds\n",
    "# doesn't make sense to go lower than 15 mins because of tick frequency\n",
    "cdf_query_end = 48 * 3600\n",
    "cdf_query_inc = 15 * 60\n",
    "\n",
    "cdf_query_pts = np.arange(0, cdf_query_end, cdf_query_inc)\n",
    "\n",
    "tw_vals, rd_vals, dh_vals = [], [], []\n",
    "for event in event_cols:\n",
    "    event = event.replace('event_', '')\n",
    "    \n",
    "    focal_dt = events.loc[events['event'] == event, 'timestamp'].item()\n",
    "    start_dt = focal_dt\n",
    "    end_dt = start_dt + pd.Timedelta(days=2)\n",
    "    \n",
    "    period = '15min'\n",
    "    \n",
    "    tmp = pd.concat([\n",
    "        radio_ticks_overall.loc[pd.IndexSlice[period, :], 'event_' + event].rename('radio'),\n",
    "        elite_ticks_overall.loc[pd.IndexSlice[period, :], 'event_' + event].rename('elite'),\n",
    "        decahose_ticks_overall.loc[pd.IndexSlice[period, :], 'event_' + event].rename('decahose'),\n",
    "    ], axis=1)\n",
    "    \n",
    "    radio_rt = tmp.loc[tmp['radio'].notna() & (tmp['radio'] > 0), :].reset_index()[['radio', 'timestamp']].rename({'radio': 'cnt'}, axis=1)\n",
    "    radio_rt = radio_rt.loc[(radio_rt['timestamp'] >= start_dt) & (radio_rt['timestamp'] <= end_dt), :]\n",
    "    radio_rt['reltime'] = (radio_rt['timestamp'] - start_dt).dt.total_seconds()\n",
    "    radio_rt['cnt'] = radio_rt['cnt'].astype(int)\n",
    "    \n",
    "    elite_rt = tmp.loc[tmp['elite'].notna() & (tmp['elite'] > 0), :].reset_index()[['elite', 'timestamp']].rename({'elite': 'cnt'}, axis=1)\n",
    "    elite_rt = elite_rt.loc[(elite_rt['timestamp'] >= start_dt) & (elite_rt['timestamp'] <= end_dt), :]\n",
    "    elite_rt['reltime'] = (elite_rt['timestamp'] - start_dt).dt.total_seconds()    \n",
    "    elite_rt['cnt'] = elite_rt['cnt'].astype(int)\n",
    "\n",
    "    decahose_rt = tmp.loc[tmp['decahose'].notna() & (tmp['decahose'] > 0), :].reset_index()[['decahose', 'timestamp']].rename({'decahose': 'cnt'}, axis=1)\n",
    "    decahose_rt = decahose_rt.loc[(decahose_rt['timestamp'] >= start_dt) & (decahose_rt['timestamp'] <= end_dt), :]\n",
    "    decahose_rt['reltime'] = (decahose_rt['timestamp'] - start_dt).dt.total_seconds()\n",
    "    decahose_rt['cnt'] = decahose_rt['cnt'].astype(int)\n",
    "    \n",
    "    tw = repeat_reltime(elite_rt)\n",
    "    tw_vals += [ECDF(tw)(cdf_query_pts)]\n",
    "\n",
    "    rd = repeat_reltime(radio_rt)\n",
    "    rd_vals += [ECDF(rd)(cdf_query_pts)]\n",
    "\n",
    "    dh = repeat_reltime(decahose_rt)\n",
    "    dh_vals += [ECDF(dh)(cdf_query_pts)]\n",
    "    \n",
    "tw_vals = np.stack(tw_vals)\n",
    "rd_vals = np.stack(rd_vals)\n",
    "dh_vals = np.stack(dh_vals)\n",
    "\n",
    "assert tw_vals.shape == rd_vals.shape\n",
    "assert tw_vals.shape == dh_vals.shape"
   ]
  },
  {
   "cell_type": "code",
   "execution_count": null,
   "metadata": {},
   "outputs": [],
   "source": [
    "# in units of cdf_query_inc\n",
    "plot_max = 96\n",
    "plot_interval = 1\n",
    "\n",
    "cdf = pd.DataFrame([\n",
    "    tw_vals[:, 0:plot_max:plot_interval].mean(axis=0),\n",
    "    rd_vals[:, 0:plot_max:plot_interval].mean(axis=0),\n",
    "    dh_vals[:, 0:plot_max:plot_interval].mean(axis=0),\n",
    "], index=['elite', 'radio', 'decahose']).T\n",
    "cdf.index = (cdf.index.to_series() * cdf_query_inc * plot_interval)\n",
    "\n",
    "pdf = cdf.copy()\n",
    "pdf['elite'] = np.gradient(pdf['elite'])\n",
    "pdf['radio'] = np.gradient(pdf['radio'])\n",
    "pdf['decahose'] = np.gradient(pdf['decahose'])\n",
    "\n",
    "fig, axes = plt.subplots(1, 2, figsize=(10, 5), sharex=True)\n",
    "cdf = cdf.rename({'elite': 'Elite', 'radio': 'Radio', 'decahose': 'Firehose'}, axis=1)\n",
    "pdf = pdf.rename({'elite': 'Elite', 'radio': 'Radio', 'decahose': 'Firehose'}, axis=1)\n",
    "\n",
    "cdf['Elite'].plot(ax=axes[0], color=elite_color, linestyle='solid')\n",
    "cdf['Firehose'].plot(ax=axes[0], color=decahose2_color, linestyle='dashdot')\n",
    "cdf['Radio'].plot(ax=axes[0], color=radio_color, linestyle='dotted')\n",
    "\n",
    "pdf['Elite'].plot(ax=axes[1], color=elite_color, linestyle='solid')\n",
    "pdf['Firehose'].plot(ax=axes[1], color=decahose2_color, linestyle='dashdot')\n",
    "pdf['Radio'].plot(ax=axes[1], color=radio_color, linestyle='dotted')\n",
    "\n",
    "axes[0].set_title('Pooled Empirical CDF')\n",
    "axes[1].set_title('Pooled Empirical PDF')\n",
    "\n",
    "axes[0].set_xlabel('Time')\n",
    "axes[1].set_xlabel('Time')\n",
    "\n",
    "axes[0].set_ylabel('Proportion')\n",
    "axes[1].set_ylabel('Density')\n",
    "\n",
    "axes[0].set_ylim(0, 1)\n",
    "\n",
    "def seconds_to_hours(x, pos):\n",
    "    return f'{x / 3600:.0f}h'\n",
    "fmt = mp.ticker.FuncFormatter(seconds_to_hours)\n",
    "axes[0].xaxis.set_major_formatter(fmt)\n",
    "\n",
    "axes[1].legend()\n",
    "fig.tight_layout()\n",
    "\n",
    "print(f'Based on {tw_vals.shape[0]} event(s)')"
   ]
  },
  {
   "cell_type": "code",
   "execution_count": null,
   "metadata": {},
   "outputs": [],
   "source": [
    "# in units of cdf_query_inc\n",
    "plot_max = 192\n",
    "plot_interval = 1\n",
    "\n",
    "cdf = pd.DataFrame([\n",
    "    tw_vals[:, 0:plot_max:plot_interval].mean(axis=0),\n",
    "    rd_vals[:, 0:plot_max:plot_interval].mean(axis=0),\n",
    "    dh_vals[:, 0:plot_max:plot_interval].mean(axis=0),\n",
    "], index=['elite', 'radio', 'decahose']).T\n",
    "cdf.index = (cdf.index.to_series() * cdf_query_inc * plot_interval)\n",
    "\n",
    "pdf = cdf.copy()\n",
    "pdf['elite'] = np.gradient(pdf['elite'])\n",
    "pdf['radio'] = np.gradient(pdf['radio'])\n",
    "pdf['decahose'] = np.gradient(pdf['decahose'])\n",
    "\n",
    "fig, axes = plt.subplots(1, 2, figsize=(10, 5), sharex=True)\n",
    "cdf = cdf.rename({'elite': 'Elite', 'radio': 'Radio', 'decahose': 'Firehose'}, axis=1)\n",
    "pdf = pdf.rename({'elite': 'Elite', 'radio': 'Radio', 'decahose': 'Firehose'}, axis=1)\n",
    "\n",
    "cdf['Elite'].plot(ax=axes[0], color=elite_color, linestyle='solid')\n",
    "cdf['Firehose'].plot(ax=axes[0], color=decahose2_color, linestyle='dashdot')\n",
    "cdf['Radio'].plot(ax=axes[0], color=radio_color, linestyle='dotted')\n",
    "\n",
    "pdf['Elite'].plot(ax=axes[1], color=elite_color, linestyle='solid')\n",
    "pdf['Firehose'].plot(ax=axes[1], color=decahose2_color, linestyle='dashdot')\n",
    "pdf['Radio'].plot(ax=axes[1], color=radio_color, linestyle='dotted')\n",
    "\n",
    "axes[0].set_title('Pooled Empirical CDF')\n",
    "axes[1].set_title('Pooled Empirical PDF')\n",
    "\n",
    "axes[0].set_xlabel('Time')\n",
    "axes[1].set_xlabel('Time')\n",
    "\n",
    "axes[0].set_ylabel('Proportion')\n",
    "axes[1].set_ylabel('Density')\n",
    "\n",
    "axes[0].set_ylim(0, 1)\n",
    "\n",
    "def seconds_to_hours(x, pos):\n",
    "    return f'{x / 3600:.0f}h'\n",
    "fmt = mp.ticker.FuncFormatter(seconds_to_hours)\n",
    "axes[0].xaxis.set_major_formatter(fmt)\n",
    "\n",
    "axes[1].legend()\n",
    "fig.tight_layout()\n",
    "\n",
    "print(f'Based on {tw_vals.shape[0]} event(s)')"
   ]
  },
  {
   "cell_type": "code",
   "execution_count": null,
   "metadata": {},
   "outputs": [],
   "source": []
  }
 ],
 "metadata": {
  "kernelspec": {
   "display_name": "DL",
   "language": "python",
   "name": "dl"
  },
  "language_info": {
   "codemirror_mode": {
    "name": "ipython",
    "version": 3
   },
   "file_extension": ".py",
   "mimetype": "text/x-python",
   "name": "python",
   "nbconvert_exporter": "python",
   "pygments_lexer": "ipython3",
   "version": "3.10.10"
  },
  "widgets": {
   "application/vnd.jupyter.widget-state+json": {
    "state": {},
    "version_major": 2,
    "version_minor": 0
   }
  }
 },
 "nbformat": 4,
 "nbformat_minor": 4
}
