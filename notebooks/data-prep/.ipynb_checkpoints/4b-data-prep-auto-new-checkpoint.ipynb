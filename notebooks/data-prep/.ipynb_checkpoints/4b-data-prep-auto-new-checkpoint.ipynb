{
 "cells": [
  {
   "cell_type": "code",
   "execution_count": null,
   "metadata": {
    "execution": {
     "iopub.execute_input": "2023-07-17T06:14:11.563825Z",
     "iopub.status.busy": "2023-07-17T06:14:11.563190Z",
     "iopub.status.idle": "2023-07-17T06:14:18.165563Z",
     "shell.execute_reply": "2023-07-17T06:14:18.163294Z"
    }
   },
   "outputs": [],
   "source": [
    "import os\n",
    "import re\n",
    "import csv\n",
    "import json\n",
    "import gzip\n",
    "import random\n",
    "import logging\n",
    "\n",
    "import numpy as np\n",
    "import pandas as pd\n",
    "\n",
    "from IPython.display import display\n",
    "from tqdm.notebook import tqdm"
   ]
  },
  {
   "cell_type": "code",
   "execution_count": null,
   "metadata": {
    "execution": {
     "iopub.execute_input": "2023-07-17T06:14:18.175019Z",
     "iopub.status.busy": "2023-07-17T06:14:18.173997Z",
     "iopub.status.idle": "2023-07-17T06:14:18.184483Z",
     "shell.execute_reply": "2023-07-17T06:14:18.182963Z"
    }
   },
   "outputs": [],
   "source": [
    "logger = logging.getLogger(__name__)\n",
    "\n",
    "fmt = '%(asctime)s : %(levelname)s : %(message)s'\n",
    "logging.basicConfig(format=fmt, level=logging.INFO)\n",
    "\n",
    "logging.getLogger(\"gensim\").setLevel(logging.WARNING)"
   ]
  },
  {
   "cell_type": "code",
   "execution_count": null,
   "metadata": {
    "execution": {
     "iopub.execute_input": "2023-07-17T06:14:18.191803Z",
     "iopub.status.busy": "2023-07-17T06:14:18.191190Z",
     "iopub.status.idle": "2023-07-17T06:14:18.213444Z",
     "shell.execute_reply": "2023-07-17T06:14:18.211700Z"
    }
   },
   "outputs": [],
   "source": [
    "os.chdir(os.path.expanduser('~/github/masthesis/'))"
   ]
  },
  {
   "cell_type": "code",
   "execution_count": null,
   "metadata": {
    "execution": {
     "iopub.execute_input": "2023-07-17T06:14:18.221138Z",
     "iopub.status.busy": "2023-07-17T06:14:18.220513Z",
     "iopub.status.idle": "2023-07-17T06:14:18.241014Z",
     "shell.execute_reply": "2023-07-17T06:14:18.239518Z"
    }
   },
   "outputs": [],
   "source": [
    "seed = 2969591811\n",
    "\n",
    "random.seed(seed)\n",
    "np.random.seed(seed)"
   ]
  },
  {
   "cell_type": "markdown",
   "metadata": {},
   "source": [
    "# Twitter"
   ]
  },
  {
   "cell_type": "code",
   "execution_count": null,
   "metadata": {
    "execution": {
     "iopub.execute_input": "2023-07-17T06:14:18.248763Z",
     "iopub.status.busy": "2023-07-17T06:14:18.248146Z",
     "iopub.status.idle": "2023-07-17T06:14:50.209833Z",
     "shell.execute_reply": "2023-07-17T06:14:50.208452Z"
    }
   },
   "outputs": [],
   "source": [
    "user_ids = pd.read_csv('data/twitter/tweets-processed.csv', index_col='id',\n",
    "                       parse_dates=['timestamp'])['user_id'].unique()"
   ]
  },
  {
   "cell_type": "markdown",
   "metadata": {
    "tags": []
   },
   "source": [
    "## 2021"
   ]
  },
  {
   "cell_type": "code",
   "execution_count": null,
   "metadata": {
    "execution": {
     "iopub.execute_input": "2023-07-17T06:14:50.216763Z",
     "iopub.status.busy": "2023-07-17T06:14:50.216531Z",
     "iopub.status.idle": "2023-07-17T06:14:57.256253Z",
     "shell.execute_reply": "2023-07-17T06:14:57.254766Z"
    }
   },
   "outputs": [],
   "source": [
    "tw2021 = pd.read_csv('data/paper-round-3/twitter/social-polls-2021.csv.gz', sep='\\t')\n",
    "\n",
    "# this has some users who are pollsters rather than elite journo types, which we don't want\n",
    "tw2021 = tw2021.loc[tw2021['user_id'].isin(user_ids)]\n",
    "\n",
    "assert tw2021['id'].nunique() == tw2021['id'].shape[0]"
   ]
  },
  {
   "cell_type": "markdown",
   "metadata": {},
   "source": [
    "## 2022"
   ]
  },
  {
   "cell_type": "code",
   "execution_count": null,
   "metadata": {
    "execution": {
     "iopub.execute_input": "2023-07-17T06:14:57.263553Z",
     "iopub.status.busy": "2023-07-17T06:14:57.263295Z",
     "iopub.status.idle": "2023-07-17T06:16:50.338364Z",
     "shell.execute_reply": "2023-07-17T06:16:50.337177Z"
    }
   },
   "outputs": [],
   "source": [
    "rx = '{\"info\":{\"message\":\"Replay Request Completed\",\"sent\":\"[^\"]+\",\"activity_count\":[0-9]+}}'\n",
    "\n",
    "tw2022 = []\n",
    "with gzip.open('data/paper-round-3/twitter/elite-twitter-2022.jsonl.gz', 'rt') as f:\n",
    "    for i, line in enumerate(f):\n",
    "        if line == '':\n",
    "            continue\n",
    "        \n",
    "        line = re.sub(rx, '', line)\n",
    "        \n",
    "        try:\n",
    "            tw2022 += [json.loads(line)]\n",
    "        except json.JSONDecodeError:\n",
    "            print(line)\n",
    "\n",
    "tw2022 = pd.DataFrame(tw2022)\n",
    "assert tw2022['id'].nunique() == tw2022['id'].shape[0]"
   ]
  },
  {
   "cell_type": "code",
   "execution_count": null,
   "metadata": {
    "execution": {
     "iopub.execute_input": "2023-07-17T06:16:50.357335Z",
     "iopub.status.busy": "2023-07-17T06:16:50.357064Z",
     "iopub.status.idle": "2023-07-17T06:17:14.476420Z",
     "shell.execute_reply": "2023-07-17T06:17:14.475212Z"
    },
    "tags": []
   },
   "outputs": [],
   "source": [
    "def get_tw2022_content(row):\n",
    "    is_rt = (row['body'].startswith('RT @'))\n",
    "    screen_name = row['actor']['preferredUsername']\n",
    "    assert isinstance(screen_name, str)\n",
    "    rt_prefix = f'RT @{screen_name}: '\n",
    "    \n",
    "    options = [row['body']]\n",
    "    \n",
    "    if (\n",
    "        isinstance(row['long_object'], dict) and\n",
    "        'body' in row['long_object'].keys()\n",
    "    ):\n",
    "        options += [row['long_object']['body']]\n",
    "    \n",
    "    if 'body' in row['object'].keys():\n",
    "        options += [row['object']['body']]\n",
    "\n",
    "    if (\n",
    "        'long_object' in row['object'].keys() and\n",
    "        'body' in row['object']['long_object']\n",
    "    ):\n",
    "        options += [row['object']['long_object']['body']]\n",
    "\n",
    "    if (\n",
    "        'object' in row['object'].keys() and\n",
    "        'body' in row['object']['object']\n",
    "    ):\n",
    "        options += [row['object']['object']['body']]\n",
    "\n",
    "    for i in range(len(options)):\n",
    "        if is_rt and not options[i].startswith('RT @'):\n",
    "            options[i] = rt_prefix + options[i]\n",
    "    \n",
    "    for opt in options:\n",
    "        if '…' not in opt:\n",
    "            return opt\n",
    "    \n",
    "    return sorted(options, key=len, reverse=True)[0]\n",
    "\n",
    "tw2022['content'] = tw2022.apply(get_tw2022_content, axis=1)\n",
    "\n",
    "tw2022['is_retweet'] = (tw2022['verb'] == 'share')\n",
    "\n",
    "assert tw2022['provider'].apply(lambda s: s['displayName']).unique().tolist() == ['Twitter']\n",
    "\n",
    "assert tw2022['objectType'].unique().tolist() == ['activity']\n",
    "\n",
    "tw2022['source'] = tw2022['generator'].apply(lambda s: s['displayName'])\n",
    "\n",
    "tw2022['source_collapsed'] = tw2022['source'].map({\n",
    "    'Twitter for iPhone': 'iPhone',\n",
    "    'Twitter for Android': 'Android',\n",
    "    'Twitter Web App': 'Desktop',\n",
    "    'Twitter Web Client': 'Desktop',\n",
    "    'TweetDeck': 'Desktop',\n",
    "}).fillna('Other')\n",
    "\n",
    "tw2022['is_reply'] = tw2022['inReplyTo'].notna()\n",
    "tw2022['is_quote_tweet'] = tw2022['twitter_quoted_status'].notna()\n",
    "\n",
    "tw2022['user_id'] = tw2022['actor'] \\\n",
    "    .apply(lambda s: s['id']) \\\n",
    "    .str.replace('id:twitter.com:', '', regex=False) \\\n",
    "    .astype(int)\n",
    "\n",
    "tw2022['truncated'] = False\n",
    "\n",
    "tw2022['id'] = tw2022['id'].str.replace('tag:search.twitter.com,2005:', '', regex=False)\n",
    "\n",
    "tw2022.rename({\n",
    "    'retweetCount': 'retweet_count',\n",
    "    'favoritesCount': 'favorite_count',\n",
    "    'twitter_lang': 'lang',\n",
    "    'postedTime': 'timestamp',\n",
    "}, axis=1, inplace=True)\n",
    "\n",
    "tw2022 = tw2022[['id', 'user_id', 'content', 'timestamp',\n",
    "                 'lang', 'source', 'truncated', 'is_retweet',\n",
    "                 'is_reply', 'is_quote_tweet', 'retweet_count',\n",
    "                 'favorite_count', 'source_collapsed']]"
   ]
  },
  {
   "cell_type": "markdown",
   "metadata": {},
   "source": [
    "## Combine"
   ]
  },
  {
   "cell_type": "code",
   "execution_count": null,
   "metadata": {
    "execution": {
     "iopub.execute_input": "2023-07-17T06:17:14.483604Z",
     "iopub.status.busy": "2023-07-17T06:17:14.483315Z",
     "iopub.status.idle": "2023-07-17T06:18:01.064787Z",
     "shell.execute_reply": "2023-07-17T06:18:01.063517Z"
    }
   },
   "outputs": [],
   "source": [
    "elite_data = pd.concat([tw2021, tw2022], axis=0).set_index('id')\n",
    "\n",
    "elite_data['timestamp'] = pd.to_datetime(elite_data['timestamp'])\n",
    "\n",
    "elite_data = elite_data.loc[\n",
    "    ((elite_data['timestamp'] >= '2021-01-01') & (elite_data['timestamp'] <= '2021-03-01')) |\n",
    "    ((elite_data['timestamp'] >= '2022-03-01') & (elite_data['timestamp'] <= '2022-05-01')),\n",
    ":]\n",
    "\n",
    "elite_data = elite_data.loc[~elite_data['content'].isna(), :]\n",
    "\n",
    "with gzip.open('data/paper-round-3/twitter/new-data-processed.jsonl.gz', 'wt') as f:\n",
    "    elite_data.reset_index().to_json(f, orient='records', lines=True)\n",
    "    \n",
    "del tw2022, tw2021"
   ]
  },
  {
   "cell_type": "code",
   "execution_count": null,
   "metadata": {
    "execution": {
     "iopub.execute_input": "2023-07-17T06:18:01.152485Z",
     "iopub.status.busy": "2023-07-17T06:18:01.152185Z",
     "iopub.status.idle": "2023-07-17T06:18:18.813398Z",
     "shell.execute_reply": "2023-07-17T06:18:18.812293Z"
    }
   },
   "outputs": [],
   "source": [
    "with gzip.open('data/paper-round-3/twitter/new-data-processed.jsonl.gz', 'rt') as f:\n",
    "    elite_data = pd.read_json(f, lines=True)\n",
    "\n",
    "elite_data.set_index('id', inplace=True)\n",
    "elite_data['timestamp'] = pd.to_datetime(elite_data['timestamp'])\n",
    "elite_data['timestamp'] = elite_data['timestamp'].dt.tz_localize('utc')"
   ]
  },
  {
   "cell_type": "markdown",
   "metadata": {},
   "source": [
    "# Decahose"
   ]
  },
  {
   "cell_type": "code",
   "execution_count": null,
   "metadata": {
    "execution": {
     "iopub.execute_input": "2023-07-17T06:18:18.820424Z",
     "iopub.status.busy": "2023-07-17T06:18:18.820171Z",
     "iopub.status.idle": "2023-07-17T07:07:26.329837Z",
     "shell.execute_reply": "2023-07-17T07:07:26.328374Z"
    }
   },
   "outputs": [],
   "source": [
    "total = 317774406  # zcat decahose-10pct-random-sort-20230509.csv.gz | grep '^\"[0-9]\\+\"' | wc -l\n",
    "take = (np.random.random((total,)) <= 0.057)  # ~18m rows\n",
    "\n",
    "decahose_data = []\n",
    "with gzip.open('data/paper-round-3/decahose/decahose-10pct-random-sort-20230509.csv.gz', 'rt') as f:\n",
    "    reader = csv.DictReader(f)\n",
    "    for i, row in tqdm(enumerate(reader), total=total):\n",
    "        if take[i]:\n",
    "            decahose_data += [row]\n",
    "decahose_data = pd.DataFrame(decahose_data)\n",
    "\n",
    "decahose_data.set_index('id', inplace=True)\n",
    "decahose_data = decahose_data.loc[~decahose_data.index.duplicated(), :]\n",
    "\n",
    "decahose_data.rename({'postedtime': 'timestamp', 'body': 'content'}, axis=1, inplace=True)\n",
    "decahose_data['timestamp'] = pd.to_datetime(decahose_data['timestamp'])\n",
    "\n",
    "decahose_data = decahose_data.loc[decahose_data['timestamp'] >= '2021-01-01']\n",
    "\n",
    "decahose_data = decahose_data.loc[\n",
    "    ((decahose_data['timestamp'] >= '2021-01-01') & (decahose_data['timestamp'] <= '2021-03-01')) |\n",
    "    ((decahose_data['timestamp'] >= '2022-03-01') & (decahose_data['timestamp'] <= '2022-05-01')),\n",
    ":]\n",
    "\n",
    "with gzip.open('data/paper-round-3/decahose/new-data-processed.csv.gz', 'wt') as f:\n",
    "    decahose_data.to_csv(f, index=True)"
   ]
  },
  {
   "cell_type": "code",
   "execution_count": null,
   "metadata": {
    "execution": {
     "iopub.execute_input": "2023-07-17T07:07:26.343313Z",
     "iopub.status.busy": "2023-07-17T07:07:26.343026Z",
     "iopub.status.idle": "2023-07-17T07:09:24.793145Z",
     "shell.execute_reply": "2023-07-17T07:09:24.791195Z"
    }
   },
   "outputs": [],
   "source": [
    "with gzip.open('data/paper-round-3/decahose/new-data-processed.csv.gz', 'rt') as f:\n",
    "    decahose_data = pd.read_csv(f, index_col='id', parse_dates=['timestamp'])\n",
    "\n",
    "decahose_data['timestamp'] = decahose_data['timestamp'].dt.tz_localize('utc')"
   ]
  },
  {
   "cell_type": "markdown",
   "metadata": {},
   "source": [
    "# Radio"
   ]
  },
  {
   "cell_type": "code",
   "execution_count": null,
   "metadata": {
    "execution": {
     "iopub.execute_input": "2023-07-17T07:09:26.205203Z",
     "iopub.status.busy": "2023-07-17T07:09:26.204811Z",
     "iopub.status.idle": "2023-07-17T07:09:55.695870Z",
     "shell.execute_reply": "2023-07-17T07:09:55.694265Z"
    }
   },
   "outputs": [],
   "source": [
    "with gzip.open('data/paper-round-3/radio/new-data-processed.csv.gz', 'rt') as f:\n",
    "    radio_data = pd.read_csv(f, index_col='snippet_id', parse_dates=['timestamp'])\n",
    "\n",
    "# see the 3a notebook for how we got these - they're converted from a Unix\n",
    "# timestamp and thus are in UTC\n",
    "radio_data['timestamp'] = radio_data['timestamp'].dt.tz_localize('utc')\n",
    "\n",
    "# no empty snippets\n",
    "radio_data = radio_data.loc[~radio_data['content'].isna(), :]\n",
    "\n",
    "# exclude certain common bad lines up front -- we know they're not good,\n",
    "# why bother with them later\n",
    "bad_lines = [\n",
    "    '[noise]',\n",
    "    '[noise] [noise]',\n",
    "    '<unk>',\n",
    "    '[laughter]',\n",
    "    'thank you',\n",
    "    'mm',\n",
    "    'and',\n",
    "    'the',\n",
    "    'thanks',\n",
    "    'a',\n",
    "    '[noise] [noise] [noise]',\n",
    "    'oh',\n",
    "    'um',\n",
    "    'i',\n",
    "    'na',\n",
    "]\n",
    "\n",
    "# once again, after dropping such lines, no empty snippets\n",
    "radio_data = radio_data.loc[~radio_data['content'].isin(bad_lines), :]\n",
    "\n",
    "\n",
    "radio_data = radio_data.loc[\n",
    "    ((radio_data['timestamp'] >= '2021-01-01') & (radio_data['timestamp'] <= '2021-03-01')) |\n",
    "    ((radio_data['timestamp'] >= '2022-03-01') & (radio_data['timestamp'] <= '2022-05-01')),\n",
    ":]"
   ]
  },
  {
   "cell_type": "markdown",
   "metadata": {},
   "source": [
    "# Combined rebalanced dataset"
   ]
  },
  {
   "cell_type": "code",
   "execution_count": null,
   "metadata": {
    "execution": {
     "iopub.execute_input": "2023-07-17T07:09:55.704046Z",
     "iopub.status.busy": "2023-07-17T07:09:55.703793Z",
     "iopub.status.idle": "2023-07-17T07:09:55.711552Z",
     "shell.execute_reply": "2023-07-17T07:09:55.710397Z"
    }
   },
   "outputs": [],
   "source": [
    "def make_reltime(s):\n",
    "    epoch = pd.Timestamp('1970-01-01T00:00:00+00:00')\n",
    "    \n",
    "    s = (s - epoch).dt.total_seconds()\n",
    "    s -= s.min()\n",
    "    \n",
    "    return s"
   ]
  },
  {
   "cell_type": "markdown",
   "metadata": {},
   "source": [
    "## 2021"
   ]
  },
  {
   "cell_type": "code",
   "execution_count": null,
   "metadata": {
    "execution": {
     "iopub.execute_input": "2023-07-17T07:09:55.718514Z",
     "iopub.status.busy": "2023-07-17T07:09:55.718297Z",
     "iopub.status.idle": "2023-07-17T07:09:57.414676Z",
     "shell.execute_reply": "2023-07-17T07:09:57.413849Z"
    }
   },
   "outputs": [],
   "source": [
    "ed2021 = elite_data \\\n",
    "    .loc[elite_data['timestamp'] < '2022-01-01', ['content', 'timestamp']] \\\n",
    "    .reset_index() \\\n",
    "    .assign(kind='elite', year=2021)"
   ]
  },
  {
   "cell_type": "code",
   "execution_count": null,
   "metadata": {
    "execution": {
     "iopub.execute_input": "2023-07-17T07:09:57.423567Z",
     "iopub.status.busy": "2023-07-17T07:09:57.423300Z",
     "iopub.status.idle": "2023-07-17T07:09:58.210120Z",
     "shell.execute_reply": "2023-07-17T07:09:58.209272Z"
    }
   },
   "outputs": [],
   "source": [
    "rd2021 = radio_data \\\n",
    "    .loc[radio_data['timestamp'] < '2022-01-01', ['content', 'timestamp']] \\\n",
    "    .reset_index() \\\n",
    "    .assign(kind='radio', year=2021) \\\n",
    "    .rename({'snippet_id': 'id'}, axis=1)"
   ]
  },
  {
   "cell_type": "code",
   "execution_count": null,
   "metadata": {
    "execution": {
     "iopub.execute_input": "2023-07-17T07:09:58.217286Z",
     "iopub.status.busy": "2023-07-17T07:09:58.217050Z",
     "iopub.status.idle": "2023-07-17T07:10:01.335746Z",
     "shell.execute_reply": "2023-07-17T07:10:01.334976Z"
    }
   },
   "outputs": [],
   "source": [
    "dd2021 = decahose_data \\\n",
    "    .loc[decahose_data['timestamp'] < '2022-01-01', ['content', 'timestamp']] \\\n",
    "    .reset_index() \\\n",
    "    .assign(kind='decahose', year=2021)"
   ]
  },
  {
   "cell_type": "code",
   "execution_count": null,
   "metadata": {
    "execution": {
     "iopub.execute_input": "2023-07-17T07:10:01.352661Z",
     "iopub.status.busy": "2023-07-17T07:10:01.352417Z",
     "iopub.status.idle": "2023-07-17T07:10:01.359924Z",
     "shell.execute_reply": "2023-07-17T07:10:01.359313Z"
    }
   },
   "outputs": [],
   "source": [
    "(ed2021.shape[0], dd2021.shape[0], rd2021.shape[0])"
   ]
  },
  {
   "cell_type": "code",
   "execution_count": null,
   "metadata": {
    "execution": {
     "iopub.execute_input": "2023-07-17T07:10:01.372109Z",
     "iopub.status.busy": "2023-07-17T07:10:01.371905Z",
     "iopub.status.idle": "2023-07-17T07:10:04.622296Z",
     "shell.execute_reply": "2023-07-17T07:10:04.621549Z"
    }
   },
   "outputs": [],
   "source": [
    "size = min(ed2021.shape[0], dd2021.shape[0], rd2021.shape[0])\n",
    "dd_size = min(6*size, dd2021.shape[0])\n",
    "\n",
    "ed2021 = ed2021.sample(n=size, replace=False, random_state=seed)\n",
    "rd2021 = rd2021.sample(n=size, replace=False, random_state=seed)\n",
    "\n",
    "# there's a lot of irrelevant cruft in here that isn't about news;\n",
    "# we filter it out after detecting stories and empirically about\n",
    "# 1/6 of the content is relevant\n",
    "dd2021 = dd2021.sample(n=dd_size, replace=False, random_state=seed)"
   ]
  },
  {
   "cell_type": "code",
   "execution_count": null,
   "metadata": {
    "execution": {
     "iopub.execute_input": "2023-07-17T07:10:04.628694Z",
     "iopub.status.busy": "2023-07-17T07:10:04.628457Z",
     "iopub.status.idle": "2023-07-17T07:10:20.612894Z",
     "shell.execute_reply": "2023-07-17T07:10:20.612037Z"
    }
   },
   "outputs": [],
   "source": [
    "dat2021 = pd.concat([ed2021, dd2021, rd2021], axis=0)\n",
    "\n",
    "dat2021['id'] = dat2021['kind'].map({'elite': 'E', 'radio': 'R', 'decahose': 'D', }) + dat2021['id'].astype(str)\n",
    "dat2021 = dat2021.loc[~dat2021['id'].duplicated()]\n",
    "assert dat2021['id'].nunique() == dat2021.shape[0]\n",
    "\n",
    "dat2021['reltime'] = make_reltime(dat2021['timestamp'])\n",
    "dat2021 = dat2021.sort_values('reltime')"
   ]
  },
  {
   "cell_type": "markdown",
   "metadata": {},
   "source": [
    "## 2022"
   ]
  },
  {
   "cell_type": "code",
   "execution_count": null,
   "metadata": {
    "execution": {
     "iopub.execute_input": "2023-07-17T07:10:20.621891Z",
     "iopub.status.busy": "2023-07-17T07:10:20.621638Z",
     "iopub.status.idle": "2023-07-17T07:10:20.870579Z",
     "shell.execute_reply": "2023-07-17T07:10:20.869728Z"
    }
   },
   "outputs": [],
   "source": [
    "ed2022 = elite_data \\\n",
    "    .loc[elite_data['timestamp'] >= '2022-01-01', ['content', 'timestamp']] \\\n",
    "    .reset_index() \\\n",
    "    .assign(kind='elite', year=2022)"
   ]
  },
  {
   "cell_type": "code",
   "execution_count": null,
   "metadata": {
    "execution": {
     "iopub.execute_input": "2023-07-17T07:10:20.876493Z",
     "iopub.status.busy": "2023-07-17T07:10:20.876233Z",
     "iopub.status.idle": "2023-07-17T07:10:22.753251Z",
     "shell.execute_reply": "2023-07-17T07:10:22.752442Z"
    }
   },
   "outputs": [],
   "source": [
    "dd2022 = decahose_data \\\n",
    "    .loc[decahose_data['timestamp'] >= '2022-01-01', ['content', 'timestamp']] \\\n",
    "    .reset_index() \\\n",
    "    .assign(kind='decahose', year=2022)"
   ]
  },
  {
   "cell_type": "code",
   "execution_count": null,
   "metadata": {
    "execution": {
     "iopub.execute_input": "2023-07-17T07:10:22.759143Z",
     "iopub.status.busy": "2023-07-17T07:10:22.758913Z",
     "iopub.status.idle": "2023-07-17T07:10:22.820660Z",
     "shell.execute_reply": "2023-07-17T07:10:22.819863Z"
    }
   },
   "outputs": [],
   "source": [
    "rd2022 = radio_data \\\n",
    "    .loc[radio_data['timestamp'] >= '2022-01-01', ['content', 'timestamp']] \\\n",
    "    .reset_index() \\\n",
    "    .assign(kind='radio', year=2022) \\\n",
    "    .rename({'snippet_id': 'id'}, axis=1)"
   ]
  },
  {
   "cell_type": "code",
   "execution_count": null,
   "metadata": {
    "execution": {
     "iopub.execute_input": "2023-07-17T07:10:22.826581Z",
     "iopub.status.busy": "2023-07-17T07:10:22.826323Z",
     "iopub.status.idle": "2023-07-17T07:10:22.832347Z",
     "shell.execute_reply": "2023-07-17T07:10:22.831636Z"
    }
   },
   "outputs": [],
   "source": [
    "(ed2022.shape[0], dd2022.shape[0], rd2022.shape[0])"
   ]
  },
  {
   "cell_type": "code",
   "execution_count": null,
   "metadata": {
    "execution": {
     "iopub.execute_input": "2023-07-17T07:10:22.840479Z",
     "iopub.status.busy": "2023-07-17T07:10:22.840267Z",
     "iopub.status.idle": "2023-07-17T07:10:25.972677Z",
     "shell.execute_reply": "2023-07-17T07:10:25.971864Z"
    }
   },
   "outputs": [],
   "source": [
    "ed_size = ed2022.shape[0]\n",
    "rd_size = rd2022.shape[0]\n",
    "dd_size = min(6*ed_size, dd2022.shape[0])\n",
    "\n",
    "ed2022 = ed2022.sample(n=ed_size, replace=False, random_state=seed)\n",
    "rd2022 = rd2022.sample(n=rd_size, replace=False, random_state=seed)\n",
    "dd2022 = dd2022.sample(n=dd_size, replace=False, random_state=seed)"
   ]
  },
  {
   "cell_type": "code",
   "execution_count": null,
   "metadata": {
    "execution": {
     "iopub.execute_input": "2023-07-17T07:10:25.979062Z",
     "iopub.status.busy": "2023-07-17T07:10:25.978804Z",
     "iopub.status.idle": "2023-07-17T07:10:41.197940Z",
     "shell.execute_reply": "2023-07-17T07:10:41.197056Z"
    }
   },
   "outputs": [],
   "source": [
    "dat2022 = pd.concat([ed2022, dd2022, rd2022], axis=0)\n",
    "\n",
    "dat2022['id'] = dat2022['kind'].map({'elite': 'E', 'radio': 'R', 'decahose': 'D', }) + dat2022['id'].astype(str)\n",
    "dat2022 = dat2022.loc[~dat2022['id'].duplicated()]\n",
    "assert dat2022['id'].nunique() == dat2022.shape[0]\n",
    "\n",
    "dat2022['reltime'] = make_reltime(dat2022['timestamp'])\n",
    "dat2022 = dat2022.sort_values('reltime')"
   ]
  },
  {
   "cell_type": "markdown",
   "metadata": {},
   "source": [
    "## Combine"
   ]
  },
  {
   "cell_type": "code",
   "execution_count": null,
   "metadata": {
    "execution": {
     "iopub.execute_input": "2023-07-17T07:10:41.204816Z",
     "iopub.status.busy": "2023-07-17T07:10:41.204513Z",
     "iopub.status.idle": "2023-07-17T07:10:54.380380Z",
     "shell.execute_reply": "2023-07-17T07:10:54.379500Z"
    }
   },
   "outputs": [],
   "source": [
    "dat = pd.concat([dat2021, dat2022], axis=0)\n",
    "\n",
    "assert dat['id'].nunique() == dat.shape[0]"
   ]
  },
  {
   "cell_type": "code",
   "execution_count": null,
   "metadata": {
    "execution": {
     "iopub.execute_input": "2023-07-17T07:10:54.386822Z",
     "iopub.status.busy": "2023-07-17T07:10:54.386576Z",
     "iopub.status.idle": "2023-07-17T07:11:04.452359Z",
     "shell.execute_reply": "2023-07-17T07:11:04.450837Z"
    }
   },
   "outputs": [],
   "source": [
    "dat = dat.loc[(~dat['content'].isna()) & (dat['content'] != ''), :]"
   ]
  },
  {
   "cell_type": "markdown",
   "metadata": {},
   "source": [
    "# Inspect"
   ]
  },
  {
   "cell_type": "code",
   "execution_count": null,
   "metadata": {
    "execution": {
     "iopub.execute_input": "2023-07-17T07:11:04.459307Z",
     "iopub.status.busy": "2023-07-17T07:11:04.459043Z",
     "iopub.status.idle": "2023-07-17T07:11:04.811423Z",
     "shell.execute_reply": "2023-07-17T07:11:04.810700Z"
    }
   },
   "outputs": [],
   "source": [
    "dat['kind'].value_counts()"
   ]
  },
  {
   "cell_type": "code",
   "execution_count": null,
   "metadata": {
    "execution": {
     "iopub.execute_input": "2023-07-17T07:11:04.820870Z",
     "iopub.status.busy": "2023-07-17T07:11:04.820626Z",
     "iopub.status.idle": "2023-07-17T07:11:04.890164Z",
     "shell.execute_reply": "2023-07-17T07:11:04.889351Z"
    }
   },
   "outputs": [],
   "source": [
    "dat['year'].value_counts()"
   ]
  },
  {
   "cell_type": "code",
   "execution_count": null,
   "metadata": {
    "execution": {
     "iopub.execute_input": "2023-07-17T07:11:04.896349Z",
     "iopub.status.busy": "2023-07-17T07:11:04.896134Z",
     "iopub.status.idle": "2023-07-17T07:11:06.084661Z",
     "shell.execute_reply": "2023-07-17T07:11:06.083925Z"
    }
   },
   "outputs": [],
   "source": [
    "dat.groupby(['year', 'kind']).size()"
   ]
  },
  {
   "cell_type": "code",
   "execution_count": null,
   "metadata": {
    "execution": {
     "iopub.execute_input": "2023-07-17T07:11:06.090852Z",
     "iopub.status.busy": "2023-07-17T07:11:06.090620Z",
     "iopub.status.idle": "2023-07-17T07:11:06.314068Z",
     "shell.execute_reply": "2023-07-17T07:11:06.313313Z"
    }
   },
   "outputs": [],
   "source": [
    "dat['reltime'].describe()"
   ]
  },
  {
   "cell_type": "code",
   "execution_count": null,
   "metadata": {
    "execution": {
     "iopub.execute_input": "2023-07-17T07:11:06.320391Z",
     "iopub.status.busy": "2023-07-17T07:11:06.320156Z",
     "iopub.status.idle": "2023-07-17T07:11:07.062715Z",
     "shell.execute_reply": "2023-07-17T07:11:07.062017Z"
    }
   },
   "outputs": [],
   "source": [
    "dat.groupby('year')['reltime'].describe()"
   ]
  },
  {
   "cell_type": "code",
   "execution_count": null,
   "metadata": {
    "execution": {
     "iopub.execute_input": "2023-07-17T07:11:07.069566Z",
     "iopub.status.busy": "2023-07-17T07:11:07.069310Z",
     "iopub.status.idle": "2023-07-17T07:11:08.803320Z",
     "shell.execute_reply": "2023-07-17T07:11:08.802663Z"
    }
   },
   "outputs": [],
   "source": [
    "dat.groupby(['year', 'kind'])['reltime'].describe()"
   ]
  },
  {
   "cell_type": "code",
   "execution_count": null,
   "metadata": {
    "execution": {
     "iopub.execute_input": "2023-07-17T07:11:08.810081Z",
     "iopub.status.busy": "2023-07-17T07:11:08.809833Z",
     "iopub.status.idle": "2023-07-17T07:11:09.176063Z",
     "shell.execute_reply": "2023-07-17T07:11:09.175224Z"
    }
   },
   "outputs": [],
   "source": [
    "with pd.option_context('max_colwidth', None):\n",
    "    display(dat.sample(10))"
   ]
  },
  {
   "cell_type": "markdown",
   "metadata": {},
   "source": [
    "# Write out"
   ]
  },
  {
   "cell_type": "code",
   "execution_count": null,
   "metadata": {
    "execution": {
     "iopub.execute_input": "2023-07-17T07:11:09.183212Z",
     "iopub.status.busy": "2023-07-17T07:11:09.182971Z",
     "iopub.status.idle": "2023-07-17T07:14:42.188946Z",
     "shell.execute_reply": "2023-07-17T07:14:42.185273Z"
    }
   },
   "outputs": [],
   "source": [
    "with gzip.open('data/paper-round-3/event-annotated/auto-sample-newdata-pre-whisper.csv.gz', 'wt') as f:\n",
    "    dat.to_csv(f, index=False)"
   ]
  },
  {
   "cell_type": "code",
   "execution_count": null,
   "metadata": {},
   "outputs": [],
   "source": []
  }
 ],
 "metadata": {
  "kernelspec": {
   "display_name": "DL",
   "language": "python",
   "name": "dl"
  },
  "language_info": {
   "codemirror_mode": {
    "name": "ipython",
    "version": 3
   },
   "file_extension": ".py",
   "mimetype": "text/x-python",
   "name": "python",
   "nbconvert_exporter": "python",
   "pygments_lexer": "ipython3",
   "version": "3.10.10"
  },
  "widgets": {
   "application/vnd.jupyter.widget-state+json": {
    "state": {},
    "version_major": 2,
    "version_minor": 0
   }
  }
 },
 "nbformat": 4,
 "nbformat_minor": 4
}
