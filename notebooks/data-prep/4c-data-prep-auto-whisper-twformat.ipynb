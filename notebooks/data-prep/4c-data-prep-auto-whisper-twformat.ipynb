{
 "cells": [
  {
   "cell_type": "code",
   "execution_count": null,
   "metadata": {
    "execution": {
     "iopub.execute_input": "2023-07-19T00:30:12.637977Z",
     "iopub.status.busy": "2023-07-19T00:30:12.637108Z",
     "iopub.status.idle": "2023-07-19T00:30:28.433105Z",
     "shell.execute_reply": "2023-07-19T00:30:28.431924Z"
    },
    "tags": []
   },
   "outputs": [],
   "source": [
    "import os\n",
    "import re\n",
    "import json\n",
    "import gzip\n",
    "import random\n",
    "import html\n",
    "import string\n",
    "import pickle\n",
    "import logging\n",
    "\n",
    "import numpy as np\n",
    "import pandas as pd\n",
    "\n",
    "import unidecode\n",
    "\n",
    "from nltk.corpus import wordnet as wn\n",
    "from num2words import num2words\n",
    "\n",
    "from IPython.display import display, Audio\n",
    "from tqdm.notebook import tqdm"
   ]
  },
  {
   "cell_type": "code",
   "execution_count": null,
   "metadata": {
    "execution": {
     "iopub.execute_input": "2023-07-19T00:30:28.437162Z",
     "iopub.status.busy": "2023-07-19T00:30:28.436785Z",
     "iopub.status.idle": "2023-07-19T00:30:28.442380Z",
     "shell.execute_reply": "2023-07-19T00:30:28.441429Z"
    },
    "tags": []
   },
   "outputs": [],
   "source": [
    "logger = logging.getLogger(__name__)\n",
    "\n",
    "fmt = '%(asctime)s : %(levelname)s : %(message)s'\n",
    "logging.basicConfig(format=fmt, level=logging.INFO)\n",
    "\n",
    "logging.getLogger('boto3').setLevel(logging.WARNING)\n",
    "logging.getLogger('botocore').setLevel(logging.WARNING)"
   ]
  },
  {
   "cell_type": "code",
   "execution_count": null,
   "metadata": {
    "execution": {
     "iopub.execute_input": "2023-07-19T00:30:28.445661Z",
     "iopub.status.busy": "2023-07-19T00:30:28.445295Z",
     "iopub.status.idle": "2023-07-19T00:30:28.468822Z",
     "shell.execute_reply": "2023-07-19T00:30:28.467989Z"
    },
    "tags": []
   },
   "outputs": [],
   "source": [
    "os.chdir(os.path.expanduser('~/github/masthesis/'))"
   ]
  },
  {
   "cell_type": "code",
   "execution_count": null,
   "metadata": {
    "execution": {
     "iopub.execute_input": "2023-07-19T00:30:28.472246Z",
     "iopub.status.busy": "2023-07-19T00:30:28.471949Z",
     "iopub.status.idle": "2023-07-19T00:30:28.483885Z",
     "shell.execute_reply": "2023-07-19T00:30:28.483030Z"
    },
    "tags": []
   },
   "outputs": [],
   "source": [
    "seed = 2969591811\n",
    "\n",
    "random.seed(seed)\n",
    "np.random.seed(seed)"
   ]
  },
  {
   "cell_type": "markdown",
   "metadata": {},
   "source": [
    "# Load data"
   ]
  },
  {
   "cell_type": "code",
   "execution_count": null,
   "metadata": {
    "execution": {
     "iopub.execute_input": "2023-07-19T00:30:28.487124Z",
     "iopub.status.busy": "2023-07-19T00:30:28.486778Z",
     "iopub.status.idle": "2023-07-19T00:32:14.192075Z",
     "shell.execute_reply": "2023-07-19T00:32:14.190753Z"
    },
    "tags": []
   },
   "outputs": [],
   "source": [
    "with gzip.open('data/paper-round-3/event-annotated/auto-sample-pre-whisper.csv.gz', 'rt') as f:\n",
    "    full_sample_old = pd.read_csv(f)"
   ]
  },
  {
   "cell_type": "code",
   "execution_count": null,
   "metadata": {
    "execution": {
     "iopub.execute_input": "2023-07-19T00:32:14.197722Z",
     "iopub.status.busy": "2023-07-19T00:32:14.197451Z",
     "iopub.status.idle": "2023-07-19T00:33:08.714265Z",
     "shell.execute_reply": "2023-07-19T00:33:08.709699Z"
    },
    "tags": []
   },
   "outputs": [],
   "source": [
    "with gzip.open('data/paper-round-3/event-annotated/auto-sample-newdata-pre-whisper.csv.gz', 'rt') as f:\n",
    "    full_sample_new = pd.read_csv(f)"
   ]
  },
  {
   "cell_type": "code",
   "execution_count": null,
   "metadata": {
    "execution": {
     "iopub.execute_input": "2023-07-19T00:33:08.731533Z",
     "iopub.status.busy": "2023-07-19T00:33:08.730976Z",
     "iopub.status.idle": "2023-07-19T00:33:19.280415Z",
     "shell.execute_reply": "2023-07-19T00:33:19.278893Z"
    },
    "tags": []
   },
   "outputs": [],
   "source": [
    "full_sample = pd.concat([full_sample_old, full_sample_new], axis=0).reset_index(drop=True)\n",
    "del full_sample_old, full_sample_new"
   ]
  },
  {
   "cell_type": "code",
   "execution_count": null,
   "metadata": {
    "execution": {
     "iopub.execute_input": "2023-07-19T00:33:19.285185Z",
     "iopub.status.busy": "2023-07-19T00:33:19.284776Z",
     "iopub.status.idle": "2023-07-19T00:33:26.799069Z",
     "shell.execute_reply": "2023-07-19T00:33:26.797480Z"
    },
    "tags": []
   },
   "outputs": [],
   "source": [
    "print(f\"Dropped {(~full_sample['kind'].isin(['decahose', 'radio', 'elite'])).sum()} misparsed decahose rows\")\n",
    "\n",
    "# drop a small number of decahose examples that had weird content + didn't save correctly\n",
    "full_sample = full_sample.loc[full_sample['kind'].isin(['decahose', 'radio', 'elite']), :]"
   ]
  },
  {
   "cell_type": "code",
   "execution_count": null,
   "metadata": {
    "execution": {
     "iopub.execute_input": "2023-07-19T00:33:26.818090Z",
     "iopub.status.busy": "2023-07-19T00:33:26.805316Z",
     "iopub.status.idle": "2023-07-19T00:33:41.553959Z",
     "shell.execute_reply": "2023-07-19T00:33:41.552690Z"
    },
    "tags": []
   },
   "outputs": [],
   "source": [
    "with gzip.open('data/paper-round-3/event-annotated/auto-sample-whisper-transcripts.csv.gz', 'rt') as f:\n",
    "    whisper_transcripts = pd.read_csv(f)"
   ]
  },
  {
   "cell_type": "code",
   "execution_count": null,
   "metadata": {
    "execution": {
     "iopub.execute_input": "2023-07-19T00:33:41.558274Z",
     "iopub.status.busy": "2023-07-19T00:33:41.557812Z",
     "iopub.status.idle": "2023-07-19T00:33:44.116230Z",
     "shell.execute_reply": "2023-07-19T00:33:44.115274Z"
    },
    "tags": []
   },
   "outputs": [],
   "source": [
    "print(f'Total rows {whisper_transcripts.shape[0]}')\n",
    "\n",
    "def check_int(s):\n",
    "    try:\n",
    "        int(s)\n",
    "    except ValueError:\n",
    "        return False\n",
    "    else:\n",
    "        return True\n",
    "\n",
    "is_int = whisper_transcripts['snippet_id'].apply(check_int)\n",
    "\n",
    "# we have one weird badly parsed row\n",
    "print(f'Dropped {whisper_transcripts.shape[0] - is_int.sum()} misparsed rows')\n",
    "\n",
    "whisper_transcripts = whisper_transcripts.loc[is_int, :]\n",
    "whisper_transcripts['snippet_id'] = whisper_transcripts['snippet_id'].astype(int)\n",
    "\n",
    "print(f\"Dropped {whisper_transcripts['content'].isna().sum()} rows with no ASR'd text\")\n",
    "whisper_transcripts = whisper_transcripts.loc[~whisper_transcripts['content'].isna(), :]"
   ]
  },
  {
   "cell_type": "code",
   "execution_count": null,
   "metadata": {
    "execution": {
     "iopub.execute_input": "2023-07-19T00:33:44.121854Z",
     "iopub.status.busy": "2023-07-19T00:33:44.121459Z",
     "iopub.status.idle": "2023-07-19T00:36:01.099547Z",
     "shell.execute_reply": "2023-07-19T00:36:01.098053Z"
    },
    "tags": []
   },
   "outputs": [],
   "source": [
    "with gzip.open('data/paper-round-3/radio/paper-round-3-snippets-audio-keys.csv.gz', 'rt') as f:\n",
    "    audio_old = pd.read_csv(f)"
   ]
  },
  {
   "cell_type": "code",
   "execution_count": null,
   "metadata": {
    "execution": {
     "iopub.execute_input": "2023-07-19T00:36:01.103894Z",
     "iopub.status.busy": "2023-07-19T00:36:01.103463Z",
     "iopub.status.idle": "2023-07-19T00:36:11.548366Z",
     "shell.execute_reply": "2023-07-19T00:36:11.547013Z"
    },
    "tags": []
   },
   "outputs": [],
   "source": [
    "with gzip.open('data/paper-round-3/radio/new-data-processed.csv.gz', 'rt') as f:\n",
    "    audio_new = pd.read_csv(f)"
   ]
  },
  {
   "cell_type": "code",
   "execution_count": null,
   "metadata": {
    "execution": {
     "iopub.execute_input": "2023-07-19T00:36:11.554194Z",
     "iopub.status.busy": "2023-07-19T00:36:11.553777Z",
     "iopub.status.idle": "2023-07-19T00:36:12.598516Z",
     "shell.execute_reply": "2023-07-19T00:36:12.597729Z"
    },
    "tags": []
   },
   "outputs": [],
   "source": [
    "audio_new = audio_new \\\n",
    "    [['snippet_id', 'audio_key', 'audio_file_offset',\n",
    "      'audio_file_index', 'timestamp', 'end_dt', 'duration']] \\\n",
    "    .rename({'timestamp': 'start_dt'}, axis=1)\n",
    "\n",
    "audio_new['start_dt'] = pd.to_datetime(audio_new['start_dt']).dt.tz_localize('utc')\n",
    "audio_new['end_dt'] = pd.to_datetime(audio_new['end_dt']).dt.tz_localize('utc')"
   ]
  },
  {
   "cell_type": "code",
   "execution_count": null,
   "metadata": {
    "execution": {
     "iopub.execute_input": "2023-07-19T00:36:12.602890Z",
     "iopub.status.busy": "2023-07-19T00:36:12.602657Z",
     "iopub.status.idle": "2023-07-19T00:36:30.019878Z",
     "shell.execute_reply": "2023-07-19T00:36:30.018808Z"
    },
    "tags": []
   },
   "outputs": [],
   "source": [
    "audio = pd.concat([audio_old, audio_new], axis=0)\n",
    "del audio_old, audio_new"
   ]
  },
  {
   "cell_type": "code",
   "execution_count": null,
   "metadata": {
    "execution": {
     "iopub.execute_input": "2023-07-19T00:36:30.024016Z",
     "iopub.status.busy": "2023-07-19T00:36:30.023667Z",
     "iopub.status.idle": "2023-07-19T00:36:38.020092Z",
     "shell.execute_reply": "2023-07-19T00:36:38.019256Z"
    },
    "tags": []
   },
   "outputs": [],
   "source": [
    "radio = full_sample.loc[full_sample['kind'] == 'radio', :].copy()\n",
    "radio['id'] = radio['id'].str[1:].astype(int)\n",
    "radio = radio.rename({'id': 'snippet_id'}, axis=1)\n",
    "\n",
    "radio = radio.merge(whisper_transcripts.rename({'content': 'whisper_content'}, axis=1),\n",
    "                    on='snippet_id', how='left')"
   ]
  },
  {
   "cell_type": "markdown",
   "metadata": {},
   "source": [
    "# Inspect new transcripts"
   ]
  },
  {
   "cell_type": "markdown",
   "metadata": {},
   "source": [
    "## Stats"
   ]
  },
  {
   "cell_type": "code",
   "execution_count": null,
   "metadata": {
    "execution": {
     "iopub.execute_input": "2023-07-19T00:36:38.025353Z",
     "iopub.status.busy": "2023-07-19T00:36:38.025104Z",
     "iopub.status.idle": "2023-07-19T00:36:39.788544Z",
     "shell.execute_reply": "2023-07-19T00:36:39.787699Z"
    },
    "tags": []
   },
   "outputs": [],
   "source": [
    "full_sample['kind'].value_counts()"
   ]
  },
  {
   "cell_type": "code",
   "execution_count": null,
   "metadata": {
    "execution": {
     "iopub.execute_input": "2023-07-19T00:36:39.794282Z",
     "iopub.status.busy": "2023-07-19T00:36:39.794056Z",
     "iopub.status.idle": "2023-07-19T00:36:52.329124Z",
     "shell.execute_reply": "2023-07-19T00:36:52.327945Z"
    },
    "tags": []
   },
   "outputs": [],
   "source": [
    "full_sample['id'].str[0].value_counts()"
   ]
  },
  {
   "cell_type": "code",
   "execution_count": null,
   "metadata": {
    "execution": {
     "iopub.execute_input": "2023-07-19T00:36:52.332834Z",
     "iopub.status.busy": "2023-07-19T00:36:52.332468Z",
     "iopub.status.idle": "2023-07-19T00:36:52.996547Z",
     "shell.execute_reply": "2023-07-19T00:36:52.995785Z"
    },
    "tags": []
   },
   "outputs": [],
   "source": [
    "radio['whisper_content'].isna().value_counts()"
   ]
  },
  {
   "cell_type": "markdown",
   "metadata": {},
   "source": [
    "## Where did Whisper recognize no speech?"
   ]
  },
  {
   "cell_type": "code",
   "execution_count": null,
   "metadata": {
    "execution": {
     "iopub.execute_input": "2023-07-19T00:36:53.001090Z",
     "iopub.status.busy": "2023-07-19T00:36:53.000676Z",
     "iopub.status.idle": "2023-07-19T00:36:55.224801Z",
     "shell.execute_reply": "2023-07-19T00:36:55.224137Z"
    },
    "tags": []
   },
   "outputs": [],
   "source": [
    "radio.loc[radio['whisper_content'].isna(), :].sample(10)"
   ]
  },
  {
   "cell_type": "markdown",
   "metadata": {},
   "source": [
    "## Compare recognition outputs"
   ]
  },
  {
   "cell_type": "code",
   "execution_count": null,
   "metadata": {
    "execution": {
     "iopub.execute_input": "2023-07-19T00:36:55.230120Z",
     "iopub.status.busy": "2023-07-19T00:36:55.229866Z",
     "iopub.status.idle": "2023-07-19T00:36:55.612386Z",
     "shell.execute_reply": "2023-07-19T00:36:55.611716Z"
    },
    "tags": []
   },
   "outputs": [],
   "source": [
    "with pd.option_context('display.max_colwidth', None):\n",
    "    display(radio[['snippet_id', 'content', 'whisper_content']].sample(10))"
   ]
  },
  {
   "cell_type": "markdown",
   "metadata": {},
   "source": [
    "## Listen to some audio"
   ]
  },
  {
   "cell_type": "code",
   "execution_count": null,
   "metadata": {
    "execution": {
     "iopub.execute_input": "2023-07-19T00:36:55.618269Z",
     "iopub.status.busy": "2023-07-19T00:36:55.618038Z",
     "iopub.status.idle": "2023-07-19T00:36:55.622276Z",
     "shell.execute_reply": "2023-07-19T00:36:55.621401Z"
    },
    "tags": []
   },
   "outputs": [],
   "source": [
    "# import transcribe as tr\n",
    "\n",
    "# def play_snippet(snippet_id):\n",
    "#     props = audio.loc[\n",
    "#         audio['snippet_id'] == snippet_id,\n",
    "#         ['audio_key', 'audio_file_offset', 'duration']\n",
    "#     ]\n",
    "#     assert props.shape[0] == 1\n",
    "#     props = props.iloc[0].to_dict()\n",
    "#     print(props)\n",
    "    \n",
    "#     return tr.play_s3_audio(\n",
    "#         bucket='cortico-data',\n",
    "#         key=props['audio_key'],\n",
    "#         start_time=props['audio_file_offset'],\n",
    "#         duration=props['duration'],\n",
    "#         aws_profile='cortico',\n",
    "#     )"
   ]
  },
  {
   "cell_type": "code",
   "execution_count": null,
   "metadata": {
    "execution": {
     "iopub.execute_input": "2023-07-19T00:36:55.626834Z",
     "iopub.status.busy": "2023-07-19T00:36:55.626549Z",
     "iopub.status.idle": "2023-07-19T00:36:55.645200Z",
     "shell.execute_reply": "2023-07-19T00:36:55.644473Z"
    },
    "tags": []
   },
   "outputs": [],
   "source": [
    "# play_snippet(92087140)"
   ]
  },
  {
   "cell_type": "markdown",
   "metadata": {},
   "source": [
    "# More formatting"
   ]
  },
  {
   "cell_type": "code",
   "execution_count": null,
   "metadata": {
    "execution": {
     "iopub.execute_input": "2023-07-19T00:36:55.648511Z",
     "iopub.status.busy": "2023-07-19T00:36:55.648181Z",
     "iopub.status.idle": "2023-07-19T00:36:55.663941Z",
     "shell.execute_reply": "2023-07-19T00:36:55.663400Z"
    },
    "tags": []
   },
   "outputs": [],
   "source": [
    "# !mv data/paper-round-3/event-annotated/auto-sample.csv.gz data/paper-round-3/event-annotated/auto-sample-old-version-before-new-data.csv.gz"
   ]
  },
  {
   "cell_type": "code",
   "execution_count": null,
   "metadata": {
    "execution": {
     "iopub.execute_input": "2023-07-19T00:36:55.667105Z",
     "iopub.status.busy": "2023-07-19T00:36:55.666848Z",
     "iopub.status.idle": "2023-07-19T00:37:46.686338Z",
     "shell.execute_reply": "2023-07-19T00:37:46.685109Z"
    },
    "tags": []
   },
   "outputs": [],
   "source": [
    "full_sample.loc[full_sample['kind'] == 'radio', 'snippet_id'] = full_sample['id'].str[1:].astype(int)\n",
    "full_sample = full_sample.merge(whisper_transcripts.rename({'content': 'whisper_content'}, axis=1),\n",
    "                    on='snippet_id', how='left')\n",
    "\n",
    "full_sample['has_whisper'] = (~full_sample['whisper_content'].isna()).astype(int)\n",
    "full_sample['content'] = full_sample['whisper_content'].combine_first(full_sample['content'])\n",
    "\n",
    "full_sample = full_sample.drop(['whisper_content', 'snippet_id'], axis=1)"
   ]
  },
  {
   "cell_type": "code",
   "execution_count": null,
   "metadata": {
    "execution": {
     "iopub.execute_input": "2023-07-19T00:37:46.690921Z",
     "iopub.status.busy": "2023-07-19T00:37:46.690527Z",
     "iopub.status.idle": "2023-07-19T00:37:46.695437Z",
     "shell.execute_reply": "2023-07-19T00:37:46.694542Z"
    },
    "tags": []
   },
   "outputs": [],
   "source": [
    "# full_sample = full_sample.loc[full_sample['year'] != 2022]"
   ]
  },
  {
   "cell_type": "markdown",
   "metadata": {},
   "source": [
    "# Shrink the decahose\n",
    "\n",
    "We oversampled it earlier but this may not really work; too many edges makes for running out of memory."
   ]
  },
  {
   "cell_type": "code",
   "execution_count": null,
   "metadata": {
    "execution": {
     "iopub.execute_input": "2023-07-19T00:37:46.698907Z",
     "iopub.status.busy": "2023-07-19T00:37:46.698618Z",
     "iopub.status.idle": "2023-07-19T00:37:46.725715Z",
     "shell.execute_reply": "2023-07-19T00:37:46.724930Z"
    },
    "tags": []
   },
   "outputs": [],
   "source": [
    "# sizes = full_sample \\\n",
    "#     .loc[full_sample['kind'] != 'decahose'] \\\n",
    "#     .groupby(['year', 'kind']) \\\n",
    "#     .size() \\\n",
    "#     .reset_index() \\\n",
    "#     .groupby('year') \\\n",
    "#     [0].max() \\\n",
    "#     .reset_index()\n",
    "\n",
    "# sizes['year'] = sizes['year'].astype(int)\n",
    "\n",
    "# sizes = sizes.set_index('year')[0]\n",
    "# sizes = dict(zip(sizes.index, sizes.tolist()))\n",
    "\n",
    "# sizes"
   ]
  },
  {
   "cell_type": "code",
   "execution_count": null,
   "metadata": {
    "execution": {
     "iopub.execute_input": "2023-07-19T00:37:46.730506Z",
     "iopub.status.busy": "2023-07-19T00:37:46.730263Z",
     "iopub.status.idle": "2023-07-19T00:37:46.746590Z",
     "shell.execute_reply": "2023-07-19T00:37:46.745849Z"
    },
    "tags": []
   },
   "outputs": [],
   "source": [
    "# full_sample = pd.concat([\n",
    "#     full_sample.loc[full_sample['kind'] != 'decahose'],\n",
    "    \n",
    "#     full_sample.loc[(full_sample['kind'] == 'decahose') & (full_sample['year'] == 2019)].sample(sizes[2019]),\n",
    "#     full_sample.loc[(full_sample['kind'] == 'decahose') & (full_sample['year'] == 2020)].sample(sizes[2020]),\n",
    "#     full_sample.loc[(full_sample['kind'] == 'decahose') & (full_sample['year'] == 2021)].sample(sizes[2021]),\n",
    "#     # full_sample.loc[(full_sample['kind'] == 'decahose') & (full_sample['year'] == 2022)].sample(sizes[2022]),\n",
    "# ], axis=0)"
   ]
  },
  {
   "cell_type": "code",
   "execution_count": null,
   "metadata": {
    "execution": {
     "iopub.execute_input": "2023-07-19T00:37:46.749534Z",
     "iopub.status.busy": "2023-07-19T00:37:46.749226Z",
     "iopub.status.idle": "2023-07-19T00:37:46.765108Z",
     "shell.execute_reply": "2023-07-19T00:37:46.764418Z"
    },
    "tags": []
   },
   "outputs": [],
   "source": [
    "# full_sample.groupby(['year', 'kind']).size()"
   ]
  },
  {
   "cell_type": "markdown",
   "metadata": {},
   "source": [
    "# Prep tweet content"
   ]
  },
  {
   "cell_type": "code",
   "execution_count": null,
   "metadata": {
    "execution": {
     "iopub.execute_input": "2023-07-19T00:37:46.820025Z",
     "iopub.status.busy": "2023-07-19T00:37:46.819690Z",
     "iopub.status.idle": "2023-07-19T00:53:28.988422Z",
     "shell.execute_reply": "2023-07-19T00:53:28.986130Z"
    },
    "tags": []
   },
   "outputs": [],
   "source": [
    "raw_twitter_texts = []\n",
    "with gzip.open('data/paper-round-3/twitter/thesis.jsonl.gz', 'rt') as f:\n",
    "    for line in tqdm(f):\n",
    "        line = json.loads(line)\n",
    "        \n",
    "        line_id = line['id']\n",
    "        line_content = line['full_text']\n",
    "        # if 'quoted_status' in line.keys():\n",
    "        #     line_content += ' ' + line['quoted_status']['full_text']\n",
    "        \n",
    "        raw_twitter_texts += [{\n",
    "            'id': line_id,\n",
    "            'raw_twitter_content': line_content,\n",
    "        }]\n",
    "\n",
    "raw_twitter_texts = pd.DataFrame(raw_twitter_texts)\n",
    "assert raw_twitter_texts['id'].nunique() == raw_twitter_texts.shape[0]"
   ]
  },
  {
   "cell_type": "code",
   "execution_count": null,
   "metadata": {
    "execution": {
     "iopub.execute_input": "2023-07-19T00:53:28.995666Z",
     "iopub.status.busy": "2023-07-19T00:53:28.994833Z",
     "iopub.status.idle": "2023-07-19T00:54:47.755704Z",
     "shell.execute_reply": "2023-07-19T00:54:47.753499Z"
    },
    "tags": []
   },
   "outputs": [],
   "source": [
    "full_sample['id_num'] = full_sample['id'].apply(lambda s: int(s[1:]))\n",
    "full_sample = full_sample.merge(raw_twitter_texts, left_on='id_num', right_on='id', how='left')\n",
    "full_sample.drop(['id_num', 'id_y'], axis=1, inplace=True)\n",
    "full_sample.rename({'id_x': 'id'}, axis=1, inplace=True)\n",
    "\n",
    "replace_mask = (full_sample['kind'] == 'elite') & full_sample['year'].isin([2019, 2020])\n",
    "full_sample.loc[replace_mask, 'content'] = full_sample.loc[replace_mask, 'raw_twitter_content'] \\\n",
    "    .str.replace('\\n', ' ') \\\n",
    "    .str.replace('\\r', ' ') \\\n",
    "    .str.replace('\\t', ' ')\n",
    "\n",
    "full_sample.drop('raw_twitter_content', axis=1, inplace=True)"
   ]
  },
  {
   "cell_type": "markdown",
   "metadata": {},
   "source": [
    "# Write out combined data"
   ]
  },
  {
   "cell_type": "code",
   "execution_count": null,
   "metadata": {
    "execution": {
     "iopub.execute_input": "2023-07-19T00:54:47.761056Z",
     "iopub.status.busy": "2023-07-19T00:54:47.760538Z",
     "iopub.status.idle": "2023-07-19T01:03:44.583292Z",
     "shell.execute_reply": "2023-07-19T01:03:44.581781Z"
    },
    "tags": []
   },
   "outputs": [],
   "source": [
    "with gzip.open('data/paper-round-3/event-annotated/auto-sample.csv.gz', 'wt') as f:\n",
    "    full_sample.to_csv(f, index=False)"
   ]
  },
  {
   "cell_type": "code",
   "execution_count": null,
   "metadata": {},
   "outputs": [],
   "source": []
  }
 ],
 "metadata": {
  "kernelspec": {
   "display_name": "DL",
   "language": "python",
   "name": "dl"
  },
  "language_info": {
   "codemirror_mode": {
    "name": "ipython",
    "version": 3
   },
   "file_extension": ".py",
   "mimetype": "text/x-python",
   "name": "python",
   "nbconvert_exporter": "python",
   "pygments_lexer": "ipython3",
   "version": "3.10.10"
  },
  "widgets": {
   "application/vnd.jupyter.widget-state+json": {
    "state": {},
    "version_major": 2,
    "version_minor": 0
   }
  }
 },
 "nbformat": 4,
 "nbformat_minor": 4
}
