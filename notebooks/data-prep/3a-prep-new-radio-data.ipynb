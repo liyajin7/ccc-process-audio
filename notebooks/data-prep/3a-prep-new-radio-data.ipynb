{
 "cells": [
  {
   "cell_type": "markdown",
   "metadata": {},
   "source": [
    "# Data prep\n",
    "\n",
    "We want to do the same data prep that was done for the 2019 and 2022 radio data here so that it's comparable. To do that without going through all the overly complicated postgres stuff from the first time, we're going to adapt the relevant piece of sql from back then into some python (and sql) this time. Relevant dim data files (stations, shows, etc) are pulled from the original database and in a couple cases extended to accommodate new stations."
   ]
  },
  {
   "cell_type": "code",
   "execution_count": null,
   "metadata": {},
   "outputs": [],
   "source": [
    "import os\n",
    "import json\n",
    "import gzip\n",
    "import random\n",
    "import logging\n",
    "\n",
    "import psycopg2\n",
    "import numpy as np\n",
    "import pandas as pd\n",
    "\n",
    "import matplotlib as mp\n",
    "%matplotlib inline\n",
    "import matplotlib.pyplot as plt\n",
    "\n",
    "from IPython.display import display\n",
    "from tqdm.notebook import tqdm\n",
    "\n",
    "from pandasql import sqldf\n",
    "pysqldf = lambda s: sqldf(s, globals())"
   ]
  },
  {
   "cell_type": "code",
   "execution_count": null,
   "metadata": {},
   "outputs": [],
   "source": [
    "logger = logging.getLogger(__name__)\n",
    "\n",
    "fmt = '%(asctime)s : %(levelname)s : %(message)s'\n",
    "logging.basicConfig(format=fmt, level=logging.INFO)"
   ]
  },
  {
   "cell_type": "code",
   "execution_count": null,
   "metadata": {},
   "outputs": [],
   "source": [
    "os.chdir(os.path.expanduser('~/github/masthesis/'))"
   ]
  },
  {
   "cell_type": "code",
   "execution_count": null,
   "metadata": {},
   "outputs": [],
   "source": [
    "seed = 2969591811\n",
    "\n",
    "random.seed(seed)\n",
    "np.random.seed(seed)"
   ]
  },
  {
   "cell_type": "markdown",
   "metadata": {
    "tags": []
   },
   "source": [
    "# Load data"
   ]
  },
  {
   "cell_type": "markdown",
   "metadata": {},
   "source": [
    "## Snippet ID info"
   ]
  },
  {
   "cell_type": "code",
   "execution_count": null,
   "metadata": {},
   "outputs": [],
   "source": [
    "with gzip.open('data/paper-round-3/radio/paper-round-3-snippets.csv.gz', 'rt') as f:\n",
    "    dat = pd.read_csv(f)\n",
    "\n",
    "snippet_id_start = dat['snippet_id'].max() + 1\n",
    "del dat\n",
    "\n",
    "snippet_id_start"
   ]
  },
  {
   "cell_type": "markdown",
   "metadata": {},
   "source": [
    "## Dim data"
   ]
  },
  {
   "cell_type": "code",
   "execution_count": null,
   "metadata": {},
   "outputs": [],
   "source": [
    "callsign_map = pd.read_csv('data/paper-round-3/metadata/radio/callsign_map.csv', sep=',')\n",
    "callsign_map = dict(callsign_map[['corpus_callsign', 'station_id']].to_records(index=False).tolist())\n",
    "\n",
    "show = pd.read_csv('data/paper-round-3/metadata/radio/show.csv', sep='\\t')\n",
    "show_map = dict(show[['name', 'show_id']].to_records(index=False).tolist())\n",
    "\n",
    "state = pd.read_csv('data/paper-round-3/metadata/radio/state.csv', sep='\\t')\n",
    "state['census_region_5way'] = state['census_region_5way'].str[0]\n",
    "state_map = dict(state[['postal_code', 'state_id']].to_records(index=False).tolist())\n",
    "\n",
    "station = pd.read_csv('data/paper-round-3/metadata/radio/station.csv', sep='\\t')\n",
    "station['is_public'] = (station['format'] == 'Public Radio')\n",
    "station['am_band'] = (station['band'] == 'AM')"
   ]
  },
  {
   "cell_type": "markdown",
   "metadata": {},
   "source": [
    "## Snippet data"
   ]
  },
  {
   "cell_type": "code",
   "execution_count": null,
   "metadata": {},
   "outputs": [],
   "source": [
    "lines = []\n",
    "\n",
    "with gzip.open('data/raw/radio/2021.json.gz', 'rt') as f:\n",
    "    for line in tqdm(f, total=32164520):\n",
    "        lines += [json.loads(line)]\n",
    "\n",
    "with gzip.open('data/raw/radio/2022.json.gz', 'rt') as f:\n",
    "    for line in tqdm(f, total=3970990):\n",
    "        lines += [json.loads(line)]\n",
    "        \n",
    "lines = pd.DataFrame(lines)"
   ]
  },
  {
   "cell_type": "markdown",
   "metadata": {},
   "source": [
    "## Munge snippet data"
   ]
  },
  {
   "cell_type": "code",
   "execution_count": null,
   "metadata": {},
   "outputs": [],
   "source": [
    "## Date/time variables\n",
    "lines['start_dt'] = lines['segment_start_global'].apply(lambda s: pd.Timestamp(s, unit='s'))\n",
    "lines['end_dt'] = lines['segment_end_global'].apply(lambda s: pd.Timestamp(s, unit='s'))\n",
    "lines['date'] = lines['start_dt'].dt.date.astype(str)\n",
    "lines['year'] = lines['start_dt'].dt.year"
   ]
  },
  {
   "cell_type": "code",
   "execution_count": null,
   "metadata": {},
   "outputs": [],
   "source": [
    "## Assign state IDs\n",
    "lines['state_id'] = lines['state'].map(state_map)"
   ]
  },
  {
   "cell_type": "code",
   "execution_count": null,
   "metadata": {},
   "outputs": [],
   "source": [
    "## Assign station IDs\n",
    "lines['station_id'] = lines['callsign'].map(callsign_map)"
   ]
  },
  {
   "cell_type": "code",
   "execution_count": null,
   "metadata": {},
   "outputs": [],
   "source": [
    "## Assign show IDs\n",
    "lines['show_name'] = lines['show_name'].str.strip()\n",
    "lines['show_id'] = lines['show_name'].map(show_map)"
   ]
  },
  {
   "cell_type": "code",
   "execution_count": null,
   "metadata": {},
   "outputs": [],
   "source": [
    "## Drop stations flagged for exclusion\n",
    "bad_stations = station.loc[station['exclude'] == 't', 'station_id'].tolist()\n",
    "bad_stations = lines.loc[lines['station_id'].isin(bad_stations)].index\n",
    "lines.drop(bad_stations, axis=0, inplace=True)"
   ]
  },
  {
   "cell_type": "code",
   "execution_count": null,
   "metadata": {},
   "outputs": [],
   "source": [
    "## To match 2019/2020 data, only snippets with a known show\n",
    "no_show_id = lines['show_id'].isna()\n",
    "no_show_id = lines.loc[no_show_id].index\n",
    "lines.drop(no_show_id, axis=0, inplace=True)\n",
    "lines['show_id'] = lines['show_id'].astype(int)"
   ]
  },
  {
   "cell_type": "code",
   "execution_count": null,
   "metadata": {},
   "outputs": [],
   "source": [
    "## Drop shows flagged for exclusion\n",
    "bad_shows = show.loc[show['exclude'] == 't', 'show_id']\n",
    "bad_shows = lines['show_id'].isin(bad_shows)\n",
    "bad_shows = lines.loc[bad_shows].index\n",
    "lines.drop(bad_shows, axis=0, inplace=True)"
   ]
  },
  {
   "cell_type": "code",
   "execution_count": null,
   "metadata": {},
   "outputs": [],
   "source": [
    "## No snippets without transcribed content\n",
    "bad_content = (lines['content'].isna() | (lines['content'] == ''))\n",
    "bad_content = lines.loc[bad_content].index\n",
    "lines.drop(bad_content, axis=0, inplace=True)"
   ]
  },
  {
   "cell_type": "code",
   "execution_count": null,
   "metadata": {},
   "outputs": [],
   "source": [
    "## Assign other station-level variables\n",
    "lines = lines.merge(station[['station_id', 'is_public', 'am_band']], how='inner', on='station_id')\n",
    "lines = lines.merge(state[['state_id', 'census_region_5way']], how='inner', on='state_id')\n",
    "lines.rename({'census_region_5way': 'station_census_region'}, axis=1, inplace=True)\n",
    "\n",
    "lines['duration'] = lines['segment_end_global'] - lines['segment_start_global']"
   ]
  },
  {
   "cell_type": "code",
   "execution_count": null,
   "metadata": {},
   "outputs": [],
   "source": [
    "## Assign snippet IDs\n",
    "lines['snippet_id'] = snippet_id_start + np.arange(lines.shape[0])"
   ]
  },
  {
   "cell_type": "code",
   "execution_count": null,
   "metadata": {},
   "outputs": [],
   "source": [
    "## Checks\n",
    "\n",
    "assert lines['state_id'].notna().all()\n",
    "assert lines['state_id'].isin(state['state_id']).all()\n",
    "\n",
    "assert lines['show_id'].notna().all()\n",
    "assert lines['show_id'].isin(show['show_id']).all()\n",
    "\n",
    "assert lines['station_id'].notna().all()\n",
    "assert lines['station_id'].isin(station['station_id']).all()"
   ]
  },
  {
   "cell_type": "code",
   "execution_count": null,
   "metadata": {},
   "outputs": [],
   "source": [
    "lines.shape"
   ]
  },
  {
   "cell_type": "code",
   "execution_count": null,
   "metadata": {},
   "outputs": [],
   "source": [
    "lines.head()"
   ]
  },
  {
   "cell_type": "markdown",
   "metadata": {},
   "source": [
    "# Process"
   ]
  },
  {
   "cell_type": "code",
   "execution_count": null,
   "metadata": {},
   "outputs": [],
   "source": [
    "radio_episode = pd.concat([\n",
    "    lines.groupby(['date', 'show_id', 'station_id']).size().rename('cnt'),\n",
    "    lines.groupby(['date', 'show_id', 'station_id'])['duration'].sum().rename('duration'),\n",
    "    lines.groupby(['date', 'show_id', 'station_id'])['show_confidence'].mean().rename('show_confidence'),\n",
    "    lines.groupby(['date', 'show_id', 'station_id'])['mean_word_confidence'].mean().rename('word_confidence'),\n",
    "], axis=1).reset_index()\n",
    "\n",
    "assert radio_episode['date'].notna().all()\n",
    "assert radio_episode['show_id'].notna().all()\n",
    "assert radio_episode['station_id'].notna().all()"
   ]
  },
  {
   "cell_type": "code",
   "execution_count": null,
   "metadata": {},
   "outputs": [],
   "source": [
    "radio_best_episode_confidence_only = pysqldf('''\n",
    "select\n",
    "    x.date,\n",
    "    x.show_id,\n",
    "    x.station_id\n",
    "from\n",
    "(\n",
    "    select\n",
    "        te.date,\n",
    "        te.show_id,\n",
    "        te.station_id,\n",
    "\n",
    "        row_number() over (\n",
    "            partition by te.date, te.show_id\n",
    "            order by\n",
    "                te.show_confidence desc,\n",
    "                te.cnt desc,\n",
    "                te.word_confidence desc\n",
    "        ) as quality\n",
    "    from radio_episode te\n",
    "    where\n",
    "        te.word_confidence >= 0.85 and\n",
    "        te.show_confidence >= 0.7\n",
    ") x\n",
    "where\n",
    "    x.quality = 1;\n",
    "''')\n",
    "\n",
    "assert radio_best_episode_confidence_only['date'].notna().all()\n",
    "assert radio_best_episode_confidence_only['show_id'].notna().all()\n",
    "assert radio_best_episode_confidence_only['station_id'].notna().all()"
   ]
  },
  {
   "cell_type": "code",
   "execution_count": null,
   "metadata": {},
   "outputs": [],
   "source": [
    "%%time\n",
    "\n",
    "out = lines.merge(\n",
    "    radio_best_episode_confidence_only,\n",
    "    how='inner',\n",
    "    on=['date', 'show_id', 'station_id']\n",
    ")\n",
    "\n",
    "out.rename({\n",
    "    'start_dt': 'timestamp',\n",
    "    'segment_idx': 'audio_file_index',\n",
    "    'segment_start_relative': 'audio_file_offset',\n",
    "}, axis=1, inplace=True)\n",
    "\n",
    "out = out[['snippet_id', 'timestamp', 'end_dt', 'date', 'year', 'show_id', 'station_id',\n",
    "           'audio_key', 'audio_file_offset', 'audio_file_index', 'duration',\n",
    "           'station_census_region', 'is_public', 'am_band', 'content']]\n",
    "\n",
    "assert out['date'].notna().all()\n",
    "assert out['show_id'].notna().all()\n",
    "assert out['station_id'].notna().all()"
   ]
  },
  {
   "cell_type": "code",
   "execution_count": null,
   "metadata": {},
   "outputs": [],
   "source": [
    "out.shape"
   ]
  },
  {
   "cell_type": "code",
   "execution_count": null,
   "metadata": {},
   "outputs": [],
   "source": [
    "out.groupby('year').size()"
   ]
  },
  {
   "cell_type": "code",
   "execution_count": null,
   "metadata": {},
   "outputs": [],
   "source": [
    "out.head(10)"
   ]
  },
  {
   "cell_type": "markdown",
   "metadata": {},
   "source": [
    "# Save"
   ]
  },
  {
   "cell_type": "code",
   "execution_count": null,
   "metadata": {},
   "outputs": [],
   "source": [
    "with gzip.open('data/paper-round-3/radio/new-data-processed.csv.gz', 'wt') as f:\n",
    "    out.to_csv(f, index=False)"
   ]
  },
  {
   "cell_type": "code",
   "execution_count": null,
   "metadata": {},
   "outputs": [],
   "source": []
  }
 ],
 "metadata": {
  "kernelspec": {
   "display_name": "DL",
   "language": "python",
   "name": "dl"
  },
  "language_info": {
   "codemirror_mode": {
    "name": "ipython",
    "version": 3
   },
   "file_extension": ".py",
   "mimetype": "text/x-python",
   "name": "python",
   "nbconvert_exporter": "python",
   "pygments_lexer": "ipython3",
   "version": "3.10.10"
  },
  "widgets": {
   "application/vnd.jupyter.widget-state+json": {
    "state": {
     "02c2d6a3e4c54336bf1b6a6986efa838": {
      "model_module": "@jupyter-widgets/base",
      "model_module_version": "2.0.0",
      "model_name": "LayoutModel",
      "state": {}
     },
     "0be1a90df6bc41c5861d91c9dc235fda": {
      "model_module": "@jupyter-widgets/controls",
      "model_module_version": "2.0.0",
      "model_name": "HTMLModel",
      "state": {
       "layout": "IPY_MODEL_14f1ac280a2d475db4fd9cc169ab1eee",
       "style": "IPY_MODEL_9e5b4b17c8ca4f94b8e561aed9901d6c",
       "value": " 3970990/3970990 [00:44&lt;00:00, 90926.52it/s]"
      }
     },
     "140ae330870d4dbfabc03d138a955137": {
      "model_module": "@jupyter-widgets/controls",
      "model_module_version": "2.0.0",
      "model_name": "HTMLStyleModel",
      "state": {
       "description_width": "",
       "font_size": null,
       "text_color": null
      }
     },
     "14f1ac280a2d475db4fd9cc169ab1eee": {
      "model_module": "@jupyter-widgets/base",
      "model_module_version": "2.0.0",
      "model_name": "LayoutModel",
      "state": {}
     },
     "1d562be2d29741468a4a4a9d28ec946d": {
      "model_module": "@jupyter-widgets/controls",
      "model_module_version": "2.0.0",
      "model_name": "HBoxModel",
      "state": {
       "children": [
        "IPY_MODEL_c81407eba4ee4575900be197fa1523d5",
        "IPY_MODEL_20e3af77838643c99d9bf0b2849455cb",
        "IPY_MODEL_0be1a90df6bc41c5861d91c9dc235fda"
       ],
       "layout": "IPY_MODEL_2cdc6c574bda4a41bb4a7f9a76acbf00"
      }
     },
     "20e3af77838643c99d9bf0b2849455cb": {
      "model_module": "@jupyter-widgets/controls",
      "model_module_version": "2.0.0",
      "model_name": "FloatProgressModel",
      "state": {
       "bar_style": "success",
       "layout": "IPY_MODEL_8e64333877874a99b0fd343869dd2e81",
       "max": 3970990,
       "style": "IPY_MODEL_a1d2c572f706454b80e239facc9f22c0",
       "value": 3970990
      }
     },
     "2cdc6c574bda4a41bb4a7f9a76acbf00": {
      "model_module": "@jupyter-widgets/base",
      "model_module_version": "2.0.0",
      "model_name": "LayoutModel",
      "state": {}
     },
     "45e810a237ab49f3b13b1f6b03abe0e1": {
      "model_module": "@jupyter-widgets/controls",
      "model_module_version": "2.0.0",
      "model_name": "HTMLModel",
      "state": {
       "layout": "IPY_MODEL_02c2d6a3e4c54336bf1b6a6986efa838",
       "style": "IPY_MODEL_98942a9d1fa045fd8f16be9eb4f2d28a",
       "value": " 32164520/32164520 [07:02&lt;00:00, 84129.24it/s]"
      }
     },
     "7ec449fcd88f403aa953dd273f5af3f4": {
      "model_module": "@jupyter-widgets/base",
      "model_module_version": "2.0.0",
      "model_name": "LayoutModel",
      "state": {}
     },
     "8e64333877874a99b0fd343869dd2e81": {
      "model_module": "@jupyter-widgets/base",
      "model_module_version": "2.0.0",
      "model_name": "LayoutModel",
      "state": {}
     },
     "98942a9d1fa045fd8f16be9eb4f2d28a": {
      "model_module": "@jupyter-widgets/controls",
      "model_module_version": "2.0.0",
      "model_name": "HTMLStyleModel",
      "state": {
       "description_width": "",
       "font_size": null,
       "text_color": null
      }
     },
     "9e5b4b17c8ca4f94b8e561aed9901d6c": {
      "model_module": "@jupyter-widgets/controls",
      "model_module_version": "2.0.0",
      "model_name": "HTMLStyleModel",
      "state": {
       "description_width": "",
       "font_size": null,
       "text_color": null
      }
     },
     "a1d2c572f706454b80e239facc9f22c0": {
      "model_module": "@jupyter-widgets/controls",
      "model_module_version": "2.0.0",
      "model_name": "ProgressStyleModel",
      "state": {
       "description_width": ""
      }
     },
     "a49067b20b9843c7b2bc0302f1b2e2a6": {
      "model_module": "@jupyter-widgets/base",
      "model_module_version": "2.0.0",
      "model_name": "LayoutModel",
      "state": {}
     },
     "acfab18c4c034539b136f28cf5d909ce": {
      "model_module": "@jupyter-widgets/controls",
      "model_module_version": "2.0.0",
      "model_name": "ProgressStyleModel",
      "state": {
       "description_width": ""
      }
     },
     "b362f35a355244b1b01ec6fbbfedf3db": {
      "model_module": "@jupyter-widgets/controls",
      "model_module_version": "2.0.0",
      "model_name": "HTMLStyleModel",
      "state": {
       "description_width": "",
       "font_size": null,
       "text_color": null
      }
     },
     "c81407eba4ee4575900be197fa1523d5": {
      "model_module": "@jupyter-widgets/controls",
      "model_module_version": "2.0.0",
      "model_name": "HTMLModel",
      "state": {
       "layout": "IPY_MODEL_a49067b20b9843c7b2bc0302f1b2e2a6",
       "style": "IPY_MODEL_140ae330870d4dbfabc03d138a955137",
       "value": "100%"
      }
     },
     "d068793bdba34dcc9e108db05cfbc4c4": {
      "model_module": "@jupyter-widgets/controls",
      "model_module_version": "2.0.0",
      "model_name": "HBoxModel",
      "state": {
       "children": [
        "IPY_MODEL_d4da5c6b53f74ba2885fc07a88e94695",
        "IPY_MODEL_de898c9b5f4844c6a6dbf08dace7d6d0",
        "IPY_MODEL_45e810a237ab49f3b13b1f6b03abe0e1"
       ],
       "layout": "IPY_MODEL_7ec449fcd88f403aa953dd273f5af3f4"
      }
     },
     "d4da5c6b53f74ba2885fc07a88e94695": {
      "model_module": "@jupyter-widgets/controls",
      "model_module_version": "2.0.0",
      "model_name": "HTMLModel",
      "state": {
       "layout": "IPY_MODEL_dcd501c939f446e09b945892c9a8fd25",
       "style": "IPY_MODEL_b362f35a355244b1b01ec6fbbfedf3db",
       "value": "100%"
      }
     },
     "d76225ab14444abb9bfb30ff681fa7b4": {
      "model_module": "@jupyter-widgets/base",
      "model_module_version": "2.0.0",
      "model_name": "LayoutModel",
      "state": {}
     },
     "dcd501c939f446e09b945892c9a8fd25": {
      "model_module": "@jupyter-widgets/base",
      "model_module_version": "2.0.0",
      "model_name": "LayoutModel",
      "state": {}
     },
     "de898c9b5f4844c6a6dbf08dace7d6d0": {
      "model_module": "@jupyter-widgets/controls",
      "model_module_version": "2.0.0",
      "model_name": "FloatProgressModel",
      "state": {
       "bar_style": "success",
       "layout": "IPY_MODEL_d76225ab14444abb9bfb30ff681fa7b4",
       "max": 32164520,
       "style": "IPY_MODEL_acfab18c4c034539b136f28cf5d909ce",
       "value": 32164520
      }
     }
    },
    "version_major": 2,
    "version_minor": 0
   }
  }
 },
 "nbformat": 4,
 "nbformat_minor": 4
}
