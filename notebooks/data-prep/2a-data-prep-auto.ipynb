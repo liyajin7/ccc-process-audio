{
 "cells": [
  {
   "cell_type": "code",
   "execution_count": null,
   "metadata": {},
   "outputs": [],
   "source": [
    "import os\n",
    "import gzip\n",
    "import random\n",
    "import logging\n",
    "\n",
    "import psycopg2\n",
    "import numpy as np\n",
    "import pandas as pd\n",
    "\n",
    "import matplotlib as mp\n",
    "%matplotlib inline\n",
    "import matplotlib.pyplot as plt\n",
    "\n",
    "from IPython.display import display\n",
    "from tqdm.notebook import tqdm"
   ]
  },
  {
   "cell_type": "code",
   "execution_count": null,
   "metadata": {},
   "outputs": [],
   "source": [
    "logger = logging.getLogger(__name__)\n",
    "\n",
    "fmt = '%(asctime)s : %(levelname)s : %(message)s'\n",
    "logging.basicConfig(format=fmt, level=logging.INFO)\n",
    "\n",
    "logging.getLogger(\"gensim\").setLevel(logging.WARNING)"
   ]
  },
  {
   "cell_type": "code",
   "execution_count": null,
   "metadata": {},
   "outputs": [],
   "source": [
    "os.chdir(os.path.expanduser('~/github/masthesis/'))"
   ]
  },
  {
   "cell_type": "code",
   "execution_count": null,
   "metadata": {},
   "outputs": [],
   "source": [
    "seed = 2969591811\n",
    "\n",
    "random.seed(seed)\n",
    "np.random.seed(seed)"
   ]
  },
  {
   "cell_type": "markdown",
   "metadata": {},
   "source": [
    "# Twitter"
   ]
  },
  {
   "cell_type": "code",
   "execution_count": null,
   "metadata": {},
   "outputs": [],
   "source": [
    "elite_data = pd.read_csv('data/twitter/tweets-processed.csv', index_col='id',\n",
    "                         parse_dates=['timestamp'])\n",
    "elite_data = elite_data.loc[\n",
    "    ((elite_data['timestamp'] >= '2019-09-01') & (elite_data['timestamp'] <= '2019-11-01')) |\n",
    "    ((elite_data['timestamp'] >= '2020-03-01') & (elite_data['timestamp'] <= '2020-05-01')),\n",
    ":]\n",
    "\n",
    "elite_data = elite_data.loc[~elite_data['content'].isna(), :]"
   ]
  },
  {
   "cell_type": "markdown",
   "metadata": {},
   "source": [
    "# Decahose"
   ]
  },
  {
   "cell_type": "code",
   "execution_count": null,
   "metadata": {},
   "outputs": [],
   "source": [
    "decahose_data = pd.read_csv(\n",
    "    'data/samples/decahose/decahose-10pct-random-sort-20230410.csv',\n",
    "    index_col='id',\n",
    "    parse_dates=['postedtime'],\n",
    "    nrows=18_000_000,\n",
    ").rename({'postedtime': 'timestamp', 'body': 'content'}, axis=1)\n",
    "\n",
    "decahose_data = decahose_data.loc[~decahose_data.index.duplicated(), :]\n",
    "\n",
    "decahose_data['timestamp'] = decahose_data['timestamp'].dt.tz_localize('utc')"
   ]
  },
  {
   "cell_type": "markdown",
   "metadata": {},
   "source": [
    "# Radio"
   ]
  },
  {
   "cell_type": "code",
   "execution_count": null,
   "metadata": {},
   "outputs": [],
   "source": [
    "with gzip.open('data/paper-round-3/radio/paper-round-3-snippets.csv.gz', 'rt') as f:\n",
    "    radio_data = pd.read_csv(f, index_col='snippet_id', parse_dates=['timestamp'])\n",
    "\n",
    "radio_data = radio_data.loc[~radio_data['content'].isna(), :]\n",
    "\n",
    "# exclude certain common bad lines up front -- we know they're not good,\n",
    "# why bother with them later\n",
    "bad_lines = [\n",
    "    '[noise]',\n",
    "    '[noise] [noise]',\n",
    "    '<unk>',\n",
    "    '[laughter]',\n",
    "    'thank you',\n",
    "    'mm',\n",
    "    'and',\n",
    "    'the',\n",
    "    'thanks',\n",
    "    'a',\n",
    "    '[noise] [noise] [noise]',\n",
    "    'oh',\n",
    "    'um',\n",
    "    'i',\n",
    "    'na',\n",
    "]\n",
    "radio_data = radio_data.loc[~radio_data['content'].isin(bad_lines), :]"
   ]
  },
  {
   "cell_type": "markdown",
   "metadata": {},
   "source": [
    "# Combined rebalanced dataset"
   ]
  },
  {
   "cell_type": "code",
   "execution_count": null,
   "metadata": {},
   "outputs": [],
   "source": [
    "def make_reltime(s):\n",
    "    epoch = pd.Timestamp('1970-01-01T00:00:00+00:00')\n",
    "    \n",
    "    s = (s - epoch).dt.total_seconds()\n",
    "    s -= s.min()\n",
    "    \n",
    "    return s"
   ]
  },
  {
   "cell_type": "markdown",
   "metadata": {},
   "source": [
    "## 2019"
   ]
  },
  {
   "cell_type": "code",
   "execution_count": null,
   "metadata": {},
   "outputs": [],
   "source": [
    "ed2019 = elite_data \\\n",
    "    .loc[elite_data['timestamp'] < '2020-01-01', ['content', 'timestamp']] \\\n",
    "    .reset_index() \\\n",
    "    .assign(kind='elite', year=2019)"
   ]
  },
  {
   "cell_type": "code",
   "execution_count": null,
   "metadata": {},
   "outputs": [],
   "source": [
    "rd2019 = radio_data \\\n",
    "    .loc[radio_data['timestamp'] < '2020-01-01', ['content', 'timestamp']] \\\n",
    "    .reset_index() \\\n",
    "    .assign(kind='radio', year=2019) \\\n",
    "    .rename({'snippet_id': 'id'}, axis=1)"
   ]
  },
  {
   "cell_type": "code",
   "execution_count": null,
   "metadata": {},
   "outputs": [],
   "source": [
    "dd2019 = decahose_data \\\n",
    "    .loc[decahose_data['timestamp'] < '2020-01-01', ['content', 'timestamp']] \\\n",
    "    .reset_index() \\\n",
    "    .assign(kind='decahose', year=2019)"
   ]
  },
  {
   "cell_type": "code",
   "execution_count": null,
   "metadata": {},
   "outputs": [],
   "source": [
    "(ed2019.shape[0], dd2019.shape[0], rd2019.shape[0])"
   ]
  },
  {
   "cell_type": "code",
   "execution_count": null,
   "metadata": {},
   "outputs": [],
   "source": [
    "size = min(ed2019.shape[0], dd2019.shape[0], rd2019.shape[0])\n",
    "\n",
    "ed2019 = ed2019.sample(n=size, replace=False, random_state=seed)\n",
    "rd2019 = rd2019.sample(n=size, replace=False, random_state=seed)\n",
    "\n",
    "# there's a lot of irrelevant cruft in here that isn't about news;\n",
    "# we filter it out after detecting stories and empirically about\n",
    "# 1/6 of the content is relevant\n",
    "dd2019 = dd2019.sample(n=6*size, replace=False, random_state=seed)"
   ]
  },
  {
   "cell_type": "code",
   "execution_count": null,
   "metadata": {},
   "outputs": [],
   "source": [
    "dat2019 = pd.concat([ed2019, dd2019, rd2019], axis=0)\n",
    "\n",
    "dat2019['id'] = dat2019['kind'].map({'elite': 'E', 'radio': 'R', 'decahose': 'D', }) + dat2019['id'].astype(str)\n",
    "assert dat2019['id'].nunique() == dat2019.shape[0]\n",
    "\n",
    "dat2019['reltime'] = make_reltime(dat2019['timestamp'])\n",
    "dat2019 = dat2019.sort_values('reltime')"
   ]
  },
  {
   "cell_type": "markdown",
   "metadata": {},
   "source": [
    "## 2020"
   ]
  },
  {
   "cell_type": "code",
   "execution_count": null,
   "metadata": {},
   "outputs": [],
   "source": [
    "ed2020 = elite_data \\\n",
    "    .loc[elite_data['timestamp'] >= '2020-01-01', ['content', 'timestamp']] \\\n",
    "    .reset_index() \\\n",
    "    .assign(kind='elite', year=2020)"
   ]
  },
  {
   "cell_type": "code",
   "execution_count": null,
   "metadata": {},
   "outputs": [],
   "source": [
    "dd2020 = decahose_data \\\n",
    "    .loc[decahose_data['timestamp'] >= '2020-01-01', ['content', 'timestamp']] \\\n",
    "    .reset_index() \\\n",
    "    .assign(kind='decahose', year=2020)"
   ]
  },
  {
   "cell_type": "code",
   "execution_count": null,
   "metadata": {},
   "outputs": [],
   "source": [
    "rd2020 = radio_data \\\n",
    "    .loc[radio_data['timestamp'] >= '2020-01-01', ['content', 'timestamp']] \\\n",
    "    .reset_index() \\\n",
    "    .assign(kind='radio', year=2020) \\\n",
    "    .rename({'snippet_id': 'id'}, axis=1)"
   ]
  },
  {
   "cell_type": "code",
   "execution_count": null,
   "metadata": {},
   "outputs": [],
   "source": [
    "(ed2020.shape[0], dd2020.shape[0], rd2020.shape[0])"
   ]
  },
  {
   "cell_type": "code",
   "execution_count": null,
   "metadata": {},
   "outputs": [],
   "source": [
    "size = min(ed2020.shape[0], dd2020.shape[0], rd2020.shape[0])\n",
    "\n",
    "ed2020 = ed2020.sample(n=size, replace=False, random_state=seed)\n",
    "rd2020 = rd2020.sample(n=size, replace=False, random_state=seed)\n",
    "\n",
    "# there's a lot of irrelevant cruft in here that isn't about news;\n",
    "# we filter it out after detecting stories and empirically about\n",
    "# 1/6 of the content is relevant\n",
    "dd2020 = dd2020.sample(n=6*size, replace=False, random_state=seed)"
   ]
  },
  {
   "cell_type": "code",
   "execution_count": null,
   "metadata": {},
   "outputs": [],
   "source": [
    "dat2020 = pd.concat([ed2020, dd2020, rd2020], axis=0)\n",
    "\n",
    "dat2020['id'] = dat2020['kind'].map({'elite': 'E', 'radio': 'R', 'decahose': 'D', }) + dat2020['id'].astype(str)\n",
    "assert dat2020['id'].nunique() == dat2020.shape[0]\n",
    "\n",
    "dat2020['reltime'] = make_reltime(dat2020['timestamp'])\n",
    "dat2020 = dat2020.sort_values('reltime')"
   ]
  },
  {
   "cell_type": "markdown",
   "metadata": {},
   "source": [
    "## Combine"
   ]
  },
  {
   "cell_type": "code",
   "execution_count": null,
   "metadata": {},
   "outputs": [],
   "source": [
    "dat = pd.concat([dat2019, dat2020], axis=0)\n",
    "\n",
    "assert dat['id'].nunique() == dat.shape[0]"
   ]
  },
  {
   "cell_type": "code",
   "execution_count": null,
   "metadata": {},
   "outputs": [],
   "source": [
    "dat = dat.loc[(~dat['content'].isna()) & (dat['content'] != ''), :]"
   ]
  },
  {
   "cell_type": "markdown",
   "metadata": {},
   "source": [
    "# Inspect"
   ]
  },
  {
   "cell_type": "code",
   "execution_count": null,
   "metadata": {},
   "outputs": [],
   "source": [
    "dat['kind'].value_counts()"
   ]
  },
  {
   "cell_type": "code",
   "execution_count": null,
   "metadata": {},
   "outputs": [],
   "source": [
    "dat['year'].value_counts()"
   ]
  },
  {
   "cell_type": "code",
   "execution_count": null,
   "metadata": {},
   "outputs": [],
   "source": [
    "dat.groupby(['year', 'kind']).size()"
   ]
  },
  {
   "cell_type": "code",
   "execution_count": null,
   "metadata": {},
   "outputs": [],
   "source": [
    "dat['reltime'].describe()"
   ]
  },
  {
   "cell_type": "code",
   "execution_count": null,
   "metadata": {},
   "outputs": [],
   "source": [
    "dat.groupby('year')['reltime'].describe()"
   ]
  },
  {
   "cell_type": "code",
   "execution_count": null,
   "metadata": {},
   "outputs": [],
   "source": [
    "dat.groupby(['year', 'kind'])['reltime'].describe()"
   ]
  },
  {
   "cell_type": "code",
   "execution_count": null,
   "metadata": {},
   "outputs": [],
   "source": [
    "with pd.option_context('max_colwidth', None):\n",
    "    display(dat.sample(10))"
   ]
  },
  {
   "cell_type": "markdown",
   "metadata": {},
   "source": [
    "# Write out"
   ]
  },
  {
   "cell_type": "code",
   "execution_count": null,
   "metadata": {},
   "outputs": [],
   "source": [
    "with gzip.open('data/paper-round-3/event-annotated/auto-sample-pre-whisper.csv.gz', 'wt') as f:\n",
    "    dat.to_csv(f, index=False)"
   ]
  },
  {
   "cell_type": "code",
   "execution_count": null,
   "metadata": {},
   "outputs": [],
   "source": []
  }
 ],
 "metadata": {
  "kernelspec": {
   "display_name": "DL",
   "language": "python",
   "name": "dl"
  },
  "language_info": {
   "codemirror_mode": {
    "name": "ipython",
    "version": 3
   },
   "file_extension": ".py",
   "mimetype": "text/x-python",
   "name": "python",
   "nbconvert_exporter": "python",
   "pygments_lexer": "ipython3",
   "version": "3.10.10"
  },
  "widgets": {
   "application/vnd.jupyter.widget-state+json": {
    "state": {},
    "version_major": 2,
    "version_minor": 0
   }
  }
 },
 "nbformat": 4,
 "nbformat_minor": 4
}
