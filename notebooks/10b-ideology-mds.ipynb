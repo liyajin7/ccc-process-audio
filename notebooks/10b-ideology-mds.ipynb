{
 "cells": [
  {
   "cell_type": "code",
   "execution_count": null,
   "metadata": {},
   "outputs": [],
   "source": [
    "import os\n",
    "import pickle\n",
    "import logging\n",
    "\n",
    "import psycopg2\n",
    "import numpy as np\n",
    "import pandas as pd\n",
    "import networkx as nx\n",
    "\n",
    "import matplotlib as mp\n",
    "%matplotlib inline\n",
    "import matplotlib.pyplot as plt\n",
    "\n",
    "import sklearn as sk\n",
    "import sklearn.metrics as mt\n",
    "import sklearn.preprocessing as pr\n",
    "import sklearn.manifold as md\n",
    "import sklearn.decomposition as dc\n",
    "\n",
    "from IPython.display import display\n",
    "from tqdm.notebook import tqdm\n",
    "\n",
    "import utils as ut"
   ]
  },
  {
   "cell_type": "code",
   "execution_count": null,
   "metadata": {},
   "outputs": [],
   "source": [
    "pd.set_option('display.float_format', lambda x: '%.3f' % x)\n",
    "pd.set_option('display.max_colwidth', None)"
   ]
  },
  {
   "cell_type": "code",
   "execution_count": null,
   "metadata": {},
   "outputs": [],
   "source": [
    "logger = logging.getLogger(__name__)\n",
    "\n",
    "fmt = '%(asctime)s : %(levelname)s : %(message)s'\n",
    "logging.basicConfig(format=fmt, level=logging.INFO)\n",
    "\n",
    "logging.getLogger(\"gensim\").setLevel(logging.WARNING)"
   ]
  },
  {
   "cell_type": "code",
   "execution_count": null,
   "metadata": {},
   "outputs": [],
   "source": [
    "os.chdir(os.path.expanduser('~/github/masthesis/'))\n",
    "os.makedirs('data/twitter/ideology-mds/', exist_ok=True)"
   ]
  },
  {
   "cell_type": "markdown",
   "metadata": {},
   "source": [
    "# Load data"
   ]
  },
  {
   "cell_type": "code",
   "execution_count": null,
   "metadata": {},
   "outputs": [],
   "source": [
    "user_show = pd.read_csv('data/samples/twitter/user-show.csv')\n",
    "\n",
    "display(user_show.shape)"
   ]
  },
  {
   "cell_type": "code",
   "execution_count": null,
   "metadata": {},
   "outputs": [],
   "source": [
    "user_data = pd.read_csv('data/samples/twitter/user-data.csv', index_col='user_id')\n",
    "display(user_data.shape)"
   ]
  },
  {
   "cell_type": "code",
   "execution_count": null,
   "metadata": {},
   "outputs": [],
   "source": [
    "show_names = user_show[['show_id', 'show_name']].drop_duplicates().sort_values(by='show_id').set_index('show_id')"
   ]
  },
  {
   "cell_type": "code",
   "execution_count": null,
   "metadata": {},
   "outputs": [],
   "source": [
    "follow_graph = pd.read_csv('data/samples/twitter/follow-graph-multiple-radio.csv')\n",
    "\n",
    "display(follow_graph.shape)"
   ]
  },
  {
   "cell_type": "code",
   "execution_count": null,
   "metadata": {},
   "outputs": [],
   "source": [
    "fg = nx.from_pandas_edgelist(follow_graph, source='source', target='target',\n",
    "                             edge_attr=None, create_using=nx.DiGraph())"
   ]
  },
  {
   "cell_type": "markdown",
   "metadata": {},
   "source": [
    "# Modeling"
   ]
  },
  {
   "cell_type": "code",
   "execution_count": null,
   "metadata": {},
   "outputs": [],
   "source": [
    "nodes = pd.Series(list(fg.nodes()))"
   ]
  },
  {
   "cell_type": "code",
   "execution_count": null,
   "metadata": {},
   "outputs": [],
   "source": [
    "mask = nodes.isin(user_show.user_id).to_numpy()\n",
    "\n",
    "adj = nx.adjacency_matrix(fg, nodelist=nodes.tolist()).T\n",
    "adj = adj[mask, :][:, ~mask].toarray()\n",
    "\n",
    "display(adj.shape)"
   ]
  },
  {
   "cell_type": "code",
   "execution_count": null,
   "metadata": {},
   "outputs": [],
   "source": [
    "sim = mt.pairwise.cosine_similarity(adj)\n",
    "\n",
    "display(sim.shape)"
   ]
  },
  {
   "cell_type": "code",
   "execution_count": null,
   "metadata": {},
   "outputs": [],
   "source": [
    "scaler = md.MDS(n_components=2, metric=True, n_jobs=-1, n_init=50, max_iter=1000)"
   ]
  },
  {
   "cell_type": "code",
   "execution_count": null,
   "metadata": {},
   "outputs": [],
   "source": [
    "rsim = scaler.fit_transform(sim)"
   ]
  },
  {
   "cell_type": "markdown",
   "metadata": {},
   "source": [
    "# Prepare datasets"
   ]
  },
  {
   "cell_type": "code",
   "execution_count": null,
   "metadata": {},
   "outputs": [],
   "source": [
    "scores = pd.DataFrame(rsim, columns=['dim0', 'dim1'])\n",
    "\n",
    "scores['user_id'] = nodes[mask].tolist()\n",
    "scores.set_index('user_id', inplace=True)\n",
    "\n",
    "scores['screen_name'] = user_data.loc[nodes[mask], 'screen_name']"
   ]
  },
  {
   "cell_type": "code",
   "execution_count": null,
   "metadata": {},
   "outputs": [],
   "source": [
    "show_scores = scores.merge(user_show, on='user_id')\\\n",
    "                    .drop('show_name', axis=1)\\\n",
    "                    .set_index('user_id')\\\n",
    "                    .groupby('show_id')\\\n",
    "                    .mean()\n",
    "show_scores['show_name'] = show_names['show_name']"
   ]
  },
  {
   "cell_type": "code",
   "execution_count": null,
   "metadata": {},
   "outputs": [],
   "source": [
    "show_scores_hosts = scores.merge(user_show, on='user_id')\n",
    "show_scores_hosts = show_scores_hosts.loc[show_scores_hosts.is_host | show_scores_hosts.is_show, :] \\\n",
    "                    .drop('show_name', axis=1)\\\n",
    "                    .set_index('user_id')\\\n",
    "                    .groupby('show_id')\\\n",
    "                    .mean()\n",
    "show_scores_hosts['show_name'] = show_names['show_name']"
   ]
  },
  {
   "cell_type": "markdown",
   "metadata": {},
   "source": [
    "# Analyze"
   ]
  },
  {
   "cell_type": "markdown",
   "metadata": {},
   "source": [
    "## Which dimension is ideology?"
   ]
  },
  {
   "cell_type": "markdown",
   "metadata": {},
   "source": [
    "## User-level"
   ]
  },
  {
   "cell_type": "code",
   "execution_count": null,
   "metadata": {},
   "outputs": [],
   "source": [
    "with pd.option_context('display.max_rows', None):\n",
    "    display(scores.set_index('screen_name').sort_values('dim0'))"
   ]
  },
  {
   "cell_type": "code",
   "execution_count": null,
   "metadata": {},
   "outputs": [],
   "source": [
    "binarized = (scores['dim0'] >= scores['dim0'].median())\n",
    "\n",
    "display(scores.loc[binarized, :].sort_values('dim0', ascending=False).head())\n",
    "display(scores.loc[~binarized, :].sort_values('dim0', ascending=True).head())"
   ]
  },
  {
   "cell_type": "code",
   "execution_count": null,
   "metadata": {},
   "outputs": [],
   "source": [
    "with pd.option_context('display.max_rows', None):\n",
    "    display(scores.set_index('screen_name').sort_values('dim1'))"
   ]
  },
  {
   "cell_type": "code",
   "execution_count": null,
   "metadata": {},
   "outputs": [],
   "source": [
    "binarized = (scores['dim1'] >= scores['dim1'].median())\n",
    "\n",
    "display(scores.loc[binarized, :].sort_values('dim1', ascending=False).head())\n",
    "display(scores.loc[~binarized, :].sort_values('dim1', ascending=True).head())"
   ]
  },
  {
   "cell_type": "markdown",
   "metadata": {},
   "source": [
    "## Show-level"
   ]
  },
  {
   "cell_type": "code",
   "execution_count": null,
   "metadata": {},
   "outputs": [],
   "source": [
    "with pd.option_context('display.max_rows', None):\n",
    "    display(show_scores.set_index('show_name').sort_values('dim0'))"
   ]
  },
  {
   "cell_type": "code",
   "execution_count": null,
   "metadata": {},
   "outputs": [],
   "source": [
    "binarized = (show_scores['dim0'] >= show_scores['dim0'].median())\n",
    "\n",
    "display(show_scores.loc[binarized, :].sort_values('dim0', ascending=False).head())\n",
    "display(show_scores.loc[~binarized, :].sort_values('dim0', ascending=True).head())"
   ]
  },
  {
   "cell_type": "code",
   "execution_count": null,
   "metadata": {},
   "outputs": [],
   "source": [
    "with pd.option_context('display.max_rows', None):\n",
    "    display(show_scores.set_index('show_name').sort_values('dim1'))"
   ]
  },
  {
   "cell_type": "code",
   "execution_count": null,
   "metadata": {},
   "outputs": [],
   "source": [
    "binarized = (show_scores['dim1'] >= show_scores['dim1'].median())\n",
    "\n",
    "display(show_scores.loc[binarized, :].sort_values('dim1', ascending=False).head())\n",
    "display(show_scores.loc[~binarized, :].sort_values('dim1', ascending=True).head())"
   ]
  },
  {
   "cell_type": "code",
   "execution_count": null,
   "metadata": {},
   "outputs": [],
   "source": [
    "fig, ax = plt.subplots(figsize=(30, 30))\n",
    "\n",
    "ax.scatter(scores['dim0'], scores['dim1'])\n",
    "\n",
    "for x, y, name in zip(scores['dim0'], scores['dim1'], scores['screen_name']):\n",
    "    plt.annotate(name, (x, y), textcoords=\"offset points\", xytext=(0, 10), ha='center')\n",
    "    \n",
    "_ = ax.set_title('Ideology by user, all accounts')"
   ]
  },
  {
   "cell_type": "code",
   "execution_count": null,
   "metadata": {},
   "outputs": [],
   "source": [
    "fig, ax = plt.subplots(figsize=(30, 30))\n",
    "\n",
    "ax.scatter(show_scores['dim0'], show_scores['dim1'])\n",
    "    \n",
    "for x, y, name in zip(show_scores['dim0'], show_scores['dim1'], show_scores['show_name']):\n",
    "    plt.annotate(name, (x, y), textcoords=\"offset points\", xytext=(0, 10), ha='center')\n",
    "    \n",
    "_ = ax.set_title('Ideology by show, all accounts')"
   ]
  },
  {
   "cell_type": "code",
   "execution_count": null,
   "metadata": {},
   "outputs": [],
   "source": [
    "fig, ax = plt.subplots(figsize=(30, 30))\n",
    "\n",
    "ax.scatter(show_scores_hosts['dim0'], show_scores_hosts['dim1'])\n",
    "    \n",
    "for x, y, name in zip(show_scores_hosts['dim0'], show_scores_hosts['dim1'], show_scores_hosts['show_name']):\n",
    "    plt.annotate(name, (x, y), textcoords=\"offset points\", xytext=(0, 10), ha='center')\n",
    "    \n",
    "_ = fig.suptitle('Ideology by show, hosts and institutional accounts only')"
   ]
  },
  {
   "cell_type": "markdown",
   "metadata": {},
   "source": [
    "# Write out scores"
   ]
  },
  {
   "cell_type": "code",
   "execution_count": null,
   "metadata": {},
   "outputs": [],
   "source": [
    "scores.drop('screen_name', axis=1).to_csv('data/twitter/ideology-mds/user.csv', index=True)"
   ]
  },
  {
   "cell_type": "code",
   "execution_count": null,
   "metadata": {},
   "outputs": [],
   "source": [
    "show_scores.to_csv('data/twitter/ideology-mds/show.csv', index=True)"
   ]
  },
  {
   "cell_type": "code",
   "execution_count": null,
   "metadata": {},
   "outputs": [],
   "source": [
    "show_scores_hosts.to_csv('data/twitter/ideology-mds/show-hosts.csv', index=True)"
   ]
  },
  {
   "cell_type": "code",
   "execution_count": null,
   "metadata": {},
   "outputs": [],
   "source": []
  }
 ],
 "metadata": {
  "kernelspec": {
   "display_name": "Python 3 (ipykernel)",
   "language": "python",
   "name": "python3"
  },
  "language_info": {
   "codemirror_mode": {
    "name": "ipython",
    "version": 3
   },
   "file_extension": ".py",
   "mimetype": "text/x-python",
   "name": "python",
   "nbconvert_exporter": "python",
   "pygments_lexer": "ipython3",
   "version": "3.10.12"
  },
  "widgets": {
   "application/vnd.jupyter.widget-state+json": {
    "state": {},
    "version_major": 2,
    "version_minor": 0
   }
  }
 },
 "nbformat": 4,
 "nbformat_minor": 4
}
