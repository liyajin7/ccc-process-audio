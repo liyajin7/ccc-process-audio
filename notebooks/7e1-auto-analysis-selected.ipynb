{
 "cells": [
  {
   "cell_type": "code",
   "execution_count": null,
   "metadata": {},
   "outputs": [],
   "source": [
    "import os\n",
    "import gzip\n",
    "import random\n",
    "import logging\n",
    "\n",
    "import numpy as np\n",
    "import pandas as pd\n",
    "import seaborn as sns\n",
    "import scipy.stats as ss\n",
    "import statsmodels.formula.api as smf\n",
    "\n",
    "import matplotlib as mp\n",
    "%matplotlib inline\n",
    "import matplotlib.pyplot as plt\n",
    "\n",
    "from tqdm.notebook import tqdm, trange\n",
    "\n",
    "from IPython.display import display"
   ]
  },
  {
   "cell_type": "code",
   "execution_count": null,
   "metadata": {},
   "outputs": [],
   "source": [
    "logger = logging.getLogger(__name__)\n",
    "\n",
    "fmt = '%(asctime)s : %(levelname)s : %(message)s'\n",
    "logging.basicConfig(format=fmt, level=logging.INFO)"
   ]
  },
  {
   "cell_type": "code",
   "execution_count": null,
   "metadata": {},
   "outputs": [],
   "source": [
    "os.chdir(os.path.expanduser('~/github/masthesis/'))"
   ]
  },
  {
   "cell_type": "code",
   "execution_count": null,
   "metadata": {},
   "outputs": [],
   "source": [
    "seed = 2969591811\n",
    "\n",
    "random.seed(seed)\n",
    "np.random.seed(seed)"
   ]
  },
  {
   "cell_type": "code",
   "execution_count": null,
   "metadata": {},
   "outputs": [],
   "source": [
    "pd.set_option('display.float_format', '{:.5f}'.format)"
   ]
  },
  {
   "cell_type": "code",
   "execution_count": null,
   "metadata": {},
   "outputs": [],
   "source": [
    "colors = sns.color_palette('colorblind', 10)\n",
    "\n",
    "elite_color = colors[3]\n",
    "radio_color = colors[0]\n",
    "decahose_color = colors[1]\n",
    "decahose2_color = colors[2]"
   ]
  },
  {
   "cell_type": "markdown",
   "metadata": {},
   "source": [
    "# Load data"
   ]
  },
  {
   "cell_type": "code",
   "execution_count": null,
   "metadata": {},
   "outputs": [],
   "source": [
    "stats = pd.read_csv('data/paper-round-3/event-annotated/auto-story-stats.csv', index_col='story_id')\n",
    "\n",
    "assert stats.index.is_unique\n",
    "assert (stats.groupby(['year', 'kind']).size() == stats.groupby(['year', 'kind'])['group'].nunique()).all()"
   ]
  },
  {
   "cell_type": "code",
   "execution_count": null,
   "metadata": {},
   "outputs": [],
   "source": [
    "selected = pd.read_csv('data/paper-round-3/event-annotated/auto-sample-communities-filter-list.csv', index_col='story_id')\n",
    "assert selected.index.is_unique\n",
    "\n",
    "covid_threshold = 0.1\n",
    "selected['decahose_covid_2020'] = (selected['year'] == 2020) & (selected['kind'] == 'decahose') & (selected['covid'] >= covid_threshold)\n",
    "stats['decahose_covid_2020'] = selected['decahose_covid_2020']\n",
    "stats['decahose_covid_2020'] = stats['decahose_covid_2020'].fillna(False)"
   ]
  },
  {
   "cell_type": "code",
   "execution_count": null,
   "metadata": {},
   "outputs": [],
   "source": [
    "with open('data/paper-round-3/event-annotated/auto-story-cdfs.npy', 'rb') as f:\n",
    "    cdf_vals = np.load(f)"
   ]
  },
  {
   "cell_type": "markdown",
   "metadata": {},
   "source": [
    "## Quality filter"
   ]
  },
  {
   "cell_type": "code",
   "execution_count": null,
   "metadata": {},
   "outputs": [],
   "source": [
    "length_mask = (stats['count'] >= 10)\n",
    "selected_mask = stats.index.isin(selected.index)\n",
    "\n",
    "mask = (\n",
    "    length_mask\n",
    "    & selected_mask\n",
    ")\n",
    "\n",
    "mask.sum(), stats.shape[0]"
   ]
  },
  {
   "cell_type": "markdown",
   "metadata": {},
   "source": [
    "# Descriptive stats"
   ]
  },
  {
   "cell_type": "code",
   "execution_count": null,
   "metadata": {},
   "outputs": [],
   "source": [
    "tmp = stats.loc[mask].copy()\n",
    "tmp.loc[tmp['kind'] == 'decahose', 'kind'] = 'firehose'\n",
    "\n",
    "tmp = tmp.groupby(['year', 'kind']).size().unstack(1)\n",
    "tmp = tmp[['firehose', 'elite', 'radio']]\n",
    "tmp.columns = [c.title() for c in tmp.columns]\n",
    "tmp.index.name = tmp.index.name.title()\n",
    "\n",
    "print(tmp.style.to_latex(\n",
    "    label='tab:auto-event-counts',\n",
    "    hrules=True\n",
    "))"
   ]
  },
  {
   "cell_type": "code",
   "execution_count": null,
   "metadata": {},
   "outputs": [],
   "source": [
    "stats.groupby([mask, 'year', 'kind']).size()"
   ]
  },
  {
   "cell_type": "code",
   "execution_count": null,
   "metadata": {},
   "outputs": [],
   "source": [
    "stats.groupby([mask, 'year']).size()"
   ]
  },
  {
   "cell_type": "code",
   "execution_count": null,
   "metadata": {},
   "outputs": [],
   "source": [
    "stats.groupby([mask, 'kind']).size()"
   ]
  },
  {
   "cell_type": "code",
   "execution_count": null,
   "metadata": {},
   "outputs": [],
   "source": [
    "stats.groupby([mask, 'kind'])['count'].sum()"
   ]
  },
  {
   "cell_type": "code",
   "execution_count": null,
   "metadata": {},
   "outputs": [],
   "source": [
    "stats.groupby([mask, 'year', 'kind'])['count'].sum()"
   ]
  },
  {
   "cell_type": "code",
   "execution_count": null,
   "metadata": {},
   "outputs": [],
   "source": [
    "with pd.option_context('display.float_format', lambda x: '%.3f' % x):\n",
    "    display(stats.loc[mask].describe())"
   ]
  },
  {
   "cell_type": "code",
   "execution_count": null,
   "metadata": {
    "tags": []
   },
   "outputs": [],
   "source": [
    "with pd.option_context('display.float_format', lambda x: '%.3f' % x, 'display.max_rows', None):\n",
    "    display(stats.loc[mask].groupby('kind').describe().T)"
   ]
  },
  {
   "cell_type": "code",
   "execution_count": null,
   "metadata": {
    "tags": []
   },
   "outputs": [],
   "source": [
    "with pd.option_context('display.float_format', lambda x: '%.3f' % x, 'display.max_rows', None):\n",
    "    display(stats.loc[mask].groupby(['year', 'kind']).describe().T)"
   ]
  },
  {
   "cell_type": "code",
   "execution_count": null,
   "metadata": {},
   "outputs": [],
   "source": [
    "with pd.option_context('display.float_format', lambda x: '%.3f' % x, 'display.max_rows', None):\n",
    "    display(stats.loc[mask].groupby('kind').describe()[['avg', 'std']].T)"
   ]
  },
  {
   "cell_type": "code",
   "execution_count": null,
   "metadata": {},
   "outputs": [],
   "source": [
    "with pd.option_context('display.float_format', lambda x: '%.3f' % x, 'display.max_rows', None):\n",
    "    display(stats.loc[mask].groupby(['kind', 'year']).describe()[['avg', 'std']].T)"
   ]
  },
  {
   "cell_type": "code",
   "execution_count": null,
   "metadata": {},
   "outputs": [],
   "source": [
    "stats.loc[mask].groupby(['year', 'kind'])[['start', 'end', 'dur']].describe().T"
   ]
  },
  {
   "cell_type": "code",
   "execution_count": null,
   "metadata": {},
   "outputs": [],
   "source": [
    "stats.loc[mask, 'dur'].hist(bins=50)"
   ]
  },
  {
   "cell_type": "markdown",
   "metadata": {},
   "source": [
    "# Test average differences in mean/std of reltime"
   ]
  },
  {
   "cell_type": "code",
   "execution_count": null,
   "metadata": {},
   "outputs": [],
   "source": [
    "tests = []\n",
    "for year in stats.loc[mask, 'year'].unique().tolist() + ['all']:\n",
    "    for metric in ['avg', 'std']:\n",
    "        el = stats.loc[mask & (stats['kind'] == 'elite'), metric]\n",
    "        rd = stats.loc[mask & (stats['kind'] == 'radio'), metric]\n",
    "        dh = stats.loc[mask & (stats['kind'] == 'decahose'), metric]\n",
    "        dhnc = stats.loc[mask & ~stats['decahose_covid_2020'] & (stats['kind'] == 'decahose'), metric]\n",
    "        \n",
    "        if year != 'all':\n",
    "            el = el.loc[stats['year'] == year]\n",
    "            rd = rd.loc[stats['year'] == year]\n",
    "            dh = dh.loc[stats['year'] == year]\n",
    "            dhnc = dhnc.loc[stats['year'] == year]\n",
    "        \n",
    "        # Elite vs radio\n",
    "        stat = ss.ttest_ind(el, rd)\n",
    "        tests += [{\n",
    "            'year': year,\n",
    "            'metric': metric,\n",
    "            'kind1': 'elite',\n",
    "            'kind2': 'radio',\n",
    "            'statistic': stat.statistic,\n",
    "            'pvalue': stat.pvalue,\n",
    "            'df': stat.df,\n",
    "        }]\n",
    "\n",
    "        # Elite vs decahose\n",
    "        stat = ss.ttest_ind(el, dh)\n",
    "        tests += [{\n",
    "            'year': year,\n",
    "            'metric': metric,\n",
    "            'kind1': 'elite',\n",
    "            'kind2': 'decahose',\n",
    "            'statistic': stat.statistic,\n",
    "            'pvalue': stat.pvalue,\n",
    "            'df': stat.df,\n",
    "        }]\n",
    "\n",
    "        # Decahose vs radio\n",
    "        stat = ss.ttest_ind(dh, rd)\n",
    "        tests += [{\n",
    "            'year': year,\n",
    "            'metric': metric,\n",
    "            'kind1': 'decahose',\n",
    "            'kind2': 'radio',\n",
    "            'statistic': stat.statistic,\n",
    "            'pvalue': stat.pvalue,\n",
    "            'df': stat.df,\n",
    "        }]\n",
    "\n",
    "        # Elite vs decahose, excluding 2020 Covid stories\n",
    "        stat = ss.ttest_ind(el, dhnc)\n",
    "        tests += [{\n",
    "            'year': year,\n",
    "            'metric': metric,\n",
    "            'kind1': 'elite',\n",
    "            'kind2': 'decahose-no-2020-covid',\n",
    "            'statistic': stat.statistic,\n",
    "            'pvalue': stat.pvalue,\n",
    "            'df': stat.df,\n",
    "        }]\n",
    "\n",
    "        # Decahose vs radio, excluding 2020 Covid stories\n",
    "        stat = ss.ttest_ind(dhnc, rd)\n",
    "        tests += [{\n",
    "            'year': year,\n",
    "            'metric': metric,\n",
    "            'kind1': 'decahose-no-2020-covid',\n",
    "            'kind2': 'radio',\n",
    "            'statistic': stat.statistic,\n",
    "            'pvalue': stat.pvalue,\n",
    "            'df': stat.df,\n",
    "        }]\n",
    "        \n",
    "tests = pd.DataFrame(tests) \\\n",
    "    .sort_values(['year', 'kind1', 'kind2'], ascending=False) \\\n",
    "    [['year', 'kind1', 'kind2', 'metric', 'statistic', 'pvalue', 'df']] \\\n",
    "    .reset_index(drop=True)\n",
    "\n",
    "tests['id'] = tests['year'].astype(str) + '-' + tests['kind1'] + '-' + tests['kind2'] + '-' + tests['metric']\n",
    "tests.set_index('id', inplace=True)\n",
    "\n",
    "tests.shape"
   ]
  },
  {
   "cell_type": "code",
   "execution_count": null,
   "metadata": {},
   "outputs": [],
   "source": [
    "tests.loc[tests['year'] == 'all']"
   ]
  },
  {
   "cell_type": "code",
   "execution_count": null,
   "metadata": {
    "tags": []
   },
   "outputs": [],
   "source": [
    "tests.loc[tests['year'] != 'all']"
   ]
  },
  {
   "cell_type": "markdown",
   "metadata": {},
   "source": [
    "# Visualize reltime mean/SD"
   ]
  },
  {
   "cell_type": "markdown",
   "metadata": {},
   "source": [
    "## Elite vs radio"
   ]
  },
  {
   "cell_type": "code",
   "execution_count": null,
   "metadata": {},
   "outputs": [],
   "source": [
    "nbins = 20\n",
    "\n",
    "fig, axes = plt.subplots(1, 2, figsize=(10, 5))\n",
    "twins = [ax.twinx() for ax in axes]\n",
    "\n",
    "sns.histplot(stats.loc[mask & (stats['kind'] == 'elite'), 'avg'], ax=axes[0], color=elite_color, alpha=0.3, label='Elite', kde=True, bins=nbins)\n",
    "sns.histplot(stats.loc[mask & (stats['kind'] == 'radio'), 'avg'], ax=twins[0], color=radio_color, alpha=0.3, label='Radio', kde=True, bins=nbins)\n",
    "\n",
    "sns.histplot(stats.loc[mask & (stats['kind'] == 'elite'), 'std'], ax=axes[1], color=elite_color, alpha=0.3, label='Elite', kde=True, bins=nbins)\n",
    "sns.histplot(stats.loc[mask & (stats['kind'] == 'radio'), 'std'], ax=twins[1], color=radio_color, alpha=0.3, label='Radio', kde=True, bins=nbins)\n",
    "\n",
    "def seconds_to_hours(x, pos):\n",
    "    return f'{x / 3600:.0f}h'\n",
    "fmt = mp.ticker.FuncFormatter(seconds_to_hours)\n",
    "\n",
    "twins[0].set_ylabel(None)\n",
    "axes[0].set_xlabel('Mean Within-Story Time')\n",
    "axes[0].xaxis.set_tick_params(rotation=45)\n",
    "axes[0].xaxis.set_major_formatter(fmt)\n",
    "\n",
    "h1, l1 = axes[0].get_legend_handles_labels()\n",
    "h2, l2 = twins[0].get_legend_handles_labels()\n",
    "axes[0].legend(h1 + h2, l1 + l2, loc=0)\n",
    "\n",
    "twins[1].set_ylabel(None)\n",
    "axes[1].set_xlabel('SD of Within-Story Time')\n",
    "axes[1].xaxis.set_tick_params(rotation=45)\n",
    "axes[1].xaxis.set_major_formatter(fmt)\n",
    "\n",
    "h1, l1 = axes[1].get_legend_handles_labels()\n",
    "h2, l2 = twins[1].get_legend_handles_labels()\n",
    "axes[1].legend(h1 + h2, l1 + l2, loc=0)\n",
    "\n",
    "props = dict(boxstyle='round', facecolor='wheat', alpha=0.5)\n",
    "\n",
    "textstr = '\\n'.join((\n",
    "    r'$H_0: \\rm{\\bar{E}} = \\rm{\\bar{R}}$',\n",
    "    r'$t=%.2f$' % (tests.loc['all-elite-radio-avg', 'statistic'], ),\n",
    "    r'$p \\sim %.1e$' % (tests.loc['all-elite-radio-avg', 'pvalue'], ),\n",
    "))\n",
    "axes[0].text(0.65, 0.65, textstr, transform=axes[0].transAxes, fontsize=12,\n",
    "             verticalalignment='top', bbox=props)\n",
    "\n",
    "textstr = '\\n'.join((\n",
    "    r'$H_0: \\rm{\\bar{E}} = \\rm{\\bar{R}}$',\n",
    "    r'$t=%.2f$' % (tests.loc['all-elite-radio-std', 'statistic'], ),\n",
    "    r'$p \\sim %.1e$' % (tests.loc['all-elite-radio-std', 'pvalue'], ),\n",
    "))\n",
    "axes[1].text(0.65, 0.65, textstr, transform=axes[1].transAxes, fontsize=12,\n",
    "             verticalalignment='top', bbox=props)\n",
    "\n",
    "fig.tight_layout()"
   ]
  },
  {
   "cell_type": "code",
   "execution_count": null,
   "metadata": {},
   "outputs": [],
   "source": [
    "nbins = 20\n",
    "\n",
    "years = stats.loc[mask, 'year'].unique()\n",
    "\n",
    "fig, axes = plt.subplots(years.shape[0], 2, figsize=(10, 5*years.shape[0]))\n",
    "\n",
    "twins = np.empty_like(axes)\n",
    "for i in range(twins.shape[0]):\n",
    "    for j in range(twins.shape[1]):\n",
    "        twins[i][j] = axes[i][j].twinx()\n",
    "\n",
    "for i, year in enumerate(years):\n",
    "    sns.histplot(stats.loc[mask & (stats['year'] == year) & (stats['kind'] == 'elite'), 'avg'], ax=axes[i][0], color=elite_color, alpha=0.3, label='Elite', kde=True, bins=nbins)\n",
    "    sns.histplot(stats.loc[mask & (stats['year'] == year) & (stats['kind'] == 'radio'), 'avg'], ax=twins[i][0], color=radio_color, alpha=0.3, label='Radio', kde=True, bins=nbins)\n",
    "    sns.histplot(stats.loc[mask & (stats['year'] == year) & (stats['kind'] == 'elite'), 'std'], ax=axes[i][1], color=elite_color, alpha=0.3, label='Elite', kde=True, bins=nbins)\n",
    "    sns.histplot(stats.loc[mask & (stats['year'] == year) & (stats['kind'] == 'radio'), 'std'], ax=twins[i][1], color=radio_color, alpha=0.3, label='Radio', kde=True, bins=nbins)\n",
    "\n",
    "    twins[i][0].set_ylabel(None)\n",
    "    axes[i][0].set_title(f'{year}: Mean')\n",
    "    axes[i][0].set_xlabel('Mean')\n",
    "    axes[i][0].set_ylabel('Count')\n",
    "    axes[i][0].xaxis.set_tick_params(rotation=45)\n",
    "\n",
    "    h1, l1 = axes[i][0].get_legend_handles_labels()\n",
    "    h2, l2 = twins[i][0].get_legend_handles_labels()\n",
    "    axes[i][0].legend(h1 + h2, l1 + l2, loc=0)\n",
    "\n",
    "    twins[i][1].set_ylabel(None)\n",
    "    axes[i][1].set_title(f'{year}: Standard deviation')\n",
    "    axes[i][1].set_xlabel('Standard deviation')\n",
    "    axes[i][1].set_ylabel('Count')\n",
    "    axes[i][1].xaxis.set_tick_params(rotation=45)\n",
    "\n",
    "    h1, l1 = axes[i][1].get_legend_handles_labels()\n",
    "    h2, l2 = twins[i][1].get_legend_handles_labels()\n",
    "    axes[i][1].legend(h1 + h2, l1 + l2, loc=0)\n",
    "\n",
    "    fig.tight_layout()"
   ]
  },
  {
   "cell_type": "markdown",
   "metadata": {},
   "source": [
    "## Decahose vs radio, including 2020 Covid"
   ]
  },
  {
   "cell_type": "code",
   "execution_count": null,
   "metadata": {},
   "outputs": [],
   "source": [
    "nbins = 20\n",
    "\n",
    "fig, axes = plt.subplots(1, 2, figsize=(10, 5))\n",
    "twins = [ax.twinx() for ax in axes]\n",
    "\n",
    "sns.histplot(stats.loc[mask & (stats['kind'] == 'decahose'), 'avg'], ax=axes[0], color=decahose_color, alpha=0.3, label='Decahose', kde=True, bins=nbins)\n",
    "sns.histplot(stats.loc[mask & (stats['kind'] == 'radio'), 'avg'], ax=twins[0], color=radio_color, alpha=0.3, label='Radio', kde=True, bins=nbins)\n",
    "\n",
    "sns.histplot(stats.loc[mask & (stats['kind'] == 'decahose'), 'std'], ax=axes[1], color=decahose_color, alpha=0.3, label='Decahose', kde=True, bins=nbins)\n",
    "sns.histplot(stats.loc[mask & (stats['kind'] == 'radio'), 'std'], ax=twins[1], color=radio_color, alpha=0.3, label='Radio', kde=True, bins=nbins)\n",
    "\n",
    "def seconds_to_hours(x, pos):\n",
    "    return f'{x / 3600:.0f}h'\n",
    "fmt = mp.ticker.FuncFormatter(seconds_to_hours)\n",
    "\n",
    "twins[0].set_ylabel(None)\n",
    "axes[0].set_xlabel('Mean Within-Story Time')\n",
    "axes[0].xaxis.set_tick_params(rotation=45)\n",
    "axes[0].xaxis.set_major_formatter(fmt)\n",
    "\n",
    "h1, l1 = axes[0].get_legend_handles_labels()\n",
    "h2, l2 = twins[0].get_legend_handles_labels()\n",
    "axes[0].legend(h1 + h2, l1 + l2, loc=0)\n",
    "\n",
    "twins[1].set_ylabel(None)\n",
    "axes[1].set_xlabel('SD of Within-Story Time')\n",
    "axes[1].xaxis.set_tick_params(rotation=45)\n",
    "axes[1].xaxis.set_major_formatter(fmt)\n",
    "\n",
    "h1, l1 = axes[1].get_legend_handles_labels()\n",
    "h2, l2 = twins[1].get_legend_handles_labels()\n",
    "axes[1].legend(h1 + h2, l1 + l2, loc=0)\n",
    "\n",
    "props = dict(boxstyle='round', facecolor='wheat', alpha=0.5)\n",
    "\n",
    "textstr = '\\n'.join((\n",
    "    r'$H_0: \\rm{\\bar{D}} = \\rm{\\bar{R}}$',\n",
    "    r'$t=%.2f$' % (tests.loc['all-decahose-radio-avg', 'statistic'], ),\n",
    "    r'$p \\sim %.3f$' % (tests.loc['all-decahose-radio-avg', 'pvalue'], ),\n",
    "))\n",
    "axes[0].text(0.65, 0.65, textstr, transform=axes[0].transAxes, fontsize=12,\n",
    "             verticalalignment='top', bbox=props)\n",
    "\n",
    "textstr = '\\n'.join((\n",
    "    r'$H_0: \\rm{\\bar{D}} = \\rm{\\bar{R}}$',\n",
    "    r'$t=%.2f$' % (tests.loc['all-decahose-radio-std', 'statistic'], ),\n",
    "    r'$p \\sim %.3f$' % (tests.loc['all-decahose-radio-std', 'pvalue'], ),\n",
    "))\n",
    "axes[1].text(0.65, 0.65, textstr, transform=axes[1].transAxes, fontsize=12,\n",
    "             verticalalignment='top', bbox=props)\n",
    "\n",
    "fig.tight_layout()"
   ]
  },
  {
   "cell_type": "code",
   "execution_count": null,
   "metadata": {},
   "outputs": [],
   "source": [
    "nbins = 20\n",
    "\n",
    "years = stats.loc[mask, 'year'].unique()\n",
    "\n",
    "fig, axes = plt.subplots(years.shape[0], 2, figsize=(10, 5*years.shape[0]))\n",
    "\n",
    "twins = np.empty_like(axes)\n",
    "for i in range(twins.shape[0]):\n",
    "    for j in range(twins.shape[1]):\n",
    "        twins[i][j] = axes[i][j].twinx()\n",
    "\n",
    "for i, year in enumerate(years):\n",
    "    sns.histplot(stats.loc[mask & (stats['year'] == year) & (stats['kind'] == 'decahose'), 'avg'], ax=axes[i][0], color=decahose_color, alpha=0.3, label='Decahose', kde=True, bins=nbins)\n",
    "    sns.histplot(stats.loc[mask & (stats['year'] == year) & (stats['kind'] == 'radio'), 'avg'], ax=twins[i][0], color=radio_color, alpha=0.3, label='Radio', kde=True, bins=nbins)\n",
    "    sns.histplot(stats.loc[mask & (stats['year'] == year) & (stats['kind'] == 'decahose'), 'std'], ax=axes[i][1], color=decahose_color, alpha=0.3, label='Decahose', kde=True, bins=nbins)\n",
    "    sns.histplot(stats.loc[mask & (stats['year'] == year) & (stats['kind'] == 'radio'), 'std'], ax=twins[i][1], color=radio_color, alpha=0.3, label='Radio', kde=True, bins=nbins)\n",
    "\n",
    "    twins[i][0].set_ylabel(None)\n",
    "    axes[i][0].set_title(f'{year}: Mean')\n",
    "    axes[i][0].set_xlabel('Mean')\n",
    "    axes[i][0].set_ylabel('Count')\n",
    "    axes[i][0].xaxis.set_tick_params(rotation=45)\n",
    "\n",
    "    h1, l1 = axes[i][0].get_legend_handles_labels()\n",
    "    h2, l2 = twins[i][0].get_legend_handles_labels()\n",
    "    axes[i][0].legend(h1 + h2, l1 + l2, loc=0)\n",
    "\n",
    "    twins[i][1].set_ylabel(None)\n",
    "    axes[i][1].set_title(f'{year}: Standard deviation')\n",
    "    axes[i][1].set_xlabel('Standard deviation')\n",
    "    axes[i][1].set_ylabel('Count')\n",
    "    axes[i][1].xaxis.set_tick_params(rotation=45)\n",
    "\n",
    "    h1, l1 = axes[i][1].get_legend_handles_labels()\n",
    "    h2, l2 = twins[i][1].get_legend_handles_labels()\n",
    "    axes[i][1].legend(h1 + h2, l1 + l2, loc=0)\n",
    "\n",
    "    fig.tight_layout()"
   ]
  },
  {
   "cell_type": "markdown",
   "metadata": {},
   "source": [
    "## Decahose vs radio, excluding 2020 Covid"
   ]
  },
  {
   "cell_type": "code",
   "execution_count": null,
   "metadata": {},
   "outputs": [],
   "source": [
    "nbins = 20\n",
    "\n",
    "fig, axes = plt.subplots(1, 2, figsize=(10, 5), sharey=True)\n",
    "twins = [ax.twinx() for ax in axes]\n",
    "\n",
    "for twin in twins[1:]:\n",
    "    twins[0].get_shared_y_axes().join(twins[0], twin)\n",
    "twins[0].autoscale()\n",
    "for twin in twins[:-1]:\n",
    "    twin.yaxis.set_tick_params(labelright=False)\n",
    "\n",
    "sns.histplot(stats.loc[mask & ~stats['decahose_covid_2020'] & (stats['kind'] == 'decahose'), 'avg'], ax=axes[0], color=decahose_color, alpha=0.3, label='Firehose', kde=True, bins=nbins)\n",
    "sns.histplot(stats.loc[mask & (stats['kind'] == 'radio'), 'avg'], ax=twins[0], color=radio_color, alpha=0.3, label='Radio', kde=True, bins=nbins)\n",
    "\n",
    "sns.histplot(stats.loc[mask & ~stats['decahose_covid_2020'] & (stats['kind'] == 'decahose'), 'std'], ax=axes[1], color=decahose_color, alpha=0.3, label='Firehose', kde=True, bins=nbins)\n",
    "sns.histplot(stats.loc[mask & (stats['kind'] == 'radio'), 'std'], ax=twins[1], color=radio_color, alpha=0.3, label='Radio', kde=True, bins=nbins)\n",
    "\n",
    "def seconds_to_hours(x, pos):\n",
    "    return f'{x / 3600:.0f}h'\n",
    "fmt = mp.ticker.FuncFormatter(seconds_to_hours)\n",
    "\n",
    "axes[0].set_ylabel(None)\n",
    "twins[0].set_ylabel(None)\n",
    "axes[0].set_xlabel('Duration')\n",
    "axes[0].xaxis.set_tick_params(rotation=45)\n",
    "axes[0].xaxis.set_major_formatter(fmt)\n",
    "\n",
    "h1, l1 = axes[0].get_legend_handles_labels()\n",
    "h2, l2 = twins[0].get_legend_handles_labels()\n",
    "axes[0].legend(h1 + h2, l1 + l2, loc=0)\n",
    "\n",
    "axes[1].set_ylabel(None)\n",
    "twins[1].set_ylabel(None)\n",
    "axes[1].set_xlabel('Duration')\n",
    "axes[1].xaxis.set_tick_params(rotation=45)\n",
    "axes[1].xaxis.set_major_formatter(fmt)\n",
    "\n",
    "axes[0].set_ylabel('Count (Firehose)', fontsize=11)\n",
    "twins[1].set_ylabel('Count (Radio)', fontsize=11, rotation=270, labelpad=15)\n",
    "\n",
    "h1, l1 = axes[1].get_legend_handles_labels()\n",
    "h2, l2 = twins[1].get_legend_handles_labels()\n",
    "axes[1].legend(h1 + h2, l1 + l2, loc=0)\n",
    "\n",
    "props = dict(boxstyle='round', facecolor='wheat', alpha=0.5)\n",
    "\n",
    "textstr = '\\n'.join((\n",
    "    r'$H_0: \\rm{\\bar{D}} = \\rm{\\bar{R}}$',\n",
    "    r'$t=%.2f$' % (tests.loc['all-decahose-no-2020-covid-radio-avg', 'statistic'], ),\n",
    "    r'$p \\sim %.1e$' % (tests.loc['all-decahose-no-2020-covid-radio-avg', 'pvalue'], ),\n",
    "))\n",
    "axes[0].text(0.65, 0.65, textstr, transform=axes[0].transAxes, fontsize=12,\n",
    "             verticalalignment='top', bbox=props)\n",
    "\n",
    "textstr = '\\n'.join((\n",
    "    r'$H_0: \\rm{\\bar{D}} = \\rm{\\bar{R}}$',\n",
    "    r'$t=%.2f$' % (tests.loc['all-decahose-no-2020-covid-radio-std', 'statistic'], ),\n",
    "    r'$p \\sim %.1e$' % (tests.loc['all-decahose-no-2020-covid-radio-std', 'pvalue'], ),\n",
    "))\n",
    "axes[1].text(0.65, 0.65, textstr, transform=axes[1].transAxes, fontsize=12,\n",
    "             verticalalignment='top', bbox=props)\n",
    "\n",
    "axes[0].set_title('Mean Story-Level Relative Time')\n",
    "axes[1].set_title('SD Story-Level Relative Time')\n",
    "\n",
    "fig.tight_layout()"
   ]
  },
  {
   "cell_type": "code",
   "execution_count": null,
   "metadata": {},
   "outputs": [],
   "source": [
    "nbins = 20\n",
    "\n",
    "years = stats.loc[mask, 'year'].unique()\n",
    "\n",
    "fig, axes = plt.subplots(years.shape[0], 2, figsize=(10, 5*years.shape[0]))\n",
    "\n",
    "twins = np.empty_like(axes)\n",
    "for i in range(twins.shape[0]):\n",
    "    for j in range(twins.shape[1]):\n",
    "        twins[i][j] = axes[i][j].twinx()\n",
    "\n",
    "for i, year in enumerate(years):\n",
    "    sns.histplot(stats.loc[mask & (stats['year'] == year) & ~stats['decahose_covid_2020'] & (stats['kind'] == 'decahose'), 'avg'], ax=axes[i][0], color=decahose_color, alpha=0.3, label='Decahose', kde=True, bins=nbins)\n",
    "    sns.histplot(stats.loc[mask & (stats['year'] == year) & ~stats['decahose_covid_2020'] & (stats['kind'] == 'radio'), 'avg'], ax=twins[i][0], color=radio_color, alpha=0.3, label='Radio', kde=True, bins=nbins)\n",
    "    sns.histplot(stats.loc[mask & (stats['year'] == year) & ~stats['decahose_covid_2020'] & (stats['kind'] == 'decahose'), 'std'], ax=axes[i][1], color=decahose_color, alpha=0.3, label='Decahose', kde=True, bins=nbins)\n",
    "    sns.histplot(stats.loc[mask & (stats['year'] == year) & ~stats['decahose_covid_2020'] & (stats['kind'] == 'radio'), 'std'], ax=twins[i][1], color=radio_color, alpha=0.3, label='Radio', kde=True, bins=nbins)\n",
    "\n",
    "    twins[i][0].set_ylabel(None)\n",
    "    axes[i][0].set_title(f'{year}: Mean')\n",
    "    axes[i][0].set_xlabel('Mean')\n",
    "    axes[i][0].set_ylabel('Count')\n",
    "    axes[i][0].xaxis.set_tick_params(rotation=45)\n",
    "\n",
    "    h1, l1 = axes[i][0].get_legend_handles_labels()\n",
    "    h2, l2 = twins[i][0].get_legend_handles_labels()\n",
    "    axes[i][0].legend(h1 + h2, l1 + l2, loc=0)\n",
    "\n",
    "    twins[i][1].set_ylabel(None)\n",
    "    axes[i][1].set_title(f'{year}: Standard deviation')\n",
    "    axes[i][1].set_xlabel('Standard deviation')\n",
    "    axes[i][1].set_ylabel('Count')\n",
    "    axes[i][1].xaxis.set_tick_params(rotation=45)\n",
    "\n",
    "    h1, l1 = axes[i][1].get_legend_handles_labels()\n",
    "    h2, l2 = twins[i][1].get_legend_handles_labels()\n",
    "    axes[i][1].legend(h1 + h2, l1 + l2, loc=0)\n",
    "\n",
    "    fig.tight_layout()"
   ]
  },
  {
   "cell_type": "markdown",
   "metadata": {},
   "source": [
    "# Vincentized ecdf / epdf\n",
    "\n",
    "We get the epdf from the cdf via differentials (`np.gradient`)."
   ]
  },
  {
   "cell_type": "code",
   "execution_count": null,
   "metadata": {},
   "outputs": [],
   "source": [
    "# as in the 5a notebook that calculated these\n",
    "cdf_query_end = 7 * 24 * 3600\n",
    "cdf_query_inc = 60  # one minute; afterward we can sample to a higher frequency if desired\n",
    "\n",
    "cdf_ovrl = pd.DataFrame([\n",
    "    cdf_vals[mask & (stats['kind'] == 'elite'), ...].mean(axis=0),\n",
    "    cdf_vals[mask & (stats['kind'] == 'decahose'), ...].mean(axis=0),\n",
    "    cdf_vals[mask & (stats['kind'] == 'decahose') & ~stats['decahose_covid_2020'], ...].mean(axis=0),\n",
    "    cdf_vals[mask & (stats['kind'] == 'radio'), ...].mean(axis=0),\n",
    "], index=['elite', 'decahose', 'decahose-no-covid-2020', 'radio']).T\n",
    "cdf_ovrl.index = (cdf_ovrl.index.to_series() * cdf_query_inc)\n",
    "pdf_ovrl = cdf_ovrl.copy()\n",
    "pdf_ovrl['elite'] = np.gradient(pdf_ovrl['elite'])\n",
    "pdf_ovrl['decahose'] = np.gradient(pdf_ovrl['decahose'])\n",
    "pdf_ovrl['decahose-no-covid-2020'] = np.gradient(pdf_ovrl['decahose-no-covid-2020'])\n",
    "pdf_ovrl['radio'] = np.gradient(pdf_ovrl['radio'])\n",
    "\n",
    "for col in list(pdf_ovrl):\n",
    "    pdf_ovrl[col] = pd.Series(np.log10(pdf_ovrl[col] + 1e-6), index=pdf_ovrl.index)\n",
    "\n",
    "year_cdfs, year_pdfs = {}, {}\n",
    "for year in stats['year'].unique():\n",
    "    tmp_cdf = pd.DataFrame([\n",
    "        cdf_vals[mask & (stats['year'] == year) & (stats['kind'] == 'elite'), ...].mean(axis=0),\n",
    "        cdf_vals[mask & (stats['year'] == year) & (stats['kind'] == 'decahose'), ...].mean(axis=0),\n",
    "        cdf_vals[mask & (stats['year'] == year) & (stats['kind'] == 'decahose')  & ~stats['decahose_covid_2020'], ...].mean(axis=0),\n",
    "        cdf_vals[mask & (stats['year'] == year) & (stats['kind'] == 'radio'), ...].mean(axis=0)\n",
    "    ], index=['elite', 'decahose', 'decahose-no-covid-2020', 'radio']).T\n",
    "    tmp_cdf.index = (tmp_cdf.index.to_series() * cdf_query_inc)\n",
    "    \n",
    "    tmp_pdf = tmp_cdf.copy()\n",
    "    tmp_pdf['elite'] = np.gradient(tmp_pdf['elite'])\n",
    "    tmp_pdf['decahose'] = np.gradient(tmp_pdf['decahose'])\n",
    "    tmp_pdf['decahose-no-covid-2020'] = np.gradient(tmp_pdf['decahose-no-covid-2020'])\n",
    "    tmp_pdf['radio'] = np.gradient(tmp_pdf['radio'])\n",
    "    \n",
    "    for col in list(tmp_pdf):\n",
    "        tmp_pdf[col] = pd.Series(np.log10(tmp_pdf[col] + 1e-6), index=tmp_pdf.index)\n",
    "\n",
    "    year_cdfs[year] = tmp_cdf\n",
    "    year_pdfs[year] = tmp_pdf\n",
    "\n",
    "    year_cdfs[year].rename({'elite': 'Elite', 'radio': 'Radio', 'decahose': 'Firehose', 'decahose-no-covid-2020': 'Firehose ex. Covid'}, axis=1, inplace=True)\n",
    "    year_pdfs[year].rename({'elite': 'Elite', 'radio': 'Radio', 'decahose': 'Firehose', 'decahose-no-covid-2020': 'Firehose ex. Covid'}, axis=1, inplace=True)\n",
    "    \n",
    "cdf_ovrl.rename({'elite': 'Elite', 'radio': 'Radio', 'decahose': 'Firehose', 'decahose-no-covid-2020': 'Firehose ex. Covid'}, axis=1, inplace=True)\n",
    "pdf_ovrl.rename({'elite': 'Elite', 'radio': 'Radio', 'decahose': 'Firehose', 'decahose-no-covid-2020': 'Firehose ex. Covid'}, axis=1, inplace=True)"
   ]
  },
  {
   "cell_type": "markdown",
   "metadata": {},
   "source": [
    "## All available time - with decahose"
   ]
  },
  {
   "cell_type": "code",
   "execution_count": null,
   "metadata": {},
   "outputs": [],
   "source": [
    "fig, axes = plt.subplots(2, 1, figsize=(10, 5), sharex=True)\n",
    "\n",
    "# in units of cdf_query_inc\n",
    "plot_max = None\n",
    "plot_interval = 15\n",
    "\n",
    "cdf_ovrl.iloc[0:plot_max:plot_interval]['Elite'].plot(ax=axes[0], color=elite_color)\n",
    "pdf_ovrl.iloc[0:plot_max:plot_interval]['Elite'].plot(ax=axes[1], color=elite_color)\n",
    "\n",
    "cdf_ovrl.iloc[0:plot_max:plot_interval]['Radio'].plot(ax=axes[0], color=radio_color)\n",
    "pdf_ovrl.iloc[0:plot_max:plot_interval]['Radio'].plot(ax=axes[1], color=radio_color)\n",
    "\n",
    "cdf_ovrl.iloc[0:plot_max:plot_interval]['Firehose'].plot(ax=axes[0], color=decahose_color)\n",
    "pdf_ovrl.iloc[0:plot_max:plot_interval]['Firehose'].plot(ax=axes[1], color=decahose_color)\n",
    "\n",
    "cdf_ovrl.iloc[0:plot_max:plot_interval]['Firehose ex. Covid'].plot(ax=axes[0], color=decahose2_color)\n",
    "pdf_ovrl.iloc[0:plot_max:plot_interval]['Firehose ex. Covid'].plot(ax=axes[1], color=decahose2_color)\n",
    "\n",
    "axes[0].set_title('Pooled Empirical CDF')\n",
    "axes[1].set_title('Pooled Empirical PDF')\n",
    "\n",
    "axes[0].set_xlabel('Time (s)')\n",
    "axes[1].set_xlabel('Time (s)')\n",
    "\n",
    "axes[0].set_ylabel('Proportion')\n",
    "axes[1].set_ylabel('Density')\n",
    "\n",
    "axes[0].set_ylim(0, 1)\n",
    "\n",
    "def seconds_to_hours(x, pos):\n",
    "    return f'{x / 3600:.0f}h'\n",
    "fmt = mp.ticker.FuncFormatter(seconds_to_hours)\n",
    "axes[0].xaxis.set_major_formatter(fmt)\n",
    "\n",
    "def exp_ticks(x, pos):\n",
    "    return f'$10^{{{int(x)}}}$'\n",
    "fmt = mp.ticker.FuncFormatter(exp_ticks)\n",
    "axes[1].yaxis.set_major_formatter(fmt)\n",
    "\n",
    "axes[0].legend(loc='center right')\n",
    "fig.tight_layout()\n",
    "\n",
    "print(f'Based on {mask.sum()} event(s)')"
   ]
  },
  {
   "cell_type": "markdown",
   "metadata": {},
   "source": [
    "## 24 hours"
   ]
  },
  {
   "cell_type": "code",
   "execution_count": null,
   "metadata": {},
   "outputs": [],
   "source": [
    "fig, axes = plt.subplots(1, 2, figsize=(10, 5), sharex=True)\n",
    "\n",
    "# in units of cdf_query_inc\n",
    "plot_max = 24 * 60\n",
    "plot_interval = 15\n",
    "\n",
    "cdf_ovrl.iloc[0:plot_max:plot_interval]['Elite'].plot(ax=axes[0], color=elite_color)\n",
    "pdf_ovrl.iloc[0:plot_max:plot_interval]['Elite'].plot(ax=axes[1], color=elite_color)\n",
    "\n",
    "cdf_ovrl.iloc[0:plot_max:plot_interval]['Radio'].plot(ax=axes[0], color=radio_color)\n",
    "pdf_ovrl.iloc[0:plot_max:plot_interval]['Radio'].plot(ax=axes[1], color=radio_color)\n",
    "\n",
    "cdf_ovrl.iloc[0:plot_max:plot_interval]['Firehose'].plot(ax=axes[0], color=decahose_color)\n",
    "pdf_ovrl.iloc[0:plot_max:plot_interval]['Firehose'].plot(ax=axes[1], color=decahose_color)\n",
    "\n",
    "cdf_ovrl.iloc[0:plot_max:plot_interval]['Firehose ex. Covid'].plot(ax=axes[0], color=decahose2_color)\n",
    "pdf_ovrl.iloc[0:plot_max:plot_interval]['Firehose ex. Covid'].plot(ax=axes[1], color=decahose2_color)\n",
    "\n",
    "axes[0].set_title('Pooled Empirical CDF')\n",
    "axes[1].set_title('Pooled Empirical PDF')\n",
    "\n",
    "axes[0].set_xlabel('Time')\n",
    "axes[1].set_xlabel('Time')\n",
    "\n",
    "axes[0].set_ylabel('Proportion')\n",
    "axes[1].set_ylabel('Density')\n",
    "\n",
    "axes[0].set_ylim(0, 1)\n",
    "\n",
    "def seconds_to_hours(x, pos):\n",
    "    return f'{x / 3600:.0f}h'\n",
    "fmt = mp.ticker.FuncFormatter(seconds_to_hours)\n",
    "axes[0].xaxis.set_major_formatter(fmt)\n",
    "\n",
    "def exp_ticks(x, pos):\n",
    "    return f'$10^{{{int(x)}}}$'\n",
    "fmt = mp.ticker.FuncFormatter(exp_ticks)\n",
    "axes[1].yaxis.set_major_formatter(fmt)\n",
    "\n",
    "fig.tight_layout()\n",
    "\n",
    "print(f'Based on {mask.sum()} event(s)')"
   ]
  },
  {
   "cell_type": "markdown",
   "metadata": {},
   "source": [
    "## 48 hours"
   ]
  },
  {
   "cell_type": "code",
   "execution_count": null,
   "metadata": {},
   "outputs": [],
   "source": [
    "fig, axes = plt.subplots(1, 2, figsize=(10, 5), sharex=True)\n",
    "\n",
    "# in units of cdf_query_inc\n",
    "plot_max = 48 * 60\n",
    "plot_interval = 15\n",
    "\n",
    "cdf_ovrl.iloc[0:plot_max:plot_interval]['Elite'].plot(ax=axes[0], color=elite_color, linestyle='solid')\n",
    "pdf_ovrl.iloc[0:plot_max:plot_interval]['Elite'].plot(ax=axes[1], color=elite_color, linestyle='solid')\n",
    "\n",
    "cdf_ovrl.iloc[0:plot_max:plot_interval]['Radio'].plot(ax=axes[0], color=radio_color, linestyle='dotted')\n",
    "pdf_ovrl.iloc[0:plot_max:plot_interval]['Radio'].plot(ax=axes[1], color=radio_color, linestyle='dotted')\n",
    "\n",
    "cdf_ovrl.iloc[0:plot_max:plot_interval]['Firehose'].plot(ax=axes[0], color=decahose_color, linestyle='dashed')\n",
    "pdf_ovrl.iloc[0:plot_max:plot_interval]['Firehose'].plot(ax=axes[1], color=decahose_color, linestyle='dashed')\n",
    "\n",
    "cdf_ovrl.iloc[0:plot_max:plot_interval]['Firehose ex. Covid'].plot(ax=axes[0], color=decahose2_color, linestyle='dashdot')\n",
    "pdf_ovrl.iloc[0:plot_max:plot_interval]['Firehose ex. Covid'].plot(ax=axes[1], color=decahose2_color, linestyle='dashdot')\n",
    "\n",
    "axes[0].set_title('Pooled Empirical CDF')\n",
    "axes[1].set_title('Pooled Empirical PDF')\n",
    "\n",
    "axes[0].set_xlabel('Time')\n",
    "axes[1].set_xlabel('Time')\n",
    "\n",
    "axes[0].set_ylabel('Proportion')\n",
    "axes[1].set_ylabel('Density')\n",
    "\n",
    "axes[0].set_ylim(0, 1)\n",
    "\n",
    "def seconds_to_hours(x, pos):\n",
    "    return f'{x / 3600:.0f}h'\n",
    "fmt = mp.ticker.FuncFormatter(seconds_to_hours)\n",
    "axes[0].xaxis.set_major_formatter(fmt)\n",
    "\n",
    "def exp_ticks(x, pos):\n",
    "    return f'$10^{{{int(x)}}}$'\n",
    "fmt = mp.ticker.FuncFormatter(exp_ticks)\n",
    "axes[1].yaxis.set_major_formatter(fmt)\n",
    "\n",
    "axes[1].legend()\n",
    "fig.tight_layout()\n",
    "\n",
    "print(f'Based on {mask.sum()} event(s)')"
   ]
  },
  {
   "cell_type": "markdown",
   "metadata": {},
   "source": [
    "## Plot by year"
   ]
  },
  {
   "cell_type": "code",
   "execution_count": null,
   "metadata": {},
   "outputs": [],
   "source": [
    "years = stats['year'].unique()\n",
    "fig, axes = plt.subplots(years.shape[0], 2, figsize=(20, 5 * years.shape[0]), sharex=True)\n",
    "\n",
    "# in units of cdf_query_inc\n",
    "plot_max = 2880\n",
    "plot_interval = 15\n",
    "\n",
    "for i, year in enumerate(years):\n",
    "    year_cdfs[year].iloc[0:plot_max:plot_interval]['Elite'].plot(ax=axes[i][0], color=elite_color)\n",
    "    year_pdfs[year].iloc[0:plot_max:plot_interval]['Elite'].plot(ax=axes[i][1], color=elite_color)\n",
    "\n",
    "    year_cdfs[year].iloc[0:plot_max:plot_interval]['Radio'].plot(ax=axes[i][0], color=radio_color)\n",
    "    year_pdfs[year].iloc[0:plot_max:plot_interval]['Radio'].plot(ax=axes[i][1], color=radio_color)\n",
    "\n",
    "    year_cdfs[year].iloc[0:plot_max:plot_interval]['Firehose'].plot(ax=axes[i][0], color=decahose_color)\n",
    "    year_pdfs[year].iloc[0:plot_max:plot_interval]['Firehose'].plot(ax=axes[i][1], color=decahose_color)\n",
    "\n",
    "    year_cdfs[year].iloc[0:plot_max:plot_interval]['Firehose ex. Covid'].plot(ax=axes[i][0], color=decahose2_color)\n",
    "    year_pdfs[year].iloc[0:plot_max:plot_interval]['Firehose ex. Covid'].plot(ax=axes[i][1], color=decahose2_color)\n",
    "\n",
    "    axes[i][0].set_title(f'{year} Empirical CDF')\n",
    "    axes[i][0].set_xlabel('Time (s)')\n",
    "    axes[i][0].set_ylabel('Proportion')\n",
    "    axes[i][0].set_ylim(0, 1)\n",
    "    \n",
    "    axes[i][1].set_title(f'{year} Empirical PDF')\n",
    "    axes[i][1].set_xlabel('Time (s)')\n",
    "    axes[i][1].set_ylabel('Density')\n",
    "\n",
    "def seconds_to_hours(x, pos):\n",
    "    return f'{x / 3600:.0f}h'\n",
    "fmt = mp.ticker.FuncFormatter(seconds_to_hours)\n",
    "axes[i][0].xaxis.set_major_formatter(fmt)\n",
    "\n",
    "def exp_ticks(x, pos):\n",
    "    return f'$10^{{{int(x)}}}$'\n",
    "fmt = mp.ticker.FuncFormatter(exp_ticks)\n",
    "axes[i][1].yaxis.set_major_formatter(fmt)\n",
    "\n",
    "fig.tight_layout()\n",
    "\n",
    "print(f'Based on {mask.sum()} event(s)')"
   ]
  },
  {
   "cell_type": "code",
   "execution_count": null,
   "metadata": {},
   "outputs": [],
   "source": [
    "names = {'elite': 'Elite', 'radio': 'Radio', 'decahose': 'Firehose', 'decahose-no-covid-2020': 'Firehose ex. Covid'}\n",
    "names = {v: k for k, v in names.items()}\n",
    "\n",
    "cdf_ovrl.rename(names, axis=1, inplace=True)\n",
    "pdf_ovrl.rename(names, axis=1, inplace=True)"
   ]
  },
  {
   "cell_type": "markdown",
   "metadata": {},
   "source": [
    "## Bootstrap test"
   ]
  },
  {
   "cell_type": "code",
   "execution_count": null,
   "metadata": {},
   "outputs": [],
   "source": [
    "n_sims = 10000\n",
    "\n",
    "test_max = 2880\n",
    "test_interval = 15"
   ]
  },
  {
   "cell_type": "code",
   "execution_count": null,
   "metadata": {},
   "outputs": [],
   "source": [
    "alpha = ss.norm(0, 1).cdf(5)  # \"5-sigma\""
   ]
  },
  {
   "cell_type": "code",
   "execution_count": null,
   "metadata": {},
   "outputs": [],
   "source": [
    "rng = np.random.default_rng(seed=seed)"
   ]
  },
  {
   "cell_type": "markdown",
   "metadata": {},
   "source": [
    "### Resampling"
   ]
  },
  {
   "cell_type": "code",
   "execution_count": null,
   "metadata": {},
   "outputs": [],
   "source": [
    "samples, actuals = {}, {}\n",
    "samp_masks = {}\n",
    "\n",
    "for kind in stats['kind'].unique():\n",
    "    samp_masks[kind] = mask & (stats['kind'] == kind)\n",
    "samp_masks['decahose-no-covid-2020'] = mask & (stats['kind'] == 'decahose') & ~stats['decahose_covid_2020']\n",
    "\n",
    "for kind in tqdm(samp_masks.keys()):\n",
    "    samp_mask = samp_masks[kind]\n",
    "    samp_cdf_vals = cdf_vals[samp_mask, :][:, :test_max:test_interval]\n",
    "    actuals[kind] = cdf_vals[samp_mask, ...][:, :test_max:test_interval].mean(axis=0)\n",
    "\n",
    "    tmp_samples = []\n",
    "    for i in trange(n_sims):\n",
    "        perm = rng.choice(samp_cdf_vals.shape[0], samp_cdf_vals.shape[0], replace=True)\n",
    "        tmp_samples += [pd.Series(samp_cdf_vals[perm, ...].mean(axis=0)).rename('s' + str(i))]\n",
    "\n",
    "    tmp_samples = pd.DataFrame(tmp_samples)\n",
    "    tmp_samples.index = ['s' + str(i) for i in range(n_sims)]\n",
    "    tmp_samples.columns = (tmp_samples.columns.to_series() * cdf_query_inc * test_interval)\n",
    "    tmp_samples = tmp_samples.T\n",
    "    \n",
    "    samples[kind] = tmp_samples"
   ]
  },
  {
   "cell_type": "code",
   "execution_count": null,
   "metadata": {},
   "outputs": [],
   "source": [
    "# sanity check - should all be tightly clustered around 0\n",
    "with pd.option_context('display.float_format', lambda x: '%.7f' % x, 'display.max_rows', None):\n",
    "    display(pd.concat([\n",
    "        (samples[kind].mean(axis=1) - actuals[kind]).describe().rename(kind)\n",
    "        for kind in samples.keys()\n",
    "    ], axis=1))"
   ]
  },
  {
   "cell_type": "markdown",
   "metadata": {},
   "source": [
    "### Test results"
   ]
  },
  {
   "cell_type": "code",
   "execution_count": null,
   "metadata": {},
   "outputs": [],
   "source": [
    "(actuals['elite'] > actuals['radio']).all()"
   ]
  },
  {
   "cell_type": "code",
   "execution_count": null,
   "metadata": {},
   "outputs": [],
   "source": [
    "(actuals['elite'] > actuals['decahose-no-covid-2020']).all()"
   ]
  },
  {
   "cell_type": "code",
   "execution_count": null,
   "metadata": {},
   "outputs": [],
   "source": [
    "(actuals['decahose-no-covid-2020'] > actuals['radio']).all()"
   ]
  },
  {
   "cell_type": "code",
   "execution_count": null,
   "metadata": {},
   "outputs": [],
   "source": [
    "comp = (samples['elite'] > actuals['radio'][:, None]).mean(axis=1)\n",
    "pvals = comp.apply(lambda pval: 2 * min(pval, 1 - pval))\n",
    "\n",
    "display(pvals.describe())\n",
    "display((pvals < 1 - alpha).all())"
   ]
  },
  {
   "cell_type": "code",
   "execution_count": null,
   "metadata": {},
   "outputs": [],
   "source": [
    "comp = (samples['elite'] > actuals['decahose'][:, None]).mean(axis=1)\n",
    "pvals = comp.apply(lambda pval: 2 * min(pval, 1 - pval))\n",
    "\n",
    "display(pvals.describe())\n",
    "display((pvals < 1 - alpha).all())"
   ]
  },
  {
   "cell_type": "code",
   "execution_count": null,
   "metadata": {},
   "outputs": [],
   "source": [
    "comp = (samples['elite'] > actuals['decahose-no-covid-2020'][:, None]).mean(axis=1)\n",
    "pvals = comp.apply(lambda pval: 2 * min(pval, 1 - pval))\n",
    "\n",
    "display(pvals.describe())\n",
    "display((pvals < 1 - alpha).all())"
   ]
  },
  {
   "cell_type": "code",
   "execution_count": null,
   "metadata": {},
   "outputs": [],
   "source": [
    "comp = (samples['decahose'] > actuals['radio'][:, None]).mean(axis=1)\n",
    "pvals = comp.apply(lambda pval: 2 * min(pval, 1 - pval))\n",
    "\n",
    "display(pvals.describe())\n",
    "display((pvals < 1 - alpha).sum())\n",
    "# (pvals < 0.05).sum(), (pvals < 0.01).sum(), (pvals < 0.001).sum(), (pvals < 0.0001).sum(), (pvals < 1e-6).sum()"
   ]
  },
  {
   "cell_type": "code",
   "execution_count": null,
   "metadata": {},
   "outputs": [],
   "source": [
    "pvals.plot()"
   ]
  },
  {
   "cell_type": "code",
   "execution_count": null,
   "metadata": {},
   "outputs": [],
   "source": [
    "comp = (samples['decahose-no-covid-2020'] > actuals['radio'][:, None]).mean(axis=1)\n",
    "pvals = comp.apply(lambda pval: 2 * min(pval, 1 - pval))\n",
    "\n",
    "display(pvals.describe())\n",
    "display((pvals < 1 - alpha).sum())\n",
    "# (pvals < 0.05).sum(), (pvals < 0.01).sum(), (pvals < 0.001).sum(), (pvals < 0.0001).sum(), (pvals < 1e-6).sum()"
   ]
  },
  {
   "cell_type": "code",
   "execution_count": null,
   "metadata": {},
   "outputs": [],
   "source": [
    "s = (pvals < 1 - alpha)\n",
    "(s[::-1].idxmax() if s.any() else None) / 3600"
   ]
  },
  {
   "cell_type": "code",
   "execution_count": null,
   "metadata": {},
   "outputs": [],
   "source": [
    "s = (pvals < 5e-2)\n",
    "(s[::-1].idxmax() if s.any() else None) / 3600"
   ]
  },
  {
   "cell_type": "code",
   "execution_count": null,
   "metadata": {},
   "outputs": [],
   "source": [
    "pvals.plot()"
   ]
  },
  {
   "cell_type": "code",
   "execution_count": null,
   "metadata": {},
   "outputs": [],
   "source": []
  }
 ],
 "metadata": {
  "kernelspec": {
   "display_name": "DL",
   "language": "python",
   "name": "dl"
  },
  "language_info": {
   "codemirror_mode": {
    "name": "ipython",
    "version": 3
   },
   "file_extension": ".py",
   "mimetype": "text/x-python",
   "name": "python",
   "nbconvert_exporter": "python",
   "pygments_lexer": "ipython3",
   "version": "3.10.10"
  },
  "widgets": {
   "application/vnd.jupyter.widget-state+json": {
    "state": {
     "004f538a5b7a4af6b6221b62e7d21067": {
      "model_module": "@jupyter-widgets/controls",
      "model_module_version": "2.0.0",
      "model_name": "HBoxModel",
      "state": {
       "children": [
        "IPY_MODEL_6dfed8e946394cbfb8f698d47fa9adb1",
        "IPY_MODEL_cbb5a0cc59bf472b96206e56e3923c76",
        "IPY_MODEL_67696e717df241189673087701199297"
       ],
       "layout": "IPY_MODEL_97c7db7e22f34ccb84c423dc28289e1f"
      }
     },
     "02df72f7074143ffac9668b70a68f347": {
      "model_module": "@jupyter-widgets/controls",
      "model_module_version": "2.0.0",
      "model_name": "HTMLModel",
      "state": {
       "layout": "IPY_MODEL_8defe0245e5b48258e09663e2da8a93b",
       "style": "IPY_MODEL_6f5bc503cd3b426b886504dec0e7a83d",
       "value": " 10000/10000 [00:04&lt;00:00, 1827.96it/s]"
      }
     },
     "0922752dfbac4feca7dcc940a44e7be4": {
      "model_module": "@jupyter-widgets/controls",
      "model_module_version": "2.0.0",
      "model_name": "HTMLStyleModel",
      "state": {
       "description_width": "",
       "font_size": null,
       "text_color": null
      }
     },
     "0ceb29c7e3dc48f79b76a5113472a970": {
      "model_module": "@jupyter-widgets/controls",
      "model_module_version": "2.0.0",
      "model_name": "FloatProgressModel",
      "state": {
       "bar_style": "success",
       "layout": "IPY_MODEL_36627333202848e784226ea179d73b80",
       "max": 10000,
       "style": "IPY_MODEL_e6a9afdf4b3748cda46fd56cef11c856",
       "value": 10000
      }
     },
     "1685e914853c4021be1bd2e25d8486c1": {
      "model_module": "@jupyter-widgets/base",
      "model_module_version": "2.0.0",
      "model_name": "LayoutModel",
      "state": {}
     },
     "16a3feda9bb349b1957fb8247f61d046": {
      "model_module": "@jupyter-widgets/controls",
      "model_module_version": "2.0.0",
      "model_name": "HBoxModel",
      "state": {
       "children": [
        "IPY_MODEL_d7baca70724e4fbbb27b33e725429471",
        "IPY_MODEL_0ceb29c7e3dc48f79b76a5113472a970",
        "IPY_MODEL_cc1014880965453cb49065e7fed8ddd3"
       ],
       "layout": "IPY_MODEL_ee10c47df034456b96951498ed4566a4"
      }
     },
     "18a745749f3b4e84b3e44e07c4275098": {
      "model_module": "@jupyter-widgets/base",
      "model_module_version": "2.0.0",
      "model_name": "LayoutModel",
      "state": {}
     },
     "1d68c18f48a1438d9098239ac76eeecb": {
      "model_module": "@jupyter-widgets/base",
      "model_module_version": "2.0.0",
      "model_name": "LayoutModel",
      "state": {}
     },
     "1e77e9edae684227af694d22d338bd39": {
      "model_module": "@jupyter-widgets/controls",
      "model_module_version": "2.0.0",
      "model_name": "HTMLStyleModel",
      "state": {
       "description_width": "",
       "font_size": null,
       "text_color": null
      }
     },
     "22713b9fa08e49e4b36c5c4f5743942d": {
      "model_module": "@jupyter-widgets/controls",
      "model_module_version": "2.0.0",
      "model_name": "FloatProgressModel",
      "state": {
       "bar_style": "success",
       "layout": "IPY_MODEL_18a745749f3b4e84b3e44e07c4275098",
       "max": 10000,
       "style": "IPY_MODEL_fc0d98a608564043bb4df67b7bc79a0e",
       "value": 10000
      }
     },
     "2369c4273f614f6698382bd4c204e77e": {
      "model_module": "@jupyter-widgets/controls",
      "model_module_version": "2.0.0",
      "model_name": "FloatProgressModel",
      "state": {
       "bar_style": "success",
       "layout": "IPY_MODEL_c2fc7e2c653b4900ac40c43b1a8ff8ee",
       "max": 10000,
       "style": "IPY_MODEL_fe77263b4393417bb233aad9256c3db6",
       "value": 10000
      }
     },
     "26c31ee3b8b1423492f5e5868a3f8df5": {
      "model_module": "@jupyter-widgets/base",
      "model_module_version": "2.0.0",
      "model_name": "LayoutModel",
      "state": {}
     },
     "2b2bfbd3097a41db9314fcc8152c8059": {
      "model_module": "@jupyter-widgets/controls",
      "model_module_version": "2.0.0",
      "model_name": "HTMLStyleModel",
      "state": {
       "description_width": "",
       "font_size": null,
       "text_color": null
      }
     },
     "2cd469ad75a641f78322c869431566b8": {
      "model_module": "@jupyter-widgets/base",
      "model_module_version": "2.0.0",
      "model_name": "LayoutModel",
      "state": {}
     },
     "2fe7d3223e724f06aac461670dd0f55b": {
      "model_module": "@jupyter-widgets/base",
      "model_module_version": "2.0.0",
      "model_name": "LayoutModel",
      "state": {}
     },
     "325015f6f878487ba5829facb6c7119c": {
      "model_module": "@jupyter-widgets/controls",
      "model_module_version": "2.0.0",
      "model_name": "HBoxModel",
      "state": {
       "children": [
        "IPY_MODEL_6ea20290915042b1bc0b5b754aff97fe",
        "IPY_MODEL_2369c4273f614f6698382bd4c204e77e",
        "IPY_MODEL_02df72f7074143ffac9668b70a68f347"
       ],
       "layout": "IPY_MODEL_620758046a06451a8b9c69a23b90e448"
      }
     },
     "33da69ff77c044b6b702ba873cad2819": {
      "model_module": "@jupyter-widgets/base",
      "model_module_version": "2.0.0",
      "model_name": "LayoutModel",
      "state": {}
     },
     "35c32eae0c464f37b48be4c2b7cfaf85": {
      "model_module": "@jupyter-widgets/controls",
      "model_module_version": "2.0.0",
      "model_name": "HTMLModel",
      "state": {
       "layout": "IPY_MODEL_26c31ee3b8b1423492f5e5868a3f8df5",
       "style": "IPY_MODEL_b9633d36687c411fad8732b7d9386639",
       "value": " 10000/10000 [00:09&lt;00:00, 1012.04it/s]"
      }
     },
     "36627333202848e784226ea179d73b80": {
      "model_module": "@jupyter-widgets/base",
      "model_module_version": "2.0.0",
      "model_name": "LayoutModel",
      "state": {}
     },
     "44b2fb9855464b6f9d81a035d520afc4": {
      "model_module": "@jupyter-widgets/base",
      "model_module_version": "2.0.0",
      "model_name": "LayoutModel",
      "state": {}
     },
     "4dfab14fdb2c437196d5722a704daa08": {
      "model_module": "@jupyter-widgets/controls",
      "model_module_version": "2.0.0",
      "model_name": "ProgressStyleModel",
      "state": {
       "description_width": ""
      }
     },
     "5410d74259d64ef4b5540c853e08845d": {
      "model_module": "@jupyter-widgets/base",
      "model_module_version": "2.0.0",
      "model_name": "LayoutModel",
      "state": {}
     },
     "59266cfbedf14c71b3c83c9c24b57840": {
      "model_module": "@jupyter-widgets/controls",
      "model_module_version": "2.0.0",
      "model_name": "HBoxModel",
      "state": {
       "children": [
        "IPY_MODEL_96ef56d3074d4c05be57f100e88ad34c",
        "IPY_MODEL_a8f3c14e9edf49999e0031a4fb911a8b",
        "IPY_MODEL_7cda682da72642689372f07f365df7ba"
       ],
       "layout": "IPY_MODEL_63b5a06ba4dc4e5daf53f4f550c2b6df"
      }
     },
     "620758046a06451a8b9c69a23b90e448": {
      "model_module": "@jupyter-widgets/base",
      "model_module_version": "2.0.0",
      "model_name": "LayoutModel",
      "state": {}
     },
     "6373f9aaa94e4c68a0a739e4481d15c7": {
      "model_module": "@jupyter-widgets/controls",
      "model_module_version": "2.0.0",
      "model_name": "HTMLStyleModel",
      "state": {
       "description_width": "",
       "font_size": null,
       "text_color": null
      }
     },
     "63b5a06ba4dc4e5daf53f4f550c2b6df": {
      "model_module": "@jupyter-widgets/base",
      "model_module_version": "2.0.0",
      "model_name": "LayoutModel",
      "state": {}
     },
     "67696e717df241189673087701199297": {
      "model_module": "@jupyter-widgets/controls",
      "model_module_version": "2.0.0",
      "model_name": "HTMLModel",
      "state": {
       "layout": "IPY_MODEL_2fe7d3223e724f06aac461670dd0f55b",
       "style": "IPY_MODEL_6373f9aaa94e4c68a0a739e4481d15c7",
       "value": " 10000/10000 [00:05&lt;00:00, 1852.03it/s]"
      }
     },
     "6dfed8e946394cbfb8f698d47fa9adb1": {
      "model_module": "@jupyter-widgets/controls",
      "model_module_version": "2.0.0",
      "model_name": "HTMLModel",
      "state": {
       "layout": "IPY_MODEL_c0c81ba3b882464a9e3bc1578eb71c72",
       "style": "IPY_MODEL_0922752dfbac4feca7dcc940a44e7be4",
       "value": "100%"
      }
     },
     "6ea20290915042b1bc0b5b754aff97fe": {
      "model_module": "@jupyter-widgets/controls",
      "model_module_version": "2.0.0",
      "model_name": "HTMLModel",
      "state": {
       "layout": "IPY_MODEL_1685e914853c4021be1bd2e25d8486c1",
       "style": "IPY_MODEL_1e77e9edae684227af694d22d338bd39",
       "value": "100%"
      }
     },
     "6f5bc503cd3b426b886504dec0e7a83d": {
      "model_module": "@jupyter-widgets/controls",
      "model_module_version": "2.0.0",
      "model_name": "HTMLStyleModel",
      "state": {
       "description_width": "",
       "font_size": null,
       "text_color": null
      }
     },
     "73b82fee4dec4961b5001c62be6d4867": {
      "model_module": "@jupyter-widgets/controls",
      "model_module_version": "2.0.0",
      "model_name": "HTMLStyleModel",
      "state": {
       "description_width": "",
       "font_size": null,
       "text_color": null
      }
     },
     "7cda682da72642689372f07f365df7ba": {
      "model_module": "@jupyter-widgets/controls",
      "model_module_version": "2.0.0",
      "model_name": "HTMLModel",
      "state": {
       "layout": "IPY_MODEL_5410d74259d64ef4b5540c853e08845d",
       "style": "IPY_MODEL_73b82fee4dec4961b5001c62be6d4867",
       "value": " 4/4 [00:25&lt;00:00,  6.49s/it]"
      }
     },
     "80b82f995eb84954a20c5d14ee16c8ee": {
      "model_module": "@jupyter-widgets/controls",
      "model_module_version": "2.0.0",
      "model_name": "HBoxModel",
      "state": {
       "children": [
        "IPY_MODEL_b32e41b8112242818092669d858c7244",
        "IPY_MODEL_22713b9fa08e49e4b36c5c4f5743942d",
        "IPY_MODEL_35c32eae0c464f37b48be4c2b7cfaf85"
       ],
       "layout": "IPY_MODEL_33da69ff77c044b6b702ba873cad2819"
      }
     },
     "8defe0245e5b48258e09663e2da8a93b": {
      "model_module": "@jupyter-widgets/base",
      "model_module_version": "2.0.0",
      "model_name": "LayoutModel",
      "state": {}
     },
     "8ea82603d92b4310bb6932e8de854f62": {
      "model_module": "@jupyter-widgets/controls",
      "model_module_version": "2.0.0",
      "model_name": "HTMLStyleModel",
      "state": {
       "description_width": "",
       "font_size": null,
       "text_color": null
      }
     },
     "96ef56d3074d4c05be57f100e88ad34c": {
      "model_module": "@jupyter-widgets/controls",
      "model_module_version": "2.0.0",
      "model_name": "HTMLModel",
      "state": {
       "layout": "IPY_MODEL_44b2fb9855464b6f9d81a035d520afc4",
       "style": "IPY_MODEL_bf1470717dc8496785b8eafd677abc81",
       "value": "100%"
      }
     },
     "97c7db7e22f34ccb84c423dc28289e1f": {
      "model_module": "@jupyter-widgets/base",
      "model_module_version": "2.0.0",
      "model_name": "LayoutModel",
      "state": {}
     },
     "a8f3c14e9edf49999e0031a4fb911a8b": {
      "model_module": "@jupyter-widgets/controls",
      "model_module_version": "2.0.0",
      "model_name": "FloatProgressModel",
      "state": {
       "bar_style": "success",
       "layout": "IPY_MODEL_1d68c18f48a1438d9098239ac76eeecb",
       "max": 4,
       "style": "IPY_MODEL_4dfab14fdb2c437196d5722a704daa08",
       "value": 4
      }
     },
     "aa7711b103384a47993bbe1074186875": {
      "model_module": "@jupyter-widgets/controls",
      "model_module_version": "2.0.0",
      "model_name": "ProgressStyleModel",
      "state": {
       "description_width": ""
      }
     },
     "b30f5566b3004c2f8b4554761c8236e1": {
      "model_module": "@jupyter-widgets/controls",
      "model_module_version": "2.0.0",
      "model_name": "HTMLStyleModel",
      "state": {
       "description_width": "",
       "font_size": null,
       "text_color": null
      }
     },
     "b32e41b8112242818092669d858c7244": {
      "model_module": "@jupyter-widgets/controls",
      "model_module_version": "2.0.0",
      "model_name": "HTMLModel",
      "state": {
       "layout": "IPY_MODEL_2cd469ad75a641f78322c869431566b8",
       "style": "IPY_MODEL_b30f5566b3004c2f8b4554761c8236e1",
       "value": "100%"
      }
     },
     "b9633d36687c411fad8732b7d9386639": {
      "model_module": "@jupyter-widgets/controls",
      "model_module_version": "2.0.0",
      "model_name": "HTMLStyleModel",
      "state": {
       "description_width": "",
       "font_size": null,
       "text_color": null
      }
     },
     "b9dd989b24ff4350b2b989d784cc6662": {
      "model_module": "@jupyter-widgets/base",
      "model_module_version": "2.0.0",
      "model_name": "LayoutModel",
      "state": {}
     },
     "bf1470717dc8496785b8eafd677abc81": {
      "model_module": "@jupyter-widgets/controls",
      "model_module_version": "2.0.0",
      "model_name": "HTMLStyleModel",
      "state": {
       "description_width": "",
       "font_size": null,
       "text_color": null
      }
     },
     "c0c81ba3b882464a9e3bc1578eb71c72": {
      "model_module": "@jupyter-widgets/base",
      "model_module_version": "2.0.0",
      "model_name": "LayoutModel",
      "state": {}
     },
     "c2fc7e2c653b4900ac40c43b1a8ff8ee": {
      "model_module": "@jupyter-widgets/base",
      "model_module_version": "2.0.0",
      "model_name": "LayoutModel",
      "state": {}
     },
     "cbb5a0cc59bf472b96206e56e3923c76": {
      "model_module": "@jupyter-widgets/controls",
      "model_module_version": "2.0.0",
      "model_name": "FloatProgressModel",
      "state": {
       "bar_style": "success",
       "layout": "IPY_MODEL_b9dd989b24ff4350b2b989d784cc6662",
       "max": 10000,
       "style": "IPY_MODEL_aa7711b103384a47993bbe1074186875",
       "value": 10000
      }
     },
     "cc1014880965453cb49065e7fed8ddd3": {
      "model_module": "@jupyter-widgets/controls",
      "model_module_version": "2.0.0",
      "model_name": "HTMLModel",
      "state": {
       "layout": "IPY_MODEL_eb6fa90f83e646e28e9e0dd0306601d5",
       "style": "IPY_MODEL_2b2bfbd3097a41db9314fcc8152c8059",
       "value": " 10000/10000 [00:02&lt;00:00, 3561.39it/s]"
      }
     },
     "d7baca70724e4fbbb27b33e725429471": {
      "model_module": "@jupyter-widgets/controls",
      "model_module_version": "2.0.0",
      "model_name": "HTMLModel",
      "state": {
       "layout": "IPY_MODEL_d85404f39b4947869d95e7eede2e13af",
       "style": "IPY_MODEL_8ea82603d92b4310bb6932e8de854f62",
       "value": "100%"
      }
     },
     "d85404f39b4947869d95e7eede2e13af": {
      "model_module": "@jupyter-widgets/base",
      "model_module_version": "2.0.0",
      "model_name": "LayoutModel",
      "state": {}
     },
     "e6a9afdf4b3748cda46fd56cef11c856": {
      "model_module": "@jupyter-widgets/controls",
      "model_module_version": "2.0.0",
      "model_name": "ProgressStyleModel",
      "state": {
       "description_width": ""
      }
     },
     "eb6fa90f83e646e28e9e0dd0306601d5": {
      "model_module": "@jupyter-widgets/base",
      "model_module_version": "2.0.0",
      "model_name": "LayoutModel",
      "state": {}
     },
     "ee10c47df034456b96951498ed4566a4": {
      "model_module": "@jupyter-widgets/base",
      "model_module_version": "2.0.0",
      "model_name": "LayoutModel",
      "state": {}
     },
     "fc0d98a608564043bb4df67b7bc79a0e": {
      "model_module": "@jupyter-widgets/controls",
      "model_module_version": "2.0.0",
      "model_name": "ProgressStyleModel",
      "state": {
       "description_width": ""
      }
     },
     "fe77263b4393417bb233aad9256c3db6": {
      "model_module": "@jupyter-widgets/controls",
      "model_module_version": "2.0.0",
      "model_name": "ProgressStyleModel",
      "state": {
       "description_width": ""
      }
     }
    },
    "version_major": 2,
    "version_minor": 0
   }
  }
 },
 "nbformat": 4,
 "nbformat_minor": 4
}
