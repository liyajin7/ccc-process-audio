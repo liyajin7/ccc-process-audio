{
 "cells": [
  {
   "cell_type": "code",
   "execution_count": null,
   "metadata": {},
   "outputs": [],
   "source": [
    "import os\n",
    "import logging\n",
    "\n",
    "import psycopg2\n",
    "import community\n",
    "import numpy as np\n",
    "import pandas as pd\n",
    "import networkx as nx\n",
    "\n",
    "import matplotlib as mp\n",
    "%matplotlib inline\n",
    "import matplotlib.pyplot as plt\n",
    "\n",
    "from IPython.display import display\n",
    "\n",
    "from tqdm.notebook import tqdm\n",
    "\n",
    "from nltk.corpus import stopwords as sw\n",
    "\n",
    "from pandasql import sqldf\n",
    "pysqldf = lambda q: sqldf(q, globals())\n",
    "\n",
    "import utils as ut"
   ]
  },
  {
   "cell_type": "code",
   "execution_count": null,
   "metadata": {},
   "outputs": [],
   "source": [
    "fmt = '%(asctime)s : %(levelname)s : %(message)s'\n",
    "logging.basicConfig(format=fmt, level=logging.INFO)\n",
    "logger = logging.getLogger(__name__)"
   ]
  },
  {
   "cell_type": "code",
   "execution_count": null,
   "metadata": {},
   "outputs": [],
   "source": [
    "pd.options.display.max_rows = 100\n",
    "pd.options.display.max_colwidth = None"
   ]
  },
  {
   "cell_type": "code",
   "execution_count": null,
   "metadata": {},
   "outputs": [],
   "source": [
    "os.chdir(os.path.expanduser('~/github/masthesis/'))"
   ]
  },
  {
   "cell_type": "code",
   "execution_count": null,
   "metadata": {},
   "outputs": [],
   "source": [
    "os.makedirs('data/twitter/community/', exist_ok=True)"
   ]
  },
  {
   "cell_type": "markdown",
   "metadata": {},
   "source": [
    "# Load data"
   ]
  },
  {
   "cell_type": "markdown",
   "metadata": {},
   "source": [
    "### User profile data"
   ]
  },
  {
   "cell_type": "code",
   "execution_count": null,
   "metadata": {},
   "outputs": [],
   "source": [
    "user_data = pd.read_csv('data/samples/twitter/user-data.csv', index_col='user_id')\n",
    "display(user_data.shape)"
   ]
  },
  {
   "cell_type": "code",
   "execution_count": null,
   "metadata": {},
   "outputs": [],
   "source": [
    "user_show = pd.read_csv('data/samples/twitter/user-show.csv')\n",
    "display(user_show.shape)"
   ]
  },
  {
   "cell_type": "markdown",
   "metadata": {},
   "source": [
    "### Follow graph"
   ]
  },
  {
   "cell_type": "code",
   "execution_count": null,
   "metadata": {},
   "outputs": [],
   "source": [
    "follow_graph = pd.read_csv('data/samples/twitter/follow-graph.csv')\n",
    "follow_graph = follow_graph.rename({'source_user_id': 'source', 'target_user_id': 'target'}, axis=1)\n",
    "\n",
    "fg = nx.from_pandas_edgelist(follow_graph, source='source', target='target',\n",
    "                             edge_attr=None, create_using=nx.DiGraph())\n",
    "\n",
    "display(follow_graph.shape)"
   ]
  },
  {
   "cell_type": "code",
   "execution_count": null,
   "metadata": {},
   "outputs": [],
   "source": [
    "follow_graph.head()"
   ]
  },
  {
   "cell_type": "code",
   "execution_count": null,
   "metadata": {},
   "outputs": [],
   "source": [
    "fg.order()"
   ]
  },
  {
   "cell_type": "code",
   "execution_count": null,
   "metadata": {},
   "outputs": [],
   "source": [
    "fg.size()"
   ]
  },
  {
   "cell_type": "markdown",
   "metadata": {},
   "source": [
    "# Confirm connectivity"
   ]
  },
  {
   "cell_type": "code",
   "execution_count": null,
   "metadata": {},
   "outputs": [],
   "source": [
    "ucomps = [x for x in nx.connected_components(fg.to_undirected())]\n",
    "display(len(ucomps))"
   ]
  },
  {
   "cell_type": "code",
   "execution_count": null,
   "metadata": {},
   "outputs": [],
   "source": [
    "scomps = [x for x in nx.strongly_connected_components(fg)]\n",
    "display(len(scomps))"
   ]
  },
  {
   "cell_type": "code",
   "execution_count": null,
   "metadata": {},
   "outputs": [],
   "source": [
    "pd.Series([len(x) for x in scomps]).value_counts()"
   ]
  },
  {
   "cell_type": "markdown",
   "metadata": {},
   "source": [
    "# Community detection + centrality"
   ]
  },
  {
   "cell_type": "markdown",
   "metadata": {},
   "source": [
    "## Graph as-is"
   ]
  },
  {
   "cell_type": "code",
   "execution_count": null,
   "metadata": {},
   "outputs": [],
   "source": [
    "partition = community.best_partition(fg.to_undirected())\n",
    "partition = pd.Series(partition, name='community')\n",
    "\n",
    "comms = pd.DataFrame(partition).merge(user_data[['screen_name', 'name', 'description', 'location', 'is_radio']],\n",
    "                                      how='inner', left_index=True, right_index=True)\n",
    "comms.index.name = 'user_id'"
   ]
  },
  {
   "cell_type": "code",
   "execution_count": null,
   "metadata": {},
   "outputs": [],
   "source": [
    "comms.community.value_counts()"
   ]
  },
  {
   "cell_type": "code",
   "execution_count": null,
   "metadata": {},
   "outputs": [],
   "source": [
    "comms.loc[comms.is_radio, 'community'].value_counts()"
   ]
  },
  {
   "cell_type": "code",
   "execution_count": null,
   "metadata": {},
   "outputs": [],
   "source": [
    "comms.sample(frac=1).groupby('community').head(10).sort_values('community')"
   ]
  },
  {
   "cell_type": "markdown",
   "metadata": {},
   "source": [
    "## Quotient graph collapsing shows\n",
    "\n",
    "The `nx.quotient_graph()` function is very, very slow..."
   ]
  },
  {
   "cell_type": "code",
   "execution_count": null,
   "metadata": {},
   "outputs": [],
   "source": [
    "qg = fg.to_undirected().copy()"
   ]
  },
  {
   "cell_type": "code",
   "execution_count": null,
   "metadata": {},
   "outputs": [],
   "source": [
    "for sh in user_show.show_id.unique():\n",
    "    nodes = {i for i in user_show.loc[user_show.show_id == sh, 'user_id']}\n",
    "    \n",
    "    rep = list(nodes)[0]\n",
    "    for n in nodes - {rep}:\n",
    "        if n not in qg.nodes: # has no followers\n",
    "            continue\n",
    "        \n",
    "        edges = list(qg.edges(n))\n",
    "        for e1, e2 in edges:\n",
    "            assert e1 == n\n",
    "\n",
    "            if e2 == rep:\n",
    "                continue\n",
    "            else:\n",
    "                qg.add_edge(rep, e2)\n",
    "        \n",
    "        qg.remove_node(n)"
   ]
  },
  {
   "cell_type": "code",
   "execution_count": null,
   "metadata": {},
   "outputs": [],
   "source": [
    "qpartition = community.best_partition(qg)\n",
    "qpartition = pd.Series(qpartition, name='community')\n",
    "\n",
    "qcomms = pd.DataFrame(qpartition).merge(user_data[['screen_name', 'name', 'description', 'location', 'is_radio']],\n",
    "                                        how='inner', left_index=True, right_index=True)\n",
    "qcomms.index.name = 'user_id'"
   ]
  },
  {
   "cell_type": "code",
   "execution_count": null,
   "metadata": {},
   "outputs": [],
   "source": [
    "qcomms.community.value_counts()"
   ]
  },
  {
   "cell_type": "code",
   "execution_count": null,
   "metadata": {},
   "outputs": [],
   "source": [
    "qcomms.loc[qcomms.is_radio, 'community'].value_counts()"
   ]
  },
  {
   "cell_type": "code",
   "execution_count": null,
   "metadata": {},
   "outputs": [],
   "source": [
    "qcomms.sample(frac=1).groupby('community').head(10).sort_values('community')"
   ]
  },
  {
   "cell_type": "markdown",
   "metadata": {},
   "source": [
    "## Betweenness centrality"
   ]
  },
  {
   "cell_type": "code",
   "execution_count": null,
   "metadata": {},
   "outputs": [],
   "source": [
    "bc = pd.Series(nx.betweenness_centrality(fg), name='centrality')\n",
    "bc = pd.DataFrame(bc).reset_index().rename({'index': 'user_id'}, axis=1).set_index('user_id')"
   ]
  },
  {
   "cell_type": "code",
   "execution_count": null,
   "metadata": {},
   "outputs": [],
   "source": [
    "qbc = pd.Series(nx.betweenness_centrality(qg), name='centrality')\n",
    "qbc = pd.DataFrame(qbc).reset_index().rename({'index': 'user_id'}, axis=1).set_index('user_id')"
   ]
  },
  {
   "cell_type": "markdown",
   "metadata": {},
   "source": [
    "# Match to shows"
   ]
  },
  {
   "cell_type": "markdown",
   "metadata": {},
   "source": [
    "## Graph as-is"
   ]
  },
  {
   "cell_type": "code",
   "execution_count": null,
   "metadata": {},
   "outputs": [],
   "source": [
    "rcomms = comms.merge(user_show, how='inner', right_on='user_id', left_index=True)"
   ]
  },
  {
   "cell_type": "code",
   "execution_count": null,
   "metadata": {},
   "outputs": [],
   "source": [
    "rcomms.community.value_counts()"
   ]
  },
  {
   "cell_type": "code",
   "execution_count": null,
   "metadata": {},
   "outputs": [],
   "source": [
    "dupes = rcomms.groupby('show_id').community.nunique().sort_values()\n",
    "dupes = dupes[dupes > 1].index.tolist()\n",
    "\n",
    "rcomms.loc[rcomms.show_id.isin(dupes), ['show_id', 'show_name']].drop_duplicates()"
   ]
  },
  {
   "cell_type": "code",
   "execution_count": null,
   "metadata": {},
   "outputs": [],
   "source": [
    "show_community = rcomms.loc[~rcomms.show_id.isin(dupes), ['show_id', 'community']]\n",
    "show_community = show_community.reset_index().drop('index', axis=1).set_index('show_id').community"
   ]
  },
  {
   "cell_type": "code",
   "execution_count": null,
   "metadata": {},
   "outputs": [],
   "source": [
    "show_community.value_counts()"
   ]
  },
  {
   "cell_type": "markdown",
   "metadata": {},
   "source": [
    "## Quotient graph"
   ]
  },
  {
   "cell_type": "code",
   "execution_count": null,
   "metadata": {},
   "outputs": [],
   "source": [
    "rqcomms = qcomms.merge(user_show, how='inner', right_on='user_id', left_index=True)"
   ]
  },
  {
   "cell_type": "code",
   "execution_count": null,
   "metadata": {},
   "outputs": [],
   "source": [
    "rqcomms.community.value_counts()"
   ]
  },
  {
   "cell_type": "code",
   "execution_count": null,
   "metadata": {},
   "outputs": [],
   "source": [
    "dupes = rqcomms.groupby('show_id').community.nunique().sort_values()\n",
    "dupes = dupes[dupes > 1].index.tolist()\n",
    "\n",
    "rcomms.loc[rcomms.show_id.isin(dupes), ['show_id', 'show_name']].drop_duplicates()"
   ]
  },
  {
   "cell_type": "code",
   "execution_count": null,
   "metadata": {},
   "outputs": [],
   "source": [
    "qshow_community = rqcomms.loc[~rqcomms.show_id.isin(dupes), ['show_id', 'community']]\n",
    "qshow_community = qshow_community.reset_index().drop('index', axis=1).set_index('show_id').community"
   ]
  },
  {
   "cell_type": "code",
   "execution_count": null,
   "metadata": {},
   "outputs": [],
   "source": [
    "qshow_community.value_counts()"
   ]
  },
  {
   "cell_type": "markdown",
   "metadata": {},
   "source": [
    "## Betweenness centrality"
   ]
  },
  {
   "cell_type": "code",
   "execution_count": null,
   "metadata": {},
   "outputs": [],
   "source": [
    "bc_show = qbc.merge(user_show, how='inner', right_on='user_id', left_index=True)\n",
    "bc_show = bc_show[['show_id', 'centrality']].set_index('show_id')\n",
    "\n",
    "bc_show.head()"
   ]
  },
  {
   "cell_type": "code",
   "execution_count": null,
   "metadata": {},
   "outputs": [],
   "source": [
    "bc_show.centrality.hist(bins=50)"
   ]
  },
  {
   "cell_type": "markdown",
   "metadata": {},
   "source": [
    "# Write out data"
   ]
  },
  {
   "cell_type": "code",
   "execution_count": null,
   "metadata": {},
   "outputs": [],
   "source": [
    "nx.write_edgelist(qg, path='data/twitter/community/quotient-follow-graph.csv', delimiter=',')"
   ]
  },
  {
   "cell_type": "code",
   "execution_count": null,
   "metadata": {},
   "outputs": [],
   "source": [
    "comms[['community']].to_csv('data/twitter/community/follow-community-all.csv')"
   ]
  },
  {
   "cell_type": "code",
   "execution_count": null,
   "metadata": {},
   "outputs": [],
   "source": [
    "qcomms[['community']].to_csv('data/twitter/community/quotient-follow-community-all.csv')"
   ]
  },
  {
   "cell_type": "code",
   "execution_count": null,
   "metadata": {},
   "outputs": [],
   "source": [
    "bc.to_csv('data/twitter/community/follow-centrality.csv')"
   ]
  },
  {
   "cell_type": "code",
   "execution_count": null,
   "metadata": {},
   "outputs": [],
   "source": [
    "qbc.to_csv('data/twitter/community/quotient-follow-centrality.csv')"
   ]
  },
  {
   "cell_type": "code",
   "execution_count": null,
   "metadata": {},
   "outputs": [],
   "source": [
    "show_community.to_csv('data/twitter/community/follow-community-by-show.csv')"
   ]
  },
  {
   "cell_type": "code",
   "execution_count": null,
   "metadata": {},
   "outputs": [],
   "source": [
    "qshow_community.to_csv('data/twitter/community/quotient-follow-community-by-show.csv')"
   ]
  },
  {
   "cell_type": "code",
   "execution_count": null,
   "metadata": {},
   "outputs": [],
   "source": [
    "bc_show.to_csv('data/twitter/community/quotient-follow-centrality-by-show.csv')"
   ]
  },
  {
   "cell_type": "code",
   "execution_count": null,
   "metadata": {},
   "outputs": [],
   "source": []
  }
 ],
 "metadata": {
  "kernelspec": {
   "display_name": "DL",
   "language": "python",
   "name": "dl"
  },
  "language_info": {
   "codemirror_mode": {
    "name": "ipython",
    "version": 3
   },
   "file_extension": ".py",
   "mimetype": "text/x-python",
   "name": "python",
   "nbconvert_exporter": "python",
   "pygments_lexer": "ipython3",
   "version": "3.10.10"
  },
  "widgets": {
   "application/vnd.jupyter.widget-state+json": {
    "state": {},
    "version_major": 2,
    "version_minor": 0
   }
  }
 },
 "nbformat": 4,
 "nbformat_minor": 4
}
