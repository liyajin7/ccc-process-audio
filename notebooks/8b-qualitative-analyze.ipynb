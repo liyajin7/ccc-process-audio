{
 "cells": [
  {
   "cell_type": "code",
   "execution_count": null,
   "metadata": {
    "execution": {
     "iopub.execute_input": "2023-11-09T22:56:16.821421Z",
     "iopub.status.busy": "2023-11-09T22:56:16.821021Z",
     "iopub.status.idle": "2023-11-09T22:56:35.657838Z",
     "shell.execute_reply": "2023-11-09T22:56:35.656639Z"
    },
    "tags": []
   },
   "outputs": [],
   "source": [
    "import os\n",
    "import gzip\n",
    "import random\n",
    "import logging\n",
    "import itertools as it\n",
    "import multiprocessing\n",
    "\n",
    "import numpy as np\n",
    "import pandas as pd\n",
    "import scipy.stats as ss\n",
    "import statsmodels.formula.api as smf\n",
    "import statsmodels.stats.diagnostic as dg\n",
    "\n",
    "import seaborn as sns\n",
    "import matplotlib as mp\n",
    "%matplotlib inline\n",
    "import matplotlib.pyplot as plt\n",
    "\n",
    "from tqdm.notebook import tqdm\n",
    "\n",
    "from IPython.display import display"
   ]
  },
  {
   "cell_type": "code",
   "execution_count": null,
   "metadata": {
    "execution": {
     "iopub.execute_input": "2023-11-09T22:56:35.669603Z",
     "iopub.status.busy": "2023-11-09T22:56:35.668751Z",
     "iopub.status.idle": "2023-11-09T22:56:35.746532Z",
     "shell.execute_reply": "2023-11-09T22:56:35.745573Z"
    },
    "tags": []
   },
   "outputs": [],
   "source": [
    "logger = logging.getLogger(__name__)\n",
    "\n",
    "fmt = '%(asctime)s : %(levelname)s : %(message)s'\n",
    "logging.basicConfig(format=fmt, level=logging.INFO)"
   ]
  },
  {
   "cell_type": "code",
   "execution_count": null,
   "metadata": {
    "execution": {
     "iopub.execute_input": "2023-11-09T22:56:35.757077Z",
     "iopub.status.busy": "2023-11-09T22:56:35.756542Z",
     "iopub.status.idle": "2023-11-09T22:56:35.811146Z",
     "shell.execute_reply": "2023-11-09T22:56:35.765673Z"
    },
    "tags": []
   },
   "outputs": [],
   "source": [
    "os.chdir(os.path.expanduser('~/github/masthesis/'))"
   ]
  },
  {
   "cell_type": "code",
   "execution_count": null,
   "metadata": {
    "execution": {
     "iopub.execute_input": "2023-11-09T22:56:35.821787Z",
     "iopub.status.busy": "2023-11-09T22:56:35.819797Z",
     "iopub.status.idle": "2023-11-09T22:56:35.842526Z",
     "shell.execute_reply": "2023-11-09T22:56:35.837417Z"
    },
    "tags": []
   },
   "outputs": [],
   "source": [
    "seed = 2969591811\n",
    "\n",
    "random.seed(seed)\n",
    "np.random.seed(seed)"
   ]
  },
  {
   "cell_type": "code",
   "execution_count": null,
   "metadata": {
    "execution": {
     "iopub.execute_input": "2023-11-09T22:56:35.865044Z",
     "iopub.status.busy": "2023-11-09T22:56:35.862211Z",
     "iopub.status.idle": "2023-11-09T22:56:35.884040Z",
     "shell.execute_reply": "2023-11-09T22:56:35.882023Z"
    },
    "tags": []
   },
   "outputs": [],
   "source": [
    "pd.set_option('display.float_format', lambda x: '%.3f' % x)"
   ]
  },
  {
   "cell_type": "code",
   "execution_count": null,
   "metadata": {
    "execution": {
     "iopub.execute_input": "2023-11-09T22:56:35.900817Z",
     "iopub.status.busy": "2023-11-09T22:56:35.898550Z",
     "iopub.status.idle": "2023-11-09T22:56:35.918827Z",
     "shell.execute_reply": "2023-11-09T22:56:35.915564Z"
    },
    "tags": []
   },
   "outputs": [],
   "source": [
    "colors = sns.color_palette('colorblind', 10)\n",
    "\n",
    "elite_color = colors[3]\n",
    "radio_color = colors[0]\n",
    "decahose_color = colors[1]\n",
    "decahose2_color = colors[2]"
   ]
  },
  {
   "cell_type": "markdown",
   "metadata": {},
   "source": [
    "# Prep data"
   ]
  },
  {
   "cell_type": "markdown",
   "metadata": {},
   "source": [
    "## Load"
   ]
  },
  {
   "cell_type": "code",
   "execution_count": null,
   "metadata": {
    "execution": {
     "iopub.execute_input": "2023-11-09T22:56:35.945128Z",
     "iopub.status.busy": "2023-11-09T22:56:35.925897Z",
     "iopub.status.idle": "2023-11-09T22:56:35.959037Z",
     "shell.execute_reply": "2023-11-09T22:56:35.957497Z"
    },
    "tags": []
   },
   "outputs": [],
   "source": [
    "labels = [\n",
    "    'negative',\n",
    "    'emotional',\n",
    "    'outraged',\n",
    "]"
   ]
  },
  {
   "cell_type": "code",
   "execution_count": null,
   "metadata": {
    "execution": {
     "iopub.execute_input": "2023-11-09T22:56:35.975661Z",
     "iopub.status.busy": "2023-11-09T22:56:35.972996Z",
     "iopub.status.idle": "2023-11-09T22:56:43.952225Z",
     "shell.execute_reply": "2023-11-09T22:56:43.950714Z"
    },
    "tags": []
   },
   "outputs": [],
   "source": [
    "with gzip.open('data/paper-round-3/event-annotated/auto-qualitative-scores.csv.gz', 'rt') as f:\n",
    "    scores = pd.read_csv(f, sep='\\t', index_col='id')\n",
    "\n",
    "scores.shape"
   ]
  },
  {
   "cell_type": "code",
   "execution_count": null,
   "metadata": {
    "execution": {
     "iopub.execute_input": "2023-11-09T22:56:44.192167Z",
     "iopub.status.busy": "2023-11-09T22:56:44.191706Z",
     "iopub.status.idle": "2023-11-09T22:56:44.700183Z",
     "shell.execute_reply": "2023-11-09T22:56:44.693966Z"
    },
    "tags": []
   },
   "outputs": [],
   "source": [
    "stats = pd.read_csv('data/paper-round-3/event-annotated/auto-story-stats.csv', index_col='story_id')\n",
    "selected = pd.read_csv('data/paper-round-3/event-annotated/auto-sample-communities-filter-list.csv', index_col='story_id')\n",
    "\n",
    "assert stats.index.is_unique\n",
    "assert (stats.groupby(['year', 'kind']).size() == stats.groupby(['year', 'kind'])['group'].nunique()).all()\n",
    "assert selected.index.is_unique\n",
    "\n",
    "covid_threshold = 0.1\n",
    "selected['decahose_covid_2020'] = (selected['year'] == 2020) & (selected['kind'] == 'decahose') & (selected['covid'] >= covid_threshold)\n",
    "stats['decahose_covid_2020'] = selected['decahose_covid_2020']\n",
    "stats['decahose_covid_2020'] = stats['decahose_covid_2020'].fillna(False)\n",
    "\n",
    "scores['decahose_covid_2020'] = scores['story_id'].isin(stats.loc[stats['decahose_covid_2020']].index)\n",
    "\n",
    "del stats, selected"
   ]
  },
  {
   "cell_type": "markdown",
   "metadata": {},
   "source": [
    "## Format scores"
   ]
  },
  {
   "cell_type": "code",
   "execution_count": null,
   "metadata": {
    "execution": {
     "iopub.execute_input": "2023-11-09T22:56:44.727015Z",
     "iopub.status.busy": "2023-11-09T22:56:44.716507Z",
     "iopub.status.idle": "2023-11-09T22:56:47.617671Z",
     "shell.execute_reply": "2023-11-09T22:56:47.614070Z"
    },
    "tags": []
   },
   "outputs": [],
   "source": [
    "scores['frac_reltime'] = scores['reltime']\n",
    "\n",
    "scores = scores.merge(\n",
    "    scores \\\n",
    "        .groupby('story_id')['reltime'] \\\n",
    "        .min() \\\n",
    "        .reset_index() \\\n",
    "        .rename({'reltime': 'min_reltime'}, axis=1),\n",
    "    how='inner',\n",
    "    on='story_id'\n",
    ")\n",
    "scores['frac_reltime'] -= scores['min_reltime']\n",
    "\n",
    "scores['ws_reltime'] = scores['frac_reltime']\n",
    "\n",
    "scores = scores.merge(\n",
    "    scores \\\n",
    "        .groupby('story_id')['frac_reltime'] \\\n",
    "        .max() \\\n",
    "        .reset_index() \\\n",
    "        .rename({'frac_reltime': 'max_reltime'}, axis=1),\n",
    "    how='inner',\n",
    "    on='story_id'\n",
    ")\n",
    "scores['frac_reltime'] /= scores['max_reltime']\n",
    "\n",
    "scores = scores.drop(['min_reltime', 'max_reltime'], axis=1)"
   ]
  },
  {
   "cell_type": "code",
   "execution_count": null,
   "metadata": {
    "execution": {
     "iopub.execute_input": "2023-11-09T22:56:47.626749Z",
     "iopub.status.busy": "2023-11-09T22:56:47.624257Z",
     "iopub.status.idle": "2023-11-09T22:56:48.591867Z",
     "shell.execute_reply": "2023-11-09T22:56:48.580091Z"
    },
    "tags": []
   },
   "outputs": [],
   "source": [
    "scores = scores.merge(\n",
    "    scores \\\n",
    "        .groupby('story_id') \\\n",
    "        .size() \\\n",
    "        .reset_index() \\\n",
    "        .rename({0: 'n_items'}, axis=1),\n",
    "    how='inner',\n",
    "    on='story_id'\n",
    ")"
   ]
  },
  {
   "cell_type": "code",
   "execution_count": null,
   "metadata": {
    "execution": {
     "iopub.execute_input": "2023-11-09T22:56:48.601933Z",
     "iopub.status.busy": "2023-11-09T22:56:48.597048Z",
     "iopub.status.idle": "2023-11-09T22:56:50.520718Z",
     "shell.execute_reply": "2023-11-09T22:56:50.519772Z"
    },
    "tags": []
   },
   "outputs": [],
   "source": [
    "story_level = scores.groupby('story_id').mean(numeric_only=True).reset_index().drop('reltime', axis=1)\n",
    "story_level.rename({'frac_reltime': 'mean_frac_reltime', 'ws_reltime': 'mean_ws_reltime'}, axis=1, inplace=True)\n",
    "story_level['kind'] = story_level['story_id'].str.split('-').apply(lambda s: s[1])\n",
    "\n",
    "story_level.set_index('story_id', inplace=True)\n",
    "story_level['std_frac_reltime'] = scores.groupby('story_id')['frac_reltime'].std()\n",
    "story_level['std_ws_reltime'] = scores.groupby('story_id')['ws_reltime'].std()\n",
    "story_level['duration'] = scores.groupby('story_id')['reltime'].max() - scores.groupby('story_id')['reltime'].min()\n",
    "story_level.reset_index(inplace=True)\n",
    "\n",
    "# no decahose/firehose confusion\n",
    "assert set(scores['kind'].unique()) == set(story_level['kind'].unique())"
   ]
  },
  {
   "cell_type": "code",
   "execution_count": null,
   "metadata": {
    "execution": {
     "iopub.execute_input": "2023-11-09T22:56:50.552339Z",
     "iopub.status.busy": "2023-11-09T22:56:50.536339Z",
     "iopub.status.idle": "2023-11-09T22:56:51.045021Z",
     "shell.execute_reply": "2023-11-09T22:56:51.025566Z"
    },
    "tags": []
   },
   "outputs": [],
   "source": [
    "scores = scores.merge(\n",
    "    story_level[['story_id', 'duration']],\n",
    "    how='inner',\n",
    "    on='story_id'\n",
    ")"
   ]
  },
  {
   "cell_type": "code",
   "execution_count": null,
   "metadata": {
    "execution": {
     "iopub.execute_input": "2023-11-09T22:56:51.069051Z",
     "iopub.status.busy": "2023-11-09T22:56:51.066866Z",
     "iopub.status.idle": "2023-11-09T22:56:51.307371Z",
     "shell.execute_reply": "2023-11-09T22:56:51.306406Z"
    },
    "tags": []
   },
   "outputs": [],
   "source": [
    "for label in labels:\n",
    "    scores['logodds_' + label] = np.log(scores[label] / (1 - scores[label]))\n",
    "    story_level['logodds_' + label] = np.log(story_level[label] / (1 - story_level[label]))"
   ]
  },
  {
   "cell_type": "code",
   "execution_count": null,
   "metadata": {
    "execution": {
     "iopub.execute_input": "2023-11-09T22:56:51.352836Z",
     "iopub.status.busy": "2023-11-09T22:56:51.350647Z",
     "iopub.status.idle": "2023-11-09T22:56:51.573717Z",
     "shell.execute_reply": "2023-11-09T22:56:51.572566Z"
    },
    "tags": []
   },
   "outputs": [],
   "source": [
    "kind_median = scores.groupby('kind')['ws_reltime'].transform('median')\n",
    "scores['ws_reltime_quad'] = (scores['ws_reltime'] - kind_median) ** 2\n",
    "scores['frac_reltime_quad'] = (scores['frac_reltime'] - kind_median) ** 2"
   ]
  },
  {
   "cell_type": "markdown",
   "metadata": {},
   "source": [
    "# Analysis 1: Simple medium differences"
   ]
  },
  {
   "cell_type": "markdown",
   "metadata": {},
   "source": [
    "## Item-level"
   ]
  },
  {
   "cell_type": "code",
   "execution_count": null,
   "metadata": {
    "execution": {
     "iopub.execute_input": "2023-11-09T22:56:51.582640Z",
     "iopub.status.busy": "2023-11-09T22:56:51.582229Z",
     "iopub.status.idle": "2023-11-09T22:56:51.993522Z",
     "shell.execute_reply": "2023-11-09T22:56:51.992633Z"
    },
    "tags": []
   },
   "outputs": [],
   "source": [
    "scores.groupby('kind')[labels].mean().T"
   ]
  },
  {
   "cell_type": "code",
   "execution_count": null,
   "metadata": {
    "execution": {
     "iopub.execute_input": "2023-11-09T22:56:52.104166Z",
     "iopub.status.busy": "2023-11-09T22:56:52.023423Z",
     "iopub.status.idle": "2023-11-09T22:56:53.615739Z",
     "shell.execute_reply": "2023-11-09T22:56:53.612219Z"
    },
    "tags": []
   },
   "outputs": [],
   "source": [
    "scores[labels + ['kind']].groupby('kind').describe().T"
   ]
  },
  {
   "cell_type": "code",
   "execution_count": null,
   "metadata": {
    "execution": {
     "iopub.execute_input": "2023-11-09T22:56:53.663938Z",
     "iopub.status.busy": "2023-11-09T22:56:53.638632Z",
     "iopub.status.idle": "2023-11-09T22:57:14.225304Z",
     "shell.execute_reply": "2023-11-09T22:57:14.224068Z"
    },
    "tags": []
   },
   "outputs": [],
   "source": [
    "kinds = scores['kind'].unique()\n",
    "\n",
    "ttest_res = {}\n",
    "for kind1 in kinds:\n",
    "    for kind2 in kinds:\n",
    "        if kind1 <= kind2:\n",
    "            continue\n",
    "        \n",
    "        for label in labels:\n",
    "            ttest_res[(kind1, kind2, label)] = ss.mannwhitneyu(\n",
    "                scores.loc[scores['kind'] == kind1, label],\n",
    "                scores.loc[scores['kind'] == kind2, label],\n",
    "                \n",
    "                alternative='two-sided',\n",
    "                nan_policy='raise',\n",
    "            )\n",
    "ttest_res = pd.DataFrame([\n",
    "    {'kind1': k1, 'kind2': k2, 'label': l, 'statistic': test.statistic, 'pvalue': test.pvalue}\n",
    "    for (k1, k2, l), test in ttest_res.items()\n",
    "])\n",
    "\n",
    "ttest_res.sort_values(['label', 'kind1'])"
   ]
  },
  {
   "cell_type": "code",
   "execution_count": null,
   "metadata": {
    "execution": {
     "iopub.execute_input": "2023-11-09T22:57:14.273790Z",
     "iopub.status.busy": "2023-11-09T22:57:14.271729Z",
     "iopub.status.idle": "2023-11-09T22:57:14.314027Z",
     "shell.execute_reply": "2023-11-09T22:57:14.310179Z"
    },
    "tags": []
   },
   "outputs": [],
   "source": [
    "with pd.option_context('display.float_format', '{:,.10f}'.format):\n",
    "    display(ttest_res['pvalue'].describe())"
   ]
  },
  {
   "cell_type": "code",
   "execution_count": null,
   "metadata": {
    "execution": {
     "iopub.execute_input": "2023-11-09T22:57:14.326789Z",
     "iopub.status.busy": "2023-11-09T22:57:14.324415Z",
     "iopub.status.idle": "2023-11-09T22:57:14.395175Z",
     "shell.execute_reply": "2023-11-09T22:57:14.393828Z"
    }
   },
   "outputs": [],
   "source": [
    "alpha = 1 - ss.norm(0, 1).cdf(5)\n",
    "(ttest_res['pvalue'] <= alpha).all()"
   ]
  },
  {
   "cell_type": "code",
   "execution_count": null,
   "metadata": {
    "execution": {
     "iopub.execute_input": "2023-11-09T22:57:14.405705Z",
     "iopub.status.busy": "2023-11-09T22:57:14.402123Z",
     "iopub.status.idle": "2023-11-09T22:58:55.268055Z",
     "shell.execute_reply": "2023-11-09T22:58:55.266384Z"
    },
    "tags": []
   },
   "outputs": [],
   "source": [
    "# Test differences controlling for kind and year\n",
    "for label in labels:\n",
    "    print(smf.ols(f'logodds_{label} ~ kind + C(year)', data=scores).fit().summary())\n",
    "    print('\\n')"
   ]
  },
  {
   "cell_type": "code",
   "execution_count": null,
   "metadata": {
    "execution": {
     "iopub.execute_input": "2023-11-09T22:58:55.275148Z",
     "iopub.status.busy": "2023-11-09T22:58:55.274649Z",
     "iopub.status.idle": "2023-11-09T22:58:58.861593Z",
     "shell.execute_reply": "2023-11-09T22:58:58.851985Z"
    },
    "tags": []
   },
   "outputs": [],
   "source": [
    "alpha = 0.05\n",
    "\n",
    "tmp = scores.copy()\n",
    "tmp.loc[tmp['kind'] == 'decahose', 'kind'] = 'firehose'\n",
    "\n",
    "means = tmp.groupby('kind')[labels].mean().T\n",
    "means.columns = [c.title() for c in means.columns]\n",
    "means.index = [c.title() for c in means.index]\n",
    "means = means[['Firehose', 'Elite', 'Radio']]\n",
    "\n",
    "sems = tmp.groupby('kind')[labels].sem().T\n",
    "sems.columns = [c.title() for c in sems.columns]\n",
    "sems.index = [c.title() for c in sems.index]\n",
    "sems = sems[['Firehose', 'Elite', 'Radio']]\n",
    "\n",
    "# calculate the t-distribution multiplier for the given alpha\n",
    "fig, ax = plt.subplots(1, 1, figsize=(10, 10))\n",
    "\n",
    "t_multiplier = ss.t.ppf(1 - alpha / 2, tmp.shape[0] - 1)\n",
    "\n",
    "# means.plot(kind='bar', yerr=t_multiplier*sems, ax=ax, capsize=4, rot=0)\n",
    "\n",
    "x = np.arange(len(labels))\n",
    "width = 0.2  # Width of the bars\n",
    "ax.bar(x - width, means['Firehose'], width, yerr=t_multiplier*sems.iloc[0],\n",
    "       capsize=4, label='Firehose', color=decahose2_color, hatch='/')\n",
    "ax.bar(x, means['Elite'], width, yerr=t_multiplier*sems.iloc[0],\n",
    "       capsize=4, label='Elite', color=elite_color, hatch='-')\n",
    "ax.bar(x + width, means['Radio'], width, yerr=t_multiplier*sems.iloc[0],\n",
    "       capsize=4, label='Radio', color=radio_color, hatch='\\\\')\n",
    "\n",
    "ax.set_xticks([0, 1, 2])\n",
    "ax.set_xticklabels(means.index.tolist())\n",
    "\n",
    "ax.set_ylim(0.2, 0.8)\n",
    "\n",
    "ax.tick_params(axis='both', which='major', labelsize=12)\n",
    "ax.set_xlabel('Affect metric', fontsize=14, labelpad=12)\n",
    "ax.set_ylabel('Average probability', fontsize=14)\n",
    "\n",
    "ax.legend(fontsize=14, loc='upper left')\n",
    "\n",
    "fig.tight_layout()"
   ]
  },
  {
   "cell_type": "markdown",
   "metadata": {},
   "source": [
    "## Story-level"
   ]
  },
  {
   "cell_type": "code",
   "execution_count": null,
   "metadata": {
    "execution": {
     "iopub.execute_input": "2023-11-09T22:58:58.904366Z",
     "iopub.status.busy": "2023-11-09T22:58:58.892912Z",
     "iopub.status.idle": "2023-11-09T22:58:58.987008Z",
     "shell.execute_reply": "2023-11-09T22:58:58.985924Z"
    },
    "tags": []
   },
   "outputs": [],
   "source": [
    "story_level.groupby('kind')[labels].mean().T"
   ]
  },
  {
   "cell_type": "code",
   "execution_count": null,
   "metadata": {
    "execution": {
     "iopub.execute_input": "2023-11-09T22:58:58.996070Z",
     "iopub.status.busy": "2023-11-09T22:58:58.992173Z",
     "iopub.status.idle": "2023-11-09T22:58:59.243849Z",
     "shell.execute_reply": "2023-11-09T22:58:59.227511Z"
    },
    "tags": []
   },
   "outputs": [],
   "source": [
    "story_level[labels + ['kind']].groupby('kind').describe().T"
   ]
  },
  {
   "cell_type": "code",
   "execution_count": null,
   "metadata": {
    "execution": {
     "iopub.execute_input": "2023-11-09T22:58:59.273719Z",
     "iopub.status.busy": "2023-11-09T22:58:59.271620Z",
     "iopub.status.idle": "2023-11-09T22:58:59.745527Z",
     "shell.execute_reply": "2023-11-09T22:58:59.741037Z"
    },
    "tags": []
   },
   "outputs": [],
   "source": [
    "kinds = story_level['kind'].unique()\n",
    "\n",
    "ttest_res = {}\n",
    "for kind1 in kinds:\n",
    "    for kind2 in kinds:\n",
    "        if kind1 <= kind2:\n",
    "            continue\n",
    "        \n",
    "        for label in labels:\n",
    "            ttest_res[(kind1, kind2, label)] = ss.mannwhitneyu(\n",
    "                story_level.loc[story_level['kind'] == kind1, label],\n",
    "                story_level.loc[story_level['kind'] == kind2, label],\n",
    "                alternative='two-sided',\n",
    "                nan_policy='raise',\n",
    "            )\n",
    "ttest_res = pd.DataFrame([\n",
    "    {'kind1': k1, 'kind2': k2, 'label': l, 'statistic': test.statistic, 'pvalue': test.pvalue}\n",
    "    for (k1, k2, l), test in ttest_res.items()\n",
    "])\n",
    "\n",
    "ttest_res.sort_values(['label', 'kind1'])"
   ]
  },
  {
   "cell_type": "code",
   "execution_count": null,
   "metadata": {
    "execution": {
     "iopub.execute_input": "2023-11-09T22:58:59.754630Z",
     "iopub.status.busy": "2023-11-09T22:58:59.752885Z",
     "iopub.status.idle": "2023-11-09T22:58:59.803834Z",
     "shell.execute_reply": "2023-11-09T22:58:59.784594Z"
    },
    "tags": []
   },
   "outputs": [],
   "source": [
    "with pd.option_context('display.float_format', '{:,.10f}'.format):\n",
    "    display(ttest_res['pvalue'].describe())"
   ]
  },
  {
   "cell_type": "code",
   "execution_count": null,
   "metadata": {
    "execution": {
     "iopub.execute_input": "2023-11-09T22:58:59.849543Z",
     "iopub.status.busy": "2023-11-09T22:58:59.825714Z",
     "iopub.status.idle": "2023-11-09T22:58:59.882749Z",
     "shell.execute_reply": "2023-11-09T22:58:59.881710Z"
    }
   },
   "outputs": [],
   "source": [
    "alpha = 1 - ss.norm(0, 1).cdf(5)\n",
    "(ttest_res['pvalue'] <= alpha).all()"
   ]
  },
  {
   "cell_type": "code",
   "execution_count": null,
   "metadata": {
    "execution": {
     "iopub.execute_input": "2023-11-09T22:58:59.895668Z",
     "iopub.status.busy": "2023-11-09T22:58:59.893068Z",
     "iopub.status.idle": "2023-11-09T22:59:00.125671Z",
     "shell.execute_reply": "2023-11-09T22:59:00.124722Z"
    },
    "tags": []
   },
   "outputs": [],
   "source": [
    "# Test differences controlling for kind and year\n",
    "for label in labels:\n",
    "    print(smf.ols(f'logodds_{label} ~ kind + C(year)', data=story_level).fit().summary())\n",
    "    print('\\n')"
   ]
  },
  {
   "cell_type": "code",
   "execution_count": null,
   "metadata": {
    "execution": {
     "iopub.execute_input": "2023-11-09T22:59:00.163033Z",
     "iopub.status.busy": "2023-11-09T22:59:00.161258Z",
     "iopub.status.idle": "2023-11-09T22:59:01.479050Z",
     "shell.execute_reply": "2023-11-09T22:59:01.477969Z"
    },
    "tags": []
   },
   "outputs": [],
   "source": [
    "alpha = 0.05\n",
    "\n",
    "tmp = story_level.copy()\n",
    "tmp.loc[tmp['kind'] == 'decahose', 'kind'] = 'firehose'\n",
    "\n",
    "means = tmp.groupby('kind')[labels].mean().T\n",
    "means.columns = [c.title() for c in means.columns]\n",
    "means.index = [c.title() for c in means.index]\n",
    "means = means[['Firehose', 'Elite', 'Radio']]\n",
    "\n",
    "sems = tmp.groupby('kind')[labels].sem().T\n",
    "sems.columns = [c.title() for c in sems.columns]\n",
    "sems.index = [c.title() for c in sems.index]\n",
    "sems = sems[['Firehose', 'Elite', 'Radio']]\n",
    "\n",
    "# calculate the t-distribution multiplier for the given alpha\n",
    "fig, ax = plt.subplots(1, 1, figsize=(10, 10))\n",
    "\n",
    "t_multiplier = ss.t.ppf(1 - alpha / 2, tmp.shape[0] - 1)\n",
    "\n",
    "# means.plot(kind='bar', yerr=t_multiplier*sems, ax=ax, capsize=4, rot=0)\n",
    "\n",
    "x = np.arange(len(labels))\n",
    "width = 0.2  # Width of the bars\n",
    "ax.bar(x - width, means['Firehose'], width, yerr=t_multiplier*sems.iloc[0],\n",
    "       capsize=4, label='Firehose', color=decahose2_color, hatch='/')\n",
    "ax.bar(x, means['Elite'], width, yerr=t_multiplier*sems.iloc[0],\n",
    "       capsize=4, label='Elite', color=elite_color, hatch='-')\n",
    "ax.bar(x + width, means['Radio'], width, yerr=t_multiplier*sems.iloc[0],\n",
    "       capsize=4, label='Radio', color=radio_color, hatch='\\\\')\n",
    "\n",
    "ax.set_xticks([0, 1, 2])\n",
    "ax.set_ylim(0.2, 0.8)\n",
    "\n",
    "ax.set_xticklabels(means.index.tolist(), fontsize=16)\n",
    "ax.tick_params(axis='both', which='major', labelsize=16)\n",
    "\n",
    "ax.set_xlabel('Affect metric', fontsize=18, labelpad=18)\n",
    "ax.set_ylabel('Average probability', fontsize=18)\n",
    "\n",
    "ax.legend(fontsize=16, loc=(0.16, 0.86))\n",
    "\n",
    "fig.tight_layout()"
   ]
  },
  {
   "cell_type": "markdown",
   "metadata": {},
   "source": [
    "### Table for paper"
   ]
  },
  {
   "cell_type": "code",
   "execution_count": null,
   "metadata": {
    "execution": {
     "iopub.execute_input": "2023-11-09T22:59:01.483957Z",
     "iopub.status.busy": "2023-11-09T22:59:01.483569Z",
     "iopub.status.idle": "2023-11-09T22:59:02.776834Z",
     "shell.execute_reply": "2023-11-09T22:59:02.773485Z"
    },
    "tags": []
   },
   "outputs": [],
   "source": [
    "tmp = story_level \\\n",
    "    .groupby('kind') \\\n",
    "    [['negative', 'emotional', 'outraged']] \\\n",
    "    .mean() \\\n",
    "    .T \\\n",
    "    .rename({'elite': 'Elite Twitter', 'decahose': 'Firehose'}, axis=1)\n",
    "\n",
    "tmp.index.name = None\n",
    "tmp.columns.name = None\n",
    "\n",
    "tmp.index = pd.Index([c.title() for c in tmp.index])\n",
    "tmp.columns = pd.Index([c.title() for c in tmp.columns])\n",
    "\n",
    "print(tmp.style.format(precision=3).to_latex(\n",
    "    hrules=True,\n",
    "    position='ht',\n",
    "    label='tab:affect-metrics',\n",
    "))"
   ]
  },
  {
   "cell_type": "markdown",
   "metadata": {},
   "source": [
    "# Analysis 2: Within a story, is there a time trend of affect?\n",
    "\n",
    "Or is this about story fixed effects?"
   ]
  },
  {
   "cell_type": "code",
   "execution_count": null,
   "metadata": {
    "execution": {
     "iopub.execute_input": "2023-11-09T22:59:02.788495Z",
     "iopub.status.busy": "2023-11-09T22:59:02.786663Z",
     "iopub.status.idle": "2023-11-09T22:59:02.810974Z",
     "shell.execute_reply": "2023-11-09T22:59:02.807498Z"
    }
   },
   "outputs": [],
   "source": [
    "eligible = scores"
   ]
  },
  {
   "cell_type": "code",
   "execution_count": null,
   "metadata": {
    "execution": {
     "iopub.execute_input": "2023-11-09T22:59:02.854376Z",
     "iopub.status.busy": "2023-11-09T22:59:02.835907Z",
     "iopub.status.idle": "2023-11-09T22:59:02.879798Z",
     "shell.execute_reply": "2023-11-09T22:59:02.878744Z"
    },
    "tags": []
   },
   "outputs": [],
   "source": [
    "comps = ['frac_reltime', 'ws_reltime']"
   ]
  },
  {
   "cell_type": "code",
   "execution_count": null,
   "metadata": {
    "execution": {
     "iopub.execute_input": "2023-11-09T22:59:02.901904Z",
     "iopub.status.busy": "2023-11-09T22:59:02.901339Z",
     "iopub.status.idle": "2023-11-09T22:59:03.049413Z",
     "shell.execute_reply": "2023-11-09T22:59:03.048478Z"
    },
    "tags": []
   },
   "outputs": [],
   "source": [
    "eligible \\\n",
    "    [labels + comps] \\\n",
    "    .corr(method='pearson', numeric_only=True) \\\n",
    "    .loc[pd.IndexSlice[comps + labels], labels]"
   ]
  },
  {
   "cell_type": "code",
   "execution_count": null,
   "metadata": {
    "execution": {
     "iopub.execute_input": "2023-11-09T22:59:03.055975Z",
     "iopub.status.busy": "2023-11-09T22:59:03.054245Z",
     "iopub.status.idle": "2023-11-09T22:59:05.560156Z",
     "shell.execute_reply": "2023-11-09T22:59:05.557458Z"
    },
    "tags": []
   },
   "outputs": [],
   "source": [
    "eligible \\\n",
    "    [labels + comps] \\\n",
    "    .corr(method='spearman', numeric_only=True) \\\n",
    "    .loc[pd.IndexSlice[comps + labels], labels]"
   ]
  },
  {
   "cell_type": "code",
   "execution_count": null,
   "metadata": {
    "execution": {
     "iopub.execute_input": "2023-11-09T22:59:05.566672Z",
     "iopub.status.busy": "2023-11-09T22:59:05.565006Z",
     "iopub.status.idle": "2023-11-09T22:59:05.962033Z",
     "shell.execute_reply": "2023-11-09T22:59:05.954395Z"
    },
    "tags": []
   },
   "outputs": [],
   "source": [
    "eligible \\\n",
    "    .groupby('kind') \\\n",
    "    [labels + comps] \\\n",
    "    .corr(method='pearson', numeric_only=True) \\\n",
    "    .loc[pd.IndexSlice[:, labels + comps], labels]"
   ]
  },
  {
   "cell_type": "code",
   "execution_count": null,
   "metadata": {
    "execution": {
     "iopub.execute_input": "2023-11-09T22:59:05.968722Z",
     "iopub.status.busy": "2023-11-09T22:59:05.966435Z",
     "iopub.status.idle": "2023-11-09T22:59:07.631208Z",
     "shell.execute_reply": "2023-11-09T22:59:07.630247Z"
    },
    "tags": []
   },
   "outputs": [],
   "source": [
    "eligible \\\n",
    "    .groupby('kind') \\\n",
    "    [labels + comps] \\\n",
    "    .corr(method='spearman', numeric_only=True) \\\n",
    "    .loc[pd.IndexSlice[:, labels + comps], labels]"
   ]
  },
  {
   "cell_type": "code",
   "execution_count": null,
   "metadata": {
    "execution": {
     "iopub.execute_input": "2023-11-09T22:59:07.638919Z",
     "iopub.status.busy": "2023-11-09T22:59:07.635914Z",
     "iopub.status.idle": "2023-11-09T22:59:17.439604Z",
     "shell.execute_reply": "2023-11-09T22:59:17.425421Z"
    },
    "tags": []
   },
   "outputs": [],
   "source": [
    "tmp = eligible.sample(2000)\n",
    "\n",
    "fig, axes = plt.subplots(3, 3, figsize=(15, 15))\n",
    "\n",
    "axes[0][0].scatter(tmp['frac_reltime'], tmp['negative'])\n",
    "axes[0][0].set_title('negative')\n",
    "axes[0][0].set_ylabel('negative')\n",
    "axes[0][0].set_xlabel('frac_reltime')\n",
    "\n",
    "axes[0][1].scatter(tmp['frac_reltime'], tmp['emotional'])\n",
    "axes[0][1].set_title('emotional')\n",
    "axes[0][1].set_ylabel('emotional')\n",
    "axes[0][1].set_xlabel('frac_reltime')\n",
    "\n",
    "axes[0][2].scatter(tmp['frac_reltime'], tmp['outraged'])\n",
    "axes[0][2].set_title('outraged')\n",
    "axes[0][2].set_ylabel('outraged')\n",
    "axes[0][2].set_xlabel('frac_reltime')\n",
    "\n",
    "axes[1][0].scatter(tmp['ws_reltime'], tmp['negative'])\n",
    "axes[1][0].set_title('negative')\n",
    "axes[1][0].set_ylabel('negative')\n",
    "axes[1][0].set_xlabel('ws_reltime')\n",
    "\n",
    "axes[1][1].scatter(tmp['ws_reltime'], tmp['emotional'])\n",
    "axes[1][1].set_title('emotional')\n",
    "axes[1][1].set_ylabel('emotional')\n",
    "axes[1][1].set_xlabel('ws_reltime')\n",
    "\n",
    "axes[1][2].scatter(tmp['ws_reltime'], tmp['outraged'])\n",
    "axes[1][2].set_title('outraged')\n",
    "axes[1][2].set_ylabel('outraged')\n",
    "axes[1][2].set_xlabel('ws_reltime')\n",
    "\n",
    "axes[2][0].scatter(np.log(tmp['ws_reltime'] + 1e-6), tmp['negative'])\n",
    "axes[2][0].set_title('negative')\n",
    "axes[2][0].set_ylabel('negative')\n",
    "axes[2][0].set_xlabel('log(ws_reltime)')\n",
    "\n",
    "axes[2][1].scatter(np.log(tmp['ws_reltime'] + 1e-6), tmp['emotional'])\n",
    "axes[2][1].set_title('emotional')\n",
    "axes[2][1].set_ylabel('emotional')\n",
    "axes[2][1].set_xlabel('log(ws_reltime)')\n",
    "\n",
    "axes[2][2].scatter(np.log(tmp['ws_reltime'] + 1e-6), tmp['outraged'])\n",
    "axes[2][2].set_title('outraged')\n",
    "axes[2][2].set_ylabel('outraged')\n",
    "axes[2][2].set_xlabel('log(ws_reltime)')\n",
    "\n",
    "fig.tight_layout()"
   ]
  },
  {
   "cell_type": "code",
   "execution_count": null,
   "metadata": {
    "execution": {
     "iopub.execute_input": "2023-11-09T22:59:17.470322Z",
     "iopub.status.busy": "2023-11-09T22:59:17.468431Z",
     "iopub.status.idle": "2023-11-09T22:59:51.102306Z",
     "shell.execute_reply": "2023-11-09T22:59:51.101169Z"
    },
    "tags": []
   },
   "outputs": [],
   "source": [
    "for dv in labels:\n",
    "    for bin_var in ['ws_reltime', 'frac_reltime']:\n",
    "        fig, axes = plt.subplots(1, 3, figsize=(15, 5))\n",
    "        for kind, ax in zip(sorted(eligible['kind'].unique()), axes):\n",
    "            kind_data = eligible.loc[(eligible['kind'] == kind)]\n",
    "\n",
    "            grp = pd.qcut(kind_data[bin_var], 5)\n",
    "\n",
    "            tmp = pd.concat([\n",
    "                pd.Series(kind_data.groupby(grp).size()).rename('n_items'),\n",
    "                pd.Series(kind_data.groupby(grp)['story_id'].nunique()).rename('n_active'),\n",
    "                pd.Series(kind_data.groupby(grp)[dv].mean()).rename(dv),\n",
    "            ], axis=1)\n",
    "\n",
    "            tmp[dv].plot(ax=ax, kind='bar', rot=45)\n",
    "\n",
    "            ax.set_title(kind)\n",
    "            ax.axhline(tmp[dv].mean(), color='red', linestyle='--')\n",
    "            \n",
    "            fig.suptitle(dv + ' | ' + bin_var)"
   ]
  },
  {
   "cell_type": "markdown",
   "metadata": {},
   "source": [
    "## Plot sentiment over time"
   ]
  },
  {
   "cell_type": "code",
   "execution_count": null,
   "metadata": {
    "execution": {
     "iopub.execute_input": "2023-11-09T22:59:51.134408Z",
     "iopub.status.busy": "2023-11-09T22:59:51.132397Z",
     "iopub.status.idle": "2023-11-09T22:59:51.191933Z",
     "shell.execute_reply": "2023-11-09T22:59:51.191009Z"
    },
    "tags": []
   },
   "outputs": [],
   "source": [
    "def plot_for_kind(kind_data, ax, twin, grp, ax_cols=None, twin_cols=None, legend=True, legend_loc='best',\n",
    "                  time_ticks=True):\n",
    "    all_cols = ['n_items', 'active_events', 'negative', 'emotional', 'outraged']\n",
    "    assert (ax_cols is None and twin_cols is None) or (ax_cols is not None and twin_cols is not None)\n",
    "    if ax_cols is None:\n",
    "        ax_cols = ['active_events']\n",
    "        twin_cols = ['outraged', 'negative']\n",
    "    assert set(ax_cols) <= set(all_cols)\n",
    "    assert set(twin_cols) <= set(all_cols)\n",
    "    \n",
    "    tmp = pd.concat([\n",
    "        pd.Series(kind_data.groupby(grp).size()).rename('n_items'),\n",
    "        pd.Series(kind_data.groupby(grp)['story_id'].nunique()).rename('active_events'),\n",
    "        pd.Series(kind_data.groupby(grp)['negative'].mean()).rename('negative'),\n",
    "        pd.Series(kind_data.groupby(grp)['emotional'].mean()).rename('emotional'),\n",
    "        pd.Series(kind_data.groupby(grp)['outraged'].mean()).rename('outraged'),\n",
    "    ], axis=1)\n",
    "\n",
    "    tmp['midpt'] = [(i.left + i.right) / 2 for i in tmp.index]\n",
    "    tmp['midpt_hours'] = tmp['midpt'] / 3600\n",
    "\n",
    "    ax_colors = mp.cm.tab10(range(len(ax_cols)))\n",
    "    twin_colors = mp.cm.tab10(range(len(ax_cols), len(twin_cols) + len(ax_cols)))\n",
    "\n",
    "    line_styles = list(mp.lines.Line2D.lineStyles.keys())\n",
    "    twin_line_styles = line_styles[0:len(twin_cols)]\n",
    "    ax_line_styles = line_styles[len(twin_cols):len(twin_cols) + len(ax_cols)]\n",
    "    \n",
    "    xvals = tmp['midpt_hours'] if time_ticks else np.arange(tmp.shape[0])\n",
    "    \n",
    "    lines = []\n",
    "    \n",
    "    for col, color, style in zip(twin_cols, twin_colors, twin_line_styles):\n",
    "        lines += [twin.plot(xvals, tmp[col], label=col.replace('_', ' ').title(),\n",
    "                            color=color, linestyle=style)[0]]\n",
    "    \n",
    "    for col, color, style in zip(ax_cols, ax_colors, ax_line_styles):\n",
    "        lines += [ax.plot(xvals, tmp[col], label=col.replace('_', ' ').title(),\n",
    "                          color=color, linestyle=style)[0]]\n",
    "    \n",
    "    if time_ticks:\n",
    "        n_ticks = 8\n",
    "        tick_locs = np.linspace(min(tmp['midpt_hours']), max(tmp['midpt_hours']), n_ticks)\n",
    "        ax.set_xticks(tick_locs)\n",
    "        ax.set_xticklabels([f\"{x:.0f}h\" for x in tick_locs])\n",
    "\n",
    "    ax.set_xlabel('Time' if time_ticks else 'N-tile of Time')\n",
    "    ax.set_ylabel('Active Stories')\n",
    "    twin.set_ylabel('Score', rotation=270, labelpad=12)\n",
    "\n",
    "    if legend:\n",
    "        ax.legend(lines, [l.get_label() for l in lines], loc=legend_loc)\n",
    "        \n",
    "    return tmp"
   ]
  },
  {
   "cell_type": "markdown",
   "metadata": {},
   "source": [
    "### Negative and outraged"
   ]
  },
  {
   "cell_type": "code",
   "execution_count": null,
   "metadata": {
    "execution": {
     "iopub.execute_input": "2023-11-09T22:59:51.198724Z",
     "iopub.status.busy": "2023-11-09T22:59:51.197101Z",
     "iopub.status.idle": "2023-11-09T23:00:00.194650Z",
     "shell.execute_reply": "2023-11-09T23:00:00.193426Z"
    },
    "tags": []
   },
   "outputs": [],
   "source": [
    "kinds = eligible['kind'].unique()\n",
    "\n",
    "fig, axes = plt.subplots(ncols=len(kinds), figsize=(5*len(kinds), 5))\n",
    "axes = [axes] if len(axes) == 1 else axes\n",
    "legend_locs = [(0.15, 0.8), None, None]\n",
    "\n",
    "for ax, kind, loc in zip(axes, kinds, legend_locs):\n",
    "    kind_data = eligible.loc[(eligible['kind'] == kind)]\n",
    "    twin = ax.twinx()\n",
    "    \n",
    "    plot_for_kind(\n",
    "        kind_data,\n",
    "        ax, twin,\n",
    "        pd.cut(kind_data['ws_reltime'], 50),\n",
    "        legend=(loc is not None), legend_loc=loc,\n",
    "        time_ticks=True,\n",
    "    )\n",
    "    \n",
    "    if kind == 'decahose':\n",
    "        title = 'Firehose'\n",
    "    else:\n",
    "        title = kind\n",
    "\n",
    "    ax.set_title(title.title(), fontsize=14)\n",
    "    ax.set_xticklabels(ax.get_xticklabels(), fontsize=12)\n",
    "    ax.set_xlabel(ax.get_xlabel(), fontsize=12)\n",
    "    ax.set_yticklabels(ax.get_yticklabels(), fontsize=12)\n",
    "    ax.set_ylabel(ax.get_ylabel(), fontsize=12)\n",
    "    twin.set_yticklabels(twin.get_yticklabels(), fontsize=12)\n",
    "    twin.set_ylabel(twin.get_ylabel(), fontsize=12)\n",
    "    \n",
    "    legend = ax.get_legend()\n",
    "    if legend is not None:\n",
    "        for text in legend.get_texts():\n",
    "            text.set_fontsize(12)\n",
    "\n",
    "fig.tight_layout()\n",
    "plt.show()"
   ]
  },
  {
   "cell_type": "code",
   "execution_count": null,
   "metadata": {
    "execution": {
     "iopub.execute_input": "2023-11-09T23:00:00.203390Z",
     "iopub.status.busy": "2023-11-09T23:00:00.201578Z",
     "iopub.status.idle": "2023-11-09T23:00:06.960069Z",
     "shell.execute_reply": "2023-11-09T23:00:06.958943Z"
    }
   },
   "outputs": [],
   "source": [
    "kinds = eligible['kind'].unique().tolist() + ['decahose-nc']\n",
    "\n",
    "fig, axes = plt.subplots(nrows=1, ncols=len(kinds), figsize=(5*len(kinds), 5))\n",
    "# fig, axes = plt.subplots(nrows=2, ncols=2, figsize=(10, 10))\n",
    "\n",
    "axes = [axes] if len(axes) == 1 else axes.flatten()\n",
    "legend_locs = [(0.15, 0.8), None, None, None]\n",
    "\n",
    "for ax, kind, loc in zip(axes, kinds, legend_locs):\n",
    "    if kind != 'decahose-nc':\n",
    "        kind_data = eligible.loc[(eligible['kind'] == kind)]\n",
    "    else:\n",
    "        kind_data = eligible.loc[(eligible['kind'] == 'decahose') & (~eligible['decahose_covid_2020'])]\n",
    "\n",
    "    twin = ax.twinx()\n",
    "    \n",
    "    plot_for_kind(\n",
    "        kind_data,\n",
    "        ax, twin,\n",
    "        pd.cut(kind_data['ws_reltime'], 50),\n",
    "        legend=(loc is not None), legend_loc=loc,\n",
    "        time_ticks=True,\n",
    "    )\n",
    "\n",
    "    if kind == 'decahose':\n",
    "        title = 'Firehose'\n",
    "    elif kind == 'decahose-nc':\n",
    "        title = 'Firehose ex. Covid 2020'\n",
    "    else:\n",
    "        title = kind\n",
    "    \n",
    "    ax.set_title(title.title(), fontsize=14)\n",
    "    ax.set_xticklabels(ax.get_xticklabels(), fontsize=12)\n",
    "    ax.set_xlabel(ax.get_xlabel(), fontsize=12)\n",
    "    ax.set_yticklabels(ax.get_yticklabels(), fontsize=12)\n",
    "    ax.set_ylabel(ax.get_ylabel(), fontsize=12)\n",
    "    twin.set_yticklabels(twin.get_yticklabels(), fontsize=12)\n",
    "    twin.set_ylabel(twin.get_ylabel(), fontsize=12)\n",
    "    \n",
    "    legend = ax.get_legend()\n",
    "    if legend is not None:\n",
    "        for text in legend.get_texts():\n",
    "            text.set_fontsize(12)\n",
    "\n",
    "fig.tight_layout()\n",
    "plt.show()"
   ]
  },
  {
   "cell_type": "markdown",
   "metadata": {},
   "source": [
    "### Emotional"
   ]
  },
  {
   "cell_type": "code",
   "execution_count": null,
   "metadata": {
    "execution": {
     "iopub.execute_input": "2023-11-09T23:00:06.975951Z",
     "iopub.status.busy": "2023-11-09T23:00:06.974168Z",
     "iopub.status.idle": "2023-11-09T23:00:13.015381Z",
     "shell.execute_reply": "2023-11-09T23:00:13.014405Z"
    },
    "tags": []
   },
   "outputs": [],
   "source": [
    "kinds = eligible['kind'].unique()\n",
    "\n",
    "fig, axes = plt.subplots(ncols=len(kinds), figsize=(5*len(kinds), 5))\n",
    "axes = [axes] if len(axes) == 1 else axes\n",
    "legend_locs = [(0.3, 0.85), None, None]\n",
    "\n",
    "for ax, kind, loc in zip(axes, kinds, legend_locs):\n",
    "    kind_data = eligible.loc[(eligible['kind'] == kind)]\n",
    "    twin = ax.twinx()\n",
    "    \n",
    "    plot_for_kind(\n",
    "        kind_data,\n",
    "        ax, twin,\n",
    "        pd.cut(kind_data['ws_reltime'], 50),\n",
    "        ax_cols=['active_events'],\n",
    "        twin_cols=['emotional'],\n",
    "        legend=(loc is not None), legend_loc=loc,\n",
    "        time_ticks=True,\n",
    "    )\n",
    "    \n",
    "    ax.set_title(kind.title() if kind != 'decahose' else 'Firehose')\n",
    "\n",
    "fig.tight_layout()\n",
    "plt.show()"
   ]
  },
  {
   "cell_type": "markdown",
   "metadata": {},
   "source": [
    "## Stats: How many high-outrage tail items / stories are there?"
   ]
  },
  {
   "cell_type": "code",
   "execution_count": null,
   "metadata": {
    "execution": {
     "iopub.execute_input": "2023-11-09T23:00:13.021768Z",
     "iopub.status.busy": "2023-11-09T23:00:13.020163Z",
     "iopub.status.idle": "2023-11-09T23:00:13.050425Z",
     "shell.execute_reply": "2023-11-09T23:00:13.049309Z"
    }
   },
   "outputs": [],
   "source": [
    "eligible.shape[0]"
   ]
  },
  {
   "cell_type": "code",
   "execution_count": null,
   "metadata": {
    "execution": {
     "iopub.execute_input": "2023-11-09T23:00:13.068337Z",
     "iopub.status.busy": "2023-11-09T23:00:13.057737Z",
     "iopub.status.idle": "2023-11-09T23:00:13.631167Z",
     "shell.execute_reply": "2023-11-09T23:00:13.630223Z"
    },
    "tags": []
   },
   "outputs": [],
   "source": [
    "eligible.groupby(\n",
    "        ((eligible['kind'] == 'elite') & (eligible['reltime'] <= 3600 * 24)) |\n",
    "        ((eligible['kind'] != 'elite') & (eligible['reltime'] <= 3600 * 48))\n",
    ").size()"
   ]
  },
  {
   "cell_type": "code",
   "execution_count": null,
   "metadata": {
    "execution": {
     "iopub.execute_input": "2023-11-09T23:00:13.662800Z",
     "iopub.status.busy": "2023-11-09T23:00:13.656061Z",
     "iopub.status.idle": "2023-11-09T23:00:13.996074Z",
     "shell.execute_reply": "2023-11-09T23:00:13.995197Z"
    }
   },
   "outputs": [],
   "source": [
    "eligible['story_id'].nunique()"
   ]
  },
  {
   "cell_type": "code",
   "execution_count": null,
   "metadata": {
    "execution": {
     "iopub.execute_input": "2023-11-09T23:00:14.013956Z",
     "iopub.status.busy": "2023-11-09T23:00:14.012484Z",
     "iopub.status.idle": "2023-11-09T23:00:15.453929Z",
     "shell.execute_reply": "2023-11-09T23:00:15.450415Z"
    },
    "tags": []
   },
   "outputs": [],
   "source": [
    "eligible.groupby(\n",
    "        ((eligible['kind'] == 'elite') & (eligible['reltime'] <= 3600 * 24)) |\n",
    "        ((eligible['kind'] != 'elite') & (eligible['reltime'] <= 3600 * 48))\n",
    ")['story_id'].nunique()"
   ]
  },
  {
   "cell_type": "code",
   "execution_count": null,
   "metadata": {
    "execution": {
     "iopub.execute_input": "2023-11-09T23:00:15.469692Z",
     "iopub.status.busy": "2023-11-09T23:00:15.462092Z",
     "iopub.status.idle": "2023-11-09T23:00:16.021014Z",
     "shell.execute_reply": "2023-11-09T23:00:16.014908Z"
    },
    "tags": []
   },
   "outputs": [],
   "source": [
    "eligible.groupby(\n",
    "        ((eligible['kind'] == 'elite') & (eligible['reltime'] <= 3600 * 24)) |\n",
    "        ((eligible['kind'] != 'elite') & (eligible['reltime'] <= 3600 * 48))\n",
    ")[labels].describe().T"
   ]
  },
  {
   "cell_type": "markdown",
   "metadata": {},
   "source": [
    "## Models: Without story FEs"
   ]
  },
  {
   "cell_type": "markdown",
   "metadata": {},
   "source": [
    "### Utils"
   ]
  },
  {
   "cell_type": "code",
   "execution_count": null,
   "metadata": {
    "execution": {
     "iopub.execute_input": "2023-11-09T23:00:16.057730Z",
     "iopub.status.busy": "2023-11-09T23:00:16.057308Z",
     "iopub.status.idle": "2023-11-09T23:00:16.107815Z",
     "shell.execute_reply": "2023-11-09T23:00:16.106678Z"
    },
    "tags": []
   },
   "outputs": [],
   "source": [
    "def standardize(dat, cols):\n",
    "    if isinstance(cols, str):\n",
    "        cols = [cols]\n",
    "    \n",
    "    tmp = dat.copy()\n",
    "    \n",
    "    for col in cols:\n",
    "        tmp[col] = (tmp[col] - tmp[col].mean()) / tmp[col].std()\n",
    "    \n",
    "    return tmp"
   ]
  },
  {
   "cell_type": "code",
   "execution_count": null,
   "metadata": {
    "execution": {
     "iopub.execute_input": "2023-11-09T23:00:16.114206Z",
     "iopub.status.busy": "2023-11-09T23:00:16.112560Z",
     "iopub.status.idle": "2023-11-09T23:00:16.219312Z",
     "shell.execute_reply": "2023-11-09T23:00:16.218357Z"
    },
    "tags": []
   },
   "outputs": [],
   "source": [
    "def assemble_results(mods, thresh=None, bonferroni=True):\n",
    "    if thresh is None:\n",
    "        thresh = 1 - ss.norm(0, 1).cdf(5)\n",
    "    \n",
    "    stats = []\n",
    "    \n",
    "    for (kind, pred_var, dv), obj in mods.items():\n",
    "        if not hasattr(obj, '__len__'):\n",
    "            mod = obj\n",
    "            results = obj\n",
    "        elif len(obj) == 1:\n",
    "            mod = obj[0]\n",
    "            results = obj[0]\n",
    "        else:\n",
    "            mod, results = obj\n",
    "        \n",
    "        if isinstance(pred_var, str):\n",
    "            pred_var = [pred_var]\n",
    "        \n",
    "        term_name_to_index = {name: idx for idx, name in enumerate(mod.model.exog_names)}\n",
    "\n",
    "        for pv in pred_var:\n",
    "            coef = results.params[term_name_to_index[pv]]\n",
    "            pval = results.pvalues[term_name_to_index[pv]]\n",
    "            tstat = results.tvalues[term_name_to_index[pv]]\n",
    "            stderr = results.bse[term_name_to_index[pv]]\n",
    "\n",
    "            stats += [{\n",
    "                'dv': dv,\n",
    "                'pred_var': pv,\n",
    "                'kind': kind,\n",
    "                'coef': coef,\n",
    "                'pval': pval,\n",
    "                'tstat': tstat,\n",
    "                'stderr': stderr,\n",
    "                'r2': mod.rsquared,\n",
    "                'cond': mod.condition_number,\n",
    "            }]\n",
    "\n",
    "    stats = pd.DataFrame(stats).set_index(['pred_var', 'dv', 'kind']).sort_index()\n",
    "\n",
    "    denom = stats.shape[0] if bonferroni else 1\n",
    "    stats['signif'] = stats['pval'] <= (thresh / denom)\n",
    "\n",
    "    return stats"
   ]
  },
  {
   "cell_type": "code",
   "execution_count": null,
   "metadata": {
    "execution": {
     "iopub.execute_input": "2023-11-09T23:00:16.235887Z",
     "iopub.status.busy": "2023-11-09T23:00:16.234125Z",
     "iopub.status.idle": "2023-11-09T23:00:16.402998Z",
     "shell.execute_reply": "2023-11-09T23:00:16.401800Z"
    }
   },
   "outputs": [],
   "source": [
    "def pval_fmt(s, thresh=None):\n",
    "    five_sigma = 1 - ss.norm(0, 1).cdf(5)\n",
    "    \n",
    "    if thresh is None:\n",
    "        thresh = five_sigma\n",
    "    \n",
    "    if s > thresh:\n",
    "        val = '{0:.2f}'.format(s)\n",
    "        return '= ' + val\n",
    "    else:\n",
    "        if thresh == five_sigma:\n",
    "            val = r'\\hspace{0.35em} p_{5\\sigma}'\n",
    "        else:\n",
    "            val = '{0:.3f}'.format(thresh)\n",
    "        return '< ' + val"
   ]
  },
  {
   "cell_type": "code",
   "execution_count": null,
   "metadata": {
    "execution": {
     "iopub.execute_input": "2023-11-09T23:00:16.444720Z",
     "iopub.status.busy": "2023-11-09T23:00:16.429349Z",
     "iopub.status.idle": "2023-11-09T23:00:16.507541Z",
     "shell.execute_reply": "2023-11-09T23:00:16.504230Z"
    }
   },
   "outputs": [],
   "source": [
    "def format_disp(coef, pval, signif, stderr=None):\n",
    "    coef_fmt = '{0:.3f}'.format(coef)\n",
    "    pval_str = pval_fmt(pval)\n",
    "\n",
    "    if signif:\n",
    "        coef_fmt = '\\\\textbf{' + coef_fmt + '}'\n",
    "    \n",
    "    return (\n",
    "        coef_fmt\n",
    "        + (' (' + '{0:.3f}'.format(stderr) + ', ' if stderr is not None else '')\n",
    "        + '$p ' + pval_str + '$)'\n",
    "    )"
   ]
  },
  {
   "cell_type": "markdown",
   "metadata": {},
   "source": [
    "### Main effects"
   ]
  },
  {
   "cell_type": "code",
   "execution_count": null,
   "metadata": {
    "execution": {
     "iopub.execute_input": "2023-11-09T23:00:16.515649Z",
     "iopub.status.busy": "2023-11-09T23:00:16.515008Z",
     "iopub.status.idle": "2023-11-09T23:00:19.761257Z",
     "shell.execute_reply": "2023-11-09T23:00:19.760355Z"
    },
    "tags": []
   },
   "outputs": [],
   "source": [
    "nofe_main_score_mods = {}\n",
    "\n",
    "pred_vars = (\n",
    "    'ws_reltime',\n",
    ")\n",
    "\n",
    "for kind in eligible['kind'].unique():\n",
    "    tmp = eligible.loc[(eligible['kind'] == kind)]\n",
    "\n",
    "    for dv in labels:\n",
    "        for pred_var in pred_vars:\n",
    "            mod = smf.ols(\n",
    "                f'logodds_{dv} ~ {pred_var}',\n",
    "                data=standardize(tmp, pred_vars),\n",
    "            ).fit()\n",
    "            \n",
    "            nofe_main_score_mods[(kind, pred_var, dv)] = mod\n",
    "\n",
    "nofe_main_stats = assemble_results(nofe_main_score_mods)\n",
    "print(nofe_main_stats.to_string(formatters={'pval':'{:,.10f}'.format}))"
   ]
  },
  {
   "cell_type": "markdown",
   "metadata": {},
   "source": [
    "### Inter-medium differences"
   ]
  },
  {
   "cell_type": "code",
   "execution_count": null,
   "metadata": {
    "execution": {
     "iopub.execute_input": "2023-11-09T23:00:19.805762Z",
     "iopub.status.busy": "2023-11-09T23:00:19.803468Z",
     "iopub.status.idle": "2023-11-09T23:01:35.023350Z",
     "shell.execute_reply": "2023-11-09T23:01:35.012978Z"
    },
    "tags": []
   },
   "outputs": [],
   "source": [
    "nofe_inter_score_mods = {}\n",
    "\n",
    "pred_vars = (\n",
    "    'ws_reltime',\n",
    ")\n",
    "\n",
    "for dv in labels:\n",
    "    for pred_var in pred_vars:\n",
    "        for kind1, kind2 in it.combinations(eligible['kind'].unique(), 2):\n",
    "            tmp = eligible.loc[(eligible['kind'] == kind1) | (eligible['kind'] == kind2)]\n",
    "\n",
    "            mod = smf.ols(\n",
    "                f'logodds_{dv} ~ {pred_var} * kind',\n",
    "                data=standardize(tmp, pred_vars),\n",
    "            ).fit()\n",
    "\n",
    "            pvs = mod.params[mod.params.index != 'Intercept'].index.tolist()\n",
    "            pvs = tuple([p for p in pvs if p.startswith(pred_var + ':kind')])\n",
    "            nofe_inter_score_mods[((kind1, kind2), pvs, dv)] = mod\n",
    "\n",
    "nofe_inter_stats = assemble_results(nofe_inter_score_mods)\n",
    "print(nofe_inter_stats.to_string(formatters={'pval':'{:,.10f}'.format}))"
   ]
  },
  {
   "cell_type": "markdown",
   "metadata": {},
   "source": [
    "## With story FEs"
   ]
  },
  {
   "cell_type": "markdown",
   "metadata": {},
   "source": [
    "### Main effects"
   ]
  },
  {
   "cell_type": "code",
   "execution_count": null,
   "metadata": {
    "execution": {
     "iopub.execute_input": "2023-11-09T23:01:35.040081Z",
     "iopub.status.busy": "2023-11-09T23:01:35.035837Z",
     "iopub.status.idle": "2023-11-09T23:41:12.751563Z",
     "shell.execute_reply": "2023-11-09T23:41:12.745636Z"
    },
    "tags": []
   },
   "outputs": [],
   "source": [
    "def fit_main_model(params):\n",
    "    kind, dv, pred_var, tmp_standardized, tmp = params\n",
    "    mod = smf.ols(\n",
    "        f'logodds_{dv} ~ {pred_var} + C(story_id)',\n",
    "        data=tmp_standardized\n",
    "    ).fit()\n",
    "\n",
    "    results = mod.get_robustcov_results(cov_type='cluster', groups=tmp['story_id'])\n",
    "    return (kind, pred_var, dv, mod, results)\n",
    "\n",
    "fe_main_score_mods = {}\n",
    "pred_vars = (\n",
    "    'ws_reltime',\n",
    ")\n",
    "\n",
    "inputs = []\n",
    "for kind in eligible['kind'].unique():\n",
    "    tmp = eligible.loc[(eligible['kind'] == kind)]\n",
    "    tmp_standardized = standardize(tmp, pred_vars)\n",
    "    \n",
    "    for dv in labels:\n",
    "        for pred_var in pred_vars:\n",
    "            inputs.append((kind, dv, pred_var, tmp_standardized, tmp))\n",
    "\n",
    "n_cpus = min(multiprocessing.cpu_count(), len(inputs))\n",
    "\n",
    "results = []\n",
    "with multiprocessing.Pool(n_cpus) as pool:\n",
    "    pbar = tqdm(total=len(inputs))\n",
    "    result_objects = [pool.apply_async(fit_main_model, (param, ), callback=lambda _: pbar.update()) for param in inputs]\n",
    "\n",
    "    for r in result_objects:\n",
    "        results.append(r.get())\n",
    "\n",
    "    pbar.close()\n",
    "\n",
    "for kind, pred_var, dv, mod, result in results:\n",
    "    fe_main_score_mods[(kind, pred_var, dv)] = (mod, result)\n",
    "\n",
    "fe_main_stats = assemble_results(fe_main_score_mods)\n",
    "print(fe_main_stats.to_string(formatters={'pval':'{:,.10f}'.format}))"
   ]
  },
  {
   "cell_type": "markdown",
   "metadata": {},
   "source": [
    "### Inter-medium differences"
   ]
  },
  {
   "cell_type": "code",
   "execution_count": null,
   "metadata": {
    "execution": {
     "iopub.execute_input": "2023-11-09T23:41:12.762092Z",
     "iopub.status.busy": "2023-11-09T23:41:12.760410Z",
     "iopub.status.idle": "2023-11-10T06:25:32.364365Z",
     "shell.execute_reply": "2023-11-10T06:25:32.352937Z"
    },
    "tags": []
   },
   "outputs": [],
   "source": [
    "def fit_inter_model(params):\n",
    "    kind1, kind2, dv, pred_var, tmp_standardized, tmp = params\n",
    "    \n",
    "    mod = smf.ols(\n",
    "        f'logodds_{dv} ~ {pred_var} * kind + C(story_id)',\n",
    "        data=tmp_standardized\n",
    "    ).fit()\n",
    "\n",
    "    results = mod.get_robustcov_results(cov_type='cluster', groups=tmp['story_id'])\n",
    "\n",
    "    pvs = mod.params[mod.params.index != 'Intercept'].index.tolist()\n",
    "    pvs = tuple([p for p in pvs if p.startswith(pred_var + ':kind')])\n",
    "    return ((kind1, kind2), pvs, dv, mod, results)\n",
    "\n",
    "fe_inter_score_mods = {}\n",
    "pred_vars = (\n",
    "    'ws_reltime',\n",
    ")\n",
    "\n",
    "inputs = []\n",
    "for kind1, kind2 in it.combinations(eligible['kind'].unique(), 2):\n",
    "    tmp = eligible.loc[(eligible['kind'] == kind1) | (eligible['kind'] == kind2)]\n",
    "    tmp_standardized = standardize(tmp, pred_vars)\n",
    "    \n",
    "    for dv in labels:\n",
    "        for pred_var in pred_vars:\n",
    "            inputs.append((kind1, kind2, dv, pred_var, tmp_standardized, tmp))\n",
    "\n",
    "n_cpus = min(multiprocessing.cpu_count(), len(inputs))\n",
    "\n",
    "\n",
    "results = []\n",
    "with multiprocessing.Pool(n_cpus) as pool:\n",
    "    pbar = tqdm(total=len(inputs))\n",
    "    result_objects = [pool.apply_async(fit_inter_model, (param, ), callback=lambda _: pbar.update()) for param in inputs]\n",
    "    \n",
    "    for r in result_objects:\n",
    "        results.append(r.get())\n",
    "\n",
    "    pbar.close()\n",
    "\n",
    "for (kind1, kind2), pvs, dv, mod, result in results:\n",
    "    fe_inter_score_mods[((kind1, kind2), pvs, dv)] = (mod, result)\n",
    "\n",
    "fe_inter_stats = assemble_results(fe_inter_score_mods)\n",
    "print(fe_inter_stats.to_string(formatters={'pval':'{:,.10f}'.format}))"
   ]
  },
  {
   "cell_type": "markdown",
   "metadata": {},
   "source": [
    "### Tables for paper"
   ]
  },
  {
   "cell_type": "markdown",
   "metadata": {},
   "source": [
    "#### Main effects"
   ]
  },
  {
   "cell_type": "code",
   "execution_count": null,
   "metadata": {
    "execution": {
     "iopub.execute_input": "2023-11-10T06:25:32.497365Z",
     "iopub.status.busy": "2023-11-10T06:25:32.482017Z",
     "iopub.status.idle": "2023-11-10T06:25:33.173797Z",
     "shell.execute_reply": "2023-11-10T06:25:33.172880Z"
    },
    "tags": []
   },
   "outputs": [],
   "source": [
    "main_stats = pd.concat([\n",
    "    nofe_main_stats \\\n",
    "        .loc[pd.IndexSlice[:, labels, :]] \\\n",
    "        .assign(fe=False) \\\n",
    "        .drop(['cond', 'r2'], axis=1) \\\n",
    "        .reset_index(),\n",
    "    \n",
    "    fe_main_stats \\\n",
    "        .loc[pd.IndexSlice[:, labels, :]] \\\n",
    "        .assign(fe=True) \\\n",
    "        .drop(['cond', 'r2'], axis=1) \\\n",
    "        .reset_index(),\n",
    "], axis=0).set_index(['dv', 'pred_var', 'fe', 'kind']).sort_index()\n",
    "\n",
    "main_stats['disp'] = main_stats.apply(lambda x: format_disp(x['coef'], x['pval'], x['signif'], x['stderr']), axis=1)\n",
    "\n",
    "main_stats = main_stats.drop(['coef', 'pval', 'tstat', 'signif', 'stderr'], axis=1)\n",
    "\n",
    "main_stats = main_stats.unstack(3).reset_index()\n",
    "\n",
    "main_stats.columns = [\n",
    "    c2 if c2 != '' else c1\n",
    "    for c1, c2 in main_stats.columns\n",
    "]\n",
    "\n",
    "main_stats['dv'] = main_stats['dv'].str.title()\n",
    "\n",
    "main_stats.loc[main_stats['pred_var'] == 'ws_reltime', 'pred_var'] = '$t_i$'\n",
    "main_stats.loc[main_stats['pred_var'] == 'ws_reltime_quad', 'pred_var'] = '$q_i^{(c)}$'\n",
    "\n",
    "main_stats.rename({\n",
    "    'dv': 'Affect',\n",
    "    'fe': 'F.E.',\n",
    "    'pred_var': 'Predictor',\n",
    "    'decahose': 'Firehose',\n",
    "    'elite': 'Elite',\n",
    "    'radio': 'Radio',\n",
    "}, axis=1, inplace=True)\n",
    "main_stats.drop('Predictor', axis=1, inplace=True)\n",
    "main_stats['F.E.'] = main_stats['F.E.'].map({True: 'Y', False: 'N'})\n",
    "main_stats['Affect'] = main_stats['Affect'].map({'Emotional': 'Emo.', 'Negative': 'Neg.', 'Outraged': 'Out.'})\n",
    "main_stats = main_stats.set_index([\n",
    "    'Affect',\n",
    "    # 'Predictor',\n",
    "    'F.E.'\n",
    "])\n",
    "\n",
    "display(main_stats)\n",
    "print(main_stats.style.to_latex(\n",
    "    column_format='ll|r|r|r',\n",
    "    hrules=True,\n",
    "    convert_css=True,\n",
    "))"
   ]
  },
  {
   "cell_type": "markdown",
   "metadata": {},
   "source": [
    "#### Interaction effects"
   ]
  },
  {
   "cell_type": "code",
   "execution_count": null,
   "metadata": {
    "execution": {
     "iopub.execute_input": "2023-11-10T06:25:33.201831Z",
     "iopub.status.busy": "2023-11-10T06:25:33.196812Z",
     "iopub.status.idle": "2023-11-10T06:25:33.467781Z",
     "shell.execute_reply": "2023-11-10T06:25:33.466652Z"
    },
    "tags": []
   },
   "outputs": [],
   "source": [
    "inter_stats = pd.concat([\n",
    "    nofe_inter_stats \\\n",
    "        .loc[pd.IndexSlice[:, labels, :]] \\\n",
    "        .assign(fe=False) \\\n",
    "        .drop(['cond', 'r2'], axis=1) \\\n",
    "        .reset_index(),\n",
    "    \n",
    "    fe_inter_stats \\\n",
    "        .loc[pd.IndexSlice[:, labels, :]] \\\n",
    "        .assign(fe=True) \\\n",
    "        .drop(['cond', 'r2'], axis=1) \\\n",
    "        .reset_index(),\n",
    "], axis=0)\n",
    "\n",
    "inter_stats['pred_var'] = inter_stats.reset_index()['pred_var'].str.replace(r'\\[T.(elite|radio)\\]', '', regex=True)\n",
    "\n",
    "inter_stats = inter_stats.set_index(['dv', 'pred_var', 'fe', 'kind']).sort_index()\n",
    "\n",
    "inter_stats['disp'] = inter_stats.apply(lambda x: format_disp(x['coef'], x['pval'], x['signif'], x['stderr']), axis=1)\n",
    "\n",
    "inter_stats = inter_stats.drop(['coef', 'pval', 'tstat', 'signif', 'stderr'], axis=1)\n",
    "\n",
    "inter_stats = inter_stats.unstack(3).reset_index()\n",
    "\n",
    "inter_stats.columns = [\n",
    "    c2 if c2 != '' else c1\n",
    "    for c1, c2 in inter_stats.columns\n",
    "]\n",
    "\n",
    "inter_stats['dv'] = inter_stats['dv'].str.title()\n",
    "\n",
    "inter_stats.loc[inter_stats['pred_var'] == 'ws_reltime:kind', 'pred_var'] = '$t_i G_i^{(c)}$'\n",
    "inter_stats.loc[inter_stats['pred_var'] == 'ws_reltime_quad:kind', 'pred_var'] = '$q_i^{(c)} G_i^{(c)}$'\n",
    "\n",
    "inter_stats.rename({\n",
    "    'dv': 'Affect',\n",
    "    'fe': 'F.E.',\n",
    "    'pred_var': 'Predictor',\n",
    "    ('elite', 'decahose'): 'Elite vs. Firehose',\n",
    "    ('elite', 'radio'): 'Elite vs. Radio',\n",
    "    ('radio', 'decahose'): 'Radio vs. Firehose',\n",
    "}, axis=1, inplace=True)\n",
    "inter_stats.drop('Predictor', axis=1, inplace=True)\n",
    "inter_stats['F.E.'] = inter_stats['F.E.'].map({True: 'Y', False: 'N'})\n",
    "inter_stats['Affect'] = inter_stats['Affect'].map({'Emotional': 'Emo.', 'Negative': 'Neg.', 'Outraged': 'Out.'})\n",
    "inter_stats = inter_stats.set_index([\n",
    "    'Affect',\n",
    "    # 'Predictor',\n",
    "    'F.E.'\n",
    "])\n",
    "\n",
    "display(inter_stats)\n",
    "print(inter_stats.style.to_latex(\n",
    "    column_format='ll|r|r|r',\n",
    "    hrules=True,\n",
    "    convert_css=True,\n",
    "))"
   ]
  },
  {
   "cell_type": "code",
   "execution_count": null,
   "metadata": {},
   "outputs": [],
   "source": []
  }
 ],
 "metadata": {
  "kernelspec": {
   "display_name": "DL",
   "language": "python",
   "name": "dl"
  },
  "language_info": {
   "codemirror_mode": {
    "name": "ipython",
    "version": 3
   },
   "file_extension": ".py",
   "mimetype": "text/x-python",
   "name": "python",
   "nbconvert_exporter": "python",
   "pygments_lexer": "ipython3",
   "version": "3.10.10"
  },
  "widgets": {
   "application/vnd.jupyter.widget-state+json": {
    "state": {},
    "version_major": 2,
    "version_minor": 0
   }
  }
 },
 "nbformat": 4,
 "nbformat_minor": 4
}
