{
 "cells": [
  {
   "cell_type": "code",
   "execution_count": null,
   "metadata": {
    "tags": []
   },
   "outputs": [],
   "source": [
    "import os\n",
    "import gzip\n",
    "import random\n",
    "import logging\n",
    "\n",
    "import numpy as np\n",
    "import pandas as pd\n",
    "\n",
    "from statsmodels.distributions.empirical_distribution import ECDF\n",
    "\n",
    "from tqdm.notebook import tqdm"
   ]
  },
  {
   "cell_type": "code",
   "execution_count": null,
   "metadata": {},
   "outputs": [],
   "source": [
    "logger = logging.getLogger(__name__)\n",
    "\n",
    "fmt = '%(asctime)s : %(levelname)s : %(message)s'\n",
    "logging.basicConfig(format=fmt, level=logging.INFO)"
   ]
  },
  {
   "cell_type": "code",
   "execution_count": null,
   "metadata": {},
   "outputs": [],
   "source": [
    "os.chdir(os.path.expanduser('~/github/masthesis/'))"
   ]
  },
  {
   "cell_type": "code",
   "execution_count": null,
   "metadata": {},
   "outputs": [],
   "source": [
    "seed = 2969591811\n",
    "\n",
    "random.seed(seed)\n",
    "np.random.seed(seed)"
   ]
  },
  {
   "cell_type": "markdown",
   "metadata": {},
   "source": [
    "# Load data"
   ]
  },
  {
   "cell_type": "code",
   "execution_count": null,
   "metadata": {},
   "outputs": [],
   "source": [
    "with gzip.open('data/paper-round-3/event-annotated/auto-sample.csv.gz', 'rt') as f:\n",
    "    dat = pd.read_csv(f, parse_dates=['timestamp'], index_col='id')\n",
    "\n",
    "assert dat.index.is_unique\n",
    "\n",
    "dat.shape"
   ]
  },
  {
   "cell_type": "code",
   "execution_count": null,
   "metadata": {},
   "outputs": [],
   "source": [
    "with gzip.open('data/paper-round-3/event-annotated/auto-sample-communities-merged-pre-filter.csv.gz', 'rt') as f:\n",
    "    comms = pd.read_csv(f, index_col='id')\n",
    "\n",
    "assert comms.index.is_unique\n",
    "\n",
    "comms.shape"
   ]
  },
  {
   "cell_type": "code",
   "execution_count": null,
   "metadata": {},
   "outputs": [],
   "source": [
    "dat['group'] = comms['group']\n",
    "dat = dat.loc[dat['group'].notna(), :]\n",
    "\n",
    "dat['group'] = dat['group'].astype(int)\n",
    "dat['year'] = dat['year'].astype(int)\n",
    "\n",
    "dat['content_len'] = dat['content'].str.len()\n",
    "dat['word_len'] = dat['content'].apply(lambda s: len(s.replace('_', '').split()))\n",
    "\n",
    "def covid_words(s):\n",
    "    query_words = ['covid', 'coronavirus', 'corona', 'pandemic', 'virus', 'masks', 'lockdown', 'lockdowns']    \n",
    "    return sum([w in query_words for w in s.replace('_', '').split()])\n",
    "dat['covid_word_len'] = dat['content'].apply(covid_words)"
   ]
  },
  {
   "cell_type": "code",
   "execution_count": null,
   "metadata": {},
   "outputs": [],
   "source": [
    "del comms"
   ]
  },
  {
   "cell_type": "markdown",
   "metadata": {},
   "source": [
    "## Liberal/conservative status"
   ]
  },
  {
   "cell_type": "code",
   "execution_count": null,
   "metadata": {},
   "outputs": [],
   "source": [
    "with gzip.open('data/paper-round-3/radio/paper-round-3-snippets.csv.gz', 'rt') as f:\n",
    "    radio_data_old = pd.read_csv(f, parse_dates=['timestamp'])\n",
    "    radio_data_old['snippet_id'] = 'R' + radio_data_old['snippet_id'].astype(str)\n",
    "\n",
    "with gzip.open('data/paper-round-3/radio/new-data-processed.csv.gz', 'rt') as f:\n",
    "    radio_data_new = pd.read_csv(f, parse_dates=['timestamp'])\n",
    "    radio_data_new['snippet_id'] = 'R' + radio_data_new['snippet_id'].astype(str)\n",
    "\n",
    "radio_data = pd.concat([\n",
    "    radio_data_old[['snippet_id', 'is_public']],\n",
    "    radio_data_new[['snippet_id', 'is_public']],\n",
    "], axis=0).set_index('snippet_id')\n",
    "\n",
    "del radio_data_old, radio_data_new"
   ]
  },
  {
   "cell_type": "code",
   "execution_count": null,
   "metadata": {},
   "outputs": [],
   "source": [
    "elite_data_old = pd.read_csv('data/twitter/tweets-processed.csv', parse_dates=['timestamp'])\n",
    "\n",
    "with gzip.open('data/paper-round-3/twitter/new-data-processed.jsonl.gz', 'rt') as f:\n",
    "    elite_data_new = pd.read_json(f, lines=True)\n",
    "elite_data_new['timestamp'] = pd.to_datetime(elite_data_new['timestamp'])\n",
    "    \n",
    "elite_data = pd.concat([\n",
    "    elite_data_old[['id', 'user_id']],\n",
    "    elite_data_new[['id', 'user_id']],\n",
    "], axis=0)\n",
    "\n",
    "elite_data['id'] = 'E' + elite_data['id'].astype(str)\n",
    "\n",
    "del elite_data_old, elite_data_new"
   ]
  },
  {
   "cell_type": "code",
   "execution_count": null,
   "metadata": {},
   "outputs": [],
   "source": [
    "ci = pd.read_csv('data/twitter/community-ideology.csv')\n",
    "ci = ci.loc[~ci['follow_community'].isna(), ['user_id', 'follow_community']]\n",
    "elite_data = elite_data.merge(ci, how='left', on='user_id')\n",
    "elite_data['conservative'] = (elite_data['follow_community'] == 3).astype(int)"
   ]
  },
  {
   "cell_type": "code",
   "execution_count": null,
   "metadata": {},
   "outputs": [],
   "source": [
    "sample_radio_ids = dat.loc[dat['kind'] == 'radio', :].index\n",
    "sample_elite_ids = dat.loc[dat['kind'] == 'elite', :].index"
   ]
  },
  {
   "cell_type": "code",
   "execution_count": null,
   "metadata": {},
   "outputs": [],
   "source": [
    "ideology_status = pd.concat([\n",
    "    radio_data \\\n",
    "        .loc[radio_data.index.isin(sample_radio_ids), 'is_public'] \\\n",
    "        .apply(lambda s: 1 if s == 0 else 0) \\\n",
    "        .reset_index() \\\n",
    "        .rename({'snippet_id': 'id', 'is_public': 'conservative'}, axis=1) \\\n",
    "        .assign(kind='radio'),\n",
    "\n",
    "    elite_data \\\n",
    "            .loc[elite_data['id'].isin(sample_elite_ids), ['id', 'conservative']] \\\n",
    "            .assign(kind='elite')\n",
    "], axis=0)\n",
    "\n",
    "assert ideology_status['conservative'].isna().sum() == 0\n",
    "\n",
    "ideology_status.groupby('kind')['conservative'].mean()"
   ]
  },
  {
   "cell_type": "code",
   "execution_count": null,
   "metadata": {},
   "outputs": [],
   "source": [
    "dat = dat.merge(ideology_status[['id', 'conservative']], how='left', on='id')"
   ]
  },
  {
   "cell_type": "code",
   "execution_count": null,
   "metadata": {},
   "outputs": [],
   "source": [
    "assert dat.loc[dat['kind'].isin(['radio', 'elite']), 'conservative'].isna().sum() == 0"
   ]
  },
  {
   "cell_type": "markdown",
   "metadata": {},
   "source": [
    "# Story stats"
   ]
  },
  {
   "cell_type": "markdown",
   "metadata": {},
   "source": [
    "## Calculate"
   ]
  },
  {
   "cell_type": "code",
   "execution_count": null,
   "metadata": {},
   "outputs": [],
   "source": [
    "cdf_query_end = 7 * 24 * 3600\n",
    "cdf_query_inc = 60  # one minute; afterward we can sample to a higher frequency if desired\n",
    "n_cdf_pts = int(cdf_query_end / cdf_query_inc)\n",
    "\n",
    "stats, stats_lib, stats_con = [], [], []\n",
    "cdf_vals, cdf_vals_lib, cdf_vals_con = [], [], []\n",
    "for year in tqdm(dat['year'].unique()):\n",
    "    for kind in tqdm(dat['kind'].unique()):\n",
    "        for c in tqdm(dat.loc[(dat['kind'] == kind) & (dat['year'] == year), 'group'].unique()):\n",
    "            tmp = dat.loc[(dat['kind'] == kind) & (dat['year'] == year) & (dat['group'] == c), :]            \n",
    "            assert tmp.shape[0] > 0\n",
    "\n",
    "            tmp_lib = tmp.loc[tmp['conservative'] == 0, :]\n",
    "            tmp_con = tmp.loc[tmp['conservative'] == 1, :]\n",
    "            \n",
    "            stats += [{\n",
    "                'story_id': str(int(year)) + '-' + kind + '-' + str(c),\n",
    "                'year': int(year),\n",
    "                'kind': kind,\n",
    "                'group': c,\n",
    "                'conservative': np.nan,\n",
    "\n",
    "                'count': tmp['reltime'].shape[0],\n",
    "\n",
    "                'start': tmp['reltime'].min(),\n",
    "                'end': tmp['reltime'].max(),\n",
    "                'dur': tmp['reltime'].max() - tmp['reltime'].min(),\n",
    "                'iqr': np.percentile(tmp['reltime'], 75) - np.percentile(tmp['reltime'], 25),\n",
    "                'std': tmp['reltime'].std(),\n",
    "                'avg': (tmp['reltime'] - tmp['reltime'].min()).mean(),\n",
    "                'avg_abs': np.nan,\n",
    "\n",
    "                'covid_frac': tmp['covid_word_len'].sum() / tmp['word_len'].sum(),\n",
    "                'word_len_mean': tmp['word_len'].mean(),\n",
    "                'word_len_std': tmp['word_len'].std(),\n",
    "                'text_len_mean': tmp['content_len'].mean(),\n",
    "                'text_len_std': tmp['content_len'].std(),\n",
    "            }]\n",
    "\n",
    "            cdf_input_pts = tmp['reltime']\n",
    "            cdf = ECDF(cdf_input_pts)\n",
    "            query_pts = np.arange(\n",
    "                cdf_input_pts.min(),\n",
    "                cdf_input_pts.min() + cdf_query_end,            \n",
    "                cdf_query_inc\n",
    "            )\n",
    "            cdf_vals += [cdf(query_pts)[0:n_cdf_pts]]\n",
    "\n",
    "            if tmp_lib.shape[0] > 0:\n",
    "                stats_lib += [{\n",
    "                    'story_id': str(int(year)) + '-' + kind + '-' + str(c),\n",
    "                    'year': int(year),\n",
    "                    'kind': kind,\n",
    "                    'group': c,\n",
    "                    'conservative': 0,\n",
    "\n",
    "                    'count': tmp_lib['reltime'].shape[0],\n",
    "\n",
    "                    'start': tmp_lib['reltime'].min(),\n",
    "                    'end': tmp_lib['reltime'].max(),\n",
    "                    'dur': tmp_lib['reltime'].max() - tmp_lib['reltime'].min(),\n",
    "                    'iqr': np.percentile(tmp_lib['reltime'], 75) - np.percentile(tmp_lib['reltime'], 25),\n",
    "                    'std': tmp_lib['reltime'].std(),\n",
    "                    'avg': (tmp_lib['reltime'] - tmp_lib['reltime'].min()).mean(),\n",
    "                    'avg_abs': (tmp_lib['reltime'] - tmp['reltime'].min()).mean(),\n",
    "\n",
    "                    'covid_frac': tmp_lib['covid_word_len'].sum() / tmp_lib['word_len'].sum(),\n",
    "                    'word_len_mean': tmp_lib['word_len'].mean(),\n",
    "                    'word_len_std': tmp_lib['word_len'].std(),\n",
    "                    'text_len_mean': tmp_lib['content_len'].mean(),\n",
    "                    'text_len_std': tmp_lib['content_len'].std(),\n",
    "                }]\n",
    "                \n",
    "                cdf_input_pts = tmp_lib['reltime']\n",
    "                cdf = ECDF(cdf_input_pts)\n",
    "                query_pts = np.arange(\n",
    "                    cdf_input_pts.min(),\n",
    "                    cdf_input_pts.min() + cdf_query_end,            \n",
    "                    cdf_query_inc\n",
    "                )\n",
    "                cdf_vals_lib += [cdf(query_pts)[0:n_cdf_pts]]\n",
    "            else:\n",
    "                stats_lib += [{\n",
    "                    'story_id': str(int(year)) + '-' + kind + '-' + str(c),\n",
    "                    'year': int(year),\n",
    "                    'kind': kind,\n",
    "                    'group': c,\n",
    "                    'conservative': 0,\n",
    "\n",
    "                    'count': 0,\n",
    "\n",
    "                    'start': np.nan,\n",
    "                    'end': np.nan,\n",
    "                    'dur': np.nan,\n",
    "                    'iqr': np.nan,\n",
    "                    'std': np.nan,\n",
    "                    'avg': np.nan,\n",
    "                    'avg_abs': np.nan,\n",
    "\n",
    "                    'covid_frac': np.nan,\n",
    "                    'word_len_mean': np.nan,\n",
    "                    'word_len_std': np.nan,\n",
    "                    'text_len_mean': np.nan,\n",
    "                    'text_len_std': np.nan,\n",
    "                }]\n",
    "                \n",
    "                vals = np.empty((n_cdf_pts,))\n",
    "                vals[:] = np.nan\n",
    "                cdf_vals_lib += [vals]\n",
    "\n",
    "            if tmp_con.shape[0] > 0:\n",
    "                stats_con += [{\n",
    "                    'story_id': str(int(year)) + '-' + kind + '-' + str(c),\n",
    "                    'year': int(year),\n",
    "                    'kind': kind,\n",
    "                    'group': c,\n",
    "                    'conservative': 1,\n",
    "\n",
    "                    'count': tmp_con['reltime'].shape[0],\n",
    "\n",
    "                    'start': tmp_con['reltime'].min(),\n",
    "                    'end': tmp_con['reltime'].max(),\n",
    "                    'dur': tmp_con['reltime'].max() - tmp_con['reltime'].min(),\n",
    "                    'iqr': np.percentile(tmp_con['reltime'], 75) - np.percentile(tmp_con['reltime'], 25),\n",
    "                    'std': tmp_con['reltime'].std(),\n",
    "                    'avg': (tmp_con['reltime'] - tmp_con['reltime'].min()).mean(),\n",
    "                    'avg_abs': (tmp_con['reltime'] - tmp['reltime'].min()).mean(),\n",
    "\n",
    "                    'covid_frac': tmp_con['covid_word_len'].sum() / tmp_con['word_len'].sum(),\n",
    "                    'word_len_mean': tmp_con['word_len'].mean(),\n",
    "                    'word_len_std': tmp_con['word_len'].std(),\n",
    "                    'text_len_mean': tmp_con['content_len'].mean(),\n",
    "                    'text_len_std': tmp_con['content_len'].std(),\n",
    "                }]\n",
    "\n",
    "                #\n",
    "                # CDFs\n",
    "                #\n",
    "\n",
    "                cdf_input_pts = tmp_con['reltime']\n",
    "                cdf = ECDF(cdf_input_pts)\n",
    "                query_pts = np.arange(\n",
    "                    cdf_input_pts.min(),\n",
    "                    cdf_input_pts.min() + cdf_query_end,            \n",
    "                    cdf_query_inc\n",
    "                )\n",
    "                cdf_vals_con += [cdf(query_pts)[0:n_cdf_pts]]\n",
    "            else:\n",
    "                stats_con += [{\n",
    "                    'story_id': str(int(year)) + '-' + kind + '-' + str(c),\n",
    "                    'year': int(year),\n",
    "                    'kind': kind,\n",
    "                    'group': c,\n",
    "                    'conservative': 1,\n",
    "\n",
    "                    'count': 0,\n",
    "\n",
    "                    'start': np.nan,\n",
    "                    'end': np.nan,\n",
    "                    'dur': np.nan,\n",
    "                    'iqr': np.nan,\n",
    "                    'std': np.nan,\n",
    "                    'avg': np.nan,\n",
    "                    'avg_abs': np.nan,\n",
    "\n",
    "                    'covid_frac': np.nan,\n",
    "                    'word_len_mean': np.nan,\n",
    "                    'word_len_std': np.nan,\n",
    "                    'text_len_mean': np.nan,\n",
    "                    'text_len_std': np.nan,\n",
    "                }]\n",
    "                \n",
    "                vals = np.empty((n_cdf_pts,))\n",
    "                vals[:] = np.nan\n",
    "                cdf_vals_con += [vals]\n",
    "\n",
    "stats = pd.DataFrame(stats)\n",
    "stats_lib = pd.DataFrame(stats_lib)\n",
    "stats_con = pd.DataFrame(stats_con)\n",
    "\n",
    "cdf_vals = np.stack(cdf_vals)\n",
    "cdf_vals_lib = np.stack(cdf_vals_lib)\n",
    "cdf_vals_con = np.stack(cdf_vals_con)"
   ]
  },
  {
   "cell_type": "markdown",
   "metadata": {},
   "source": [
    "# Write out stats + data"
   ]
  },
  {
   "cell_type": "code",
   "execution_count": null,
   "metadata": {},
   "outputs": [],
   "source": [
    "stats.to_csv('data/paper-round-3/event-annotated/auto-story-stats.csv', index=False)"
   ]
  },
  {
   "cell_type": "code",
   "execution_count": null,
   "metadata": {},
   "outputs": [],
   "source": [
    "stats_lib.to_csv('data/paper-round-3/event-annotated/auto-story-stats-lib.csv', index=False)"
   ]
  },
  {
   "cell_type": "code",
   "execution_count": null,
   "metadata": {},
   "outputs": [],
   "source": [
    "stats_con.to_csv('data/paper-round-3/event-annotated/auto-story-stats-con.csv', index=False)"
   ]
  },
  {
   "cell_type": "code",
   "execution_count": null,
   "metadata": {},
   "outputs": [],
   "source": [
    "ideology_status.to_csv('data/paper-round-3/event-annotated/auto-ideology-status.csv', index=False)"
   ]
  },
  {
   "cell_type": "code",
   "execution_count": null,
   "metadata": {},
   "outputs": [],
   "source": [
    "with open('data/paper-round-3/event-annotated/auto-story-cdfs.npy', 'wb') as f:\n",
    "    np.save(f, cdf_vals)\n",
    "\n",
    "with open('data/paper-round-3/event-annotated/auto-story-cdfs-lib.npy', 'wb') as f:\n",
    "    np.save(f, cdf_vals_lib)\n",
    "\n",
    "with open('data/paper-round-3/event-annotated/auto-story-cdfs-con.npy', 'wb') as f:\n",
    "    np.save(f, cdf_vals_con)"
   ]
  },
  {
   "cell_type": "code",
   "execution_count": null,
   "metadata": {},
   "outputs": [],
   "source": []
  }
 ],
 "metadata": {
  "kernelspec": {
   "display_name": "DL",
   "language": "python",
   "name": "dl"
  },
  "language_info": {
   "codemirror_mode": {
    "name": "ipython",
    "version": 3
   },
   "file_extension": ".py",
   "mimetype": "text/x-python",
   "name": "python",
   "nbconvert_exporter": "python",
   "pygments_lexer": "ipython3",
   "version": "3.10.10"
  },
  "widgets": {
   "application/vnd.jupyter.widget-state+json": {
    "state": {
     "035ede3d894d4813aaba6564f739c927": {
      "model_module": "@jupyter-widgets/controls",
      "model_module_version": "2.0.0",
      "model_name": "HBoxModel",
      "state": {
       "children": [
        "IPY_MODEL_e4c9739e7fbb406e990622dbf0302229",
        "IPY_MODEL_7c985d9e339340d891e813a33b274cf3",
        "IPY_MODEL_7a062f740ca84a65a342962f1843bde9"
       ],
       "layout": "IPY_MODEL_73a3b3c8f3414dccbd8a4b5ed1bc1766"
      }
     },
     "048a7e4c66af4621958dccded362a07b": {
      "model_module": "@jupyter-widgets/controls",
      "model_module_version": "2.0.0",
      "model_name": "HTMLStyleModel",
      "state": {
       "description_width": "",
       "font_size": null,
       "text_color": null
      }
     },
     "04e95bcef1814c639e970505c8a38f6d": {
      "model_module": "@jupyter-widgets/base",
      "model_module_version": "2.0.0",
      "model_name": "LayoutModel",
      "state": {}
     },
     "0592d2e4a2be45d097301ff1ff033f7b": {
      "model_module": "@jupyter-widgets/controls",
      "model_module_version": "2.0.0",
      "model_name": "HTMLModel",
      "state": {
       "layout": "IPY_MODEL_50e9baa1632f4ac3848ead1991988ef4",
       "style": "IPY_MODEL_782fd80ea2584ea992261c4a950abed0",
       "value": "100%"
      }
     },
     "0888e5b0b6904e4a9b03b29b96209ed4": {
      "model_module": "@jupyter-widgets/controls",
      "model_module_version": "2.0.0",
      "model_name": "HTMLStyleModel",
      "state": {
       "description_width": "",
       "font_size": null,
       "text_color": null
      }
     },
     "08a0b2f1731f48f0beb4b50ffa7e20b3": {
      "model_module": "@jupyter-widgets/controls",
      "model_module_version": "2.0.0",
      "model_name": "ProgressStyleModel",
      "state": {
       "description_width": ""
      }
     },
     "096a9511a68245588d381fe542efb265": {
      "model_module": "@jupyter-widgets/controls",
      "model_module_version": "2.0.0",
      "model_name": "HTMLStyleModel",
      "state": {
       "description_width": "",
       "font_size": null,
       "text_color": null
      }
     },
     "0b1dd21f272444da80c4f49eab567d5c": {
      "model_module": "@jupyter-widgets/controls",
      "model_module_version": "2.0.0",
      "model_name": "ProgressStyleModel",
      "state": {
       "description_width": ""
      }
     },
     "0c183344766644a7bb040f63c89e8847": {
      "model_module": "@jupyter-widgets/controls",
      "model_module_version": "2.0.0",
      "model_name": "HTMLModel",
      "state": {
       "layout": "IPY_MODEL_699c8ba9c6ea4203a917a80c80c1377c",
       "style": "IPY_MODEL_899313c1e54449bd9b417aeca7acc580",
       "value": " 1379/1379 [02:50&lt;00:00,  8.13it/s]"
      }
     },
     "0c1ea9b929fe4ba392a364a0d2aa622c": {
      "model_module": "@jupyter-widgets/base",
      "model_module_version": "2.0.0",
      "model_name": "LayoutModel",
      "state": {}
     },
     "0f88b2e41e4f44e3b2178887123f2777": {
      "model_module": "@jupyter-widgets/controls",
      "model_module_version": "2.0.0",
      "model_name": "HTMLStyleModel",
      "state": {
       "description_width": "",
       "font_size": null,
       "text_color": null
      }
     },
     "124230fe53fb464ead5b5895d6b55f86": {
      "model_module": "@jupyter-widgets/base",
      "model_module_version": "2.0.0",
      "model_name": "LayoutModel",
      "state": {}
     },
     "1327e81efbbf4183b626ef9424e6a52e": {
      "model_module": "@jupyter-widgets/controls",
      "model_module_version": "2.0.0",
      "model_name": "HTMLStyleModel",
      "state": {
       "description_width": "",
       "font_size": null,
       "text_color": null
      }
     },
     "146bef1b968c4f8e972f8d52c1aeffbb": {
      "model_module": "@jupyter-widgets/base",
      "model_module_version": "2.0.0",
      "model_name": "LayoutModel",
      "state": {}
     },
     "1600c17f2852423db02dfe3b8750bb0a": {
      "model_module": "@jupyter-widgets/controls",
      "model_module_version": "2.0.0",
      "model_name": "HTMLStyleModel",
      "state": {
       "description_width": "",
       "font_size": null,
       "text_color": null
      }
     },
     "1c78dc428b1b4e0baa869c22936e43c9": {
      "model_module": "@jupyter-widgets/controls",
      "model_module_version": "2.0.0",
      "model_name": "ProgressStyleModel",
      "state": {
       "description_width": ""
      }
     },
     "1de8defece444d7c920f43d0c62de9a6": {
      "model_module": "@jupyter-widgets/controls",
      "model_module_version": "2.0.0",
      "model_name": "FloatProgressModel",
      "state": {
       "bar_style": "success",
       "layout": "IPY_MODEL_33c35f7d18cc43c38aa0e3f0643d05e1",
       "max": 553,
       "style": "IPY_MODEL_0b1dd21f272444da80c4f49eab567d5c",
       "value": 553
      }
     },
     "1e4a7e73192a46aeaaf97cb387263b1f": {
      "model_module": "@jupyter-widgets/controls",
      "model_module_version": "2.0.0",
      "model_name": "ProgressStyleModel",
      "state": {
       "description_width": ""
      }
     },
     "2234db2c032d4dc8b2ba8941e734d4e8": {
      "model_module": "@jupyter-widgets/controls",
      "model_module_version": "2.0.0",
      "model_name": "HTMLModel",
      "state": {
       "layout": "IPY_MODEL_45ad52df09f64b9f9d6c7e1cf470eaf2",
       "style": "IPY_MODEL_c81d539785d242deb222a49e3c9bd9d3",
       "value": " 553/553 [01:09&lt;00:00,  8.10it/s]"
      }
     },
     "2265d7b14a844645b137f8d0505218e0": {
      "model_module": "@jupyter-widgets/controls",
      "model_module_version": "2.0.0",
      "model_name": "HTMLStyleModel",
      "state": {
       "description_width": "",
       "font_size": null,
       "text_color": null
      }
     },
     "229ca18529d7487c93e810435a520d07": {
      "model_module": "@jupyter-widgets/base",
      "model_module_version": "2.0.0",
      "model_name": "LayoutModel",
      "state": {}
     },
     "23bb3f5fe93d4f9691d248a09ccd7b52": {
      "model_module": "@jupyter-widgets/controls",
      "model_module_version": "2.0.0",
      "model_name": "ProgressStyleModel",
      "state": {
       "description_width": ""
      }
     },
     "245cf1c3a9104507a2d409334ba281b3": {
      "model_module": "@jupyter-widgets/controls",
      "model_module_version": "2.0.0",
      "model_name": "HTMLModel",
      "state": {
       "layout": "IPY_MODEL_5fdc4342d1b14ce9b08799c4f2069185",
       "style": "IPY_MODEL_6b4b52954a4f4c5bb003f225d546bda3",
       "value": " 1097/1097 [02:15&lt;00:00,  8.12it/s]"
      }
     },
     "25f0391c58a349a4b52d9588e39ad019": {
      "model_module": "@jupyter-widgets/controls",
      "model_module_version": "2.0.0",
      "model_name": "HTMLStyleModel",
      "state": {
       "description_width": "",
       "font_size": null,
       "text_color": null
      }
     },
     "270e32d275994b8eadc0a9fc6b8f385c": {
      "model_module": "@jupyter-widgets/base",
      "model_module_version": "2.0.0",
      "model_name": "LayoutModel",
      "state": {}
     },
     "27fbac43b2e14638b9f879d3be0aac50": {
      "model_module": "@jupyter-widgets/controls",
      "model_module_version": "2.0.0",
      "model_name": "HTMLModel",
      "state": {
       "layout": "IPY_MODEL_728f3848657c456ebe6abd99e863f189",
       "style": "IPY_MODEL_dcb64bd2e21748a08bf30d9ba137b98b",
       "value": "100%"
      }
     },
     "29eb1d6923cc45ccbd39fe0b882fc3cb": {
      "model_module": "@jupyter-widgets/controls",
      "model_module_version": "2.0.0",
      "model_name": "HTMLModel",
      "state": {
       "layout": "IPY_MODEL_d239264ea714412e94c9b0cb6405a27c",
       "style": "IPY_MODEL_0f88b2e41e4f44e3b2178887123f2777",
       "value": " 3/3 [06:54&lt;00:00, 131.78s/it]"
      }
     },
     "2b3f4e67ba7c459d94f51ce73b5a7383": {
      "model_module": "@jupyter-widgets/base",
      "model_module_version": "2.0.0",
      "model_name": "LayoutModel",
      "state": {}
     },
     "2ca1e7bfd2234a6fb5412fccc219bbb5": {
      "model_module": "@jupyter-widgets/base",
      "model_module_version": "2.0.0",
      "model_name": "LayoutModel",
      "state": {}
     },
     "2ef755ad79694e138f8e39bb5ce5451e": {
      "model_module": "@jupyter-widgets/controls",
      "model_module_version": "2.0.0",
      "model_name": "HTMLStyleModel",
      "state": {
       "description_width": "",
       "font_size": null,
       "text_color": null
      }
     },
     "2fb436909a5e4c74940e417d7a0d86f8": {
      "model_module": "@jupyter-widgets/base",
      "model_module_version": "2.0.0",
      "model_name": "LayoutModel",
      "state": {}
     },
     "304975d842304d7b97d3e60044f54a12": {
      "model_module": "@jupyter-widgets/controls",
      "model_module_version": "2.0.0",
      "model_name": "FloatProgressModel",
      "state": {
       "bar_style": "success",
       "layout": "IPY_MODEL_357494740f8a4a75a5d444264cfed75f",
       "max": 1379,
       "style": "IPY_MODEL_08a0b2f1731f48f0beb4b50ffa7e20b3",
       "value": 1379
      }
     },
     "31a769daf6eb4dc5a8647571cf9a9409": {
      "model_module": "@jupyter-widgets/base",
      "model_module_version": "2.0.0",
      "model_name": "LayoutModel",
      "state": {}
     },
     "31c436247c6f482992dd9999c266e843": {
      "model_module": "@jupyter-widgets/base",
      "model_module_version": "2.0.0",
      "model_name": "LayoutModel",
      "state": {}
     },
     "33c35f7d18cc43c38aa0e3f0643d05e1": {
      "model_module": "@jupyter-widgets/base",
      "model_module_version": "2.0.0",
      "model_name": "LayoutModel",
      "state": {}
     },
     "33dbff8b1f7d43209e5f2fbbbeb8491d": {
      "model_module": "@jupyter-widgets/controls",
      "model_module_version": "2.0.0",
      "model_name": "HTMLModel",
      "state": {
       "layout": "IPY_MODEL_996cf34ca7d74f9ab125de593ebf941d",
       "style": "IPY_MODEL_a68b6735ab2a45d483a466c4fd87f789",
       "value": "100%"
      }
     },
     "357494740f8a4a75a5d444264cfed75f": {
      "model_module": "@jupyter-widgets/base",
      "model_module_version": "2.0.0",
      "model_name": "LayoutModel",
      "state": {}
     },
     "35a00c69c839464daf40e58d41b3425d": {
      "model_module": "@jupyter-widgets/base",
      "model_module_version": "2.0.0",
      "model_name": "LayoutModel",
      "state": {}
     },
     "35b754e3a43d4e159e414fed64964fc2": {
      "model_module": "@jupyter-widgets/controls",
      "model_module_version": "2.0.0",
      "model_name": "HBoxModel",
      "state": {
       "children": [
        "IPY_MODEL_9577d4ca3e2c41e98c282ee502a60a06",
        "IPY_MODEL_4ae69d08c0e74f5d88416c1aeaf620f1",
        "IPY_MODEL_654f41be8323405cbbdacc62531d9637"
       ],
       "layout": "IPY_MODEL_b26d9aaf70404fbf850a3281d4492bce"
      }
     },
     "3a39abbd31d948b18947b50ab7109305": {
      "model_module": "@jupyter-widgets/controls",
      "model_module_version": "2.0.0",
      "model_name": "HBoxModel",
      "state": {
       "children": [
        "IPY_MODEL_4f1796d96bea4233b3112d0d0599ff95",
        "IPY_MODEL_6094debb1b3d45e3a239a1b0fe1756e0",
        "IPY_MODEL_b1ff30155f124c3bb28cb6ed78322c76"
       ],
       "layout": "IPY_MODEL_f09c3d09d6e84bd2800c5ad1204250f8"
      }
     },
     "3a8f918184c347d29112e96d39eaaa87": {
      "model_module": "@jupyter-widgets/controls",
      "model_module_version": "2.0.0",
      "model_name": "HTMLStyleModel",
      "state": {
       "description_width": "",
       "font_size": null,
       "text_color": null
      }
     },
     "3b59f68ec069445dbbfa178800e7aa50": {
      "model_module": "@jupyter-widgets/base",
      "model_module_version": "2.0.0",
      "model_name": "LayoutModel",
      "state": {}
     },
     "3fbacbd29ca54ce087f02c1451f97e95": {
      "model_module": "@jupyter-widgets/controls",
      "model_module_version": "2.0.0",
      "model_name": "HTMLStyleModel",
      "state": {
       "description_width": "",
       "font_size": null,
       "text_color": null
      }
     },
     "416d5f34b2c94d2bb654f160bdcbfb62": {
      "model_module": "@jupyter-widgets/base",
      "model_module_version": "2.0.0",
      "model_name": "LayoutModel",
      "state": {}
     },
     "45ad52df09f64b9f9d6c7e1cf470eaf2": {
      "model_module": "@jupyter-widgets/base",
      "model_module_version": "2.0.0",
      "model_name": "LayoutModel",
      "state": {}
     },
     "462b285ec39e419c9b82ffcd6cef4b3c": {
      "model_module": "@jupyter-widgets/controls",
      "model_module_version": "2.0.0",
      "model_name": "HTMLStyleModel",
      "state": {
       "description_width": "",
       "font_size": null,
       "text_color": null
      }
     },
     "4675c0c4a9874cac9cda04e29347c424": {
      "model_module": "@jupyter-widgets/base",
      "model_module_version": "2.0.0",
      "model_name": "LayoutModel",
      "state": {}
     },
     "4ae69d08c0e74f5d88416c1aeaf620f1": {
      "model_module": "@jupyter-widgets/controls",
      "model_module_version": "2.0.0",
      "model_name": "FloatProgressModel",
      "state": {
       "bar_style": "success",
       "layout": "IPY_MODEL_31a769daf6eb4dc5a8647571cf9a9409",
       "max": 302,
       "style": "IPY_MODEL_b505353ae66146d5886183e5fef56c18",
       "value": 302
      }
     },
     "4c65e002ccd74e1fbe6a53bcf1034d9c": {
      "model_module": "@jupyter-widgets/controls",
      "model_module_version": "2.0.0",
      "model_name": "HTMLStyleModel",
      "state": {
       "description_width": "",
       "font_size": null,
       "text_color": null
      }
     },
     "4e94cf68e7e04cadb6d3aeae6a5d4650": {
      "model_module": "@jupyter-widgets/controls",
      "model_module_version": "2.0.0",
      "model_name": "HBoxModel",
      "state": {
       "children": [
        "IPY_MODEL_841bab0fb0124440a890fee595f3b4f8",
        "IPY_MODEL_1de8defece444d7c920f43d0c62de9a6",
        "IPY_MODEL_2234db2c032d4dc8b2ba8941e734d4e8"
       ],
       "layout": "IPY_MODEL_961f1c17c28840a0b4604873e517c4e3"
      }
     },
     "4f1796d96bea4233b3112d0d0599ff95": {
      "model_module": "@jupyter-widgets/controls",
      "model_module_version": "2.0.0",
      "model_name": "HTMLModel",
      "state": {
       "layout": "IPY_MODEL_63fe6ea8e9ec42a4a9daf6f1e95d8b58",
       "style": "IPY_MODEL_c21e40b42e1b4dfa9050f39fc46b64f8",
       "value": "100%"
      }
     },
     "502173818d78408583b05a580735a84f": {
      "model_module": "@jupyter-widgets/controls",
      "model_module_version": "2.0.0",
      "model_name": "HTMLStyleModel",
      "state": {
       "description_width": "",
       "font_size": null,
       "text_color": null
      }
     },
     "50e9baa1632f4ac3848ead1991988ef4": {
      "model_module": "@jupyter-widgets/base",
      "model_module_version": "2.0.0",
      "model_name": "LayoutModel",
      "state": {}
     },
     "52584240c8eb49e1aa1961ec0b04fc97": {
      "model_module": "@jupyter-widgets/controls",
      "model_module_version": "2.0.0",
      "model_name": "HTMLModel",
      "state": {
       "layout": "IPY_MODEL_62d4e1b2f8064701abec0271accb9879",
       "style": "IPY_MODEL_096a9511a68245588d381fe542efb265",
       "value": " 3/3 [05:06&lt;00:00, 89.00s/it]"
      }
     },
     "52dbf094546847dfb0b3d10792662ad1": {
      "model_module": "@jupyter-widgets/controls",
      "model_module_version": "2.0.0",
      "model_name": "HTMLModel",
      "state": {
       "layout": "IPY_MODEL_416d5f34b2c94d2bb654f160bdcbfb62",
       "style": "IPY_MODEL_1600c17f2852423db02dfe3b8750bb0a",
       "value": "100%"
      }
     },
     "530309d117484629b040485634e80213": {
      "model_module": "@jupyter-widgets/base",
      "model_module_version": "2.0.0",
      "model_name": "LayoutModel",
      "state": {}
     },
     "567aa8aba2744004828e1443b22a8a00": {
      "model_module": "@jupyter-widgets/controls",
      "model_module_version": "2.0.0",
      "model_name": "FloatProgressModel",
      "state": {
       "bar_style": "success",
       "layout": "IPY_MODEL_229ca18529d7487c93e810435a520d07",
       "max": 139,
       "style": "IPY_MODEL_bc038cedb8594978a8b1268a61265a47",
       "value": 139
      }
     },
     "569e279b204c45e2bdf4c2107c81216d": {
      "model_module": "@jupyter-widgets/controls",
      "model_module_version": "2.0.0",
      "model_name": "FloatProgressModel",
      "state": {
       "bar_style": "success",
       "layout": "IPY_MODEL_7c7ae3732cd84dbe8f8d60482cbdd628",
       "max": 3,
       "style": "IPY_MODEL_1c78dc428b1b4e0baa869c22936e43c9",
       "value": 3
      }
     },
     "5e4c27b3423d465cb864fa8bbe8813ab": {
      "model_module": "@jupyter-widgets/controls",
      "model_module_version": "2.0.0",
      "model_name": "HBoxModel",
      "state": {
       "children": [
        "IPY_MODEL_a8bb900c04de4fe4ae86e97d276edf06",
        "IPY_MODEL_b0ee3424cf1545d3bfc8d20b99a8057d",
        "IPY_MODEL_b9f6c018672b4bccb45d49fff31727b1"
       ],
       "layout": "IPY_MODEL_62db95477c574bd1b5e63fa7c4ed1522"
      }
     },
     "5fdc4342d1b14ce9b08799c4f2069185": {
      "model_module": "@jupyter-widgets/base",
      "model_module_version": "2.0.0",
      "model_name": "LayoutModel",
      "state": {}
     },
     "6094debb1b3d45e3a239a1b0fe1756e0": {
      "model_module": "@jupyter-widgets/controls",
      "model_module_version": "2.0.0",
      "model_name": "FloatProgressModel",
      "state": {
       "bar_style": "success",
       "layout": "IPY_MODEL_f2ac8c7398f648c7838e475cd6984fe6",
       "max": 3,
       "style": "IPY_MODEL_1e4a7e73192a46aeaaf97cb387263b1f",
       "value": 3
      }
     },
     "6211496e3439491285014c6bc9add77f": {
      "model_module": "@jupyter-widgets/controls",
      "model_module_version": "2.0.0",
      "model_name": "HBoxModel",
      "state": {
       "children": [
        "IPY_MODEL_edfd55eb7bee486cb1b47d1c15cf6152",
        "IPY_MODEL_304975d842304d7b97d3e60044f54a12",
        "IPY_MODEL_0c183344766644a7bb040f63c89e8847"
       ],
       "layout": "IPY_MODEL_b256d1343bc440ed902440323c861024"
      }
     },
     "62d4e1b2f8064701abec0271accb9879": {
      "model_module": "@jupyter-widgets/base",
      "model_module_version": "2.0.0",
      "model_name": "LayoutModel",
      "state": {}
     },
     "62db95477c574bd1b5e63fa7c4ed1522": {
      "model_module": "@jupyter-widgets/base",
      "model_module_version": "2.0.0",
      "model_name": "LayoutModel",
      "state": {}
     },
     "63d07a6c434c4f839256cc2ecc1f281a": {
      "model_module": "@jupyter-widgets/base",
      "model_module_version": "2.0.0",
      "model_name": "LayoutModel",
      "state": {}
     },
     "63fe6ea8e9ec42a4a9daf6f1e95d8b58": {
      "model_module": "@jupyter-widgets/base",
      "model_module_version": "2.0.0",
      "model_name": "LayoutModel",
      "state": {}
     },
     "652ee82bd0ef4c5ea7df5ac3cb892aa4": {
      "model_module": "@jupyter-widgets/controls",
      "model_module_version": "2.0.0",
      "model_name": "HTMLModel",
      "state": {
       "layout": "IPY_MODEL_270e32d275994b8eadc0a9fc6b8f385c",
       "style": "IPY_MODEL_bf49d3f3309b4b2d9eac67761be279e6",
       "value": "100%"
      }
     },
     "654f41be8323405cbbdacc62531d9637": {
      "model_module": "@jupyter-widgets/controls",
      "model_module_version": "2.0.0",
      "model_name": "HTMLModel",
      "state": {
       "layout": "IPY_MODEL_72a46fda359c4728959003a3bc62ea72",
       "style": "IPY_MODEL_e8635f08d4214bd78903cc5c95ba6d71",
       "value": " 302/302 [00:37&lt;00:00,  8.07it/s]"
      }
     },
     "699c8ba9c6ea4203a917a80c80c1377c": {
      "model_module": "@jupyter-widgets/base",
      "model_module_version": "2.0.0",
      "model_name": "LayoutModel",
      "state": {}
     },
     "6b4b52954a4f4c5bb003f225d546bda3": {
      "model_module": "@jupyter-widgets/controls",
      "model_module_version": "2.0.0",
      "model_name": "HTMLStyleModel",
      "state": {
       "description_width": "",
       "font_size": null,
       "text_color": null
      }
     },
     "7148343831944e41b468a2ca2235e4a7": {
      "model_module": "@jupyter-widgets/base",
      "model_module_version": "2.0.0",
      "model_name": "LayoutModel",
      "state": {}
     },
     "728f3848657c456ebe6abd99e863f189": {
      "model_module": "@jupyter-widgets/base",
      "model_module_version": "2.0.0",
      "model_name": "LayoutModel",
      "state": {}
     },
     "72a46fda359c4728959003a3bc62ea72": {
      "model_module": "@jupyter-widgets/base",
      "model_module_version": "2.0.0",
      "model_name": "LayoutModel",
      "state": {}
     },
     "73a3b3c8f3414dccbd8a4b5ed1bc1766": {
      "model_module": "@jupyter-widgets/base",
      "model_module_version": "2.0.0",
      "model_name": "LayoutModel",
      "state": {}
     },
     "7437c41ad3614c0ca0f1d209a7f6c1c0": {
      "model_module": "@jupyter-widgets/controls",
      "model_module_version": "2.0.0",
      "model_name": "FloatProgressModel",
      "state": {
       "bar_style": "success",
       "layout": "IPY_MODEL_63d07a6c434c4f839256cc2ecc1f281a",
       "max": 3,
       "style": "IPY_MODEL_97261231a7f046ef9d9fc882020588c3",
       "value": 3
      }
     },
     "7751ab9e52a14cef9950526948e0f95b": {
      "model_module": "@jupyter-widgets/base",
      "model_module_version": "2.0.0",
      "model_name": "LayoutModel",
      "state": {}
     },
     "782fd80ea2584ea992261c4a950abed0": {
      "model_module": "@jupyter-widgets/controls",
      "model_module_version": "2.0.0",
      "model_name": "HTMLStyleModel",
      "state": {
       "description_width": "",
       "font_size": null,
       "text_color": null
      }
     },
     "7a062f740ca84a65a342962f1843bde9": {
      "model_module": "@jupyter-widgets/controls",
      "model_module_version": "2.0.0",
      "model_name": "HTMLModel",
      "state": {
       "layout": "IPY_MODEL_fb6ce4de9cbb47fc85cf121aadfd0ebd",
       "style": "IPY_MODEL_25f0391c58a349a4b52d9588e39ad019",
       "value": " 975/975 [01:59&lt;00:00,  8.26it/s]"
      }
     },
     "7c6d16dd945a4e1a8470b14d47e8111d": {
      "model_module": "@jupyter-widgets/controls",
      "model_module_version": "2.0.0",
      "model_name": "ProgressStyleModel",
      "state": {
       "description_width": ""
      }
     },
     "7c7ae3732cd84dbe8f8d60482cbdd628": {
      "model_module": "@jupyter-widgets/base",
      "model_module_version": "2.0.0",
      "model_name": "LayoutModel",
      "state": {}
     },
     "7c985d9e339340d891e813a33b274cf3": {
      "model_module": "@jupyter-widgets/controls",
      "model_module_version": "2.0.0",
      "model_name": "FloatProgressModel",
      "state": {
       "bar_style": "success",
       "layout": "IPY_MODEL_2fb436909a5e4c74940e417d7a0d86f8",
       "max": 975,
       "style": "IPY_MODEL_e38a00dcaf144e60ac6c32030dd0e017",
       "value": 975
      }
     },
     "7ff48b6684e24e20954afe06683219d6": {
      "model_module": "@jupyter-widgets/controls",
      "model_module_version": "2.0.0",
      "model_name": "FloatProgressModel",
      "state": {
       "bar_style": "success",
       "layout": "IPY_MODEL_7751ab9e52a14cef9950526948e0f95b",
       "max": 707,
       "style": "IPY_MODEL_23bb3f5fe93d4f9691d248a09ccd7b52",
       "value": 707
      }
     },
     "841bab0fb0124440a890fee595f3b4f8": {
      "model_module": "@jupyter-widgets/controls",
      "model_module_version": "2.0.0",
      "model_name": "HTMLModel",
      "state": {
       "layout": "IPY_MODEL_124230fe53fb464ead5b5895d6b55f86",
       "style": "IPY_MODEL_bf8a0a6c7b044322be40c63170ce7112",
       "value": "100%"
      }
     },
     "860a9efb17b24d5da57ccbbe3e06a352": {
      "model_module": "@jupyter-widgets/controls",
      "model_module_version": "2.0.0",
      "model_name": "HBoxModel",
      "state": {
       "children": [
        "IPY_MODEL_0592d2e4a2be45d097301ff1ff033f7b",
        "IPY_MODEL_d5f267e64b70458a96a6321cce1d2ba2",
        "IPY_MODEL_ea2eed482df1429dbb654589731635a5"
       ],
       "layout": "IPY_MODEL_e7350f0d40d0427d8e83de0d57fdad8f"
      }
     },
     "899313c1e54449bd9b417aeca7acc580": {
      "model_module": "@jupyter-widgets/controls",
      "model_module_version": "2.0.0",
      "model_name": "HTMLStyleModel",
      "state": {
       "description_width": "",
       "font_size": null,
       "text_color": null
      }
     },
     "8b54f23412f64ee3bafa4ec26a262b77": {
      "model_module": "@jupyter-widgets/base",
      "model_module_version": "2.0.0",
      "model_name": "LayoutModel",
      "state": {}
     },
     "901e7d2e80214df8b3d95312e293b328": {
      "model_module": "@jupyter-widgets/controls",
      "model_module_version": "2.0.0",
      "model_name": "HBoxModel",
      "state": {
       "children": [
        "IPY_MODEL_33dbff8b1f7d43209e5f2fbbbeb8491d",
        "IPY_MODEL_569e279b204c45e2bdf4c2107c81216d",
        "IPY_MODEL_52584240c8eb49e1aa1961ec0b04fc97"
       ],
       "layout": "IPY_MODEL_04e95bcef1814c639e970505c8a38f6d"
      }
     },
     "9577d4ca3e2c41e98c282ee502a60a06": {
      "model_module": "@jupyter-widgets/controls",
      "model_module_version": "2.0.0",
      "model_name": "HTMLModel",
      "state": {
       "layout": "IPY_MODEL_4675c0c4a9874cac9cda04e29347c424",
       "style": "IPY_MODEL_3fbacbd29ca54ce087f02c1451f97e95",
       "value": "100%"
      }
     },
     "961f1c17c28840a0b4604873e517c4e3": {
      "model_module": "@jupyter-widgets/base",
      "model_module_version": "2.0.0",
      "model_name": "LayoutModel",
      "state": {}
     },
     "97261231a7f046ef9d9fc882020588c3": {
      "model_module": "@jupyter-widgets/controls",
      "model_module_version": "2.0.0",
      "model_name": "ProgressStyleModel",
      "state": {
       "description_width": ""
      }
     },
     "97ca011566454299b9d7223c643a85fe": {
      "model_module": "@jupyter-widgets/controls",
      "model_module_version": "2.0.0",
      "model_name": "HTMLModel",
      "state": {
       "layout": "IPY_MODEL_fb72fdc7a9564811b80aefa1fad990b0",
       "style": "IPY_MODEL_2ef755ad79694e138f8e39bb5ce5451e",
       "value": " 1528/1528 [03:10&lt;00:00,  8.12it/s]"
      }
     },
     "98d4e414b99b47e3bdb827ca0ce89aa9": {
      "model_module": "@jupyter-widgets/base",
      "model_module_version": "2.0.0",
      "model_name": "LayoutModel",
      "state": {}
     },
     "996cf34ca7d74f9ab125de593ebf941d": {
      "model_module": "@jupyter-widgets/base",
      "model_module_version": "2.0.0",
      "model_name": "LayoutModel",
      "state": {}
     },
     "a5b02a02f7bc45548259722bc5403363": {
      "model_module": "@jupyter-widgets/base",
      "model_module_version": "2.0.0",
      "model_name": "LayoutModel",
      "state": {}
     },
     "a68b6735ab2a45d483a466c4fd87f789": {
      "model_module": "@jupyter-widgets/controls",
      "model_module_version": "2.0.0",
      "model_name": "HTMLStyleModel",
      "state": {
       "description_width": "",
       "font_size": null,
       "text_color": null
      }
     },
     "a8bb900c04de4fe4ae86e97d276edf06": {
      "model_module": "@jupyter-widgets/controls",
      "model_module_version": "2.0.0",
      "model_name": "HTMLModel",
      "state": {
       "layout": "IPY_MODEL_98d4e414b99b47e3bdb827ca0ce89aa9",
       "style": "IPY_MODEL_dd74ad9ffa224bdb909067c30e3475da",
       "value": "100%"
      }
     },
     "ad71c2322500495d8158dd7f3d88b18e": {
      "model_module": "@jupyter-widgets/controls",
      "model_module_version": "2.0.0",
      "model_name": "HBoxModel",
      "state": {
       "children": [
        "IPY_MODEL_652ee82bd0ef4c5ea7df5ac3cb892aa4",
        "IPY_MODEL_b6bed22cb6cb4afea6f95da9d33c42a2",
        "IPY_MODEL_245cf1c3a9104507a2d409334ba281b3"
       ],
       "layout": "IPY_MODEL_35a00c69c839464daf40e58d41b3425d"
      }
     },
     "b0ee3424cf1545d3bfc8d20b99a8057d": {
      "model_module": "@jupyter-widgets/controls",
      "model_module_version": "2.0.0",
      "model_name": "FloatProgressModel",
      "state": {
       "bar_style": "success",
       "layout": "IPY_MODEL_fe6564e96a3946d6ae401ddb4a20cdbf",
       "max": 3,
       "style": "IPY_MODEL_bed438d5bcfb4aec89692b70edc5ca30",
       "value": 3
      }
     },
     "b1ff30155f124c3bb28cb6ed78322c76": {
      "model_module": "@jupyter-widgets/controls",
      "model_module_version": "2.0.0",
      "model_name": "HTMLModel",
      "state": {
       "layout": "IPY_MODEL_3b59f68ec069445dbbfa178800e7aa50",
       "style": "IPY_MODEL_2265d7b14a844645b137f8d0505218e0",
       "value": " 3/3 [04:45&lt;00:00, 97.16s/it]"
      }
     },
     "b256d1343bc440ed902440323c861024": {
      "model_module": "@jupyter-widgets/base",
      "model_module_version": "2.0.0",
      "model_name": "LayoutModel",
      "state": {}
     },
     "b26d9aaf70404fbf850a3281d4492bce": {
      "model_module": "@jupyter-widgets/base",
      "model_module_version": "2.0.0",
      "model_name": "LayoutModel",
      "state": {}
     },
     "b3e89932159048d284afdae7dbea8cee": {
      "model_module": "@jupyter-widgets/controls",
      "model_module_version": "2.0.0",
      "model_name": "FloatProgressModel",
      "state": {
       "bar_style": "success",
       "layout": "IPY_MODEL_a5b02a02f7bc45548259722bc5403363",
       "max": 1528,
       "style": "IPY_MODEL_da9b5f20c4cf4427b013c2b4cddd446d",
       "value": 1528
      }
     },
     "b460f7b68fcc4c5abf538e35cf497c17": {
      "model_module": "@jupyter-widgets/controls",
      "model_module_version": "2.0.0",
      "model_name": "HBoxModel",
      "state": {
       "children": [
        "IPY_MODEL_27fbac43b2e14638b9f879d3be0aac50",
        "IPY_MODEL_7437c41ad3614c0ca0f1d209a7f6c1c0",
        "IPY_MODEL_29eb1d6923cc45ccbd39fe0b882fc3cb"
       ],
       "layout": "IPY_MODEL_530309d117484629b040485634e80213"
      }
     },
     "b505353ae66146d5886183e5fef56c18": {
      "model_module": "@jupyter-widgets/controls",
      "model_module_version": "2.0.0",
      "model_name": "ProgressStyleModel",
      "state": {
       "description_width": ""
      }
     },
     "b59bc8c7f87343d8a16da8e68eafcc80": {
      "model_module": "@jupyter-widgets/controls",
      "model_module_version": "2.0.0",
      "model_name": "HTMLModel",
      "state": {
       "layout": "IPY_MODEL_b92daedcd7fa46c9b882c82ef5b39c2c",
       "style": "IPY_MODEL_462b285ec39e419c9b82ffcd6cef4b3c",
       "value": " 139/139 [00:17&lt;00:00,  8.16it/s]"
      }
     },
     "b6bed22cb6cb4afea6f95da9d33c42a2": {
      "model_module": "@jupyter-widgets/controls",
      "model_module_version": "2.0.0",
      "model_name": "FloatProgressModel",
      "state": {
       "bar_style": "success",
       "layout": "IPY_MODEL_ef1bdafb3fda451eb454f8bf7f5e58be",
       "max": 1097,
       "style": "IPY_MODEL_b6ff1a35a8b948af90611c975b474380",
       "value": 1097
      }
     },
     "b6ff1a35a8b948af90611c975b474380": {
      "model_module": "@jupyter-widgets/controls",
      "model_module_version": "2.0.0",
      "model_name": "ProgressStyleModel",
      "state": {
       "description_width": ""
      }
     },
     "b92daedcd7fa46c9b882c82ef5b39c2c": {
      "model_module": "@jupyter-widgets/base",
      "model_module_version": "2.0.0",
      "model_name": "LayoutModel",
      "state": {}
     },
     "b9f6c018672b4bccb45d49fff31727b1": {
      "model_module": "@jupyter-widgets/controls",
      "model_module_version": "2.0.0",
      "model_name": "HTMLModel",
      "state": {
       "layout": "IPY_MODEL_cda45f08d8d0412a8c47af3005412fb3",
       "style": "IPY_MODEL_3a8f918184c347d29112e96d39eaaa87",
       "value": " 3/3 [16:47&lt;00:00, 336.64s/it]"
      }
     },
     "baa5c249795a4558a00bcce56a25fd53": {
      "model_module": "@jupyter-widgets/base",
      "model_module_version": "2.0.0",
      "model_name": "LayoutModel",
      "state": {}
     },
     "bc038cedb8594978a8b1268a61265a47": {
      "model_module": "@jupyter-widgets/controls",
      "model_module_version": "2.0.0",
      "model_name": "ProgressStyleModel",
      "state": {
       "description_width": ""
      }
     },
     "bc7529126c454b70afe85c3bd1199823": {
      "model_module": "@jupyter-widgets/controls",
      "model_module_version": "2.0.0",
      "model_name": "HBoxModel",
      "state": {
       "children": [
        "IPY_MODEL_e0ae87258c534ede961d2bdec6d0b0b4",
        "IPY_MODEL_567aa8aba2744004828e1443b22a8a00",
        "IPY_MODEL_b59bc8c7f87343d8a16da8e68eafcc80"
       ],
       "layout": "IPY_MODEL_8b54f23412f64ee3bafa4ec26a262b77"
      }
     },
     "bed438d5bcfb4aec89692b70edc5ca30": {
      "model_module": "@jupyter-widgets/controls",
      "model_module_version": "2.0.0",
      "model_name": "ProgressStyleModel",
      "state": {
       "description_width": ""
      }
     },
     "bf49d3f3309b4b2d9eac67761be279e6": {
      "model_module": "@jupyter-widgets/controls",
      "model_module_version": "2.0.0",
      "model_name": "HTMLStyleModel",
      "state": {
       "description_width": "",
       "font_size": null,
       "text_color": null
      }
     },
     "bf8a0a6c7b044322be40c63170ce7112": {
      "model_module": "@jupyter-widgets/controls",
      "model_module_version": "2.0.0",
      "model_name": "HTMLStyleModel",
      "state": {
       "description_width": "",
       "font_size": null,
       "text_color": null
      }
     },
     "c21e40b42e1b4dfa9050f39fc46b64f8": {
      "model_module": "@jupyter-widgets/controls",
      "model_module_version": "2.0.0",
      "model_name": "HTMLStyleModel",
      "state": {
       "description_width": "",
       "font_size": null,
       "text_color": null
      }
     },
     "c81d539785d242deb222a49e3c9bd9d3": {
      "model_module": "@jupyter-widgets/controls",
      "model_module_version": "2.0.0",
      "model_name": "HTMLStyleModel",
      "state": {
       "description_width": "",
       "font_size": null,
       "text_color": null
      }
     },
     "cda45f08d8d0412a8c47af3005412fb3": {
      "model_module": "@jupyter-widgets/base",
      "model_module_version": "2.0.0",
      "model_name": "LayoutModel",
      "state": {}
     },
     "cee0913f499f4947b2ea00ce2d7fd049": {
      "model_module": "@jupyter-widgets/base",
      "model_module_version": "2.0.0",
      "model_name": "LayoutModel",
      "state": {}
     },
     "d077945d638142f3a7f904756ada1ecb": {
      "model_module": "@jupyter-widgets/controls",
      "model_module_version": "2.0.0",
      "model_name": "HTMLStyleModel",
      "state": {
       "description_width": "",
       "font_size": null,
       "text_color": null
      }
     },
     "d239264ea714412e94c9b0cb6405a27c": {
      "model_module": "@jupyter-widgets/base",
      "model_module_version": "2.0.0",
      "model_name": "LayoutModel",
      "state": {}
     },
     "d5f267e64b70458a96a6321cce1d2ba2": {
      "model_module": "@jupyter-widgets/controls",
      "model_module_version": "2.0.0",
      "model_name": "FloatProgressModel",
      "state": {
       "bar_style": "success",
       "layout": "IPY_MODEL_2b3f4e67ba7c459d94f51ce73b5a7383",
       "max": 1425,
       "style": "IPY_MODEL_7c6d16dd945a4e1a8470b14d47e8111d",
       "value": 1425
      }
     },
     "da9b5f20c4cf4427b013c2b4cddd446d": {
      "model_module": "@jupyter-widgets/controls",
      "model_module_version": "2.0.0",
      "model_name": "ProgressStyleModel",
      "state": {
       "description_width": ""
      }
     },
     "dc56f273d1664702bab549b60604e6af": {
      "model_module": "@jupyter-widgets/base",
      "model_module_version": "2.0.0",
      "model_name": "LayoutModel",
      "state": {}
     },
     "dcb64bd2e21748a08bf30d9ba137b98b": {
      "model_module": "@jupyter-widgets/controls",
      "model_module_version": "2.0.0",
      "model_name": "HTMLStyleModel",
      "state": {
       "description_width": "",
       "font_size": null,
       "text_color": null
      }
     },
     "dd74ad9ffa224bdb909067c30e3475da": {
      "model_module": "@jupyter-widgets/controls",
      "model_module_version": "2.0.0",
      "model_name": "HTMLStyleModel",
      "state": {
       "description_width": "",
       "font_size": null,
       "text_color": null
      }
     },
     "e0ae87258c534ede961d2bdec6d0b0b4": {
      "model_module": "@jupyter-widgets/controls",
      "model_module_version": "2.0.0",
      "model_name": "HTMLModel",
      "state": {
       "layout": "IPY_MODEL_2ca1e7bfd2234a6fb5412fccc219bbb5",
       "style": "IPY_MODEL_048a7e4c66af4621958dccded362a07b",
       "value": "100%"
      }
     },
     "e38a00dcaf144e60ac6c32030dd0e017": {
      "model_module": "@jupyter-widgets/controls",
      "model_module_version": "2.0.0",
      "model_name": "ProgressStyleModel",
      "state": {
       "description_width": ""
      }
     },
     "e4c9739e7fbb406e990622dbf0302229": {
      "model_module": "@jupyter-widgets/controls",
      "model_module_version": "2.0.0",
      "model_name": "HTMLModel",
      "state": {
       "layout": "IPY_MODEL_146bef1b968c4f8e972f8d52c1aeffbb",
       "style": "IPY_MODEL_0888e5b0b6904e4a9b03b29b96209ed4",
       "value": "100%"
      }
     },
     "e7350f0d40d0427d8e83de0d57fdad8f": {
      "model_module": "@jupyter-widgets/base",
      "model_module_version": "2.0.0",
      "model_name": "LayoutModel",
      "state": {}
     },
     "e8635f08d4214bd78903cc5c95ba6d71": {
      "model_module": "@jupyter-widgets/controls",
      "model_module_version": "2.0.0",
      "model_name": "HTMLStyleModel",
      "state": {
       "description_width": "",
       "font_size": null,
       "text_color": null
      }
     },
     "ea2eed482df1429dbb654589731635a5": {
      "model_module": "@jupyter-widgets/controls",
      "model_module_version": "2.0.0",
      "model_name": "HTMLModel",
      "state": {
       "layout": "IPY_MODEL_dc56f273d1664702bab549b60604e6af",
       "style": "IPY_MODEL_502173818d78408583b05a580735a84f",
       "value": " 1425/1425 [02:57&lt;00:00,  8.13it/s]"
      }
     },
     "edfd55eb7bee486cb1b47d1c15cf6152": {
      "model_module": "@jupyter-widgets/controls",
      "model_module_version": "2.0.0",
      "model_name": "HTMLModel",
      "state": {
       "layout": "IPY_MODEL_0c1ea9b929fe4ba392a364a0d2aa622c",
       "style": "IPY_MODEL_4c65e002ccd74e1fbe6a53bcf1034d9c",
       "value": "100%"
      }
     },
     "ef1bdafb3fda451eb454f8bf7f5e58be": {
      "model_module": "@jupyter-widgets/base",
      "model_module_version": "2.0.0",
      "model_name": "LayoutModel",
      "state": {}
     },
     "f09c3d09d6e84bd2800c5ad1204250f8": {
      "model_module": "@jupyter-widgets/base",
      "model_module_version": "2.0.0",
      "model_name": "LayoutModel",
      "state": {}
     },
     "f2ac8c7398f648c7838e475cd6984fe6": {
      "model_module": "@jupyter-widgets/base",
      "model_module_version": "2.0.0",
      "model_name": "LayoutModel",
      "state": {}
     },
     "f3b2fd41387643c9b87e4a0921e7c44f": {
      "model_module": "@jupyter-widgets/controls",
      "model_module_version": "2.0.0",
      "model_name": "HTMLModel",
      "state": {
       "layout": "IPY_MODEL_cee0913f499f4947b2ea00ce2d7fd049",
       "style": "IPY_MODEL_d077945d638142f3a7f904756ada1ecb",
       "value": "100%"
      }
     },
     "fa7c787fcaf248c39b95737bb486160a": {
      "model_module": "@jupyter-widgets/controls",
      "model_module_version": "2.0.0",
      "model_name": "HTMLModel",
      "state": {
       "layout": "IPY_MODEL_baa5c249795a4558a00bcce56a25fd53",
       "style": "IPY_MODEL_1327e81efbbf4183b626ef9424e6a52e",
       "value": " 707/707 [01:28&lt;00:00,  8.07it/s]"
      }
     },
     "fb59dec1f8e7470aa458f5bb2cb6efec": {
      "model_module": "@jupyter-widgets/controls",
      "model_module_version": "2.0.0",
      "model_name": "HBoxModel",
      "state": {
       "children": [
        "IPY_MODEL_f3b2fd41387643c9b87e4a0921e7c44f",
        "IPY_MODEL_7ff48b6684e24e20954afe06683219d6",
        "IPY_MODEL_fa7c787fcaf248c39b95737bb486160a"
       ],
       "layout": "IPY_MODEL_31c436247c6f482992dd9999c266e843"
      }
     },
     "fb6ce4de9cbb47fc85cf121aadfd0ebd": {
      "model_module": "@jupyter-widgets/base",
      "model_module_version": "2.0.0",
      "model_name": "LayoutModel",
      "state": {}
     },
     "fb72fdc7a9564811b80aefa1fad990b0": {
      "model_module": "@jupyter-widgets/base",
      "model_module_version": "2.0.0",
      "model_name": "LayoutModel",
      "state": {}
     },
     "fcb2839fa75c4bf1879e5a344998d8bb": {
      "model_module": "@jupyter-widgets/controls",
      "model_module_version": "2.0.0",
      "model_name": "HBoxModel",
      "state": {
       "children": [
        "IPY_MODEL_52dbf094546847dfb0b3d10792662ad1",
        "IPY_MODEL_b3e89932159048d284afdae7dbea8cee",
        "IPY_MODEL_97ca011566454299b9d7223c643a85fe"
       ],
       "layout": "IPY_MODEL_7148343831944e41b468a2ca2235e4a7"
      }
     },
     "fe6564e96a3946d6ae401ddb4a20cdbf": {
      "model_module": "@jupyter-widgets/base",
      "model_module_version": "2.0.0",
      "model_name": "LayoutModel",
      "state": {}
     }
    },
    "version_major": 2,
    "version_minor": 0
   }
  }
 },
 "nbformat": 4,
 "nbformat_minor": 4
}
