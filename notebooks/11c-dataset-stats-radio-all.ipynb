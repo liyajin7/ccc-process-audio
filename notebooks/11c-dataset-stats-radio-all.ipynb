{
 "cells": [
  {
   "cell_type": "code",
   "execution_count": null,
   "metadata": {
    "execution": {
     "iopub.execute_input": "2023-11-06T19:55:00.606675Z",
     "iopub.status.busy": "2023-11-06T19:55:00.606306Z",
     "iopub.status.idle": "2023-11-06T19:55:01.702672Z",
     "shell.execute_reply": "2023-11-06T19:55:01.701751Z"
    }
   },
   "outputs": [],
   "source": [
    "import os\n",
    "import json\n",
    "import gzip\n",
    "import random\n",
    "import logging\n",
    "\n",
    "import numpy as np\n",
    "\n",
    "from tqdm.notebook import tqdm"
   ]
  },
  {
   "cell_type": "code",
   "execution_count": null,
   "metadata": {
    "execution": {
     "iopub.execute_input": "2023-11-06T19:55:01.708925Z",
     "iopub.status.busy": "2023-11-06T19:55:01.707065Z",
     "iopub.status.idle": "2023-11-06T19:55:01.714884Z",
     "shell.execute_reply": "2023-11-06T19:55:01.713973Z"
    }
   },
   "outputs": [],
   "source": [
    "logger = logging.getLogger(__name__)\n",
    "\n",
    "fmt = '%(asctime)s : %(levelname)s : %(message)s'\n",
    "logging.basicConfig(format=fmt, level=logging.INFO)"
   ]
  },
  {
   "cell_type": "code",
   "execution_count": null,
   "metadata": {
    "execution": {
     "iopub.execute_input": "2023-11-06T19:55:01.722208Z",
     "iopub.status.busy": "2023-11-06T19:55:01.720628Z",
     "iopub.status.idle": "2023-11-06T19:55:01.738871Z",
     "shell.execute_reply": "2023-11-06T19:55:01.738076Z"
    }
   },
   "outputs": [],
   "source": [
    "os.chdir(os.path.expanduser('~/github/masthesis/'))"
   ]
  },
  {
   "cell_type": "code",
   "execution_count": null,
   "metadata": {
    "execution": {
     "iopub.execute_input": "2023-11-06T19:55:01.745419Z",
     "iopub.status.busy": "2023-11-06T19:55:01.745051Z",
     "iopub.status.idle": "2023-11-06T19:55:01.772763Z",
     "shell.execute_reply": "2023-11-06T19:55:01.771824Z"
    }
   },
   "outputs": [],
   "source": [
    "seed = 2969591811\n",
    "\n",
    "random.seed(seed)\n",
    "np.random.seed(seed)"
   ]
  },
  {
   "cell_type": "markdown",
   "metadata": {},
   "source": [
    "# Load data"
   ]
  },
  {
   "cell_type": "code",
   "execution_count": null,
   "metadata": {
    "execution": {
     "iopub.execute_input": "2023-11-06T19:55:01.778041Z",
     "iopub.status.busy": "2023-11-06T19:55:01.777688Z",
     "iopub.status.idle": "2023-11-06T23:45:46.430192Z",
     "shell.execute_reply": "2023-11-06T23:45:46.428992Z"
    }
   },
   "outputs": [],
   "source": [
    "files = ['2019_09', '2019_10', '2020_03', '2020_04', '2021']\n",
    "counts = [36549587, 35202826, 56103001, 58548815, 32164520]\n",
    "\n",
    "tmp = {\n",
    "    'count': 0,\n",
    "    'duration': 0,\n",
    "    'wordcount': 0,\n",
    "    'has_show': 0,\n",
    "    \n",
    "    'stations': set(),\n",
    "    'shows': set(),\n",
    "}\n",
    "\n",
    "with tqdm(total=sum(counts)) as pbar:\n",
    "    for file, count in zip(files, counts):\n",
    "        path = os.path.join('data/raw/radio', f'{file}.json.gz')\n",
    "        \n",
    "        with gzip.open(path, 'rt') as f:\n",
    "            for line in f:\n",
    "                line = json.loads(line)\n",
    "    \n",
    "                tmp['count'] += 1\n",
    "                tmp['duration'] += (line['segment_end_global'] - line['segment_start_global'])\n",
    "                tmp['wordcount'] += len(line['content'].split())\n",
    "                tmp['stations'].add(line['callsign'])\n",
    "    \n",
    "                if 'show_name' in line.keys():\n",
    "                    tmp['has_show'] += 1\n",
    "                    tmp['shows'].add(line['show_name'])\n",
    "\n",
    "                pbar.update(1)\n",
    "\n",
    "tmp['stations'] = len(set(tmp['stations']))\n",
    "tmp['shows'] = len(set(tmp['shows']))\n",
    "tmp['show_frac'] = tmp['has_show'] / tmp['count']"
   ]
  },
  {
   "cell_type": "markdown",
   "metadata": {},
   "source": [
    "# Stats"
   ]
  },
  {
   "cell_type": "code",
   "execution_count": null,
   "metadata": {
    "execution": {
     "iopub.execute_input": "2023-11-06T23:45:46.437983Z",
     "iopub.status.busy": "2023-11-06T23:45:46.436283Z",
     "iopub.status.idle": "2023-11-06T23:45:46.449681Z",
     "shell.execute_reply": "2023-11-06T23:45:46.448892Z"
    }
   },
   "outputs": [],
   "source": [
    "tmp"
   ]
  },
  {
   "cell_type": "code",
   "execution_count": null,
   "metadata": {},
   "outputs": [],
   "source": []
  }
 ],
 "metadata": {
  "kernelspec": {
   "display_name": "DL",
   "language": "python",
   "name": "dl"
  },
  "language_info": {
   "codemirror_mode": {
    "name": "ipython",
    "version": 3
   },
   "file_extension": ".py",
   "mimetype": "text/x-python",
   "name": "python",
   "nbconvert_exporter": "python",
   "pygments_lexer": "ipython3",
   "version": "3.10.10"
  },
  "widgets": {
   "application/vnd.jupyter.widget-state+json": {
    "state": {},
    "version_major": 2,
    "version_minor": 0
   }
  }
 },
 "nbformat": 4,
 "nbformat_minor": 4
}
